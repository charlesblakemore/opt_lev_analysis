{
 "metadata": {
  "name": ""
 },
 "nbformat": 3,
 "nbformat_minor": 0,
 "worksheets": [
  {
   "cells": [
    {
     "cell_type": "code",
     "collapsed": false,
     "input": [
      "import numpy as np\n",
      "#import grav_util_2 as gu2"
     ],
     "language": "python",
     "metadata": {},
     "outputs": [],
     "prompt_number": 1
    },
    {
     "cell_type": "code",
     "collapsed": false,
     "input": [
      "#import grav_util_2 as gu2\n",
      "reload(gu2)"
     ],
     "language": "python",
     "metadata": {},
     "outputs": [
      {
       "metadata": {},
       "output_type": "pyout",
       "prompt_number": 36,
       "text": [
        "<module 'grav_util_2' from '/home/arider/opt_lev_analysis/scripts/grav_util_2.py'>"
       ]
      }
     ],
     "prompt_number": 36
    },
    {
     "cell_type": "code",
     "collapsed": false,
     "input": [
      "import matplotlib.pyplot as plt\n",
      "import pandas as pd"
     ],
     "language": "python",
     "metadata": {},
     "outputs": [],
     "prompt_number": 2
    },
    {
     "cell_type": "code",
     "collapsed": false,
     "input": [
      "t1 = np.arange(10)%2 == 0\n",
      "t2 = np.arange(0, 1, 0.1)\n",
      "t3 = np.sin(np.linspace(0, 2.*np.pi, 10))\n",
      "temps = np.vstack([t1, t2, t3])"
     ],
     "language": "python",
     "metadata": {},
     "outputs": [],
     "prompt_number": 6
    },
    {
     "cell_type": "code",
     "collapsed": false,
     "input": [
      "plt.plot(t1, 'o', label = \"template 1\")\n",
      "plt.plot(t2, 'o', label = \"template 2\")\n",
      "plt.plot(t3, 'o', label = \"template 3\")\n",
      "plt.legend()\n",
      "plt.show()"
     ],
     "language": "python",
     "metadata": {},
     "outputs": [],
     "prompt_number": 4
    },
    {
     "cell_type": "code",
     "collapsed": false,
     "input": [
      "def sim(arr, sig, nt = 3):\n",
      "    return np.einsum('i, ij->j', arr, temps[:nt]) + sig*np.random.randn(len(temps[0]))"
     ],
     "language": "python",
     "metadata": {},
     "outputs": [],
     "prompt_number": 7
    },
    {
     "cell_type": "code",
     "collapsed": false,
     "input": [
      "dat1 = sim([1, 1, 0], 1)\n",
      "dat2 = sim([0, 1, 1], 1)\n",
      "dat3 = sim([1, 0, 1], 1)\n",
      "plt.plot(dat1-t1-t2, 'o')\n",
      "plt.plot(dat2-t2-t3, 'o')\n",
      "plt.plot(dat3-t1-t3, 'o')\n",
      "plt.show()"
     ],
     "language": "python",
     "metadata": {},
     "outputs": [],
     "prompt_number": 8
    },
    {
     "cell_type": "code",
     "collapsed": false,
     "input": [
      "def test_fit(arr, sig):\n",
      "    nt = len(arr)\n",
      "    dat = sim(arr, sig, nt = nt)\n",
      "    xs, cov, success = gu2.fit_templates(temps[:nt], dat, sig*np.ones(len(temps[0])))\n",
      "    return np.array([xs, np.sqrt(np.diag(cov)), success])\n",
      "columns = [\"xs\", \"np.sqrt(np.diag(cov))\", \"success\"]"
     ],
     "language": "python",
     "metadata": {},
     "outputs": [],
     "prompt_number": 41
    },
    {
     "cell_type": "code",
     "collapsed": false,
     "input": [
      "out_arr = []\n",
      "for i in range(10000):\n",
      "    a =  test_fit([1, 2, 3], 1)\n",
      "    out_arr.append(a)"
     ],
     "language": "python",
     "metadata": {},
     "outputs": [],
     "prompt_number": 45
    },
    {
     "cell_type": "code",
     "collapsed": false,
     "input": [
      "df = pd.DataFrame(out_arr, columns = columns)\n"
     ],
     "language": "python",
     "metadata": {},
     "outputs": [],
     "prompt_number": 48
    },
    {
     "cell_type": "code",
     "collapsed": false,
     "input": [
      "x1 = df[\"xs\"].apply(lambda ite: ite[0])\n",
      "x2 = df[\"xs\"].apply(lambda ite: ite[1])\n",
      "x3 = df[\"xs\"].apply(lambda ite: ite[2])\n",
      "\n",
      "plt.hist(x1, bins = 100, label = \"coef 1; std = \"+str(np.std(x1)))\n",
      "plt.hist(x2, bins = 100, label = \"coef 2; std = \"+str(np.std(x2)))\n",
      "plt.hist(x3, bins = 100, label = \"coef 3; std = \"+str(np.std(x3)))\n",
      "plt.legend()\n",
      "plt.show()"
     ],
     "language": "python",
     "metadata": {},
     "outputs": [],
     "prompt_number": 63
    },
    {
     "cell_type": "code",
     "collapsed": false,
     "input": [
      "sx1 = df[\"np.sqrt(np.diag(cov))\"].apply(lambda ite: ite[0])\n",
      "sx2 = df[\"np.sqrt(np.diag(cov))\"].apply(lambda ite: ite[1])\n",
      "sx3 = df[\"np.sqrt(np.diag(cov))\"].apply(lambda ite: ite[2])\n",
      "f, axarr = plt.subplots(3, 1, sharey = True)\n",
      "axarr[0].hist(sx1, bins = 100, label = \"coef1 sigma  = \"+str(np.mean(sx1)), color = 'C0')\n",
      "axarr[0].legend()\n",
      "axarr[1].hist(sx2, bins = 100, label = \"coef2 sigma  = \"+str(np.mean(sx2)), color = 'C1')\n",
      "axarr[1].legend()\n",
      "axarr[2].hist(sx3, bins = 100, label = \"coef3 sigma  = \"+str(np.mean(sx3)), color = 'C2')\n",
      "axarr[2].legend()\n",
      "plt.show()"
     ],
     "language": "python",
     "metadata": {},
     "outputs": [],
     "prompt_number": 64
    },
    {
     "cell_type": "code",
     "collapsed": false,
     "input": [
      "def NLL1(arr, templates, data, weights):\n",
      "    return (1./2.)*np.sum((np.einsum('i, ij->j', arr, templates) - data)**2/weights**2)\n"
     ],
     "language": "python",
     "metadata": {},
     "outputs": [],
     "prompt_number": 31
    },
    {
     "cell_type": "code",
     "collapsed": false,
     "input": [
      "def NLL2(arr, templates, data, weights):\n",
      "        return (1./2.)*np.sum((arr[0]*templates[0] + arr[1]*templates[1] - data)**2/weights**2)\n"
     ],
     "language": "python",
     "metadata": {},
     "outputs": [],
     "prompt_number": 32
    }
   ],
   "metadata": {}
  }
 ]
}