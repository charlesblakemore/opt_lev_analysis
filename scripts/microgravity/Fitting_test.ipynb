{
 "metadata": {
  "name": ""
 },
 "nbformat": 3,
 "nbformat_minor": 0,
 "worksheets": [
  {
   "cells": [
    {
     "cell_type": "code",
     "collapsed": false,
     "input": [
      "import grav_util_2 as gu2\n",
      "import matplotlib.pyplot as plt\n",
      "import numpy as np\n",
      "import scipy\n",
      "import sys\n",
      "import time\n",
      "import pandas as pd"
     ],
     "language": "python",
     "metadata": {},
     "outputs": [],
     "prompt_number": 167
    },
    {
     "cell_type": "code",
     "collapsed": false,
     "input": [
      "t1 = np.arange(0, 1, 0.05)\n",
      "t2 = -1.*t1 + 1\n",
      "plt.plot(t1, 'o')\n",
      "plt.plot(t2, 'o')\n",
      "plt.show()"
     ],
     "language": "python",
     "metadata": {},
     "outputs": [],
     "prompt_number": 277
    },
    {
     "cell_type": "code",
     "collapsed": false,
     "input": [
      "def real(a, b):\n",
      "    sig = 2\n",
      "    n = len(t1)\n",
      "    varr = np.ones_like(t1)*sig\n",
      "    dat = a*t1 + b*t2 + varr*np.random.randn(n)\n",
      "    def J(arr):\n",
      "        return (1./2.)*np.sum(((arr[0]*t1 + arr[1]*t2) - dat)**2/(varr)**2)\n",
      "    res = scipy.optimize.minimize(J, [1,3], method = \"BFGS\")\n",
      "    return pd.Series(np.hstack([res.x, np.sqrt(np.diag(res.hess_inv)), res.success, res.fun]), index = [\"x1\", \"x2\", \"sx1\", \"sx2\", \"success\", \"fun\"])"
     ],
     "language": "python",
     "metadata": {},
     "outputs": [],
     "prompt_number": 285
    },
    {
     "cell_type": "code",
     "collapsed": false,
     "input": [
      "reler = lambda i: real(1, 1)"
     ],
     "language": "python",
     "metadata": {},
     "outputs": [],
     "prompt_number": 286
    },
    {
     "cell_type": "code",
     "collapsed": false,
     "input": [
      "xsigs = pd.DataFrame(np.array(map(reler, range(10000))), columns = [\"x1\", \"x2\", \"sx1\", \"sx2\", \"success\", \"minchisq\"])"
     ],
     "language": "python",
     "metadata": {},
     "outputs": [],
     "prompt_number": 287
    },
    {
     "cell_type": "code",
     "collapsed": false,
     "input": [
      "xsigs[\"x1\"].std()"
     ],
     "language": "python",
     "metadata": {},
     "outputs": [
      {
       "metadata": {},
       "output_type": "pyout",
       "prompt_number": 288,
       "text": [
        "0.9294139553208045"
       ]
      }
     ],
     "prompt_number": 288
    },
    {
     "cell_type": "code",
     "collapsed": false,
     "input": [
      "b = xsigs[\"success\"]\n",
      "mx1 = xsigs[\"x1\"][b==True].mean()\n",
      "mx2 = xsigs[\"x2\"][b==True].mean()\n",
      "sx1 = xsigs[\"x1\"][b==True].std()\n",
      "sx2 = xsigs[\"x2\"][b==True].std()\n",
      "esx1 = xsigs[\"sx1\"][b==True].mean()\n",
      "esx2 = xsigs[\"sx2\"][b==True].mean()\n",
      "funs = xsigs[\"minchisq\"]"
     ],
     "language": "python",
     "metadata": {},
     "outputs": [],
     "prompt_number": 290
    },
    {
     "cell_type": "code",
     "collapsed": false,
     "input": [
      "np.sum(b)"
     ],
     "language": "python",
     "metadata": {},
     "outputs": [
      {
       "metadata": {},
       "output_type": "pyout",
       "prompt_number": 291,
       "text": [
        "10000.0"
       ]
      }
     ],
     "prompt_number": 291
    },
    {
     "cell_type": "code",
     "collapsed": false,
     "input": [
      "sx1/esx1"
     ],
     "language": "python",
     "metadata": {},
     "outputs": [
      {
       "metadata": {},
       "output_type": "pyout",
       "prompt_number": 292,
       "text": [
        "1.0007007303330095"
       ]
      }
     ],
     "prompt_number": 292
    },
    {
     "cell_type": "code",
     "collapsed": false,
     "input": [
      "sx2/esx2"
     ],
     "language": "python",
     "metadata": {},
     "outputs": [
      {
       "metadata": {},
       "output_type": "pyout",
       "prompt_number": 293,
       "text": [
        "1.003232507113024"
       ]
      }
     ],
     "prompt_number": 293
    },
    {
     "cell_type": "code",
     "collapsed": false,
     "input": [
      "plt.hist(xsigs[\"x1\"][b==True], bins = 50)\n",
      "plt.hist(xsigs[\"x2\"][b==True], bins = 50)\n",
      "plt.show()\n"
     ],
     "language": "python",
     "metadata": {},
     "outputs": [],
     "prompt_number": 262
    },
    {
     "cell_type": "code",
     "collapsed": false,
     "input": [
      "arr1 = [1, 2, 3]\n",
      "arr2 = [[1, 2], [3, 4], [5, 6]]\n",
      "np.einsum('i, ij->ij', arr1, arr2)"
     ],
     "language": "python",
     "metadata": {},
     "outputs": [
      {
       "metadata": {},
       "output_type": "pyout",
       "prompt_number": 266,
       "text": [
        "array([[ 1,  2],\n",
        "       [ 6,  8],\n",
        "       [15, 18]])"
       ]
      }
     ],
     "prompt_number": 266
    },
    {
     "cell_type": "code",
     "collapsed": false,
     "input": [
      "dat = np.arange(10)\n",
      "t1 = np.arange(10)\n",
      "t2 = np.arange(10)\n",
      "varr = np.ones_like(t1)\n",
      "temps = np.vstack([t1, t2])\n",
      "def J(arr):\n",
      "        return (1./2.)*np.sum((np.einsum('i, ij->ij', arr, temps) - dat)**2/(varr)**2)"
     ],
     "language": "python",
     "metadata": {},
     "outputs": [],
     "prompt_number": 295
    },
    {
     "cell_type": "code",
     "collapsed": false,
     "input": [
      "res"
     ],
     "language": "python",
     "metadata": {},
     "outputs": [
      {
       "metadata": {},
       "output_type": "pyout",
       "prompt_number": 299,
       "text": [
        "      fun: 1827.5453267021223\n",
        " hess_inv: array([[ 1.14797661e-04, -1.64456433e-05],\n",
        "       [-1.64456433e-05,  2.89535092e-05]])\n",
        "      jac: array([1.52587891e-05, 1.52587891e-05])\n",
        "  message: 'Desired error not necessarily achieved due to precision loss.'\n",
        "     nfev: 45\n",
        "      nit: 7\n",
        "     njev: 11\n",
        "   status: 2\n",
        "  success: False\n",
        "        x: array([1.14448752, 0.68152742])"
       ]
      }
     ],
     "prompt_number": 299
    },
    {
     "cell_type": "code",
     "collapsed": false,
     "input": [],
     "language": "python",
     "metadata": {},
     "outputs": []
    }
   ],
   "metadata": {}
  }
 ]
}