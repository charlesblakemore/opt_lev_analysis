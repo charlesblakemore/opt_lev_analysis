{
 "metadata": {
  "name": ""
 },
 "nbformat": 3,
 "nbformat_minor": 0,
 "worksheets": [
  {
   "cells": [
    {
     "cell_type": "code",
     "collapsed": false,
     "input": [
      "#import build_yukfuncs\n",
      "import numpy as np\n",
      "import matplotlib.pyplot as plt\n",
      "import matplotlib"
     ],
     "language": "python",
     "metadata": {},
     "outputs": [],
     "prompt_number": 1
    },
    {
     "cell_type": "code",
     "collapsed": false,
     "input": [
      "run build_yukfuncs.py\n"
     ],
     "language": "python",
     "metadata": {},
     "outputs": [],
     "prompt_number": 2
    },
    {
     "cell_type": "code",
     "collapsed": false,
     "input": [
      "from scipy.optimize import curve_fit"
     ],
     "language": "python",
     "metadata": {},
     "outputs": [],
     "prompt_number": 3
    },
    {
     "cell_type": "code",
     "collapsed": false,
     "input": [
      "z = np.zeros(1000)\n",
      "y = np.zeros(1000)\n",
      "x = np.linspace(5e-6, 5e-5, 1000)\n",
      "pts = ptarr(x, y, z)"
     ],
     "language": "python",
     "metadata": {},
     "outputs": [],
     "prompt_number": 4
    },
    {
     "cell_type": "code",
     "collapsed": false,
     "input": [
      "li = np.argmin(np.abs(lambdas - 25E-6))\n",
      "yf = yukfuncs[0][48]\n",
      "fx = yf(pts)"
     ],
     "language": "python",
     "metadata": {},
     "outputs": [],
     "prompt_number": 5
    },
    {
     "cell_type": "code",
     "collapsed": false,
     "input": [
      "def ffun(x, a, b, c, d):\n",
      "    return a*np.exp(-x/(d))/(b*x + c)\n",
      "\n",
      "popt, pcov = curve_fit(ffun, x, fx, p0 = [10.**-24, 1., 0., 25E-6])\n",
      "\n",
      "plt.plot(x, fx)\n",
      "plt.plot(x, ffun(x, *popt))\n",
      "plt.show()"
     ],
     "language": "python",
     "metadata": {},
     "outputs": [],
     "prompt_number": 6
    },
    {
     "cell_type": "code",
     "collapsed": false,
     "input": [
      "fx2 = ffun(x, *popt)"
     ],
     "language": "python",
     "metadata": {},
     "outputs": [],
     "prompt_number": 7
    },
    {
     "cell_type": "code",
     "collapsed": false,
     "input": [
      "matplotlib.rcParams.update({'font.size':14, 'font.weight':'bold'})\n",
      "fig, ax1 = plt.subplots(dpi = 200)\n",
      "ax1.plot(x*10**6, fx2, linewidth = 5)\n",
      "ax1.set_xlabel(r\"Separation [$\\mu$m]\", fontweight = 'bold')\n",
      "ax1.set_ylabel(r\"Force [N/$\\alpha$]\", fontweight = 'bold')\n",
      "fig.tight_layout()\n",
      "plt.savefig(\"Ykawa_force.png\")\n",
      "plt.show()"
     ],
     "language": "python",
     "metadata": {},
     "outputs": [],
     "prompt_number": 8
    },
    {
     "cell_type": "code",
     "collapsed": false,
     "input": [
      "plt.plot(x*10**6, np.gradient(fx2)/np.gradient(x))\n",
      "plt.xlabel(r\"separation [$\\mu$m]\")\n",
      "plt.ylabel(\"force gradient[N/m]\")\n",
      "plt.show()"
     ],
     "language": "python",
     "metadata": {},
     "outputs": [],
     "prompt_number": 9
    },
    {
     "cell_type": "code",
     "collapsed": false,
     "input": [
      "matplotlib.rcParams.update({'font.size':14, 'font.weight':'bold'})\n",
      "fg = np.gradient(fx2)/np.gradient(x)\n",
      "dw = fg/(2*10**-13*10**3)\n",
      "fig, [ax1, ax2] = plt.subplots(2, 1, sharex = True)\n",
      "ax2.plot(x*10**6, dw, linewidth = 5)\n",
      "ax2.set_yticks(np.linspace(0, 1.5e-9, 3))\n",
      "ax2.set_xlabel(r\"Separation [$\\mu$m]\", fontweight = 'bold')\n",
      "ax2.set_ylabel(r\"Shift [Hz/$\\alpha$]\", fontweight = 'bold')\n",
      "\n",
      "ax3 = ax2.twinx()\n",
      "ax3.plot(x*10**6, fg)\n",
      "ax3.set_ylabel(r\"Gradient [N/m$\\alpha$]\", fontweight = 'bold')\n",
      "ax3.set_yticks(np.linspace(0, 3e-19, 3))\n",
      "\n",
      "\n",
      "ax1.plot(x*10**6, fx2, linewidth = 5)\n",
      "#ax1.set_xlabel(r\"separation [$\\mu$m]\", fontweight = 'bold')\n",
      "ax1.set_ylabel(r\"Force [N/$\\alpha$]\", fontweight = 'bold')\n",
      "\n",
      "fig.tight_layout()\n",
      "plt.savefig(\"res_freq_shift.png\")\n",
      "plt.show()"
     ],
     "language": "python",
     "metadata": {},
     "outputs": [],
     "prompt_number": 10
    },
    {
     "cell_type": "code",
     "collapsed": false,
     "input": [
      "def ffun(x, a, b, c, d):\n",
      "    return a*np.exp(-x/(d))/(b*x + c)"
     ],
     "language": "python",
     "metadata": {},
     "outputs": [],
     "prompt_number": 11
    },
    {
     "cell_type": "code",
     "collapsed": false,
     "input": [
      "yf = yukfuncs[0][0]\n",
      "fx = yf(pts)\n",
      "wi = max(fx)\n",
      "popt, pcov = curve_fit(ffun, x, fx, p0 = [-10**-24, 1., 0., lambdas[0]])\n",
      "plt.plot(x, fx, 'o')\n",
      "plt.plot(x, ffun(x, *popt), 'o')\n",
      "plt.show()"
     ],
     "language": "python",
     "metadata": {},
     "outputs": [],
     "prompt_number": 12
    },
    {
     "cell_type": "code",
     "collapsed": false,
     "input": [
      "fgs = []\n",
      "popti = popt\n",
      "dind = np.argmin(np.abs(15E-6-x))\n",
      "\n",
      "for i, l in enumerate(lambdas):\n",
      "    yf = yukfuncs[0][i]\n",
      "    fx = yf(pts)\n",
      "    wi = min(fx)\n",
      "    popt, pcov = curve_fit(ffun, x, fx, p0 = [wi, 1., 0., lambdas[0]])\n",
      "    popti = popt\n",
      "    fg = np.gradient(ffun(x, *popt))/np.gradient(x)\n",
      "    fgs.append(fg[dind])\n",
      "    #plt.plot(x, fx)\n",
      "    plt.plot(x, ffun(x, *popt)-fx, 'o')\n",
      "    plt.show()"
     ],
     "language": "python",
     "metadata": {},
     "outputs": [],
     "prompt_number": 27
    },
    {
     "cell_type": "code",
     "collapsed": false,
     "input": [
      "fgs_10um"
     ],
     "language": "python",
     "metadata": {},
     "outputs": [
      {
       "metadata": {},
       "output_type": "pyout",
       "prompt_number": 28,
       "text": [
        "[1.5000326105894497e-19,\n",
        " 1.500817949207482e-19,\n",
        " 1.6373055382772483e-19,\n",
        " 1.5027605871197768e-19,\n",
        " 1.5039536183449404e-19,\n",
        " 1.6380230469784293e-19,\n",
        " 1.5068898144719598e-19,\n",
        " 1.508683436575059e-19,\n",
        " 1.5107325778103238e-19,\n",
        " 1.5130700489654647e-19,\n",
        " 1.5157321146208053e-19,\n",
        " 1.5187584143703477e-19,\n",
        " 1.5221923248658245e-19,\n",
        " 1.5260808319554761e-19,\n",
        " 1.5304745142123529e-19,\n",
        " 1.5354273782382968e-19,\n",
        " 1.5409965039090661e-19,\n",
        " 1.5472415435611853e-19,\n",
        " 1.5542240579292302e-19,\n",
        " 1.5620063728819142e-19,\n",
        " 1.5706503815039087e-19,\n",
        " 1.5802157513182908e-19,\n",
        " 1.5907578122440698e-19,\n",
        " 1.6023248190195833e-19,\n",
        " 1.6149547946462966e-19,\n",
        " 1.628671554090516e-19,\n",
        " 1.643480168267629e-19,\n",
        " 1.6593617195781307e-19,\n",
        " 1.6762672439756845e-19,\n",
        " 1.6941108877121438e-19,\n",
        " 1.7127630017676655e-19,\n",
        " 1.7320423369720345e-19,\n",
        " 1.7517077022362912e-19,\n",
        " 1.7714520857889896e-19,\n",
        " 1.79089474775249e-19,\n",
        " 1.8095772760642705e-19,\n",
        " 1.8269613513946263e-19,\n",
        " 1.8424303398228955e-19,\n",
        " 1.8552956403484766e-19,\n",
        " 1.8648088159159724e-19,\n",
        " 1.6700150239070843e-19,\n",
        " 1.870604332445691e-19,\n",
        " 1.8652928749572825e-19,\n",
        " 1.8535115302408367e-19,\n",
        " 1.8346213970948498e-19,\n",
        " 1.8081210743299643e-19,\n",
        " 1.773684323140701e-19,\n",
        " 1.731191291522666e-19,\n",
        " 1.6807482270423363e-19,\n",
        " 1.6226935081555034e-19,\n",
        " 1.5575880094486455e-19,\n",
        " 1.486190207438606e-19,\n",
        " 1.4094204448925784e-19,\n",
        " 1.3283145668831476e-19,\n",
        " 1.243975295643995e-19,\n",
        " 1.1575246235926925e-19,\n",
        " 1.070061556547494e-19,\n",
        " 9.826284856827842e-20,\n",
        " 1.0746361563244335e-19,\n",
        " 8.116038736668647e-20,\n",
        " 7.296434675547512e-20,\n",
        " 6.509681799792102e-20,\n",
        " 8.043497011167458e-20,\n",
        " 5.056247358048437e-20,\n",
        " 4.3979570426888526e-20,\n",
        " 3.7893574860644595e-20,\n",
        " 3.2323821819392794e-20,\n",
        " 2.72807539703349e-20,\n",
        " 2.2765929357405278e-20,\n",
        " 1.8772188422105103e-20,\n",
        " 1.528401496258213e-20,\n",
        " 1.2278153085598793e-20,\n",
        " 1.8535347310671984e-20,\n",
        " 7.587583052390853e-21,\n",
        " 1.1341317838736806e-20,\n",
        " 4.4017302711673914e-21,\n",
        " 6.321459742244071e-21,\n",
        " 2.3806369835369904e-21,\n",
        " 1.7014527926134686e-21,\n",
        " 2.1439937390360077e-21,\n",
        " 8.169397052814394e-22,\n",
        " 5.477531628464775e-22,\n",
        " 3.5882379995968163e-22,\n",
        " 2.294303352527333e-22,\n",
        " 1.4304383810468635e-22,\n",
        " 8.687903150944455e-23,\n",
        " 5.1354213033767274e-23,\n",
        " 2.694792963431699e-23,\n",
        " 1.2542491341420862e-23,\n",
        " 5.344421519325543e-24,\n",
        " 4.690681799068124e-24,\n",
        " 2.3864842525115465e-24,\n",
        " 1.7724072130411282e-25,\n",
        " 5.582965351160486e-25,\n",
        " 1.721243380870159e-26,\n",
        " 1.1292644075952286e-25,\n",
        " 4.7849504867540394e-26,\n",
        " 1.9419764144812618e-26,\n",
        " 7.526736829204592e-27,\n",
        " 2.7765180088488038e-27]"
       ]
      }
     ],
     "prompt_number": 28
    },
    {
     "cell_type": "code",
     "collapsed": false,
     "input": [
      "def ffun2(x, a, b, c, d):\n",
      "    return a + -b*np.exp(-(x/c)) + d*x \n",
      "p0 = [-50., 100., 15., 0.]\n",
      "popt, pvoc = curve_fit(ffun2, np.log(lambdas), np.log(np.abs(fgs)), p0 = p0)"
     ],
     "language": "python",
     "metadata": {},
     "outputs": [],
     "prompt_number": 36
    },
    {
     "cell_type": "code",
     "collapsed": false,
     "input": [
      "\n",
      "plt.plot(np.log(lambdas), np.log(np.abs(fgs_10um)), 'o')\n",
      "plt.plot(np.log(lambdas), ffun2(np.log(lambdas), *popt))\n",
      "plt.show()"
     ],
     "language": "python",
     "metadata": {},
     "outputs": [],
     "prompt_number": 37
    },
    {
     "cell_type": "code",
     "collapsed": false,
     "input": [
      "\n",
      "fgs_10um = np.exp(ffun2(np.log(lambdas), *popt))"
     ],
     "language": "python",
     "metadata": {},
     "outputs": [],
     "prompt_number": 35
    },
    {
     "cell_type": "code",
     "collapsed": false,
     "input": [
      "fgs = np.exp(ffun2(np.log(lambdas), *popt))"
     ],
     "language": "python",
     "metadata": {},
     "outputs": [],
     "prompt_number": 38
    },
    {
     "cell_type": "code",
     "collapsed": false,
     "input": [
      "fgs = np.array(fgs)\n",
      "limfreq = (1E-13*1E6*1E-7)/fgs\n",
      "limfreq_10um = (1E-13*1E6*1E-7)/fgs_10um_2\n",
      "plt.loglog(lambdas, limfreq)\n",
      "plt.show()"
     ],
     "language": "python",
     "metadata": {},
     "outputs": [],
     "prompt_number": 31
    },
    {
     "cell_type": "code",
     "collapsed": false,
     "input": [
      "limitdata_path = '/sensitivities/decca1_limits.txt'\n",
      "limitdata = np.loadtxt(limitdata_path, delimiter=',')\n",
      "limitlab = 'No Decca 2'\n",
      "\n",
      "limitdata_path2 = '/sensitivities/decca2_limits.txt'\n",
      "limitdata2 = np.loadtxt(limitdata_path2, delimiter=',')\n",
      "limitlab2 = 'With Decca 2'\n",
      "\n",
      "alpha_plot_lims = (1, 10**13)\n",
      "lambda_plot_lims = (10**(-7), 10**(-4))\n",
      "\n",
      "\n",
      "\n",
      "fig, ax = plt.subplots(1,1,sharex='all',sharey='all',figsize=(5,5),dpi=150)\n",
      "\n",
      "\n",
      "ax.loglog(lambdas, limfreq, '--', \\\n",
      "          label=r\"frequency measurement s=15$\\mu$m $t_{int} = 10^{4}s$\", linewidth=3, color='b')\n",
      "\n",
      "ax.loglog(lambdas, limfreq_10um, '--', \\\n",
      "          label=r\"frequency measurement s=10$\\mu$m $t_{int} = 10^{4}s$\", linewidth=3, color='c')\n",
      "\n",
      "ax.loglog(limitdata[:,0], limitdata[:,1], '--', \\\n",
      "          label=limitlab, linewidth=3, color='r')\n",
      "ax.loglog(limitdata2[:,0], limitdata2[:,1], '--', \\\n",
      "          label=limitlab2, linewidth=3, color='k')\n",
      "ax.grid()\n",
      "\n",
      "#ax.set_xlim(lambda_plot_lims[0], lambda_plot_lims[1])\n",
      "#ax.set_ylim(alpha_plot_lims[0], alpha_plot_lims[1])\n",
      "\n",
      "ax.set_xlabel('$\\lambda$ [m]')\n",
      "ax.set_ylabel('|$\\\\alpha$|')\n",
      "\n",
      "ax.legend(numpoints=1, fontsize=9)\n",
      "\n",
      "#ax.set_title(figtitle)\n",
      "\n",
      "plt.tight_layout()\n",
      "\n",
      "\n",
      "plt.show()\n"
     ],
     "language": "python",
     "metadata": {},
     "outputs": [],
     "prompt_number": 39
    },
    {
     "cell_type": "code",
     "collapsed": false,
     "input": [],
     "language": "python",
     "metadata": {},
     "outputs": []
    }
   ],
   "metadata": {}
  }
 ]
}