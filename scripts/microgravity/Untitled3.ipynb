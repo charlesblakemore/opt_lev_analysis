{
 "metadata": {
  "name": ""
 },
 "nbformat": 3,
 "nbformat_minor": 0,
 "worksheets": [
  {
   "cells": [
    {
     "cell_type": "code",
     "collapsed": false,
     "input": [
      "run grav_class_test.py\n"
     ],
     "language": "python",
     "metadata": {},
     "outputs": [
      {
       "output_type": "stream",
       "stream": "stdout",
       "text": [
        "[----------------------------------]   0.0% ... 80 / 81 position combinations\r"
       ]
      },
      {
       "output_type": "stream",
       "stream": "stdout",
       "text": [
        "[----------------------------------]   1.0% ... 80 / 81 position combinations\r"
       ]
      },
      {
       "output_type": "stream",
       "stream": "stdout",
       "text": [
        "[#---------------------------------]   2.0% ... 80 / 81 position combinations\r"
       ]
      },
      {
       "output_type": "stream",
       "stream": "stdout",
       "text": [
        "[#---------------------------------]   3.0% ... 80 / 81 position combinations\r"
       ]
      },
      {
       "output_type": "stream",
       "stream": "stdout",
       "text": [
        "[#---------------------------------]   4.0% ... 80 / 81 position combinations\r"
       ]
      },
      {
       "output_type": "stream",
       "stream": "stdout",
       "text": [
        "[##--------------------------------]   5.0% ... 80 / 81 position combinations\r"
       ]
      },
      {
       "output_type": "stream",
       "stream": "stdout",
       "text": [
        "[##--------------------------------]   6.0% ... 80 / 81 position combinations\r"
       ]
      },
      {
       "output_type": "stream",
       "stream": "stdout",
       "text": [
        "[##--------------------------------]   7.0% ... 80 / 81 position combinations\r"
       ]
      },
      {
       "output_type": "stream",
       "stream": "stdout",
       "text": [
        "[###-------------------------------]   8.0% ... 80 / 81 position combinations\r"
       ]
      },
      {
       "output_type": "stream",
       "stream": "stdout",
       "text": [
        "[###-------------------------------]   9.0% ... 80 / 81 position combinations\r"
       ]
      },
      {
       "output_type": "stream",
       "stream": "stdout",
       "text": [
        "[###-------------------------------]  10.0% ... 80 / 81 position combinations\r"
       ]
      },
      {
       "output_type": "stream",
       "stream": "stdout",
       "text": [
        "[####------------------------------]  11.0% ... 80 / 81 position combinations\r"
       ]
      },
      {
       "output_type": "stream",
       "stream": "stdout",
       "text": [
        "[####------------------------------]  12.0% ... 80 / 81 position combinations\r"
       ]
      },
      {
       "output_type": "stream",
       "stream": "stdout",
       "text": [
        "[####------------------------------]  13.0% ... 80 / 81 position combinations\r"
       ]
      },
      {
       "output_type": "stream",
       "stream": "stdout",
       "text": [
        "[#####-----------------------------]  14.0% ... 80 / 81 position combinations\r"
       ]
      },
      {
       "output_type": "stream",
       "stream": "stdout",
       "text": [
        "[#####-----------------------------]  15.0% ... 80 / 81 position combinations\r"
       ]
      },
      {
       "output_type": "stream",
       "stream": "stdout",
       "text": [
        "[#####-----------------------------]  16.0% ... 80 / 81 position combinations\r"
       ]
      },
      {
       "output_type": "stream",
       "stream": "stdout",
       "text": [
        "[######----------------------------]  17.0% ... 80 / 81 position combinations\r"
       ]
      },
      {
       "output_type": "stream",
       "stream": "stdout",
       "text": [
        "[######----------------------------]  18.0% ... 80 / 81 position combinations\r"
       ]
      },
      {
       "output_type": "stream",
       "stream": "stdout",
       "text": [
        "[######----------------------------]  19.0% ... 80 / 81 position combinations\r"
       ]
      },
      {
       "output_type": "stream",
       "stream": "stdout",
       "text": [
        "[#######---------------------------]  20.0% ... 80 / 81 position combinations\r"
       ]
      },
      {
       "output_type": "stream",
       "stream": "stdout",
       "text": [
        "[#######---------------------------]  21.0% ... 80 / 81 position combinations\r"
       ]
      },
      {
       "output_type": "stream",
       "stream": "stdout",
       "text": [
        "[#######---------------------------]  22.0% ... 80 / 81 position combinations\r"
       ]
      },
      {
       "output_type": "stream",
       "stream": "stdout",
       "text": [
        "[########--------------------------]  23.0% ... 80 / 81 position combinations\r"
       ]
      },
      {
       "output_type": "stream",
       "stream": "stdout",
       "text": [
        "[########--------------------------]  24.0% ... 80 / 81 position combinations\r"
       ]
      },
      {
       "output_type": "stream",
       "stream": "stdout",
       "text": [
        "[#########-------------------------]  25.0% ... 80 / 81 position combinations\r"
       ]
      },
      {
       "output_type": "stream",
       "stream": "stdout",
       "text": [
        "[#########-------------------------]  26.0% ... 80 / 81 position combinations\r"
       ]
      },
      {
       "output_type": "stream",
       "stream": "stdout",
       "text": [
        "[#########-------------------------]  27.0% ... 80 / 81 position combinations\r"
       ]
      },
      {
       "output_type": "stream",
       "stream": "stdout",
       "text": [
        "[##########------------------------]  28.0% ... 80 / 81 position combinations\r"
       ]
      },
      {
       "output_type": "stream",
       "stream": "stdout",
       "text": [
        "[##########------------------------]  29.0% ... 80 / 81 position combinations\r"
       ]
      },
      {
       "output_type": "stream",
       "stream": "stdout",
       "text": [
        "[##########------------------------]  30.0% ... 80 / 81 position combinations\r"
       ]
      },
      {
       "output_type": "stream",
       "stream": "stdout",
       "text": [
        "[###########-----------------------]  31.0% ... 80 / 81 position combinations\r"
       ]
      },
      {
       "output_type": "stream",
       "stream": "stdout",
       "text": [
        "[###########-----------------------]  32.0% ... 80 / 81 position combinations\r"
       ]
      },
      {
       "output_type": "stream",
       "stream": "stdout",
       "text": [
        "[###########-----------------------]  33.0% ... 80 / 81 position combinations\r"
       ]
      },
      {
       "output_type": "stream",
       "stream": "stdout",
       "text": [
        "[############----------------------]  34.0% ... 80 / 81 position combinations\r"
       ]
      },
      {
       "output_type": "stream",
       "stream": "stdout",
       "text": [
        "[############----------------------]  35.0% ... 80 / 81 position combinations\r"
       ]
      },
      {
       "output_type": "stream",
       "stream": "stdout",
       "text": [
        "[############----------------------]  36.0% ... 80 / 81 position combinations\r"
       ]
      },
      {
       "output_type": "stream",
       "stream": "stdout",
       "text": [
        "[#############---------------------]  37.0% ... 80 / 81 position combinations\r"
       ]
      },
      {
       "output_type": "stream",
       "stream": "stdout",
       "text": [
        "[#############---------------------]  38.0% ... 80 / 81 position combinations\r"
       ]
      },
      {
       "output_type": "stream",
       "stream": "stdout",
       "text": [
        "[#############---------------------]  39.0% ... 80 / 81 position combinations\r"
       ]
      },
      {
       "output_type": "stream",
       "stream": "stdout",
       "text": [
        "[##############--------------------]  40.0% ... 80 / 81 position combinations\r"
       ]
      },
      {
       "output_type": "stream",
       "stream": "stdout",
       "text": [
        "[##############--------------------]  41.0% ... 80 / 81 position combinations\r"
       ]
      },
      {
       "output_type": "stream",
       "stream": "stdout",
       "text": [
        "[##############--------------------]  42.0% ... 80 / 81 position combinations\r"
       ]
      },
      {
       "output_type": "stream",
       "stream": "stdout",
       "text": [
        "[###############-------------------]  43.0% ... 80 / 81 position combinations\r"
       ]
      },
      {
       "output_type": "stream",
       "stream": "stdout",
       "text": [
        "[###############-------------------]  44.0% ... 80 / 81 position combinations\r"
       ]
      },
      {
       "output_type": "stream",
       "stream": "stdout",
       "text": [
        "[###############-------------------]  45.0% ... 80 / 81 position combinations\r"
       ]
      },
      {
       "output_type": "stream",
       "stream": "stdout",
       "text": [
        "[################------------------]  46.0% ... 80 / 81 position combinations\r"
       ]
      },
      {
       "output_type": "stream",
       "stream": "stdout",
       "text": [
        "[################------------------]  47.0% ... 80 / 81 position combinations\r"
       ]
      },
      {
       "output_type": "stream",
       "stream": "stdout",
       "text": [
        "[################------------------]  48.0% ... 80 / 81 position combinations\r"
       ]
      },
      {
       "output_type": "stream",
       "stream": "stdout",
       "text": [
        "[#################-----------------]  49.0% ... 80 / 81 position combinations\r"
       ]
      },
      {
       "output_type": "stream",
       "stream": "stdout",
       "text": [
        "[#################-----------------]  50.0% ... 80 / 81 position combinations\r"
       ]
      },
      {
       "output_type": "stream",
       "stream": "stdout",
       "text": [
        "[#################-----------------]  51.0% ... 80 / 81 position combinations\r"
       ]
      },
      {
       "output_type": "stream",
       "stream": "stdout",
       "text": [
        "[##################----------------]  52.0% ... 80 / 81 position combinations\r"
       ]
      },
      {
       "output_type": "stream",
       "stream": "stdout",
       "text": [
        "[##################----------------]  53.0% ... 80 / 81 position combinations\r"
       ]
      },
      {
       "output_type": "stream",
       "stream": "stdout",
       "text": [
        "[##################----------------]  54.0% ... 80 / 81 position combinations\r"
       ]
      },
      {
       "output_type": "stream",
       "stream": "stdout",
       "text": [
        "[###################---------------]  55.0% ... 80 / 81 position combinations\r"
       ]
      },
      {
       "output_type": "stream",
       "stream": "stdout",
       "text": [
        "[###################---------------]  56.0% ... 80 / 81 position combinations\r"
       ]
      },
      {
       "output_type": "stream",
       "stream": "stdout",
       "text": [
        "[###################---------------]  57.0% ... 80 / 81 position combinations\r"
       ]
      },
      {
       "output_type": "stream",
       "stream": "stdout",
       "text": [
        "[####################--------------]  58.0% ... 80 / 81 position combinations\r"
       ]
      },
      {
       "output_type": "stream",
       "stream": "stdout",
       "text": [
        "[####################--------------]  59.0% ... 80 / 81 position combinations\r"
       ]
      },
      {
       "output_type": "stream",
       "stream": "stdout",
       "text": [
        "[####################--------------]  60.0% ... 80 / 81 position combinations\r"
       ]
      },
      {
       "output_type": "stream",
       "stream": "stdout",
       "text": [
        "[#####################-------------]  61.0% ... 80 / 81 position combinations\r"
       ]
      },
      {
       "output_type": "stream",
       "stream": "stdout",
       "text": [
        "[#####################-------------]  62.0% ... 80 / 81 position combinations\r"
       ]
      },
      {
       "output_type": "stream",
       "stream": "stdout",
       "text": [
        "[#####################-------------]  63.0% ... 80 / 81 position combinations\r"
       ]
      },
      {
       "output_type": "stream",
       "stream": "stdout",
       "text": [
        "[######################------------]  64.0% ... 80 / 81 position combinations\r"
       ]
      },
      {
       "output_type": "stream",
       "stream": "stdout",
       "text": [
        "[######################------------]  65.0% ... 80 / 81 position combinations\r"
       ]
      },
      {
       "output_type": "stream",
       "stream": "stdout",
       "text": [
        "[######################------------]  66.0% ... 80 / 81 position combinations\r"
       ]
      },
      {
       "output_type": "stream",
       "stream": "stdout",
       "text": [
        "[#######################-----------]  67.0% ... 80 / 81 position combinations\r"
       ]
      },
      {
       "output_type": "stream",
       "stream": "stdout",
       "text": [
        "[#######################-----------]  68.0% ... 80 / 81 position combinations\r"
       ]
      },
      {
       "output_type": "stream",
       "stream": "stdout",
       "text": [
        "[#######################-----------]  69.0% ... 80 / 81 position combinations\r"
       ]
      },
      {
       "output_type": "stream",
       "stream": "stdout",
       "text": [
        "[########################----------]  70.0% ... 80 / 81 position combinations\r"
       ]
      },
      {
       "output_type": "stream",
       "stream": "stdout",
       "text": [
        "[########################----------]  71.0% ... 80 / 81 position combinations\r"
       ]
      },
      {
       "output_type": "stream",
       "stream": "stdout",
       "text": [
        "[########################----------]  72.0% ... 80 / 81 position combinations\r"
       ]
      },
      {
       "output_type": "stream",
       "stream": "stdout",
       "text": [
        "[#########################---------]  73.0% ... 80 / 81 position combinations\r"
       ]
      },
      {
       "output_type": "stream",
       "stream": "stdout",
       "text": [
        "[#########################---------]  74.0% ... 80 / 81 position combinations\r"
       ]
      },
      {
       "output_type": "stream",
       "stream": "stdout",
       "text": [
        "[##########################--------]  75.0% ... 80 / 81 position combinations\r"
       ]
      },
      {
       "output_type": "stream",
       "stream": "stdout",
       "text": [
        "[##########################--------]  76.0% ... 80 / 81 position combinations\r"
       ]
      },
      {
       "output_type": "stream",
       "stream": "stdout",
       "text": [
        "[##########################--------]  77.0% ... 80 / 81 position combinations\r"
       ]
      },
      {
       "output_type": "stream",
       "stream": "stdout",
       "text": [
        "[###########################-------]  78.0% ... 80 / 81 position combinations\r"
       ]
      },
      {
       "output_type": "stream",
       "stream": "stdout",
       "text": [
        "[###########################-------]  79.0% ... 80 / 81 position combinations\r"
       ]
      },
      {
       "output_type": "stream",
       "stream": "stdout",
       "text": [
        "[###########################-------]  80.0% ... 80 / 81 position combinations\r"
       ]
      },
      {
       "output_type": "stream",
       "stream": "stdout",
       "text": [
        "[############################------]  81.0% ... 80 / 81 position combinations\r"
       ]
      },
      {
       "output_type": "stream",
       "stream": "stdout",
       "text": [
        "[############################------]  82.0% ... 80 / 81 position combinations\r"
       ]
      },
      {
       "output_type": "stream",
       "stream": "stdout",
       "text": [
        "[############################------]  83.0% ... 80 / 81 position combinations\r"
       ]
      },
      {
       "output_type": "stream",
       "stream": "stdout",
       "text": [
        "[#############################-----]  84.0% ... 80 / 81 position combinations\r"
       ]
      },
      {
       "output_type": "stream",
       "stream": "stdout",
       "text": [
        "[#############################-----]  85.0% ... 80 / 81 position combinations\r"
       ]
      },
      {
       "output_type": "stream",
       "stream": "stdout",
       "text": [
        "[#############################-----]  86.0% ... 80 / 81 position combinations\r"
       ]
      },
      {
       "output_type": "stream",
       "stream": "stdout",
       "text": [
        "[##############################----]  87.0% ... 80 / 81 position combinations\r"
       ]
      },
      {
       "output_type": "stream",
       "stream": "stdout",
       "text": [
        "[##############################----]  88.0% ... 80 / 81 position combinations\r"
       ]
      },
      {
       "output_type": "stream",
       "stream": "stdout",
       "text": [
        "[##############################----]  89.0% ... 80 / 81 position combinations\r"
       ]
      },
      {
       "output_type": "stream",
       "stream": "stdout",
       "text": [
        "[###############################---]  90.0% ... 80 / 81 position combinations\r"
       ]
      },
      {
       "output_type": "stream",
       "stream": "stdout",
       "text": [
        "[###############################---]  91.0% ... 80 / 81 position combinations\r"
       ]
      },
      {
       "output_type": "stream",
       "stream": "stdout",
       "text": [
        "[###############################---]  92.0% ... 80 / 81 position combinations\r"
       ]
      },
      {
       "output_type": "stream",
       "stream": "stdout",
       "text": [
        "[################################--]  93.0% ... 80 / 81 position combinations\r"
       ]
      },
      {
       "output_type": "stream",
       "stream": "stdout",
       "text": [
        "[################################--]  94.0% ... 80 / 81 position combinations\r"
       ]
      },
      {
       "output_type": "stream",
       "stream": "stdout",
       "text": [
        "[################################--]  95.0% ... 80 / 81 position combinations\r"
       ]
      },
      {
       "output_type": "stream",
       "stream": "stdout",
       "text": [
        "[#################################-]  96.0% ... 80 / 81 position combinations\r"
       ]
      },
      {
       "output_type": "stream",
       "stream": "stdout",
       "text": [
        "[#################################-]  97.0% ... 80 / 81 position combinations\r"
       ]
      },
      {
       "output_type": "stream",
       "stream": "stdout",
       "text": [
        "[#################################-]  98.0% ... 80 / 81 position combinations\r"
       ]
      },
      {
       "output_type": "stream",
       "stream": "stdout",
       "text": [
        "[##################################] 100.0% ... 80 / 81 position combinations\r"
       ]
      },
      {
       "output_type": "stream",
       "stream": "stdout",
       "text": [
        "[----------------------------------]   0.0% ... 81 / 81 position combinations\r"
       ]
      },
      {
       "output_type": "stream",
       "stream": "stdout",
       "text": [
        "[----------------------------------]   1.0% ... 81 / 81 position combinations\r"
       ]
      },
      {
       "output_type": "stream",
       "stream": "stdout",
       "text": [
        "[#---------------------------------]   2.0% ... 81 / 81 position combinations\r"
       ]
      },
      {
       "output_type": "stream",
       "stream": "stdout",
       "text": [
        "[#---------------------------------]   3.0% ... 81 / 81 position combinations\r"
       ]
      },
      {
       "output_type": "stream",
       "stream": "stdout",
       "text": [
        "[#---------------------------------]   4.0% ... 81 / 81 position combinations\r"
       ]
      },
      {
       "output_type": "stream",
       "stream": "stdout",
       "text": [
        "[##--------------------------------]   5.0% ... 81 / 81 position combinations\r"
       ]
      },
      {
       "output_type": "stream",
       "stream": "stdout",
       "text": [
        "[##--------------------------------]   6.0% ... 81 / 81 position combinations\r"
       ]
      },
      {
       "output_type": "stream",
       "stream": "stdout",
       "text": [
        "[##--------------------------------]   7.0% ... 81 / 81 position combinations\r"
       ]
      },
      {
       "output_type": "stream",
       "stream": "stdout",
       "text": [
        "[###-------------------------------]   8.0% ... 81 / 81 position combinations\r"
       ]
      },
      {
       "output_type": "stream",
       "stream": "stdout",
       "text": [
        "[###-------------------------------]   9.0% ... 81 / 81 position combinations\r"
       ]
      },
      {
       "output_type": "stream",
       "stream": "stdout",
       "text": [
        "[###-------------------------------]  10.0% ... 81 / 81 position combinations\r"
       ]
      },
      {
       "output_type": "stream",
       "stream": "stdout",
       "text": [
        "[####------------------------------]  11.0% ... 81 / 81 position combinations\r"
       ]
      },
      {
       "output_type": "stream",
       "stream": "stdout",
       "text": [
        "[####------------------------------]  12.0% ... 81 / 81 position combinations\r"
       ]
      },
      {
       "output_type": "stream",
       "stream": "stdout",
       "text": [
        "[####------------------------------]  13.0% ... 81 / 81 position combinations\r"
       ]
      },
      {
       "output_type": "stream",
       "stream": "stdout",
       "text": [
        "[#####-----------------------------]  14.0% ... 81 / 81 position combinations\r"
       ]
      },
      {
       "output_type": "stream",
       "stream": "stdout",
       "text": [
        "[#####-----------------------------]  15.0% ... 81 / 81 position combinations\r"
       ]
      },
      {
       "output_type": "stream",
       "stream": "stdout",
       "text": [
        "[#####-----------------------------]  16.0% ... 81 / 81 position combinations\r"
       ]
      },
      {
       "output_type": "stream",
       "stream": "stdout",
       "text": [
        "[######----------------------------]  17.0% ... 81 / 81 position combinations\r"
       ]
      },
      {
       "output_type": "stream",
       "stream": "stdout",
       "text": [
        "[######----------------------------]  18.0% ... 81 / 81 position combinations\r"
       ]
      },
      {
       "output_type": "stream",
       "stream": "stdout",
       "text": [
        "[######----------------------------]  19.0% ... 81 / 81 position combinations\r"
       ]
      },
      {
       "output_type": "stream",
       "stream": "stdout",
       "text": [
        "[#######---------------------------]  20.0% ... 81 / 81 position combinations\r"
       ]
      },
      {
       "output_type": "stream",
       "stream": "stdout",
       "text": [
        "[#######---------------------------]  21.0% ... 81 / 81 position combinations\r"
       ]
      },
      {
       "output_type": "stream",
       "stream": "stdout",
       "text": [
        "[#######---------------------------]  22.0% ... 81 / 81 position combinations\r"
       ]
      },
      {
       "output_type": "stream",
       "stream": "stdout",
       "text": [
        "[########--------------------------]  23.0% ... 81 / 81 position combinations\r"
       ]
      },
      {
       "output_type": "stream",
       "stream": "stdout",
       "text": [
        "[########--------------------------]  24.0% ... 81 / 81 position combinations\r"
       ]
      },
      {
       "output_type": "stream",
       "stream": "stdout",
       "text": [
        "[#########-------------------------]  25.0% ... 81 / 81 position combinations\r"
       ]
      },
      {
       "output_type": "stream",
       "stream": "stdout",
       "text": [
        "[#########-------------------------]  26.0% ... 81 / 81 position combinations\r"
       ]
      },
      {
       "output_type": "stream",
       "stream": "stdout",
       "text": [
        "[#########-------------------------]  27.0% ... 81 / 81 position combinations\r"
       ]
      },
      {
       "output_type": "stream",
       "stream": "stdout",
       "text": [
        "[##########------------------------]  28.0% ... 81 / 81 position combinations\r"
       ]
      },
      {
       "output_type": "stream",
       "stream": "stdout",
       "text": [
        "[##########------------------------]  29.0% ... 81 / 81 position combinations\r"
       ]
      },
      {
       "output_type": "stream",
       "stream": "stdout",
       "text": [
        "[##########------------------------]  30.0% ... 81 / 81 position combinations\r"
       ]
      },
      {
       "output_type": "stream",
       "stream": "stdout",
       "text": [
        "[###########-----------------------]  31.0% ... 81 / 81 position combinations\r"
       ]
      },
      {
       "output_type": "stream",
       "stream": "stdout",
       "text": [
        "[###########-----------------------]  32.0% ... 81 / 81 position combinations\r"
       ]
      },
      {
       "output_type": "stream",
       "stream": "stdout",
       "text": [
        "[###########-----------------------]  33.0% ... 81 / 81 position combinations\r"
       ]
      },
      {
       "output_type": "stream",
       "stream": "stdout",
       "text": [
        "[############----------------------]  34.0% ... 81 / 81 position combinations\r"
       ]
      },
      {
       "output_type": "stream",
       "stream": "stdout",
       "text": [
        "[############----------------------]  35.0% ... 81 / 81 position combinations\r"
       ]
      },
      {
       "output_type": "stream",
       "stream": "stdout",
       "text": [
        "[############----------------------]  36.0% ... 81 / 81 position combinations\r"
       ]
      },
      {
       "output_type": "stream",
       "stream": "stdout",
       "text": [
        "[#############---------------------]  37.0% ... 81 / 81 position combinations\r"
       ]
      },
      {
       "output_type": "stream",
       "stream": "stdout",
       "text": [
        "[#############---------------------]  38.0% ... 81 / 81 position combinations\r"
       ]
      },
      {
       "output_type": "stream",
       "stream": "stdout",
       "text": [
        "[#############---------------------]  39.0% ... 81 / 81 position combinations\r"
       ]
      },
      {
       "output_type": "stream",
       "stream": "stdout",
       "text": [
        "[##############--------------------]  40.0% ... 81 / 81 position combinations\r"
       ]
      },
      {
       "output_type": "stream",
       "stream": "stdout",
       "text": [
        "[##############--------------------]  41.0% ... 81 / 81 position combinations\r"
       ]
      },
      {
       "output_type": "stream",
       "stream": "stdout",
       "text": [
        "[##############--------------------]  42.0% ... 81 / 81 position combinations\r"
       ]
      },
      {
       "output_type": "stream",
       "stream": "stdout",
       "text": [
        "[###############-------------------]  43.0% ... 81 / 81 position combinations\r"
       ]
      },
      {
       "output_type": "stream",
       "stream": "stdout",
       "text": [
        "[###############-------------------]  44.0% ... 81 / 81 position combinations\r"
       ]
      },
      {
       "output_type": "stream",
       "stream": "stdout",
       "text": [
        "[###############-------------------]  45.0% ... 81 / 81 position combinations\r"
       ]
      },
      {
       "output_type": "stream",
       "stream": "stdout",
       "text": [
        "[################------------------]  46.0% ... 81 / 81 position combinations\r"
       ]
      },
      {
       "output_type": "stream",
       "stream": "stdout",
       "text": [
        "[################------------------]  47.0% ... 81 / 81 position combinations\r"
       ]
      },
      {
       "output_type": "stream",
       "stream": "stdout",
       "text": [
        "[################------------------]  48.0% ... 81 / 81 position combinations\r"
       ]
      },
      {
       "output_type": "stream",
       "stream": "stdout",
       "text": [
        "[#################-----------------]  49.0% ... 81 / 81 position combinations\r"
       ]
      },
      {
       "output_type": "stream",
       "stream": "stdout",
       "text": [
        "[#################-----------------]  50.0% ... 81 / 81 position combinations\r"
       ]
      },
      {
       "output_type": "stream",
       "stream": "stdout",
       "text": [
        "[#################-----------------]  51.0% ... 81 / 81 position combinations\r"
       ]
      },
      {
       "output_type": "stream",
       "stream": "stdout",
       "text": [
        "[##################----------------]  52.0% ... 81 / 81 position combinations\r"
       ]
      },
      {
       "output_type": "stream",
       "stream": "stdout",
       "text": [
        "[##################----------------]  53.0% ... 81 / 81 position combinations\r"
       ]
      },
      {
       "output_type": "stream",
       "stream": "stdout",
       "text": [
        "[##################----------------]  54.0% ... 81 / 81 position combinations\r"
       ]
      },
      {
       "output_type": "stream",
       "stream": "stdout",
       "text": [
        "[###################---------------]  55.0% ... 81 / 81 position combinations\r"
       ]
      },
      {
       "output_type": "stream",
       "stream": "stdout",
       "text": [
        "[###################---------------]  56.0% ... 81 / 81 position combinations\r"
       ]
      },
      {
       "output_type": "stream",
       "stream": "stdout",
       "text": [
        "[###################---------------]  57.0% ... 81 / 81 position combinations\r"
       ]
      },
      {
       "output_type": "stream",
       "stream": "stdout",
       "text": [
        "[####################--------------]  58.0% ... 81 / 81 position combinations\r"
       ]
      },
      {
       "output_type": "stream",
       "stream": "stdout",
       "text": [
        "[####################--------------]  59.0% ... 81 / 81 position combinations\r"
       ]
      },
      {
       "output_type": "stream",
       "stream": "stdout",
       "text": [
        "[####################--------------]  60.0% ... 81 / 81 position combinations\r"
       ]
      },
      {
       "output_type": "stream",
       "stream": "stdout",
       "text": [
        "[#####################-------------]  61.0% ... 81 / 81 position combinations\r"
       ]
      },
      {
       "output_type": "stream",
       "stream": "stdout",
       "text": [
        "[#####################-------------]  62.0% ... 81 / 81 position combinations\r"
       ]
      },
      {
       "output_type": "stream",
       "stream": "stdout",
       "text": [
        "[#####################-------------]  63.0% ... 81 / 81 position combinations\r"
       ]
      },
      {
       "output_type": "stream",
       "stream": "stdout",
       "text": [
        "[######################------------]  64.0% ... 81 / 81 position combinations\r"
       ]
      },
      {
       "output_type": "stream",
       "stream": "stdout",
       "text": [
        "[######################------------]  65.0% ... 81 / 81 position combinations\r"
       ]
      },
      {
       "output_type": "stream",
       "stream": "stdout",
       "text": [
        "[######################------------]  66.0% ... 81 / 81 position combinations\r"
       ]
      },
      {
       "output_type": "stream",
       "stream": "stdout",
       "text": [
        "[#######################-----------]  67.0% ... 81 / 81 position combinations\r"
       ]
      },
      {
       "output_type": "stream",
       "stream": "stdout",
       "text": [
        "[#######################-----------]  68.0% ... 81 / 81 position combinations\r"
       ]
      },
      {
       "output_type": "stream",
       "stream": "stdout",
       "text": [
        "[#######################-----------]  69.0% ... 81 / 81 position combinations\r"
       ]
      },
      {
       "output_type": "stream",
       "stream": "stdout",
       "text": [
        "[########################----------]  70.0% ... 81 / 81 position combinations\r"
       ]
      },
      {
       "output_type": "stream",
       "stream": "stdout",
       "text": [
        "[########################----------]  71.0% ... 81 / 81 position combinations\r"
       ]
      },
      {
       "output_type": "stream",
       "stream": "stdout",
       "text": [
        "[########################----------]  72.0% ... 81 / 81 position combinations\r"
       ]
      },
      {
       "output_type": "stream",
       "stream": "stdout",
       "text": [
        "[#########################---------]  73.0% ... 81 / 81 position combinations\r"
       ]
      },
      {
       "output_type": "stream",
       "stream": "stdout",
       "text": [
        "[#########################---------]  74.0% ... 81 / 81 position combinations\r"
       ]
      },
      {
       "output_type": "stream",
       "stream": "stdout",
       "text": [
        "[##########################--------]  75.0% ... 81 / 81 position combinations\r"
       ]
      },
      {
       "output_type": "stream",
       "stream": "stdout",
       "text": [
        "[##########################--------]  76.0% ... 81 / 81 position combinations\r"
       ]
      },
      {
       "output_type": "stream",
       "stream": "stdout",
       "text": [
        "[##########################--------]  77.0% ... 81 / 81 position combinations\r"
       ]
      },
      {
       "output_type": "stream",
       "stream": "stdout",
       "text": [
        "[###########################-------]  78.0% ... 81 / 81 position combinations\r"
       ]
      },
      {
       "output_type": "stream",
       "stream": "stdout",
       "text": [
        "[###########################-------]  79.0% ... 81 / 81 position combinations\r"
       ]
      },
      {
       "output_type": "stream",
       "stream": "stdout",
       "text": [
        "[###########################-------]  80.0% ... 81 / 81 position combinations\r"
       ]
      },
      {
       "output_type": "stream",
       "stream": "stdout",
       "text": [
        "[############################------]  81.0% ... 81 / 81 position combinations\r"
       ]
      },
      {
       "output_type": "stream",
       "stream": "stdout",
       "text": [
        "[############################------]  82.0% ... 81 / 81 position combinations\r"
       ]
      },
      {
       "output_type": "stream",
       "stream": "stdout",
       "text": [
        "[############################------]  83.0% ... 81 / 81 position combinations\r"
       ]
      },
      {
       "output_type": "stream",
       "stream": "stdout",
       "text": [
        "[#############################-----]  84.0% ... 81 / 81 position combinations\r"
       ]
      },
      {
       "output_type": "stream",
       "stream": "stdout",
       "text": [
        "[#############################-----]  85.0% ... 81 / 81 position combinations\r"
       ]
      },
      {
       "output_type": "stream",
       "stream": "stdout",
       "text": [
        "[#############################-----]  86.0% ... 81 / 81 position combinations\r"
       ]
      },
      {
       "output_type": "stream",
       "stream": "stdout",
       "text": [
        "[##############################----]  87.0% ... 81 / 81 position combinations\r"
       ]
      },
      {
       "output_type": "stream",
       "stream": "stdout",
       "text": [
        "[##############################----]  88.0% ... 81 / 81 position combinations\r"
       ]
      },
      {
       "output_type": "stream",
       "stream": "stdout",
       "text": [
        "[##############################----]  89.0% ... 81 / 81 position combinations\r"
       ]
      },
      {
       "output_type": "stream",
       "stream": "stdout",
       "text": [
        "[###############################---]  90.0% ... 81 / 81 position combinations\r"
       ]
      },
      {
       "output_type": "stream",
       "stream": "stdout",
       "text": [
        "[###############################---]  91.0% ... 81 / 81 position combinations\r"
       ]
      },
      {
       "output_type": "stream",
       "stream": "stdout",
       "text": [
        "[###############################---]  92.0% ... 81 / 81 position combinations\r"
       ]
      },
      {
       "output_type": "stream",
       "stream": "stdout",
       "text": [
        "[################################--]  93.0% ... 81 / 81 position combinations\r"
       ]
      },
      {
       "output_type": "stream",
       "stream": "stdout",
       "text": [
        "[################################--]  94.0% ... 81 / 81 position combinations\r"
       ]
      },
      {
       "output_type": "stream",
       "stream": "stdout",
       "text": [
        "[################################--]  95.0% ... 81 / 81 position combinations\r"
       ]
      },
      {
       "output_type": "stream",
       "stream": "stdout",
       "text": [
        "[#################################-]  96.0% ... 81 / 81 position combinations\r"
       ]
      },
      {
       "output_type": "stream",
       "stream": "stdout",
       "text": [
        "[#################################-]  97.0% ... 81 / 81 position combinations\r"
       ]
      },
      {
       "output_type": "stream",
       "stream": "stdout",
       "text": [
        "[#################################-]  98.0% ... 81 / 81 position combinations\r"
       ]
      },
      {
       "output_type": "stream",
       "stream": "stdout",
       "text": [
        "[##################################] 100.0% ... 81 / 81 position combinations\r"
       ]
      },
      {
       "ename": "IOError",
       "evalue": "[Errno 13] Permission denied: '/processed_data/aggdat/20180704_shield.agg'",
       "output_type": "pyerr",
       "traceback": [
        "\u001b[0;31m---------------------------------------------------------------------------\u001b[0m\n\u001b[0;31mIOError\u001b[0m                                   Traceback (most recent call last)",
        "\u001b[0;32m/usr/lib/python2.7/dist-packages/IPython/utils/py3compat.pyc\u001b[0m in \u001b[0;36mexecfile\u001b[0;34m(fname, *where)\u001b[0m\n\u001b[1;32m    202\u001b[0m             \u001b[0;32melse\u001b[0m\u001b[0;34m:\u001b[0m\u001b[0;34m\u001b[0m\u001b[0m\n\u001b[1;32m    203\u001b[0m                 \u001b[0mfilename\u001b[0m \u001b[0;34m=\u001b[0m \u001b[0mfname\u001b[0m\u001b[0;34m\u001b[0m\u001b[0m\n\u001b[0;32m--> 204\u001b[0;31m             \u001b[0m__builtin__\u001b[0m\u001b[0;34m.\u001b[0m\u001b[0mexecfile\u001b[0m\u001b[0;34m(\u001b[0m\u001b[0mfilename\u001b[0m\u001b[0;34m,\u001b[0m \u001b[0;34m*\u001b[0m\u001b[0mwhere\u001b[0m\u001b[0;34m)\u001b[0m\u001b[0;34m\u001b[0m\u001b[0m\n\u001b[0m",
        "\u001b[0;32m/home/arider/opt_lev_analysis/scripts/microgravity/grav_class_test.py\u001b[0m in \u001b[0;36m<module>\u001b[0;34m()\u001b[0m\n\u001b[1;32m     70\u001b[0m     \u001b[0magg_dat\u001b[0m\u001b[0;34m.\u001b[0m\u001b[0mfind_mean_alpha_vs_position\u001b[0m\u001b[0;34m(\u001b[0m\u001b[0;34m)\u001b[0m\u001b[0;34m\u001b[0m\u001b[0m\n\u001b[1;32m     71\u001b[0m \u001b[0;34m\u001b[0m\u001b[0m\n\u001b[0;32m---> 72\u001b[0;31m     \u001b[0magg_dat\u001b[0m\u001b[0;34m.\u001b[0m\u001b[0msave\u001b[0m\u001b[0;34m(\u001b[0m\u001b[0magg_path\u001b[0m\u001b[0;34m)\u001b[0m\u001b[0;34m\u001b[0m\u001b[0m\n\u001b[0m\u001b[1;32m     73\u001b[0m \u001b[0;34m\u001b[0m\u001b[0m\n\u001b[1;32m     74\u001b[0m     \u001b[0;31m## Extract a limit\u001b[0m\u001b[0;34m\u001b[0m\u001b[0;34m\u001b[0m\u001b[0m\n",
        "\u001b[0;32m/home/arider/opt_lev_analysis/scripts/grav_util_2.py\u001b[0m in \u001b[0;36msave\u001b[0;34m(self, savepath)\u001b[0m\n\u001b[1;32m    416\u001b[0m             \u001b[0msavepath\u001b[0m \u001b[0;34m=\u001b[0m \u001b[0mparts\u001b[0m\u001b[0;34m[\u001b[0m\u001b[0;36m0\u001b[0m\u001b[0;34m]\u001b[0m \u001b[0;34m+\u001b[0m \u001b[0;34m'.agg'\u001b[0m\u001b[0;34m\u001b[0m\u001b[0m\n\u001b[1;32m    417\u001b[0m             \u001b[0mself\u001b[0m\u001b[0;34m.\u001b[0m\u001b[0mclear_grav_funcs\u001b[0m\u001b[0;34m(\u001b[0m\u001b[0;34m)\u001b[0m\u001b[0;34m\u001b[0m\u001b[0m\n\u001b[0;32m--> 418\u001b[0;31m             \u001b[0mpickle\u001b[0m\u001b[0;34m.\u001b[0m\u001b[0mdump\u001b[0m\u001b[0;34m(\u001b[0m\u001b[0mself\u001b[0m\u001b[0;34m,\u001b[0m \u001b[0mopen\u001b[0m\u001b[0;34m(\u001b[0m\u001b[0msavepath\u001b[0m\u001b[0;34m,\u001b[0m \u001b[0;34m'wb'\u001b[0m\u001b[0;34m)\u001b[0m\u001b[0;34m)\u001b[0m\u001b[0;34m\u001b[0m\u001b[0m\n\u001b[0m\u001b[1;32m    419\u001b[0m             \u001b[0mself\u001b[0m\u001b[0;34m.\u001b[0m\u001b[0mreload_grav_funcs\u001b[0m\u001b[0;34m(\u001b[0m\u001b[0;34m)\u001b[0m\u001b[0;34m\u001b[0m\u001b[0m\n\u001b[1;32m    420\u001b[0m \u001b[0;34m\u001b[0m\u001b[0m\n",
        "\u001b[0;31mIOError\u001b[0m: [Errno 13] Permission denied: '/processed_data/aggdat/20180704_shield.agg'"
       ]
      },
      {
       "output_type": "stream",
       "stream": "stdout",
       "text": [
        "\n",
        "Done!\n"
       ]
      }
     ]
    },
    {
     "cell_type": "code",
     "collapsed": false,
     "input": [
      "agg_dat.DataFrame[1]\n"
     ],
     "language": "python",
     "metadata": {},
     "outputs": []
    },
    {
     "cell_type": "code",
     "collapsed": false,
     "input": [
      "import pandas as pd"
     ],
     "language": "python",
     "metadata": {},
     "outputs": [],
     "prompt_number": 4
    },
    {
     "cell_type": "code",
     "collapsed": false,
     "input": [
      "df = pd.DataFrame([1, 2, 3], index = [1, 2, 3])"
     ],
     "language": "python",
     "metadata": {},
     "outputs": [],
     "prompt_number": 5
    },
    {
     "cell_type": "code",
     "collapsed": false,
     "input": [
      "df"
     ],
     "language": "python",
     "metadata": {},
     "outputs": [
      {
       "html": [
        "<div style=\"max-height:1000px;max-width:1500px;overflow:auto;\">\n",
        "<table border=\"1\" class=\"dataframe\">\n",
        "  <thead>\n",
        "    <tr style=\"text-align: right;\">\n",
        "      <th></th>\n",
        "      <th>0</th>\n",
        "    </tr>\n",
        "  </thead>\n",
        "  <tbody>\n",
        "    <tr>\n",
        "      <th>1</th>\n",
        "      <td> 1</td>\n",
        "    </tr>\n",
        "    <tr>\n",
        "      <th>2</th>\n",
        "      <td> 2</td>\n",
        "    </tr>\n",
        "    <tr>\n",
        "      <th>3</th>\n",
        "      <td> 3</td>\n",
        "    </tr>\n",
        "  </tbody>\n",
        "</table>\n",
        "<p>3 rows \u00d7 1 columns</p>\n",
        "</div>"
       ],
       "metadata": {},
       "output_type": "pyout",
       "prompt_number": 6,
       "text": [
        "   0\n",
        "1  1\n",
        "2  2\n",
        "3  3\n",
        "\n",
        "[3 rows x 1 columns]"
       ]
      }
     ],
     "prompt_number": 6
    },
    {
     "cell_type": "code",
     "collapsed": false,
     "input": [
      "print df[0:1]"
     ],
     "language": "python",
     "metadata": {},
     "outputs": [
      {
       "output_type": "stream",
       "stream": "stdout",
       "text": [
        "   0\n",
        "1  1\n",
        "\n",
        "[1 rows x 1 columns]\n"
       ]
      }
     ],
     "prompt_number": 8
    },
    {
     "cell_type": "code",
     "collapsed": false,
     "input": [
      "print \"Hello World\""
     ],
     "language": "python",
     "metadata": {},
     "outputs": []
    },
    {
     "cell_type": "code",
     "collapsed": false,
     "input": [
      "1+1"
     ],
     "language": "python",
     "metadata": {},
     "outputs": [
      {
       "metadata": {},
       "output_type": "pyout",
       "prompt_number": 2,
       "text": [
        "2"
       ]
      }
     ],
     "prompt_number": 2
    },
    {
     "cell_type": "code",
     "collapsed": false,
     "input": [
      "agg_dat.DataFrame"
     ],
     "language": "python",
     "metadata": {},
     "outputs": [
      {
       "ename": "TypeError",
       "evalue": "The numpy boolean negative, the `-` operator, is not supported, use the `~` operator or the logical_not function instead.",
       "output_type": "pyerr",
       "traceback": [
        "\u001b[0;31m---------------------------------------------------------------------------\u001b[0m\n\u001b[0;31mTypeError\u001b[0m                                 Traceback (most recent call last)",
        "\u001b[0;32m<ipython-input-9-62290035db72>\u001b[0m in \u001b[0;36m<module>\u001b[0;34m()\u001b[0m\n\u001b[0;32m----> 1\u001b[0;31m \u001b[0magg_dat\u001b[0m\u001b[0;34m.\u001b[0m\u001b[0mDataFrame\u001b[0m\u001b[0;34m\u001b[0m\u001b[0m\n\u001b[0m",
        "\u001b[0;32m/usr/lib/python2.7/dist-packages/IPython/core/displayhook.pyc\u001b[0m in \u001b[0;36m__call__\u001b[0;34m(self, result)\u001b[0m\n\u001b[1;32m    245\u001b[0m             \u001b[0mself\u001b[0m\u001b[0;34m.\u001b[0m\u001b[0mstart_displayhook\u001b[0m\u001b[0;34m(\u001b[0m\u001b[0;34m)\u001b[0m\u001b[0;34m\u001b[0m\u001b[0m\n\u001b[1;32m    246\u001b[0m             \u001b[0mself\u001b[0m\u001b[0;34m.\u001b[0m\u001b[0mwrite_output_prompt\u001b[0m\u001b[0;34m(\u001b[0m\u001b[0;34m)\u001b[0m\u001b[0;34m\u001b[0m\u001b[0m\n\u001b[0;32m--> 247\u001b[0;31m             \u001b[0mformat_dict\u001b[0m\u001b[0;34m,\u001b[0m \u001b[0mmd_dict\u001b[0m \u001b[0;34m=\u001b[0m \u001b[0mself\u001b[0m\u001b[0;34m.\u001b[0m\u001b[0mcompute_format_data\u001b[0m\u001b[0;34m(\u001b[0m\u001b[0mresult\u001b[0m\u001b[0;34m)\u001b[0m\u001b[0;34m\u001b[0m\u001b[0m\n\u001b[0m\u001b[1;32m    248\u001b[0m             \u001b[0mself\u001b[0m\u001b[0;34m.\u001b[0m\u001b[0mwrite_format_data\u001b[0m\u001b[0;34m(\u001b[0m\u001b[0mformat_dict\u001b[0m\u001b[0;34m,\u001b[0m \u001b[0mmd_dict\u001b[0m\u001b[0;34m)\u001b[0m\u001b[0;34m\u001b[0m\u001b[0m\n\u001b[1;32m    249\u001b[0m             \u001b[0mself\u001b[0m\u001b[0;34m.\u001b[0m\u001b[0mupdate_user_ns\u001b[0m\u001b[0;34m(\u001b[0m\u001b[0mresult\u001b[0m\u001b[0;34m)\u001b[0m\u001b[0;34m\u001b[0m\u001b[0m\n",
        "\u001b[0;32m/usr/lib/python2.7/dist-packages/IPython/core/displayhook.pyc\u001b[0m in \u001b[0;36mcompute_format_data\u001b[0;34m(self, result)\u001b[0m\n\u001b[1;32m    155\u001b[0m \u001b[0;34m\u001b[0m\u001b[0m\n\u001b[1;32m    156\u001b[0m         \"\"\"\n\u001b[0;32m--> 157\u001b[0;31m         \u001b[0;32mreturn\u001b[0m \u001b[0mself\u001b[0m\u001b[0;34m.\u001b[0m\u001b[0mshell\u001b[0m\u001b[0;34m.\u001b[0m\u001b[0mdisplay_formatter\u001b[0m\u001b[0;34m.\u001b[0m\u001b[0mformat\u001b[0m\u001b[0;34m(\u001b[0m\u001b[0mresult\u001b[0m\u001b[0;34m)\u001b[0m\u001b[0;34m\u001b[0m\u001b[0m\n\u001b[0m\u001b[1;32m    158\u001b[0m \u001b[0;34m\u001b[0m\u001b[0m\n\u001b[1;32m    159\u001b[0m     \u001b[0;32mdef\u001b[0m \u001b[0mwrite_format_data\u001b[0m\u001b[0;34m(\u001b[0m\u001b[0mself\u001b[0m\u001b[0;34m,\u001b[0m \u001b[0mformat_dict\u001b[0m\u001b[0;34m,\u001b[0m \u001b[0mmd_dict\u001b[0m\u001b[0;34m=\u001b[0m\u001b[0mNone\u001b[0m\u001b[0;34m)\u001b[0m\u001b[0;34m:\u001b[0m\u001b[0;34m\u001b[0m\u001b[0m\n",
        "\u001b[0;32m/usr/lib/python2.7/dist-packages/IPython/core/formatters.pyc\u001b[0m in \u001b[0;36mformat\u001b[0;34m(self, obj, include, exclude)\u001b[0m\n\u001b[1;32m    150\u001b[0m             \u001b[0mmd\u001b[0m \u001b[0;34m=\u001b[0m \u001b[0mNone\u001b[0m\u001b[0;34m\u001b[0m\u001b[0m\n\u001b[1;32m    151\u001b[0m             \u001b[0;32mtry\u001b[0m\u001b[0;34m:\u001b[0m\u001b[0;34m\u001b[0m\u001b[0m\n\u001b[0;32m--> 152\u001b[0;31m                 \u001b[0mdata\u001b[0m \u001b[0;34m=\u001b[0m \u001b[0mformatter\u001b[0m\u001b[0;34m(\u001b[0m\u001b[0mobj\u001b[0m\u001b[0;34m)\u001b[0m\u001b[0;34m\u001b[0m\u001b[0m\n\u001b[0m\u001b[1;32m    153\u001b[0m             \u001b[0;32mexcept\u001b[0m\u001b[0;34m:\u001b[0m\u001b[0;34m\u001b[0m\u001b[0m\n\u001b[1;32m    154\u001b[0m                 \u001b[0;31m# FIXME: log the exception\u001b[0m\u001b[0;34m\u001b[0m\u001b[0;34m\u001b[0m\u001b[0m\n",
        "\u001b[0;32m/usr/lib/python2.7/dist-packages/IPython/core/formatters.pyc\u001b[0m in \u001b[0;36m__call__\u001b[0;34m(self, obj)\u001b[0m\n\u001b[1;32m    479\u001b[0m                 \u001b[0mtype_pprinters\u001b[0m\u001b[0;34m=\u001b[0m\u001b[0mself\u001b[0m\u001b[0;34m.\u001b[0m\u001b[0mtype_printers\u001b[0m\u001b[0;34m,\u001b[0m\u001b[0;34m\u001b[0m\u001b[0m\n\u001b[1;32m    480\u001b[0m                 deferred_pprinters=self.deferred_printers)\n\u001b[0;32m--> 481\u001b[0;31m             \u001b[0mprinter\u001b[0m\u001b[0;34m.\u001b[0m\u001b[0mpretty\u001b[0m\u001b[0;34m(\u001b[0m\u001b[0mobj\u001b[0m\u001b[0;34m)\u001b[0m\u001b[0;34m\u001b[0m\u001b[0m\n\u001b[0m\u001b[1;32m    482\u001b[0m             \u001b[0mprinter\u001b[0m\u001b[0;34m.\u001b[0m\u001b[0mflush\u001b[0m\u001b[0;34m(\u001b[0m\u001b[0;34m)\u001b[0m\u001b[0;34m\u001b[0m\u001b[0m\n\u001b[1;32m    483\u001b[0m             \u001b[0;32mreturn\u001b[0m \u001b[0mstream\u001b[0m\u001b[0;34m.\u001b[0m\u001b[0mgetvalue\u001b[0m\u001b[0;34m(\u001b[0m\u001b[0;34m)\u001b[0m\u001b[0;34m\u001b[0m\u001b[0m\n",
        "\u001b[0;32m/usr/lib/python2.7/dist-packages/IPython/lib/pretty.pyc\u001b[0m in \u001b[0;36mpretty\u001b[0;34m(self, obj)\u001b[0m\n\u001b[1;32m    360\u001b[0m                             \u001b[0;32mif\u001b[0m \u001b[0mcallable\u001b[0m\u001b[0;34m(\u001b[0m\u001b[0mmeth\u001b[0m\u001b[0;34m)\u001b[0m\u001b[0;34m:\u001b[0m\u001b[0;34m\u001b[0m\u001b[0m\n\u001b[1;32m    361\u001b[0m                                 \u001b[0;32mreturn\u001b[0m \u001b[0mmeth\u001b[0m\u001b[0;34m(\u001b[0m\u001b[0mobj\u001b[0m\u001b[0;34m,\u001b[0m \u001b[0mself\u001b[0m\u001b[0;34m,\u001b[0m \u001b[0mcycle\u001b[0m\u001b[0;34m)\u001b[0m\u001b[0;34m\u001b[0m\u001b[0m\n\u001b[0;32m--> 362\u001b[0;31m             \u001b[0;32mreturn\u001b[0m \u001b[0m_default_pprint\u001b[0m\u001b[0;34m(\u001b[0m\u001b[0mobj\u001b[0m\u001b[0;34m,\u001b[0m \u001b[0mself\u001b[0m\u001b[0;34m,\u001b[0m \u001b[0mcycle\u001b[0m\u001b[0;34m)\u001b[0m\u001b[0;34m\u001b[0m\u001b[0m\n\u001b[0m\u001b[1;32m    363\u001b[0m         \u001b[0;32mfinally\u001b[0m\u001b[0;34m:\u001b[0m\u001b[0;34m\u001b[0m\u001b[0m\n\u001b[1;32m    364\u001b[0m             \u001b[0mself\u001b[0m\u001b[0;34m.\u001b[0m\u001b[0mend_group\u001b[0m\u001b[0;34m(\u001b[0m\u001b[0;34m)\u001b[0m\u001b[0;34m\u001b[0m\u001b[0m\n",
        "\u001b[0;32m/usr/lib/python2.7/dist-packages/IPython/lib/pretty.pyc\u001b[0m in \u001b[0;36m_default_pprint\u001b[0;34m(obj, p, cycle)\u001b[0m\n\u001b[1;32m    480\u001b[0m     \u001b[0;32mif\u001b[0m \u001b[0mgetattr\u001b[0m\u001b[0;34m(\u001b[0m\u001b[0mklass\u001b[0m\u001b[0;34m,\u001b[0m \u001b[0;34m'__repr__'\u001b[0m\u001b[0;34m,\u001b[0m \u001b[0mNone\u001b[0m\u001b[0;34m)\u001b[0m \u001b[0;32mnot\u001b[0m \u001b[0;32min\u001b[0m \u001b[0m_baseclass_reprs\u001b[0m\u001b[0;34m:\u001b[0m\u001b[0;34m\u001b[0m\u001b[0m\n\u001b[1;32m    481\u001b[0m         \u001b[0;31m# A user-provided repr.\u001b[0m\u001b[0;34m\u001b[0m\u001b[0;34m\u001b[0m\u001b[0m\n\u001b[0;32m--> 482\u001b[0;31m         \u001b[0mp\u001b[0m\u001b[0;34m.\u001b[0m\u001b[0mtext\u001b[0m\u001b[0;34m(\u001b[0m\u001b[0mrepr\u001b[0m\u001b[0;34m(\u001b[0m\u001b[0mobj\u001b[0m\u001b[0;34m)\u001b[0m\u001b[0;34m)\u001b[0m\u001b[0;34m\u001b[0m\u001b[0m\n\u001b[0m\u001b[1;32m    483\u001b[0m         \u001b[0;32mreturn\u001b[0m\u001b[0;34m\u001b[0m\u001b[0m\n\u001b[1;32m    484\u001b[0m     \u001b[0mp\u001b[0m\u001b[0;34m.\u001b[0m\u001b[0mbegin_group\u001b[0m\u001b[0;34m(\u001b[0m\u001b[0;36m1\u001b[0m\u001b[0;34m,\u001b[0m \u001b[0;34m'<'\u001b[0m\u001b[0;34m)\u001b[0m\u001b[0;34m\u001b[0m\u001b[0m\n",
        "\u001b[0;32m/usr/lib/python2.7/dist-packages/pandas/core/base.pyc\u001b[0m in \u001b[0;36m__repr__\u001b[0;34m(self)\u001b[0m\n\u001b[1;32m     53\u001b[0m         \u001b[0mYields\u001b[0m \u001b[0mBytestring\u001b[0m \u001b[0;32min\u001b[0m \u001b[0mPy2\u001b[0m\u001b[0;34m,\u001b[0m \u001b[0mUnicode\u001b[0m \u001b[0mString\u001b[0m \u001b[0;32min\u001b[0m \u001b[0mpy3\u001b[0m\u001b[0;34m.\u001b[0m\u001b[0;34m\u001b[0m\u001b[0m\n\u001b[1;32m     54\u001b[0m         \"\"\"\n\u001b[0;32m---> 55\u001b[0;31m         \u001b[0;32mreturn\u001b[0m \u001b[0mstr\u001b[0m\u001b[0;34m(\u001b[0m\u001b[0mself\u001b[0m\u001b[0;34m)\u001b[0m\u001b[0;34m\u001b[0m\u001b[0m\n\u001b[0m\u001b[1;32m     56\u001b[0m \u001b[0;34m\u001b[0m\u001b[0m\n\u001b[1;32m     57\u001b[0m \u001b[0;34m\u001b[0m\u001b[0m\n",
        "\u001b[0;32m/usr/lib/python2.7/dist-packages/pandas/core/base.pyc\u001b[0m in \u001b[0;36m__str__\u001b[0;34m(self)\u001b[0m\n\u001b[1;32m     33\u001b[0m         \u001b[0;32mif\u001b[0m \u001b[0mcompat\u001b[0m\u001b[0;34m.\u001b[0m\u001b[0mPY3\u001b[0m\u001b[0;34m:\u001b[0m\u001b[0;34m\u001b[0m\u001b[0m\n\u001b[1;32m     34\u001b[0m             \u001b[0;32mreturn\u001b[0m \u001b[0mself\u001b[0m\u001b[0;34m.\u001b[0m\u001b[0m__unicode__\u001b[0m\u001b[0;34m(\u001b[0m\u001b[0;34m)\u001b[0m\u001b[0;34m\u001b[0m\u001b[0m\n\u001b[0;32m---> 35\u001b[0;31m         \u001b[0;32mreturn\u001b[0m \u001b[0mself\u001b[0m\u001b[0;34m.\u001b[0m\u001b[0m__bytes__\u001b[0m\u001b[0;34m(\u001b[0m\u001b[0;34m)\u001b[0m\u001b[0;34m\u001b[0m\u001b[0m\n\u001b[0m\u001b[1;32m     36\u001b[0m \u001b[0;34m\u001b[0m\u001b[0m\n\u001b[1;32m     37\u001b[0m     \u001b[0;32mdef\u001b[0m \u001b[0m__bytes__\u001b[0m\u001b[0;34m(\u001b[0m\u001b[0mself\u001b[0m\u001b[0;34m)\u001b[0m\u001b[0;34m:\u001b[0m\u001b[0;34m\u001b[0m\u001b[0m\n",
        "\u001b[0;32m/usr/lib/python2.7/dist-packages/pandas/core/base.pyc\u001b[0m in \u001b[0;36m__bytes__\u001b[0;34m(self)\u001b[0m\n\u001b[1;32m     45\u001b[0m \u001b[0;34m\u001b[0m\u001b[0m\n\u001b[1;32m     46\u001b[0m         \u001b[0mencoding\u001b[0m \u001b[0;34m=\u001b[0m \u001b[0mget_option\u001b[0m\u001b[0;34m(\u001b[0m\u001b[0;34m\"display.encoding\"\u001b[0m\u001b[0;34m)\u001b[0m\u001b[0;34m\u001b[0m\u001b[0m\n\u001b[0;32m---> 47\u001b[0;31m         \u001b[0;32mreturn\u001b[0m \u001b[0mself\u001b[0m\u001b[0;34m.\u001b[0m\u001b[0m__unicode__\u001b[0m\u001b[0;34m(\u001b[0m\u001b[0;34m)\u001b[0m\u001b[0;34m.\u001b[0m\u001b[0mencode\u001b[0m\u001b[0;34m(\u001b[0m\u001b[0mencoding\u001b[0m\u001b[0;34m,\u001b[0m \u001b[0;34m'replace'\u001b[0m\u001b[0;34m)\u001b[0m\u001b[0;34m\u001b[0m\u001b[0m\n\u001b[0m\u001b[1;32m     48\u001b[0m \u001b[0;34m\u001b[0m\u001b[0m\n\u001b[1;32m     49\u001b[0m     \u001b[0;32mdef\u001b[0m \u001b[0m__repr__\u001b[0m\u001b[0;34m(\u001b[0m\u001b[0mself\u001b[0m\u001b[0;34m)\u001b[0m\u001b[0;34m:\u001b[0m\u001b[0;34m\u001b[0m\u001b[0m\n",
        "\u001b[0;32m/usr/lib/python2.7/dist-packages/pandas/core/frame.pyc\u001b[0m in \u001b[0;36m__unicode__\u001b[0;34m(self)\u001b[0m\n\u001b[1;32m    458\u001b[0m             \u001b[0mwidth\u001b[0m \u001b[0;34m=\u001b[0m \u001b[0mNone\u001b[0m\u001b[0;34m\u001b[0m\u001b[0m\n\u001b[1;32m    459\u001b[0m         self.to_string(buf=buf, max_rows=max_rows, max_cols=max_cols,\n\u001b[0;32m--> 460\u001b[0;31m                        line_width=width, show_dimensions=show_dimensions)\n\u001b[0m\u001b[1;32m    461\u001b[0m \u001b[0;34m\u001b[0m\u001b[0m\n\u001b[1;32m    462\u001b[0m         \u001b[0;32mreturn\u001b[0m \u001b[0mbuf\u001b[0m\u001b[0;34m.\u001b[0m\u001b[0mgetvalue\u001b[0m\u001b[0;34m(\u001b[0m\u001b[0;34m)\u001b[0m\u001b[0;34m\u001b[0m\u001b[0m\n",
        "\u001b[0;32m/usr/lib/python2.7/dist-packages/pandas/core/frame.pyc\u001b[0m in \u001b[0;36mto_string\u001b[0;34m(self, buf, columns, col_space, colSpace, header, index, na_rep, formatters, float_format, sparsify, nanRep, index_names, justify, force_unicode, line_width, max_rows, max_cols, show_dimensions)\u001b[0m\n\u001b[1;32m   1297\u001b[0m                                            \u001b[0mmax_cols\u001b[0m\u001b[0;34m=\u001b[0m\u001b[0mmax_cols\u001b[0m\u001b[0;34m,\u001b[0m\u001b[0;34m\u001b[0m\u001b[0m\n\u001b[1;32m   1298\u001b[0m                                            show_dimensions=show_dimensions)\n\u001b[0;32m-> 1299\u001b[0;31m         \u001b[0mformatter\u001b[0m\u001b[0;34m.\u001b[0m\u001b[0mto_string\u001b[0m\u001b[0;34m(\u001b[0m\u001b[0;34m)\u001b[0m\u001b[0;34m\u001b[0m\u001b[0m\n\u001b[0m\u001b[1;32m   1300\u001b[0m \u001b[0;34m\u001b[0m\u001b[0m\n\u001b[1;32m   1301\u001b[0m         \u001b[0;32mif\u001b[0m \u001b[0mbuf\u001b[0m \u001b[0;32mis\u001b[0m \u001b[0mNone\u001b[0m\u001b[0;34m:\u001b[0m\u001b[0;34m\u001b[0m\u001b[0m\n",
        "\u001b[0;32m/usr/lib/python2.7/dist-packages/pandas/core/format.pyc\u001b[0m in \u001b[0;36mto_string\u001b[0;34m(self, force_unicode)\u001b[0m\n\u001b[1;32m    378\u001b[0m             \u001b[0mtext\u001b[0m \u001b[0;34m=\u001b[0m \u001b[0minfo_line\u001b[0m\u001b[0;34m\u001b[0m\u001b[0m\n\u001b[1;32m    379\u001b[0m         \u001b[0;32melse\u001b[0m\u001b[0;34m:\u001b[0m\u001b[0;34m\u001b[0m\u001b[0m\n\u001b[0;32m--> 380\u001b[0;31m             \u001b[0mstrcols\u001b[0m \u001b[0;34m=\u001b[0m \u001b[0mself\u001b[0m\u001b[0;34m.\u001b[0m\u001b[0m_to_str_columns\u001b[0m\u001b[0;34m(\u001b[0m\u001b[0;34m)\u001b[0m\u001b[0;34m\u001b[0m\u001b[0m\n\u001b[0m\u001b[1;32m    381\u001b[0m             \u001b[0;32mif\u001b[0m \u001b[0mself\u001b[0m\u001b[0;34m.\u001b[0m\u001b[0mline_width\u001b[0m \u001b[0;32mis\u001b[0m \u001b[0mNone\u001b[0m\u001b[0;34m:\u001b[0m\u001b[0;34m\u001b[0m\u001b[0m\n\u001b[1;32m    382\u001b[0m                 \u001b[0mtext\u001b[0m \u001b[0;34m=\u001b[0m \u001b[0madjoin\u001b[0m\u001b[0;34m(\u001b[0m\u001b[0;36m1\u001b[0m\u001b[0;34m,\u001b[0m \u001b[0;34m*\u001b[0m\u001b[0mstrcols\u001b[0m\u001b[0;34m)\u001b[0m\u001b[0;34m\u001b[0m\u001b[0m\n",
        "\u001b[0;32m/usr/lib/python2.7/dist-packages/pandas/core/format.pyc\u001b[0m in \u001b[0;36m_to_str_columns\u001b[0;34m(self)\u001b[0m\n\u001b[1;32m    327\u001b[0m             \u001b[0mstringified\u001b[0m \u001b[0;34m=\u001b[0m \u001b[0;34m[\u001b[0m\u001b[0;34m]\u001b[0m\u001b[0;34m\u001b[0m\u001b[0m\n\u001b[1;32m    328\u001b[0m             \u001b[0;32mfor\u001b[0m \u001b[0mi\u001b[0m\u001b[0;34m,\u001b[0m \u001b[0mc\u001b[0m \u001b[0;32min\u001b[0m \u001b[0menumerate\u001b[0m\u001b[0;34m(\u001b[0m\u001b[0mcols_to_show\u001b[0m\u001b[0;34m)\u001b[0m\u001b[0;34m:\u001b[0m\u001b[0;34m\u001b[0m\u001b[0m\n\u001b[0;32m--> 329\u001b[0;31m                 \u001b[0mfmt_values\u001b[0m \u001b[0;34m=\u001b[0m \u001b[0mself\u001b[0m\u001b[0;34m.\u001b[0m\u001b[0m_format_col\u001b[0m\u001b[0;34m(\u001b[0m\u001b[0mi\u001b[0m\u001b[0;34m)\u001b[0m\u001b[0;34m\u001b[0m\u001b[0m\n\u001b[0m\u001b[1;32m    330\u001b[0m                 \u001b[0mcheader\u001b[0m \u001b[0;34m=\u001b[0m \u001b[0mstr_columns\u001b[0m\u001b[0;34m[\u001b[0m\u001b[0mi\u001b[0m\u001b[0;34m]\u001b[0m\u001b[0;34m\u001b[0m\u001b[0m\n\u001b[1;32m    331\u001b[0m \u001b[0;34m\u001b[0m\u001b[0m\n",
        "\u001b[0;32m/usr/lib/python2.7/dist-packages/pandas/core/format.pyc\u001b[0m in \u001b[0;36m_format_col\u001b[0;34m(self, i)\u001b[0m\n\u001b[1;32m    499\u001b[0m             \u001b[0;34m(\u001b[0m\u001b[0mself\u001b[0m\u001b[0;34m.\u001b[0m\u001b[0mframe\u001b[0m\u001b[0;34m.\u001b[0m\u001b[0miloc\u001b[0m\u001b[0;34m[\u001b[0m\u001b[0;34m:\u001b[0m\u001b[0mself\u001b[0m\u001b[0;34m.\u001b[0m\u001b[0mmax_rows_displayed\u001b[0m\u001b[0;34m,\u001b[0m \u001b[0mi\u001b[0m\u001b[0;34m]\u001b[0m\u001b[0;34m)\u001b[0m\u001b[0;34m.\u001b[0m\u001b[0mget_values\u001b[0m\u001b[0;34m(\u001b[0m\u001b[0;34m)\u001b[0m\u001b[0;34m,\u001b[0m\u001b[0;34m\u001b[0m\u001b[0m\n\u001b[1;32m    500\u001b[0m             \u001b[0mformatter\u001b[0m\u001b[0;34m,\u001b[0m \u001b[0mfloat_format\u001b[0m\u001b[0;34m=\u001b[0m\u001b[0mself\u001b[0m\u001b[0;34m.\u001b[0m\u001b[0mfloat_format\u001b[0m\u001b[0;34m,\u001b[0m \u001b[0mna_rep\u001b[0m\u001b[0;34m=\u001b[0m\u001b[0mself\u001b[0m\u001b[0;34m.\u001b[0m\u001b[0mna_rep\u001b[0m\u001b[0;34m,\u001b[0m\u001b[0;34m\u001b[0m\u001b[0m\n\u001b[0;32m--> 501\u001b[0;31m             \u001b[0mspace\u001b[0m\u001b[0;34m=\u001b[0m\u001b[0mself\u001b[0m\u001b[0;34m.\u001b[0m\u001b[0mcol_space\u001b[0m\u001b[0;34m\u001b[0m\u001b[0m\n\u001b[0m\u001b[1;32m    502\u001b[0m         )\n\u001b[1;32m    503\u001b[0m \u001b[0;34m\u001b[0m\u001b[0m\n",
        "\u001b[0;32m/usr/lib/python2.7/dist-packages/pandas/core/format.pyc\u001b[0m in \u001b[0;36mformat_array\u001b[0;34m(values, formatter, float_format, na_rep, digits, space, justify)\u001b[0m\n\u001b[1;32m   1624\u001b[0m                         justify=justify)\n\u001b[1;32m   1625\u001b[0m \u001b[0;34m\u001b[0m\u001b[0m\n\u001b[0;32m-> 1626\u001b[0;31m     \u001b[0;32mreturn\u001b[0m \u001b[0mfmt_obj\u001b[0m\u001b[0;34m.\u001b[0m\u001b[0mget_result\u001b[0m\u001b[0;34m(\u001b[0m\u001b[0;34m)\u001b[0m\u001b[0;34m\u001b[0m\u001b[0m\n\u001b[0m\u001b[1;32m   1627\u001b[0m \u001b[0;34m\u001b[0m\u001b[0m\n\u001b[1;32m   1628\u001b[0m \u001b[0;34m\u001b[0m\u001b[0m\n",
        "\u001b[0;32m/usr/lib/python2.7/dist-packages/pandas/core/format.pyc\u001b[0m in \u001b[0;36mget_result\u001b[0;34m(self)\u001b[0m\n\u001b[1;32m   1640\u001b[0m \u001b[0;34m\u001b[0m\u001b[0m\n\u001b[1;32m   1641\u001b[0m     \u001b[0;32mdef\u001b[0m \u001b[0mget_result\u001b[0m\u001b[0;34m(\u001b[0m\u001b[0mself\u001b[0m\u001b[0;34m)\u001b[0m\u001b[0;34m:\u001b[0m\u001b[0;34m\u001b[0m\u001b[0m\n\u001b[0;32m-> 1642\u001b[0;31m         \u001b[0mfmt_values\u001b[0m \u001b[0;34m=\u001b[0m \u001b[0mself\u001b[0m\u001b[0;34m.\u001b[0m\u001b[0m_format_strings\u001b[0m\u001b[0;34m(\u001b[0m\u001b[0;34m)\u001b[0m\u001b[0;34m\u001b[0m\u001b[0m\n\u001b[0m\u001b[1;32m   1643\u001b[0m         \u001b[0;32mreturn\u001b[0m \u001b[0m_make_fixed_width\u001b[0m\u001b[0;34m(\u001b[0m\u001b[0mfmt_values\u001b[0m\u001b[0;34m,\u001b[0m \u001b[0mself\u001b[0m\u001b[0;34m.\u001b[0m\u001b[0mjustify\u001b[0m\u001b[0;34m)\u001b[0m\u001b[0;34m\u001b[0m\u001b[0m\n\u001b[1;32m   1644\u001b[0m \u001b[0;34m\u001b[0m\u001b[0m\n",
        "\u001b[0;32m/usr/lib/python2.7/dist-packages/pandas/core/format.pyc\u001b[0m in \u001b[0;36m_format_strings\u001b[0;34m(self)\u001b[0m\n\u001b[1;32m   1668\u001b[0m         \u001b[0mvals\u001b[0m \u001b[0;34m=\u001b[0m \u001b[0mself\u001b[0m\u001b[0;34m.\u001b[0m\u001b[0mvalues\u001b[0m\u001b[0;34m\u001b[0m\u001b[0m\n\u001b[1;32m   1669\u001b[0m \u001b[0;34m\u001b[0m\u001b[0m\n\u001b[0;32m-> 1670\u001b[0;31m         \u001b[0mis_float\u001b[0m \u001b[0;34m=\u001b[0m \u001b[0mlib\u001b[0m\u001b[0;34m.\u001b[0m\u001b[0mmap_infer\u001b[0m\u001b[0;34m(\u001b[0m\u001b[0mvals\u001b[0m\u001b[0;34m,\u001b[0m \u001b[0mcom\u001b[0m\u001b[0;34m.\u001b[0m\u001b[0mis_float\u001b[0m\u001b[0;34m)\u001b[0m \u001b[0;34m&\u001b[0m \u001b[0mnotnull\u001b[0m\u001b[0;34m(\u001b[0m\u001b[0mvals\u001b[0m\u001b[0;34m)\u001b[0m\u001b[0;34m\u001b[0m\u001b[0m\n\u001b[0m\u001b[1;32m   1671\u001b[0m         \u001b[0mleading_space\u001b[0m \u001b[0;34m=\u001b[0m \u001b[0mis_float\u001b[0m\u001b[0;34m.\u001b[0m\u001b[0many\u001b[0m\u001b[0;34m(\u001b[0m\u001b[0;34m)\u001b[0m\u001b[0;34m\u001b[0m\u001b[0m\n\u001b[1;32m   1672\u001b[0m \u001b[0;34m\u001b[0m\u001b[0m\n",
        "\u001b[0;32m/usr/lib/python2.7/dist-packages/pandas/core/common.pyc\u001b[0m in \u001b[0;36mnotnull\u001b[0;34m(obj)\u001b[0m\n\u001b[1;32m    274\u001b[0m     \u001b[0;32mif\u001b[0m \u001b[0mnp\u001b[0m\u001b[0;34m.\u001b[0m\u001b[0misscalar\u001b[0m\u001b[0;34m(\u001b[0m\u001b[0mres\u001b[0m\u001b[0;34m)\u001b[0m\u001b[0;34m:\u001b[0m\u001b[0;34m\u001b[0m\u001b[0m\n\u001b[1;32m    275\u001b[0m         \u001b[0;32mreturn\u001b[0m \u001b[0;32mnot\u001b[0m \u001b[0mres\u001b[0m\u001b[0;34m\u001b[0m\u001b[0m\n\u001b[0;32m--> 276\u001b[0;31m     \u001b[0;32mreturn\u001b[0m \u001b[0;34m-\u001b[0m\u001b[0mres\u001b[0m\u001b[0;34m\u001b[0m\u001b[0m\n\u001b[0m\u001b[1;32m    277\u001b[0m \u001b[0;34m\u001b[0m\u001b[0m\n\u001b[1;32m    278\u001b[0m \u001b[0;32mdef\u001b[0m \u001b[0m_is_null_datelike_scalar\u001b[0m\u001b[0;34m(\u001b[0m\u001b[0mother\u001b[0m\u001b[0;34m)\u001b[0m\u001b[0;34m:\u001b[0m\u001b[0;34m\u001b[0m\u001b[0m\n",
        "\u001b[0;31mTypeError\u001b[0m: The numpy boolean negative, the `-` operator, is not supported, use the `~` operator or the logical_not function instead."
       ]
      }
     ],
     "prompt_number": 9
    },
    {
     "cell_type": "code",
     "collapsed": false,
     "input": [
      "agg_dat.DataFrame[\"alphas\"][0:1]"
     ],
     "language": "python",
     "metadata": {},
     "outputs": [
      {
       "ename": "TypeError",
       "evalue": "The numpy boolean negative, the `-` operator, is not supported, use the `~` operator or the logical_not function instead.",
       "output_type": "pyerr",
       "traceback": [
        "\u001b[0;31m---------------------------------------------------------------------------\u001b[0m\n\u001b[0;31mTypeError\u001b[0m                                 Traceback (most recent call last)",
        "\u001b[0;32m<ipython-input-17-6408f25bbc54>\u001b[0m in \u001b[0;36m<module>\u001b[0;34m()\u001b[0m\n\u001b[0;32m----> 1\u001b[0;31m \u001b[0magg_dat\u001b[0m\u001b[0;34m.\u001b[0m\u001b[0mDataFrame\u001b[0m\u001b[0;34m[\u001b[0m\u001b[0;34m\"alphas\"\u001b[0m\u001b[0;34m]\u001b[0m\u001b[0;34m[\u001b[0m\u001b[0;36m0\u001b[0m\u001b[0;34m:\u001b[0m\u001b[0;36m1\u001b[0m\u001b[0;34m]\u001b[0m\u001b[0;34m\u001b[0m\u001b[0m\n\u001b[0m",
        "\u001b[0;32m/usr/lib/python2.7/dist-packages/IPython/core/displayhook.pyc\u001b[0m in \u001b[0;36m__call__\u001b[0;34m(self, result)\u001b[0m\n\u001b[1;32m    245\u001b[0m             \u001b[0mself\u001b[0m\u001b[0;34m.\u001b[0m\u001b[0mstart_displayhook\u001b[0m\u001b[0;34m(\u001b[0m\u001b[0;34m)\u001b[0m\u001b[0;34m\u001b[0m\u001b[0m\n\u001b[1;32m    246\u001b[0m             \u001b[0mself\u001b[0m\u001b[0;34m.\u001b[0m\u001b[0mwrite_output_prompt\u001b[0m\u001b[0;34m(\u001b[0m\u001b[0;34m)\u001b[0m\u001b[0;34m\u001b[0m\u001b[0m\n\u001b[0;32m--> 247\u001b[0;31m             \u001b[0mformat_dict\u001b[0m\u001b[0;34m,\u001b[0m \u001b[0mmd_dict\u001b[0m \u001b[0;34m=\u001b[0m \u001b[0mself\u001b[0m\u001b[0;34m.\u001b[0m\u001b[0mcompute_format_data\u001b[0m\u001b[0;34m(\u001b[0m\u001b[0mresult\u001b[0m\u001b[0;34m)\u001b[0m\u001b[0;34m\u001b[0m\u001b[0m\n\u001b[0m\u001b[1;32m    248\u001b[0m             \u001b[0mself\u001b[0m\u001b[0;34m.\u001b[0m\u001b[0mwrite_format_data\u001b[0m\u001b[0;34m(\u001b[0m\u001b[0mformat_dict\u001b[0m\u001b[0;34m,\u001b[0m \u001b[0mmd_dict\u001b[0m\u001b[0;34m)\u001b[0m\u001b[0;34m\u001b[0m\u001b[0m\n\u001b[1;32m    249\u001b[0m             \u001b[0mself\u001b[0m\u001b[0;34m.\u001b[0m\u001b[0mupdate_user_ns\u001b[0m\u001b[0;34m(\u001b[0m\u001b[0mresult\u001b[0m\u001b[0;34m)\u001b[0m\u001b[0;34m\u001b[0m\u001b[0m\n",
        "\u001b[0;32m/usr/lib/python2.7/dist-packages/IPython/core/displayhook.pyc\u001b[0m in \u001b[0;36mcompute_format_data\u001b[0;34m(self, result)\u001b[0m\n\u001b[1;32m    155\u001b[0m \u001b[0;34m\u001b[0m\u001b[0m\n\u001b[1;32m    156\u001b[0m         \"\"\"\n\u001b[0;32m--> 157\u001b[0;31m         \u001b[0;32mreturn\u001b[0m \u001b[0mself\u001b[0m\u001b[0;34m.\u001b[0m\u001b[0mshell\u001b[0m\u001b[0;34m.\u001b[0m\u001b[0mdisplay_formatter\u001b[0m\u001b[0;34m.\u001b[0m\u001b[0mformat\u001b[0m\u001b[0;34m(\u001b[0m\u001b[0mresult\u001b[0m\u001b[0;34m)\u001b[0m\u001b[0;34m\u001b[0m\u001b[0m\n\u001b[0m\u001b[1;32m    158\u001b[0m \u001b[0;34m\u001b[0m\u001b[0m\n\u001b[1;32m    159\u001b[0m     \u001b[0;32mdef\u001b[0m \u001b[0mwrite_format_data\u001b[0m\u001b[0;34m(\u001b[0m\u001b[0mself\u001b[0m\u001b[0;34m,\u001b[0m \u001b[0mformat_dict\u001b[0m\u001b[0;34m,\u001b[0m \u001b[0mmd_dict\u001b[0m\u001b[0;34m=\u001b[0m\u001b[0mNone\u001b[0m\u001b[0;34m)\u001b[0m\u001b[0;34m:\u001b[0m\u001b[0;34m\u001b[0m\u001b[0m\n",
        "\u001b[0;32m/usr/lib/python2.7/dist-packages/IPython/core/formatters.pyc\u001b[0m in \u001b[0;36mformat\u001b[0;34m(self, obj, include, exclude)\u001b[0m\n\u001b[1;32m    150\u001b[0m             \u001b[0mmd\u001b[0m \u001b[0;34m=\u001b[0m \u001b[0mNone\u001b[0m\u001b[0;34m\u001b[0m\u001b[0m\n\u001b[1;32m    151\u001b[0m             \u001b[0;32mtry\u001b[0m\u001b[0;34m:\u001b[0m\u001b[0;34m\u001b[0m\u001b[0m\n\u001b[0;32m--> 152\u001b[0;31m                 \u001b[0mdata\u001b[0m \u001b[0;34m=\u001b[0m \u001b[0mformatter\u001b[0m\u001b[0;34m(\u001b[0m\u001b[0mobj\u001b[0m\u001b[0;34m)\u001b[0m\u001b[0;34m\u001b[0m\u001b[0m\n\u001b[0m\u001b[1;32m    153\u001b[0m             \u001b[0;32mexcept\u001b[0m\u001b[0;34m:\u001b[0m\u001b[0;34m\u001b[0m\u001b[0m\n\u001b[1;32m    154\u001b[0m                 \u001b[0;31m# FIXME: log the exception\u001b[0m\u001b[0;34m\u001b[0m\u001b[0;34m\u001b[0m\u001b[0m\n",
        "\u001b[0;32m/usr/lib/python2.7/dist-packages/IPython/core/formatters.pyc\u001b[0m in \u001b[0;36m__call__\u001b[0;34m(self, obj)\u001b[0m\n\u001b[1;32m    479\u001b[0m                 \u001b[0mtype_pprinters\u001b[0m\u001b[0;34m=\u001b[0m\u001b[0mself\u001b[0m\u001b[0;34m.\u001b[0m\u001b[0mtype_printers\u001b[0m\u001b[0;34m,\u001b[0m\u001b[0;34m\u001b[0m\u001b[0m\n\u001b[1;32m    480\u001b[0m                 deferred_pprinters=self.deferred_printers)\n\u001b[0;32m--> 481\u001b[0;31m             \u001b[0mprinter\u001b[0m\u001b[0;34m.\u001b[0m\u001b[0mpretty\u001b[0m\u001b[0;34m(\u001b[0m\u001b[0mobj\u001b[0m\u001b[0;34m)\u001b[0m\u001b[0;34m\u001b[0m\u001b[0m\n\u001b[0m\u001b[1;32m    482\u001b[0m             \u001b[0mprinter\u001b[0m\u001b[0;34m.\u001b[0m\u001b[0mflush\u001b[0m\u001b[0;34m(\u001b[0m\u001b[0;34m)\u001b[0m\u001b[0;34m\u001b[0m\u001b[0m\n\u001b[1;32m    483\u001b[0m             \u001b[0;32mreturn\u001b[0m \u001b[0mstream\u001b[0m\u001b[0;34m.\u001b[0m\u001b[0mgetvalue\u001b[0m\u001b[0;34m(\u001b[0m\u001b[0;34m)\u001b[0m\u001b[0;34m\u001b[0m\u001b[0m\n",
        "\u001b[0;32m/usr/lib/python2.7/dist-packages/IPython/lib/pretty.pyc\u001b[0m in \u001b[0;36mpretty\u001b[0;34m(self, obj)\u001b[0m\n\u001b[1;32m    360\u001b[0m                             \u001b[0;32mif\u001b[0m \u001b[0mcallable\u001b[0m\u001b[0;34m(\u001b[0m\u001b[0mmeth\u001b[0m\u001b[0;34m)\u001b[0m\u001b[0;34m:\u001b[0m\u001b[0;34m\u001b[0m\u001b[0m\n\u001b[1;32m    361\u001b[0m                                 \u001b[0;32mreturn\u001b[0m \u001b[0mmeth\u001b[0m\u001b[0;34m(\u001b[0m\u001b[0mobj\u001b[0m\u001b[0;34m,\u001b[0m \u001b[0mself\u001b[0m\u001b[0;34m,\u001b[0m \u001b[0mcycle\u001b[0m\u001b[0;34m)\u001b[0m\u001b[0;34m\u001b[0m\u001b[0m\n\u001b[0;32m--> 362\u001b[0;31m             \u001b[0;32mreturn\u001b[0m \u001b[0m_default_pprint\u001b[0m\u001b[0;34m(\u001b[0m\u001b[0mobj\u001b[0m\u001b[0;34m,\u001b[0m \u001b[0mself\u001b[0m\u001b[0;34m,\u001b[0m \u001b[0mcycle\u001b[0m\u001b[0;34m)\u001b[0m\u001b[0;34m\u001b[0m\u001b[0m\n\u001b[0m\u001b[1;32m    363\u001b[0m         \u001b[0;32mfinally\u001b[0m\u001b[0;34m:\u001b[0m\u001b[0;34m\u001b[0m\u001b[0m\n\u001b[1;32m    364\u001b[0m             \u001b[0mself\u001b[0m\u001b[0;34m.\u001b[0m\u001b[0mend_group\u001b[0m\u001b[0;34m(\u001b[0m\u001b[0;34m)\u001b[0m\u001b[0;34m\u001b[0m\u001b[0m\n",
        "\u001b[0;32m/usr/lib/python2.7/dist-packages/IPython/lib/pretty.pyc\u001b[0m in \u001b[0;36m_default_pprint\u001b[0;34m(obj, p, cycle)\u001b[0m\n\u001b[1;32m    480\u001b[0m     \u001b[0;32mif\u001b[0m \u001b[0mgetattr\u001b[0m\u001b[0;34m(\u001b[0m\u001b[0mklass\u001b[0m\u001b[0;34m,\u001b[0m \u001b[0;34m'__repr__'\u001b[0m\u001b[0;34m,\u001b[0m \u001b[0mNone\u001b[0m\u001b[0;34m)\u001b[0m \u001b[0;32mnot\u001b[0m \u001b[0;32min\u001b[0m \u001b[0m_baseclass_reprs\u001b[0m\u001b[0;34m:\u001b[0m\u001b[0;34m\u001b[0m\u001b[0m\n\u001b[1;32m    481\u001b[0m         \u001b[0;31m# A user-provided repr.\u001b[0m\u001b[0;34m\u001b[0m\u001b[0;34m\u001b[0m\u001b[0m\n\u001b[0;32m--> 482\u001b[0;31m         \u001b[0mp\u001b[0m\u001b[0;34m.\u001b[0m\u001b[0mtext\u001b[0m\u001b[0;34m(\u001b[0m\u001b[0mrepr\u001b[0m\u001b[0;34m(\u001b[0m\u001b[0mobj\u001b[0m\u001b[0;34m)\u001b[0m\u001b[0;34m)\u001b[0m\u001b[0;34m\u001b[0m\u001b[0m\n\u001b[0m\u001b[1;32m    483\u001b[0m         \u001b[0;32mreturn\u001b[0m\u001b[0;34m\u001b[0m\u001b[0m\n\u001b[1;32m    484\u001b[0m     \u001b[0mp\u001b[0m\u001b[0;34m.\u001b[0m\u001b[0mbegin_group\u001b[0m\u001b[0;34m(\u001b[0m\u001b[0;36m1\u001b[0m\u001b[0;34m,\u001b[0m \u001b[0;34m'<'\u001b[0m\u001b[0;34m)\u001b[0m\u001b[0;34m\u001b[0m\u001b[0m\n",
        "\u001b[0;32m/usr/lib/python2.7/dist-packages/pandas/core/base.pyc\u001b[0m in \u001b[0;36m__repr__\u001b[0;34m(self)\u001b[0m\n\u001b[1;32m     53\u001b[0m         \u001b[0mYields\u001b[0m \u001b[0mBytestring\u001b[0m \u001b[0;32min\u001b[0m \u001b[0mPy2\u001b[0m\u001b[0;34m,\u001b[0m \u001b[0mUnicode\u001b[0m \u001b[0mString\u001b[0m \u001b[0;32min\u001b[0m \u001b[0mpy3\u001b[0m\u001b[0;34m.\u001b[0m\u001b[0;34m\u001b[0m\u001b[0m\n\u001b[1;32m     54\u001b[0m         \"\"\"\n\u001b[0;32m---> 55\u001b[0;31m         \u001b[0;32mreturn\u001b[0m \u001b[0mstr\u001b[0m\u001b[0;34m(\u001b[0m\u001b[0mself\u001b[0m\u001b[0;34m)\u001b[0m\u001b[0;34m\u001b[0m\u001b[0m\n\u001b[0m\u001b[1;32m     56\u001b[0m \u001b[0;34m\u001b[0m\u001b[0m\n\u001b[1;32m     57\u001b[0m \u001b[0;34m\u001b[0m\u001b[0m\n",
        "\u001b[0;32m/usr/lib/python2.7/dist-packages/pandas/core/base.pyc\u001b[0m in \u001b[0;36m__str__\u001b[0;34m(self)\u001b[0m\n\u001b[1;32m     33\u001b[0m         \u001b[0;32mif\u001b[0m \u001b[0mcompat\u001b[0m\u001b[0;34m.\u001b[0m\u001b[0mPY3\u001b[0m\u001b[0;34m:\u001b[0m\u001b[0;34m\u001b[0m\u001b[0m\n\u001b[1;32m     34\u001b[0m             \u001b[0;32mreturn\u001b[0m \u001b[0mself\u001b[0m\u001b[0;34m.\u001b[0m\u001b[0m__unicode__\u001b[0m\u001b[0;34m(\u001b[0m\u001b[0;34m)\u001b[0m\u001b[0;34m\u001b[0m\u001b[0m\n\u001b[0;32m---> 35\u001b[0;31m         \u001b[0;32mreturn\u001b[0m \u001b[0mself\u001b[0m\u001b[0;34m.\u001b[0m\u001b[0m__bytes__\u001b[0m\u001b[0;34m(\u001b[0m\u001b[0;34m)\u001b[0m\u001b[0;34m\u001b[0m\u001b[0m\n\u001b[0m\u001b[1;32m     36\u001b[0m \u001b[0;34m\u001b[0m\u001b[0m\n\u001b[1;32m     37\u001b[0m     \u001b[0;32mdef\u001b[0m \u001b[0m__bytes__\u001b[0m\u001b[0;34m(\u001b[0m\u001b[0mself\u001b[0m\u001b[0;34m)\u001b[0m\u001b[0;34m:\u001b[0m\u001b[0;34m\u001b[0m\u001b[0m\n",
        "\u001b[0;32m/usr/lib/python2.7/dist-packages/pandas/core/base.pyc\u001b[0m in \u001b[0;36m__bytes__\u001b[0;34m(self)\u001b[0m\n\u001b[1;32m     45\u001b[0m \u001b[0;34m\u001b[0m\u001b[0m\n\u001b[1;32m     46\u001b[0m         \u001b[0mencoding\u001b[0m \u001b[0;34m=\u001b[0m \u001b[0mget_option\u001b[0m\u001b[0;34m(\u001b[0m\u001b[0;34m\"display.encoding\"\u001b[0m\u001b[0;34m)\u001b[0m\u001b[0;34m\u001b[0m\u001b[0m\n\u001b[0;32m---> 47\u001b[0;31m         \u001b[0;32mreturn\u001b[0m \u001b[0mself\u001b[0m\u001b[0;34m.\u001b[0m\u001b[0m__unicode__\u001b[0m\u001b[0;34m(\u001b[0m\u001b[0;34m)\u001b[0m\u001b[0;34m.\u001b[0m\u001b[0mencode\u001b[0m\u001b[0;34m(\u001b[0m\u001b[0mencoding\u001b[0m\u001b[0;34m,\u001b[0m \u001b[0;34m'replace'\u001b[0m\u001b[0;34m)\u001b[0m\u001b[0;34m\u001b[0m\u001b[0m\n\u001b[0m\u001b[1;32m     48\u001b[0m \u001b[0;34m\u001b[0m\u001b[0m\n\u001b[1;32m     49\u001b[0m     \u001b[0;32mdef\u001b[0m \u001b[0m__repr__\u001b[0m\u001b[0;34m(\u001b[0m\u001b[0mself\u001b[0m\u001b[0;34m)\u001b[0m\u001b[0;34m:\u001b[0m\u001b[0;34m\u001b[0m\u001b[0m\n",
        "\u001b[0;32m/usr/lib/python2.7/dist-packages/pandas/core/series.pyc\u001b[0m in \u001b[0;36m__unicode__\u001b[0;34m(self)\u001b[0m\n\u001b[1;32m    868\u001b[0m                                     \u001b[0mlength\u001b[0m\u001b[0;34m=\u001b[0m\u001b[0mlen\u001b[0m\u001b[0;34m(\u001b[0m\u001b[0mself\u001b[0m\u001b[0;34m)\u001b[0m \u001b[0;34m>\u001b[0m \u001b[0;36m50\u001b[0m\u001b[0;34m,\u001b[0m\u001b[0;34m\u001b[0m\u001b[0m\n\u001b[1;32m    869\u001b[0m                                     \u001b[0mname\u001b[0m\u001b[0;34m=\u001b[0m\u001b[0mTrue\u001b[0m\u001b[0;34m,\u001b[0m\u001b[0;34m\u001b[0m\u001b[0m\n\u001b[0;32m--> 870\u001b[0;31m                                     dtype=True)\n\u001b[0m\u001b[1;32m    871\u001b[0m         \u001b[0;32melif\u001b[0m \u001b[0mself\u001b[0m\u001b[0;34m.\u001b[0m\u001b[0mname\u001b[0m \u001b[0;32mis\u001b[0m \u001b[0mNone\u001b[0m\u001b[0;34m:\u001b[0m\u001b[0;34m\u001b[0m\u001b[0m\n\u001b[1;32m    872\u001b[0m             \u001b[0mresult\u001b[0m \u001b[0;34m=\u001b[0m \u001b[0mu\u001b[0m\u001b[0;34m(\u001b[0m\u001b[0;34m'Series([], dtype: %s)'\u001b[0m\u001b[0;34m)\u001b[0m \u001b[0;34m%\u001b[0m \u001b[0;34m(\u001b[0m\u001b[0mself\u001b[0m\u001b[0;34m.\u001b[0m\u001b[0mdtype\u001b[0m\u001b[0;34m)\u001b[0m\u001b[0;34m\u001b[0m\u001b[0m\n",
        "\u001b[0;32m/usr/lib/python2.7/dist-packages/pandas/core/series.pyc\u001b[0m in \u001b[0;36m_get_repr\u001b[0;34m(self, name, print_header, length, dtype, na_rep, float_format)\u001b[0m\n\u001b[1;32m    973\u001b[0m                                         \u001b[0mna_rep\u001b[0m\u001b[0;34m=\u001b[0m\u001b[0mna_rep\u001b[0m\u001b[0;34m,\u001b[0m\u001b[0;34m\u001b[0m\u001b[0m\n\u001b[1;32m    974\u001b[0m                                         float_format=float_format)\n\u001b[0;32m--> 975\u001b[0;31m         \u001b[0mresult\u001b[0m \u001b[0;34m=\u001b[0m \u001b[0mformatter\u001b[0m\u001b[0;34m.\u001b[0m\u001b[0mto_string\u001b[0m\u001b[0;34m(\u001b[0m\u001b[0;34m)\u001b[0m\u001b[0;34m\u001b[0m\u001b[0m\n\u001b[0m\u001b[1;32m    976\u001b[0m \u001b[0;34m\u001b[0m\u001b[0m\n\u001b[1;32m    977\u001b[0m         \u001b[0;31m# TODO: following check prob. not neces.\u001b[0m\u001b[0;34m\u001b[0m\u001b[0;34m\u001b[0m\u001b[0m\n",
        "\u001b[0;32m/usr/lib/python2.7/dist-packages/pandas/core/format.pyc\u001b[0m in \u001b[0;36mto_string\u001b[0;34m(self)\u001b[0m\n\u001b[1;32m    201\u001b[0m \u001b[0;34m\u001b[0m\u001b[0m\n\u001b[1;32m    202\u001b[0m         \u001b[0mfmt_index\u001b[0m\u001b[0;34m,\u001b[0m \u001b[0mhave_header\u001b[0m \u001b[0;34m=\u001b[0m \u001b[0mself\u001b[0m\u001b[0;34m.\u001b[0m\u001b[0m_get_formatted_index\u001b[0m\u001b[0;34m(\u001b[0m\u001b[0;34m)\u001b[0m\u001b[0;34m\u001b[0m\u001b[0m\n\u001b[0;32m--> 203\u001b[0;31m         \u001b[0mfmt_values\u001b[0m \u001b[0;34m=\u001b[0m \u001b[0mself\u001b[0m\u001b[0;34m.\u001b[0m\u001b[0m_get_formatted_values\u001b[0m\u001b[0;34m(\u001b[0m\u001b[0;34m)\u001b[0m\u001b[0;34m\u001b[0m\u001b[0m\n\u001b[0m\u001b[1;32m    204\u001b[0m \u001b[0;34m\u001b[0m\u001b[0m\n\u001b[1;32m    205\u001b[0m         \u001b[0mmaxlen\u001b[0m \u001b[0;34m=\u001b[0m \u001b[0mmax\u001b[0m\u001b[0;34m(\u001b[0m\u001b[0mlen\u001b[0m\u001b[0;34m(\u001b[0m\u001b[0mx\u001b[0m\u001b[0;34m)\u001b[0m \u001b[0;32mfor\u001b[0m \u001b[0mx\u001b[0m \u001b[0;32min\u001b[0m \u001b[0mfmt_index\u001b[0m\u001b[0;34m)\u001b[0m\u001b[0;34m\u001b[0m\u001b[0m\n",
        "\u001b[0;32m/usr/lib/python2.7/dist-packages/pandas/core/format.pyc\u001b[0m in \u001b[0;36m_get_formatted_values\u001b[0;34m(self)\u001b[0m\n\u001b[1;32m    192\u001b[0m         return format_array(self.series.values, None,\n\u001b[1;32m    193\u001b[0m                             \u001b[0mfloat_format\u001b[0m\u001b[0;34m=\u001b[0m\u001b[0mself\u001b[0m\u001b[0;34m.\u001b[0m\u001b[0mfloat_format\u001b[0m\u001b[0;34m,\u001b[0m\u001b[0;34m\u001b[0m\u001b[0m\n\u001b[0;32m--> 194\u001b[0;31m                             na_rep=self.na_rep)\n\u001b[0m\u001b[1;32m    195\u001b[0m \u001b[0;34m\u001b[0m\u001b[0m\n\u001b[1;32m    196\u001b[0m     \u001b[0;32mdef\u001b[0m \u001b[0mto_string\u001b[0m\u001b[0;34m(\u001b[0m\u001b[0mself\u001b[0m\u001b[0;34m)\u001b[0m\u001b[0;34m:\u001b[0m\u001b[0;34m\u001b[0m\u001b[0m\n",
        "\u001b[0;32m/usr/lib/python2.7/dist-packages/pandas/core/format.pyc\u001b[0m in \u001b[0;36mformat_array\u001b[0;34m(values, formatter, float_format, na_rep, digits, space, justify)\u001b[0m\n\u001b[1;32m   1624\u001b[0m                         justify=justify)\n\u001b[1;32m   1625\u001b[0m \u001b[0;34m\u001b[0m\u001b[0m\n\u001b[0;32m-> 1626\u001b[0;31m     \u001b[0;32mreturn\u001b[0m \u001b[0mfmt_obj\u001b[0m\u001b[0;34m.\u001b[0m\u001b[0mget_result\u001b[0m\u001b[0;34m(\u001b[0m\u001b[0;34m)\u001b[0m\u001b[0;34m\u001b[0m\u001b[0m\n\u001b[0m\u001b[1;32m   1627\u001b[0m \u001b[0;34m\u001b[0m\u001b[0m\n\u001b[1;32m   1628\u001b[0m \u001b[0;34m\u001b[0m\u001b[0m\n",
        "\u001b[0;32m/usr/lib/python2.7/dist-packages/pandas/core/format.pyc\u001b[0m in \u001b[0;36mget_result\u001b[0;34m(self)\u001b[0m\n\u001b[1;32m   1640\u001b[0m \u001b[0;34m\u001b[0m\u001b[0m\n\u001b[1;32m   1641\u001b[0m     \u001b[0;32mdef\u001b[0m \u001b[0mget_result\u001b[0m\u001b[0;34m(\u001b[0m\u001b[0mself\u001b[0m\u001b[0;34m)\u001b[0m\u001b[0;34m:\u001b[0m\u001b[0;34m\u001b[0m\u001b[0m\n\u001b[0;32m-> 1642\u001b[0;31m         \u001b[0mfmt_values\u001b[0m \u001b[0;34m=\u001b[0m \u001b[0mself\u001b[0m\u001b[0;34m.\u001b[0m\u001b[0m_format_strings\u001b[0m\u001b[0;34m(\u001b[0m\u001b[0;34m)\u001b[0m\u001b[0;34m\u001b[0m\u001b[0m\n\u001b[0m\u001b[1;32m   1643\u001b[0m         \u001b[0;32mreturn\u001b[0m \u001b[0m_make_fixed_width\u001b[0m\u001b[0;34m(\u001b[0m\u001b[0mfmt_values\u001b[0m\u001b[0;34m,\u001b[0m \u001b[0mself\u001b[0m\u001b[0;34m.\u001b[0m\u001b[0mjustify\u001b[0m\u001b[0;34m)\u001b[0m\u001b[0;34m\u001b[0m\u001b[0m\n\u001b[1;32m   1644\u001b[0m \u001b[0;34m\u001b[0m\u001b[0m\n",
        "\u001b[0;32m/usr/lib/python2.7/dist-packages/pandas/core/format.pyc\u001b[0m in \u001b[0;36m_format_strings\u001b[0;34m(self)\u001b[0m\n\u001b[1;32m   1668\u001b[0m         \u001b[0mvals\u001b[0m \u001b[0;34m=\u001b[0m \u001b[0mself\u001b[0m\u001b[0;34m.\u001b[0m\u001b[0mvalues\u001b[0m\u001b[0;34m\u001b[0m\u001b[0m\n\u001b[1;32m   1669\u001b[0m \u001b[0;34m\u001b[0m\u001b[0m\n\u001b[0;32m-> 1670\u001b[0;31m         \u001b[0mis_float\u001b[0m \u001b[0;34m=\u001b[0m \u001b[0mlib\u001b[0m\u001b[0;34m.\u001b[0m\u001b[0mmap_infer\u001b[0m\u001b[0;34m(\u001b[0m\u001b[0mvals\u001b[0m\u001b[0;34m,\u001b[0m \u001b[0mcom\u001b[0m\u001b[0;34m.\u001b[0m\u001b[0mis_float\u001b[0m\u001b[0;34m)\u001b[0m \u001b[0;34m&\u001b[0m \u001b[0mnotnull\u001b[0m\u001b[0;34m(\u001b[0m\u001b[0mvals\u001b[0m\u001b[0;34m)\u001b[0m\u001b[0;34m\u001b[0m\u001b[0m\n\u001b[0m\u001b[1;32m   1671\u001b[0m         \u001b[0mleading_space\u001b[0m \u001b[0;34m=\u001b[0m \u001b[0mis_float\u001b[0m\u001b[0;34m.\u001b[0m\u001b[0many\u001b[0m\u001b[0;34m(\u001b[0m\u001b[0;34m)\u001b[0m\u001b[0;34m\u001b[0m\u001b[0m\n\u001b[1;32m   1672\u001b[0m \u001b[0;34m\u001b[0m\u001b[0m\n",
        "\u001b[0;32m/usr/lib/python2.7/dist-packages/pandas/core/common.pyc\u001b[0m in \u001b[0;36mnotnull\u001b[0;34m(obj)\u001b[0m\n\u001b[1;32m    274\u001b[0m     \u001b[0;32mif\u001b[0m \u001b[0mnp\u001b[0m\u001b[0;34m.\u001b[0m\u001b[0misscalar\u001b[0m\u001b[0;34m(\u001b[0m\u001b[0mres\u001b[0m\u001b[0;34m)\u001b[0m\u001b[0;34m:\u001b[0m\u001b[0;34m\u001b[0m\u001b[0m\n\u001b[1;32m    275\u001b[0m         \u001b[0;32mreturn\u001b[0m \u001b[0;32mnot\u001b[0m \u001b[0mres\u001b[0m\u001b[0;34m\u001b[0m\u001b[0m\n\u001b[0;32m--> 276\u001b[0;31m     \u001b[0;32mreturn\u001b[0m \u001b[0;34m-\u001b[0m\u001b[0mres\u001b[0m\u001b[0;34m\u001b[0m\u001b[0m\n\u001b[0m\u001b[1;32m    277\u001b[0m \u001b[0;34m\u001b[0m\u001b[0m\n\u001b[1;32m    278\u001b[0m \u001b[0;32mdef\u001b[0m \u001b[0m_is_null_datelike_scalar\u001b[0m\u001b[0;34m(\u001b[0m\u001b[0mother\u001b[0m\u001b[0;34m)\u001b[0m\u001b[0;34m:\u001b[0m\u001b[0;34m\u001b[0m\u001b[0m\n",
        "\u001b[0;31mTypeError\u001b[0m: The numpy boolean negative, the `-` operator, is not supported, use the `~` operator or the logical_not function instead."
       ]
      }
     ],
     "prompt_number": 17
    },
    {
     "cell_type": "code",
     "collapsed": false,
     "input": [],
     "language": "python",
     "metadata": {},
     "outputs": []
    }
   ],
   "metadata": {}
  }
 ]
}