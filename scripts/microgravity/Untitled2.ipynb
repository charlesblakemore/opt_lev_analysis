{
 "metadata": {
  "name": ""
 },
 "nbformat": 3,
 "nbformat_minor": 0,
 "worksheets": [
  {
   "cells": [
    {
     "cell_type": "code",
     "collapsed": false,
     "input": [
      "run grav_class_test.py"
     ],
     "language": "python",
     "metadata": {},
     "outputs": [
      {
       "output_type": "stream",
       "stream": "stdout",
       "text": [
        "Finding files in: \n",
        "/data/20180704/bead1/grav_data/shield\n"
       ]
      },
      {
       "output_type": "stream",
       "stream": "stdout",
       "text": [
        "Found 5740 files...\n",
        "[-------------------------------------------]   0.0% ... Processing 100 files\r"
       ]
      },
      {
       "output_type": "stream",
       "stream": "stdout",
       "text": [
        "[-------------------------------------------]   1.0% ... Processing 100 files\r"
       ]
      },
      {
       "output_type": "stream",
       "stream": "stdout",
       "text": [
        "[#------------------------------------------]   2.0% ... Processing 100 files\r"
       ]
      },
      {
       "output_type": "stream",
       "stream": "stdout",
       "text": [
        "[#------------------------------------------]   3.0% ... Processing 100 files\r"
       ]
      },
      {
       "output_type": "stream",
       "stream": "stdout",
       "text": [
        "[##-----------------------------------------]   4.0% ... Processing 100 files\r"
       ]
      },
      {
       "output_type": "stream",
       "stream": "stdout",
       "text": [
        "[##-----------------------------------------]   5.0% ... Processing 100 files\r"
       ]
      },
      {
       "output_type": "stream",
       "stream": "stdout",
       "text": [
        "[###----------------------------------------]   6.0% ... Processing 100 files\r"
       ]
      },
      {
       "output_type": "stream",
       "stream": "stdout",
       "text": [
        "[###----------------------------------------]   7.0% ... Processing 100 files\r"
       ]
      },
      {
       "output_type": "stream",
       "stream": "stdout",
       "text": [
        "[###----------------------------------------]   8.0% ... Processing 100 files\r"
       ]
      },
      {
       "output_type": "stream",
       "stream": "stdout",
       "text": [
        "[####---------------------------------------]   9.0% ... Processing 100 files\r"
       ]
      },
      {
       "output_type": "stream",
       "stream": "stdout",
       "text": [
        "[####---------------------------------------]  10.0% ... Processing 100 files\r"
       ]
      },
      {
       "output_type": "stream",
       "stream": "stdout",
       "text": [
        "[#####--------------------------------------]  11.0% ... Processing 100 files\r"
       ]
      },
      {
       "output_type": "stream",
       "stream": "stdout",
       "text": [
        "[#####--------------------------------------]  12.0% ... Processing 100 files\r"
       ]
      },
      {
       "output_type": "stream",
       "stream": "stdout",
       "text": [
        "[######-------------------------------------]  13.0% ... Processing 100 files\r"
       ]
      },
      {
       "output_type": "stream",
       "stream": "stdout",
       "text": [
        "[######-------------------------------------]  14.0% ... Processing 100 files\r"
       ]
      },
      {
       "output_type": "stream",
       "stream": "stdout",
       "text": [
        "[######-------------------------------------]  15.0% ... Processing 100 files\r"
       ]
      },
      {
       "output_type": "stream",
       "stream": "stdout",
       "text": [
        "[#######------------------------------------]  16.0% ... Processing 100 files\r"
       ]
      },
      {
       "output_type": "stream",
       "stream": "stdout",
       "text": [
        "[#######------------------------------------]  17.0% ... Processing 100 files\r"
       ]
      },
      {
       "output_type": "stream",
       "stream": "stdout",
       "text": [
        "[########-----------------------------------]  18.0% ... Processing 100 files\r"
       ]
      },
      {
       "output_type": "stream",
       "stream": "stdout",
       "text": [
        "[########-----------------------------------]  19.0% ... Processing 100 files\r"
       ]
      },
      {
       "output_type": "stream",
       "stream": "stdout",
       "text": [
        "[#########----------------------------------]  20.0% ... Processing 100 files\r"
       ]
      },
      {
       "output_type": "stream",
       "stream": "stdout",
       "text": [
        "[#########----------------------------------]  21.0% ... Processing 100 files\r"
       ]
      },
      {
       "output_type": "stream",
       "stream": "stdout",
       "text": [
        "[#########----------------------------------]  22.0% ... Processing 100 files\r"
       ]
      },
      {
       "output_type": "stream",
       "stream": "stdout",
       "text": [
        "[##########---------------------------------]  23.0% ... Processing 100 files\r"
       ]
      },
      {
       "output_type": "stream",
       "stream": "stdout",
       "text": [
        "[##########---------------------------------]  24.0% ... Processing 100 files\r"
       ]
      },
      {
       "output_type": "stream",
       "stream": "stdout",
       "text": [
        "[###########--------------------------------]  25.0% ... Processing 100 files\r"
       ]
      },
      {
       "output_type": "stream",
       "stream": "stdout",
       "text": [
        "[###########--------------------------------]  26.0% ... Processing 100 files\r"
       ]
      },
      {
       "output_type": "stream",
       "stream": "stdout",
       "text": [
        "[############-------------------------------]  27.0% ... Processing 100 files\r"
       ]
      },
      {
       "output_type": "stream",
       "stream": "stdout",
       "text": [
        "[############-------------------------------]  28.0% ... Processing 100 files\r"
       ]
      },
      {
       "output_type": "stream",
       "stream": "stdout",
       "text": [
        "[############-------------------------------]  29.0% ... Processing 100 files\r"
       ]
      },
      {
       "output_type": "stream",
       "stream": "stdout",
       "text": [
        "[#############------------------------------]  30.0% ... Processing 100 files\r"
       ]
      },
      {
       "output_type": "stream",
       "stream": "stdout",
       "text": [
        "[#############------------------------------]  31.0% ... Processing 100 files\r"
       ]
      },
      {
       "output_type": "stream",
       "stream": "stdout",
       "text": [
        "[##############-----------------------------]  32.0% ... Processing 100 files\r"
       ]
      },
      {
       "output_type": "stream",
       "stream": "stdout",
       "text": [
        "[##############-----------------------------]  33.0% ... Processing 100 files\r"
       ]
      },
      {
       "output_type": "stream",
       "stream": "stdout",
       "text": [
        "[###############----------------------------]  34.0% ... Processing 100 files\r"
       ]
      },
      {
       "output_type": "stream",
       "stream": "stdout",
       "text": [
        "[###############----------------------------]  35.0% ... Processing 100 files\r"
       ]
      },
      {
       "output_type": "stream",
       "stream": "stdout",
       "text": [
        "[###############----------------------------]  36.0% ... Processing 100 files\r"
       ]
      },
      {
       "output_type": "stream",
       "stream": "stdout",
       "text": [
        "[################---------------------------]  37.0% ... Processing 100 files\r"
       ]
      },
      {
       "output_type": "stream",
       "stream": "stdout",
       "text": [
        "[################---------------------------]  38.0% ... Processing 100 files\r"
       ]
      },
      {
       "output_type": "stream",
       "stream": "stdout",
       "text": [
        "[#################--------------------------]  39.0% ... Processing 100 files\r"
       ]
      },
      {
       "output_type": "stream",
       "stream": "stdout",
       "text": [
        "[#################--------------------------]  40.0% ... Processing 100 files\r"
       ]
      },
      {
       "output_type": "stream",
       "stream": "stdout",
       "text": [
        "[##################-------------------------]  41.0% ... Processing 100 files\r"
       ]
      },
      {
       "output_type": "stream",
       "stream": "stdout",
       "text": [
        "[##################-------------------------]  42.0% ... Processing 100 files\r"
       ]
      },
      {
       "output_type": "stream",
       "stream": "stdout",
       "text": [
        "[##################-------------------------]  43.0% ... Processing 100 files\r"
       ]
      },
      {
       "output_type": "stream",
       "stream": "stdout",
       "text": [
        "[###################------------------------]  44.0% ... Processing 100 files\r"
       ]
      },
      {
       "output_type": "stream",
       "stream": "stdout",
       "text": [
        "[###################------------------------]  45.0% ... Processing 100 files\r"
       ]
      },
      {
       "output_type": "stream",
       "stream": "stdout",
       "text": [
        "[####################-----------------------]  46.0% ... Processing 100 files\r"
       ]
      },
      {
       "output_type": "stream",
       "stream": "stdout",
       "text": [
        "[####################-----------------------]  47.0% ... Processing 100 files\r"
       ]
      },
      {
       "output_type": "stream",
       "stream": "stdout",
       "text": [
        "[#####################----------------------]  48.0% ... Processing 100 files\r"
       ]
      },
      {
       "output_type": "stream",
       "stream": "stdout",
       "text": [
        "[#####################----------------------]  49.0% ... Processing 100 files\r"
       ]
      },
      {
       "output_type": "stream",
       "stream": "stdout",
       "text": [
        "[######################---------------------]  50.0% ... Processing 100 files\r"
       ]
      },
      {
       "output_type": "stream",
       "stream": "stdout",
       "text": [
        "[######################---------------------]  51.0% ... Processing 100 files\r"
       ]
      },
      {
       "output_type": "stream",
       "stream": "stdout",
       "text": [
        "[######################---------------------]  52.0% ... Processing 100 files\r"
       ]
      },
      {
       "output_type": "stream",
       "stream": "stdout",
       "text": [
        "[#######################--------------------]  53.0% ... Processing 100 files\r"
       ]
      },
      {
       "output_type": "stream",
       "stream": "stdout",
       "text": [
        "[#######################--------------------]  54.0% ... Processing 100 files\r"
       ]
      },
      {
       "output_type": "stream",
       "stream": "stdout",
       "text": [
        "[########################-------------------]  55.0% ... Processing 100 files\r"
       ]
      },
      {
       "output_type": "stream",
       "stream": "stdout",
       "text": [
        "[########################-------------------]  56.0% ... Processing 100 files\r"
       ]
      },
      {
       "output_type": "stream",
       "stream": "stdout",
       "text": [
        "[#########################------------------]  57.0% ... Processing 100 files\r"
       ]
      },
      {
       "output_type": "stream",
       "stream": "stdout",
       "text": [
        "[#########################------------------]  58.0% ... Processing 100 files\r"
       ]
      },
      {
       "output_type": "stream",
       "stream": "stdout",
       "text": [
        "[#########################------------------]  59.0% ... Processing 100 files\r"
       ]
      },
      {
       "output_type": "stream",
       "stream": "stdout",
       "text": [
        "[##########################-----------------]  60.0% ... Processing 100 files\r"
       ]
      },
      {
       "output_type": "stream",
       "stream": "stdout",
       "text": [
        "[##########################-----------------]  61.0% ... Processing 100 files\r"
       ]
      },
      {
       "output_type": "stream",
       "stream": "stdout",
       "text": [
        "[###########################----------------]  62.0% ... Processing 100 files\r"
       ]
      },
      {
       "output_type": "stream",
       "stream": "stdout",
       "text": [
        "[###########################----------------]  63.0% ... Processing 100 files\r"
       ]
      },
      {
       "output_type": "stream",
       "stream": "stdout",
       "text": [
        "[############################---------------]  64.0% ... Processing 100 files\r"
       ]
      },
      {
       "output_type": "stream",
       "stream": "stdout",
       "text": [
        "[############################---------------]  65.0% ... Processing 100 files\r"
       ]
      },
      {
       "output_type": "stream",
       "stream": "stdout",
       "text": [
        "[############################---------------]  66.0% ... Processing 100 files\r"
       ]
      },
      {
       "output_type": "stream",
       "stream": "stdout",
       "text": [
        "[#############################--------------]  67.0% ... Processing 100 files\r"
       ]
      },
      {
       "output_type": "stream",
       "stream": "stdout",
       "text": [
        "[#############################--------------]  68.0% ... Processing 100 files\r"
       ]
      },
      {
       "output_type": "stream",
       "stream": "stdout",
       "text": [
        "[##############################-------------]  69.0% ... Processing 100 files\r"
       ]
      },
      {
       "output_type": "stream",
       "stream": "stdout",
       "text": [
        "[##############################-------------]  70.0% ... Processing 100 files\r"
       ]
      },
      {
       "output_type": "stream",
       "stream": "stdout",
       "text": [
        "[###############################------------]  71.0% ... Processing 100 files\r"
       ]
      },
      {
       "output_type": "stream",
       "stream": "stdout",
       "text": [
        "[###############################------------]  72.0% ... Processing 100 files\r"
       ]
      },
      {
       "output_type": "stream",
       "stream": "stdout",
       "text": [
        "[###############################------------]  73.0% ... Processing 100 files\r"
       ]
      },
      {
       "output_type": "stream",
       "stream": "stdout",
       "text": [
        "[################################-----------]  74.0% ... Processing 100 files\r"
       ]
      },
      {
       "output_type": "stream",
       "stream": "stdout",
       "text": [
        "[################################-----------]  75.0% ... Processing 100 files\r"
       ]
      },
      {
       "output_type": "stream",
       "stream": "stdout",
       "text": [
        "[#################################----------]  76.0% ... Processing 100 files\r"
       ]
      },
      {
       "output_type": "stream",
       "stream": "stdout",
       "text": [
        "[#################################----------]  77.0% ... Processing 100 files\r"
       ]
      },
      {
       "output_type": "stream",
       "stream": "stdout",
       "text": [
        "[##################################---------]  78.0% ... Processing 100 files\r"
       ]
      },
      {
       "output_type": "stream",
       "stream": "stdout",
       "text": [
        "[##################################---------]  79.0% ... Processing 100 files\r"
       ]
      },
      {
       "output_type": "stream",
       "stream": "stdout",
       "text": [
        "[##################################---------]  80.0% ... Processing 100 files\r"
       ]
      },
      {
       "output_type": "stream",
       "stream": "stdout",
       "text": [
        "[###################################--------]  81.0% ... Processing 100 files\r"
       ]
      },
      {
       "output_type": "stream",
       "stream": "stdout",
       "text": [
        "[###################################--------]  82.0% ... Processing 100 files\r"
       ]
      },
      {
       "output_type": "stream",
       "stream": "stdout",
       "text": [
        "[####################################-------]  83.0% ... Processing 100 files\r"
       ]
      },
      {
       "output_type": "stream",
       "stream": "stdout",
       "text": [
        "[####################################-------]  84.0% ... Processing 100 files\r"
       ]
      },
      {
       "output_type": "stream",
       "stream": "stdout",
       "text": [
        "[#####################################------]  85.0% ... Processing 100 files\r"
       ]
      },
      {
       "output_type": "stream",
       "stream": "stdout",
       "text": [
        "[#####################################------]  86.0% ... Processing 100 files\r"
       ]
      },
      {
       "output_type": "stream",
       "stream": "stdout",
       "text": [
        "[#####################################------]  87.0% ... Processing 100 files\r"
       ]
      },
      {
       "output_type": "stream",
       "stream": "stdout",
       "text": [
        "[######################################-----]  88.0% ... Processing 100 files\r"
       ]
      },
      {
       "output_type": "stream",
       "stream": "stdout",
       "text": [
        "[######################################-----]  89.0% ... Processing 100 files\r"
       ]
      },
      {
       "output_type": "stream",
       "stream": "stdout",
       "text": [
        "[#######################################----]  90.0% ... Processing 100 files\r"
       ]
      },
      {
       "output_type": "stream",
       "stream": "stdout",
       "text": [
        "[#######################################----]  91.0% ... Processing 100 files\r"
       ]
      },
      {
       "output_type": "stream",
       "stream": "stdout",
       "text": [
        "[########################################---]  92.0% ... Processing 100 files\r"
       ]
      },
      {
       "output_type": "stream",
       "stream": "stdout",
       "text": [
        "[########################################---]  93.0% ... Processing 100 files\r"
       ]
      },
      {
       "output_type": "stream",
       "stream": "stdout",
       "text": [
        "[########################################---]  94.0% ... Processing 100 files\r"
       ]
      },
      {
       "output_type": "stream",
       "stream": "stdout",
       "text": [
        "[#########################################--]  95.0% ... Processing 100 files\r"
       ]
      },
      {
       "output_type": "stream",
       "stream": "stdout",
       "text": [
        "[#########################################--]  96.0% ... Processing 100 files\r"
       ]
      },
      {
       "output_type": "stream",
       "stream": "stdout",
       "text": [
        "[##########################################-]  97.0% ... Processing 100 files\r"
       ]
      },
      {
       "output_type": "stream",
       "stream": "stdout",
       "text": [
        "[##########################################-]  98.0% ... Processing 100 files\r"
       ]
      },
      {
       "output_type": "stream",
       "stream": "stdout",
       "text": [
        "[###########################################] 100.0% ... Processing 100 files\r"
       ]
      },
      {
       "output_type": "stream",
       "stream": "stdout",
       "text": [
        "\n",
        "Loading Gravity Data..."
       ]
      },
      {
       "ename": "IOError",
       "evalue": "[Errno 13] Permission denied: '/processed_data/aggdat/20180704_shield.agg'",
       "output_type": "pyerr",
       "traceback": [
        "\u001b[0;31m---------------------------------------------------------------------------\u001b[0m\n\u001b[0;31mIOError\u001b[0m                                   Traceback (most recent call last)",
        "\u001b[0;32m/usr/lib/python2.7/dist-packages/IPython/utils/py3compat.pyc\u001b[0m in \u001b[0;36mexecfile\u001b[0;34m(fname, *where)\u001b[0m\n\u001b[1;32m    202\u001b[0m             \u001b[0;32melse\u001b[0m\u001b[0;34m:\u001b[0m\u001b[0;34m\u001b[0m\u001b[0m\n\u001b[1;32m    203\u001b[0m                 \u001b[0mfilename\u001b[0m \u001b[0;34m=\u001b[0m \u001b[0mfname\u001b[0m\u001b[0;34m\u001b[0m\u001b[0m\n\u001b[0;32m--> 204\u001b[0;31m             \u001b[0m__builtin__\u001b[0m\u001b[0;34m.\u001b[0m\u001b[0mexecfile\u001b[0m\u001b[0;34m(\u001b[0m\u001b[0mfilename\u001b[0m\u001b[0;34m,\u001b[0m \u001b[0;34m*\u001b[0m\u001b[0mwhere\u001b[0m\u001b[0;34m)\u001b[0m\u001b[0;34m\u001b[0m\u001b[0m\n\u001b[0m",
        "\u001b[0;32m/home/arider/opt_lev_analysis/scripts/microgravity/grav_class_test.py\u001b[0m in \u001b[0;36m<module>\u001b[0;34m()\u001b[0m\n\u001b[1;32m     59\u001b[0m     \u001b[0magg_dat\u001b[0m\u001b[0;34m.\u001b[0m\u001b[0mload_grav_funcs\u001b[0m\u001b[0;34m(\u001b[0m\u001b[0mtheory_data_dir\u001b[0m\u001b[0;34m)\u001b[0m\u001b[0;34m\u001b[0m\u001b[0m\n\u001b[1;32m     60\u001b[0m \u001b[0;34m\u001b[0m\u001b[0m\n\u001b[0;32m---> 61\u001b[0;31m     \u001b[0magg_dat\u001b[0m\u001b[0;34m.\u001b[0m\u001b[0msave\u001b[0m\u001b[0;34m(\u001b[0m\u001b[0magg_path\u001b[0m\u001b[0;34m)\u001b[0m\u001b[0;34m\u001b[0m\u001b[0m\n\u001b[0m\u001b[1;32m     62\u001b[0m \u001b[0;34m\u001b[0m\u001b[0m\n\u001b[1;32m     63\u001b[0m \u001b[0;34m\u001b[0m\u001b[0m\n",
        "\u001b[0;32m/home/arider/opt_lev_analysis/scripts/grav_util_2.py\u001b[0m in \u001b[0;36msave\u001b[0;34m(self, savepath)\u001b[0m\n\u001b[1;32m    416\u001b[0m             \u001b[0msavepath\u001b[0m \u001b[0;34m=\u001b[0m \u001b[0mparts\u001b[0m\u001b[0;34m[\u001b[0m\u001b[0;36m0\u001b[0m\u001b[0;34m]\u001b[0m \u001b[0;34m+\u001b[0m \u001b[0;34m'.agg'\u001b[0m\u001b[0;34m\u001b[0m\u001b[0m\n\u001b[1;32m    417\u001b[0m             \u001b[0mself\u001b[0m\u001b[0;34m.\u001b[0m\u001b[0mclear_grav_funcs\u001b[0m\u001b[0;34m(\u001b[0m\u001b[0;34m)\u001b[0m\u001b[0;34m\u001b[0m\u001b[0m\n\u001b[0;32m--> 418\u001b[0;31m             \u001b[0mpickle\u001b[0m\u001b[0;34m.\u001b[0m\u001b[0mdump\u001b[0m\u001b[0;34m(\u001b[0m\u001b[0mself\u001b[0m\u001b[0;34m,\u001b[0m \u001b[0mopen\u001b[0m\u001b[0;34m(\u001b[0m\u001b[0msavepath\u001b[0m\u001b[0;34m,\u001b[0m \u001b[0;34m'wb'\u001b[0m\u001b[0;34m)\u001b[0m\u001b[0;34m)\u001b[0m\u001b[0;34m\u001b[0m\u001b[0m\n\u001b[0m\u001b[1;32m    419\u001b[0m             \u001b[0mself\u001b[0m\u001b[0;34m.\u001b[0m\u001b[0mreload_grav_funcs\u001b[0m\u001b[0;34m(\u001b[0m\u001b[0;34m)\u001b[0m\u001b[0;34m\u001b[0m\u001b[0m\n\u001b[1;32m    420\u001b[0m \u001b[0;34m\u001b[0m\u001b[0m\n",
        "\u001b[0;31mIOError\u001b[0m: [Errno 13] Permission denied: '/processed_data/aggdat/20180704_shield.agg'"
       ]
      },
      {
       "output_type": "stream",
       "stream": "stdout",
       "text": [
        " Done!\n"
       ]
      }
     ],
     "prompt_number": 1
    },
    {
     "cell_type": "code",
     "collapsed": false,
     "input": [
      "agg_dat.bin_rough_stage_positions()"
     ],
     "language": "python",
     "metadata": {},
     "outputs": [
      {
       "output_type": "stream",
       "stream": "stdout",
       "text": [
        "Sorting data by rough stage position... Done!\n"
       ]
      }
     ],
     "prompt_number": 2
    },
    {
     "cell_type": "code",
     "collapsed": false,
     "input": [
      "agg_dat.find_mean_alpha_vs_position()"
     ],
     "language": "python",
     "metadata": {},
     "outputs": [
      {
       "output_type": "stream",
       "stream": "stdout",
       "text": [
        "Finding alpha vs. height/separation...\n",
        "FAILED: Must load thoery data first!\n"
       ]
      }
     ],
     "prompt_number": 3
    },
    {
     "cell_type": "code",
     "collapsed": false,
     "input": [
      "agg_dat.load_grav_funcs(theory_data_dir)"
     ],
     "language": "python",
     "metadata": {},
     "outputs": [
      {
       "output_type": "stream",
       "stream": "stdout",
       "text": [
        "Loading Gravity Data... "
       ]
      },
      {
       "output_type": "stream",
       "stream": "stdout",
       "text": [
        "Done!\n"
       ]
      }
     ],
     "prompt_number": 4
    },
    {
     "cell_type": "code",
     "collapsed": false,
     "input": [
      "agg_dat.find_mean_alpha_vs_position()"
     ],
     "language": "python",
     "metadata": {},
     "outputs": [
      {
       "output_type": "stream",
       "stream": "stdout",
       "text": [
        "Finding alpha vs. height/separation...\n",
        "[-----------------------------------]   0.0% ... 1 / 81 position combinations\r"
       ]
      },
      {
       "output_type": "stream",
       "stream": "stdout",
       "text": [
        "[-----------------------------------]   1.0% ... 1 / 81 position combinations\r"
       ]
      },
      {
       "output_type": "stream",
       "stream": "stdout",
       "text": [
        "[#----------------------------------]   2.0% ... 1 / 81 position combinations\r"
       ]
      },
      {
       "output_type": "stream",
       "stream": "stdout",
       "text": [
        "[#----------------------------------]   3.0% ... 1 / 81 position combinations\r"
       ]
      },
      {
       "output_type": "stream",
       "stream": "stdout",
       "text": [
        "[#----------------------------------]   4.0% ... 1 / 81 position combinations\r"
       ]
      },
      {
       "output_type": "stream",
       "stream": "stdout",
       "text": [
        "[##---------------------------------]   5.0% ... 1 / 81 position combinations\r"
       ]
      },
      {
       "output_type": "stream",
       "stream": "stdout",
       "text": [
        "[##---------------------------------]   6.0% ... 1 / 81 position combinations\r"
       ]
      },
      {
       "output_type": "stream",
       "stream": "stdout",
       "text": [
        "[##---------------------------------]   7.0% ... 1 / 81 position combinations\r"
       ]
      },
      {
       "output_type": "stream",
       "stream": "stdout",
       "text": [
        "[###--------------------------------]   8.0% ... 1 / 81 position combinations\r"
       ]
      },
      {
       "output_type": "stream",
       "stream": "stdout",
       "text": [
        "[###--------------------------------]   9.0% ... 1 / 81 position combinations\r"
       ]
      },
      {
       "output_type": "stream",
       "stream": "stdout",
       "text": [
        "[####-------------------------------]  10.0% ... 1 / 81 position combinations\r"
       ]
      },
      {
       "output_type": "stream",
       "stream": "stdout",
       "text": [
        "[####-------------------------------]  11.0% ... 1 / 81 position combinations\r"
       ]
      },
      {
       "output_type": "stream",
       "stream": "stdout",
       "text": [
        "[####-------------------------------]  12.0% ... 1 / 81 position combinations\r"
       ]
      },
      {
       "output_type": "stream",
       "stream": "stdout",
       "text": [
        "[#####------------------------------]  13.0% ... 1 / 81 position combinations\r"
       ]
      },
      {
       "output_type": "stream",
       "stream": "stdout",
       "text": [
        "[#####------------------------------]  14.0% ... 1 / 81 position combinations\r"
       ]
      },
      {
       "output_type": "stream",
       "stream": "stdout",
       "text": [
        "[#####------------------------------]  15.0% ... 1 / 81 position combinations\r"
       ]
      },
      {
       "output_type": "stream",
       "stream": "stdout",
       "text": [
        "[######-----------------------------]  16.0% ... 1 / 81 position combinations\r"
       ]
      },
      {
       "output_type": "stream",
       "stream": "stdout",
       "text": [
        "[######-----------------------------]  17.0% ... 1 / 81 position combinations\r"
       ]
      },
      {
       "output_type": "stream",
       "stream": "stdout",
       "text": [
        "[######-----------------------------]  18.0% ... 1 / 81 position combinations\r"
       ]
      },
      {
       "output_type": "stream",
       "stream": "stdout",
       "text": [
        "[#######----------------------------]  19.0% ... 1 / 81 position combinations\r"
       ]
      },
      {
       "output_type": "stream",
       "stream": "stdout",
       "text": [
        "[#######----------------------------]  20.0% ... 1 / 81 position combinations\r"
       ]
      },
      {
       "output_type": "stream",
       "stream": "stdout",
       "text": [
        "[#######----------------------------]  21.0% ... 1 / 81 position combinations\r"
       ]
      },
      {
       "output_type": "stream",
       "stream": "stdout",
       "text": [
        "[########---------------------------]  22.0% ... 1 / 81 position combinations\r"
       ]
      },
      {
       "output_type": "stream",
       "stream": "stdout",
       "text": [
        "[########---------------------------]  23.0% ... 1 / 81 position combinations\r"
       ]
      },
      {
       "output_type": "stream",
       "stream": "stdout",
       "text": [
        "[########---------------------------]  24.0% ... 1 / 81 position combinations\r"
       ]
      },
      {
       "output_type": "stream",
       "stream": "stdout",
       "text": [
        "[#########--------------------------]  25.0% ... 1 / 81 position combinations\r"
       ]
      },
      {
       "output_type": "stream",
       "stream": "stdout",
       "text": [
        "[#########--------------------------]  26.0% ... 1 / 81 position combinations\r"
       ]
      },
      {
       "output_type": "stream",
       "stream": "stdout",
       "text": [
        "[#########--------------------------]  27.0% ... 1 / 81 position combinations\r"
       ]
      },
      {
       "output_type": "stream",
       "stream": "stdout",
       "text": [
        "[##########-------------------------]  28.0% ... 1 / 81 position combinations\r"
       ]
      },
      {
       "output_type": "stream",
       "stream": "stdout",
       "text": [
        "[##########-------------------------]  29.0% ... 1 / 81 position combinations\r"
       ]
      },
      {
       "output_type": "stream",
       "stream": "stdout",
       "text": [
        "[###########------------------------]  30.0% ... 1 / 81 position combinations\r"
       ]
      },
      {
       "output_type": "stream",
       "stream": "stdout",
       "text": [
        "[###########------------------------]  31.0% ... 1 / 81 position combinations\r"
       ]
      },
      {
       "output_type": "stream",
       "stream": "stdout",
       "text": [
        "[###########------------------------]  32.0% ... 1 / 81 position combinations\r"
       ]
      },
      {
       "output_type": "stream",
       "stream": "stdout",
       "text": [
        "[############-----------------------]  33.0% ... 1 / 81 position combinations\r"
       ]
      },
      {
       "output_type": "stream",
       "stream": "stdout",
       "text": [
        "[############-----------------------]  34.0% ... 1 / 81 position combinations\r"
       ]
      },
      {
       "output_type": "stream",
       "stream": "stdout",
       "text": [
        "[############-----------------------]  35.0% ... 1 / 81 position combinations\r"
       ]
      },
      {
       "output_type": "stream",
       "stream": "stdout",
       "text": [
        "[#############----------------------]  36.0% ... 1 / 81 position combinations\r"
       ]
      },
      {
       "output_type": "stream",
       "stream": "stdout",
       "text": [
        "[#############----------------------]  37.0% ... 1 / 81 position combinations\r"
       ]
      },
      {
       "output_type": "stream",
       "stream": "stdout",
       "text": [
        "[#############----------------------]  38.0% ... 1 / 81 position combinations\r"
       ]
      },
      {
       "output_type": "stream",
       "stream": "stdout",
       "text": [
        "[##############---------------------]  39.0% ... 1 / 81 position combinations\r"
       ]
      },
      {
       "output_type": "stream",
       "stream": "stdout",
       "text": [
        "[##############---------------------]  40.0% ... 1 / 81 position combinations\r"
       ]
      },
      {
       "output_type": "stream",
       "stream": "stdout",
       "text": [
        "[##############---------------------]  41.0% ... 1 / 81 position combinations\r"
       ]
      },
      {
       "output_type": "stream",
       "stream": "stdout",
       "text": [
        "[###############--------------------]  42.0% ... 1 / 81 position combinations\r"
       ]
      },
      {
       "output_type": "stream",
       "stream": "stdout",
       "text": [
        "[###############--------------------]  43.0% ... 1 / 81 position combinations\r"
       ]
      },
      {
       "output_type": "stream",
       "stream": "stdout",
       "text": [
        "[###############--------------------]  44.0% ... 1 / 81 position combinations\r"
       ]
      },
      {
       "output_type": "stream",
       "stream": "stdout",
       "text": [
        "[################-------------------]  45.0% ... 1 / 81 position combinations\r"
       ]
      },
      {
       "output_type": "stream",
       "stream": "stdout",
       "text": [
        "[################-------------------]  46.0% ... 1 / 81 position combinations\r"
       ]
      },
      {
       "output_type": "stream",
       "stream": "stdout",
       "text": [
        "[################-------------------]  47.0% ... 1 / 81 position combinations\r"
       ]
      },
      {
       "output_type": "stream",
       "stream": "stdout",
       "text": [
        "[#################------------------]  48.0% ... 1 / 81 position combinations\r"
       ]
      },
      {
       "output_type": "stream",
       "stream": "stdout",
       "text": [
        "[#################------------------]  49.0% ... 1 / 81 position combinations\r"
       ]
      },
      {
       "output_type": "stream",
       "stream": "stdout",
       "text": [
        "[##################-----------------]  50.0% ... 1 / 81 position combinations\r"
       ]
      },
      {
       "output_type": "stream",
       "stream": "stdout",
       "text": [
        "[##################-----------------]  51.0% ... 1 / 81 position combinations\r"
       ]
      },
      {
       "output_type": "stream",
       "stream": "stdout",
       "text": [
        "[##################-----------------]  52.0% ... 1 / 81 position combinations\r"
       ]
      },
      {
       "output_type": "stream",
       "stream": "stdout",
       "text": [
        "[###################----------------]  53.0% ... 1 / 81 position combinations\r"
       ]
      },
      {
       "output_type": "stream",
       "stream": "stdout",
       "text": [
        "[###################----------------]  54.0% ... 1 / 81 position combinations\r"
       ]
      },
      {
       "output_type": "stream",
       "stream": "stdout",
       "text": [
        "[###################----------------]  55.0% ... 1 / 81 position combinations\r"
       ]
      },
      {
       "output_type": "stream",
       "stream": "stdout",
       "text": [
        "[####################---------------]  56.0% ... 1 / 81 position combinations\r"
       ]
      },
      {
       "output_type": "stream",
       "stream": "stdout",
       "text": [
        "[####################---------------]  57.0% ... 1 / 81 position combinations\r"
       ]
      },
      {
       "output_type": "stream",
       "stream": "stdout",
       "text": [
        "[####################---------------]  58.0% ... 1 / 81 position combinations\r"
       ]
      },
      {
       "output_type": "stream",
       "stream": "stdout",
       "text": [
        "[#####################--------------]  59.0% ... 1 / 81 position combinations\r"
       ]
      },
      {
       "output_type": "stream",
       "stream": "stdout",
       "text": [
        "[#####################--------------]  60.0% ... 1 / 81 position combinations\r"
       ]
      },
      {
       "output_type": "stream",
       "stream": "stdout",
       "text": [
        "[#####################--------------]  61.0% ... 1 / 81 position combinations\r"
       ]
      },
      {
       "output_type": "stream",
       "stream": "stdout",
       "text": [
        "[######################-------------]  62.0% ... 1 / 81 position combinations\r"
       ]
      },
      {
       "output_type": "stream",
       "stream": "stdout",
       "text": [
        "[######################-------------]  63.0% ... 1 / 81 position combinations\r"
       ]
      },
      {
       "output_type": "stream",
       "stream": "stdout",
       "text": [
        "[######################-------------]  64.0% ... 1 / 81 position combinations\r"
       ]
      },
      {
       "output_type": "stream",
       "stream": "stdout",
       "text": [
        "[#######################------------]  65.0% ... 1 / 81 position combinations\r"
       ]
      },
      {
       "output_type": "stream",
       "stream": "stdout",
       "text": [
        "[#######################------------]  66.0% ... 1 / 81 position combinations\r"
       ]
      },
      {
       "output_type": "stream",
       "stream": "stdout",
       "text": [
        "[#######################------------]  67.0% ... 1 / 81 position combinations\r"
       ]
      },
      {
       "output_type": "stream",
       "stream": "stdout",
       "text": [
        "[########################-----------]  68.0% ... 1 / 81 position combinations\r"
       ]
      },
      {
       "output_type": "stream",
       "stream": "stdout",
       "text": [
        "[########################-----------]  69.0% ... 1 / 81 position combinations\r"
       ]
      },
      {
       "output_type": "stream",
       "stream": "stdout",
       "text": [
        "[#########################----------]  70.0% ... 1 / 81 position combinations\r"
       ]
      },
      {
       "output_type": "stream",
       "stream": "stdout",
       "text": [
        "[#########################----------]  71.0% ... 1 / 81 position combinations\r"
       ]
      },
      {
       "output_type": "stream",
       "stream": "stdout",
       "text": [
        "[#########################----------]  72.0% ... 1 / 81 position combinations\r"
       ]
      },
      {
       "output_type": "stream",
       "stream": "stdout",
       "text": [
        "[##########################---------]  73.0% ... 1 / 81 position combinations\r"
       ]
      },
      {
       "output_type": "stream",
       "stream": "stdout",
       "text": [
        "[##########################---------]  74.0% ... 1 / 81 position combinations\r"
       ]
      },
      {
       "output_type": "stream",
       "stream": "stdout",
       "text": [
        "[##########################---------]  75.0% ... 1 / 81 position combinations\r"
       ]
      },
      {
       "output_type": "stream",
       "stream": "stdout",
       "text": [
        "[###########################--------]  76.0% ... 1 / 81 position combinations\r"
       ]
      },
      {
       "output_type": "stream",
       "stream": "stdout",
       "text": [
        "[###########################--------]  77.0% ... 1 / 81 position combinations\r"
       ]
      },
      {
       "output_type": "stream",
       "stream": "stdout",
       "text": [
        "[###########################--------]  78.0% ... 1 / 81 position combinations\r"
       ]
      },
      {
       "output_type": "stream",
       "stream": "stdout",
       "text": [
        "[############################-------]  79.0% ... 1 / 81 position combinations\r"
       ]
      },
      {
       "output_type": "stream",
       "stream": "stdout",
       "text": [
        "[############################-------]  80.0% ... 1 / 81 position combinations\r"
       ]
      },
      {
       "output_type": "stream",
       "stream": "stdout",
       "text": [
        "[############################-------]  81.0% ... 1 / 81 position combinations\r"
       ]
      },
      {
       "output_type": "stream",
       "stream": "stdout",
       "text": [
        "[#############################------]  82.0% ... 1 / 81 position combinations\r"
       ]
      },
      {
       "output_type": "stream",
       "stream": "stdout",
       "text": [
        "[#############################------]  83.0% ... 1 / 81 position combinations\r"
       ]
      },
      {
       "output_type": "stream",
       "stream": "stdout",
       "text": [
        "[#############################------]  84.0% ... 1 / 81 position combinations\r"
       ]
      },
      {
       "output_type": "stream",
       "stream": "stdout",
       "text": [
        "[##############################-----]  85.0% ... 1 / 81 position combinations\r"
       ]
      },
      {
       "output_type": "stream",
       "stream": "stdout",
       "text": [
        "[##############################-----]  86.0% ... 1 / 81 position combinations\r"
       ]
      },
      {
       "output_type": "stream",
       "stream": "stdout",
       "text": [
        "[##############################-----]  87.0% ... 1 / 81 position combinations\r"
       ]
      },
      {
       "output_type": "stream",
       "stream": "stdout",
       "text": [
        "[###############################----]  88.0% ... 1 / 81 position combinations\r"
       ]
      },
      {
       "output_type": "stream",
       "stream": "stdout",
       "text": [
        "[###############################----]  89.0% ... 1 / 81 position combinations\r"
       ]
      },
      {
       "output_type": "stream",
       "stream": "stdout",
       "text": [
        "[################################---]  90.0% ... 1 / 81 position combinations\r"
       ]
      },
      {
       "output_type": "stream",
       "stream": "stdout",
       "text": [
        "[################################---]  91.0% ... 1 / 81 position combinations\r"
       ]
      },
      {
       "output_type": "stream",
       "stream": "stdout",
       "text": [
        "[################################---]  92.0% ... 1 / 81 position combinations\r"
       ]
      },
      {
       "output_type": "stream",
       "stream": "stdout",
       "text": [
        "[#################################--]  93.0% ... 1 / 81 position combinations\r"
       ]
      },
      {
       "output_type": "stream",
       "stream": "stdout",
       "text": [
        "[#################################--]  94.0% ... 1 / 81 position combinations\r"
       ]
      },
      {
       "output_type": "stream",
       "stream": "stdout",
       "text": [
        "[#################################--]  95.0% ... 1 / 81 position combinations\r"
       ]
      },
      {
       "output_type": "stream",
       "stream": "stdout",
       "text": [
        "[##################################-]  96.0% ... 1 / 81 position combinations\r"
       ]
      },
      {
       "output_type": "stream",
       "stream": "stdout",
       "text": [
        "[##################################-]  97.0% ... 1 / 81 position combinations\r"
       ]
      },
      {
       "output_type": "stream",
       "stream": "stdout",
       "text": [
        "[##################################-]  98.0% ... 1 / 81 position combinations\r"
       ]
      },
      {
       "output_type": "stream",
       "stream": "stdout",
       "text": [
        "[###################################] 100.0% ... 1 / 81 position combinations\r"
       ]
      },
      {
       "ename": "UnboundLocalError",
       "evalue": "local variable 'DataFrameTot' referenced before assignment",
       "output_type": "pyerr",
       "traceback": [
        "\u001b[0;31m---------------------------------------------------------------------------\u001b[0m\n\u001b[0;31mUnboundLocalError\u001b[0m                         Traceback (most recent call last)",
        "\u001b[0;32m<ipython-input-5-8de471c4cc73>\u001b[0m in \u001b[0;36m<module>\u001b[0;34m()\u001b[0m\n\u001b[0;32m----> 1\u001b[0;31m \u001b[0magg_dat\u001b[0m\u001b[0;34m.\u001b[0m\u001b[0mfind_mean_alpha_vs_position\u001b[0m\u001b[0;34m(\u001b[0m\u001b[0;34m)\u001b[0m\u001b[0;34m\u001b[0m\u001b[0m\n\u001b[0m",
        "\u001b[0;32m/home/arider/opt_lev_analysis/scripts/grav_util_2.py\u001b[0m in \u001b[0;36mfind_mean_alpha_vs_position\u001b[0;34m(self, ignoreXYZ)\u001b[0m\n\u001b[1;32m    793\u001b[0m                     [[bias, ax1, ax2, DataFrame_alphas]], index = [i], columns = [\"bias\", \"ax1\", \"ax2\", \"alphas\"])\n\u001b[1;32m    794\u001b[0m \u001b[0;34m\u001b[0m\u001b[0m\n\u001b[0;32m--> 795\u001b[0;31m             \u001b[0;32mif\u001b[0m \u001b[0mDataFrameTot\u001b[0m\u001b[0;34m:\u001b[0m\u001b[0;34m\u001b[0m\u001b[0m\n\u001b[0m\u001b[1;32m    796\u001b[0m                 \u001b[0mDataFrameTot\u001b[0m\u001b[0;34m.\u001b[0m\u001b[0mappend\u001b[0m\u001b[0;34m(\u001b[0m\u001b[0mDataFramei\u001b[0m\u001b[0;34m)\u001b[0m\u001b[0;34m\u001b[0m\u001b[0m\n\u001b[1;32m    797\u001b[0m             \u001b[0;32melse\u001b[0m\u001b[0;34m:\u001b[0m\u001b[0;34m\u001b[0m\u001b[0m\n",
        "\u001b[0;31mUnboundLocalError\u001b[0m: local variable 'DataFrameTot' referenced before assignment"
       ]
      }
     ],
     "prompt_number": 5
    },
    {
     "cell_type": "code",
     "collapsed": false,
     "input": [
      "try:\n",
      "    1+1"
     ],
     "language": "python",
     "metadata": {},
     "outputs": [
      {
       "ename": "SyntaxError",
       "evalue": "invalid syntax (<ipython-input-7-a09da51a6921>, line 2)",
       "output_type": "pyerr",
       "traceback": [
        "\u001b[0;36m  File \u001b[0;32m\"<ipython-input-7-a09da51a6921>\"\u001b[0;36m, line \u001b[0;32m2\u001b[0m\n\u001b[0;31m    1+1\u001b[0m\n\u001b[0m       ^\u001b[0m\n\u001b[0;31mSyntaxError\u001b[0m\u001b[0;31m:\u001b[0m invalid syntax\n"
       ]
      }
     ],
     "prompt_number": 7
    },
    {
     "cell_type": "code",
     "collapsed": false,
     "input": [
      "except:\n",
      "    print \"hellp\""
     ],
     "language": "python",
     "metadata": {},
     "outputs": [
      {
       "ename": "SyntaxError",
       "evalue": "invalid syntax (<ipython-input-8-eaff35a5bcde>, line 1)",
       "output_type": "pyerr",
       "traceback": [
        "\u001b[0;36m  File \u001b[0;32m\"<ipython-input-8-eaff35a5bcde>\"\u001b[0;36m, line \u001b[0;32m1\u001b[0m\n\u001b[0;31m    accept:\u001b[0m\n\u001b[0m          ^\u001b[0m\n\u001b[0;31mSyntaxError\u001b[0m\u001b[0;31m:\u001b[0m invalid syntax\n"
       ]
      }
     ],
     "prompt_number": 8
    },
    {
     "cell_type": "code",
     "collapsed": false,
     "input": [
      "run grav_class_test.py"
     ],
     "language": "python",
     "metadata": {},
     "outputs": [
      {
       "output_type": "stream",
       "stream": "stdout",
       "text": [
        "Finding files in: \n",
        "/data/20180704/bead1/grav_data/shield\n"
       ]
      },
      {
       "output_type": "stream",
       "stream": "stdout",
       "text": [
        "Found 5740 files...\n",
        "[-------------------------------------------]   0.0% ... Processing 100 files\r"
       ]
      },
      {
       "output_type": "stream",
       "stream": "stdout",
       "text": [
        "[-------------------------------------------]   1.0% ... Processing 100 files\r"
       ]
      },
      {
       "output_type": "stream",
       "stream": "stdout",
       "text": [
        "[#------------------------------------------]   2.0% ... Processing 100 files\r"
       ]
      },
      {
       "output_type": "stream",
       "stream": "stdout",
       "text": [
        "[#------------------------------------------]   3.0% ... Processing 100 files\r"
       ]
      },
      {
       "output_type": "stream",
       "stream": "stdout",
       "text": [
        "[##-----------------------------------------]   4.0% ... Processing 100 files\r"
       ]
      },
      {
       "output_type": "stream",
       "stream": "stdout",
       "text": [
        "[##-----------------------------------------]   5.0% ... Processing 100 files\r"
       ]
      },
      {
       "output_type": "stream",
       "stream": "stdout",
       "text": [
        "[###----------------------------------------]   6.0% ... Processing 100 files\r"
       ]
      },
      {
       "output_type": "stream",
       "stream": "stdout",
       "text": [
        "[###----------------------------------------]   7.0% ... Processing 100 files\r"
       ]
      },
      {
       "output_type": "stream",
       "stream": "stdout",
       "text": [
        "[###----------------------------------------]   8.0% ... Processing 100 files\r"
       ]
      },
      {
       "output_type": "stream",
       "stream": "stdout",
       "text": [
        "[####---------------------------------------]   9.0% ... Processing 100 files\r"
       ]
      },
      {
       "output_type": "stream",
       "stream": "stdout",
       "text": [
        "[####---------------------------------------]  10.0% ... Processing 100 files\r"
       ]
      },
      {
       "output_type": "stream",
       "stream": "stdout",
       "text": [
        "[#####--------------------------------------]  11.0% ... Processing 100 files\r"
       ]
      },
      {
       "output_type": "stream",
       "stream": "stdout",
       "text": [
        "[#####--------------------------------------]  12.0% ... Processing 100 files\r"
       ]
      },
      {
       "output_type": "stream",
       "stream": "stdout",
       "text": [
        "[######-------------------------------------]  13.0% ... Processing 100 files\r"
       ]
      },
      {
       "output_type": "stream",
       "stream": "stdout",
       "text": [
        "[######-------------------------------------]  14.0% ... Processing 100 files\r"
       ]
      },
      {
       "output_type": "stream",
       "stream": "stdout",
       "text": [
        "[######-------------------------------------]  15.0% ... Processing 100 files\r"
       ]
      },
      {
       "output_type": "stream",
       "stream": "stdout",
       "text": [
        "[#######------------------------------------]  16.0% ... Processing 100 files\r"
       ]
      },
      {
       "output_type": "stream",
       "stream": "stdout",
       "text": [
        "[#######------------------------------------]  17.0% ... Processing 100 files\r"
       ]
      },
      {
       "output_type": "stream",
       "stream": "stdout",
       "text": [
        "[########-----------------------------------]  18.0% ... Processing 100 files\r"
       ]
      },
      {
       "output_type": "stream",
       "stream": "stdout",
       "text": [
        "[########-----------------------------------]  19.0% ... Processing 100 files\r"
       ]
      },
      {
       "output_type": "stream",
       "stream": "stdout",
       "text": [
        "[#########----------------------------------]  20.0% ... Processing 100 files\r"
       ]
      },
      {
       "output_type": "stream",
       "stream": "stdout",
       "text": [
        "[#########----------------------------------]  21.0% ... Processing 100 files\r"
       ]
      },
      {
       "output_type": "stream",
       "stream": "stdout",
       "text": [
        "[#########----------------------------------]  22.0% ... Processing 100 files\r"
       ]
      },
      {
       "output_type": "stream",
       "stream": "stdout",
       "text": [
        "[##########---------------------------------]  23.0% ... Processing 100 files\r"
       ]
      },
      {
       "output_type": "stream",
       "stream": "stdout",
       "text": [
        "[##########---------------------------------]  24.0% ... Processing 100 files\r"
       ]
      },
      {
       "output_type": "stream",
       "stream": "stdout",
       "text": [
        "[###########--------------------------------]  25.0% ... Processing 100 files\r"
       ]
      },
      {
       "output_type": "stream",
       "stream": "stdout",
       "text": [
        "[###########--------------------------------]  26.0% ... Processing 100 files\r"
       ]
      },
      {
       "output_type": "stream",
       "stream": "stdout",
       "text": [
        "[############-------------------------------]  27.0% ... Processing 100 files\r"
       ]
      },
      {
       "output_type": "stream",
       "stream": "stdout",
       "text": [
        "[############-------------------------------]  28.0% ... Processing 100 files\r"
       ]
      },
      {
       "output_type": "stream",
       "stream": "stdout",
       "text": [
        "[############-------------------------------]  29.0% ... Processing 100 files\r"
       ]
      },
      {
       "output_type": "stream",
       "stream": "stdout",
       "text": [
        "[#############------------------------------]  30.0% ... Processing 100 files\r"
       ]
      },
      {
       "output_type": "stream",
       "stream": "stdout",
       "text": [
        "[#############------------------------------]  31.0% ... Processing 100 files\r"
       ]
      },
      {
       "output_type": "stream",
       "stream": "stdout",
       "text": [
        "[##############-----------------------------]  32.0% ... Processing 100 files\r"
       ]
      },
      {
       "output_type": "stream",
       "stream": "stdout",
       "text": [
        "[##############-----------------------------]  33.0% ... Processing 100 files\r"
       ]
      },
      {
       "output_type": "stream",
       "stream": "stdout",
       "text": [
        "[###############----------------------------]  34.0% ... Processing 100 files\r"
       ]
      },
      {
       "output_type": "stream",
       "stream": "stdout",
       "text": [
        "[###############----------------------------]  35.0% ... Processing 100 files\r"
       ]
      },
      {
       "output_type": "stream",
       "stream": "stdout",
       "text": [
        "[###############----------------------------]  36.0% ... Processing 100 files\r"
       ]
      },
      {
       "output_type": "stream",
       "stream": "stdout",
       "text": [
        "[################---------------------------]  37.0% ... Processing 100 files\r"
       ]
      },
      {
       "output_type": "stream",
       "stream": "stdout",
       "text": [
        "[################---------------------------]  38.0% ... Processing 100 files\r"
       ]
      },
      {
       "output_type": "stream",
       "stream": "stdout",
       "text": [
        "[#################--------------------------]  39.0% ... Processing 100 files\r"
       ]
      },
      {
       "output_type": "stream",
       "stream": "stdout",
       "text": [
        "[#################--------------------------]  40.0% ... Processing 100 files\r"
       ]
      },
      {
       "output_type": "stream",
       "stream": "stdout",
       "text": [
        "[##################-------------------------]  41.0% ... Processing 100 files\r"
       ]
      },
      {
       "output_type": "stream",
       "stream": "stdout",
       "text": [
        "[##################-------------------------]  42.0% ... Processing 100 files\r"
       ]
      },
      {
       "output_type": "stream",
       "stream": "stdout",
       "text": [
        "[##################-------------------------]  43.0% ... Processing 100 files\r"
       ]
      },
      {
       "output_type": "stream",
       "stream": "stdout",
       "text": [
        "[###################------------------------]  44.0% ... Processing 100 files\r"
       ]
      },
      {
       "output_type": "stream",
       "stream": "stdout",
       "text": [
        "[###################------------------------]  45.0% ... Processing 100 files\r"
       ]
      },
      {
       "output_type": "stream",
       "stream": "stdout",
       "text": [
        "[####################-----------------------]  46.0% ... Processing 100 files\r"
       ]
      },
      {
       "output_type": "stream",
       "stream": "stdout",
       "text": [
        "[####################-----------------------]  47.0% ... Processing 100 files\r"
       ]
      },
      {
       "output_type": "stream",
       "stream": "stdout",
       "text": [
        "[#####################----------------------]  48.0% ... Processing 100 files\r"
       ]
      },
      {
       "output_type": "stream",
       "stream": "stdout",
       "text": [
        "[#####################----------------------]  49.0% ... Processing 100 files\r"
       ]
      },
      {
       "output_type": "stream",
       "stream": "stdout",
       "text": [
        "[######################---------------------]  50.0% ... Processing 100 files\r"
       ]
      },
      {
       "output_type": "stream",
       "stream": "stdout",
       "text": [
        "[######################---------------------]  51.0% ... Processing 100 files\r"
       ]
      },
      {
       "output_type": "stream",
       "stream": "stdout",
       "text": [
        "[######################---------------------]  52.0% ... Processing 100 files\r"
       ]
      },
      {
       "output_type": "stream",
       "stream": "stdout",
       "text": [
        "[#######################--------------------]  53.0% ... Processing 100 files\r"
       ]
      },
      {
       "output_type": "stream",
       "stream": "stdout",
       "text": [
        "[#######################--------------------]  54.0% ... Processing 100 files\r"
       ]
      },
      {
       "output_type": "stream",
       "stream": "stdout",
       "text": [
        "[########################-------------------]  55.0% ... Processing 100 files\r"
       ]
      },
      {
       "output_type": "stream",
       "stream": "stdout",
       "text": [
        "[########################-------------------]  56.0% ... Processing 100 files\r"
       ]
      },
      {
       "output_type": "stream",
       "stream": "stdout",
       "text": [
        "[#########################------------------]  57.0% ... Processing 100 files\r"
       ]
      },
      {
       "output_type": "stream",
       "stream": "stdout",
       "text": [
        "[#########################------------------]  58.0% ... Processing 100 files\r"
       ]
      },
      {
       "output_type": "stream",
       "stream": "stdout",
       "text": [
        "[#########################------------------]  59.0% ... Processing 100 files\r"
       ]
      },
      {
       "output_type": "stream",
       "stream": "stdout",
       "text": [
        "[##########################-----------------]  60.0% ... Processing 100 files\r"
       ]
      },
      {
       "output_type": "stream",
       "stream": "stdout",
       "text": [
        "[##########################-----------------]  61.0% ... Processing 100 files\r"
       ]
      },
      {
       "output_type": "stream",
       "stream": "stdout",
       "text": [
        "[###########################----------------]  62.0% ... Processing 100 files\r"
       ]
      },
      {
       "output_type": "stream",
       "stream": "stdout",
       "text": [
        "[###########################----------------]  63.0% ... Processing 100 files\r"
       ]
      },
      {
       "output_type": "stream",
       "stream": "stdout",
       "text": [
        "[############################---------------]  64.0% ... Processing 100 files\r"
       ]
      },
      {
       "output_type": "stream",
       "stream": "stdout",
       "text": [
        "[############################---------------]  65.0% ... Processing 100 files\r"
       ]
      },
      {
       "output_type": "stream",
       "stream": "stdout",
       "text": [
        "[############################---------------]  66.0% ... Processing 100 files\r"
       ]
      },
      {
       "output_type": "stream",
       "stream": "stdout",
       "text": [
        "[#############################--------------]  67.0% ... Processing 100 files\r"
       ]
      },
      {
       "output_type": "stream",
       "stream": "stdout",
       "text": [
        "[#############################--------------]  68.0% ... Processing 100 files\r"
       ]
      },
      {
       "output_type": "stream",
       "stream": "stdout",
       "text": [
        "[##############################-------------]  69.0% ... Processing 100 files\r"
       ]
      },
      {
       "output_type": "stream",
       "stream": "stdout",
       "text": [
        "[##############################-------------]  70.0% ... Processing 100 files\r"
       ]
      },
      {
       "output_type": "stream",
       "stream": "stdout",
       "text": [
        "[###############################------------]  71.0% ... Processing 100 files\r"
       ]
      },
      {
       "output_type": "stream",
       "stream": "stdout",
       "text": [
        "[###############################------------]  72.0% ... Processing 100 files\r"
       ]
      },
      {
       "output_type": "stream",
       "stream": "stdout",
       "text": [
        "[###############################------------]  73.0% ... Processing 100 files\r"
       ]
      },
      {
       "output_type": "stream",
       "stream": "stdout",
       "text": [
        "[################################-----------]  74.0% ... Processing 100 files\r"
       ]
      },
      {
       "output_type": "stream",
       "stream": "stdout",
       "text": [
        "[################################-----------]  75.0% ... Processing 100 files\r"
       ]
      },
      {
       "output_type": "stream",
       "stream": "stdout",
       "text": [
        "[#################################----------]  76.0% ... Processing 100 files\r"
       ]
      },
      {
       "output_type": "stream",
       "stream": "stdout",
       "text": [
        "[#################################----------]  77.0% ... Processing 100 files\r"
       ]
      },
      {
       "output_type": "stream",
       "stream": "stdout",
       "text": [
        "[##################################---------]  78.0% ... Processing 100 files\r"
       ]
      },
      {
       "output_type": "stream",
       "stream": "stdout",
       "text": [
        "[##################################---------]  79.0% ... Processing 100 files\r"
       ]
      },
      {
       "output_type": "stream",
       "stream": "stdout",
       "text": [
        "[##################################---------]  80.0% ... Processing 100 files\r"
       ]
      },
      {
       "output_type": "stream",
       "stream": "stdout",
       "text": [
        "[###################################--------]  81.0% ... Processing 100 files\r"
       ]
      },
      {
       "output_type": "stream",
       "stream": "stdout",
       "text": [
        "[###################################--------]  82.0% ... Processing 100 files\r"
       ]
      },
      {
       "output_type": "stream",
       "stream": "stdout",
       "text": [
        "[####################################-------]  83.0% ... Processing 100 files\r"
       ]
      },
      {
       "output_type": "stream",
       "stream": "stdout",
       "text": [
        "[####################################-------]  84.0% ... Processing 100 files\r"
       ]
      },
      {
       "output_type": "stream",
       "stream": "stdout",
       "text": [
        "[#####################################------]  85.0% ... Processing 100 files\r"
       ]
      },
      {
       "output_type": "stream",
       "stream": "stdout",
       "text": [
        "[#####################################------]  86.0% ... Processing 100 files\r"
       ]
      },
      {
       "output_type": "stream",
       "stream": "stdout",
       "text": [
        "[#####################################------]  87.0% ... Processing 100 files\r"
       ]
      },
      {
       "output_type": "stream",
       "stream": "stdout",
       "text": [
        "[######################################-----]  88.0% ... Processing 100 files\r"
       ]
      },
      {
       "output_type": "stream",
       "stream": "stdout",
       "text": [
        "[######################################-----]  89.0% ... Processing 100 files\r"
       ]
      },
      {
       "output_type": "stream",
       "stream": "stdout",
       "text": [
        "[#######################################----]  90.0% ... Processing 100 files\r"
       ]
      },
      {
       "output_type": "stream",
       "stream": "stdout",
       "text": [
        "[#######################################----]  91.0% ... Processing 100 files\r"
       ]
      },
      {
       "output_type": "stream",
       "stream": "stdout",
       "text": [
        "[########################################---]  92.0% ... Processing 100 files\r"
       ]
      },
      {
       "output_type": "stream",
       "stream": "stdout",
       "text": [
        "[########################################---]  93.0% ... Processing 100 files\r"
       ]
      },
      {
       "output_type": "stream",
       "stream": "stdout",
       "text": [
        "[########################################---]  94.0% ... Processing 100 files\r"
       ]
      },
      {
       "output_type": "stream",
       "stream": "stdout",
       "text": [
        "[#########################################--]  95.0% ... Processing 100 files\r"
       ]
      },
      {
       "output_type": "stream",
       "stream": "stdout",
       "text": [
        "[#########################################--]  96.0% ... Processing 100 files\r"
       ]
      },
      {
       "output_type": "stream",
       "stream": "stdout",
       "text": [
        "[##########################################-]  97.0% ... Processing 100 files\r"
       ]
      },
      {
       "output_type": "stream",
       "stream": "stdout",
       "text": [
        "[##########################################-]  98.0% ... Processing 100 files\r"
       ]
      },
      {
       "output_type": "stream",
       "stream": "stdout",
       "text": [
        "[###########################################] 100.0% ... Processing 100 files\r"
       ]
      },
      {
       "output_type": "stream",
       "stream": "stdout",
       "text": [
        "\n",
        "Loading Gravity Data..."
       ]
      },
      {
       "output_type": "stream",
       "stream": "stdout",
       "text": [
        " Done!\n",
        "Sorting data by rough stage position... Done!\n",
        "Finding alpha vs. height/separation...\n",
        "[-----------------------------------]   0.0% ... 1 / 81 position combinations\r"
       ]
      },
      {
       "output_type": "stream",
       "stream": "stdout",
       "text": [
        "[-----------------------------------]   1.0% ... 1 / 81 position combinations\r"
       ]
      },
      {
       "output_type": "stream",
       "stream": "stdout",
       "text": [
        "[#----------------------------------]   2.0% ... 1 / 81 position combinations\r"
       ]
      },
      {
       "output_type": "stream",
       "stream": "stdout",
       "text": [
        "[#----------------------------------]   3.0% ... 1 / 81 position combinations\r"
       ]
      },
      {
       "output_type": "stream",
       "stream": "stdout",
       "text": [
        "[#----------------------------------]   4.0% ... 1 / 81 position combinations\r"
       ]
      },
      {
       "output_type": "stream",
       "stream": "stdout",
       "text": [
        "[##---------------------------------]   5.0% ... 1 / 81 position combinations\r"
       ]
      },
      {
       "output_type": "stream",
       "stream": "stdout",
       "text": [
        "[##---------------------------------]   6.0% ... 1 / 81 position combinations\r"
       ]
      },
      {
       "output_type": "stream",
       "stream": "stdout",
       "text": [
        "[##---------------------------------]   7.0% ... 1 / 81 position combinations\r"
       ]
      },
      {
       "output_type": "stream",
       "stream": "stdout",
       "text": [
        "[###--------------------------------]   8.0% ... 1 / 81 position combinations\r"
       ]
      },
      {
       "output_type": "stream",
       "stream": "stdout",
       "text": [
        "[###--------------------------------]   9.0% ... 1 / 81 position combinations\r"
       ]
      },
      {
       "output_type": "stream",
       "stream": "stdout",
       "text": [
        "[####-------------------------------]  10.0% ... 1 / 81 position combinations\r"
       ]
      },
      {
       "output_type": "stream",
       "stream": "stdout",
       "text": [
        "[####-------------------------------]  11.0% ... 1 / 81 position combinations\r"
       ]
      },
      {
       "output_type": "stream",
       "stream": "stdout",
       "text": [
        "[####-------------------------------]  12.0% ... 1 / 81 position combinations\r"
       ]
      },
      {
       "output_type": "stream",
       "stream": "stdout",
       "text": [
        "[#####------------------------------]  13.0% ... 1 / 81 position combinations\r"
       ]
      },
      {
       "output_type": "stream",
       "stream": "stdout",
       "text": [
        "[#####------------------------------]  14.0% ... 1 / 81 position combinations\r"
       ]
      },
      {
       "output_type": "stream",
       "stream": "stdout",
       "text": [
        "[#####------------------------------]  15.0% ... 1 / 81 position combinations\r"
       ]
      },
      {
       "output_type": "stream",
       "stream": "stdout",
       "text": [
        "[######-----------------------------]  16.0% ... 1 / 81 position combinations\r"
       ]
      },
      {
       "output_type": "stream",
       "stream": "stdout",
       "text": [
        "[######-----------------------------]  17.0% ... 1 / 81 position combinations\r"
       ]
      },
      {
       "output_type": "stream",
       "stream": "stdout",
       "text": [
        "[######-----------------------------]  18.0% ... 1 / 81 position combinations\r"
       ]
      },
      {
       "output_type": "stream",
       "stream": "stdout",
       "text": [
        "[#######----------------------------]  19.0% ... 1 / 81 position combinations\r"
       ]
      },
      {
       "output_type": "stream",
       "stream": "stdout",
       "text": [
        "[#######----------------------------]  20.0% ... 1 / 81 position combinations\r"
       ]
      },
      {
       "output_type": "stream",
       "stream": "stdout",
       "text": [
        "[#######----------------------------]  21.0% ... 1 / 81 position combinations\r"
       ]
      },
      {
       "output_type": "stream",
       "stream": "stdout",
       "text": [
        "[########---------------------------]  22.0% ... 1 / 81 position combinations\r"
       ]
      },
      {
       "output_type": "stream",
       "stream": "stdout",
       "text": [
        "[########---------------------------]  23.0% ... 1 / 81 position combinations\r"
       ]
      },
      {
       "output_type": "stream",
       "stream": "stdout",
       "text": [
        "[########---------------------------]  24.0% ... 1 / 81 position combinations\r"
       ]
      },
      {
       "output_type": "stream",
       "stream": "stdout",
       "text": [
        "[#########--------------------------]  25.0% ... 1 / 81 position combinations\r"
       ]
      },
      {
       "output_type": "stream",
       "stream": "stdout",
       "text": [
        "[#########--------------------------]  26.0% ... 1 / 81 position combinations\r"
       ]
      },
      {
       "output_type": "stream",
       "stream": "stdout",
       "text": [
        "[#########--------------------------]  27.0% ... 1 / 81 position combinations\r"
       ]
      },
      {
       "output_type": "stream",
       "stream": "stdout",
       "text": [
        "[##########-------------------------]  28.0% ... 1 / 81 position combinations\r"
       ]
      },
      {
       "output_type": "stream",
       "stream": "stdout",
       "text": [
        "[##########-------------------------]  29.0% ... 1 / 81 position combinations\r"
       ]
      },
      {
       "output_type": "stream",
       "stream": "stdout",
       "text": [
        "[###########------------------------]  30.0% ... 1 / 81 position combinations\r"
       ]
      },
      {
       "output_type": "stream",
       "stream": "stdout",
       "text": [
        "[###########------------------------]  31.0% ... 1 / 81 position combinations\r"
       ]
      },
      {
       "output_type": "stream",
       "stream": "stdout",
       "text": [
        "[###########------------------------]  32.0% ... 1 / 81 position combinations\r"
       ]
      },
      {
       "output_type": "stream",
       "stream": "stdout",
       "text": [
        "[############-----------------------]  33.0% ... 1 / 81 position combinations\r"
       ]
      },
      {
       "output_type": "stream",
       "stream": "stdout",
       "text": [
        "[############-----------------------]  34.0% ... 1 / 81 position combinations\r"
       ]
      },
      {
       "output_type": "stream",
       "stream": "stdout",
       "text": [
        "[############-----------------------]  35.0% ... 1 / 81 position combinations\r"
       ]
      },
      {
       "output_type": "stream",
       "stream": "stdout",
       "text": [
        "[#############----------------------]  36.0% ... 1 / 81 position combinations\r"
       ]
      },
      {
       "output_type": "stream",
       "stream": "stdout",
       "text": [
        "[#############----------------------]  37.0% ... 1 / 81 position combinations\r"
       ]
      },
      {
       "output_type": "stream",
       "stream": "stdout",
       "text": [
        "[#############----------------------]  38.0% ... 1 / 81 position combinations\r"
       ]
      },
      {
       "output_type": "stream",
       "stream": "stdout",
       "text": [
        "[##############---------------------]  39.0% ... 1 / 81 position combinations\r"
       ]
      },
      {
       "output_type": "stream",
       "stream": "stdout",
       "text": [
        "[##############---------------------]  40.0% ... 1 / 81 position combinations\r"
       ]
      },
      {
       "output_type": "stream",
       "stream": "stdout",
       "text": [
        "[##############---------------------]  41.0% ... 1 / 81 position combinations\r"
       ]
      },
      {
       "output_type": "stream",
       "stream": "stdout",
       "text": [
        "[###############--------------------]  42.0% ... 1 / 81 position combinations\r"
       ]
      },
      {
       "output_type": "stream",
       "stream": "stdout",
       "text": [
        "[###############--------------------]  43.0% ... 1 / 81 position combinations\r"
       ]
      },
      {
       "output_type": "stream",
       "stream": "stdout",
       "text": [
        "[###############--------------------]  44.0% ... 1 / 81 position combinations\r"
       ]
      },
      {
       "output_type": "stream",
       "stream": "stdout",
       "text": [
        "[################-------------------]  45.0% ... 1 / 81 position combinations\r"
       ]
      },
      {
       "output_type": "stream",
       "stream": "stdout",
       "text": [
        "[################-------------------]  46.0% ... 1 / 81 position combinations\r"
       ]
      },
      {
       "output_type": "stream",
       "stream": "stdout",
       "text": [
        "[################-------------------]  47.0% ... 1 / 81 position combinations\r"
       ]
      },
      {
       "output_type": "stream",
       "stream": "stdout",
       "text": [
        "[#################------------------]  48.0% ... 1 / 81 position combinations\r"
       ]
      },
      {
       "output_type": "stream",
       "stream": "stdout",
       "text": [
        "[#################------------------]  49.0% ... 1 / 81 position combinations\r"
       ]
      },
      {
       "output_type": "stream",
       "stream": "stdout",
       "text": [
        "[##################-----------------]  50.0% ... 1 / 81 position combinations\r"
       ]
      },
      {
       "output_type": "stream",
       "stream": "stdout",
       "text": [
        "[##################-----------------]  51.0% ... 1 / 81 position combinations\r"
       ]
      },
      {
       "output_type": "stream",
       "stream": "stdout",
       "text": [
        "[##################-----------------]  52.0% ... 1 / 81 position combinations\r"
       ]
      },
      {
       "output_type": "stream",
       "stream": "stdout",
       "text": [
        "[###################----------------]  53.0% ... 1 / 81 position combinations\r"
       ]
      },
      {
       "output_type": "stream",
       "stream": "stdout",
       "text": [
        "[###################----------------]  54.0% ... 1 / 81 position combinations\r"
       ]
      },
      {
       "output_type": "stream",
       "stream": "stdout",
       "text": [
        "[###################----------------]  55.0% ... 1 / 81 position combinations\r"
       ]
      },
      {
       "output_type": "stream",
       "stream": "stdout",
       "text": [
        "[####################---------------]  56.0% ... 1 / 81 position combinations\r"
       ]
      },
      {
       "output_type": "stream",
       "stream": "stdout",
       "text": [
        "[####################---------------]  57.0% ... 1 / 81 position combinations\r"
       ]
      },
      {
       "output_type": "stream",
       "stream": "stdout",
       "text": [
        "[####################---------------]  58.0% ... 1 / 81 position combinations\r"
       ]
      },
      {
       "output_type": "stream",
       "stream": "stdout",
       "text": [
        "[#####################--------------]  59.0% ... 1 / 81 position combinations\r"
       ]
      },
      {
       "output_type": "stream",
       "stream": "stdout",
       "text": [
        "[#####################--------------]  60.0% ... 1 / 81 position combinations\r"
       ]
      },
      {
       "output_type": "stream",
       "stream": "stdout",
       "text": [
        "[#####################--------------]  61.0% ... 1 / 81 position combinations\r"
       ]
      },
      {
       "output_type": "stream",
       "stream": "stdout",
       "text": [
        "[######################-------------]  62.0% ... 1 / 81 position combinations\r"
       ]
      },
      {
       "output_type": "stream",
       "stream": "stdout",
       "text": [
        "[######################-------------]  63.0% ... 1 / 81 position combinations\r"
       ]
      },
      {
       "output_type": "stream",
       "stream": "stdout",
       "text": [
        "[######################-------------]  64.0% ... 1 / 81 position combinations\r"
       ]
      },
      {
       "output_type": "stream",
       "stream": "stdout",
       "text": [
        "[#######################------------]  65.0% ... 1 / 81 position combinations\r"
       ]
      },
      {
       "output_type": "stream",
       "stream": "stdout",
       "text": [
        "[#######################------------]  66.0% ... 1 / 81 position combinations\r"
       ]
      },
      {
       "output_type": "stream",
       "stream": "stdout",
       "text": [
        "[#######################------------]  67.0% ... 1 / 81 position combinations\r"
       ]
      },
      {
       "output_type": "stream",
       "stream": "stdout",
       "text": [
        "[########################-----------]  68.0% ... 1 / 81 position combinations\r"
       ]
      },
      {
       "output_type": "stream",
       "stream": "stdout",
       "text": [
        "[########################-----------]  69.0% ... 1 / 81 position combinations\r"
       ]
      },
      {
       "output_type": "stream",
       "stream": "stdout",
       "text": [
        "[#########################----------]  70.0% ... 1 / 81 position combinations\r"
       ]
      },
      {
       "output_type": "stream",
       "stream": "stdout",
       "text": [
        "[#########################----------]  71.0% ... 1 / 81 position combinations\r"
       ]
      },
      {
       "output_type": "stream",
       "stream": "stdout",
       "text": [
        "[#########################----------]  72.0% ... 1 / 81 position combinations\r"
       ]
      },
      {
       "output_type": "stream",
       "stream": "stdout",
       "text": [
        "[##########################---------]  73.0% ... 1 / 81 position combinations\r"
       ]
      },
      {
       "output_type": "stream",
       "stream": "stdout",
       "text": [
        "[##########################---------]  74.0% ... 1 / 81 position combinations\r"
       ]
      },
      {
       "output_type": "stream",
       "stream": "stdout",
       "text": [
        "[##########################---------]  75.0% ... 1 / 81 position combinations\r"
       ]
      },
      {
       "output_type": "stream",
       "stream": "stdout",
       "text": [
        "[###########################--------]  76.0% ... 1 / 81 position combinations\r"
       ]
      },
      {
       "output_type": "stream",
       "stream": "stdout",
       "text": [
        "[###########################--------]  77.0% ... 1 / 81 position combinations\r"
       ]
      },
      {
       "output_type": "stream",
       "stream": "stdout",
       "text": [
        "[###########################--------]  78.0% ... 1 / 81 position combinations\r"
       ]
      },
      {
       "output_type": "stream",
       "stream": "stdout",
       "text": [
        "[############################-------]  79.0% ... 1 / 81 position combinations\r"
       ]
      },
      {
       "output_type": "stream",
       "stream": "stdout",
       "text": [
        "[############################-------]  80.0% ... 1 / 81 position combinations\r"
       ]
      },
      {
       "output_type": "stream",
       "stream": "stdout",
       "text": [
        "[############################-------]  81.0% ... 1 / 81 position combinations\r"
       ]
      },
      {
       "output_type": "stream",
       "stream": "stdout",
       "text": [
        "[#############################------]  82.0% ... 1 / 81 position combinations\r"
       ]
      },
      {
       "output_type": "stream",
       "stream": "stdout",
       "text": [
        "[#############################------]  83.0% ... 1 / 81 position combinations\r"
       ]
      },
      {
       "output_type": "stream",
       "stream": "stdout",
       "text": [
        "[#############################------]  84.0% ... 1 / 81 position combinations\r"
       ]
      },
      {
       "output_type": "stream",
       "stream": "stdout",
       "text": [
        "[##############################-----]  85.0% ... 1 / 81 position combinations\r"
       ]
      },
      {
       "output_type": "stream",
       "stream": "stdout",
       "text": [
        "[##############################-----]  86.0% ... 1 / 81 position combinations\r"
       ]
      },
      {
       "output_type": "stream",
       "stream": "stdout",
       "text": [
        "[##############################-----]  87.0% ... 1 / 81 position combinations\r"
       ]
      },
      {
       "output_type": "stream",
       "stream": "stdout",
       "text": [
        "[###############################----]  88.0% ... 1 / 81 position combinations\r"
       ]
      },
      {
       "output_type": "stream",
       "stream": "stdout",
       "text": [
        "[###############################----]  89.0% ... 1 / 81 position combinations\r"
       ]
      },
      {
       "output_type": "stream",
       "stream": "stdout",
       "text": [
        "[################################---]  90.0% ... 1 / 81 position combinations\r"
       ]
      },
      {
       "output_type": "stream",
       "stream": "stdout",
       "text": [
        "[################################---]  91.0% ... 1 / 81 position combinations\r"
       ]
      },
      {
       "output_type": "stream",
       "stream": "stdout",
       "text": [
        "[################################---]  92.0% ... 1 / 81 position combinations\r"
       ]
      },
      {
       "output_type": "stream",
       "stream": "stdout",
       "text": [
        "[#################################--]  93.0% ... 1 / 81 position combinations\r"
       ]
      },
      {
       "output_type": "stream",
       "stream": "stdout",
       "text": [
        "[#################################--]  94.0% ... 1 / 81 position combinations\r"
       ]
      },
      {
       "output_type": "stream",
       "stream": "stdout",
       "text": [
        "[#################################--]  95.0% ... 1 / 81 position combinations\r"
       ]
      },
      {
       "output_type": "stream",
       "stream": "stdout",
       "text": [
        "[##################################-]  96.0% ... 1 / 81 position combinations\r"
       ]
      },
      {
       "output_type": "stream",
       "stream": "stdout",
       "text": [
        "[##################################-]  97.0% ... 1 / 81 position combinations\r"
       ]
      },
      {
       "output_type": "stream",
       "stream": "stdout",
       "text": [
        "[##################################-]  98.0% ... 1 / 81 position combinations\r"
       ]
      },
      {
       "output_type": "stream",
       "stream": "stdout",
       "text": [
        "[###################################] 100.0% ... 1 / 81 position combinations\r"
       ]
      },
      {
       "ename": "UnboundLocalError",
       "evalue": "local variable 'DataFrameTot' referenced before assignment",
       "output_type": "pyerr",
       "traceback": [
        "\u001b[0;31m---------------------------------------------------------------------------\u001b[0m\n\u001b[0;31mUnboundLocalError\u001b[0m                         Traceback (most recent call last)",
        "\u001b[0;32m/usr/lib/python2.7/dist-packages/IPython/utils/py3compat.pyc\u001b[0m in \u001b[0;36mexecfile\u001b[0;34m(fname, *where)\u001b[0m\n\u001b[1;32m    202\u001b[0m             \u001b[0;32melse\u001b[0m\u001b[0;34m:\u001b[0m\u001b[0;34m\u001b[0m\u001b[0m\n\u001b[1;32m    203\u001b[0m                 \u001b[0mfilename\u001b[0m \u001b[0;34m=\u001b[0m \u001b[0mfname\u001b[0m\u001b[0;34m\u001b[0m\u001b[0m\n\u001b[0;32m--> 204\u001b[0;31m             \u001b[0m__builtin__\u001b[0m\u001b[0;34m.\u001b[0m\u001b[0mexecfile\u001b[0m\u001b[0;34m(\u001b[0m\u001b[0mfilename\u001b[0m\u001b[0;34m,\u001b[0m \u001b[0;34m*\u001b[0m\u001b[0mwhere\u001b[0m\u001b[0;34m)\u001b[0m\u001b[0;34m\u001b[0m\u001b[0m\n\u001b[0m",
        "\u001b[0;32m/home/arider/opt_lev_analysis/scripts/microgravity/grav_class_test.py\u001b[0m in \u001b[0;36m<module>\u001b[0;34m()\u001b[0m\n\u001b[1;32m     68\u001b[0m \u001b[0;34m\u001b[0m\u001b[0m\n\u001b[1;32m     69\u001b[0m     \u001b[0;31m## Analyze alpha vs height/sep\u001b[0m\u001b[0;34m\u001b[0m\u001b[0;34m\u001b[0m\u001b[0m\n\u001b[0;32m---> 70\u001b[0;31m     \u001b[0magg_dat\u001b[0m\u001b[0;34m.\u001b[0m\u001b[0mfind_mean_alpha_vs_position\u001b[0m\u001b[0;34m(\u001b[0m\u001b[0;34m)\u001b[0m\u001b[0;34m\u001b[0m\u001b[0m\n\u001b[0m\u001b[1;32m     71\u001b[0m \u001b[0;34m\u001b[0m\u001b[0m\n\u001b[1;32m     72\u001b[0m     \u001b[0magg_dat\u001b[0m\u001b[0;34m.\u001b[0m\u001b[0msave\u001b[0m\u001b[0;34m(\u001b[0m\u001b[0magg_path\u001b[0m\u001b[0;34m)\u001b[0m\u001b[0;34m\u001b[0m\u001b[0m\n",
        "\u001b[0;32m/home/arider/opt_lev_analysis/scripts/grav_util_2.py\u001b[0m in \u001b[0;36mfind_mean_alpha_vs_position\u001b[0;34m(self, ignoreXYZ)\u001b[0m\n\u001b[1;32m    793\u001b[0m                     [[bias, ax1, ax2, DataFrame_alphas]], index = [i], columns = [\"bias\", \"ax1\", \"ax2\", \"alphas\"])\n\u001b[1;32m    794\u001b[0m \u001b[0;34m\u001b[0m\u001b[0m\n\u001b[0;32m--> 795\u001b[0;31m             \u001b[0;32mtry\u001b[0m\u001b[0;34m:\u001b[0m\u001b[0;34m\u001b[0m\u001b[0m\n\u001b[0m\u001b[1;32m    796\u001b[0m                 \u001b[0mDataFrameTot\u001b[0m\u001b[0;34m.\u001b[0m\u001b[0mappend\u001b[0m\u001b[0;34m(\u001b[0m\u001b[0mDataFramei\u001b[0m\u001b[0;34m)\u001b[0m\u001b[0;34m\u001b[0m\u001b[0m\n\u001b[1;32m    797\u001b[0m             \u001b[0;32mexcept\u001b[0m \u001b[0mUnboundLocalError\u001b[0m\u001b[0;34m:\u001b[0m\u001b[0;34m\u001b[0m\u001b[0m\n",
        "\u001b[0;31mUnboundLocalError\u001b[0m: local variable 'DataFrameTot' referenced before assignment"
       ]
      }
     ],
     "prompt_number": 9
    },
    {
     "cell_type": "code",
     "collapsed": false,
     "input": [
      "run grav_class_test.py\n"
     ],
     "language": "python",
     "metadata": {},
     "outputs": [
      {
       "output_type": "stream",
       "stream": "stdout",
       "text": [
        "Finding files in: \n",
        "/data/20180704/bead1/grav_data/shield\n"
       ]
      },
      {
       "output_type": "stream",
       "stream": "stdout",
       "text": [
        "Found 5740 files...\n",
        "[-------------------------------------------]   0.0% ... Processing 100 files\r"
       ]
      },
      {
       "output_type": "stream",
       "stream": "stdout",
       "text": [
        "[-------------------------------------------]   1.0% ... Processing 100 files\r"
       ]
      },
      {
       "output_type": "stream",
       "stream": "stdout",
       "text": [
        "[#------------------------------------------]   2.0% ... Processing 100 files\r"
       ]
      },
      {
       "output_type": "stream",
       "stream": "stdout",
       "text": [
        "[#------------------------------------------]   3.0% ... Processing 100 files\r"
       ]
      },
      {
       "output_type": "stream",
       "stream": "stdout",
       "text": [
        "[##-----------------------------------------]   4.0% ... Processing 100 files\r"
       ]
      },
      {
       "output_type": "stream",
       "stream": "stdout",
       "text": [
        "[##-----------------------------------------]   5.0% ... Processing 100 files\r"
       ]
      },
      {
       "output_type": "stream",
       "stream": "stdout",
       "text": [
        "[###----------------------------------------]   6.0% ... Processing 100 files\r"
       ]
      },
      {
       "output_type": "stream",
       "stream": "stdout",
       "text": [
        "[###----------------------------------------]   7.0% ... Processing 100 files\r"
       ]
      },
      {
       "output_type": "stream",
       "stream": "stdout",
       "text": [
        "[###----------------------------------------]   8.0% ... Processing 100 files\r"
       ]
      },
      {
       "output_type": "stream",
       "stream": "stdout",
       "text": [
        "[####---------------------------------------]   9.0% ... Processing 100 files\r"
       ]
      },
      {
       "output_type": "stream",
       "stream": "stdout",
       "text": [
        "[####---------------------------------------]  10.0% ... Processing 100 files\r"
       ]
      },
      {
       "output_type": "stream",
       "stream": "stdout",
       "text": [
        "[#####--------------------------------------]  11.0% ... Processing 100 files\r"
       ]
      },
      {
       "output_type": "stream",
       "stream": "stdout",
       "text": [
        "[#####--------------------------------------]  12.0% ... Processing 100 files\r"
       ]
      },
      {
       "output_type": "stream",
       "stream": "stdout",
       "text": [
        "[######-------------------------------------]  13.0% ... Processing 100 files\r"
       ]
      },
      {
       "output_type": "stream",
       "stream": "stdout",
       "text": [
        "[######-------------------------------------]  14.0% ... Processing 100 files\r"
       ]
      },
      {
       "output_type": "stream",
       "stream": "stdout",
       "text": [
        "[######-------------------------------------]  15.0% ... Processing 100 files\r"
       ]
      },
      {
       "output_type": "stream",
       "stream": "stdout",
       "text": [
        "[#######------------------------------------]  16.0% ... Processing 100 files\r"
       ]
      },
      {
       "output_type": "stream",
       "stream": "stdout",
       "text": [
        "[#######------------------------------------]  17.0% ... Processing 100 files\r"
       ]
      },
      {
       "output_type": "stream",
       "stream": "stdout",
       "text": [
        "[########-----------------------------------]  18.0% ... Processing 100 files\r"
       ]
      },
      {
       "output_type": "stream",
       "stream": "stdout",
       "text": [
        "[########-----------------------------------]  19.0% ... Processing 100 files\r"
       ]
      },
      {
       "output_type": "stream",
       "stream": "stdout",
       "text": [
        "[#########----------------------------------]  20.0% ... Processing 100 files\r"
       ]
      },
      {
       "output_type": "stream",
       "stream": "stdout",
       "text": [
        "[#########----------------------------------]  21.0% ... Processing 100 files\r"
       ]
      },
      {
       "output_type": "stream",
       "stream": "stdout",
       "text": [
        "[#########----------------------------------]  22.0% ... Processing 100 files\r"
       ]
      },
      {
       "output_type": "stream",
       "stream": "stdout",
       "text": [
        "[##########---------------------------------]  23.0% ... Processing 100 files\r"
       ]
      },
      {
       "output_type": "stream",
       "stream": "stdout",
       "text": [
        "[##########---------------------------------]  24.0% ... Processing 100 files\r"
       ]
      },
      {
       "output_type": "stream",
       "stream": "stdout",
       "text": [
        "[###########--------------------------------]  25.0% ... Processing 100 files\r"
       ]
      },
      {
       "output_type": "stream",
       "stream": "stdout",
       "text": [
        "[###########--------------------------------]  26.0% ... Processing 100 files\r"
       ]
      },
      {
       "output_type": "stream",
       "stream": "stdout",
       "text": [
        "[############-------------------------------]  27.0% ... Processing 100 files\r"
       ]
      },
      {
       "output_type": "stream",
       "stream": "stdout",
       "text": [
        "[############-------------------------------]  28.0% ... Processing 100 files\r"
       ]
      },
      {
       "output_type": "stream",
       "stream": "stdout",
       "text": [
        "[############-------------------------------]  29.0% ... Processing 100 files\r"
       ]
      },
      {
       "output_type": "stream",
       "stream": "stdout",
       "text": [
        "[#############------------------------------]  30.0% ... Processing 100 files\r"
       ]
      },
      {
       "output_type": "stream",
       "stream": "stdout",
       "text": [
        "[#############------------------------------]  31.0% ... Processing 100 files\r"
       ]
      },
      {
       "output_type": "stream",
       "stream": "stdout",
       "text": [
        "[##############-----------------------------]  32.0% ... Processing 100 files\r"
       ]
      },
      {
       "output_type": "stream",
       "stream": "stdout",
       "text": [
        "[##############-----------------------------]  33.0% ... Processing 100 files\r"
       ]
      },
      {
       "output_type": "stream",
       "stream": "stdout",
       "text": [
        "[###############----------------------------]  34.0% ... Processing 100 files\r"
       ]
      },
      {
       "output_type": "stream",
       "stream": "stdout",
       "text": [
        "[###############----------------------------]  35.0% ... Processing 100 files\r"
       ]
      },
      {
       "output_type": "stream",
       "stream": "stdout",
       "text": [
        "[###############----------------------------]  36.0% ... Processing 100 files\r"
       ]
      },
      {
       "output_type": "stream",
       "stream": "stdout",
       "text": [
        "[################---------------------------]  37.0% ... Processing 100 files\r"
       ]
      },
      {
       "output_type": "stream",
       "stream": "stdout",
       "text": [
        "[################---------------------------]  38.0% ... Processing 100 files\r"
       ]
      },
      {
       "output_type": "stream",
       "stream": "stdout",
       "text": [
        "[#################--------------------------]  39.0% ... Processing 100 files\r"
       ]
      },
      {
       "output_type": "stream",
       "stream": "stdout",
       "text": [
        "[#################--------------------------]  40.0% ... Processing 100 files\r"
       ]
      },
      {
       "output_type": "stream",
       "stream": "stdout",
       "text": [
        "[##################-------------------------]  41.0% ... Processing 100 files\r"
       ]
      },
      {
       "output_type": "stream",
       "stream": "stdout",
       "text": [
        "[##################-------------------------]  42.0% ... Processing 100 files\r"
       ]
      },
      {
       "output_type": "stream",
       "stream": "stdout",
       "text": [
        "[##################-------------------------]  43.0% ... Processing 100 files\r"
       ]
      },
      {
       "output_type": "stream",
       "stream": "stdout",
       "text": [
        "[###################------------------------]  44.0% ... Processing 100 files\r"
       ]
      },
      {
       "output_type": "stream",
       "stream": "stdout",
       "text": [
        "[###################------------------------]  45.0% ... Processing 100 files\r"
       ]
      },
      {
       "output_type": "stream",
       "stream": "stdout",
       "text": [
        "[####################-----------------------]  46.0% ... Processing 100 files\r"
       ]
      },
      {
       "output_type": "stream",
       "stream": "stdout",
       "text": [
        "[####################-----------------------]  47.0% ... Processing 100 files\r"
       ]
      },
      {
       "output_type": "stream",
       "stream": "stdout",
       "text": [
        "[#####################----------------------]  48.0% ... Processing 100 files\r"
       ]
      },
      {
       "output_type": "stream",
       "stream": "stdout",
       "text": [
        "[#####################----------------------]  49.0% ... Processing 100 files\r"
       ]
      },
      {
       "output_type": "stream",
       "stream": "stdout",
       "text": [
        "[######################---------------------]  50.0% ... Processing 100 files\r"
       ]
      },
      {
       "output_type": "stream",
       "stream": "stdout",
       "text": [
        "[######################---------------------]  51.0% ... Processing 100 files\r"
       ]
      },
      {
       "output_type": "stream",
       "stream": "stdout",
       "text": [
        "[######################---------------------]  52.0% ... Processing 100 files\r"
       ]
      },
      {
       "output_type": "stream",
       "stream": "stdout",
       "text": [
        "[#######################--------------------]  53.0% ... Processing 100 files\r"
       ]
      },
      {
       "output_type": "stream",
       "stream": "stdout",
       "text": [
        "[#######################--------------------]  54.0% ... Processing 100 files\r"
       ]
      },
      {
       "output_type": "stream",
       "stream": "stdout",
       "text": [
        "[########################-------------------]  55.0% ... Processing 100 files\r"
       ]
      },
      {
       "output_type": "stream",
       "stream": "stdout",
       "text": [
        "[########################-------------------]  56.0% ... Processing 100 files\r"
       ]
      },
      {
       "output_type": "stream",
       "stream": "stdout",
       "text": [
        "[#########################------------------]  57.0% ... Processing 100 files\r"
       ]
      },
      {
       "output_type": "stream",
       "stream": "stdout",
       "text": [
        "[#########################------------------]  58.0% ... Processing 100 files\r"
       ]
      },
      {
       "output_type": "stream",
       "stream": "stdout",
       "text": [
        "[#########################------------------]  59.0% ... Processing 100 files\r"
       ]
      },
      {
       "output_type": "stream",
       "stream": "stdout",
       "text": [
        "[##########################-----------------]  60.0% ... Processing 100 files\r"
       ]
      },
      {
       "output_type": "stream",
       "stream": "stdout",
       "text": [
        "[##########################-----------------]  61.0% ... Processing 100 files\r"
       ]
      },
      {
       "output_type": "stream",
       "stream": "stdout",
       "text": [
        "[###########################----------------]  62.0% ... Processing 100 files\r"
       ]
      },
      {
       "output_type": "stream",
       "stream": "stdout",
       "text": [
        "[###########################----------------]  63.0% ... Processing 100 files\r"
       ]
      },
      {
       "output_type": "stream",
       "stream": "stdout",
       "text": [
        "[############################---------------]  64.0% ... Processing 100 files\r"
       ]
      },
      {
       "output_type": "stream",
       "stream": "stdout",
       "text": [
        "[############################---------------]  65.0% ... Processing 100 files\r"
       ]
      },
      {
       "output_type": "stream",
       "stream": "stdout",
       "text": [
        "[############################---------------]  66.0% ... Processing 100 files\r"
       ]
      },
      {
       "output_type": "stream",
       "stream": "stdout",
       "text": [
        "[#############################--------------]  67.0% ... Processing 100 files\r"
       ]
      },
      {
       "output_type": "stream",
       "stream": "stdout",
       "text": [
        "[#############################--------------]  68.0% ... Processing 100 files\r"
       ]
      },
      {
       "output_type": "stream",
       "stream": "stdout",
       "text": [
        "[##############################-------------]  69.0% ... Processing 100 files\r"
       ]
      },
      {
       "output_type": "stream",
       "stream": "stdout",
       "text": [
        "[##############################-------------]  70.0% ... Processing 100 files\r"
       ]
      },
      {
       "output_type": "stream",
       "stream": "stdout",
       "text": [
        "[###############################------------]  71.0% ... Processing 100 files\r"
       ]
      },
      {
       "output_type": "stream",
       "stream": "stdout",
       "text": [
        "[###############################------------]  72.0% ... Processing 100 files\r"
       ]
      },
      {
       "output_type": "stream",
       "stream": "stdout",
       "text": [
        "[###############################------------]  73.0% ... Processing 100 files\r"
       ]
      },
      {
       "output_type": "stream",
       "stream": "stdout",
       "text": [
        "[################################-----------]  74.0% ... Processing 100 files\r"
       ]
      },
      {
       "output_type": "stream",
       "stream": "stdout",
       "text": [
        "[################################-----------]  75.0% ... Processing 100 files\r"
       ]
      },
      {
       "output_type": "stream",
       "stream": "stdout",
       "text": [
        "[#################################----------]  76.0% ... Processing 100 files\r"
       ]
      },
      {
       "output_type": "stream",
       "stream": "stdout",
       "text": [
        "[#################################----------]  77.0% ... Processing 100 files\r"
       ]
      },
      {
       "output_type": "stream",
       "stream": "stdout",
       "text": [
        "[##################################---------]  78.0% ... Processing 100 files\r"
       ]
      },
      {
       "output_type": "stream",
       "stream": "stdout",
       "text": [
        "[##################################---------]  79.0% ... Processing 100 files\r"
       ]
      },
      {
       "output_type": "stream",
       "stream": "stdout",
       "text": [
        "[##################################---------]  80.0% ... Processing 100 files\r"
       ]
      },
      {
       "output_type": "stream",
       "stream": "stdout",
       "text": [
        "[###################################--------]  81.0% ... Processing 100 files\r"
       ]
      },
      {
       "output_type": "stream",
       "stream": "stdout",
       "text": [
        "[###################################--------]  82.0% ... Processing 100 files\r"
       ]
      },
      {
       "output_type": "stream",
       "stream": "stdout",
       "text": [
        "[####################################-------]  83.0% ... Processing 100 files\r"
       ]
      },
      {
       "output_type": "stream",
       "stream": "stdout",
       "text": [
        "[####################################-------]  84.0% ... Processing 100 files\r"
       ]
      },
      {
       "output_type": "stream",
       "stream": "stdout",
       "text": [
        "[#####################################------]  85.0% ... Processing 100 files\r"
       ]
      },
      {
       "output_type": "stream",
       "stream": "stdout",
       "text": [
        "[#####################################------]  86.0% ... Processing 100 files\r"
       ]
      }
     ],
     "prompt_number": "*"
    },
    {
     "cell_type": "code",
     "collapsed": false,
     "input": [
      "agg_dat.DataFrame\n"
     ],
     "language": "python",
     "metadata": {},
     "outputs": [],
     "prompt_number": "*"
    },
    {
     "cell_type": "code",
     "collapsed": false,
     "input": [],
     "language": "python",
     "metadata": {},
     "outputs": []
    }
   ],
   "metadata": {}
  }
 ]
}