{
 "metadata": {
  "name": ""
 },
 "nbformat": 3,
 "nbformat_minor": 0,
 "worksheets": [
  {
   "cells": [
    {
     "cell_type": "code",
     "collapsed": false,
     "input": [
      "import numpy as np\n",
      "import matplotlib.pyplot as plt\n",
      "import pandas as pd\n",
      "#import grav_util_2 as gu2\n",
      "import bead_util as bu\n",
      "import calib_util as cal\n",
      "import transfer_func_util as tf\n",
      "import configuration as config"
     ],
     "language": "python",
     "metadata": {},
     "outputs": [],
     "prompt_number": 7
    },
    {
     "cell_type": "code",
     "collapsed": false,
     "input": [
      "import grav_util_2 as gu2"
     ],
     "language": "python",
     "metadata": {},
     "outputs": [],
     "prompt_number": 2
    },
    {
     "cell_type": "code",
     "collapsed": false,
     "input": [
      "theory_data_dir = '/data/grav_sim_data/2um_spacing_data/'\n",
      "data_dir = '/data/20180704/bead1/grav_data/shield_1s_1h'\n"
     ],
     "language": "python",
     "metadata": {},
     "outputs": [],
     "prompt_number": 3
    },
    {
     "cell_type": "code",
     "collapsed": false,
     "input": [
      "datafiles = bu.find_all_fnames(data_dir, ext=config.extensions['data'])\n"
     ],
     "language": "python",
     "metadata": {},
     "outputs": [
      {
       "output_type": "stream",
       "stream": "stdout",
       "text": [
        "Finding files in: \n",
        "/data/20180704/bead1/grav_data/shield_1s_1h\n"
       ]
      },
      {
       "output_type": "stream",
       "stream": "stdout",
       "text": [
        "Found 2946 files...\n"
       ]
      }
     ],
     "prompt_number": 8
    },
    {
     "cell_type": "code",
     "collapsed": false,
     "input": [
      "reload(gu2)"
     ],
     "language": "python",
     "metadata": {},
     "outputs": [
      {
       "metadata": {},
       "output_type": "pyout",
       "prompt_number": 141,
       "text": [
        "<module 'grav_util_2' from '/home/arider/opt_lev_analysis/scripts/grav_util_2.py'>"
       ]
      }
     ],
     "prompt_number": 141
    },
    {
     "cell_type": "code",
     "collapsed": false,
     "input": [
      "fd = gu2.FileData(datafiles[1])\n",
      "fd.extract_data()\n",
      "tempi = np.ones(11) + 1.j*np.ones(11)\n",
      "tempt = np.vstack([tempi, tempi, tempi])\n",
      "df1 = fd.fit_alpha_xyz([tempt])"
     ],
     "language": "python",
     "metadata": {},
     "outputs": [],
     "prompt_number": 151
    },
    {
     "cell_type": "code",
     "collapsed": false,
     "input": [
      "df1.index = [1]\n",
      "df0.index = [0]"
     ],
     "language": "python",
     "metadata": {},
     "outputs": [],
     "prompt_number": 160
    },
    {
     "cell_type": "code",
     "collapsed": false,
     "input": [
      "dft = pd.concat([df0, df1])\n",
      "dft"
     ],
     "language": "python",
     "metadata": {},
     "outputs": [
      {
       "html": [
        "<div style=\"max-width:1500px;overflow:auto;\">\n",
        "<style scoped>\n",
        "    .dataframe tbody tr th:only-of-type {\n",
        "        vertical-align: middle;\n",
        "    }\n",
        "\n",
        "    .dataframe tbody tr th {\n",
        "        vertical-align: top;\n",
        "    }\n",
        "\n",
        "    .dataframe thead th {\n",
        "        text-align: right;\n",
        "    }\n",
        "</style>\n",
        "<table border=\"1\" class=\"dataframe\">\n",
        "  <thead>\n",
        "    <tr style=\"text-align: right;\">\n",
        "      <th></th>\n",
        "      <th>fit coefs 0</th>\n",
        "      <th>sigmas 0</th>\n",
        "      <th>fit success 0</th>\n",
        "      <th>fit coefs 1</th>\n",
        "      <th>sigmas 1</th>\n",
        "      <th>fit success 1</th>\n",
        "      <th>fit coefs 2</th>\n",
        "      <th>sigmas 2</th>\n",
        "      <th>fit success 2</th>\n",
        "    </tr>\n",
        "  </thead>\n",
        "  <tbody>\n",
        "    <tr>\n",
        "      <th>0</th>\n",
        "      <td>7.554165e-13</td>\n",
        "      <td>1.898625e-11</td>\n",
        "      <td>True</td>\n",
        "      <td>1.525931e-12</td>\n",
        "      <td>3.345189e-16</td>\n",
        "      <td>False</td>\n",
        "      <td>1.307866e-12</td>\n",
        "      <td>1.126014e-11</td>\n",
        "      <td>True</td>\n",
        "    </tr>\n",
        "    <tr>\n",
        "      <th>1</th>\n",
        "      <td>1.185882e-12</td>\n",
        "      <td>1.925338e-11</td>\n",
        "      <td>True</td>\n",
        "      <td>3.056735e-12</td>\n",
        "      <td>2.541211e-11</td>\n",
        "      <td>True</td>\n",
        "      <td>-2.887135e-12</td>\n",
        "      <td>1.008300e-11</td>\n",
        "      <td>True</td>\n",
        "    </tr>\n",
        "  </tbody>\n",
        "</table>\n",
        "</div>"
       ],
       "metadata": {},
       "output_type": "pyout",
       "prompt_number": 161,
       "text": [
        "    fit coefs 0      sigmas 0      ...            sigmas 2  fit success 2\n",
        "0  7.554165e-13  1.898625e-11      ...        1.126014e-11           True\n",
        "1  1.185882e-12  1.925338e-11      ...        1.008300e-11           True\n",
        "\n",
        "[2 rows x 9 columns]"
       ]
      }
     ],
     "prompt_number": 161
    },
    {
     "cell_type": "code",
     "collapsed": false,
     "input": [
      "AD.load_grav_funcs(theory_data_dir)"
     ],
     "language": "python",
     "metadata": {},
     "outputs": [
      {
       "output_type": "stream",
       "stream": "stdout",
       "text": [
        "Loading Gravity Data... "
       ]
      },
      {
       "output_type": "stream",
       "stream": "stdout",
       "text": [
        "Done!\n"
       ]
      }
     ],
     "prompt_number": 41
    },
    {
     "cell_type": "code",
     "collapsed": false,
     "input": [
      "t, od, p = AD.find_alpha_vs_time()"
     ],
     "language": "python",
     "metadata": {},
     "outputs": [
      {
       "output_type": "stream",
       "stream": "stdout",
       "text": [
        "Computing alpha as a function of time...\n",
        "[-----------------------------------------]   0.0% ... Fitting Alpha vs. Time\r"
       ]
      },
      {
       "output_type": "stream",
       "stream": "stdout",
       "text": [
        "[####-------------------------------------]  10.0% ... Fitting Alpha vs. Time\r"
       ]
      },
      {
       "output_type": "stream",
       "stream": "stdout",
       "text": [
        "[########---------------------------------]  20.0% ... Fitting Alpha vs. Time\r"
       ]
      },
      {
       "output_type": "stream",
       "stream": "stdout",
       "text": [
        "[############-----------------------------]  30.0% ... Fitting Alpha vs. Time\r"
       ]
      },
      {
       "output_type": "stream",
       "stream": "stdout",
       "text": [
        "[################-------------------------]  40.0% ... Fitting Alpha vs. Time\r"
       ]
      },
      {
       "output_type": "stream",
       "stream": "stdout",
       "text": [
        "[#####################--------------------]  50.0% ... Fitting Alpha vs. Time\r"
       ]
      },
      {
       "output_type": "stream",
       "stream": "stdout",
       "text": [
        "[#########################----------------]  60.0% ... Fitting Alpha vs. Time\r"
       ]
      },
      {
       "output_type": "stream",
       "stream": "stdout",
       "text": [
        "[#############################------------]  70.0% ... Fitting Alpha vs. Time\r"
       ]
      },
      {
       "output_type": "stream",
       "stream": "stdout",
       "text": [
        "[#################################--------]  80.0% ... Fitting Alpha vs. Time\r"
       ]
      },
      {
       "output_type": "stream",
       "stream": "stdout",
       "text": [
        "[#########################################] 100.0% ... Fitting Alpha vs. Time\r"
       ]
      },
      {
       "output_type": "stream",
       "stream": "stdout",
       "text": [
        "\n"
       ]
      }
     ],
     "prompt_number": 42
    },
    {
     "cell_type": "code",
     "collapsed": false,
     "input": [
      "od = np.array(od)\n",
      "plt.errorbar(np.linspace(0, 100, Nf), od[:, 0], od[:, 1], fmt = 'o')\n",
      "plt.show()"
     ],
     "language": "python",
     "metadata": {},
     "outputs": [],
     "prompt_number": 43
    },
    {
     "cell_type": "code",
     "collapsed": false,
     "input": [
      "np.imag(1.j)"
     ],
     "language": "python",
     "metadata": {},
     "outputs": [
      {
       "metadata": {},
       "output_type": "pyout",
       "prompt_number": 98,
       "text": [
        "1.0"
       ]
      }
     ],
     "prompt_number": 98
    },
    {
     "cell_type": "code",
     "collapsed": false,
     "input": [
      "a1 = np.ones((2, 3, 11))"
     ],
     "language": "python",
     "metadata": {},
     "outputs": [],
     "prompt_number": 99
    },
    {
     "cell_type": "code",
     "collapsed": false,
     "input": [
      "a2 = np.concatenate((a1, a1), axis = -1)"
     ],
     "language": "python",
     "metadata": {},
     "outputs": [],
     "prompt_number": 100
    },
    {
     "cell_type": "code",
     "collapsed": false,
     "input": [
      "np.shape(a2)"
     ],
     "language": "python",
     "metadata": {},
     "outputs": [
      {
       "metadata": {},
       "output_type": "pyout",
       "prompt_number": 102,
       "text": [
        "(2, 3, 22)"
       ]
      }
     ],
     "prompt_number": 102
    },
    {
     "cell_type": "code",
     "collapsed": false,
     "input": [
      "dft[0:1]"
     ],
     "language": "python",
     "metadata": {},
     "outputs": [
      {
       "html": [
        "<div style=\"max-width:1500px;overflow:auto;\">\n",
        "<style scoped>\n",
        "    .dataframe tbody tr th:only-of-type {\n",
        "        vertical-align: middle;\n",
        "    }\n",
        "\n",
        "    .dataframe tbody tr th {\n",
        "        vertical-align: top;\n",
        "    }\n",
        "\n",
        "    .dataframe thead th {\n",
        "        text-align: right;\n",
        "    }\n",
        "</style>\n",
        "<table border=\"1\" class=\"dataframe\">\n",
        "  <thead>\n",
        "    <tr style=\"text-align: right;\">\n",
        "      <th></th>\n",
        "      <th>fit coefs 0</th>\n",
        "      <th>sigmas 0</th>\n",
        "      <th>fit success 0</th>\n",
        "      <th>fit coefs 1</th>\n",
        "      <th>sigmas 1</th>\n",
        "      <th>fit success 1</th>\n",
        "      <th>fit coefs 2</th>\n",
        "      <th>sigmas 2</th>\n",
        "      <th>fit success 2</th>\n",
        "    </tr>\n",
        "  </thead>\n",
        "  <tbody>\n",
        "    <tr>\n",
        "      <th>0</th>\n",
        "      <td>7.554165e-13</td>\n",
        "      <td>1.898625e-11</td>\n",
        "      <td>True</td>\n",
        "      <td>1.525931e-12</td>\n",
        "      <td>3.345189e-16</td>\n",
        "      <td>False</td>\n",
        "      <td>1.307866e-12</td>\n",
        "      <td>1.126014e-11</td>\n",
        "      <td>True</td>\n",
        "    </tr>\n",
        "  </tbody>\n",
        "</table>\n",
        "</div>"
       ],
       "metadata": {},
       "output_type": "pyout",
       "prompt_number": 163,
       "text": [
        "    fit coefs 0      sigmas 0      ...            sigmas 2  fit success 2\n",
        "0  7.554165e-13  1.898625e-11      ...        1.126014e-11           True\n",
        "\n",
        "[1 rows x 9 columns]"
       ]
      }
     ],
     "prompt_number": 163
    },
    {
     "cell_type": "code",
     "collapsed": false,
     "input": [],
     "language": "python",
     "metadata": {},
     "outputs": []
    }
   ],
   "metadata": {}
  }
 ]
}