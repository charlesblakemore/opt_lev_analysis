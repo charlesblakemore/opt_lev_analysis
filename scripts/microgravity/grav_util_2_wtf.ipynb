{
 "metadata": {
  "name": ""
 },
 "nbformat": 3,
 "nbformat_minor": 0,
 "worksheets": [
  {
   "cells": [
    {
     "cell_type": "code",
     "collapsed": false,
     "input": [
      "import numpy as np\n",
      "import matplotlib.pyplot as plt\n",
      "import pandas as pd\n",
      "#import grav_util_2 as gu2\n"
     ],
     "language": "python",
     "metadata": {},
     "outputs": [],
     "prompt_number": 1
    },
    {
     "cell_type": "code",
     "collapsed": false,
     "input": [
      "import bead_util as bu\n",
      "import calib_util as cal\n",
      "import transfer_func_util as tf\n",
      "import configuration as config\n",
      "\n",
      "\n"
     ],
     "language": "python",
     "metadata": {},
     "outputs": [],
     "prompt_number": 2
    },
    {
     "cell_type": "code",
     "collapsed": false,
     "input": [
      "import grav_util_2 as gu2"
     ],
     "language": "python",
     "metadata": {},
     "outputs": [],
     "prompt_number": 3
    },
    {
     "cell_type": "code",
     "collapsed": false,
     "input": [
      "theory_data_dir = '/data/grav_sim_data/2um_spacing_data/'\n",
      "data_dir = '/data/20180704/bead1/grav_data/shield_1s_1h'\n"
     ],
     "language": "python",
     "metadata": {},
     "outputs": [],
     "prompt_number": 4
    },
    {
     "cell_type": "code",
     "collapsed": false,
     "input": [
      "datafiles = bu.find_all_fnames(data_dir, ext=config.extensions['data'])\n"
     ],
     "language": "python",
     "metadata": {},
     "outputs": [
      {
       "output_type": "stream",
       "stream": "stdout",
       "text": [
        "Finding files in: \n",
        "/data/20180704/bead1/grav_data/shield_1s_1h\n"
       ]
      },
      {
       "output_type": "stream",
       "stream": "stdout",
       "text": [
        "Found 2946 files...\n"
       ]
      }
     ],
     "prompt_number": 5
    },
    {
     "cell_type": "code",
     "collapsed": false,
     "input": [
      "reload(gu2)\n",
      "Nf = 2945\n",
      "AD2 = gu2.AggregateData(datafiles[:Nf])\n",
      "AD2.load_grav_funcs(theory_data_dir)\n",
      "Data = AD2.getDataFrames()\n"
     ],
     "language": "python",
     "metadata": {},
     "outputs": [
      {
       "output_type": "stream",
       "stream": "stdout",
       "text": [
        "[------------------------------------------]   0.0% ... Processing 2945 files\r"
       ]
      },
      {
       "output_type": "stream",
       "stream": "stdout",
       "text": [
        "[------------------------------------------]   0.0% ... Processing 2945 files\r"
       ]
      },
      {
       "output_type": "stream",
       "stream": "stdout",
       "text": [
        "[------------------------------------------]   0.1% ... Processing 2945 files\r"
       ]
      },
      {
       "output_type": "stream",
       "stream": "stdout",
       "text": [
        "[------------------------------------------]   0.1% ... Processing 2945 files\r"
       ]
      },
      {
       "output_type": "stream",
       "stream": "stdout",
       "text": [
        "[------------------------------------------]   0.1% ... Processing 2945 files\r"
       ]
      },
      {
       "output_type": "stream",
       "stream": "stdout",
       "text": [
        "[------------------------------------------]   0.2% ... Processing 2945 files\r"
       ]
      },
      {
       "output_type": "stream",
       "stream": "stdout",
       "text": [
        "[------------------------------------------]   0.2% ... Processing 2945 files\r"
       ]
      },
      {
       "output_type": "stream",
       "stream": "stdout",
       "text": [
        "[------------------------------------------]   0.2% ... Processing 2945 files\r"
       ]
      },
      {
       "output_type": "stream",
       "stream": "stdout",
       "text": [
        "[------------------------------------------]   0.3% ... Processing 2945 files\r"
       ]
      },
      {
       "output_type": "stream",
       "stream": "stdout",
       "text": [
        "[------------------------------------------]   0.3% ... Processing 2945 files\r"
       ]
      },
      {
       "output_type": "stream",
       "stream": "stdout",
       "text": [
        "[------------------------------------------]   0.3% ... Processing 2945 files\r"
       ]
      },
      {
       "output_type": "stream",
       "stream": "stdout",
       "text": [
        "[------------------------------------------]   0.4% ... Processing 2945 files\r"
       ]
      },
      {
       "output_type": "stream",
       "stream": "stdout",
       "text": [
        "[------------------------------------------]   0.4% ... Processing 2945 files\r"
       ]
      },
      {
       "output_type": "stream",
       "stream": "stdout",
       "text": [
        "[------------------------------------------]   0.4% ... Processing 2945 files\r"
       ]
      },
      {
       "output_type": "stream",
       "stream": "stdout",
       "text": [
        "[------------------------------------------]   0.5% ... Processing 2945 files\r"
       ]
      },
      {
       "output_type": "stream",
       "stream": "stdout",
       "text": [
        "[------------------------------------------]   0.5% ... Processing 2945 files\r"
       ]
      },
      {
       "output_type": "stream",
       "stream": "stdout",
       "text": [
        "[------------------------------------------]   0.5% ... Processing 2945 files\r"
       ]
      },
      {
       "output_type": "stream",
       "stream": "stdout",
       "text": [
        "[------------------------------------------]   0.6% ... Processing 2945 files\r"
       ]
      },
      {
       "output_type": "stream",
       "stream": "stdout",
       "text": [
        "[------------------------------------------]   0.6% ... Processing 2945 files\r"
       ]
      },
      {
       "output_type": "stream",
       "stream": "stdout",
       "text": [
        "[------------------------------------------]   0.6% ... Processing 2945 files\r"
       ]
      },
      {
       "output_type": "stream",
       "stream": "stdout",
       "text": [
        "[------------------------------------------]   0.7% ... Processing 2945 files\r"
       ]
      },
      {
       "output_type": "stream",
       "stream": "stdout",
       "text": [
        "[------------------------------------------]   0.7% ... Processing 2945 files\r"
       ]
      },
      {
       "output_type": "stream",
       "stream": "stdout",
       "text": [
        "[------------------------------------------]   0.7% ... Processing 2945 files\r"
       ]
      },
      {
       "output_type": "stream",
       "stream": "stdout",
       "text": [
        "[------------------------------------------]   0.8% ... Processing 2945 files\r"
       ]
      },
      {
       "output_type": "stream",
       "stream": "stdout",
       "text": [
        "[------------------------------------------]   0.8% ... Processing 2945 files\r"
       ]
      },
      {
       "output_type": "stream",
       "stream": "stdout",
       "text": [
        "[------------------------------------------]   0.8% ... Processing 2945 files\r"
       ]
      },
      {
       "output_type": "stream",
       "stream": "stdout",
       "text": [
        "[------------------------------------------]   0.9% ... Processing 2945 files\r"
       ]
      },
      {
       "output_type": "stream",
       "stream": "stdout",
       "text": [
        "[------------------------------------------]   0.9% ... Processing 2945 files\r"
       ]
      },
      {
       "output_type": "stream",
       "stream": "stdout",
       "text": [
        "[------------------------------------------]   1.0% ... Processing 2945 files\r"
       ]
      },
      {
       "output_type": "stream",
       "stream": "stdout",
       "text": [
        "[------------------------------------------]   1.0% ... Processing 2945 files\r"
       ]
      },
      {
       "output_type": "stream",
       "stream": "stdout",
       "text": [
        "[------------------------------------------]   1.0% ... Processing 2945 files\r"
       ]
      },
      {
       "output_type": "stream",
       "stream": "stdout",
       "text": [
        "[------------------------------------------]   1.1% ... Processing 2945 files\r"
       ]
      },
      {
       "output_type": "stream",
       "stream": "stdout",
       "text": [
        "[------------------------------------------]   1.1% ... Processing 2945 files\r"
       ]
      },
      {
       "output_type": "stream",
       "stream": "stdout",
       "text": [
        "[------------------------------------------]   1.1% ... Processing 2945 files\r"
       ]
      },
      {
       "output_type": "stream",
       "stream": "stdout",
       "text": [
        "[------------------------------------------]   1.2% ... Processing 2945 files\r"
       ]
      },
      {
       "output_type": "stream",
       "stream": "stdout",
       "text": [
        "[------------------------------------------]   1.2% ... Processing 2945 files\r"
       ]
      },
      {
       "output_type": "stream",
       "stream": "stdout",
       "text": [
        "[#-----------------------------------------]   1.2% ... Processing 2945 files\r"
       ]
      },
      {
       "output_type": "stream",
       "stream": "stdout",
       "text": [
        "[#-----------------------------------------]   1.3% ... Processing 2945 files\r"
       ]
      },
      {
       "output_type": "stream",
       "stream": "stdout",
       "text": [
        "[#-----------------------------------------]   1.3% ... Processing 2945 files\r"
       ]
      },
      {
       "output_type": "stream",
       "stream": "stdout",
       "text": [
        "[#-----------------------------------------]   1.3% ... Processing 2945 files\r"
       ]
      },
      {
       "output_type": "stream",
       "stream": "stdout",
       "text": [
        "[#-----------------------------------------]   1.4% ... Processing 2945 files\r"
       ]
      },
      {
       "output_type": "stream",
       "stream": "stdout",
       "text": [
        "[#-----------------------------------------]   1.4% ... Processing 2945 files\r"
       ]
      },
      {
       "output_type": "stream",
       "stream": "stdout",
       "text": [
        "[#-----------------------------------------]   1.4% ... Processing 2945 files\r"
       ]
      },
      {
       "output_type": "stream",
       "stream": "stdout",
       "text": [
        "[#-----------------------------------------]   1.5% ... Processing 2945 files\r"
       ]
      },
      {
       "output_type": "stream",
       "stream": "stdout",
       "text": [
        "[#-----------------------------------------]   1.5% ... Processing 2945 files\r"
       ]
      },
      {
       "output_type": "stream",
       "stream": "stdout",
       "text": [
        "[#-----------------------------------------]   1.5% ... Processing 2945 files\r"
       ]
      },
      {
       "output_type": "stream",
       "stream": "stdout",
       "text": [
        "[#-----------------------------------------]   1.6% ... Processing 2945 files\r"
       ]
      },
      {
       "output_type": "stream",
       "stream": "stdout",
       "text": [
        "[#-----------------------------------------]   1.6% ... Processing 2945 files\r"
       ]
      },
      {
       "output_type": "stream",
       "stream": "stdout",
       "text": [
        "[#-----------------------------------------]   1.6% ... Processing 2945 files\r"
       ]
      },
      {
       "output_type": "stream",
       "stream": "stdout",
       "text": [
        "[#-----------------------------------------]   1.7% ... Processing 2945 files\r"
       ]
      },
      {
       "output_type": "stream",
       "stream": "stdout",
       "text": [
        "[#-----------------------------------------]   1.7% ... Processing 2945 files\r"
       ]
      },
      {
       "output_type": "stream",
       "stream": "stdout",
       "text": [
        "[#-----------------------------------------]   1.7% ... Processing 2945 files\r"
       ]
      },
      {
       "output_type": "stream",
       "stream": "stdout",
       "text": [
        "[#-----------------------------------------]   1.8% ... Processing 2945 files\r"
       ]
      },
      {
       "output_type": "stream",
       "stream": "stdout",
       "text": [
        "[#-----------------------------------------]   1.8% ... Processing 2945 files\r"
       ]
      },
      {
       "output_type": "stream",
       "stream": "stdout",
       "text": [
        "[#-----------------------------------------]   1.8% ... Processing 2945 files\r"
       ]
      },
      {
       "output_type": "stream",
       "stream": "stdout",
       "text": [
        "[#-----------------------------------------]   1.9% ... Processing 2945 files\r"
       ]
      },
      {
       "output_type": "stream",
       "stream": "stdout",
       "text": [
        "[#-----------------------------------------]   1.9% ... Processing 2945 files\r"
       ]
      },
      {
       "output_type": "stream",
       "stream": "stdout",
       "text": [
        "[#-----------------------------------------]   1.9% ... Processing 2945 files\r"
       ]
      },
      {
       "output_type": "stream",
       "stream": "stdout",
       "text": [
        "[#-----------------------------------------]   2.0% ... Processing 2945 files\r"
       ]
      },
      {
       "output_type": "stream",
       "stream": "stdout",
       "text": [
        "[#-----------------------------------------]   2.0% ... Processing 2945 files\r"
       ]
      },
      {
       "output_type": "stream",
       "stream": "stdout",
       "text": [
        "[#-----------------------------------------]   2.0% ... Processing 2945 files\r"
       ]
      },
      {
       "output_type": "stream",
       "stream": "stdout",
       "text": [
        "[#-----------------------------------------]   2.1% ... Processing 2945 files\r"
       ]
      },
      {
       "output_type": "stream",
       "stream": "stdout",
       "text": [
        "[#-----------------------------------------]   2.1% ... Processing 2945 files\r"
       ]
      },
      {
       "output_type": "stream",
       "stream": "stdout",
       "text": [
        "[#-----------------------------------------]   2.1% ... Processing 2945 files\r"
       ]
      },
      {
       "output_type": "stream",
       "stream": "stdout",
       "text": [
        "[#-----------------------------------------]   2.2% ... Processing 2945 files\r"
       ]
      },
      {
       "output_type": "stream",
       "stream": "stdout",
       "text": [
        "[#-----------------------------------------]   2.2% ... Processing 2945 files\r"
       ]
      },
      {
       "output_type": "stream",
       "stream": "stdout",
       "text": [
        "[#-----------------------------------------]   2.2% ... Processing 2945 files\r"
       ]
      },
      {
       "output_type": "stream",
       "stream": "stdout",
       "text": [
        "[#-----------------------------------------]   2.3% ... Processing 2945 files\r"
       ]
      },
      {
       "output_type": "stream",
       "stream": "stdout",
       "text": [
        "[#-----------------------------------------]   2.3% ... Processing 2945 files\r"
       ]
      },
      {
       "output_type": "stream",
       "stream": "stdout",
       "text": [
        "[#-----------------------------------------]   2.3% ... Processing 2945 files\r"
       ]
      },
      {
       "output_type": "stream",
       "stream": "stdout",
       "text": [
        "[#-----------------------------------------]   2.4% ... Processing 2945 files\r"
       ]
      },
      {
       "output_type": "stream",
       "stream": "stdout",
       "text": [
        "[#-----------------------------------------]   2.4% ... Processing 2945 files\r"
       ]
      },
      {
       "output_type": "stream",
       "stream": "stdout",
       "text": [
        "[#-----------------------------------------]   2.4% ... Processing 2945 files\r"
       ]
      },
      {
       "output_type": "stream",
       "stream": "stdout",
       "text": [
        "[#-----------------------------------------]   2.5% ... Processing 2945 files\r"
       ]
      },
      {
       "output_type": "stream",
       "stream": "stdout",
       "text": [
        "[#-----------------------------------------]   2.5% ... Processing 2945 files\r"
       ]
      },
      {
       "output_type": "stream",
       "stream": "stdout",
       "text": [
        "[#-----------------------------------------]   2.5% ... Processing 2945 files\r"
       ]
      },
      {
       "output_type": "stream",
       "stream": "stdout",
       "text": [
        "[#-----------------------------------------]   2.6% ... Processing 2945 files\r"
       ]
      },
      {
       "output_type": "stream",
       "stream": "stdout",
       "text": [
        "[#-----------------------------------------]   2.6% ... Processing 2945 files\r"
       ]
      },
      {
       "output_type": "stream",
       "stream": "stdout",
       "text": [
        "[#-----------------------------------------]   2.6% ... Processing 2945 files\r"
       ]
      },
      {
       "output_type": "stream",
       "stream": "stdout",
       "text": [
        "[#-----------------------------------------]   2.7% ... Processing 2945 files\r"
       ]
      },
      {
       "output_type": "stream",
       "stream": "stdout",
       "text": [
        "[#-----------------------------------------]   2.7% ... Processing 2945 files\r"
       ]
      },
      {
       "output_type": "stream",
       "stream": "stdout",
       "text": [
        "[#-----------------------------------------]   2.8% ... Processing 2945 files\r"
       ]
      },
      {
       "output_type": "stream",
       "stream": "stdout",
       "text": [
        "[#-----------------------------------------]   2.8% ... Processing 2945 files\r"
       ]
      },
      {
       "output_type": "stream",
       "stream": "stdout",
       "text": [
        "[#-----------------------------------------]   2.8% ... Processing 2945 files\r"
       ]
      },
      {
       "output_type": "stream",
       "stream": "stdout",
       "text": [
        "[#-----------------------------------------]   2.9% ... Processing 2945 files\r"
       ]
      },
      {
       "output_type": "stream",
       "stream": "stdout",
       "text": [
        "[#-----------------------------------------]   2.9% ... Processing 2945 files\r"
       ]
      },
      {
       "output_type": "stream",
       "stream": "stdout",
       "text": [
        "[#-----------------------------------------]   2.9% ... Processing 2945 files\r"
       ]
      },
      {
       "output_type": "stream",
       "stream": "stdout",
       "text": [
        "[#-----------------------------------------]   3.0% ... Processing 2945 files\r"
       ]
      },
      {
       "output_type": "stream",
       "stream": "stdout",
       "text": [
        "[#-----------------------------------------]   3.0% ... Processing 2945 files\r"
       ]
      },
      {
       "output_type": "stream",
       "stream": "stdout",
       "text": [
        "[#-----------------------------------------]   3.0% ... Processing 2945 files\r"
       ]
      },
      {
       "output_type": "stream",
       "stream": "stdout",
       "text": [
        "[#-----------------------------------------]   3.1% ... Processing 2945 files\r"
       ]
      },
      {
       "output_type": "stream",
       "stream": "stdout",
       "text": [
        "[#-----------------------------------------]   3.1% ... Processing 2945 files\r"
       ]
      },
      {
       "output_type": "stream",
       "stream": "stdout",
       "text": [
        "[#-----------------------------------------]   3.1% ... Processing 2945 files\r"
       ]
      },
      {
       "output_type": "stream",
       "stream": "stdout",
       "text": [
        "[#-----------------------------------------]   3.2% ... Processing 2945 files\r"
       ]
      },
      {
       "output_type": "stream",
       "stream": "stdout",
       "text": [
        "[#-----------------------------------------]   3.2% ... Processing 2945 files\r"
       ]
      },
      {
       "output_type": "stream",
       "stream": "stdout",
       "text": [
        "[#-----------------------------------------]   3.2% ... Processing 2945 files\r"
       ]
      },
      {
       "output_type": "stream",
       "stream": "stdout",
       "text": [
        "[#-----------------------------------------]   3.3% ... Processing 2945 files\r"
       ]
      },
      {
       "output_type": "stream",
       "stream": "stdout",
       "text": [
        "[#-----------------------------------------]   3.3% ... Processing 2945 files\r"
       ]
      },
      {
       "output_type": "stream",
       "stream": "stdout",
       "text": [
        "[#-----------------------------------------]   3.3% ... Processing 2945 files\r"
       ]
      },
      {
       "output_type": "stream",
       "stream": "stdout",
       "text": [
        "[#-----------------------------------------]   3.4% ... Processing 2945 files\r"
       ]
      },
      {
       "output_type": "stream",
       "stream": "stdout",
       "text": [
        "[#-----------------------------------------]   3.4% ... Processing 2945 files\r"
       ]
      },
      {
       "output_type": "stream",
       "stream": "stdout",
       "text": [
        "[#-----------------------------------------]   3.4% ... Processing 2945 files\r"
       ]
      },
      {
       "output_type": "stream",
       "stream": "stdout",
       "text": [
        "[#-----------------------------------------]   3.5% ... Processing 2945 files\r"
       ]
      },
      {
       "output_type": "stream",
       "stream": "stdout",
       "text": [
        "[#-----------------------------------------]   3.5% ... Processing 2945 files\r"
       ]
      },
      {
       "output_type": "stream",
       "stream": "stdout",
       "text": [
        "[#-----------------------------------------]   3.5% ... Processing 2945 files\r"
       ]
      },
      {
       "output_type": "stream",
       "stream": "stdout",
       "text": [
        "[#-----------------------------------------]   3.6% ... Processing 2945 files\r"
       ]
      },
      {
       "output_type": "stream",
       "stream": "stdout",
       "text": [
        "[##----------------------------------------]   3.6% ... Processing 2945 files\r"
       ]
      },
      {
       "output_type": "stream",
       "stream": "stdout",
       "text": [
        "[##----------------------------------------]   3.6% ... Processing 2945 files\r"
       ]
      },
      {
       "output_type": "stream",
       "stream": "stdout",
       "text": [
        "[##----------------------------------------]   3.7% ... Processing 2945 files\r"
       ]
      },
      {
       "output_type": "stream",
       "stream": "stdout",
       "text": [
        "[##----------------------------------------]   3.7% ... Processing 2945 files\r"
       ]
      },
      {
       "output_type": "stream",
       "stream": "stdout",
       "text": [
        "[##----------------------------------------]   3.7% ... Processing 2945 files\r"
       ]
      },
      {
       "output_type": "stream",
       "stream": "stdout",
       "text": [
        "[##----------------------------------------]   3.8% ... Processing 2945 files\r"
       ]
      },
      {
       "output_type": "stream",
       "stream": "stdout",
       "text": [
        "[##----------------------------------------]   3.8% ... Processing 2945 files\r"
       ]
      },
      {
       "output_type": "stream",
       "stream": "stdout",
       "text": [
        "[##----------------------------------------]   3.8% ... Processing 2945 files\r"
       ]
      },
      {
       "output_type": "stream",
       "stream": "stdout",
       "text": [
        "[##----------------------------------------]   3.9% ... Processing 2945 files\r"
       ]
      },
      {
       "output_type": "stream",
       "stream": "stdout",
       "text": [
        "[##----------------------------------------]   3.9% ... Processing 2945 files\r"
       ]
      },
      {
       "output_type": "stream",
       "stream": "stdout",
       "text": [
        "[##----------------------------------------]   3.9% ... Processing 2945 files\r"
       ]
      },
      {
       "output_type": "stream",
       "stream": "stdout",
       "text": [
        "[##----------------------------------------]   4.0% ... Processing 2945 files\r"
       ]
      },
      {
       "output_type": "stream",
       "stream": "stdout",
       "text": [
        "[##----------------------------------------]   4.0% ... Processing 2945 files\r"
       ]
      },
      {
       "output_type": "stream",
       "stream": "stdout",
       "text": [
        "[##----------------------------------------]   4.0% ... Processing 2945 files\r"
       ]
      },
      {
       "output_type": "stream",
       "stream": "stdout",
       "text": [
        "[##----------------------------------------]   4.1% ... Processing 2945 files\r"
       ]
      },
      {
       "output_type": "stream",
       "stream": "stdout",
       "text": [
        "[##----------------------------------------]   4.1% ... Processing 2945 files\r"
       ]
      },
      {
       "output_type": "stream",
       "stream": "stdout",
       "text": [
        "[##----------------------------------------]   4.1% ... Processing 2945 files\r"
       ]
      },
      {
       "output_type": "stream",
       "stream": "stdout",
       "text": [
        "[##----------------------------------------]   4.2% ... Processing 2945 files\r"
       ]
      },
      {
       "output_type": "stream",
       "stream": "stdout",
       "text": [
        "[##----------------------------------------]   4.2% ... Processing 2945 files\r"
       ]
      },
      {
       "output_type": "stream",
       "stream": "stdout",
       "text": [
        "[##----------------------------------------]   4.2% ... Processing 2945 files\r"
       ]
      },
      {
       "output_type": "stream",
       "stream": "stdout",
       "text": [
        "[##----------------------------------------]   4.3% ... Processing 2945 files\r"
       ]
      },
      {
       "output_type": "stream",
       "stream": "stdout",
       "text": [
        "[##----------------------------------------]   4.3% ... Processing 2945 files\r"
       ]
      },
      {
       "output_type": "stream",
       "stream": "stdout",
       "text": [
        "[##----------------------------------------]   4.3% ... Processing 2945 files\r"
       ]
      },
      {
       "output_type": "stream",
       "stream": "stdout",
       "text": [
        "[##----------------------------------------]   4.4% ... Processing 2945 files\r"
       ]
      },
      {
       "output_type": "stream",
       "stream": "stdout",
       "text": [
        "[##----------------------------------------]   4.4% ... Processing 2945 files\r"
       ]
      },
      {
       "output_type": "stream",
       "stream": "stdout",
       "text": [
        "[##----------------------------------------]   4.4% ... Processing 2945 files\r"
       ]
      },
      {
       "output_type": "stream",
       "stream": "stdout",
       "text": [
        "[##----------------------------------------]   4.5% ... Processing 2945 files\r"
       ]
      },
      {
       "output_type": "stream",
       "stream": "stdout",
       "text": [
        "[##----------------------------------------]   4.5% ... Processing 2945 files\r"
       ]
      },
      {
       "output_type": "stream",
       "stream": "stdout",
       "text": [
        "[##----------------------------------------]   4.6% ... Processing 2945 files\r"
       ]
      },
      {
       "output_type": "stream",
       "stream": "stdout",
       "text": [
        "[##----------------------------------------]   4.6% ... Processing 2945 files\r"
       ]
      },
      {
       "output_type": "stream",
       "stream": "stdout",
       "text": [
        "[##----------------------------------------]   4.6% ... Processing 2945 files\r"
       ]
      },
      {
       "output_type": "stream",
       "stream": "stdout",
       "text": [
        "[##----------------------------------------]   4.7% ... Processing 2945 files\r"
       ]
      },
      {
       "output_type": "stream",
       "stream": "stdout",
       "text": [
        "[##----------------------------------------]   4.7% ... Processing 2945 files\r"
       ]
      },
      {
       "output_type": "stream",
       "stream": "stdout",
       "text": [
        "[##----------------------------------------]   4.7% ... Processing 2945 files\r"
       ]
      },
      {
       "output_type": "stream",
       "stream": "stdout",
       "text": [
        "[##----------------------------------------]   4.8% ... Processing 2945 files\r"
       ]
      },
      {
       "output_type": "stream",
       "stream": "stdout",
       "text": [
        "[##----------------------------------------]   4.8% ... Processing 2945 files\r"
       ]
      },
      {
       "output_type": "stream",
       "stream": "stdout",
       "text": [
        "[##----------------------------------------]   4.8% ... Processing 2945 files\r"
       ]
      },
      {
       "output_type": "stream",
       "stream": "stdout",
       "text": [
        "[##----------------------------------------]   4.9% ... Processing 2945 files\r"
       ]
      },
      {
       "output_type": "stream",
       "stream": "stdout",
       "text": [
        "[##----------------------------------------]   4.9% ... Processing 2945 files\r"
       ]
      },
      {
       "output_type": "stream",
       "stream": "stdout",
       "text": [
        "[##----------------------------------------]   4.9% ... Processing 2945 files\r"
       ]
      },
      {
       "output_type": "stream",
       "stream": "stdout",
       "text": [
        "[##----------------------------------------]   5.0% ... Processing 2945 files\r"
       ]
      },
      {
       "output_type": "stream",
       "stream": "stdout",
       "text": [
        "[##----------------------------------------]   5.0% ... Processing 2945 files\r"
       ]
      },
      {
       "output_type": "stream",
       "stream": "stdout",
       "text": [
        "[##----------------------------------------]   5.0% ... Processing 2945 files\r"
       ]
      },
      {
       "output_type": "stream",
       "stream": "stdout",
       "text": [
        "[##----------------------------------------]   5.1% ... Processing 2945 files\r"
       ]
      },
      {
       "output_type": "stream",
       "stream": "stdout",
       "text": [
        "[##----------------------------------------]   5.1% ... Processing 2945 files\r"
       ]
      },
      {
       "output_type": "stream",
       "stream": "stdout",
       "text": [
        "[##----------------------------------------]   5.1% ... Processing 2945 files\r"
       ]
      },
      {
       "output_type": "stream",
       "stream": "stdout",
       "text": [
        "[##----------------------------------------]   5.2% ... Processing 2945 files\r"
       ]
      },
      {
       "output_type": "stream",
       "stream": "stdout",
       "text": [
        "[##----------------------------------------]   5.2% ... Processing 2945 files\r"
       ]
      },
      {
       "output_type": "stream",
       "stream": "stdout",
       "text": [
        "[##----------------------------------------]   5.2% ... Processing 2945 files\r"
       ]
      },
      {
       "output_type": "stream",
       "stream": "stdout",
       "text": [
        "[##----------------------------------------]   5.3% ... Processing 2945 files\r"
       ]
      },
      {
       "output_type": "stream",
       "stream": "stdout",
       "text": [
        "[##----------------------------------------]   5.3% ... Processing 2945 files\r"
       ]
      },
      {
       "output_type": "stream",
       "stream": "stdout",
       "text": [
        "[##----------------------------------------]   5.3% ... Processing 2945 files\r"
       ]
      },
      {
       "output_type": "stream",
       "stream": "stdout",
       "text": [
        "[##----------------------------------------]   5.4% ... Processing 2945 files\r"
       ]
      },
      {
       "output_type": "stream",
       "stream": "stdout",
       "text": [
        "[##----------------------------------------]   5.4% ... Processing 2945 files\r"
       ]
      },
      {
       "output_type": "stream",
       "stream": "stdout",
       "text": [
        "[##----------------------------------------]   5.4% ... Processing 2945 files\r"
       ]
      },
      {
       "output_type": "stream",
       "stream": "stdout",
       "text": [
        "[##----------------------------------------]   5.5% ... Processing 2945 files\r"
       ]
      },
      {
       "output_type": "stream",
       "stream": "stdout",
       "text": [
        "[##----------------------------------------]   5.5% ... Processing 2945 files\r"
       ]
      },
      {
       "output_type": "stream",
       "stream": "stdout",
       "text": [
        "[##----------------------------------------]   5.5% ... Processing 2945 files\r"
       ]
      },
      {
       "output_type": "stream",
       "stream": "stdout",
       "text": [
        "[##----------------------------------------]   5.6% ... Processing 2945 files\r"
       ]
      },
      {
       "output_type": "stream",
       "stream": "stdout",
       "text": [
        "[##----------------------------------------]   5.6% ... Processing 2945 files\r"
       ]
      },
      {
       "output_type": "stream",
       "stream": "stdout",
       "text": [
        "[##----------------------------------------]   5.6% ... Processing 2945 files\r"
       ]
      },
      {
       "output_type": "stream",
       "stream": "stdout",
       "text": [
        "[##----------------------------------------]   5.7% ... Processing 2945 files\r"
       ]
      },
      {
       "output_type": "stream",
       "stream": "stdout",
       "text": [
        "[##----------------------------------------]   5.7% ... Processing 2945 files\r"
       ]
      },
      {
       "output_type": "stream",
       "stream": "stdout",
       "text": [
        "[##----------------------------------------]   5.7% ... Processing 2945 files\r"
       ]
      },
      {
       "output_type": "stream",
       "stream": "stdout",
       "text": [
        "[##----------------------------------------]   5.8% ... Processing 2945 files\r"
       ]
      },
      {
       "output_type": "stream",
       "stream": "stdout",
       "text": [
        "[##----------------------------------------]   5.8% ... Processing 2945 files\r"
       ]
      },
      {
       "output_type": "stream",
       "stream": "stdout",
       "text": [
        "[##----------------------------------------]   5.8% ... Processing 2945 files\r"
       ]
      },
      {
       "output_type": "stream",
       "stream": "stdout",
       "text": [
        "[##----------------------------------------]   5.9% ... Processing 2945 files\r"
       ]
      },
      {
       "output_type": "stream",
       "stream": "stdout",
       "text": [
        "[##----------------------------------------]   5.9% ... Processing 2945 files\r"
       ]
      },
      {
       "output_type": "stream",
       "stream": "stdout",
       "text": [
        "[##----------------------------------------]   5.9% ... Processing 2945 files\r"
       ]
      },
      {
       "output_type": "stream",
       "stream": "stdout",
       "text": [
        "[###---------------------------------------]   6.0% ... Processing 2945 files\r"
       ]
      },
      {
       "output_type": "stream",
       "stream": "stdout",
       "text": [
        "[###---------------------------------------]   6.0% ... Processing 2945 files\r"
       ]
      },
      {
       "output_type": "stream",
       "stream": "stdout",
       "text": [
        "[###---------------------------------------]   6.0% ... Processing 2945 files\r"
       ]
      },
      {
       "output_type": "stream",
       "stream": "stdout",
       "text": [
        "[###---------------------------------------]   6.1% ... Processing 2945 files\r"
       ]
      },
      {
       "output_type": "stream",
       "stream": "stdout",
       "text": [
        "[###---------------------------------------]   6.1% ... Processing 2945 files\r"
       ]
      },
      {
       "output_type": "stream",
       "stream": "stdout",
       "text": [
        "[###---------------------------------------]   6.1% ... Processing 2945 files\r"
       ]
      },
      {
       "output_type": "stream",
       "stream": "stdout",
       "text": [
        "[###---------------------------------------]   6.2% ... Processing 2945 files\r"
       ]
      },
      {
       "output_type": "stream",
       "stream": "stdout",
       "text": [
        "[###---------------------------------------]   6.2% ... Processing 2945 files\r"
       ]
      },
      {
       "output_type": "stream",
       "stream": "stdout",
       "text": [
        "[###---------------------------------------]   6.2% ... Processing 2945 files\r"
       ]
      },
      {
       "output_type": "stream",
       "stream": "stdout",
       "text": [
        "[###---------------------------------------]   6.3% ... Processing 2945 files\r"
       ]
      },
      {
       "output_type": "stream",
       "stream": "stdout",
       "text": [
        "[###---------------------------------------]   6.3% ... Processing 2945 files\r"
       ]
      },
      {
       "output_type": "stream",
       "stream": "stdout",
       "text": [
        "[###---------------------------------------]   6.3% ... Processing 2945 files\r"
       ]
      },
      {
       "output_type": "stream",
       "stream": "stdout",
       "text": [
        "[###---------------------------------------]   6.4% ... Processing 2945 files\r"
       ]
      },
      {
       "output_type": "stream",
       "stream": "stdout",
       "text": [
        "[###---------------------------------------]   6.4% ... Processing 2945 files\r"
       ]
      },
      {
       "output_type": "stream",
       "stream": "stdout",
       "text": [
        "[###---------------------------------------]   6.5% ... Processing 2945 files\r"
       ]
      },
      {
       "output_type": "stream",
       "stream": "stdout",
       "text": [
        "[###---------------------------------------]   6.5% ... Processing 2945 files\r"
       ]
      },
      {
       "output_type": "stream",
       "stream": "stdout",
       "text": [
        "[###---------------------------------------]   6.5% ... Processing 2945 files\r"
       ]
      },
      {
       "output_type": "stream",
       "stream": "stdout",
       "text": [
        "[###---------------------------------------]   6.6% ... Processing 2945 files\r"
       ]
      },
      {
       "output_type": "stream",
       "stream": "stdout",
       "text": [
        "[###---------------------------------------]   6.6% ... Processing 2945 files\r"
       ]
      },
      {
       "output_type": "stream",
       "stream": "stdout",
       "text": [
        "[###---------------------------------------]   6.6% ... Processing 2945 files\r"
       ]
      },
      {
       "output_type": "stream",
       "stream": "stdout",
       "text": [
        "[###---------------------------------------]   6.7% ... Processing 2945 files\r"
       ]
      },
      {
       "output_type": "stream",
       "stream": "stdout",
       "text": [
        "[###---------------------------------------]   6.7% ... Processing 2945 files\r"
       ]
      },
      {
       "output_type": "stream",
       "stream": "stdout",
       "text": [
        "[###---------------------------------------]   6.7% ... Processing 2945 files\r"
       ]
      },
      {
       "output_type": "stream",
       "stream": "stdout",
       "text": [
        "[###---------------------------------------]   6.8% ... Processing 2945 files\r"
       ]
      },
      {
       "output_type": "stream",
       "stream": "stdout",
       "text": [
        "[###---------------------------------------]   6.8% ... Processing 2945 files\r"
       ]
      },
      {
       "output_type": "stream",
       "stream": "stdout",
       "text": [
        "[###---------------------------------------]   6.8% ... Processing 2945 files\r"
       ]
      },
      {
       "output_type": "stream",
       "stream": "stdout",
       "text": [
        "[###---------------------------------------]   6.9% ... Processing 2945 files\r"
       ]
      },
      {
       "output_type": "stream",
       "stream": "stdout",
       "text": [
        "[###---------------------------------------]   6.9% ... Processing 2945 files\r"
       ]
      },
      {
       "output_type": "stream",
       "stream": "stdout",
       "text": [
        "[###---------------------------------------]   6.9% ... Processing 2945 files\r"
       ]
      },
      {
       "output_type": "stream",
       "stream": "stdout",
       "text": [
        "[###---------------------------------------]   7.0% ... Processing 2945 files\r"
       ]
      },
      {
       "output_type": "stream",
       "stream": "stdout",
       "text": [
        "[###---------------------------------------]   7.0% ... Processing 2945 files\r"
       ]
      },
      {
       "output_type": "stream",
       "stream": "stdout",
       "text": [
        "[###---------------------------------------]   7.0% ... Processing 2945 files\r"
       ]
      },
      {
       "output_type": "stream",
       "stream": "stdout",
       "text": [
        "[###---------------------------------------]   7.1% ... Processing 2945 files\r"
       ]
      },
      {
       "output_type": "stream",
       "stream": "stdout",
       "text": [
        "[###---------------------------------------]   7.1% ... Processing 2945 files\r"
       ]
      },
      {
       "output_type": "stream",
       "stream": "stdout",
       "text": [
        "[###---------------------------------------]   7.1% ... Processing 2945 files\r"
       ]
      },
      {
       "output_type": "stream",
       "stream": "stdout",
       "text": [
        "[###---------------------------------------]   7.2% ... Processing 2945 files\r"
       ]
      },
      {
       "output_type": "stream",
       "stream": "stdout",
       "text": [
        "[###---------------------------------------]   7.2% ... Processing 2945 files\r"
       ]
      },
      {
       "output_type": "stream",
       "stream": "stdout",
       "text": [
        "[###---------------------------------------]   7.2% ... Processing 2945 files\r"
       ]
      },
      {
       "output_type": "stream",
       "stream": "stdout",
       "text": [
        "[###---------------------------------------]   7.3% ... Processing 2945 files\r"
       ]
      },
      {
       "output_type": "stream",
       "stream": "stdout",
       "text": [
        "[###---------------------------------------]   7.3% ... Processing 2945 files\r"
       ]
      },
      {
       "output_type": "stream",
       "stream": "stdout",
       "text": [
        "[###---------------------------------------]   7.3% ... Processing 2945 files\r"
       ]
      },
      {
       "output_type": "stream",
       "stream": "stdout",
       "text": [
        "[###---------------------------------------]   7.4% ... Processing 2945 files\r"
       ]
      },
      {
       "output_type": "stream",
       "stream": "stdout",
       "text": [
        "[###---------------------------------------]   7.4% ... Processing 2945 files\r"
       ]
      },
      {
       "output_type": "stream",
       "stream": "stdout",
       "text": [
        "[###---------------------------------------]   7.4% ... Processing 2945 files\r"
       ]
      },
      {
       "output_type": "stream",
       "stream": "stdout",
       "text": [
        "[###---------------------------------------]   7.5% ... Processing 2945 files\r"
       ]
      },
      {
       "output_type": "stream",
       "stream": "stdout",
       "text": [
        "[###---------------------------------------]   7.5% ... Processing 2945 files\r"
       ]
      },
      {
       "output_type": "stream",
       "stream": "stdout",
       "text": [
        "[###---------------------------------------]   7.5% ... Processing 2945 files\r"
       ]
      },
      {
       "output_type": "stream",
       "stream": "stdout",
       "text": [
        "[###---------------------------------------]   7.6% ... Processing 2945 files\r"
       ]
      },
      {
       "output_type": "stream",
       "stream": "stdout",
       "text": [
        "[###---------------------------------------]   7.6% ... Processing 2945 files\r"
       ]
      },
      {
       "output_type": "stream",
       "stream": "stdout",
       "text": [
        "[###---------------------------------------]   7.6% ... Processing 2945 files\r"
       ]
      },
      {
       "output_type": "stream",
       "stream": "stdout",
       "text": [
        "[###---------------------------------------]   7.7% ... Processing 2945 files\r"
       ]
      },
      {
       "output_type": "stream",
       "stream": "stdout",
       "text": [
        "[###---------------------------------------]   7.7% ... Processing 2945 files\r"
       ]
      },
      {
       "output_type": "stream",
       "stream": "stdout",
       "text": [
        "[###---------------------------------------]   7.7% ... Processing 2945 files\r"
       ]
      },
      {
       "output_type": "stream",
       "stream": "stdout",
       "text": [
        "[###---------------------------------------]   7.8% ... Processing 2945 files\r"
       ]
      },
      {
       "output_type": "stream",
       "stream": "stdout",
       "text": [
        "[###---------------------------------------]   7.8% ... Processing 2945 files\r"
       ]
      },
      {
       "output_type": "stream",
       "stream": "stdout",
       "text": [
        "[###---------------------------------------]   7.8% ... Processing 2945 files\r"
       ]
      },
      {
       "output_type": "stream",
       "stream": "stdout",
       "text": [
        "[###---------------------------------------]   7.9% ... Processing 2945 files\r"
       ]
      },
      {
       "output_type": "stream",
       "stream": "stdout",
       "text": [
        "[###---------------------------------------]   7.9% ... Processing 2945 files\r"
       ]
      },
      {
       "output_type": "stream",
       "stream": "stdout",
       "text": [
        "[###---------------------------------------]   7.9% ... Processing 2945 files\r"
       ]
      },
      {
       "output_type": "stream",
       "stream": "stdout",
       "text": [
        "[###---------------------------------------]   8.0% ... Processing 2945 files\r"
       ]
      },
      {
       "output_type": "stream",
       "stream": "stdout",
       "text": [
        "[###---------------------------------------]   8.0% ... Processing 2945 files\r"
       ]
      },
      {
       "output_type": "stream",
       "stream": "stdout",
       "text": [
        "[###---------------------------------------]   8.0% ... Processing 2945 files\r"
       ]
      },
      {
       "output_type": "stream",
       "stream": "stdout",
       "text": [
        "[###---------------------------------------]   8.1% ... Processing 2945 files\r"
       ]
      },
      {
       "output_type": "stream",
       "stream": "stdout",
       "text": [
        "[###---------------------------------------]   8.1% ... Processing 2945 files\r"
       ]
      },
      {
       "output_type": "stream",
       "stream": "stdout",
       "text": [
        "[###---------------------------------------]   8.1% ... Processing 2945 files\r"
       ]
      },
      {
       "output_type": "stream",
       "stream": "stdout",
       "text": [
        "[###---------------------------------------]   8.2% ... Processing 2945 files\r"
       ]
      },
      {
       "output_type": "stream",
       "stream": "stdout",
       "text": [
        "[###---------------------------------------]   8.2% ... Processing 2945 files\r"
       ]
      },
      {
       "output_type": "stream",
       "stream": "stdout",
       "text": [
        "[###---------------------------------------]   8.3% ... Processing 2945 files\r"
       ]
      },
      {
       "output_type": "stream",
       "stream": "stdout",
       "text": [
        "[###---------------------------------------]   8.3% ... Processing 2945 files\r"
       ]
      },
      {
       "output_type": "stream",
       "stream": "stdout",
       "text": [
        "[###---------------------------------------]   8.3% ... Processing 2945 files\r"
       ]
      },
      {
       "output_type": "stream",
       "stream": "stdout",
       "text": [
        "[####--------------------------------------]   8.4% ... Processing 2945 files\r"
       ]
      },
      {
       "output_type": "stream",
       "stream": "stdout",
       "text": [
        "[####--------------------------------------]   8.4% ... Processing 2945 files\r"
       ]
      },
      {
       "output_type": "stream",
       "stream": "stdout",
       "text": [
        "[####--------------------------------------]   8.4% ... Processing 2945 files\r"
       ]
      },
      {
       "output_type": "stream",
       "stream": "stdout",
       "text": [
        "[####--------------------------------------]   8.5% ... Processing 2945 files\r"
       ]
      },
      {
       "output_type": "stream",
       "stream": "stdout",
       "text": [
        "[####--------------------------------------]   8.5% ... Processing 2945 files\r"
       ]
      },
      {
       "output_type": "stream",
       "stream": "stdout",
       "text": [
        "[####--------------------------------------]   8.5% ... Processing 2945 files\r"
       ]
      },
      {
       "output_type": "stream",
       "stream": "stdout",
       "text": [
        "[####--------------------------------------]   8.6% ... Processing 2945 files\r"
       ]
      },
      {
       "output_type": "stream",
       "stream": "stdout",
       "text": [
        "[####--------------------------------------]   8.6% ... Processing 2945 files\r"
       ]
      },
      {
       "output_type": "stream",
       "stream": "stdout",
       "text": [
        "[####--------------------------------------]   8.6% ... Processing 2945 files\r"
       ]
      },
      {
       "output_type": "stream",
       "stream": "stdout",
       "text": [
        "[####--------------------------------------]   8.7% ... Processing 2945 files\r"
       ]
      },
      {
       "output_type": "stream",
       "stream": "stdout",
       "text": [
        "[####--------------------------------------]   8.7% ... Processing 2945 files\r"
       ]
      },
      {
       "output_type": "stream",
       "stream": "stdout",
       "text": [
        "[####--------------------------------------]   8.7% ... Processing 2945 files\r"
       ]
      },
      {
       "output_type": "stream",
       "stream": "stdout",
       "text": [
        "[####--------------------------------------]   8.8% ... Processing 2945 files\r"
       ]
      },
      {
       "output_type": "stream",
       "stream": "stdout",
       "text": [
        "[####--------------------------------------]   8.8% ... Processing 2945 files\r"
       ]
      },
      {
       "output_type": "stream",
       "stream": "stdout",
       "text": [
        "[####--------------------------------------]   8.8% ... Processing 2945 files\r"
       ]
      },
      {
       "output_type": "stream",
       "stream": "stdout",
       "text": [
        "[####--------------------------------------]   8.9% ... Processing 2945 files\r"
       ]
      },
      {
       "output_type": "stream",
       "stream": "stdout",
       "text": [
        "[####--------------------------------------]   8.9% ... Processing 2945 files\r"
       ]
      },
      {
       "output_type": "stream",
       "stream": "stdout",
       "text": [
        "[####--------------------------------------]   8.9% ... Processing 2945 files\r"
       ]
      },
      {
       "output_type": "stream",
       "stream": "stdout",
       "text": [
        "[####--------------------------------------]   9.0% ... Processing 2945 files\r"
       ]
      },
      {
       "output_type": "stream",
       "stream": "stdout",
       "text": [
        "[####--------------------------------------]   9.0% ... Processing 2945 files\r"
       ]
      },
      {
       "output_type": "stream",
       "stream": "stdout",
       "text": [
        "[####--------------------------------------]   9.0% ... Processing 2945 files\r"
       ]
      },
      {
       "output_type": "stream",
       "stream": "stdout",
       "text": [
        "[####--------------------------------------]   9.1% ... Processing 2945 files\r"
       ]
      },
      {
       "output_type": "stream",
       "stream": "stdout",
       "text": [
        "[####--------------------------------------]   9.1% ... Processing 2945 files\r"
       ]
      },
      {
       "output_type": "stream",
       "stream": "stdout",
       "text": [
        "[####--------------------------------------]   9.1% ... Processing 2945 files\r"
       ]
      },
      {
       "output_type": "stream",
       "stream": "stdout",
       "text": [
        "[####--------------------------------------]   9.2% ... Processing 2945 files\r"
       ]
      },
      {
       "output_type": "stream",
       "stream": "stdout",
       "text": [
        "[####--------------------------------------]   9.2% ... Processing 2945 files\r"
       ]
      },
      {
       "output_type": "stream",
       "stream": "stdout",
       "text": [
        "[####--------------------------------------]   9.2% ... Processing 2945 files\r"
       ]
      },
      {
       "output_type": "stream",
       "stream": "stdout",
       "text": [
        "[####--------------------------------------]   9.3% ... Processing 2945 files\r"
       ]
      },
      {
       "output_type": "stream",
       "stream": "stdout",
       "text": [
        "[####--------------------------------------]   9.3% ... Processing 2945 files\r"
       ]
      },
      {
       "output_type": "stream",
       "stream": "stdout",
       "text": [
        "[####--------------------------------------]   9.3% ... Processing 2945 files\r"
       ]
      },
      {
       "output_type": "stream",
       "stream": "stdout",
       "text": [
        "[####--------------------------------------]   9.4% ... Processing 2945 files\r"
       ]
      },
      {
       "output_type": "stream",
       "stream": "stdout",
       "text": [
        "[####--------------------------------------]   9.4% ... Processing 2945 files\r"
       ]
      },
      {
       "output_type": "stream",
       "stream": "stdout",
       "text": [
        "[####--------------------------------------]   9.4% ... Processing 2945 files\r"
       ]
      },
      {
       "output_type": "stream",
       "stream": "stdout",
       "text": [
        "[####--------------------------------------]   9.5% ... Processing 2945 files\r"
       ]
      },
      {
       "output_type": "stream",
       "stream": "stdout",
       "text": [
        "[####--------------------------------------]   9.5% ... Processing 2945 files\r"
       ]
      },
      {
       "output_type": "stream",
       "stream": "stdout",
       "text": [
        "[####--------------------------------------]   9.5% ... Processing 2945 files\r"
       ]
      },
      {
       "output_type": "stream",
       "stream": "stdout",
       "text": [
        "[####--------------------------------------]   9.6% ... Processing 2945 files\r"
       ]
      },
      {
       "output_type": "stream",
       "stream": "stdout",
       "text": [
        "[####--------------------------------------]   9.6% ... Processing 2945 files\r"
       ]
      },
      {
       "output_type": "stream",
       "stream": "stdout",
       "text": [
        "[####--------------------------------------]   9.6% ... Processing 2945 files\r"
       ]
      },
      {
       "output_type": "stream",
       "stream": "stdout",
       "text": [
        "[####--------------------------------------]   9.7% ... Processing 2945 files\r"
       ]
      },
      {
       "output_type": "stream",
       "stream": "stdout",
       "text": [
        "[####--------------------------------------]   9.7% ... Processing 2945 files\r"
       ]
      },
      {
       "output_type": "stream",
       "stream": "stdout",
       "text": [
        "[####--------------------------------------]   9.7% ... Processing 2945 files\r"
       ]
      },
      {
       "output_type": "stream",
       "stream": "stdout",
       "text": [
        "[####--------------------------------------]   9.8% ... Processing 2945 files\r"
       ]
      },
      {
       "output_type": "stream",
       "stream": "stdout",
       "text": [
        "[####--------------------------------------]   9.8% ... Processing 2945 files\r"
       ]
      },
      {
       "output_type": "stream",
       "stream": "stdout",
       "text": [
        "[####--------------------------------------]   9.8% ... Processing 2945 files\r"
       ]
      },
      {
       "output_type": "stream",
       "stream": "stdout",
       "text": [
        "[####--------------------------------------]   9.9% ... Processing 2945 files\r"
       ]
      },
      {
       "output_type": "stream",
       "stream": "stdout",
       "text": [
        "[####--------------------------------------]   9.9% ... Processing 2945 files\r"
       ]
      },
      {
       "output_type": "stream",
       "stream": "stdout",
       "text": [
        "[####--------------------------------------]   9.9% ... Processing 2945 files\r"
       ]
      },
      {
       "output_type": "stream",
       "stream": "stdout",
       "text": [
        "[####--------------------------------------]  10.0% ... Processing 2945 files\r"
       ]
      },
      {
       "output_type": "stream",
       "stream": "stdout",
       "text": [
        "[####--------------------------------------]  10.0% ... Processing 2945 files\r"
       ]
      },
      {
       "output_type": "stream",
       "stream": "stdout",
       "text": [
        "[####--------------------------------------]  10.1% ... Processing 2945 files\r"
       ]
      },
      {
       "output_type": "stream",
       "stream": "stdout",
       "text": [
        "[####--------------------------------------]  10.1% ... Processing 2945 files\r"
       ]
      },
      {
       "output_type": "stream",
       "stream": "stdout",
       "text": [
        "[####--------------------------------------]  10.1% ... Processing 2945 files\r"
       ]
      },
      {
       "output_type": "stream",
       "stream": "stdout",
       "text": [
        "[####--------------------------------------]  10.2% ... Processing 2945 files\r"
       ]
      },
      {
       "output_type": "stream",
       "stream": "stdout",
       "text": [
        "[####--------------------------------------]  10.2% ... Processing 2945 files\r"
       ]
      },
      {
       "output_type": "stream",
       "stream": "stdout",
       "text": [
        "[####--------------------------------------]  10.2% ... Processing 2945 files\r"
       ]
      },
      {
       "output_type": "stream",
       "stream": "stdout",
       "text": [
        "[####--------------------------------------]  10.3% ... Processing 2945 files\r"
       ]
      },
      {
       "output_type": "stream",
       "stream": "stdout",
       "text": [
        "[####--------------------------------------]  10.3% ... Processing 2945 files\r"
       ]
      },
      {
       "output_type": "stream",
       "stream": "stdout",
       "text": [
        "[####--------------------------------------]  10.3% ... Processing 2945 files\r"
       ]
      },
      {
       "output_type": "stream",
       "stream": "stdout",
       "text": [
        "[####--------------------------------------]  10.4% ... Processing 2945 files\r"
       ]
      },
      {
       "output_type": "stream",
       "stream": "stdout",
       "text": [
        "[####--------------------------------------]  10.4% ... Processing 2945 files\r"
       ]
      },
      {
       "output_type": "stream",
       "stream": "stdout",
       "text": [
        "[####--------------------------------------]  10.4% ... Processing 2945 files\r"
       ]
      },
      {
       "output_type": "stream",
       "stream": "stdout",
       "text": [
        "[####--------------------------------------]  10.5% ... Processing 2945 files\r"
       ]
      },
      {
       "output_type": "stream",
       "stream": "stdout",
       "text": [
        "[####--------------------------------------]  10.5% ... Processing 2945 files\r"
       ]
      },
      {
       "output_type": "stream",
       "stream": "stdout",
       "text": [
        "[####--------------------------------------]  10.5% ... Processing 2945 files\r"
       ]
      },
      {
       "output_type": "stream",
       "stream": "stdout",
       "text": [
        "[####--------------------------------------]  10.6% ... Processing 2945 files\r"
       ]
      },
      {
       "output_type": "stream",
       "stream": "stdout",
       "text": [
        "[####--------------------------------------]  10.6% ... Processing 2945 files\r"
       ]
      },
      {
       "output_type": "stream",
       "stream": "stdout",
       "text": [
        "[####--------------------------------------]  10.6% ... Processing 2945 files\r"
       ]
      },
      {
       "output_type": "stream",
       "stream": "stdout",
       "text": [
        "[####--------------------------------------]  10.7% ... Processing 2945 files\r"
       ]
      },
      {
       "output_type": "stream",
       "stream": "stdout",
       "text": [
        "[####--------------------------------------]  10.7% ... Processing 2945 files\r"
       ]
      },
      {
       "output_type": "stream",
       "stream": "stdout",
       "text": [
        "[#####-------------------------------------]  10.7% ... Processing 2945 files\r"
       ]
      },
      {
       "output_type": "stream",
       "stream": "stdout",
       "text": [
        "[#####-------------------------------------]  10.8% ... Processing 2945 files\r"
       ]
      },
      {
       "output_type": "stream",
       "stream": "stdout",
       "text": [
        "[#####-------------------------------------]  10.8% ... Processing 2945 files\r"
       ]
      },
      {
       "output_type": "stream",
       "stream": "stdout",
       "text": [
        "[#####-------------------------------------]  10.8% ... Processing 2945 files\r"
       ]
      },
      {
       "output_type": "stream",
       "stream": "stdout",
       "text": [
        "[#####-------------------------------------]  10.9% ... Processing 2945 files\r"
       ]
      },
      {
       "output_type": "stream",
       "stream": "stdout",
       "text": [
        "[#####-------------------------------------]  10.9% ... Processing 2945 files\r"
       ]
      },
      {
       "output_type": "stream",
       "stream": "stdout",
       "text": [
        "[#####-------------------------------------]  10.9% ... Processing 2945 files\r"
       ]
      },
      {
       "output_type": "stream",
       "stream": "stdout",
       "text": [
        "[#####-------------------------------------]  11.0% ... Processing 2945 files\r"
       ]
      },
      {
       "output_type": "stream",
       "stream": "stdout",
       "text": [
        "[#####-------------------------------------]  11.0% ... Processing 2945 files\r"
       ]
      },
      {
       "output_type": "stream",
       "stream": "stdout",
       "text": [
        "[#####-------------------------------------]  11.0% ... Processing 2945 files\r"
       ]
      },
      {
       "output_type": "stream",
       "stream": "stdout",
       "text": [
        "[#####-------------------------------------]  11.1% ... Processing 2945 files\r"
       ]
      },
      {
       "output_type": "stream",
       "stream": "stdout",
       "text": [
        "[#####-------------------------------------]  11.1% ... Processing 2945 files\r"
       ]
      },
      {
       "output_type": "stream",
       "stream": "stdout",
       "text": [
        "[#####-------------------------------------]  11.1% ... Processing 2945 files\r"
       ]
      },
      {
       "output_type": "stream",
       "stream": "stdout",
       "text": [
        "[#####-------------------------------------]  11.2% ... Processing 2945 files\r"
       ]
      },
      {
       "output_type": "stream",
       "stream": "stdout",
       "text": [
        "[#####-------------------------------------]  11.2% ... Processing 2945 files\r"
       ]
      },
      {
       "output_type": "stream",
       "stream": "stdout",
       "text": [
        "[#####-------------------------------------]  11.2% ... Processing 2945 files\r"
       ]
      },
      {
       "output_type": "stream",
       "stream": "stdout",
       "text": [
        "[#####-------------------------------------]  11.3% ... Processing 2945 files\r"
       ]
      },
      {
       "output_type": "stream",
       "stream": "stdout",
       "text": [
        "[#####-------------------------------------]  11.3% ... Processing 2945 files\r"
       ]
      },
      {
       "output_type": "stream",
       "stream": "stdout",
       "text": [
        "[#####-------------------------------------]  11.3% ... Processing 2945 files\r"
       ]
      },
      {
       "output_type": "stream",
       "stream": "stdout",
       "text": [
        "[#####-------------------------------------]  11.4% ... Processing 2945 files\r"
       ]
      },
      {
       "output_type": "stream",
       "stream": "stdout",
       "text": [
        "[#####-------------------------------------]  11.4% ... Processing 2945 files\r"
       ]
      },
      {
       "output_type": "stream",
       "stream": "stdout",
       "text": [
        "[#####-------------------------------------]  11.4% ... Processing 2945 files\r"
       ]
      },
      {
       "output_type": "stream",
       "stream": "stdout",
       "text": [
        "[#####-------------------------------------]  11.5% ... Processing 2945 files\r"
       ]
      },
      {
       "output_type": "stream",
       "stream": "stdout",
       "text": [
        "[#####-------------------------------------]  11.5% ... Processing 2945 files\r"
       ]
      },
      {
       "output_type": "stream",
       "stream": "stdout",
       "text": [
        "[#####-------------------------------------]  11.5% ... Processing 2945 files\r"
       ]
      },
      {
       "output_type": "stream",
       "stream": "stdout",
       "text": [
        "[#####-------------------------------------]  11.6% ... Processing 2945 files\r"
       ]
      },
      {
       "output_type": "stream",
       "stream": "stdout",
       "text": [
        "[#####-------------------------------------]  11.6% ... Processing 2945 files\r"
       ]
      },
      {
       "output_type": "stream",
       "stream": "stdout",
       "text": [
        "[#####-------------------------------------]  11.6% ... Processing 2945 files\r"
       ]
      },
      {
       "output_type": "stream",
       "stream": "stdout",
       "text": [
        "[#####-------------------------------------]  11.7% ... Processing 2945 files\r"
       ]
      },
      {
       "output_type": "stream",
       "stream": "stdout",
       "text": [
        "[#####-------------------------------------]  11.7% ... Processing 2945 files\r"
       ]
      },
      {
       "output_type": "stream",
       "stream": "stdout",
       "text": [
        "[#####-------------------------------------]  11.7% ... Processing 2945 files\r"
       ]
      },
      {
       "output_type": "stream",
       "stream": "stdout",
       "text": [
        "[#####-------------------------------------]  11.8% ... Processing 2945 files\r"
       ]
      },
      {
       "output_type": "stream",
       "stream": "stdout",
       "text": [
        "[#####-------------------------------------]  11.8% ... Processing 2945 files\r"
       ]
      },
      {
       "output_type": "stream",
       "stream": "stdout",
       "text": [
        "[#####-------------------------------------]  11.9% ... Processing 2945 files\r"
       ]
      },
      {
       "output_type": "stream",
       "stream": "stdout",
       "text": [
        "[#####-------------------------------------]  11.9% ... Processing 2945 files\r"
       ]
      },
      {
       "output_type": "stream",
       "stream": "stdout",
       "text": [
        "[#####-------------------------------------]  11.9% ... Processing 2945 files\r"
       ]
      },
      {
       "output_type": "stream",
       "stream": "stdout",
       "text": [
        "[#####-------------------------------------]  12.0% ... Processing 2945 files\r"
       ]
      },
      {
       "output_type": "stream",
       "stream": "stdout",
       "text": [
        "[#####-------------------------------------]  12.0% ... Processing 2945 files\r"
       ]
      },
      {
       "output_type": "stream",
       "stream": "stdout",
       "text": [
        "[#####-------------------------------------]  12.0% ... Processing 2945 files\r"
       ]
      },
      {
       "output_type": "stream",
       "stream": "stdout",
       "text": [
        "[#####-------------------------------------]  12.1% ... Processing 2945 files\r"
       ]
      },
      {
       "output_type": "stream",
       "stream": "stdout",
       "text": [
        "[#####-------------------------------------]  12.1% ... Processing 2945 files\r"
       ]
      },
      {
       "output_type": "stream",
       "stream": "stdout",
       "text": [
        "[#####-------------------------------------]  12.1% ... Processing 2945 files\r"
       ]
      },
      {
       "output_type": "stream",
       "stream": "stdout",
       "text": [
        "[#####-------------------------------------]  12.2% ... Processing 2945 files\r"
       ]
      },
      {
       "output_type": "stream",
       "stream": "stdout",
       "text": [
        "[#####-------------------------------------]  12.2% ... Processing 2945 files\r"
       ]
      },
      {
       "output_type": "stream",
       "stream": "stdout",
       "text": [
        "[#####-------------------------------------]  12.2% ... Processing 2945 files\r"
       ]
      },
      {
       "output_type": "stream",
       "stream": "stdout",
       "text": [
        "[#####-------------------------------------]  12.3% ... Processing 2945 files\r"
       ]
      },
      {
       "output_type": "stream",
       "stream": "stdout",
       "text": [
        "[#####-------------------------------------]  12.3% ... Processing 2945 files\r"
       ]
      },
      {
       "output_type": "stream",
       "stream": "stdout",
       "text": [
        "[#####-------------------------------------]  12.3% ... Processing 2945 files\r"
       ]
      },
      {
       "output_type": "stream",
       "stream": "stdout",
       "text": [
        "[#####-------------------------------------]  12.4% ... Processing 2945 files\r"
       ]
      },
      {
       "output_type": "stream",
       "stream": "stdout",
       "text": [
        "[#####-------------------------------------]  12.4% ... Processing 2945 files\r"
       ]
      },
      {
       "output_type": "stream",
       "stream": "stdout",
       "text": [
        "[#####-------------------------------------]  12.4% ... Processing 2945 files\r"
       ]
      },
      {
       "output_type": "stream",
       "stream": "stdout",
       "text": [
        "[#####-------------------------------------]  12.5% ... Processing 2945 files\r"
       ]
      },
      {
       "output_type": "stream",
       "stream": "stdout",
       "text": [
        "[#####-------------------------------------]  12.5% ... Processing 2945 files\r"
       ]
      },
      {
       "output_type": "stream",
       "stream": "stdout",
       "text": [
        "[#####-------------------------------------]  12.5% ... Processing 2945 files\r"
       ]
      },
      {
       "output_type": "stream",
       "stream": "stdout",
       "text": [
        "[#####-------------------------------------]  12.6% ... Processing 2945 files\r"
       ]
      },
      {
       "output_type": "stream",
       "stream": "stdout",
       "text": [
        "[#####-------------------------------------]  12.6% ... Processing 2945 files\r"
       ]
      },
      {
       "output_type": "stream",
       "stream": "stdout",
       "text": [
        "[#####-------------------------------------]  12.6% ... Processing 2945 files\r"
       ]
      },
      {
       "output_type": "stream",
       "stream": "stdout",
       "text": [
        "[#####-------------------------------------]  12.7% ... Processing 2945 files\r"
       ]
      },
      {
       "output_type": "stream",
       "stream": "stdout",
       "text": [
        "[#####-------------------------------------]  12.7% ... Processing 2945 files\r"
       ]
      },
      {
       "output_type": "stream",
       "stream": "stdout",
       "text": [
        "[#####-------------------------------------]  12.7% ... Processing 2945 files\r"
       ]
      },
      {
       "output_type": "stream",
       "stream": "stdout",
       "text": [
        "[#####-------------------------------------]  12.8% ... Processing 2945 files\r"
       ]
      },
      {
       "output_type": "stream",
       "stream": "stdout",
       "text": [
        "[#####-------------------------------------]  12.8% ... Processing 2945 files\r"
       ]
      },
      {
       "output_type": "stream",
       "stream": "stdout",
       "text": [
        "[#####-------------------------------------]  12.8% ... Processing 2945 files\r"
       ]
      },
      {
       "output_type": "stream",
       "stream": "stdout",
       "text": [
        "[#####-------------------------------------]  12.9% ... Processing 2945 files\r"
       ]
      },
      {
       "output_type": "stream",
       "stream": "stdout",
       "text": [
        "[#####-------------------------------------]  12.9% ... Processing 2945 files\r"
       ]
      },
      {
       "output_type": "stream",
       "stream": "stdout",
       "text": [
        "[#####-------------------------------------]  12.9% ... Processing 2945 files\r"
       ]
      },
      {
       "output_type": "stream",
       "stream": "stdout",
       "text": [
        "[#####-------------------------------------]  13.0% ... Processing 2945 files\r"
       ]
      },
      {
       "output_type": "stream",
       "stream": "stdout",
       "text": [
        "[#####-------------------------------------]  13.0% ... Processing 2945 files\r"
       ]
      },
      {
       "output_type": "stream",
       "stream": "stdout",
       "text": [
        "[#####-------------------------------------]  13.0% ... Processing 2945 files\r"
       ]
      },
      {
       "output_type": "stream",
       "stream": "stdout",
       "text": [
        "[#####-------------------------------------]  13.1% ... Processing 2945 files\r"
       ]
      },
      {
       "output_type": "stream",
       "stream": "stdout",
       "text": [
        "[######------------------------------------]  13.1% ... Processing 2945 files\r"
       ]
      },
      {
       "output_type": "stream",
       "stream": "stdout",
       "text": [
        "[######------------------------------------]  13.1% ... Processing 2945 files\r"
       ]
      },
      {
       "output_type": "stream",
       "stream": "stdout",
       "text": [
        "[######------------------------------------]  13.2% ... Processing 2945 files\r"
       ]
      },
      {
       "output_type": "stream",
       "stream": "stdout",
       "text": [
        "[######------------------------------------]  13.2% ... Processing 2945 files\r"
       ]
      },
      {
       "output_type": "stream",
       "stream": "stdout",
       "text": [
        "[######------------------------------------]  13.2% ... Processing 2945 files\r"
       ]
      },
      {
       "output_type": "stream",
       "stream": "stdout",
       "text": [
        "[######------------------------------------]  13.3% ... Processing 2945 files\r"
       ]
      },
      {
       "output_type": "stream",
       "stream": "stdout",
       "text": [
        "[######------------------------------------]  13.3% ... Processing 2945 files\r"
       ]
      },
      {
       "output_type": "stream",
       "stream": "stdout",
       "text": [
        "[######------------------------------------]  13.3% ... Processing 2945 files\r"
       ]
      },
      {
       "output_type": "stream",
       "stream": "stdout",
       "text": [
        "[######------------------------------------]  13.4% ... Processing 2945 files\r"
       ]
      },
      {
       "output_type": "stream",
       "stream": "stdout",
       "text": [
        "[######------------------------------------]  13.4% ... Processing 2945 files\r"
       ]
      },
      {
       "output_type": "stream",
       "stream": "stdout",
       "text": [
        "[######------------------------------------]  13.4% ... Processing 2945 files\r"
       ]
      },
      {
       "output_type": "stream",
       "stream": "stdout",
       "text": [
        "[######------------------------------------]  13.5% ... Processing 2945 files\r"
       ]
      },
      {
       "output_type": "stream",
       "stream": "stdout",
       "text": [
        "[######------------------------------------]  13.5% ... Processing 2945 files\r"
       ]
      },
      {
       "output_type": "stream",
       "stream": "stdout",
       "text": [
        "[######------------------------------------]  13.5% ... Processing 2945 files\r"
       ]
      },
      {
       "output_type": "stream",
       "stream": "stdout",
       "text": [
        "[######------------------------------------]  13.6% ... Processing 2945 files\r"
       ]
      },
      {
       "output_type": "stream",
       "stream": "stdout",
       "text": [
        "[######------------------------------------]  13.6% ... Processing 2945 files\r"
       ]
      },
      {
       "output_type": "stream",
       "stream": "stdout",
       "text": [
        "[######------------------------------------]  13.7% ... Processing 2945 files\r"
       ]
      },
      {
       "output_type": "stream",
       "stream": "stdout",
       "text": [
        "[######------------------------------------]  13.7% ... Processing 2945 files\r"
       ]
      },
      {
       "output_type": "stream",
       "stream": "stdout",
       "text": [
        "[######------------------------------------]  13.7% ... Processing 2945 files\r"
       ]
      },
      {
       "output_type": "stream",
       "stream": "stdout",
       "text": [
        "[######------------------------------------]  13.8% ... Processing 2945 files\r"
       ]
      },
      {
       "output_type": "stream",
       "stream": "stdout",
       "text": [
        "[######------------------------------------]  13.8% ... Processing 2945 files\r"
       ]
      },
      {
       "output_type": "stream",
       "stream": "stdout",
       "text": [
        "[######------------------------------------]  13.8% ... Processing 2945 files\r"
       ]
      },
      {
       "output_type": "stream",
       "stream": "stdout",
       "text": [
        "[######------------------------------------]  13.9% ... Processing 2945 files\r"
       ]
      },
      {
       "output_type": "stream",
       "stream": "stdout",
       "text": [
        "[######------------------------------------]  13.9% ... Processing 2945 files\r"
       ]
      },
      {
       "output_type": "stream",
       "stream": "stdout",
       "text": [
        "[######------------------------------------]  13.9% ... Processing 2945 files\r"
       ]
      },
      {
       "output_type": "stream",
       "stream": "stdout",
       "text": [
        "[######------------------------------------]  14.0% ... Processing 2945 files\r"
       ]
      },
      {
       "output_type": "stream",
       "stream": "stdout",
       "text": [
        "[######------------------------------------]  14.0% ... Processing 2945 files\r"
       ]
      },
      {
       "output_type": "stream",
       "stream": "stdout",
       "text": [
        "[######------------------------------------]  14.0% ... Processing 2945 files\r"
       ]
      },
      {
       "output_type": "stream",
       "stream": "stdout",
       "text": [
        "[######------------------------------------]  14.1% ... Processing 2945 files\r"
       ]
      },
      {
       "output_type": "stream",
       "stream": "stdout",
       "text": [
        "[######------------------------------------]  14.1% ... Processing 2945 files\r"
       ]
      },
      {
       "output_type": "stream",
       "stream": "stdout",
       "text": [
        "[######------------------------------------]  14.1% ... Processing 2945 files\r"
       ]
      },
      {
       "output_type": "stream",
       "stream": "stdout",
       "text": [
        "[######------------------------------------]  14.2% ... Processing 2945 files\r"
       ]
      },
      {
       "output_type": "stream",
       "stream": "stdout",
       "text": [
        "[######------------------------------------]  14.2% ... Processing 2945 files\r"
       ]
      },
      {
       "output_type": "stream",
       "stream": "stdout",
       "text": [
        "[######------------------------------------]  14.2% ... Processing 2945 files\r"
       ]
      },
      {
       "output_type": "stream",
       "stream": "stdout",
       "text": [
        "[######------------------------------------]  14.3% ... Processing 2945 files\r"
       ]
      },
      {
       "output_type": "stream",
       "stream": "stdout",
       "text": [
        "[######------------------------------------]  14.3% ... Processing 2945 files\r"
       ]
      },
      {
       "output_type": "stream",
       "stream": "stdout",
       "text": [
        "[######------------------------------------]  14.3% ... Processing 2945 files\r"
       ]
      },
      {
       "output_type": "stream",
       "stream": "stdout",
       "text": [
        "[######------------------------------------]  14.4% ... Processing 2945 files\r"
       ]
      },
      {
       "output_type": "stream",
       "stream": "stdout",
       "text": [
        "[######------------------------------------]  14.4% ... Processing 2945 files\r"
       ]
      },
      {
       "output_type": "stream",
       "stream": "stdout",
       "text": [
        "[######------------------------------------]  14.4% ... Processing 2945 files\r"
       ]
      },
      {
       "output_type": "stream",
       "stream": "stdout",
       "text": [
        "[######------------------------------------]  14.5% ... Processing 2945 files\r"
       ]
      },
      {
       "output_type": "stream",
       "stream": "stdout",
       "text": [
        "[######------------------------------------]  14.5% ... Processing 2945 files\r"
       ]
      },
      {
       "output_type": "stream",
       "stream": "stdout",
       "text": [
        "[######------------------------------------]  14.5% ... Processing 2945 files\r"
       ]
      },
      {
       "output_type": "stream",
       "stream": "stdout",
       "text": [
        "[######------------------------------------]  14.6% ... Processing 2945 files\r"
       ]
      },
      {
       "output_type": "stream",
       "stream": "stdout",
       "text": [
        "[######------------------------------------]  14.6% ... Processing 2945 files\r"
       ]
      },
      {
       "output_type": "stream",
       "stream": "stdout",
       "text": [
        "[######------------------------------------]  14.6% ... Processing 2945 files\r"
       ]
      },
      {
       "output_type": "stream",
       "stream": "stdout",
       "text": [
        "[######------------------------------------]  14.7% ... Processing 2945 files\r"
       ]
      },
      {
       "output_type": "stream",
       "stream": "stdout",
       "text": [
        "[######------------------------------------]  14.7% ... Processing 2945 files\r"
       ]
      },
      {
       "output_type": "stream",
       "stream": "stdout",
       "text": [
        "[######------------------------------------]  14.7% ... Processing 2945 files\r"
       ]
      },
      {
       "output_type": "stream",
       "stream": "stdout",
       "text": [
        "[######------------------------------------]  14.8% ... Processing 2945 files\r"
       ]
      },
      {
       "output_type": "stream",
       "stream": "stdout",
       "text": [
        "[######------------------------------------]  14.8% ... Processing 2945 files\r"
       ]
      },
      {
       "output_type": "stream",
       "stream": "stdout",
       "text": [
        "[######------------------------------------]  14.8% ... Processing 2945 files\r"
       ]
      },
      {
       "output_type": "stream",
       "stream": "stdout",
       "text": [
        "[######------------------------------------]  14.9% ... Processing 2945 files\r"
       ]
      },
      {
       "output_type": "stream",
       "stream": "stdout",
       "text": [
        "[######------------------------------------]  14.9% ... Processing 2945 files\r"
       ]
      },
      {
       "output_type": "stream",
       "stream": "stdout",
       "text": [
        "[######------------------------------------]  14.9% ... Processing 2945 files\r"
       ]
      },
      {
       "output_type": "stream",
       "stream": "stdout",
       "text": [
        "[######------------------------------------]  15.0% ... Processing 2945 files\r"
       ]
      },
      {
       "output_type": "stream",
       "stream": "stdout",
       "text": [
        "[######------------------------------------]  15.0% ... Processing 2945 files\r"
       ]
      },
      {
       "output_type": "stream",
       "stream": "stdout",
       "text": [
        "[######------------------------------------]  15.0% ... Processing 2945 files\r"
       ]
      },
      {
       "output_type": "stream",
       "stream": "stdout",
       "text": [
        "[######------------------------------------]  15.1% ... Processing 2945 files\r"
       ]
      },
      {
       "output_type": "stream",
       "stream": "stdout",
       "text": [
        "[######------------------------------------]  15.1% ... Processing 2945 files\r"
       ]
      },
      {
       "output_type": "stream",
       "stream": "stdout",
       "text": [
        "[######------------------------------------]  15.1% ... Processing 2945 files\r"
       ]
      },
      {
       "output_type": "stream",
       "stream": "stdout",
       "text": [
        "[######------------------------------------]  15.2% ... Processing 2945 files\r"
       ]
      },
      {
       "output_type": "stream",
       "stream": "stdout",
       "text": [
        "[######------------------------------------]  15.2% ... Processing 2945 files\r"
       ]
      },
      {
       "output_type": "stream",
       "stream": "stdout",
       "text": [
        "[######------------------------------------]  15.2% ... Processing 2945 files\r"
       ]
      },
      {
       "output_type": "stream",
       "stream": "stdout",
       "text": [
        "[######------------------------------------]  15.3% ... Processing 2945 files\r"
       ]
      },
      {
       "output_type": "stream",
       "stream": "stdout",
       "text": [
        "[######------------------------------------]  15.3% ... Processing 2945 files\r"
       ]
      },
      {
       "output_type": "stream",
       "stream": "stdout",
       "text": [
        "[######------------------------------------]  15.3% ... Processing 2945 files\r"
       ]
      },
      {
       "output_type": "stream",
       "stream": "stdout",
       "text": [
        "[######------------------------------------]  15.4% ... Processing 2945 files\r"
       ]
      },
      {
       "output_type": "stream",
       "stream": "stdout",
       "text": [
        "[######------------------------------------]  15.4% ... Processing 2945 files\r"
       ]
      },
      {
       "output_type": "stream",
       "stream": "stdout",
       "text": [
        "[######------------------------------------]  15.4% ... Processing 2945 files\r"
       ]
      },
      {
       "output_type": "stream",
       "stream": "stdout",
       "text": [
        "[#######-----------------------------------]  15.5% ... Processing 2945 files\r"
       ]
      },
      {
       "output_type": "stream",
       "stream": "stdout",
       "text": [
        "[#######-----------------------------------]  15.5% ... Processing 2945 files\r"
       ]
      },
      {
       "output_type": "stream",
       "stream": "stdout",
       "text": [
        "[#######-----------------------------------]  15.6% ... Processing 2945 files\r"
       ]
      },
      {
       "output_type": "stream",
       "stream": "stdout",
       "text": [
        "[#######-----------------------------------]  15.6% ... Processing 2945 files\r"
       ]
      },
      {
       "output_type": "stream",
       "stream": "stdout",
       "text": [
        "[#######-----------------------------------]  15.6% ... Processing 2945 files\r"
       ]
      },
      {
       "output_type": "stream",
       "stream": "stdout",
       "text": [
        "[#######-----------------------------------]  15.7% ... Processing 2945 files\r"
       ]
      },
      {
       "output_type": "stream",
       "stream": "stdout",
       "text": [
        "[#######-----------------------------------]  15.7% ... Processing 2945 files\r"
       ]
      },
      {
       "output_type": "stream",
       "stream": "stdout",
       "text": [
        "[#######-----------------------------------]  15.7% ... Processing 2945 files\r"
       ]
      },
      {
       "output_type": "stream",
       "stream": "stdout",
       "text": [
        "[#######-----------------------------------]  15.8% ... Processing 2945 files\r"
       ]
      },
      {
       "output_type": "stream",
       "stream": "stdout",
       "text": [
        "[#######-----------------------------------]  15.8% ... Processing 2945 files\r"
       ]
      },
      {
       "output_type": "stream",
       "stream": "stdout",
       "text": [
        "[#######-----------------------------------]  15.8% ... Processing 2945 files\r"
       ]
      },
      {
       "output_type": "stream",
       "stream": "stdout",
       "text": [
        "[#######-----------------------------------]  15.9% ... Processing 2945 files\r"
       ]
      },
      {
       "output_type": "stream",
       "stream": "stdout",
       "text": [
        "[#######-----------------------------------]  15.9% ... Processing 2945 files\r"
       ]
      },
      {
       "output_type": "stream",
       "stream": "stdout",
       "text": [
        "[#######-----------------------------------]  15.9% ... Processing 2945 files\r"
       ]
      },
      {
       "output_type": "stream",
       "stream": "stdout",
       "text": [
        "[#######-----------------------------------]  16.0% ... Processing 2945 files\r"
       ]
      },
      {
       "output_type": "stream",
       "stream": "stdout",
       "text": [
        "[#######-----------------------------------]  16.0% ... Processing 2945 files\r"
       ]
      },
      {
       "output_type": "stream",
       "stream": "stdout",
       "text": [
        "[#######-----------------------------------]  16.0% ... Processing 2945 files\r"
       ]
      },
      {
       "output_type": "stream",
       "stream": "stdout",
       "text": [
        "[#######-----------------------------------]  16.1% ... Processing 2945 files\r"
       ]
      },
      {
       "output_type": "stream",
       "stream": "stdout",
       "text": [
        "[#######-----------------------------------]  16.1% ... Processing 2945 files\r"
       ]
      },
      {
       "output_type": "stream",
       "stream": "stdout",
       "text": [
        "[#######-----------------------------------]  16.1% ... Processing 2945 files\r"
       ]
      },
      {
       "output_type": "stream",
       "stream": "stdout",
       "text": [
        "[#######-----------------------------------]  16.2% ... Processing 2945 files\r"
       ]
      },
      {
       "output_type": "stream",
       "stream": "stdout",
       "text": [
        "[#######-----------------------------------]  16.2% ... Processing 2945 files\r"
       ]
      },
      {
       "output_type": "stream",
       "stream": "stdout",
       "text": [
        "[#######-----------------------------------]  16.2% ... Processing 2945 files\r"
       ]
      },
      {
       "output_type": "stream",
       "stream": "stdout",
       "text": [
        "[#######-----------------------------------]  16.3% ... Processing 2945 files\r"
       ]
      },
      {
       "output_type": "stream",
       "stream": "stdout",
       "text": [
        "[#######-----------------------------------]  16.3% ... Processing 2945 files\r"
       ]
      },
      {
       "output_type": "stream",
       "stream": "stdout",
       "text": [
        "[#######-----------------------------------]  16.3% ... Processing 2945 files\r"
       ]
      },
      {
       "output_type": "stream",
       "stream": "stdout",
       "text": [
        "[#######-----------------------------------]  16.4% ... Processing 2945 files\r"
       ]
      },
      {
       "output_type": "stream",
       "stream": "stdout",
       "text": [
        "[#######-----------------------------------]  16.4% ... Processing 2945 files\r"
       ]
      },
      {
       "output_type": "stream",
       "stream": "stdout",
       "text": [
        "[#######-----------------------------------]  16.4% ... Processing 2945 files\r"
       ]
      },
      {
       "output_type": "stream",
       "stream": "stdout",
       "text": [
        "[#######-----------------------------------]  16.5% ... Processing 2945 files\r"
       ]
      },
      {
       "output_type": "stream",
       "stream": "stdout",
       "text": [
        "[#######-----------------------------------]  16.5% ... Processing 2945 files\r"
       ]
      },
      {
       "output_type": "stream",
       "stream": "stdout",
       "text": [
        "[#######-----------------------------------]  16.5% ... Processing 2945 files\r"
       ]
      },
      {
       "output_type": "stream",
       "stream": "stdout",
       "text": [
        "[#######-----------------------------------]  16.6% ... Processing 2945 files\r"
       ]
      },
      {
       "output_type": "stream",
       "stream": "stdout",
       "text": [
        "[#######-----------------------------------]  16.6% ... Processing 2945 files\r"
       ]
      },
      {
       "output_type": "stream",
       "stream": "stdout",
       "text": [
        "[#######-----------------------------------]  16.6% ... Processing 2945 files\r"
       ]
      },
      {
       "output_type": "stream",
       "stream": "stdout",
       "text": [
        "[#######-----------------------------------]  16.7% ... Processing 2945 files\r"
       ]
      },
      {
       "output_type": "stream",
       "stream": "stdout",
       "text": [
        "[#######-----------------------------------]  16.7% ... Processing 2945 files\r"
       ]
      },
      {
       "output_type": "stream",
       "stream": "stdout",
       "text": [
        "[#######-----------------------------------]  16.7% ... Processing 2945 files\r"
       ]
      },
      {
       "output_type": "stream",
       "stream": "stdout",
       "text": [
        "[#######-----------------------------------]  16.8% ... Processing 2945 files\r"
       ]
      },
      {
       "output_type": "stream",
       "stream": "stdout",
       "text": [
        "[#######-----------------------------------]  16.8% ... Processing 2945 files\r"
       ]
      },
      {
       "output_type": "stream",
       "stream": "stdout",
       "text": [
        "[#######-----------------------------------]  16.8% ... Processing 2945 files\r"
       ]
      },
      {
       "output_type": "stream",
       "stream": "stdout",
       "text": [
        "[#######-----------------------------------]  16.9% ... Processing 2945 files\r"
       ]
      },
      {
       "output_type": "stream",
       "stream": "stdout",
       "text": [
        "[#######-----------------------------------]  16.9% ... Processing 2945 files\r"
       ]
      },
      {
       "output_type": "stream",
       "stream": "stdout",
       "text": [
        "[#######-----------------------------------]  16.9% ... Processing 2945 files\r"
       ]
      },
      {
       "output_type": "stream",
       "stream": "stdout",
       "text": [
        "[#######-----------------------------------]  17.0% ... Processing 2945 files\r"
       ]
      },
      {
       "output_type": "stream",
       "stream": "stdout",
       "text": [
        "[#######-----------------------------------]  17.0% ... Processing 2945 files\r"
       ]
      },
      {
       "output_type": "stream",
       "stream": "stdout",
       "text": [
        "[#######-----------------------------------]  17.0% ... Processing 2945 files\r"
       ]
      },
      {
       "output_type": "stream",
       "stream": "stdout",
       "text": [
        "[#######-----------------------------------]  17.1% ... Processing 2945 files\r"
       ]
      },
      {
       "output_type": "stream",
       "stream": "stdout",
       "text": [
        "[#######-----------------------------------]  17.1% ... Processing 2945 files\r"
       ]
      },
      {
       "output_type": "stream",
       "stream": "stdout",
       "text": [
        "[#######-----------------------------------]  17.1% ... Processing 2945 files\r"
       ]
      },
      {
       "output_type": "stream",
       "stream": "stdout",
       "text": [
        "[#######-----------------------------------]  17.2% ... Processing 2945 files\r"
       ]
      },
      {
       "output_type": "stream",
       "stream": "stdout",
       "text": [
        "[#######-----------------------------------]  17.2% ... Processing 2945 files\r"
       ]
      },
      {
       "output_type": "stream",
       "stream": "stdout",
       "text": [
        "[#######-----------------------------------]  17.2% ... Processing 2945 files\r"
       ]
      },
      {
       "output_type": "stream",
       "stream": "stdout",
       "text": [
        "[#######-----------------------------------]  17.3% ... Processing 2945 files\r"
       ]
      },
      {
       "output_type": "stream",
       "stream": "stdout",
       "text": [
        "[#######-----------------------------------]  17.3% ... Processing 2945 files\r"
       ]
      },
      {
       "output_type": "stream",
       "stream": "stdout",
       "text": [
        "[#######-----------------------------------]  17.4% ... Processing 2945 files\r"
       ]
      },
      {
       "output_type": "stream",
       "stream": "stdout",
       "text": [
        "[#######-----------------------------------]  17.4% ... Processing 2945 files\r"
       ]
      },
      {
       "output_type": "stream",
       "stream": "stdout",
       "text": [
        "[#######-----------------------------------]  17.4% ... Processing 2945 files\r"
       ]
      },
      {
       "output_type": "stream",
       "stream": "stdout",
       "text": [
        "[#######-----------------------------------]  17.5% ... Processing 2945 files\r"
       ]
      },
      {
       "output_type": "stream",
       "stream": "stdout",
       "text": [
        "[#######-----------------------------------]  17.5% ... Processing 2945 files\r"
       ]
      },
      {
       "output_type": "stream",
       "stream": "stdout",
       "text": [
        "[#######-----------------------------------]  17.5% ... Processing 2945 files\r"
       ]
      },
      {
       "output_type": "stream",
       "stream": "stdout",
       "text": [
        "[#######-----------------------------------]  17.6% ... Processing 2945 files\r"
       ]
      },
      {
       "output_type": "stream",
       "stream": "stdout",
       "text": [
        "[#######-----------------------------------]  17.6% ... Processing 2945 files\r"
       ]
      },
      {
       "output_type": "stream",
       "stream": "stdout",
       "text": [
        "[#######-----------------------------------]  17.6% ... Processing 2945 files\r"
       ]
      },
      {
       "output_type": "stream",
       "stream": "stdout",
       "text": [
        "[#######-----------------------------------]  17.7% ... Processing 2945 files\r"
       ]
      },
      {
       "output_type": "stream",
       "stream": "stdout",
       "text": [
        "[#######-----------------------------------]  17.7% ... Processing 2945 files\r"
       ]
      },
      {
       "output_type": "stream",
       "stream": "stdout",
       "text": [
        "[#######-----------------------------------]  17.7% ... Processing 2945 files\r"
       ]
      },
      {
       "output_type": "stream",
       "stream": "stdout",
       "text": [
        "[#######-----------------------------------]  17.8% ... Processing 2945 files\r"
       ]
      },
      {
       "output_type": "stream",
       "stream": "stdout",
       "text": [
        "[#######-----------------------------------]  17.8% ... Processing 2945 files\r"
       ]
      },
      {
       "output_type": "stream",
       "stream": "stdout",
       "text": [
        "[#######-----------------------------------]  17.8% ... Processing 2945 files\r"
       ]
      },
      {
       "output_type": "stream",
       "stream": "stdout",
       "text": [
        "[########----------------------------------]  17.9% ... Processing 2945 files\r"
       ]
      },
      {
       "output_type": "stream",
       "stream": "stdout",
       "text": [
        "[########----------------------------------]  17.9% ... Processing 2945 files\r"
       ]
      },
      {
       "output_type": "stream",
       "stream": "stdout",
       "text": [
        "[########----------------------------------]  17.9% ... Processing 2945 files\r"
       ]
      },
      {
       "output_type": "stream",
       "stream": "stdout",
       "text": [
        "[########----------------------------------]  18.0% ... Processing 2945 files\r"
       ]
      },
      {
       "output_type": "stream",
       "stream": "stdout",
       "text": [
        "[########----------------------------------]  18.0% ... Processing 2945 files\r"
       ]
      },
      {
       "output_type": "stream",
       "stream": "stdout",
       "text": [
        "[########----------------------------------]  18.0% ... Processing 2945 files\r"
       ]
      },
      {
       "output_type": "stream",
       "stream": "stdout",
       "text": [
        "[########----------------------------------]  18.1% ... Processing 2945 files\r"
       ]
      },
      {
       "output_type": "stream",
       "stream": "stdout",
       "text": [
        "[########----------------------------------]  18.1% ... Processing 2945 files\r"
       ]
      },
      {
       "output_type": "stream",
       "stream": "stdout",
       "text": [
        "[########----------------------------------]  18.1% ... Processing 2945 files\r"
       ]
      },
      {
       "output_type": "stream",
       "stream": "stdout",
       "text": [
        "[########----------------------------------]  18.2% ... Processing 2945 files\r"
       ]
      },
      {
       "output_type": "stream",
       "stream": "stdout",
       "text": [
        "[########----------------------------------]  18.2% ... Processing 2945 files\r"
       ]
      },
      {
       "output_type": "stream",
       "stream": "stdout",
       "text": [
        "[########----------------------------------]  18.2% ... Processing 2945 files\r"
       ]
      },
      {
       "output_type": "stream",
       "stream": "stdout",
       "text": [
        "[########----------------------------------]  18.3% ... Processing 2945 files\r"
       ]
      },
      {
       "output_type": "stream",
       "stream": "stdout",
       "text": [
        "[########----------------------------------]  18.3% ... Processing 2945 files\r"
       ]
      },
      {
       "output_type": "stream",
       "stream": "stdout",
       "text": [
        "[########----------------------------------]  18.3% ... Processing 2945 files\r"
       ]
      },
      {
       "output_type": "stream",
       "stream": "stdout",
       "text": [
        "[########----------------------------------]  18.4% ... Processing 2945 files\r"
       ]
      },
      {
       "output_type": "stream",
       "stream": "stdout",
       "text": [
        "[########----------------------------------]  18.4% ... Processing 2945 files\r"
       ]
      },
      {
       "output_type": "stream",
       "stream": "stdout",
       "text": [
        "[########----------------------------------]  18.4% ... Processing 2945 files\r"
       ]
      },
      {
       "output_type": "stream",
       "stream": "stdout",
       "text": [
        "[########----------------------------------]  18.5% ... Processing 2945 files\r"
       ]
      },
      {
       "output_type": "stream",
       "stream": "stdout",
       "text": [
        "[########----------------------------------]  18.5% ... Processing 2945 files\r"
       ]
      },
      {
       "output_type": "stream",
       "stream": "stdout",
       "text": [
        "[########----------------------------------]  18.5% ... Processing 2945 files\r"
       ]
      },
      {
       "output_type": "stream",
       "stream": "stdout",
       "text": [
        "[########----------------------------------]  18.6% ... Processing 2945 files\r"
       ]
      },
      {
       "output_type": "stream",
       "stream": "stdout",
       "text": [
        "[########----------------------------------]  18.6% ... Processing 2945 files\r"
       ]
      },
      {
       "output_type": "stream",
       "stream": "stdout",
       "text": [
        "[########----------------------------------]  18.6% ... Processing 2945 files\r"
       ]
      },
      {
       "output_type": "stream",
       "stream": "stdout",
       "text": [
        "[########----------------------------------]  18.7% ... Processing 2945 files\r"
       ]
      },
      {
       "output_type": "stream",
       "stream": "stdout",
       "text": [
        "[########----------------------------------]  18.7% ... Processing 2945 files\r"
       ]
      },
      {
       "output_type": "stream",
       "stream": "stdout",
       "text": [
        "[########----------------------------------]  18.7% ... Processing 2945 files\r"
       ]
      },
      {
       "output_type": "stream",
       "stream": "stdout",
       "text": [
        "[########----------------------------------]  18.8% ... Processing 2945 files\r"
       ]
      },
      {
       "output_type": "stream",
       "stream": "stdout",
       "text": [
        "[########----------------------------------]  18.8% ... Processing 2945 files\r"
       ]
      },
      {
       "output_type": "stream",
       "stream": "stdout",
       "text": [
        "[########----------------------------------]  18.8% ... Processing 2945 files\r"
       ]
      },
      {
       "output_type": "stream",
       "stream": "stdout",
       "text": [
        "[########----------------------------------]  18.9% ... Processing 2945 files\r"
       ]
      },
      {
       "output_type": "stream",
       "stream": "stdout",
       "text": [
        "[########----------------------------------]  18.9% ... Processing 2945 files\r"
       ]
      },
      {
       "output_type": "stream",
       "stream": "stdout",
       "text": [
        "[########----------------------------------]  18.9% ... Processing 2945 files\r"
       ]
      },
      {
       "output_type": "stream",
       "stream": "stdout",
       "text": [
        "[########----------------------------------]  19.0% ... Processing 2945 files\r"
       ]
      },
      {
       "output_type": "stream",
       "stream": "stdout",
       "text": [
        "[########----------------------------------]  19.0% ... Processing 2945 files\r"
       ]
      },
      {
       "output_type": "stream",
       "stream": "stdout",
       "text": [
        "[########----------------------------------]  19.0% ... Processing 2945 files\r"
       ]
      },
      {
       "output_type": "stream",
       "stream": "stdout",
       "text": [
        "[########----------------------------------]  19.1% ... Processing 2945 files\r"
       ]
      },
      {
       "output_type": "stream",
       "stream": "stdout",
       "text": [
        "[########----------------------------------]  19.1% ... Processing 2945 files\r"
       ]
      },
      {
       "output_type": "stream",
       "stream": "stdout",
       "text": [
        "[########----------------------------------]  19.2% ... Processing 2945 files\r"
       ]
      },
      {
       "output_type": "stream",
       "stream": "stdout",
       "text": [
        "[########----------------------------------]  19.2% ... Processing 2945 files\r"
       ]
      },
      {
       "output_type": "stream",
       "stream": "stdout",
       "text": [
        "[########----------------------------------]  19.2% ... Processing 2945 files\r"
       ]
      },
      {
       "output_type": "stream",
       "stream": "stdout",
       "text": [
        "[########----------------------------------]  19.3% ... Processing 2945 files\r"
       ]
      },
      {
       "output_type": "stream",
       "stream": "stdout",
       "text": [
        "[########----------------------------------]  19.3% ... Processing 2945 files\r"
       ]
      },
      {
       "output_type": "stream",
       "stream": "stdout",
       "text": [
        "[########----------------------------------]  19.3% ... Processing 2945 files\r"
       ]
      },
      {
       "output_type": "stream",
       "stream": "stdout",
       "text": [
        "[########----------------------------------]  19.4% ... Processing 2945 files\r"
       ]
      },
      {
       "output_type": "stream",
       "stream": "stdout",
       "text": [
        "[########----------------------------------]  19.4% ... Processing 2945 files\r"
       ]
      },
      {
       "output_type": "stream",
       "stream": "stdout",
       "text": [
        "[########----------------------------------]  19.4% ... Processing 2945 files\r"
       ]
      },
      {
       "output_type": "stream",
       "stream": "stdout",
       "text": [
        "[########----------------------------------]  19.5% ... Processing 2945 files\r"
       ]
      },
      {
       "output_type": "stream",
       "stream": "stdout",
       "text": [
        "[########----------------------------------]  19.5% ... Processing 2945 files\r"
       ]
      },
      {
       "output_type": "stream",
       "stream": "stdout",
       "text": [
        "[########----------------------------------]  19.5% ... Processing 2945 files\r"
       ]
      },
      {
       "output_type": "stream",
       "stream": "stdout",
       "text": [
        "[########----------------------------------]  19.6% ... Processing 2945 files\r"
       ]
      },
      {
       "output_type": "stream",
       "stream": "stdout",
       "text": [
        "[########----------------------------------]  19.6% ... Processing 2945 files\r"
       ]
      },
      {
       "output_type": "stream",
       "stream": "stdout",
       "text": [
        "[########----------------------------------]  19.6% ... Processing 2945 files\r"
       ]
      },
      {
       "output_type": "stream",
       "stream": "stdout",
       "text": [
        "[########----------------------------------]  19.7% ... Processing 2945 files\r"
       ]
      },
      {
       "output_type": "stream",
       "stream": "stdout",
       "text": [
        "[########----------------------------------]  19.7% ... Processing 2945 files\r"
       ]
      },
      {
       "output_type": "stream",
       "stream": "stdout",
       "text": [
        "[########----------------------------------]  19.7% ... Processing 2945 files\r"
       ]
      },
      {
       "output_type": "stream",
       "stream": "stdout",
       "text": [
        "[########----------------------------------]  19.8% ... Processing 2945 files\r"
       ]
      },
      {
       "output_type": "stream",
       "stream": "stdout",
       "text": [
        "[########----------------------------------]  19.8% ... Processing 2945 files\r"
       ]
      },
      {
       "output_type": "stream",
       "stream": "stdout",
       "text": [
        "[########----------------------------------]  19.8% ... Processing 2945 files\r"
       ]
      },
      {
       "output_type": "stream",
       "stream": "stdout",
       "text": [
        "[########----------------------------------]  19.9% ... Processing 2945 files\r"
       ]
      },
      {
       "output_type": "stream",
       "stream": "stdout",
       "text": [
        "[########----------------------------------]  19.9% ... Processing 2945 files\r"
       ]
      },
      {
       "output_type": "stream",
       "stream": "stdout",
       "text": [
        "[########----------------------------------]  19.9% ... Processing 2945 files\r"
       ]
      },
      {
       "output_type": "stream",
       "stream": "stdout",
       "text": [
        "[########----------------------------------]  20.0% ... Processing 2945 files\r"
       ]
      },
      {
       "output_type": "stream",
       "stream": "stdout",
       "text": [
        "[########----------------------------------]  20.0% ... Processing 2945 files\r"
       ]
      },
      {
       "output_type": "stream",
       "stream": "stdout",
       "text": [
        "[########----------------------------------]  20.0% ... Processing 2945 files\r"
       ]
      },
      {
       "output_type": "stream",
       "stream": "stdout",
       "text": [
        "[########----------------------------------]  20.1% ... Processing 2945 files\r"
       ]
      },
      {
       "output_type": "stream",
       "stream": "stdout",
       "text": [
        "[########----------------------------------]  20.1% ... Processing 2945 files\r"
       ]
      },
      {
       "output_type": "stream",
       "stream": "stdout",
       "text": [
        "[########----------------------------------]  20.1% ... Processing 2945 files\r"
       ]
      },
      {
       "output_type": "stream",
       "stream": "stdout",
       "text": [
        "[########----------------------------------]  20.2% ... Processing 2945 files\r"
       ]
      },
      {
       "output_type": "stream",
       "stream": "stdout",
       "text": [
        "[########----------------------------------]  20.2% ... Processing 2945 files\r"
       ]
      },
      {
       "output_type": "stream",
       "stream": "stdout",
       "text": [
        "[########----------------------------------]  20.2% ... Processing 2945 files\r"
       ]
      },
      {
       "output_type": "stream",
       "stream": "stdout",
       "text": [
        "[#########---------------------------------]  20.3% ... Processing 2945 files\r"
       ]
      },
      {
       "output_type": "stream",
       "stream": "stdout",
       "text": [
        "[#########---------------------------------]  20.3% ... Processing 2945 files\r"
       ]
      },
      {
       "output_type": "stream",
       "stream": "stdout",
       "text": [
        "[#########---------------------------------]  20.3% ... Processing 2945 files\r"
       ]
      },
      {
       "output_type": "stream",
       "stream": "stdout",
       "text": [
        "[#########---------------------------------]  20.4% ... Processing 2945 files\r"
       ]
      },
      {
       "output_type": "stream",
       "stream": "stdout",
       "text": [
        "[#########---------------------------------]  20.4% ... Processing 2945 files\r"
       ]
      },
      {
       "output_type": "stream",
       "stream": "stdout",
       "text": [
        "[#########---------------------------------]  20.4% ... Processing 2945 files\r"
       ]
      },
      {
       "output_type": "stream",
       "stream": "stdout",
       "text": [
        "[#########---------------------------------]  20.5% ... Processing 2945 files\r"
       ]
      },
      {
       "output_type": "stream",
       "stream": "stdout",
       "text": [
        "[#########---------------------------------]  20.5% ... Processing 2945 files\r"
       ]
      },
      {
       "output_type": "stream",
       "stream": "stdout",
       "text": [
        "[#########---------------------------------]  20.5% ... Processing 2945 files\r"
       ]
      },
      {
       "output_type": "stream",
       "stream": "stdout",
       "text": [
        "[#########---------------------------------]  20.6% ... Processing 2945 files\r"
       ]
      },
      {
       "output_type": "stream",
       "stream": "stdout",
       "text": [
        "[#########---------------------------------]  20.6% ... Processing 2945 files\r"
       ]
      },
      {
       "output_type": "stream",
       "stream": "stdout",
       "text": [
        "[#########---------------------------------]  20.6% ... Processing 2945 files\r"
       ]
      },
      {
       "output_type": "stream",
       "stream": "stdout",
       "text": [
        "[#########---------------------------------]  20.7% ... Processing 2945 files\r"
       ]
      },
      {
       "output_type": "stream",
       "stream": "stdout",
       "text": [
        "[#########---------------------------------]  20.7% ... Processing 2945 files\r"
       ]
      },
      {
       "output_type": "stream",
       "stream": "stdout",
       "text": [
        "[#########---------------------------------]  20.7% ... Processing 2945 files\r"
       ]
      },
      {
       "output_type": "stream",
       "stream": "stdout",
       "text": [
        "[#########---------------------------------]  20.8% ... Processing 2945 files\r"
       ]
      },
      {
       "output_type": "stream",
       "stream": "stdout",
       "text": [
        "[#########---------------------------------]  20.8% ... Processing 2945 files\r"
       ]
      },
      {
       "output_type": "stream",
       "stream": "stdout",
       "text": [
        "[#########---------------------------------]  20.8% ... Processing 2945 files\r"
       ]
      },
      {
       "output_type": "stream",
       "stream": "stdout",
       "text": [
        "[#########---------------------------------]  20.9% ... Processing 2945 files\r"
       ]
      },
      {
       "output_type": "stream",
       "stream": "stdout",
       "text": [
        "[#########---------------------------------]  20.9% ... Processing 2945 files\r"
       ]
      },
      {
       "output_type": "stream",
       "stream": "stdout",
       "text": [
        "[#########---------------------------------]  21.0% ... Processing 2945 files\r"
       ]
      },
      {
       "output_type": "stream",
       "stream": "stdout",
       "text": [
        "[#########---------------------------------]  21.0% ... Processing 2945 files\r"
       ]
      },
      {
       "output_type": "stream",
       "stream": "stdout",
       "text": [
        "[#########---------------------------------]  21.0% ... Processing 2945 files\r"
       ]
      },
      {
       "output_type": "stream",
       "stream": "stdout",
       "text": [
        "[#########---------------------------------]  21.1% ... Processing 2945 files\r"
       ]
      },
      {
       "output_type": "stream",
       "stream": "stdout",
       "text": [
        "[#########---------------------------------]  21.1% ... Processing 2945 files\r"
       ]
      },
      {
       "output_type": "stream",
       "stream": "stdout",
       "text": [
        "[#########---------------------------------]  21.1% ... Processing 2945 files\r"
       ]
      },
      {
       "output_type": "stream",
       "stream": "stdout",
       "text": [
        "[#########---------------------------------]  21.2% ... Processing 2945 files\r"
       ]
      },
      {
       "output_type": "stream",
       "stream": "stdout",
       "text": [
        "[#########---------------------------------]  21.2% ... Processing 2945 files\r"
       ]
      },
      {
       "output_type": "stream",
       "stream": "stdout",
       "text": [
        "[#########---------------------------------]  21.2% ... Processing 2945 files\r"
       ]
      },
      {
       "output_type": "stream",
       "stream": "stdout",
       "text": [
        "[#########---------------------------------]  21.3% ... Processing 2945 files\r"
       ]
      },
      {
       "output_type": "stream",
       "stream": "stdout",
       "text": [
        "[#########---------------------------------]  21.3% ... Processing 2945 files\r"
       ]
      },
      {
       "output_type": "stream",
       "stream": "stdout",
       "text": [
        "[#########---------------------------------]  21.3% ... Processing 2945 files\r"
       ]
      },
      {
       "output_type": "stream",
       "stream": "stdout",
       "text": [
        "[#########---------------------------------]  21.4% ... Processing 2945 files\r"
       ]
      },
      {
       "output_type": "stream",
       "stream": "stdout",
       "text": [
        "[#########---------------------------------]  21.4% ... Processing 2945 files\r"
       ]
      },
      {
       "output_type": "stream",
       "stream": "stdout",
       "text": [
        "[#########---------------------------------]  21.4% ... Processing 2945 files\r"
       ]
      },
      {
       "output_type": "stream",
       "stream": "stdout",
       "text": [
        "[#########---------------------------------]  21.5% ... Processing 2945 files\r"
       ]
      },
      {
       "output_type": "stream",
       "stream": "stdout",
       "text": [
        "[#########---------------------------------]  21.5% ... Processing 2945 files\r"
       ]
      },
      {
       "output_type": "stream",
       "stream": "stdout",
       "text": [
        "[#########---------------------------------]  21.5% ... Processing 2945 files\r"
       ]
      },
      {
       "output_type": "stream",
       "stream": "stdout",
       "text": [
        "[#########---------------------------------]  21.6% ... Processing 2945 files\r"
       ]
      },
      {
       "output_type": "stream",
       "stream": "stdout",
       "text": [
        "[#########---------------------------------]  21.6% ... Processing 2945 files\r"
       ]
      },
      {
       "output_type": "stream",
       "stream": "stdout",
       "text": [
        "[#########---------------------------------]  21.6% ... Processing 2945 files\r"
       ]
      },
      {
       "output_type": "stream",
       "stream": "stdout",
       "text": [
        "[#########---------------------------------]  21.7% ... Processing 2945 files\r"
       ]
      },
      {
       "output_type": "stream",
       "stream": "stdout",
       "text": [
        "[#########---------------------------------]  21.7% ... Processing 2945 files\r"
       ]
      },
      {
       "output_type": "stream",
       "stream": "stdout",
       "text": [
        "[#########---------------------------------]  21.7% ... Processing 2945 files\r"
       ]
      },
      {
       "output_type": "stream",
       "stream": "stdout",
       "text": [
        "[#########---------------------------------]  21.8% ... Processing 2945 files\r"
       ]
      },
      {
       "output_type": "stream",
       "stream": "stdout",
       "text": [
        "[#########---------------------------------]  21.8% ... Processing 2945 files\r"
       ]
      },
      {
       "output_type": "stream",
       "stream": "stdout",
       "text": [
        "[#########---------------------------------]  21.8% ... Processing 2945 files\r"
       ]
      },
      {
       "output_type": "stream",
       "stream": "stdout",
       "text": [
        "[#########---------------------------------]  21.9% ... Processing 2945 files\r"
       ]
      },
      {
       "output_type": "stream",
       "stream": "stdout",
       "text": [
        "[#########---------------------------------]  21.9% ... Processing 2945 files\r"
       ]
      },
      {
       "output_type": "stream",
       "stream": "stdout",
       "text": [
        "[#########---------------------------------]  21.9% ... Processing 2945 files\r"
       ]
      },
      {
       "output_type": "stream",
       "stream": "stdout",
       "text": [
        "[#########---------------------------------]  22.0% ... Processing 2945 files\r"
       ]
      },
      {
       "output_type": "stream",
       "stream": "stdout",
       "text": [
        "[#########---------------------------------]  22.0% ... Processing 2945 files\r"
       ]
      },
      {
       "output_type": "stream",
       "stream": "stdout",
       "text": [
        "[#########---------------------------------]  22.0% ... Processing 2945 files\r"
       ]
      },
      {
       "output_type": "stream",
       "stream": "stdout",
       "text": [
        "[#########---------------------------------]  22.1% ... Processing 2945 files\r"
       ]
      },
      {
       "output_type": "stream",
       "stream": "stdout",
       "text": [
        "[#########---------------------------------]  22.1% ... Processing 2945 files\r"
       ]
      },
      {
       "output_type": "stream",
       "stream": "stdout",
       "text": [
        "[#########---------------------------------]  22.1% ... Processing 2945 files\r"
       ]
      },
      {
       "output_type": "stream",
       "stream": "stdout",
       "text": [
        "[#########---------------------------------]  22.2% ... Processing 2945 files\r"
       ]
      },
      {
       "output_type": "stream",
       "stream": "stdout",
       "text": [
        "[#########---------------------------------]  22.2% ... Processing 2945 files\r"
       ]
      },
      {
       "output_type": "stream",
       "stream": "stdout",
       "text": [
        "[#########---------------------------------]  22.2% ... Processing 2945 files\r"
       ]
      },
      {
       "output_type": "stream",
       "stream": "stdout",
       "text": [
        "[#########---------------------------------]  22.3% ... Processing 2945 files\r"
       ]
      },
      {
       "output_type": "stream",
       "stream": "stdout",
       "text": [
        "[#########---------------------------------]  22.3% ... Processing 2945 files\r"
       ]
      },
      {
       "output_type": "stream",
       "stream": "stdout",
       "text": [
        "[#########---------------------------------]  22.3% ... Processing 2945 files\r"
       ]
      },
      {
       "output_type": "stream",
       "stream": "stdout",
       "text": [
        "[#########---------------------------------]  22.4% ... Processing 2945 files\r"
       ]
      },
      {
       "output_type": "stream",
       "stream": "stdout",
       "text": [
        "[#########---------------------------------]  22.4% ... Processing 2945 files\r"
       ]
      },
      {
       "output_type": "stream",
       "stream": "stdout",
       "text": [
        "[#########---------------------------------]  22.4% ... Processing 2945 files\r"
       ]
      },
      {
       "output_type": "stream",
       "stream": "stdout",
       "text": [
        "[#########---------------------------------]  22.5% ... Processing 2945 files\r"
       ]
      },
      {
       "output_type": "stream",
       "stream": "stdout",
       "text": [
        "[#########---------------------------------]  22.5% ... Processing 2945 files\r"
       ]
      },
      {
       "output_type": "stream",
       "stream": "stdout",
       "text": [
        "[#########---------------------------------]  22.5% ... Processing 2945 files\r"
       ]
      },
      {
       "output_type": "stream",
       "stream": "stdout",
       "text": [
        "[#########---------------------------------]  22.6% ... Processing 2945 files\r"
       ]
      },
      {
       "output_type": "stream",
       "stream": "stdout",
       "text": [
        "[#########---------------------------------]  22.6% ... Processing 2945 files\r"
       ]
      },
      {
       "output_type": "stream",
       "stream": "stdout",
       "text": [
        "[##########--------------------------------]  22.6% ... Processing 2945 files\r"
       ]
      },
      {
       "output_type": "stream",
       "stream": "stdout",
       "text": [
        "[##########--------------------------------]  22.7% ... Processing 2945 files\r"
       ]
      },
      {
       "output_type": "stream",
       "stream": "stdout",
       "text": [
        "[##########--------------------------------]  22.7% ... Processing 2945 files\r"
       ]
      },
      {
       "output_type": "stream",
       "stream": "stdout",
       "text": [
        "[##########--------------------------------]  22.8% ... Processing 2945 files\r"
       ]
      },
      {
       "output_type": "stream",
       "stream": "stdout",
       "text": [
        "[##########--------------------------------]  22.8% ... Processing 2945 files\r"
       ]
      },
      {
       "output_type": "stream",
       "stream": "stdout",
       "text": [
        "[##########--------------------------------]  22.8% ... Processing 2945 files\r"
       ]
      },
      {
       "output_type": "stream",
       "stream": "stdout",
       "text": [
        "[##########--------------------------------]  22.9% ... Processing 2945 files\r"
       ]
      },
      {
       "output_type": "stream",
       "stream": "stdout",
       "text": [
        "[##########--------------------------------]  22.9% ... Processing 2945 files\r"
       ]
      },
      {
       "output_type": "stream",
       "stream": "stdout",
       "text": [
        "[##########--------------------------------]  22.9% ... Processing 2945 files\r"
       ]
      },
      {
       "output_type": "stream",
       "stream": "stdout",
       "text": [
        "[##########--------------------------------]  23.0% ... Processing 2945 files\r"
       ]
      },
      {
       "output_type": "stream",
       "stream": "stdout",
       "text": [
        "[##########--------------------------------]  23.0% ... Processing 2945 files\r"
       ]
      },
      {
       "output_type": "stream",
       "stream": "stdout",
       "text": [
        "[##########--------------------------------]  23.0% ... Processing 2945 files\r"
       ]
      },
      {
       "output_type": "stream",
       "stream": "stdout",
       "text": [
        "[##########--------------------------------]  23.1% ... Processing 2945 files\r"
       ]
      },
      {
       "output_type": "stream",
       "stream": "stdout",
       "text": [
        "[##########--------------------------------]  23.1% ... Processing 2945 files\r"
       ]
      },
      {
       "output_type": "stream",
       "stream": "stdout",
       "text": [
        "[##########--------------------------------]  23.1% ... Processing 2945 files\r"
       ]
      },
      {
       "output_type": "stream",
       "stream": "stdout",
       "text": [
        "[##########--------------------------------]  23.2% ... Processing 2945 files\r"
       ]
      },
      {
       "output_type": "stream",
       "stream": "stdout",
       "text": [
        "[##########--------------------------------]  23.2% ... Processing 2945 files\r"
       ]
      },
      {
       "output_type": "stream",
       "stream": "stdout",
       "text": [
        "[##########--------------------------------]  23.2% ... Processing 2945 files\r"
       ]
      },
      {
       "output_type": "stream",
       "stream": "stdout",
       "text": [
        "[##########--------------------------------]  23.3% ... Processing 2945 files\r"
       ]
      },
      {
       "output_type": "stream",
       "stream": "stdout",
       "text": [
        "[##########--------------------------------]  23.3% ... Processing 2945 files\r"
       ]
      },
      {
       "output_type": "stream",
       "stream": "stdout",
       "text": [
        "[##########--------------------------------]  23.3% ... Processing 2945 files\r"
       ]
      },
      {
       "output_type": "stream",
       "stream": "stdout",
       "text": [
        "[##########--------------------------------]  23.4% ... Processing 2945 files\r"
       ]
      },
      {
       "output_type": "stream",
       "stream": "stdout",
       "text": [
        "[##########--------------------------------]  23.4% ... Processing 2945 files\r"
       ]
      },
      {
       "output_type": "stream",
       "stream": "stdout",
       "text": [
        "[##########--------------------------------]  23.4% ... Processing 2945 files\r"
       ]
      },
      {
       "output_type": "stream",
       "stream": "stdout",
       "text": [
        "[##########--------------------------------]  23.5% ... Processing 2945 files\r"
       ]
      },
      {
       "output_type": "stream",
       "stream": "stdout",
       "text": [
        "[##########--------------------------------]  23.5% ... Processing 2945 files\r"
       ]
      },
      {
       "output_type": "stream",
       "stream": "stdout",
       "text": [
        "[##########--------------------------------]  23.5% ... Processing 2945 files\r"
       ]
      },
      {
       "output_type": "stream",
       "stream": "stdout",
       "text": [
        "[##########--------------------------------]  23.6% ... Processing 2945 files\r"
       ]
      },
      {
       "output_type": "stream",
       "stream": "stdout",
       "text": [
        "[##########--------------------------------]  23.6% ... Processing 2945 files\r"
       ]
      },
      {
       "output_type": "stream",
       "stream": "stdout",
       "text": [
        "[##########--------------------------------]  23.6% ... Processing 2945 files\r"
       ]
      },
      {
       "output_type": "stream",
       "stream": "stdout",
       "text": [
        "[##########--------------------------------]  23.7% ... Processing 2945 files\r"
       ]
      },
      {
       "output_type": "stream",
       "stream": "stdout",
       "text": [
        "[##########--------------------------------]  23.7% ... Processing 2945 files\r"
       ]
      },
      {
       "output_type": "stream",
       "stream": "stdout",
       "text": [
        "[##########--------------------------------]  23.7% ... Processing 2945 files\r"
       ]
      },
      {
       "output_type": "stream",
       "stream": "stdout",
       "text": [
        "[##########--------------------------------]  23.8% ... Processing 2945 files\r"
       ]
      },
      {
       "output_type": "stream",
       "stream": "stdout",
       "text": [
        "[##########--------------------------------]  23.8% ... Processing 2945 files\r"
       ]
      },
      {
       "output_type": "stream",
       "stream": "stdout",
       "text": [
        "[##########--------------------------------]  23.8% ... Processing 2945 files\r"
       ]
      },
      {
       "output_type": "stream",
       "stream": "stdout",
       "text": [
        "[##########--------------------------------]  23.9% ... Processing 2945 files\r"
       ]
      },
      {
       "output_type": "stream",
       "stream": "stdout",
       "text": [
        "[##########--------------------------------]  23.9% ... Processing 2945 files\r"
       ]
      },
      {
       "output_type": "stream",
       "stream": "stdout",
       "text": [
        "[##########--------------------------------]  23.9% ... Processing 2945 files\r"
       ]
      },
      {
       "output_type": "stream",
       "stream": "stdout",
       "text": [
        "[##########--------------------------------]  24.0% ... Processing 2945 files\r"
       ]
      },
      {
       "output_type": "stream",
       "stream": "stdout",
       "text": [
        "[##########--------------------------------]  24.0% ... Processing 2945 files\r"
       ]
      },
      {
       "output_type": "stream",
       "stream": "stdout",
       "text": [
        "[##########--------------------------------]  24.0% ... Processing 2945 files\r"
       ]
      },
      {
       "output_type": "stream",
       "stream": "stdout",
       "text": [
        "[##########--------------------------------]  24.1% ... Processing 2945 files\r"
       ]
      },
      {
       "output_type": "stream",
       "stream": "stdout",
       "text": [
        "[##########--------------------------------]  24.1% ... Processing 2945 files\r"
       ]
      },
      {
       "output_type": "stream",
       "stream": "stdout",
       "text": [
        "[##########--------------------------------]  24.1% ... Processing 2945 files\r"
       ]
      },
      {
       "output_type": "stream",
       "stream": "stdout",
       "text": [
        "[##########--------------------------------]  24.2% ... Processing 2945 files\r"
       ]
      },
      {
       "output_type": "stream",
       "stream": "stdout",
       "text": [
        "[##########--------------------------------]  24.2% ... Processing 2945 files\r"
       ]
      },
      {
       "output_type": "stream",
       "stream": "stdout",
       "text": [
        "[##########--------------------------------]  24.2% ... Processing 2945 files\r"
       ]
      },
      {
       "output_type": "stream",
       "stream": "stdout",
       "text": [
        "[##########--------------------------------]  24.3% ... Processing 2945 files\r"
       ]
      },
      {
       "output_type": "stream",
       "stream": "stdout",
       "text": [
        "[##########--------------------------------]  24.3% ... Processing 2945 files\r"
       ]
      },
      {
       "output_type": "stream",
       "stream": "stdout",
       "text": [
        "[##########--------------------------------]  24.3% ... Processing 2945 files\r"
       ]
      },
      {
       "output_type": "stream",
       "stream": "stdout",
       "text": [
        "[##########--------------------------------]  24.4% ... Processing 2945 files\r"
       ]
      },
      {
       "output_type": "stream",
       "stream": "stdout",
       "text": [
        "[##########--------------------------------]  24.4% ... Processing 2945 files\r"
       ]
      },
      {
       "output_type": "stream",
       "stream": "stdout",
       "text": [
        "[##########--------------------------------]  24.4% ... Processing 2945 files\r"
       ]
      },
      {
       "output_type": "stream",
       "stream": "stdout",
       "text": [
        "[##########--------------------------------]  24.5% ... Processing 2945 files\r"
       ]
      },
      {
       "output_type": "stream",
       "stream": "stdout",
       "text": [
        "[##########--------------------------------]  24.5% ... Processing 2945 files\r"
       ]
      },
      {
       "output_type": "stream",
       "stream": "stdout",
       "text": [
        "[##########--------------------------------]  24.6% ... Processing 2945 files\r"
       ]
      },
      {
       "output_type": "stream",
       "stream": "stdout",
       "text": [
        "[##########--------------------------------]  24.6% ... Processing 2945 files\r"
       ]
      },
      {
       "output_type": "stream",
       "stream": "stdout",
       "text": [
        "[##########--------------------------------]  24.6% ... Processing 2945 files\r"
       ]
      },
      {
       "output_type": "stream",
       "stream": "stdout",
       "text": [
        "[##########--------------------------------]  24.7% ... Processing 2945 files\r"
       ]
      },
      {
       "output_type": "stream",
       "stream": "stdout",
       "text": [
        "[##########--------------------------------]  24.7% ... Processing 2945 files\r"
       ]
      },
      {
       "output_type": "stream",
       "stream": "stdout",
       "text": [
        "[##########--------------------------------]  24.7% ... Processing 2945 files\r"
       ]
      },
      {
       "output_type": "stream",
       "stream": "stdout",
       "text": [
        "[##########--------------------------------]  24.8% ... Processing 2945 files\r"
       ]
      },
      {
       "output_type": "stream",
       "stream": "stdout",
       "text": [
        "[##########--------------------------------]  24.8% ... Processing 2945 files\r"
       ]
      },
      {
       "output_type": "stream",
       "stream": "stdout",
       "text": [
        "[##########--------------------------------]  24.8% ... Processing 2945 files\r"
       ]
      },
      {
       "output_type": "stream",
       "stream": "stdout",
       "text": [
        "[##########--------------------------------]  24.9% ... Processing 2945 files\r"
       ]
      },
      {
       "output_type": "stream",
       "stream": "stdout",
       "text": [
        "[##########--------------------------------]  24.9% ... Processing 2945 files\r"
       ]
      },
      {
       "output_type": "stream",
       "stream": "stdout",
       "text": [
        "[##########--------------------------------]  24.9% ... Processing 2945 files\r"
       ]
      },
      {
       "output_type": "stream",
       "stream": "stdout",
       "text": [
        "[##########--------------------------------]  25.0% ... Processing 2945 files\r"
       ]
      },
      {
       "output_type": "stream",
       "stream": "stdout",
       "text": [
        "[##########--------------------------------]  25.0% ... Processing 2945 files\r"
       ]
      },
      {
       "output_type": "stream",
       "stream": "stdout",
       "text": [
        "[###########-------------------------------]  25.0% ... Processing 2945 files\r"
       ]
      },
      {
       "output_type": "stream",
       "stream": "stdout",
       "text": [
        "[###########-------------------------------]  25.1% ... Processing 2945 files\r"
       ]
      },
      {
       "output_type": "stream",
       "stream": "stdout",
       "text": [
        "[###########-------------------------------]  25.1% ... Processing 2945 files\r"
       ]
      },
      {
       "output_type": "stream",
       "stream": "stdout",
       "text": [
        "[###########-------------------------------]  25.1% ... Processing 2945 files\r"
       ]
      },
      {
       "output_type": "stream",
       "stream": "stdout",
       "text": [
        "[###########-------------------------------]  25.2% ... Processing 2945 files\r"
       ]
      },
      {
       "output_type": "stream",
       "stream": "stdout",
       "text": [
        "[###########-------------------------------]  25.2% ... Processing 2945 files\r"
       ]
      },
      {
       "output_type": "stream",
       "stream": "stdout",
       "text": [
        "[###########-------------------------------]  25.2% ... Processing 2945 files\r"
       ]
      },
      {
       "output_type": "stream",
       "stream": "stdout",
       "text": [
        "[###########-------------------------------]  25.3% ... Processing 2945 files\r"
       ]
      },
      {
       "output_type": "stream",
       "stream": "stdout",
       "text": [
        "[###########-------------------------------]  25.3% ... Processing 2945 files\r"
       ]
      },
      {
       "output_type": "stream",
       "stream": "stdout",
       "text": [
        "[###########-------------------------------]  25.3% ... Processing 2945 files\r"
       ]
      },
      {
       "output_type": "stream",
       "stream": "stdout",
       "text": [
        "[###########-------------------------------]  25.4% ... Processing 2945 files\r"
       ]
      },
      {
       "output_type": "stream",
       "stream": "stdout",
       "text": [
        "[###########-------------------------------]  25.4% ... Processing 2945 files\r"
       ]
      },
      {
       "output_type": "stream",
       "stream": "stdout",
       "text": [
        "[###########-------------------------------]  25.4% ... Processing 2945 files\r"
       ]
      },
      {
       "output_type": "stream",
       "stream": "stdout",
       "text": [
        "[###########-------------------------------]  25.5% ... Processing 2945 files\r"
       ]
      },
      {
       "output_type": "stream",
       "stream": "stdout",
       "text": [
        "[###########-------------------------------]  25.5% ... Processing 2945 files\r"
       ]
      },
      {
       "output_type": "stream",
       "stream": "stdout",
       "text": [
        "[###########-------------------------------]  25.5% ... Processing 2945 files\r"
       ]
      },
      {
       "output_type": "stream",
       "stream": "stdout",
       "text": [
        "[###########-------------------------------]  25.6% ... Processing 2945 files\r"
       ]
      },
      {
       "output_type": "stream",
       "stream": "stdout",
       "text": [
        "[###########-------------------------------]  25.6% ... Processing 2945 files\r"
       ]
      },
      {
       "output_type": "stream",
       "stream": "stdout",
       "text": [
        "[###########-------------------------------]  25.6% ... Processing 2945 files\r"
       ]
      },
      {
       "output_type": "stream",
       "stream": "stdout",
       "text": [
        "[###########-------------------------------]  25.7% ... Processing 2945 files\r"
       ]
      },
      {
       "output_type": "stream",
       "stream": "stdout",
       "text": [
        "[###########-------------------------------]  25.7% ... Processing 2945 files\r"
       ]
      },
      {
       "output_type": "stream",
       "stream": "stdout",
       "text": [
        "[###########-------------------------------]  25.7% ... Processing 2945 files\r"
       ]
      },
      {
       "output_type": "stream",
       "stream": "stdout",
       "text": [
        "[###########-------------------------------]  25.8% ... Processing 2945 files\r"
       ]
      },
      {
       "output_type": "stream",
       "stream": "stdout",
       "text": [
        "[###########-------------------------------]  25.8% ... Processing 2945 files\r"
       ]
      },
      {
       "output_type": "stream",
       "stream": "stdout",
       "text": [
        "[###########-------------------------------]  25.8% ... Processing 2945 files\r"
       ]
      },
      {
       "output_type": "stream",
       "stream": "stdout",
       "text": [
        "[###########-------------------------------]  25.9% ... Processing 2945 files\r"
       ]
      },
      {
       "output_type": "stream",
       "stream": "stdout",
       "text": [
        "[###########-------------------------------]  25.9% ... Processing 2945 files\r"
       ]
      },
      {
       "output_type": "stream",
       "stream": "stdout",
       "text": [
        "[###########-------------------------------]  25.9% ... Processing 2945 files\r"
       ]
      },
      {
       "output_type": "stream",
       "stream": "stdout",
       "text": [
        "[###########-------------------------------]  26.0% ... Processing 2945 files\r"
       ]
      },
      {
       "output_type": "stream",
       "stream": "stdout",
       "text": [
        "[###########-------------------------------]  26.0% ... Processing 2945 files\r"
       ]
      },
      {
       "output_type": "stream",
       "stream": "stdout",
       "text": [
        "[###########-------------------------------]  26.0% ... Processing 2945 files\r"
       ]
      },
      {
       "output_type": "stream",
       "stream": "stdout",
       "text": [
        "[###########-------------------------------]  26.1% ... Processing 2945 files\r"
       ]
      },
      {
       "output_type": "stream",
       "stream": "stdout",
       "text": [
        "[###########-------------------------------]  26.1% ... Processing 2945 files\r"
       ]
      },
      {
       "output_type": "stream",
       "stream": "stdout",
       "text": [
        "[###########-------------------------------]  26.1% ... Processing 2945 files\r"
       ]
      },
      {
       "output_type": "stream",
       "stream": "stdout",
       "text": [
        "[###########-------------------------------]  26.2% ... Processing 2945 files\r"
       ]
      },
      {
       "output_type": "stream",
       "stream": "stdout",
       "text": [
        "[###########-------------------------------]  26.2% ... Processing 2945 files\r"
       ]
      },
      {
       "output_type": "stream",
       "stream": "stdout",
       "text": [
        "[###########-------------------------------]  26.2% ... Processing 2945 files\r"
       ]
      },
      {
       "output_type": "stream",
       "stream": "stdout",
       "text": [
        "[###########-------------------------------]  26.3% ... Processing 2945 files\r"
       ]
      },
      {
       "output_type": "stream",
       "stream": "stdout",
       "text": [
        "[###########-------------------------------]  26.3% ... Processing 2945 files\r"
       ]
      },
      {
       "output_type": "stream",
       "stream": "stdout",
       "text": [
        "[###########-------------------------------]  26.3% ... Processing 2945 files\r"
       ]
      },
      {
       "output_type": "stream",
       "stream": "stdout",
       "text": [
        "[###########-------------------------------]  26.4% ... Processing 2945 files\r"
       ]
      },
      {
       "output_type": "stream",
       "stream": "stdout",
       "text": [
        "[###########-------------------------------]  26.4% ... Processing 2945 files\r"
       ]
      },
      {
       "output_type": "stream",
       "stream": "stdout",
       "text": [
        "[###########-------------------------------]  26.5% ... Processing 2945 files\r"
       ]
      },
      {
       "output_type": "stream",
       "stream": "stdout",
       "text": [
        "[###########-------------------------------]  26.5% ... Processing 2945 files\r"
       ]
      },
      {
       "output_type": "stream",
       "stream": "stdout",
       "text": [
        "[###########-------------------------------]  26.5% ... Processing 2945 files\r"
       ]
      },
      {
       "output_type": "stream",
       "stream": "stdout",
       "text": [
        "[###########-------------------------------]  26.6% ... Processing 2945 files\r"
       ]
      },
      {
       "output_type": "stream",
       "stream": "stdout",
       "text": [
        "[###########-------------------------------]  26.6% ... Processing 2945 files\r"
       ]
      },
      {
       "output_type": "stream",
       "stream": "stdout",
       "text": [
        "[###########-------------------------------]  26.6% ... Processing 2945 files\r"
       ]
      },
      {
       "output_type": "stream",
       "stream": "stdout",
       "text": [
        "[###########-------------------------------]  26.7% ... Processing 2945 files\r"
       ]
      },
      {
       "output_type": "stream",
       "stream": "stdout",
       "text": [
        "[###########-------------------------------]  26.7% ... Processing 2945 files\r"
       ]
      },
      {
       "output_type": "stream",
       "stream": "stdout",
       "text": [
        "[###########-------------------------------]  26.7% ... Processing 2945 files\r"
       ]
      },
      {
       "output_type": "stream",
       "stream": "stdout",
       "text": [
        "[###########-------------------------------]  26.8% ... Processing 2945 files\r"
       ]
      },
      {
       "output_type": "stream",
       "stream": "stdout",
       "text": [
        "[###########-------------------------------]  26.8% ... Processing 2945 files\r"
       ]
      },
      {
       "output_type": "stream",
       "stream": "stdout",
       "text": [
        "[###########-------------------------------]  26.8% ... Processing 2945 files\r"
       ]
      },
      {
       "output_type": "stream",
       "stream": "stdout",
       "text": [
        "[###########-------------------------------]  26.9% ... Processing 2945 files\r"
       ]
      },
      {
       "output_type": "stream",
       "stream": "stdout",
       "text": [
        "[###########-------------------------------]  26.9% ... Processing 2945 files\r"
       ]
      },
      {
       "output_type": "stream",
       "stream": "stdout",
       "text": [
        "[###########-------------------------------]  26.9% ... Processing 2945 files\r"
       ]
      },
      {
       "output_type": "stream",
       "stream": "stdout",
       "text": [
        "[###########-------------------------------]  27.0% ... Processing 2945 files\r"
       ]
      },
      {
       "output_type": "stream",
       "stream": "stdout",
       "text": [
        "[###########-------------------------------]  27.0% ... Processing 2945 files\r"
       ]
      },
      {
       "output_type": "stream",
       "stream": "stdout",
       "text": [
        "[###########-------------------------------]  27.0% ... Processing 2945 files\r"
       ]
      },
      {
       "output_type": "stream",
       "stream": "stdout",
       "text": [
        "[###########-------------------------------]  27.1% ... Processing 2945 files\r"
       ]
      },
      {
       "output_type": "stream",
       "stream": "stdout",
       "text": [
        "[###########-------------------------------]  27.1% ... Processing 2945 files\r"
       ]
      },
      {
       "output_type": "stream",
       "stream": "stdout",
       "text": [
        "[###########-------------------------------]  27.1% ... Processing 2945 files\r"
       ]
      },
      {
       "output_type": "stream",
       "stream": "stdout",
       "text": [
        "[###########-------------------------------]  27.2% ... Processing 2945 files\r"
       ]
      },
      {
       "output_type": "stream",
       "stream": "stdout",
       "text": [
        "[###########-------------------------------]  27.2% ... Processing 2945 files\r"
       ]
      },
      {
       "output_type": "stream",
       "stream": "stdout",
       "text": [
        "[###########-------------------------------]  27.2% ... Processing 2945 files\r"
       ]
      },
      {
       "output_type": "stream",
       "stream": "stdout",
       "text": [
        "[###########-------------------------------]  27.3% ... Processing 2945 files\r"
       ]
      },
      {
       "output_type": "stream",
       "stream": "stdout",
       "text": [
        "[###########-------------------------------]  27.3% ... Processing 2945 files\r"
       ]
      },
      {
       "output_type": "stream",
       "stream": "stdout",
       "text": [
        "[###########-------------------------------]  27.3% ... Processing 2945 files\r"
       ]
      },
      {
       "output_type": "stream",
       "stream": "stdout",
       "text": [
        "[###########-------------------------------]  27.4% ... Processing 2945 files\r"
       ]
      },
      {
       "output_type": "stream",
       "stream": "stdout",
       "text": [
        "[############------------------------------]  27.4% ... Processing 2945 files\r"
       ]
      },
      {
       "output_type": "stream",
       "stream": "stdout",
       "text": [
        "[############------------------------------]  27.4% ... Processing 2945 files\r"
       ]
      },
      {
       "output_type": "stream",
       "stream": "stdout",
       "text": [
        "[############------------------------------]  27.5% ... Processing 2945 files\r"
       ]
      },
      {
       "output_type": "stream",
       "stream": "stdout",
       "text": [
        "[############------------------------------]  27.5% ... Processing 2945 files\r"
       ]
      },
      {
       "output_type": "stream",
       "stream": "stdout",
       "text": [
        "[############------------------------------]  27.5% ... Processing 2945 files\r"
       ]
      },
      {
       "output_type": "stream",
       "stream": "stdout",
       "text": [
        "[############------------------------------]  27.6% ... Processing 2945 files\r"
       ]
      },
      {
       "output_type": "stream",
       "stream": "stdout",
       "text": [
        "[############------------------------------]  27.6% ... Processing 2945 files\r"
       ]
      },
      {
       "output_type": "stream",
       "stream": "stdout",
       "text": [
        "[############------------------------------]  27.6% ... Processing 2945 files\r"
       ]
      },
      {
       "output_type": "stream",
       "stream": "stdout",
       "text": [
        "[############------------------------------]  27.7% ... Processing 2945 files\r"
       ]
      },
      {
       "output_type": "stream",
       "stream": "stdout",
       "text": [
        "[############------------------------------]  27.7% ... Processing 2945 files\r"
       ]
      },
      {
       "output_type": "stream",
       "stream": "stdout",
       "text": [
        "[############------------------------------]  27.7% ... Processing 2945 files\r"
       ]
      },
      {
       "output_type": "stream",
       "stream": "stdout",
       "text": [
        "[############------------------------------]  27.8% ... Processing 2945 files\r"
       ]
      },
      {
       "output_type": "stream",
       "stream": "stdout",
       "text": [
        "[############------------------------------]  27.8% ... Processing 2945 files\r"
       ]
      },
      {
       "output_type": "stream",
       "stream": "stdout",
       "text": [
        "[############------------------------------]  27.8% ... Processing 2945 files\r"
       ]
      },
      {
       "output_type": "stream",
       "stream": "stdout",
       "text": [
        "[############------------------------------]  27.9% ... Processing 2945 files\r"
       ]
      },
      {
       "output_type": "stream",
       "stream": "stdout",
       "text": [
        "[############------------------------------]  27.9% ... Processing 2945 files\r"
       ]
      },
      {
       "output_type": "stream",
       "stream": "stdout",
       "text": [
        "[############------------------------------]  27.9% ... Processing 2945 files\r"
       ]
      },
      {
       "output_type": "stream",
       "stream": "stdout",
       "text": [
        "[############------------------------------]  28.0% ... Processing 2945 files\r"
       ]
      },
      {
       "output_type": "stream",
       "stream": "stdout",
       "text": [
        "[############------------------------------]  28.0% ... Processing 2945 files\r"
       ]
      },
      {
       "output_type": "stream",
       "stream": "stdout",
       "text": [
        "[############------------------------------]  28.0% ... Processing 2945 files\r"
       ]
      },
      {
       "output_type": "stream",
       "stream": "stdout",
       "text": [
        "[############------------------------------]  28.1% ... Processing 2945 files\r"
       ]
      },
      {
       "output_type": "stream",
       "stream": "stdout",
       "text": [
        "[############------------------------------]  28.1% ... Processing 2945 files\r"
       ]
      },
      {
       "output_type": "stream",
       "stream": "stdout",
       "text": [
        "[############------------------------------]  28.1% ... Processing 2945 files\r"
       ]
      },
      {
       "output_type": "stream",
       "stream": "stdout",
       "text": [
        "[############------------------------------]  28.2% ... Processing 2945 files\r"
       ]
      },
      {
       "output_type": "stream",
       "stream": "stdout",
       "text": [
        "[############------------------------------]  28.2% ... Processing 2945 files\r"
       ]
      },
      {
       "output_type": "stream",
       "stream": "stdout",
       "text": [
        "[############------------------------------]  28.3% ... Processing 2945 files\r"
       ]
      },
      {
       "output_type": "stream",
       "stream": "stdout",
       "text": [
        "[############------------------------------]  28.3% ... Processing 2945 files\r"
       ]
      },
      {
       "output_type": "stream",
       "stream": "stdout",
       "text": [
        "[############------------------------------]  28.3% ... Processing 2945 files\r"
       ]
      },
      {
       "output_type": "stream",
       "stream": "stdout",
       "text": [
        "[############------------------------------]  28.4% ... Processing 2945 files\r"
       ]
      },
      {
       "output_type": "stream",
       "stream": "stdout",
       "text": [
        "[############------------------------------]  28.4% ... Processing 2945 files\r"
       ]
      },
      {
       "output_type": "stream",
       "stream": "stdout",
       "text": [
        "[############------------------------------]  28.4% ... Processing 2945 files\r"
       ]
      },
      {
       "output_type": "stream",
       "stream": "stdout",
       "text": [
        "[############------------------------------]  28.5% ... Processing 2945 files\r"
       ]
      },
      {
       "output_type": "stream",
       "stream": "stdout",
       "text": [
        "[############------------------------------]  28.5% ... Processing 2945 files\r"
       ]
      },
      {
       "output_type": "stream",
       "stream": "stdout",
       "text": [
        "[############------------------------------]  28.5% ... Processing 2945 files\r"
       ]
      },
      {
       "output_type": "stream",
       "stream": "stdout",
       "text": [
        "[############------------------------------]  28.6% ... Processing 2945 files\r"
       ]
      },
      {
       "output_type": "stream",
       "stream": "stdout",
       "text": [
        "[############------------------------------]  28.6% ... Processing 2945 files\r"
       ]
      },
      {
       "output_type": "stream",
       "stream": "stdout",
       "text": [
        "[############------------------------------]  28.6% ... Processing 2945 files\r"
       ]
      },
      {
       "output_type": "stream",
       "stream": "stdout",
       "text": [
        "[############------------------------------]  28.7% ... Processing 2945 files\r"
       ]
      },
      {
       "output_type": "stream",
       "stream": "stdout",
       "text": [
        "[############------------------------------]  28.7% ... Processing 2945 files\r"
       ]
      },
      {
       "output_type": "stream",
       "stream": "stdout",
       "text": [
        "[############------------------------------]  28.7% ... Processing 2945 files\r"
       ]
      },
      {
       "output_type": "stream",
       "stream": "stdout",
       "text": [
        "[############------------------------------]  28.8% ... Processing 2945 files\r"
       ]
      },
      {
       "output_type": "stream",
       "stream": "stdout",
       "text": [
        "[############------------------------------]  28.8% ... Processing 2945 files\r"
       ]
      },
      {
       "output_type": "stream",
       "stream": "stdout",
       "text": [
        "[############------------------------------]  28.8% ... Processing 2945 files\r"
       ]
      },
      {
       "output_type": "stream",
       "stream": "stdout",
       "text": [
        "[############------------------------------]  28.9% ... Processing 2945 files\r"
       ]
      },
      {
       "output_type": "stream",
       "stream": "stdout",
       "text": [
        "[############------------------------------]  28.9% ... Processing 2945 files\r"
       ]
      },
      {
       "output_type": "stream",
       "stream": "stdout",
       "text": [
        "[############------------------------------]  28.9% ... Processing 2945 files\r"
       ]
      },
      {
       "output_type": "stream",
       "stream": "stdout",
       "text": [
        "[############------------------------------]  29.0% ... Processing 2945 files\r"
       ]
      },
      {
       "output_type": "stream",
       "stream": "stdout",
       "text": [
        "[############------------------------------]  29.0% ... Processing 2945 files\r"
       ]
      },
      {
       "output_type": "stream",
       "stream": "stdout",
       "text": [
        "[############------------------------------]  29.0% ... Processing 2945 files\r"
       ]
      },
      {
       "output_type": "stream",
       "stream": "stdout",
       "text": [
        "[############------------------------------]  29.1% ... Processing 2945 files\r"
       ]
      },
      {
       "output_type": "stream",
       "stream": "stdout",
       "text": [
        "[############------------------------------]  29.1% ... Processing 2945 files\r"
       ]
      },
      {
       "output_type": "stream",
       "stream": "stdout",
       "text": [
        "[############------------------------------]  29.1% ... Processing 2945 files\r"
       ]
      },
      {
       "output_type": "stream",
       "stream": "stdout",
       "text": [
        "[############------------------------------]  29.2% ... Processing 2945 files\r"
       ]
      },
      {
       "output_type": "stream",
       "stream": "stdout",
       "text": [
        "[############------------------------------]  29.2% ... Processing 2945 files\r"
       ]
      },
      {
       "output_type": "stream",
       "stream": "stdout",
       "text": [
        "[############------------------------------]  29.2% ... Processing 2945 files\r"
       ]
      },
      {
       "output_type": "stream",
       "stream": "stdout",
       "text": [
        "[############------------------------------]  29.3% ... Processing 2945 files\r"
       ]
      },
      {
       "output_type": "stream",
       "stream": "stdout",
       "text": [
        "[############------------------------------]  29.3% ... Processing 2945 files\r"
       ]
      },
      {
       "output_type": "stream",
       "stream": "stdout",
       "text": [
        "[############------------------------------]  29.3% ... Processing 2945 files\r"
       ]
      },
      {
       "output_type": "stream",
       "stream": "stdout",
       "text": [
        "[############------------------------------]  29.4% ... Processing 2945 files\r"
       ]
      },
      {
       "output_type": "stream",
       "stream": "stdout",
       "text": [
        "[############------------------------------]  29.4% ... Processing 2945 files\r"
       ]
      },
      {
       "output_type": "stream",
       "stream": "stdout",
       "text": [
        "[############------------------------------]  29.4% ... Processing 2945 files\r"
       ]
      },
      {
       "output_type": "stream",
       "stream": "stdout",
       "text": [
        "[############------------------------------]  29.5% ... Processing 2945 files\r"
       ]
      },
      {
       "output_type": "stream",
       "stream": "stdout",
       "text": [
        "[############------------------------------]  29.5% ... Processing 2945 files\r"
       ]
      },
      {
       "output_type": "stream",
       "stream": "stdout",
       "text": [
        "[############------------------------------]  29.5% ... Processing 2945 files\r"
       ]
      },
      {
       "output_type": "stream",
       "stream": "stdout",
       "text": [
        "[############------------------------------]  29.6% ... Processing 2945 files\r"
       ]
      },
      {
       "output_type": "stream",
       "stream": "stdout",
       "text": [
        "[############------------------------------]  29.6% ... Processing 2945 files\r"
       ]
      },
      {
       "output_type": "stream",
       "stream": "stdout",
       "text": [
        "[############------------------------------]  29.6% ... Processing 2945 files\r"
       ]
      },
      {
       "output_type": "stream",
       "stream": "stdout",
       "text": [
        "[############------------------------------]  29.7% ... Processing 2945 files\r"
       ]
      },
      {
       "output_type": "stream",
       "stream": "stdout",
       "text": [
        "[############------------------------------]  29.7% ... Processing 2945 files\r"
       ]
      },
      {
       "output_type": "stream",
       "stream": "stdout",
       "text": [
        "[############------------------------------]  29.7% ... Processing 2945 files\r"
       ]
      },
      {
       "output_type": "stream",
       "stream": "stdout",
       "text": [
        "[#############-----------------------------]  29.8% ... Processing 2945 files\r"
       ]
      },
      {
       "output_type": "stream",
       "stream": "stdout",
       "text": [
        "[#############-----------------------------]  29.8% ... Processing 2945 files\r"
       ]
      },
      {
       "output_type": "stream",
       "stream": "stdout",
       "text": [
        "[#############-----------------------------]  29.8% ... Processing 2945 files\r"
       ]
      },
      {
       "output_type": "stream",
       "stream": "stdout",
       "text": [
        "[#############-----------------------------]  29.9% ... Processing 2945 files\r"
       ]
      },
      {
       "output_type": "stream",
       "stream": "stdout",
       "text": [
        "[#############-----------------------------]  29.9% ... Processing 2945 files\r"
       ]
      },
      {
       "output_type": "stream",
       "stream": "stdout",
       "text": [
        "[#############-----------------------------]  29.9% ... Processing 2945 files\r"
       ]
      },
      {
       "output_type": "stream",
       "stream": "stdout",
       "text": [
        "[#############-----------------------------]  30.0% ... Processing 2945 files\r"
       ]
      },
      {
       "output_type": "stream",
       "stream": "stdout",
       "text": [
        "[#############-----------------------------]  30.0% ... Processing 2945 files\r"
       ]
      },
      {
       "output_type": "stream",
       "stream": "stdout",
       "text": [
        "[#############-----------------------------]  30.1% ... Processing 2945 files\r"
       ]
      },
      {
       "output_type": "stream",
       "stream": "stdout",
       "text": [
        "[#############-----------------------------]  30.1% ... Processing 2945 files\r"
       ]
      },
      {
       "output_type": "stream",
       "stream": "stdout",
       "text": [
        "[#############-----------------------------]  30.1% ... Processing 2945 files\r"
       ]
      },
      {
       "output_type": "stream",
       "stream": "stdout",
       "text": [
        "[#############-----------------------------]  30.2% ... Processing 2945 files\r"
       ]
      },
      {
       "output_type": "stream",
       "stream": "stdout",
       "text": [
        "[#############-----------------------------]  30.2% ... Processing 2945 files\r"
       ]
      },
      {
       "output_type": "stream",
       "stream": "stdout",
       "text": [
        "[#############-----------------------------]  30.2% ... Processing 2945 files\r"
       ]
      },
      {
       "output_type": "stream",
       "stream": "stdout",
       "text": [
        "[#############-----------------------------]  30.3% ... Processing 2945 files\r"
       ]
      },
      {
       "output_type": "stream",
       "stream": "stdout",
       "text": [
        "[#############-----------------------------]  30.3% ... Processing 2945 files\r"
       ]
      },
      {
       "output_type": "stream",
       "stream": "stdout",
       "text": [
        "[#############-----------------------------]  30.3% ... Processing 2945 files\r"
       ]
      },
      {
       "output_type": "stream",
       "stream": "stdout",
       "text": [
        "[#############-----------------------------]  30.4% ... Processing 2945 files\r"
       ]
      },
      {
       "output_type": "stream",
       "stream": "stdout",
       "text": [
        "[#############-----------------------------]  30.4% ... Processing 2945 files\r"
       ]
      },
      {
       "output_type": "stream",
       "stream": "stdout",
       "text": [
        "[#############-----------------------------]  30.4% ... Processing 2945 files\r"
       ]
      },
      {
       "output_type": "stream",
       "stream": "stdout",
       "text": [
        "[#############-----------------------------]  30.5% ... Processing 2945 files\r"
       ]
      },
      {
       "output_type": "stream",
       "stream": "stdout",
       "text": [
        "[#############-----------------------------]  30.5% ... Processing 2945 files\r"
       ]
      },
      {
       "output_type": "stream",
       "stream": "stdout",
       "text": [
        "[#############-----------------------------]  30.5% ... Processing 2945 files\r"
       ]
      },
      {
       "output_type": "stream",
       "stream": "stdout",
       "text": [
        "[#############-----------------------------]  30.6% ... Processing 2945 files\r"
       ]
      },
      {
       "output_type": "stream",
       "stream": "stdout",
       "text": [
        "[#############-----------------------------]  30.6% ... Processing 2945 files\r"
       ]
      },
      {
       "output_type": "stream",
       "stream": "stdout",
       "text": [
        "[#############-----------------------------]  30.6% ... Processing 2945 files\r"
       ]
      },
      {
       "output_type": "stream",
       "stream": "stdout",
       "text": [
        "[#############-----------------------------]  30.7% ... Processing 2945 files\r"
       ]
      },
      {
       "output_type": "stream",
       "stream": "stdout",
       "text": [
        "[#############-----------------------------]  30.7% ... Processing 2945 files\r"
       ]
      },
      {
       "output_type": "stream",
       "stream": "stdout",
       "text": [
        "[#############-----------------------------]  30.7% ... Processing 2945 files\r"
       ]
      },
      {
       "output_type": "stream",
       "stream": "stdout",
       "text": [
        "[#############-----------------------------]  30.8% ... Processing 2945 files\r"
       ]
      },
      {
       "output_type": "stream",
       "stream": "stdout",
       "text": [
        "[#############-----------------------------]  30.8% ... Processing 2945 files\r"
       ]
      },
      {
       "output_type": "stream",
       "stream": "stdout",
       "text": [
        "[#############-----------------------------]  30.8% ... Processing 2945 files\r"
       ]
      },
      {
       "output_type": "stream",
       "stream": "stdout",
       "text": [
        "[#############-----------------------------]  30.9% ... Processing 2945 files\r"
       ]
      },
      {
       "output_type": "stream",
       "stream": "stdout",
       "text": [
        "[#############-----------------------------]  30.9% ... Processing 2945 files\r"
       ]
      },
      {
       "output_type": "stream",
       "stream": "stdout",
       "text": [
        "[#############-----------------------------]  30.9% ... Processing 2945 files\r"
       ]
      },
      {
       "output_type": "stream",
       "stream": "stdout",
       "text": [
        "[#############-----------------------------]  31.0% ... Processing 2945 files\r"
       ]
      },
      {
       "output_type": "stream",
       "stream": "stdout",
       "text": [
        "[#############-----------------------------]  31.0% ... Processing 2945 files\r"
       ]
      },
      {
       "output_type": "stream",
       "stream": "stdout",
       "text": [
        "[#############-----------------------------]  31.0% ... Processing 2945 files\r"
       ]
      },
      {
       "output_type": "stream",
       "stream": "stdout",
       "text": [
        "[#############-----------------------------]  31.1% ... Processing 2945 files\r"
       ]
      },
      {
       "output_type": "stream",
       "stream": "stdout",
       "text": [
        "[#############-----------------------------]  31.1% ... Processing 2945 files\r"
       ]
      },
      {
       "output_type": "stream",
       "stream": "stdout",
       "text": [
        "[#############-----------------------------]  31.1% ... Processing 2945 files\r"
       ]
      },
      {
       "output_type": "stream",
       "stream": "stdout",
       "text": [
        "[#############-----------------------------]  31.2% ... Processing 2945 files\r"
       ]
      },
      {
       "output_type": "stream",
       "stream": "stdout",
       "text": [
        "[#############-----------------------------]  31.2% ... Processing 2945 files\r"
       ]
      },
      {
       "output_type": "stream",
       "stream": "stdout",
       "text": [
        "[#############-----------------------------]  31.2% ... Processing 2945 files\r"
       ]
      },
      {
       "output_type": "stream",
       "stream": "stdout",
       "text": [
        "[#############-----------------------------]  31.3% ... Processing 2945 files\r"
       ]
      },
      {
       "output_type": "stream",
       "stream": "stdout",
       "text": [
        "[#############-----------------------------]  31.3% ... Processing 2945 files\r"
       ]
      },
      {
       "output_type": "stream",
       "stream": "stdout",
       "text": [
        "[#############-----------------------------]  31.3% ... Processing 2945 files\r"
       ]
      },
      {
       "output_type": "stream",
       "stream": "stdout",
       "text": [
        "[#############-----------------------------]  31.4% ... Processing 2945 files\r"
       ]
      },
      {
       "output_type": "stream",
       "stream": "stdout",
       "text": [
        "[#############-----------------------------]  31.4% ... Processing 2945 files\r"
       ]
      },
      {
       "output_type": "stream",
       "stream": "stdout",
       "text": [
        "[#############-----------------------------]  31.4% ... Processing 2945 files\r"
       ]
      },
      {
       "output_type": "stream",
       "stream": "stdout",
       "text": [
        "[#############-----------------------------]  31.5% ... Processing 2945 files\r"
       ]
      },
      {
       "output_type": "stream",
       "stream": "stdout",
       "text": [
        "[#############-----------------------------]  31.5% ... Processing 2945 files\r"
       ]
      },
      {
       "output_type": "stream",
       "stream": "stdout",
       "text": [
        "[#############-----------------------------]  31.5% ... Processing 2945 files\r"
       ]
      },
      {
       "output_type": "stream",
       "stream": "stdout",
       "text": [
        "[#############-----------------------------]  31.6% ... Processing 2945 files\r"
       ]
      },
      {
       "output_type": "stream",
       "stream": "stdout",
       "text": [
        "[#############-----------------------------]  31.6% ... Processing 2945 files\r"
       ]
      },
      {
       "output_type": "stream",
       "stream": "stdout",
       "text": [
        "[#############-----------------------------]  31.6% ... Processing 2945 files\r"
       ]
      },
      {
       "output_type": "stream",
       "stream": "stdout",
       "text": [
        "[#############-----------------------------]  31.7% ... Processing 2945 files\r"
       ]
      },
      {
       "output_type": "stream",
       "stream": "stdout",
       "text": [
        "[#############-----------------------------]  31.7% ... Processing 2945 files\r"
       ]
      },
      {
       "output_type": "stream",
       "stream": "stdout",
       "text": [
        "[#############-----------------------------]  31.7% ... Processing 2945 files\r"
       ]
      },
      {
       "output_type": "stream",
       "stream": "stdout",
       "text": [
        "[#############-----------------------------]  31.8% ... Processing 2945 files\r"
       ]
      },
      {
       "output_type": "stream",
       "stream": "stdout",
       "text": [
        "[#############-----------------------------]  31.8% ... Processing 2945 files\r"
       ]
      },
      {
       "output_type": "stream",
       "stream": "stdout",
       "text": [
        "[#############-----------------------------]  31.9% ... Processing 2945 files\r"
       ]
      },
      {
       "output_type": "stream",
       "stream": "stdout",
       "text": [
        "[#############-----------------------------]  31.9% ... Processing 2945 files\r"
       ]
      },
      {
       "output_type": "stream",
       "stream": "stdout",
       "text": [
        "[#############-----------------------------]  31.9% ... Processing 2945 files\r"
       ]
      },
      {
       "output_type": "stream",
       "stream": "stdout",
       "text": [
        "[#############-----------------------------]  32.0% ... Processing 2945 files\r"
       ]
      },
      {
       "output_type": "stream",
       "stream": "stdout",
       "text": [
        "[#############-----------------------------]  32.0% ... Processing 2945 files\r"
       ]
      },
      {
       "output_type": "stream",
       "stream": "stdout",
       "text": [
        "[#############-----------------------------]  32.0% ... Processing 2945 files\r"
       ]
      },
      {
       "output_type": "stream",
       "stream": "stdout",
       "text": [
        "[#############-----------------------------]  32.1% ... Processing 2945 files\r"
       ]
      },
      {
       "output_type": "stream",
       "stream": "stdout",
       "text": [
        "[#############-----------------------------]  32.1% ... Processing 2945 files\r"
       ]
      },
      {
       "output_type": "stream",
       "stream": "stdout",
       "text": [
        "[#############-----------------------------]  32.1% ... Processing 2945 files\r"
       ]
      },
      {
       "output_type": "stream",
       "stream": "stdout",
       "text": [
        "[##############----------------------------]  32.2% ... Processing 2945 files\r"
       ]
      },
      {
       "output_type": "stream",
       "stream": "stdout",
       "text": [
        "[##############----------------------------]  32.2% ... Processing 2945 files\r"
       ]
      },
      {
       "output_type": "stream",
       "stream": "stdout",
       "text": [
        "[##############----------------------------]  32.2% ... Processing 2945 files\r"
       ]
      },
      {
       "output_type": "stream",
       "stream": "stdout",
       "text": [
        "[##############----------------------------]  32.3% ... Processing 2945 files\r"
       ]
      },
      {
       "output_type": "stream",
       "stream": "stdout",
       "text": [
        "[##############----------------------------]  32.3% ... Processing 2945 files\r"
       ]
      },
      {
       "output_type": "stream",
       "stream": "stdout",
       "text": [
        "[##############----------------------------]  32.3% ... Processing 2945 files\r"
       ]
      },
      {
       "output_type": "stream",
       "stream": "stdout",
       "text": [
        "[##############----------------------------]  32.4% ... Processing 2945 files\r"
       ]
      },
      {
       "output_type": "stream",
       "stream": "stdout",
       "text": [
        "[##############----------------------------]  32.4% ... Processing 2945 files\r"
       ]
      },
      {
       "output_type": "stream",
       "stream": "stdout",
       "text": [
        "[##############----------------------------]  32.4% ... Processing 2945 files\r"
       ]
      },
      {
       "output_type": "stream",
       "stream": "stdout",
       "text": [
        "[##############----------------------------]  32.5% ... Processing 2945 files\r"
       ]
      },
      {
       "output_type": "stream",
       "stream": "stdout",
       "text": [
        "[##############----------------------------]  32.5% ... Processing 2945 files\r"
       ]
      },
      {
       "output_type": "stream",
       "stream": "stdout",
       "text": [
        "[##############----------------------------]  32.5% ... Processing 2945 files\r"
       ]
      },
      {
       "output_type": "stream",
       "stream": "stdout",
       "text": [
        "[##############----------------------------]  32.6% ... Processing 2945 files\r"
       ]
      },
      {
       "output_type": "stream",
       "stream": "stdout",
       "text": [
        "[##############----------------------------]  32.6% ... Processing 2945 files\r"
       ]
      },
      {
       "output_type": "stream",
       "stream": "stdout",
       "text": [
        "[##############----------------------------]  32.6% ... Processing 2945 files\r"
       ]
      },
      {
       "output_type": "stream",
       "stream": "stdout",
       "text": [
        "[##############----------------------------]  32.7% ... Processing 2945 files\r"
       ]
      },
      {
       "output_type": "stream",
       "stream": "stdout",
       "text": [
        "[##############----------------------------]  32.7% ... Processing 2945 files\r"
       ]
      },
      {
       "output_type": "stream",
       "stream": "stdout",
       "text": [
        "[##############----------------------------]  32.7% ... Processing 2945 files\r"
       ]
      },
      {
       "output_type": "stream",
       "stream": "stdout",
       "text": [
        "[##############----------------------------]  32.8% ... Processing 2945 files\r"
       ]
      },
      {
       "output_type": "stream",
       "stream": "stdout",
       "text": [
        "[##############----------------------------]  32.8% ... Processing 2945 files\r"
       ]
      },
      {
       "output_type": "stream",
       "stream": "stdout",
       "text": [
        "[##############----------------------------]  32.8% ... Processing 2945 files\r"
       ]
      },
      {
       "output_type": "stream",
       "stream": "stdout",
       "text": [
        "[##############----------------------------]  32.9% ... Processing 2945 files\r"
       ]
      },
      {
       "output_type": "stream",
       "stream": "stdout",
       "text": [
        "[##############----------------------------]  32.9% ... Processing 2945 files\r"
       ]
      },
      {
       "output_type": "stream",
       "stream": "stdout",
       "text": [
        "[##############----------------------------]  32.9% ... Processing 2945 files\r"
       ]
      },
      {
       "output_type": "stream",
       "stream": "stdout",
       "text": [
        "[##############----------------------------]  33.0% ... Processing 2945 files\r"
       ]
      },
      {
       "output_type": "stream",
       "stream": "stdout",
       "text": [
        "[##############----------------------------]  33.0% ... Processing 2945 files\r"
       ]
      },
      {
       "output_type": "stream",
       "stream": "stdout",
       "text": [
        "[##############----------------------------]  33.0% ... Processing 2945 files\r"
       ]
      },
      {
       "output_type": "stream",
       "stream": "stdout",
       "text": [
        "[##############----------------------------]  33.1% ... Processing 2945 files\r"
       ]
      },
      {
       "output_type": "stream",
       "stream": "stdout",
       "text": [
        "[##############----------------------------]  33.1% ... Processing 2945 files\r"
       ]
      },
      {
       "output_type": "stream",
       "stream": "stdout",
       "text": [
        "[##############----------------------------]  33.1% ... Processing 2945 files\r"
       ]
      },
      {
       "output_type": "stream",
       "stream": "stdout",
       "text": [
        "[##############----------------------------]  33.2% ... Processing 2945 files\r"
       ]
      },
      {
       "output_type": "stream",
       "stream": "stdout",
       "text": [
        "[##############----------------------------]  33.2% ... Processing 2945 files\r"
       ]
      },
      {
       "output_type": "stream",
       "stream": "stdout",
       "text": [
        "[##############----------------------------]  33.2% ... Processing 2945 files\r"
       ]
      },
      {
       "output_type": "stream",
       "stream": "stdout",
       "text": [
        "[##############----------------------------]  33.3% ... Processing 2945 files\r"
       ]
      },
      {
       "output_type": "stream",
       "stream": "stdout",
       "text": [
        "[##############----------------------------]  33.3% ... Processing 2945 files\r"
       ]
      },
      {
       "output_type": "stream",
       "stream": "stdout",
       "text": [
        "[##############----------------------------]  33.3% ... Processing 2945 files\r"
       ]
      },
      {
       "output_type": "stream",
       "stream": "stdout",
       "text": [
        "[##############----------------------------]  33.4% ... Processing 2945 files\r"
       ]
      },
      {
       "output_type": "stream",
       "stream": "stdout",
       "text": [
        "[##############----------------------------]  33.4% ... Processing 2945 files\r"
       ]
      },
      {
       "output_type": "stream",
       "stream": "stdout",
       "text": [
        "[##############----------------------------]  33.4% ... Processing 2945 files\r"
       ]
      },
      {
       "output_type": "stream",
       "stream": "stdout",
       "text": [
        "[##############----------------------------]  33.5% ... Processing 2945 files\r"
       ]
      },
      {
       "output_type": "stream",
       "stream": "stdout",
       "text": [
        "[##############----------------------------]  33.5% ... Processing 2945 files\r"
       ]
      },
      {
       "output_type": "stream",
       "stream": "stdout",
       "text": [
        "[##############----------------------------]  33.5% ... Processing 2945 files\r"
       ]
      },
      {
       "output_type": "stream",
       "stream": "stdout",
       "text": [
        "[##############----------------------------]  33.6% ... Processing 2945 files\r"
       ]
      },
      {
       "output_type": "stream",
       "stream": "stdout",
       "text": [
        "[##############----------------------------]  33.6% ... Processing 2945 files\r"
       ]
      },
      {
       "output_type": "stream",
       "stream": "stdout",
       "text": [
        "[##############----------------------------]  33.7% ... Processing 2945 files\r"
       ]
      },
      {
       "output_type": "stream",
       "stream": "stdout",
       "text": [
        "[##############----------------------------]  33.7% ... Processing 2945 files\r"
       ]
      },
      {
       "output_type": "stream",
       "stream": "stdout",
       "text": [
        "[##############----------------------------]  33.7% ... Processing 2945 files\r"
       ]
      },
      {
       "output_type": "stream",
       "stream": "stdout",
       "text": [
        "[##############----------------------------]  33.8% ... Processing 2945 files\r"
       ]
      },
      {
       "output_type": "stream",
       "stream": "stdout",
       "text": [
        "[##############----------------------------]  33.8% ... Processing 2945 files\r"
       ]
      },
      {
       "output_type": "stream",
       "stream": "stdout",
       "text": [
        "[##############----------------------------]  33.8% ... Processing 2945 files\r"
       ]
      },
      {
       "output_type": "stream",
       "stream": "stdout",
       "text": [
        "[##############----------------------------]  33.9% ... Processing 2945 files\r"
       ]
      },
      {
       "output_type": "stream",
       "stream": "stdout",
       "text": [
        "[##############----------------------------]  33.9% ... Processing 2945 files\r"
       ]
      },
      {
       "output_type": "stream",
       "stream": "stdout",
       "text": [
        "[##############----------------------------]  33.9% ... Processing 2945 files\r"
       ]
      },
      {
       "output_type": "stream",
       "stream": "stdout",
       "text": [
        "[##############----------------------------]  34.0% ... Processing 2945 files\r"
       ]
      },
      {
       "output_type": "stream",
       "stream": "stdout",
       "text": [
        "[##############----------------------------]  34.0% ... Processing 2945 files\r"
       ]
      },
      {
       "output_type": "stream",
       "stream": "stdout",
       "text": [
        "[##############----------------------------]  34.0% ... Processing 2945 files\r"
       ]
      },
      {
       "output_type": "stream",
       "stream": "stdout",
       "text": [
        "[##############----------------------------]  34.1% ... Processing 2945 files\r"
       ]
      },
      {
       "output_type": "stream",
       "stream": "stdout",
       "text": [
        "[##############----------------------------]  34.1% ... Processing 2945 files\r"
       ]
      },
      {
       "output_type": "stream",
       "stream": "stdout",
       "text": [
        "[##############----------------------------]  34.1% ... Processing 2945 files\r"
       ]
      },
      {
       "output_type": "stream",
       "stream": "stdout",
       "text": [
        "[##############----------------------------]  34.2% ... Processing 2945 files\r"
       ]
      },
      {
       "output_type": "stream",
       "stream": "stdout",
       "text": [
        "[##############----------------------------]  34.2% ... Processing 2945 files\r"
       ]
      },
      {
       "output_type": "stream",
       "stream": "stdout",
       "text": [
        "[##############----------------------------]  34.2% ... Processing 2945 files\r"
       ]
      },
      {
       "output_type": "stream",
       "stream": "stdout",
       "text": [
        "[##############----------------------------]  34.3% ... Processing 2945 files\r"
       ]
      },
      {
       "output_type": "stream",
       "stream": "stdout",
       "text": [
        "[##############----------------------------]  34.3% ... Processing 2945 files\r"
       ]
      },
      {
       "output_type": "stream",
       "stream": "stdout",
       "text": [
        "[##############----------------------------]  34.3% ... Processing 2945 files\r"
       ]
      },
      {
       "output_type": "stream",
       "stream": "stdout",
       "text": [
        "[##############----------------------------]  34.4% ... Processing 2945 files\r"
       ]
      },
      {
       "output_type": "stream",
       "stream": "stdout",
       "text": [
        "[##############----------------------------]  34.4% ... Processing 2945 files\r"
       ]
      },
      {
       "output_type": "stream",
       "stream": "stdout",
       "text": [
        "[##############----------------------------]  34.4% ... Processing 2945 files\r"
       ]
      },
      {
       "output_type": "stream",
       "stream": "stdout",
       "text": [
        "[##############----------------------------]  34.5% ... Processing 2945 files\r"
       ]
      },
      {
       "output_type": "stream",
       "stream": "stdout",
       "text": [
        "[##############----------------------------]  34.5% ... Processing 2945 files\r"
       ]
      },
      {
       "output_type": "stream",
       "stream": "stdout",
       "text": [
        "[###############---------------------------]  34.5% ... Processing 2945 files\r"
       ]
      },
      {
       "output_type": "stream",
       "stream": "stdout",
       "text": [
        "[###############---------------------------]  34.6% ... Processing 2945 files\r"
       ]
      },
      {
       "output_type": "stream",
       "stream": "stdout",
       "text": [
        "[###############---------------------------]  34.6% ... Processing 2945 files\r"
       ]
      },
      {
       "output_type": "stream",
       "stream": "stdout",
       "text": [
        "[###############---------------------------]  34.6% ... Processing 2945 files\r"
       ]
      },
      {
       "output_type": "stream",
       "stream": "stdout",
       "text": [
        "[###############---------------------------]  34.7% ... Processing 2945 files\r"
       ]
      },
      {
       "output_type": "stream",
       "stream": "stdout",
       "text": [
        "[###############---------------------------]  34.7% ... Processing 2945 files\r"
       ]
      },
      {
       "output_type": "stream",
       "stream": "stdout",
       "text": [
        "[###############---------------------------]  34.7% ... Processing 2945 files\r"
       ]
      },
      {
       "output_type": "stream",
       "stream": "stdout",
       "text": [
        "[###############---------------------------]  34.8% ... Processing 2945 files\r"
       ]
      },
      {
       "output_type": "stream",
       "stream": "stdout",
       "text": [
        "[###############---------------------------]  34.8% ... Processing 2945 files\r"
       ]
      },
      {
       "output_type": "stream",
       "stream": "stdout",
       "text": [
        "[###############---------------------------]  34.8% ... Processing 2945 files\r"
       ]
      },
      {
       "output_type": "stream",
       "stream": "stdout",
       "text": [
        "[###############---------------------------]  34.9% ... Processing 2945 files\r"
       ]
      },
      {
       "output_type": "stream",
       "stream": "stdout",
       "text": [
        "[###############---------------------------]  34.9% ... Processing 2945 files\r"
       ]
      },
      {
       "output_type": "stream",
       "stream": "stdout",
       "text": [
        "[###############---------------------------]  34.9% ... Processing 2945 files\r"
       ]
      },
      {
       "output_type": "stream",
       "stream": "stdout",
       "text": [
        "[###############---------------------------]  35.0% ... Processing 2945 files\r"
       ]
      },
      {
       "output_type": "stream",
       "stream": "stdout",
       "text": [
        "[###############---------------------------]  35.0% ... Processing 2945 files\r"
       ]
      },
      {
       "output_type": "stream",
       "stream": "stdout",
       "text": [
        "[###############---------------------------]  35.0% ... Processing 2945 files\r"
       ]
      },
      {
       "output_type": "stream",
       "stream": "stdout",
       "text": [
        "[###############---------------------------]  35.1% ... Processing 2945 files\r"
       ]
      },
      {
       "output_type": "stream",
       "stream": "stdout",
       "text": [
        "[###############---------------------------]  35.1% ... Processing 2945 files\r"
       ]
      },
      {
       "output_type": "stream",
       "stream": "stdout",
       "text": [
        "[###############---------------------------]  35.1% ... Processing 2945 files\r"
       ]
      },
      {
       "output_type": "stream",
       "stream": "stdout",
       "text": [
        "[###############---------------------------]  35.2% ... Processing 2945 files\r"
       ]
      },
      {
       "output_type": "stream",
       "stream": "stdout",
       "text": [
        "[###############---------------------------]  35.2% ... Processing 2945 files\r"
       ]
      },
      {
       "output_type": "stream",
       "stream": "stdout",
       "text": [
        "[###############---------------------------]  35.2% ... Processing 2945 files\r"
       ]
      },
      {
       "output_type": "stream",
       "stream": "stdout",
       "text": [
        "[###############---------------------------]  35.3% ... Processing 2945 files\r"
       ]
      },
      {
       "output_type": "stream",
       "stream": "stdout",
       "text": [
        "[###############---------------------------]  35.3% ... Processing 2945 files\r"
       ]
      },
      {
       "output_type": "stream",
       "stream": "stdout",
       "text": [
        "[###############---------------------------]  35.3% ... Processing 2945 files\r"
       ]
      },
      {
       "output_type": "stream",
       "stream": "stdout",
       "text": [
        "[###############---------------------------]  35.4% ... Processing 2945 files\r"
       ]
      },
      {
       "output_type": "stream",
       "stream": "stdout",
       "text": [
        "[###############---------------------------]  35.4% ... Processing 2945 files\r"
       ]
      },
      {
       "output_type": "stream",
       "stream": "stdout",
       "text": [
        "[###############---------------------------]  35.4% ... Processing 2945 files\r"
       ]
      },
      {
       "output_type": "stream",
       "stream": "stdout",
       "text": [
        "[###############---------------------------]  35.5% ... Processing 2945 files\r"
       ]
      },
      {
       "output_type": "stream",
       "stream": "stdout",
       "text": [
        "[###############---------------------------]  35.5% ... Processing 2945 files\r"
       ]
      },
      {
       "output_type": "stream",
       "stream": "stdout",
       "text": [
        "[###############---------------------------]  35.6% ... Processing 2945 files\r"
       ]
      },
      {
       "output_type": "stream",
       "stream": "stdout",
       "text": [
        "[###############---------------------------]  35.6% ... Processing 2945 files\r"
       ]
      },
      {
       "output_type": "stream",
       "stream": "stdout",
       "text": [
        "[###############---------------------------]  35.6% ... Processing 2945 files\r"
       ]
      },
      {
       "output_type": "stream",
       "stream": "stdout",
       "text": [
        "[###############---------------------------]  35.7% ... Processing 2945 files\r"
       ]
      },
      {
       "output_type": "stream",
       "stream": "stdout",
       "text": [
        "[###############---------------------------]  35.7% ... Processing 2945 files\r"
       ]
      },
      {
       "output_type": "stream",
       "stream": "stdout",
       "text": [
        "[###############---------------------------]  35.7% ... Processing 2945 files\r"
       ]
      },
      {
       "output_type": "stream",
       "stream": "stdout",
       "text": [
        "[###############---------------------------]  35.8% ... Processing 2945 files\r"
       ]
      },
      {
       "output_type": "stream",
       "stream": "stdout",
       "text": [
        "[###############---------------------------]  35.8% ... Processing 2945 files\r"
       ]
      },
      {
       "output_type": "stream",
       "stream": "stdout",
       "text": [
        "[###############---------------------------]  35.8% ... Processing 2945 files\r"
       ]
      },
      {
       "output_type": "stream",
       "stream": "stdout",
       "text": [
        "[###############---------------------------]  35.9% ... Processing 2945 files\r"
       ]
      },
      {
       "output_type": "stream",
       "stream": "stdout",
       "text": [
        "[###############---------------------------]  35.9% ... Processing 2945 files\r"
       ]
      },
      {
       "output_type": "stream",
       "stream": "stdout",
       "text": [
        "[###############---------------------------]  35.9% ... Processing 2945 files\r"
       ]
      },
      {
       "output_type": "stream",
       "stream": "stdout",
       "text": [
        "[###############---------------------------]  36.0% ... Processing 2945 files\r"
       ]
      },
      {
       "output_type": "stream",
       "stream": "stdout",
       "text": [
        "[###############---------------------------]  36.0% ... Processing 2945 files\r"
       ]
      },
      {
       "output_type": "stream",
       "stream": "stdout",
       "text": [
        "[###############---------------------------]  36.0% ... Processing 2945 files\r"
       ]
      },
      {
       "output_type": "stream",
       "stream": "stdout",
       "text": [
        "[###############---------------------------]  36.1% ... Processing 2945 files\r"
       ]
      },
      {
       "output_type": "stream",
       "stream": "stdout",
       "text": [
        "[###############---------------------------]  36.1% ... Processing 2945 files\r"
       ]
      },
      {
       "output_type": "stream",
       "stream": "stdout",
       "text": [
        "[###############---------------------------]  36.1% ... Processing 2945 files\r"
       ]
      },
      {
       "output_type": "stream",
       "stream": "stdout",
       "text": [
        "[###############---------------------------]  36.2% ... Processing 2945 files\r"
       ]
      },
      {
       "output_type": "stream",
       "stream": "stdout",
       "text": [
        "[###############---------------------------]  36.2% ... Processing 2945 files\r"
       ]
      },
      {
       "output_type": "stream",
       "stream": "stdout",
       "text": [
        "[###############---------------------------]  36.2% ... Processing 2945 files\r"
       ]
      },
      {
       "output_type": "stream",
       "stream": "stdout",
       "text": [
        "[###############---------------------------]  36.3% ... Processing 2945 files\r"
       ]
      },
      {
       "output_type": "stream",
       "stream": "stdout",
       "text": [
        "[###############---------------------------]  36.3% ... Processing 2945 files\r"
       ]
      },
      {
       "output_type": "stream",
       "stream": "stdout",
       "text": [
        "[###############---------------------------]  36.3% ... Processing 2945 files\r"
       ]
      },
      {
       "output_type": "stream",
       "stream": "stdout",
       "text": [
        "[###############---------------------------]  36.4% ... Processing 2945 files\r"
       ]
      },
      {
       "output_type": "stream",
       "stream": "stdout",
       "text": [
        "[###############---------------------------]  36.4% ... Processing 2945 files\r"
       ]
      },
      {
       "output_type": "stream",
       "stream": "stdout",
       "text": [
        "[###############---------------------------]  36.4% ... Processing 2945 files\r"
       ]
      },
      {
       "output_type": "stream",
       "stream": "stdout",
       "text": [
        "[###############---------------------------]  36.5% ... Processing 2945 files\r"
       ]
      },
      {
       "output_type": "stream",
       "stream": "stdout",
       "text": [
        "[###############---------------------------]  36.5% ... Processing 2945 files\r"
       ]
      },
      {
       "output_type": "stream",
       "stream": "stdout",
       "text": [
        "[###############---------------------------]  36.5% ... Processing 2945 files\r"
       ]
      },
      {
       "output_type": "stream",
       "stream": "stdout",
       "text": [
        "[###############---------------------------]  36.6% ... Processing 2945 files\r"
       ]
      },
      {
       "output_type": "stream",
       "stream": "stdout",
       "text": [
        "[###############---------------------------]  36.6% ... Processing 2945 files\r"
       ]
      },
      {
       "output_type": "stream",
       "stream": "stdout",
       "text": [
        "[###############---------------------------]  36.6% ... Processing 2945 files\r"
       ]
      },
      {
       "output_type": "stream",
       "stream": "stdout",
       "text": [
        "[###############---------------------------]  36.7% ... Processing 2945 files\r"
       ]
      },
      {
       "output_type": "stream",
       "stream": "stdout",
       "text": [
        "[###############---------------------------]  36.7% ... Processing 2945 files\r"
       ]
      },
      {
       "output_type": "stream",
       "stream": "stdout",
       "text": [
        "[###############---------------------------]  36.7% ... Processing 2945 files\r"
       ]
      },
      {
       "output_type": "stream",
       "stream": "stdout",
       "text": [
        "[###############---------------------------]  36.8% ... Processing 2945 files\r"
       ]
      },
      {
       "output_type": "stream",
       "stream": "stdout",
       "text": [
        "[###############---------------------------]  36.8% ... Processing 2945 files\r"
       ]
      },
      {
       "output_type": "stream",
       "stream": "stdout",
       "text": [
        "[###############---------------------------]  36.8% ... Processing 2945 files\r"
       ]
      },
      {
       "output_type": "stream",
       "stream": "stdout",
       "text": [
        "[###############---------------------------]  36.9% ... Processing 2945 files\r"
       ]
      },
      {
       "output_type": "stream",
       "stream": "stdout",
       "text": [
        "[################--------------------------]  36.9% ... Processing 2945 files\r"
       ]
      },
      {
       "output_type": "stream",
       "stream": "stdout",
       "text": [
        "[################--------------------------]  36.9% ... Processing 2945 files\r"
       ]
      },
      {
       "output_type": "stream",
       "stream": "stdout",
       "text": [
        "[################--------------------------]  37.0% ... Processing 2945 files\r"
       ]
      },
      {
       "output_type": "stream",
       "stream": "stdout",
       "text": [
        "[################--------------------------]  37.0% ... Processing 2945 files\r"
       ]
      },
      {
       "output_type": "stream",
       "stream": "stdout",
       "text": [
        "[################--------------------------]  37.0% ... Processing 2945 files\r"
       ]
      },
      {
       "output_type": "stream",
       "stream": "stdout",
       "text": [
        "[################--------------------------]  37.1% ... Processing 2945 files\r"
       ]
      },
      {
       "output_type": "stream",
       "stream": "stdout",
       "text": [
        "[################--------------------------]  37.1% ... Processing 2945 files\r"
       ]
      },
      {
       "output_type": "stream",
       "stream": "stdout",
       "text": [
        "[################--------------------------]  37.1% ... Processing 2945 files\r"
       ]
      },
      {
       "output_type": "stream",
       "stream": "stdout",
       "text": [
        "[################--------------------------]  37.2% ... Processing 2945 files\r"
       ]
      },
      {
       "output_type": "stream",
       "stream": "stdout",
       "text": [
        "[################--------------------------]  37.2% ... Processing 2945 files\r"
       ]
      },
      {
       "output_type": "stream",
       "stream": "stdout",
       "text": [
        "[################--------------------------]  37.2% ... Processing 2945 files\r"
       ]
      },
      {
       "output_type": "stream",
       "stream": "stdout",
       "text": [
        "[################--------------------------]  37.3% ... Processing 2945 files\r"
       ]
      },
      {
       "output_type": "stream",
       "stream": "stdout",
       "text": [
        "[################--------------------------]  37.3% ... Processing 2945 files\r"
       ]
      },
      {
       "output_type": "stream",
       "stream": "stdout",
       "text": [
        "[################--------------------------]  37.4% ... Processing 2945 files\r"
       ]
      },
      {
       "output_type": "stream",
       "stream": "stdout",
       "text": [
        "[################--------------------------]  37.4% ... Processing 2945 files\r"
       ]
      },
      {
       "output_type": "stream",
       "stream": "stdout",
       "text": [
        "[################--------------------------]  37.4% ... Processing 2945 files\r"
       ]
      },
      {
       "output_type": "stream",
       "stream": "stdout",
       "text": [
        "[################--------------------------]  37.5% ... Processing 2945 files\r"
       ]
      },
      {
       "output_type": "stream",
       "stream": "stdout",
       "text": [
        "[################--------------------------]  37.5% ... Processing 2945 files\r"
       ]
      },
      {
       "output_type": "stream",
       "stream": "stdout",
       "text": [
        "[################--------------------------]  37.5% ... Processing 2945 files\r"
       ]
      },
      {
       "output_type": "stream",
       "stream": "stdout",
       "text": [
        "[################--------------------------]  37.6% ... Processing 2945 files\r"
       ]
      },
      {
       "output_type": "stream",
       "stream": "stdout",
       "text": [
        "[################--------------------------]  37.6% ... Processing 2945 files\r"
       ]
      },
      {
       "output_type": "stream",
       "stream": "stdout",
       "text": [
        "[################--------------------------]  37.6% ... Processing 2945 files\r"
       ]
      },
      {
       "output_type": "stream",
       "stream": "stdout",
       "text": [
        "[################--------------------------]  37.7% ... Processing 2945 files\r"
       ]
      },
      {
       "output_type": "stream",
       "stream": "stdout",
       "text": [
        "[################--------------------------]  37.7% ... Processing 2945 files\r"
       ]
      },
      {
       "output_type": "stream",
       "stream": "stdout",
       "text": [
        "[################--------------------------]  37.7% ... Processing 2945 files\r"
       ]
      },
      {
       "output_type": "stream",
       "stream": "stdout",
       "text": [
        "[################--------------------------]  37.8% ... Processing 2945 files\r"
       ]
      },
      {
       "output_type": "stream",
       "stream": "stdout",
       "text": [
        "[################--------------------------]  37.8% ... Processing 2945 files\r"
       ]
      },
      {
       "output_type": "stream",
       "stream": "stdout",
       "text": [
        "[################--------------------------]  37.8% ... Processing 2945 files\r"
       ]
      },
      {
       "output_type": "stream",
       "stream": "stdout",
       "text": [
        "[################--------------------------]  37.9% ... Processing 2945 files\r"
       ]
      },
      {
       "output_type": "stream",
       "stream": "stdout",
       "text": [
        "[################--------------------------]  37.9% ... Processing 2945 files\r"
       ]
      },
      {
       "output_type": "stream",
       "stream": "stdout",
       "text": [
        "[################--------------------------]  37.9% ... Processing 2945 files\r"
       ]
      },
      {
       "output_type": "stream",
       "stream": "stdout",
       "text": [
        "[################--------------------------]  38.0% ... Processing 2945 files\r"
       ]
      },
      {
       "output_type": "stream",
       "stream": "stdout",
       "text": [
        "[################--------------------------]  38.0% ... Processing 2945 files\r"
       ]
      },
      {
       "output_type": "stream",
       "stream": "stdout",
       "text": [
        "[################--------------------------]  38.0% ... Processing 2945 files\r"
       ]
      },
      {
       "output_type": "stream",
       "stream": "stdout",
       "text": [
        "[################--------------------------]  38.1% ... Processing 2945 files\r"
       ]
      },
      {
       "output_type": "stream",
       "stream": "stdout",
       "text": [
        "[################--------------------------]  38.1% ... Processing 2945 files\r"
       ]
      },
      {
       "output_type": "stream",
       "stream": "stdout",
       "text": [
        "[################--------------------------]  38.1% ... Processing 2945 files\r"
       ]
      },
      {
       "output_type": "stream",
       "stream": "stdout",
       "text": [
        "[################--------------------------]  38.2% ... Processing 2945 files\r"
       ]
      },
      {
       "output_type": "stream",
       "stream": "stdout",
       "text": [
        "[################--------------------------]  38.2% ... Processing 2945 files\r"
       ]
      },
      {
       "output_type": "stream",
       "stream": "stdout",
       "text": [
        "[################--------------------------]  38.2% ... Processing 2945 files\r"
       ]
      },
      {
       "output_type": "stream",
       "stream": "stdout",
       "text": [
        "[################--------------------------]  38.3% ... Processing 2945 files\r"
       ]
      },
      {
       "output_type": "stream",
       "stream": "stdout",
       "text": [
        "[################--------------------------]  38.3% ... Processing 2945 files\r"
       ]
      },
      {
       "output_type": "stream",
       "stream": "stdout",
       "text": [
        "[################--------------------------]  38.3% ... Processing 2945 files\r"
       ]
      },
      {
       "output_type": "stream",
       "stream": "stdout",
       "text": [
        "[################--------------------------]  38.4% ... Processing 2945 files\r"
       ]
      },
      {
       "output_type": "stream",
       "stream": "stdout",
       "text": [
        "[################--------------------------]  38.4% ... Processing 2945 files\r"
       ]
      },
      {
       "output_type": "stream",
       "stream": "stdout",
       "text": [
        "[################--------------------------]  38.4% ... Processing 2945 files\r"
       ]
      },
      {
       "output_type": "stream",
       "stream": "stdout",
       "text": [
        "[################--------------------------]  38.5% ... Processing 2945 files\r"
       ]
      },
      {
       "output_type": "stream",
       "stream": "stdout",
       "text": [
        "[################--------------------------]  38.5% ... Processing 2945 files\r"
       ]
      },
      {
       "output_type": "stream",
       "stream": "stdout",
       "text": [
        "[################--------------------------]  38.5% ... Processing 2945 files\r"
       ]
      },
      {
       "output_type": "stream",
       "stream": "stdout",
       "text": [
        "[################--------------------------]  38.6% ... Processing 2945 files\r"
       ]
      },
      {
       "output_type": "stream",
       "stream": "stdout",
       "text": [
        "[################--------------------------]  38.6% ... Processing 2945 files\r"
       ]
      },
      {
       "output_type": "stream",
       "stream": "stdout",
       "text": [
        "[################--------------------------]  38.6% ... Processing 2945 files\r"
       ]
      },
      {
       "output_type": "stream",
       "stream": "stdout",
       "text": [
        "[################--------------------------]  38.7% ... Processing 2945 files\r"
       ]
      },
      {
       "output_type": "stream",
       "stream": "stdout",
       "text": [
        "[################--------------------------]  38.7% ... Processing 2945 files\r"
       ]
      },
      {
       "output_type": "stream",
       "stream": "stdout",
       "text": [
        "[################--------------------------]  38.7% ... Processing 2945 files\r"
       ]
      },
      {
       "output_type": "stream",
       "stream": "stdout",
       "text": [
        "[################--------------------------]  38.8% ... Processing 2945 files\r"
       ]
      },
      {
       "output_type": "stream",
       "stream": "stdout",
       "text": [
        "[################--------------------------]  38.8% ... Processing 2945 files\r"
       ]
      },
      {
       "output_type": "stream",
       "stream": "stdout",
       "text": [
        "[################--------------------------]  38.8% ... Processing 2945 files\r"
       ]
      },
      {
       "output_type": "stream",
       "stream": "stdout",
       "text": [
        "[################--------------------------]  38.9% ... Processing 2945 files\r"
       ]
      },
      {
       "output_type": "stream",
       "stream": "stdout",
       "text": [
        "[################--------------------------]  38.9% ... Processing 2945 files\r"
       ]
      },
      {
       "output_type": "stream",
       "stream": "stdout",
       "text": [
        "[################--------------------------]  38.9% ... Processing 2945 files\r"
       ]
      },
      {
       "output_type": "stream",
       "stream": "stdout",
       "text": [
        "[################--------------------------]  39.0% ... Processing 2945 files\r"
       ]
      },
      {
       "output_type": "stream",
       "stream": "stdout",
       "text": [
        "[################--------------------------]  39.0% ... Processing 2945 files\r"
       ]
      },
      {
       "output_type": "stream",
       "stream": "stdout",
       "text": [
        "[################--------------------------]  39.0% ... Processing 2945 files\r"
       ]
      },
      {
       "output_type": "stream",
       "stream": "stdout",
       "text": [
        "[################--------------------------]  39.1% ... Processing 2945 files\r"
       ]
      },
      {
       "output_type": "stream",
       "stream": "stdout",
       "text": [
        "[################--------------------------]  39.1% ... Processing 2945 files\r"
       ]
      },
      {
       "output_type": "stream",
       "stream": "stdout",
       "text": [
        "[################--------------------------]  39.2% ... Processing 2945 files\r"
       ]
      },
      {
       "output_type": "stream",
       "stream": "stdout",
       "text": [
        "[################--------------------------]  39.2% ... Processing 2945 files\r"
       ]
      },
      {
       "output_type": "stream",
       "stream": "stdout",
       "text": [
        "[################--------------------------]  39.2% ... Processing 2945 files\r"
       ]
      },
      {
       "output_type": "stream",
       "stream": "stdout",
       "text": [
        "[################--------------------------]  39.3% ... Processing 2945 files\r"
       ]
      },
      {
       "output_type": "stream",
       "stream": "stdout",
       "text": [
        "[#################-------------------------]  39.3% ... Processing 2945 files\r"
       ]
      },
      {
       "output_type": "stream",
       "stream": "stdout",
       "text": [
        "[#################-------------------------]  39.3% ... Processing 2945 files\r"
       ]
      },
      {
       "output_type": "stream",
       "stream": "stdout",
       "text": [
        "[#################-------------------------]  39.4% ... Processing 2945 files\r"
       ]
      },
      {
       "output_type": "stream",
       "stream": "stdout",
       "text": [
        "[#################-------------------------]  39.4% ... Processing 2945 files\r"
       ]
      },
      {
       "output_type": "stream",
       "stream": "stdout",
       "text": [
        "[#################-------------------------]  39.4% ... Processing 2945 files\r"
       ]
      },
      {
       "output_type": "stream",
       "stream": "stdout",
       "text": [
        "[#################-------------------------]  39.5% ... Processing 2945 files\r"
       ]
      },
      {
       "output_type": "stream",
       "stream": "stdout",
       "text": [
        "[#################-------------------------]  39.5% ... Processing 2945 files\r"
       ]
      },
      {
       "output_type": "stream",
       "stream": "stdout",
       "text": [
        "[#################-------------------------]  39.5% ... Processing 2945 files\r"
       ]
      },
      {
       "output_type": "stream",
       "stream": "stdout",
       "text": [
        "[#################-------------------------]  39.6% ... Processing 2945 files\r"
       ]
      },
      {
       "output_type": "stream",
       "stream": "stdout",
       "text": [
        "[#################-------------------------]  39.6% ... Processing 2945 files\r"
       ]
      },
      {
       "output_type": "stream",
       "stream": "stdout",
       "text": [
        "[#################-------------------------]  39.6% ... Processing 2945 files\r"
       ]
      },
      {
       "output_type": "stream",
       "stream": "stdout",
       "text": [
        "[#################-------------------------]  39.7% ... Processing 2945 files\r"
       ]
      },
      {
       "output_type": "stream",
       "stream": "stdout",
       "text": [
        "[#################-------------------------]  39.7% ... Processing 2945 files\r"
       ]
      },
      {
       "output_type": "stream",
       "stream": "stdout",
       "text": [
        "[#################-------------------------]  39.7% ... Processing 2945 files\r"
       ]
      },
      {
       "output_type": "stream",
       "stream": "stdout",
       "text": [
        "[#################-------------------------]  39.8% ... Processing 2945 files\r"
       ]
      },
      {
       "output_type": "stream",
       "stream": "stdout",
       "text": [
        "[#################-------------------------]  39.8% ... Processing 2945 files\r"
       ]
      },
      {
       "output_type": "stream",
       "stream": "stdout",
       "text": [
        "[#################-------------------------]  39.8% ... Processing 2945 files\r"
       ]
      },
      {
       "output_type": "stream",
       "stream": "stdout",
       "text": [
        "[#################-------------------------]  39.9% ... Processing 2945 files\r"
       ]
      },
      {
       "output_type": "stream",
       "stream": "stdout",
       "text": [
        "[#################-------------------------]  39.9% ... Processing 2945 files\r"
       ]
      },
      {
       "output_type": "stream",
       "stream": "stdout",
       "text": [
        "[#################-------------------------]  39.9% ... Processing 2945 files\r"
       ]
      },
      {
       "output_type": "stream",
       "stream": "stdout",
       "text": [
        "[#################-------------------------]  40.0% ... Processing 2945 files\r"
       ]
      },
      {
       "output_type": "stream",
       "stream": "stdout",
       "text": [
        "[#################-------------------------]  40.0% ... Processing 2945 files\r"
       ]
      },
      {
       "output_type": "stream",
       "stream": "stdout",
       "text": [
        "[#################-------------------------]  40.0% ... Processing 2945 files\r"
       ]
      },
      {
       "output_type": "stream",
       "stream": "stdout",
       "text": [
        "[#################-------------------------]  40.1% ... Processing 2945 files\r"
       ]
      },
      {
       "output_type": "stream",
       "stream": "stdout",
       "text": [
        "[#################-------------------------]  40.1% ... Processing 2945 files\r"
       ]
      },
      {
       "output_type": "stream",
       "stream": "stdout",
       "text": [
        "[#################-------------------------]  40.1% ... Processing 2945 files\r"
       ]
      },
      {
       "output_type": "stream",
       "stream": "stdout",
       "text": [
        "[#################-------------------------]  40.2% ... Processing 2945 files\r"
       ]
      },
      {
       "output_type": "stream",
       "stream": "stdout",
       "text": [
        "[#################-------------------------]  40.2% ... Processing 2945 files\r"
       ]
      },
      {
       "output_type": "stream",
       "stream": "stdout",
       "text": [
        "[#################-------------------------]  40.2% ... Processing 2945 files\r"
       ]
      },
      {
       "output_type": "stream",
       "stream": "stdout",
       "text": [
        "[#################-------------------------]  40.3% ... Processing 2945 files\r"
       ]
      },
      {
       "output_type": "stream",
       "stream": "stdout",
       "text": [
        "[#################-------------------------]  40.3% ... Processing 2945 files\r"
       ]
      },
      {
       "output_type": "stream",
       "stream": "stdout",
       "text": [
        "[#################-------------------------]  40.3% ... Processing 2945 files\r"
       ]
      },
      {
       "output_type": "stream",
       "stream": "stdout",
       "text": [
        "[#################-------------------------]  40.4% ... Processing 2945 files\r"
       ]
      },
      {
       "output_type": "stream",
       "stream": "stdout",
       "text": [
        "[#################-------------------------]  40.4% ... Processing 2945 files\r"
       ]
      },
      {
       "output_type": "stream",
       "stream": "stdout",
       "text": [
        "[#################-------------------------]  40.4% ... Processing 2945 files\r"
       ]
      },
      {
       "output_type": "stream",
       "stream": "stdout",
       "text": [
        "[#################-------------------------]  40.5% ... Processing 2945 files\r"
       ]
      },
      {
       "output_type": "stream",
       "stream": "stdout",
       "text": [
        "[#################-------------------------]  40.5% ... Processing 2945 files\r"
       ]
      },
      {
       "output_type": "stream",
       "stream": "stdout",
       "text": [
        "[#################-------------------------]  40.5% ... Processing 2945 files\r"
       ]
      },
      {
       "output_type": "stream",
       "stream": "stdout",
       "text": [
        "[#################-------------------------]  40.6% ... Processing 2945 files\r"
       ]
      },
      {
       "output_type": "stream",
       "stream": "stdout",
       "text": [
        "[#################-------------------------]  40.6% ... Processing 2945 files\r"
       ]
      },
      {
       "output_type": "stream",
       "stream": "stdout",
       "text": [
        "[#################-------------------------]  40.6% ... Processing 2945 files\r"
       ]
      },
      {
       "output_type": "stream",
       "stream": "stdout",
       "text": [
        "[#################-------------------------]  40.7% ... Processing 2945 files\r"
       ]
      },
      {
       "output_type": "stream",
       "stream": "stdout",
       "text": [
        "[#################-------------------------]  40.7% ... Processing 2945 files\r"
       ]
      },
      {
       "output_type": "stream",
       "stream": "stdout",
       "text": [
        "[#################-------------------------]  40.7% ... Processing 2945 files\r"
       ]
      },
      {
       "output_type": "stream",
       "stream": "stdout",
       "text": [
        "[#################-------------------------]  40.8% ... Processing 2945 files\r"
       ]
      },
      {
       "output_type": "stream",
       "stream": "stdout",
       "text": [
        "[#################-------------------------]  40.8% ... Processing 2945 files\r"
       ]
      },
      {
       "output_type": "stream",
       "stream": "stdout",
       "text": [
        "[#################-------------------------]  40.8% ... Processing 2945 files\r"
       ]
      },
      {
       "output_type": "stream",
       "stream": "stdout",
       "text": [
        "[#################-------------------------]  40.9% ... Processing 2945 files\r"
       ]
      },
      {
       "output_type": "stream",
       "stream": "stdout",
       "text": [
        "[#################-------------------------]  40.9% ... Processing 2945 files\r"
       ]
      },
      {
       "output_type": "stream",
       "stream": "stdout",
       "text": [
        "[#################-------------------------]  41.0% ... Processing 2945 files\r"
       ]
      },
      {
       "output_type": "stream",
       "stream": "stdout",
       "text": [
        "[#################-------------------------]  41.0% ... Processing 2945 files\r"
       ]
      },
      {
       "output_type": "stream",
       "stream": "stdout",
       "text": [
        "[#################-------------------------]  41.0% ... Processing 2945 files\r"
       ]
      },
      {
       "output_type": "stream",
       "stream": "stdout",
       "text": [
        "[#################-------------------------]  41.1% ... Processing 2945 files\r"
       ]
      },
      {
       "output_type": "stream",
       "stream": "stdout",
       "text": [
        "[#################-------------------------]  41.1% ... Processing 2945 files\r"
       ]
      },
      {
       "output_type": "stream",
       "stream": "stdout",
       "text": [
        "[#################-------------------------]  41.1% ... Processing 2945 files\r"
       ]
      },
      {
       "output_type": "stream",
       "stream": "stdout",
       "text": [
        "[#################-------------------------]  41.2% ... Processing 2945 files\r"
       ]
      },
      {
       "output_type": "stream",
       "stream": "stdout",
       "text": [
        "[#################-------------------------]  41.2% ... Processing 2945 files\r"
       ]
      },
      {
       "output_type": "stream",
       "stream": "stdout",
       "text": [
        "[#################-------------------------]  41.2% ... Processing 2945 files\r"
       ]
      },
      {
       "output_type": "stream",
       "stream": "stdout",
       "text": [
        "[#################-------------------------]  41.3% ... Processing 2945 files\r"
       ]
      },
      {
       "output_type": "stream",
       "stream": "stdout",
       "text": [
        "[#################-------------------------]  41.3% ... Processing 2945 files\r"
       ]
      },
      {
       "output_type": "stream",
       "stream": "stdout",
       "text": [
        "[#################-------------------------]  41.3% ... Processing 2945 files\r"
       ]
      },
      {
       "output_type": "stream",
       "stream": "stdout",
       "text": [
        "[#################-------------------------]  41.4% ... Processing 2945 files\r"
       ]
      },
      {
       "output_type": "stream",
       "stream": "stdout",
       "text": [
        "[#################-------------------------]  41.4% ... Processing 2945 files\r"
       ]
      },
      {
       "output_type": "stream",
       "stream": "stdout",
       "text": [
        "[#################-------------------------]  41.4% ... Processing 2945 files\r"
       ]
      },
      {
       "output_type": "stream",
       "stream": "stdout",
       "text": [
        "[#################-------------------------]  41.5% ... Processing 2945 files\r"
       ]
      },
      {
       "output_type": "stream",
       "stream": "stdout",
       "text": [
        "[#################-------------------------]  41.5% ... Processing 2945 files\r"
       ]
      },
      {
       "output_type": "stream",
       "stream": "stdout",
       "text": [
        "[#################-------------------------]  41.5% ... Processing 2945 files\r"
       ]
      },
      {
       "output_type": "stream",
       "stream": "stdout",
       "text": [
        "[#################-------------------------]  41.6% ... Processing 2945 files\r"
       ]
      },
      {
       "output_type": "stream",
       "stream": "stdout",
       "text": [
        "[#################-------------------------]  41.6% ... Processing 2945 files\r"
       ]
      },
      {
       "output_type": "stream",
       "stream": "stdout",
       "text": [
        "[#################-------------------------]  41.6% ... Processing 2945 files\r"
       ]
      },
      {
       "output_type": "stream",
       "stream": "stdout",
       "text": [
        "[#################-------------------------]  41.7% ... Processing 2945 files\r"
       ]
      },
      {
       "output_type": "stream",
       "stream": "stdout",
       "text": [
        "[##################------------------------]  41.7% ... Processing 2945 files\r"
       ]
      },
      {
       "output_type": "stream",
       "stream": "stdout",
       "text": [
        "[##################------------------------]  41.7% ... Processing 2945 files\r"
       ]
      },
      {
       "output_type": "stream",
       "stream": "stdout",
       "text": [
        "[##################------------------------]  41.8% ... Processing 2945 files\r"
       ]
      },
      {
       "output_type": "stream",
       "stream": "stdout",
       "text": [
        "[##################------------------------]  41.8% ... Processing 2945 files\r"
       ]
      },
      {
       "output_type": "stream",
       "stream": "stdout",
       "text": [
        "[##################------------------------]  41.8% ... Processing 2945 files\r"
       ]
      },
      {
       "output_type": "stream",
       "stream": "stdout",
       "text": [
        "[##################------------------------]  41.9% ... Processing 2945 files\r"
       ]
      },
      {
       "output_type": "stream",
       "stream": "stdout",
       "text": [
        "[##################------------------------]  41.9% ... Processing 2945 files\r"
       ]
      },
      {
       "output_type": "stream",
       "stream": "stdout",
       "text": [
        "[##################------------------------]  41.9% ... Processing 2945 files\r"
       ]
      },
      {
       "output_type": "stream",
       "stream": "stdout",
       "text": [
        "[##################------------------------]  42.0% ... Processing 2945 files\r"
       ]
      },
      {
       "output_type": "stream",
       "stream": "stdout",
       "text": [
        "[##################------------------------]  42.0% ... Processing 2945 files\r"
       ]
      },
      {
       "output_type": "stream",
       "stream": "stdout",
       "text": [
        "[##################------------------------]  42.0% ... Processing 2945 files\r"
       ]
      },
      {
       "output_type": "stream",
       "stream": "stdout",
       "text": [
        "[##################------------------------]  42.1% ... Processing 2945 files\r"
       ]
      },
      {
       "output_type": "stream",
       "stream": "stdout",
       "text": [
        "[##################------------------------]  42.1% ... Processing 2945 files\r"
       ]
      },
      {
       "output_type": "stream",
       "stream": "stdout",
       "text": [
        "[##################------------------------]  42.1% ... Processing 2945 files\r"
       ]
      },
      {
       "output_type": "stream",
       "stream": "stdout",
       "text": [
        "[##################------------------------]  42.2% ... Processing 2945 files\r"
       ]
      },
      {
       "output_type": "stream",
       "stream": "stdout",
       "text": [
        "[##################------------------------]  42.2% ... Processing 2945 files\r"
       ]
      },
      {
       "output_type": "stream",
       "stream": "stdout",
       "text": [
        "[##################------------------------]  42.2% ... Processing 2945 files\r"
       ]
      },
      {
       "output_type": "stream",
       "stream": "stdout",
       "text": [
        "[##################------------------------]  42.3% ... Processing 2945 files\r"
       ]
      },
      {
       "output_type": "stream",
       "stream": "stdout",
       "text": [
        "[##################------------------------]  42.3% ... Processing 2945 files\r"
       ]
      },
      {
       "output_type": "stream",
       "stream": "stdout",
       "text": [
        "[##################------------------------]  42.3% ... Processing 2945 files\r"
       ]
      },
      {
       "output_type": "stream",
       "stream": "stdout",
       "text": [
        "[##################------------------------]  42.4% ... Processing 2945 files\r"
       ]
      },
      {
       "output_type": "stream",
       "stream": "stdout",
       "text": [
        "[##################------------------------]  42.4% ... Processing 2945 files\r"
       ]
      },
      {
       "output_type": "stream",
       "stream": "stdout",
       "text": [
        "[##################------------------------]  42.4% ... Processing 2945 files\r"
       ]
      },
      {
       "output_type": "stream",
       "stream": "stdout",
       "text": [
        "[##################------------------------]  42.5% ... Processing 2945 files\r"
       ]
      },
      {
       "output_type": "stream",
       "stream": "stdout",
       "text": [
        "[##################------------------------]  42.5% ... Processing 2945 files\r"
       ]
      },
      {
       "output_type": "stream",
       "stream": "stdout",
       "text": [
        "[##################------------------------]  42.5% ... Processing 2945 files\r"
       ]
      },
      {
       "output_type": "stream",
       "stream": "stdout",
       "text": [
        "[##################------------------------]  42.6% ... Processing 2945 files\r"
       ]
      },
      {
       "output_type": "stream",
       "stream": "stdout",
       "text": [
        "[##################------------------------]  42.6% ... Processing 2945 files\r"
       ]
      },
      {
       "output_type": "stream",
       "stream": "stdout",
       "text": [
        "[##################------------------------]  42.6% ... Processing 2945 files\r"
       ]
      },
      {
       "output_type": "stream",
       "stream": "stdout",
       "text": [
        "[##################------------------------]  42.7% ... Processing 2945 files\r"
       ]
      },
      {
       "output_type": "stream",
       "stream": "stdout",
       "text": [
        "[##################------------------------]  42.7% ... Processing 2945 files\r"
       ]
      },
      {
       "output_type": "stream",
       "stream": "stdout",
       "text": [
        "[##################------------------------]  42.8% ... Processing 2945 files\r"
       ]
      },
      {
       "output_type": "stream",
       "stream": "stdout",
       "text": [
        "[##################------------------------]  42.8% ... Processing 2945 files\r"
       ]
      },
      {
       "output_type": "stream",
       "stream": "stdout",
       "text": [
        "[##################------------------------]  42.8% ... Processing 2945 files\r"
       ]
      },
      {
       "output_type": "stream",
       "stream": "stdout",
       "text": [
        "[##################------------------------]  42.9% ... Processing 2945 files\r"
       ]
      },
      {
       "output_type": "stream",
       "stream": "stdout",
       "text": [
        "[##################------------------------]  42.9% ... Processing 2945 files\r"
       ]
      },
      {
       "output_type": "stream",
       "stream": "stdout",
       "text": [
        "[##################------------------------]  42.9% ... Processing 2945 files\r"
       ]
      },
      {
       "output_type": "stream",
       "stream": "stdout",
       "text": [
        "[##################------------------------]  43.0% ... Processing 2945 files\r"
       ]
      },
      {
       "output_type": "stream",
       "stream": "stdout",
       "text": [
        "[##################------------------------]  43.0% ... Processing 2945 files\r"
       ]
      },
      {
       "output_type": "stream",
       "stream": "stdout",
       "text": [
        "[##################------------------------]  43.0% ... Processing 2945 files\r"
       ]
      },
      {
       "output_type": "stream",
       "stream": "stdout",
       "text": [
        "[##################------------------------]  43.1% ... Processing 2945 files\r"
       ]
      },
      {
       "output_type": "stream",
       "stream": "stdout",
       "text": [
        "[##################------------------------]  43.1% ... Processing 2945 files\r"
       ]
      },
      {
       "output_type": "stream",
       "stream": "stdout",
       "text": [
        "[##################------------------------]  43.1% ... Processing 2945 files\r"
       ]
      },
      {
       "output_type": "stream",
       "stream": "stdout",
       "text": [
        "[##################------------------------]  43.2% ... Processing 2945 files\r"
       ]
      },
      {
       "output_type": "stream",
       "stream": "stdout",
       "text": [
        "[##################------------------------]  43.2% ... Processing 2945 files\r"
       ]
      },
      {
       "output_type": "stream",
       "stream": "stdout",
       "text": [
        "[##################------------------------]  43.2% ... Processing 2945 files\r"
       ]
      },
      {
       "output_type": "stream",
       "stream": "stdout",
       "text": [
        "[##################------------------------]  43.3% ... Processing 2945 files\r"
       ]
      },
      {
       "output_type": "stream",
       "stream": "stdout",
       "text": [
        "[##################------------------------]  43.3% ... Processing 2945 files\r"
       ]
      },
      {
       "output_type": "stream",
       "stream": "stdout",
       "text": [
        "[##################------------------------]  43.3% ... Processing 2945 files\r"
       ]
      },
      {
       "output_type": "stream",
       "stream": "stdout",
       "text": [
        "[##################------------------------]  43.4% ... Processing 2945 files\r"
       ]
      },
      {
       "output_type": "stream",
       "stream": "stdout",
       "text": [
        "[##################------------------------]  43.4% ... Processing 2945 files\r"
       ]
      },
      {
       "output_type": "stream",
       "stream": "stdout",
       "text": [
        "[##################------------------------]  43.4% ... Processing 2945 files\r"
       ]
      },
      {
       "output_type": "stream",
       "stream": "stdout",
       "text": [
        "[##################------------------------]  43.5% ... Processing 2945 files\r"
       ]
      },
      {
       "output_type": "stream",
       "stream": "stdout",
       "text": [
        "[##################------------------------]  43.5% ... Processing 2945 files\r"
       ]
      },
      {
       "output_type": "stream",
       "stream": "stdout",
       "text": [
        "[##################------------------------]  43.5% ... Processing 2945 files\r"
       ]
      },
      {
       "output_type": "stream",
       "stream": "stdout",
       "text": [
        "[##################------------------------]  43.6% ... Processing 2945 files\r"
       ]
      },
      {
       "output_type": "stream",
       "stream": "stdout",
       "text": [
        "[##################------------------------]  43.6% ... Processing 2945 files\r"
       ]
      },
      {
       "output_type": "stream",
       "stream": "stdout",
       "text": [
        "[##################------------------------]  43.6% ... Processing 2945 files\r"
       ]
      },
      {
       "output_type": "stream",
       "stream": "stdout",
       "text": [
        "[##################------------------------]  43.7% ... Processing 2945 files\r"
       ]
      },
      {
       "output_type": "stream",
       "stream": "stdout",
       "text": [
        "[##################------------------------]  43.7% ... Processing 2945 files\r"
       ]
      },
      {
       "output_type": "stream",
       "stream": "stdout",
       "text": [
        "[##################------------------------]  43.7% ... Processing 2945 files\r"
       ]
      },
      {
       "output_type": "stream",
       "stream": "stdout",
       "text": [
        "[##################------------------------]  43.8% ... Processing 2945 files\r"
       ]
      },
      {
       "output_type": "stream",
       "stream": "stdout",
       "text": [
        "[##################------------------------]  43.8% ... Processing 2945 files\r"
       ]
      },
      {
       "output_type": "stream",
       "stream": "stdout",
       "text": [
        "[##################------------------------]  43.8% ... Processing 2945 files\r"
       ]
      },
      {
       "output_type": "stream",
       "stream": "stdout",
       "text": [
        "[##################------------------------]  43.9% ... Processing 2945 files\r"
       ]
      },
      {
       "output_type": "stream",
       "stream": "stdout",
       "text": [
        "[##################------------------------]  43.9% ... Processing 2945 files\r"
       ]
      },
      {
       "output_type": "stream",
       "stream": "stdout",
       "text": [
        "[##################------------------------]  43.9% ... Processing 2945 files\r"
       ]
      },
      {
       "output_type": "stream",
       "stream": "stdout",
       "text": [
        "[##################------------------------]  44.0% ... Processing 2945 files\r"
       ]
      },
      {
       "output_type": "stream",
       "stream": "stdout",
       "text": [
        "[##################------------------------]  44.0% ... Processing 2945 files\r"
       ]
      },
      {
       "output_type": "stream",
       "stream": "stdout",
       "text": [
        "[##################------------------------]  44.0% ... Processing 2945 files\r"
       ]
      },
      {
       "output_type": "stream",
       "stream": "stdout",
       "text": [
        "[###################-----------------------]  44.1% ... Processing 2945 files\r"
       ]
      },
      {
       "output_type": "stream",
       "stream": "stdout",
       "text": [
        "[###################-----------------------]  44.1% ... Processing 2945 files\r"
       ]
      },
      {
       "output_type": "stream",
       "stream": "stdout",
       "text": [
        "[###################-----------------------]  44.1% ... Processing 2945 files\r"
       ]
      },
      {
       "output_type": "stream",
       "stream": "stdout",
       "text": [
        "[###################-----------------------]  44.2% ... Processing 2945 files\r"
       ]
      },
      {
       "output_type": "stream",
       "stream": "stdout",
       "text": [
        "[###################-----------------------]  44.2% ... Processing 2945 files\r"
       ]
      },
      {
       "output_type": "stream",
       "stream": "stdout",
       "text": [
        "[###################-----------------------]  44.2% ... Processing 2945 files\r"
       ]
      },
      {
       "output_type": "stream",
       "stream": "stdout",
       "text": [
        "[###################-----------------------]  44.3% ... Processing 2945 files\r"
       ]
      },
      {
       "output_type": "stream",
       "stream": "stdout",
       "text": [
        "[###################-----------------------]  44.3% ... Processing 2945 files\r"
       ]
      },
      {
       "output_type": "stream",
       "stream": "stdout",
       "text": [
        "[###################-----------------------]  44.3% ... Processing 2945 files\r"
       ]
      },
      {
       "output_type": "stream",
       "stream": "stdout",
       "text": [
        "[###################-----------------------]  44.4% ... Processing 2945 files\r"
       ]
      },
      {
       "output_type": "stream",
       "stream": "stdout",
       "text": [
        "[###################-----------------------]  44.4% ... Processing 2945 files\r"
       ]
      },
      {
       "output_type": "stream",
       "stream": "stdout",
       "text": [
        "[###################-----------------------]  44.4% ... Processing 2945 files\r"
       ]
      },
      {
       "output_type": "stream",
       "stream": "stdout",
       "text": [
        "[###################-----------------------]  44.5% ... Processing 2945 files\r"
       ]
      },
      {
       "output_type": "stream",
       "stream": "stdout",
       "text": [
        "[###################-----------------------]  44.5% ... Processing 2945 files\r"
       ]
      },
      {
       "output_type": "stream",
       "stream": "stdout",
       "text": [
        "[###################-----------------------]  44.6% ... Processing 2945 files\r"
       ]
      },
      {
       "output_type": "stream",
       "stream": "stdout",
       "text": [
        "[###################-----------------------]  44.6% ... Processing 2945 files\r"
       ]
      },
      {
       "output_type": "stream",
       "stream": "stdout",
       "text": [
        "[###################-----------------------]  44.6% ... Processing 2945 files\r"
       ]
      },
      {
       "output_type": "stream",
       "stream": "stdout",
       "text": [
        "[###################-----------------------]  44.7% ... Processing 2945 files\r"
       ]
      },
      {
       "output_type": "stream",
       "stream": "stdout",
       "text": [
        "[###################-----------------------]  44.7% ... Processing 2945 files\r"
       ]
      },
      {
       "output_type": "stream",
       "stream": "stdout",
       "text": [
        "[###################-----------------------]  44.7% ... Processing 2945 files\r"
       ]
      },
      {
       "output_type": "stream",
       "stream": "stdout",
       "text": [
        "[###################-----------------------]  44.8% ... Processing 2945 files\r"
       ]
      },
      {
       "output_type": "stream",
       "stream": "stdout",
       "text": [
        "[###################-----------------------]  44.8% ... Processing 2945 files\r"
       ]
      },
      {
       "output_type": "stream",
       "stream": "stdout",
       "text": [
        "[###################-----------------------]  44.8% ... Processing 2945 files\r"
       ]
      },
      {
       "output_type": "stream",
       "stream": "stdout",
       "text": [
        "[###################-----------------------]  44.9% ... Processing 2945 files\r"
       ]
      },
      {
       "output_type": "stream",
       "stream": "stdout",
       "text": [
        "[###################-----------------------]  44.9% ... Processing 2945 files\r"
       ]
      },
      {
       "output_type": "stream",
       "stream": "stdout",
       "text": [
        "[###################-----------------------]  44.9% ... Processing 2945 files\r"
       ]
      },
      {
       "output_type": "stream",
       "stream": "stdout",
       "text": [
        "[###################-----------------------]  45.0% ... Processing 2945 files\r"
       ]
      },
      {
       "output_type": "stream",
       "stream": "stdout",
       "text": [
        "[###################-----------------------]  45.0% ... Processing 2945 files\r"
       ]
      },
      {
       "output_type": "stream",
       "stream": "stdout",
       "text": [
        "[###################-----------------------]  45.0% ... Processing 2945 files\r"
       ]
      },
      {
       "output_type": "stream",
       "stream": "stdout",
       "text": [
        "[###################-----------------------]  45.1% ... Processing 2945 files\r"
       ]
      },
      {
       "output_type": "stream",
       "stream": "stdout",
       "text": [
        "[###################-----------------------]  45.1% ... Processing 2945 files\r"
       ]
      },
      {
       "output_type": "stream",
       "stream": "stdout",
       "text": [
        "[###################-----------------------]  45.1% ... Processing 2945 files\r"
       ]
      },
      {
       "output_type": "stream",
       "stream": "stdout",
       "text": [
        "[###################-----------------------]  45.2% ... Processing 2945 files\r"
       ]
      },
      {
       "output_type": "stream",
       "stream": "stdout",
       "text": [
        "[###################-----------------------]  45.2% ... Processing 2945 files\r"
       ]
      },
      {
       "output_type": "stream",
       "stream": "stdout",
       "text": [
        "[###################-----------------------]  45.2% ... Processing 2945 files\r"
       ]
      },
      {
       "output_type": "stream",
       "stream": "stdout",
       "text": [
        "[###################-----------------------]  45.3% ... Processing 2945 files\r"
       ]
      },
      {
       "output_type": "stream",
       "stream": "stdout",
       "text": [
        "[###################-----------------------]  45.3% ... Processing 2945 files\r"
       ]
      },
      {
       "output_type": "stream",
       "stream": "stdout",
       "text": [
        "[###################-----------------------]  45.3% ... Processing 2945 files\r"
       ]
      },
      {
       "output_type": "stream",
       "stream": "stdout",
       "text": [
        "[###################-----------------------]  45.4% ... Processing 2945 files\r"
       ]
      },
      {
       "output_type": "stream",
       "stream": "stdout",
       "text": [
        "[###################-----------------------]  45.4% ... Processing 2945 files\r"
       ]
      },
      {
       "output_type": "stream",
       "stream": "stdout",
       "text": [
        "[###################-----------------------]  45.4% ... Processing 2945 files\r"
       ]
      },
      {
       "output_type": "stream",
       "stream": "stdout",
       "text": [
        "[###################-----------------------]  45.5% ... Processing 2945 files\r"
       ]
      },
      {
       "output_type": "stream",
       "stream": "stdout",
       "text": [
        "[###################-----------------------]  45.5% ... Processing 2945 files\r"
       ]
      },
      {
       "output_type": "stream",
       "stream": "stdout",
       "text": [
        "[###################-----------------------]  45.5% ... Processing 2945 files\r"
       ]
      },
      {
       "output_type": "stream",
       "stream": "stdout",
       "text": [
        "[###################-----------------------]  45.6% ... Processing 2945 files\r"
       ]
      },
      {
       "output_type": "stream",
       "stream": "stdout",
       "text": [
        "[###################-----------------------]  45.6% ... Processing 2945 files\r"
       ]
      },
      {
       "output_type": "stream",
       "stream": "stdout",
       "text": [
        "[###################-----------------------]  45.6% ... Processing 2945 files\r"
       ]
      },
      {
       "output_type": "stream",
       "stream": "stdout",
       "text": [
        "[###################-----------------------]  45.7% ... Processing 2945 files\r"
       ]
      },
      {
       "output_type": "stream",
       "stream": "stdout",
       "text": [
        "[###################-----------------------]  45.7% ... Processing 2945 files\r"
       ]
      },
      {
       "output_type": "stream",
       "stream": "stdout",
       "text": [
        "[###################-----------------------]  45.7% ... Processing 2945 files\r"
       ]
      },
      {
       "output_type": "stream",
       "stream": "stdout",
       "text": [
        "[###################-----------------------]  45.8% ... Processing 2945 files\r"
       ]
      },
      {
       "output_type": "stream",
       "stream": "stdout",
       "text": [
        "[###################-----------------------]  45.8% ... Processing 2945 files\r"
       ]
      },
      {
       "output_type": "stream",
       "stream": "stdout",
       "text": [
        "[###################-----------------------]  45.8% ... Processing 2945 files\r"
       ]
      },
      {
       "output_type": "stream",
       "stream": "stdout",
       "text": [
        "[###################-----------------------]  45.9% ... Processing 2945 files\r"
       ]
      },
      {
       "output_type": "stream",
       "stream": "stdout",
       "text": [
        "[###################-----------------------]  45.9% ... Processing 2945 files\r"
       ]
      },
      {
       "output_type": "stream",
       "stream": "stdout",
       "text": [
        "[###################-----------------------]  45.9% ... Processing 2945 files\r"
       ]
      },
      {
       "output_type": "stream",
       "stream": "stdout",
       "text": [
        "[###################-----------------------]  46.0% ... Processing 2945 files\r"
       ]
      },
      {
       "output_type": "stream",
       "stream": "stdout",
       "text": [
        "[###################-----------------------]  46.0% ... Processing 2945 files\r"
       ]
      },
      {
       "output_type": "stream",
       "stream": "stdout",
       "text": [
        "[###################-----------------------]  46.0% ... Processing 2945 files\r"
       ]
      },
      {
       "output_type": "stream",
       "stream": "stdout",
       "text": [
        "[###################-----------------------]  46.1% ... Processing 2945 files\r"
       ]
      },
      {
       "output_type": "stream",
       "stream": "stdout",
       "text": [
        "[###################-----------------------]  46.1% ... Processing 2945 files\r"
       ]
      },
      {
       "output_type": "stream",
       "stream": "stdout",
       "text": [
        "[###################-----------------------]  46.1% ... Processing 2945 files\r"
       ]
      },
      {
       "output_type": "stream",
       "stream": "stdout",
       "text": [
        "[###################-----------------------]  46.2% ... Processing 2945 files\r"
       ]
      },
      {
       "output_type": "stream",
       "stream": "stdout",
       "text": [
        "[###################-----------------------]  46.2% ... Processing 2945 files\r"
       ]
      },
      {
       "output_type": "stream",
       "stream": "stdout",
       "text": [
        "[###################-----------------------]  46.2% ... Processing 2945 files\r"
       ]
      },
      {
       "output_type": "stream",
       "stream": "stdout",
       "text": [
        "[###################-----------------------]  46.3% ... Processing 2945 files\r"
       ]
      },
      {
       "output_type": "stream",
       "stream": "stdout",
       "text": [
        "[###################-----------------------]  46.3% ... Processing 2945 files\r"
       ]
      },
      {
       "output_type": "stream",
       "stream": "stdout",
       "text": [
        "[###################-----------------------]  46.3% ... Processing 2945 files\r"
       ]
      },
      {
       "output_type": "stream",
       "stream": "stdout",
       "text": [
        "[###################-----------------------]  46.4% ... Processing 2945 files\r"
       ]
      },
      {
       "output_type": "stream",
       "stream": "stdout",
       "text": [
        "[###################-----------------------]  46.4% ... Processing 2945 files\r"
       ]
      },
      {
       "output_type": "stream",
       "stream": "stdout",
       "text": [
        "[####################----------------------]  46.5% ... Processing 2945 files\r"
       ]
      },
      {
       "output_type": "stream",
       "stream": "stdout",
       "text": [
        "[####################----------------------]  46.5% ... Processing 2945 files\r"
       ]
      },
      {
       "output_type": "stream",
       "stream": "stdout",
       "text": [
        "[####################----------------------]  46.5% ... Processing 2945 files\r"
       ]
      },
      {
       "output_type": "stream",
       "stream": "stdout",
       "text": [
        "[####################----------------------]  46.6% ... Processing 2945 files\r"
       ]
      },
      {
       "output_type": "stream",
       "stream": "stdout",
       "text": [
        "[####################----------------------]  46.6% ... Processing 2945 files\r"
       ]
      },
      {
       "output_type": "stream",
       "stream": "stdout",
       "text": [
        "[####################----------------------]  46.6% ... Processing 2945 files\r"
       ]
      },
      {
       "output_type": "stream",
       "stream": "stdout",
       "text": [
        "[####################----------------------]  46.7% ... Processing 2945 files\r"
       ]
      },
      {
       "output_type": "stream",
       "stream": "stdout",
       "text": [
        "[####################----------------------]  46.7% ... Processing 2945 files\r"
       ]
      },
      {
       "output_type": "stream",
       "stream": "stdout",
       "text": [
        "[####################----------------------]  46.7% ... Processing 2945 files\r"
       ]
      },
      {
       "output_type": "stream",
       "stream": "stdout",
       "text": [
        "[####################----------------------]  46.8% ... Processing 2945 files\r"
       ]
      },
      {
       "output_type": "stream",
       "stream": "stdout",
       "text": [
        "[####################----------------------]  46.8% ... Processing 2945 files\r"
       ]
      },
      {
       "output_type": "stream",
       "stream": "stdout",
       "text": [
        "[####################----------------------]  46.8% ... Processing 2945 files\r"
       ]
      },
      {
       "output_type": "stream",
       "stream": "stdout",
       "text": [
        "[####################----------------------]  46.9% ... Processing 2945 files\r"
       ]
      },
      {
       "output_type": "stream",
       "stream": "stdout",
       "text": [
        "[####################----------------------]  46.9% ... Processing 2945 files\r"
       ]
      },
      {
       "output_type": "stream",
       "stream": "stdout",
       "text": [
        "[####################----------------------]  46.9% ... Processing 2945 files\r"
       ]
      },
      {
       "output_type": "stream",
       "stream": "stdout",
       "text": [
        "[####################----------------------]  47.0% ... Processing 2945 files\r"
       ]
      },
      {
       "output_type": "stream",
       "stream": "stdout",
       "text": [
        "[####################----------------------]  47.0% ... Processing 2945 files\r"
       ]
      },
      {
       "output_type": "stream",
       "stream": "stdout",
       "text": [
        "[####################----------------------]  47.0% ... Processing 2945 files\r"
       ]
      },
      {
       "output_type": "stream",
       "stream": "stdout",
       "text": [
        "[####################----------------------]  47.1% ... Processing 2945 files\r"
       ]
      },
      {
       "output_type": "stream",
       "stream": "stdout",
       "text": [
        "[####################----------------------]  47.1% ... Processing 2945 files\r"
       ]
      },
      {
       "output_type": "stream",
       "stream": "stdout",
       "text": [
        "[####################----------------------]  47.1% ... Processing 2945 files\r"
       ]
      },
      {
       "output_type": "stream",
       "stream": "stdout",
       "text": [
        "[####################----------------------]  47.2% ... Processing 2945 files\r"
       ]
      },
      {
       "output_type": "stream",
       "stream": "stdout",
       "text": [
        "[####################----------------------]  47.2% ... Processing 2945 files\r"
       ]
      },
      {
       "output_type": "stream",
       "stream": "stdout",
       "text": [
        "[####################----------------------]  47.2% ... Processing 2945 files\r"
       ]
      },
      {
       "output_type": "stream",
       "stream": "stdout",
       "text": [
        "[####################----------------------]  47.3% ... Processing 2945 files\r"
       ]
      },
      {
       "output_type": "stream",
       "stream": "stdout",
       "text": [
        "[####################----------------------]  47.3% ... Processing 2945 files\r"
       ]
      },
      {
       "output_type": "stream",
       "stream": "stdout",
       "text": [
        "[####################----------------------]  47.3% ... Processing 2945 files\r"
       ]
      },
      {
       "output_type": "stream",
       "stream": "stdout",
       "text": [
        "[####################----------------------]  47.4% ... Processing 2945 files\r"
       ]
      },
      {
       "output_type": "stream",
       "stream": "stdout",
       "text": [
        "[####################----------------------]  47.4% ... Processing 2945 files\r"
       ]
      },
      {
       "output_type": "stream",
       "stream": "stdout",
       "text": [
        "[####################----------------------]  47.4% ... Processing 2945 files\r"
       ]
      },
      {
       "output_type": "stream",
       "stream": "stdout",
       "text": [
        "[####################----------------------]  47.5% ... Processing 2945 files\r"
       ]
      },
      {
       "output_type": "stream",
       "stream": "stdout",
       "text": [
        "[####################----------------------]  47.5% ... Processing 2945 files\r"
       ]
      },
      {
       "output_type": "stream",
       "stream": "stdout",
       "text": [
        "[####################----------------------]  47.5% ... Processing 2945 files\r"
       ]
      },
      {
       "output_type": "stream",
       "stream": "stdout",
       "text": [
        "[####################----------------------]  47.6% ... Processing 2945 files\r"
       ]
      },
      {
       "output_type": "stream",
       "stream": "stdout",
       "text": [
        "[####################----------------------]  47.6% ... Processing 2945 files\r"
       ]
      },
      {
       "output_type": "stream",
       "stream": "stdout",
       "text": [
        "[####################----------------------]  47.6% ... Processing 2945 files\r"
       ]
      },
      {
       "output_type": "stream",
       "stream": "stdout",
       "text": [
        "[####################----------------------]  47.7% ... Processing 2945 files\r"
       ]
      },
      {
       "output_type": "stream",
       "stream": "stdout",
       "text": [
        "[####################----------------------]  47.7% ... Processing 2945 files\r"
       ]
      },
      {
       "output_type": "stream",
       "stream": "stdout",
       "text": [
        "[####################----------------------]  47.7% ... Processing 2945 files\r"
       ]
      },
      {
       "output_type": "stream",
       "stream": "stdout",
       "text": [
        "[####################----------------------]  47.8% ... Processing 2945 files\r"
       ]
      },
      {
       "output_type": "stream",
       "stream": "stdout",
       "text": [
        "[####################----------------------]  47.8% ... Processing 2945 files\r"
       ]
      },
      {
       "output_type": "stream",
       "stream": "stdout",
       "text": [
        "[####################----------------------]  47.8% ... Processing 2945 files\r"
       ]
      },
      {
       "output_type": "stream",
       "stream": "stdout",
       "text": [
        "[####################----------------------]  47.9% ... Processing 2945 files\r"
       ]
      },
      {
       "output_type": "stream",
       "stream": "stdout",
       "text": [
        "[####################----------------------]  47.9% ... Processing 2945 files\r"
       ]
      },
      {
       "output_type": "stream",
       "stream": "stdout",
       "text": [
        "[####################----------------------]  47.9% ... Processing 2945 files\r"
       ]
      },
      {
       "output_type": "stream",
       "stream": "stdout",
       "text": [
        "[####################----------------------]  48.0% ... Processing 2945 files\r"
       ]
      },
      {
       "output_type": "stream",
       "stream": "stdout",
       "text": [
        "[####################----------------------]  48.0% ... Processing 2945 files\r"
       ]
      },
      {
       "output_type": "stream",
       "stream": "stdout",
       "text": [
        "[####################----------------------]  48.0% ... Processing 2945 files\r"
       ]
      },
      {
       "output_type": "stream",
       "stream": "stdout",
       "text": [
        "[####################----------------------]  48.1% ... Processing 2945 files\r"
       ]
      },
      {
       "output_type": "stream",
       "stream": "stdout",
       "text": [
        "[####################----------------------]  48.1% ... Processing 2945 files\r"
       ]
      },
      {
       "output_type": "stream",
       "stream": "stdout",
       "text": [
        "[####################----------------------]  48.1% ... Processing 2945 files\r"
       ]
      },
      {
       "output_type": "stream",
       "stream": "stdout",
       "text": [
        "[####################----------------------]  48.2% ... Processing 2945 files\r"
       ]
      },
      {
       "output_type": "stream",
       "stream": "stdout",
       "text": [
        "[####################----------------------]  48.2% ... Processing 2945 files\r"
       ]
      },
      {
       "output_type": "stream",
       "stream": "stdout",
       "text": [
        "[####################----------------------]  48.3% ... Processing 2945 files\r"
       ]
      },
      {
       "output_type": "stream",
       "stream": "stdout",
       "text": [
        "[####################----------------------]  48.3% ... Processing 2945 files\r"
       ]
      },
      {
       "output_type": "stream",
       "stream": "stdout",
       "text": [
        "[####################----------------------]  48.3% ... Processing 2945 files\r"
       ]
      },
      {
       "output_type": "stream",
       "stream": "stdout",
       "text": [
        "[####################----------------------]  48.4% ... Processing 2945 files\r"
       ]
      },
      {
       "output_type": "stream",
       "stream": "stdout",
       "text": [
        "[####################----------------------]  48.4% ... Processing 2945 files\r"
       ]
      },
      {
       "output_type": "stream",
       "stream": "stdout",
       "text": [
        "[####################----------------------]  48.4% ... Processing 2945 files\r"
       ]
      },
      {
       "output_type": "stream",
       "stream": "stdout",
       "text": [
        "[####################----------------------]  48.5% ... Processing 2945 files\r"
       ]
      },
      {
       "output_type": "stream",
       "stream": "stdout",
       "text": [
        "[####################----------------------]  48.5% ... Processing 2945 files\r"
       ]
      },
      {
       "output_type": "stream",
       "stream": "stdout",
       "text": [
        "[####################----------------------]  48.5% ... Processing 2945 files\r"
       ]
      },
      {
       "output_type": "stream",
       "stream": "stdout",
       "text": [
        "[####################----------------------]  48.6% ... Processing 2945 files\r"
       ]
      },
      {
       "output_type": "stream",
       "stream": "stdout",
       "text": [
        "[####################----------------------]  48.6% ... Processing 2945 files\r"
       ]
      },
      {
       "output_type": "stream",
       "stream": "stdout",
       "text": [
        "[####################----------------------]  48.6% ... Processing 2945 files\r"
       ]
      },
      {
       "output_type": "stream",
       "stream": "stdout",
       "text": [
        "[####################----------------------]  48.7% ... Processing 2945 files\r"
       ]
      },
      {
       "output_type": "stream",
       "stream": "stdout",
       "text": [
        "[####################----------------------]  48.7% ... Processing 2945 files\r"
       ]
      },
      {
       "output_type": "stream",
       "stream": "stdout",
       "text": [
        "[####################----------------------]  48.7% ... Processing 2945 files\r"
       ]
      },
      {
       "output_type": "stream",
       "stream": "stdout",
       "text": [
        "[####################----------------------]  48.8% ... Processing 2945 files\r"
       ]
      },
      {
       "output_type": "stream",
       "stream": "stdout",
       "text": [
        "[####################----------------------]  48.8% ... Processing 2945 files\r"
       ]
      },
      {
       "output_type": "stream",
       "stream": "stdout",
       "text": [
        "[#####################---------------------]  48.8% ... Processing 2945 files\r"
       ]
      },
      {
       "output_type": "stream",
       "stream": "stdout",
       "text": [
        "[#####################---------------------]  48.9% ... Processing 2945 files\r"
       ]
      },
      {
       "output_type": "stream",
       "stream": "stdout",
       "text": [
        "[#####################---------------------]  48.9% ... Processing 2945 files\r"
       ]
      },
      {
       "output_type": "stream",
       "stream": "stdout",
       "text": [
        "[#####################---------------------]  48.9% ... Processing 2945 files\r"
       ]
      },
      {
       "output_type": "stream",
       "stream": "stdout",
       "text": [
        "[#####################---------------------]  49.0% ... Processing 2945 files\r"
       ]
      },
      {
       "output_type": "stream",
       "stream": "stdout",
       "text": [
        "[#####################---------------------]  49.0% ... Processing 2945 files\r"
       ]
      },
      {
       "output_type": "stream",
       "stream": "stdout",
       "text": [
        "[#####################---------------------]  49.0% ... Processing 2945 files\r"
       ]
      },
      {
       "output_type": "stream",
       "stream": "stdout",
       "text": [
        "[#####################---------------------]  49.1% ... Processing 2945 files\r"
       ]
      },
      {
       "output_type": "stream",
       "stream": "stdout",
       "text": [
        "[#####################---------------------]  49.1% ... Processing 2945 files\r"
       ]
      },
      {
       "output_type": "stream",
       "stream": "stdout",
       "text": [
        "[#####################---------------------]  49.1% ... Processing 2945 files\r"
       ]
      },
      {
       "output_type": "stream",
       "stream": "stdout",
       "text": [
        "[#####################---------------------]  49.2% ... Processing 2945 files\r"
       ]
      },
      {
       "output_type": "stream",
       "stream": "stdout",
       "text": [
        "[#####################---------------------]  49.2% ... Processing 2945 files\r"
       ]
      },
      {
       "output_type": "stream",
       "stream": "stdout",
       "text": [
        "[#####################---------------------]  49.2% ... Processing 2945 files\r"
       ]
      },
      {
       "output_type": "stream",
       "stream": "stdout",
       "text": [
        "[#####################---------------------]  49.3% ... Processing 2945 files\r"
       ]
      },
      {
       "output_type": "stream",
       "stream": "stdout",
       "text": [
        "[#####################---------------------]  49.3% ... Processing 2945 files\r"
       ]
      },
      {
       "output_type": "stream",
       "stream": "stdout",
       "text": [
        "[#####################---------------------]  49.3% ... Processing 2945 files\r"
       ]
      },
      {
       "output_type": "stream",
       "stream": "stdout",
       "text": [
        "[#####################---------------------]  49.4% ... Processing 2945 files\r"
       ]
      },
      {
       "output_type": "stream",
       "stream": "stdout",
       "text": [
        "[#####################---------------------]  49.4% ... Processing 2945 files\r"
       ]
      },
      {
       "output_type": "stream",
       "stream": "stdout",
       "text": [
        "[#####################---------------------]  49.4% ... Processing 2945 files\r"
       ]
      },
      {
       "output_type": "stream",
       "stream": "stdout",
       "text": [
        "[#####################---------------------]  49.5% ... Processing 2945 files\r"
       ]
      },
      {
       "output_type": "stream",
       "stream": "stdout",
       "text": [
        "[#####################---------------------]  49.5% ... Processing 2945 files\r"
       ]
      },
      {
       "output_type": "stream",
       "stream": "stdout",
       "text": [
        "[#####################---------------------]  49.5% ... Processing 2945 files\r"
       ]
      },
      {
       "output_type": "stream",
       "stream": "stdout",
       "text": [
        "[#####################---------------------]  49.6% ... Processing 2945 files\r"
       ]
      },
      {
       "output_type": "stream",
       "stream": "stdout",
       "text": [
        "[#####################---------------------]  49.6% ... Processing 2945 files\r"
       ]
      },
      {
       "output_type": "stream",
       "stream": "stdout",
       "text": [
        "[#####################---------------------]  49.6% ... Processing 2945 files\r"
       ]
      },
      {
       "output_type": "stream",
       "stream": "stdout",
       "text": [
        "[#####################---------------------]  49.7% ... Processing 2945 files\r"
       ]
      },
      {
       "output_type": "stream",
       "stream": "stdout",
       "text": [
        "[#####################---------------------]  49.7% ... Processing 2945 files\r"
       ]
      },
      {
       "output_type": "stream",
       "stream": "stdout",
       "text": [
        "[#####################---------------------]  49.7% ... Processing 2945 files\r"
       ]
      },
      {
       "output_type": "stream",
       "stream": "stdout",
       "text": [
        "[#####################---------------------]  49.8% ... Processing 2945 files\r"
       ]
      },
      {
       "output_type": "stream",
       "stream": "stdout",
       "text": [
        "[#####################---------------------]  49.8% ... Processing 2945 files\r"
       ]
      },
      {
       "output_type": "stream",
       "stream": "stdout",
       "text": [
        "[#####################---------------------]  49.8% ... Processing 2945 files\r"
       ]
      },
      {
       "output_type": "stream",
       "stream": "stdout",
       "text": [
        "[#####################---------------------]  49.9% ... Processing 2945 files\r"
       ]
      },
      {
       "output_type": "stream",
       "stream": "stdout",
       "text": [
        "[#####################---------------------]  49.9% ... Processing 2945 files\r"
       ]
      },
      {
       "output_type": "stream",
       "stream": "stdout",
       "text": [
        "[#####################---------------------]  49.9% ... Processing 2945 files\r"
       ]
      },
      {
       "output_type": "stream",
       "stream": "stdout",
       "text": [
        "[#####################---------------------]  50.0% ... Processing 2945 files\r"
       ]
      },
      {
       "output_type": "stream",
       "stream": "stdout",
       "text": [
        "[#####################---------------------]  50.0% ... Processing 2945 files\r"
       ]
      },
      {
       "output_type": "stream",
       "stream": "stdout",
       "text": [
        "[#####################---------------------]  50.1% ... Processing 2945 files\r"
       ]
      },
      {
       "output_type": "stream",
       "stream": "stdout",
       "text": [
        "[#####################---------------------]  50.1% ... Processing 2945 files\r"
       ]
      },
      {
       "output_type": "stream",
       "stream": "stdout",
       "text": [
        "[#####################---------------------]  50.1% ... Processing 2945 files\r"
       ]
      },
      {
       "output_type": "stream",
       "stream": "stdout",
       "text": [
        "[#####################---------------------]  50.2% ... Processing 2945 files\r"
       ]
      },
      {
       "output_type": "stream",
       "stream": "stdout",
       "text": [
        "[#####################---------------------]  50.2% ... Processing 2945 files\r"
       ]
      },
      {
       "output_type": "stream",
       "stream": "stdout",
       "text": [
        "[#####################---------------------]  50.2% ... Processing 2945 files\r"
       ]
      },
      {
       "output_type": "stream",
       "stream": "stdout",
       "text": [
        "[#####################---------------------]  50.3% ... Processing 2945 files\r"
       ]
      },
      {
       "output_type": "stream",
       "stream": "stdout",
       "text": [
        "[#####################---------------------]  50.3% ... Processing 2945 files\r"
       ]
      },
      {
       "output_type": "stream",
       "stream": "stdout",
       "text": [
        "[#####################---------------------]  50.3% ... Processing 2945 files\r"
       ]
      },
      {
       "output_type": "stream",
       "stream": "stdout",
       "text": [
        "[#####################---------------------]  50.4% ... Processing 2945 files\r"
       ]
      },
      {
       "output_type": "stream",
       "stream": "stdout",
       "text": [
        "[#####################---------------------]  50.4% ... Processing 2945 files\r"
       ]
      },
      {
       "output_type": "stream",
       "stream": "stdout",
       "text": [
        "[#####################---------------------]  50.4% ... Processing 2945 files\r"
       ]
      },
      {
       "output_type": "stream",
       "stream": "stdout",
       "text": [
        "[#####################---------------------]  50.5% ... Processing 2945 files\r"
       ]
      },
      {
       "output_type": "stream",
       "stream": "stdout",
       "text": [
        "[#####################---------------------]  50.5% ... Processing 2945 files\r"
       ]
      },
      {
       "output_type": "stream",
       "stream": "stdout",
       "text": [
        "[#####################---------------------]  50.5% ... Processing 2945 files\r"
       ]
      },
      {
       "output_type": "stream",
       "stream": "stdout",
       "text": [
        "[#####################---------------------]  50.6% ... Processing 2945 files\r"
       ]
      },
      {
       "output_type": "stream",
       "stream": "stdout",
       "text": [
        "[#####################---------------------]  50.6% ... Processing 2945 files\r"
       ]
      },
      {
       "output_type": "stream",
       "stream": "stdout",
       "text": [
        "[#####################---------------------]  50.6% ... Processing 2945 files\r"
       ]
      },
      {
       "output_type": "stream",
       "stream": "stdout",
       "text": [
        "[#####################---------------------]  50.7% ... Processing 2945 files\r"
       ]
      },
      {
       "output_type": "stream",
       "stream": "stdout",
       "text": [
        "[#####################---------------------]  50.7% ... Processing 2945 files\r"
       ]
      },
      {
       "output_type": "stream",
       "stream": "stdout",
       "text": [
        "[#####################---------------------]  50.7% ... Processing 2945 files\r"
       ]
      },
      {
       "output_type": "stream",
       "stream": "stdout",
       "text": [
        "[#####################---------------------]  50.8% ... Processing 2945 files\r"
       ]
      },
      {
       "output_type": "stream",
       "stream": "stdout",
       "text": [
        "[#####################---------------------]  50.8% ... Processing 2945 files\r"
       ]
      },
      {
       "output_type": "stream",
       "stream": "stdout",
       "text": [
        "[#####################---------------------]  50.8% ... Processing 2945 files\r"
       ]
      },
      {
       "output_type": "stream",
       "stream": "stdout",
       "text": [
        "[#####################---------------------]  50.9% ... Processing 2945 files\r"
       ]
      },
      {
       "output_type": "stream",
       "stream": "stdout",
       "text": [
        "[#####################---------------------]  50.9% ... Processing 2945 files\r"
       ]
      },
      {
       "output_type": "stream",
       "stream": "stdout",
       "text": [
        "[#####################---------------------]  50.9% ... Processing 2945 files\r"
       ]
      },
      {
       "output_type": "stream",
       "stream": "stdout",
       "text": [
        "[#####################---------------------]  51.0% ... Processing 2945 files\r"
       ]
      },
      {
       "output_type": "stream",
       "stream": "stdout",
       "text": [
        "[#####################---------------------]  51.0% ... Processing 2945 files\r"
       ]
      },
      {
       "output_type": "stream",
       "stream": "stdout",
       "text": [
        "[#####################---------------------]  51.0% ... Processing 2945 files\r"
       ]
      },
      {
       "output_type": "stream",
       "stream": "stdout",
       "text": [
        "[#####################---------------------]  51.1% ... Processing 2945 files\r"
       ]
      },
      {
       "output_type": "stream",
       "stream": "stdout",
       "text": [
        "[#####################---------------------]  51.1% ... Processing 2945 files\r"
       ]
      },
      {
       "output_type": "stream",
       "stream": "stdout",
       "text": [
        "[#####################---------------------]  51.1% ... Processing 2945 files\r"
       ]
      },
      {
       "output_type": "stream",
       "stream": "stdout",
       "text": [
        "[#####################---------------------]  51.2% ... Processing 2945 files\r"
       ]
      },
      {
       "output_type": "stream",
       "stream": "stdout",
       "text": [
        "[######################--------------------]  51.2% ... Processing 2945 files\r"
       ]
      },
      {
       "output_type": "stream",
       "stream": "stdout",
       "text": [
        "[######################--------------------]  51.2% ... Processing 2945 files\r"
       ]
      },
      {
       "output_type": "stream",
       "stream": "stdout",
       "text": [
        "[######################--------------------]  51.3% ... Processing 2945 files\r"
       ]
      },
      {
       "output_type": "stream",
       "stream": "stdout",
       "text": [
        "[######################--------------------]  51.3% ... Processing 2945 files\r"
       ]
      },
      {
       "output_type": "stream",
       "stream": "stdout",
       "text": [
        "[######################--------------------]  51.3% ... Processing 2945 files\r"
       ]
      },
      {
       "output_type": "stream",
       "stream": "stdout",
       "text": [
        "[######################--------------------]  51.4% ... Processing 2945 files\r"
       ]
      },
      {
       "output_type": "stream",
       "stream": "stdout",
       "text": [
        "[######################--------------------]  51.4% ... Processing 2945 files\r"
       ]
      },
      {
       "output_type": "stream",
       "stream": "stdout",
       "text": [
        "[######################--------------------]  51.4% ... Processing 2945 files\r"
       ]
      },
      {
       "output_type": "stream",
       "stream": "stdout",
       "text": [
        "[######################--------------------]  51.5% ... Processing 2945 files\r"
       ]
      },
      {
       "output_type": "stream",
       "stream": "stdout",
       "text": [
        "[######################--------------------]  51.5% ... Processing 2945 files\r"
       ]
      },
      {
       "output_type": "stream",
       "stream": "stdout",
       "text": [
        "[######################--------------------]  51.5% ... Processing 2945 files\r"
       ]
      },
      {
       "output_type": "stream",
       "stream": "stdout",
       "text": [
        "[######################--------------------]  51.6% ... Processing 2945 files\r"
       ]
      },
      {
       "output_type": "stream",
       "stream": "stdout",
       "text": [
        "[######################--------------------]  51.6% ... Processing 2945 files\r"
       ]
      },
      {
       "output_type": "stream",
       "stream": "stdout",
       "text": [
        "[######################--------------------]  51.6% ... Processing 2945 files\r"
       ]
      },
      {
       "output_type": "stream",
       "stream": "stdout",
       "text": [
        "[######################--------------------]  51.7% ... Processing 2945 files\r"
       ]
      },
      {
       "output_type": "stream",
       "stream": "stdout",
       "text": [
        "[######################--------------------]  51.7% ... Processing 2945 files\r"
       ]
      },
      {
       "output_type": "stream",
       "stream": "stdout",
       "text": [
        "[######################--------------------]  51.7% ... Processing 2945 files\r"
       ]
      },
      {
       "output_type": "stream",
       "stream": "stdout",
       "text": [
        "[######################--------------------]  51.8% ... Processing 2945 files\r"
       ]
      },
      {
       "output_type": "stream",
       "stream": "stdout",
       "text": [
        "[######################--------------------]  51.8% ... Processing 2945 files\r"
       ]
      },
      {
       "output_type": "stream",
       "stream": "stdout",
       "text": [
        "[######################--------------------]  51.9% ... Processing 2945 files\r"
       ]
      },
      {
       "output_type": "stream",
       "stream": "stdout",
       "text": [
        "[######################--------------------]  51.9% ... Processing 2945 files\r"
       ]
      },
      {
       "output_type": "stream",
       "stream": "stdout",
       "text": [
        "[######################--------------------]  51.9% ... Processing 2945 files\r"
       ]
      },
      {
       "output_type": "stream",
       "stream": "stdout",
       "text": [
        "[######################--------------------]  52.0% ... Processing 2945 files\r"
       ]
      },
      {
       "output_type": "stream",
       "stream": "stdout",
       "text": [
        "[######################--------------------]  52.0% ... Processing 2945 files\r"
       ]
      },
      {
       "output_type": "stream",
       "stream": "stdout",
       "text": [
        "[######################--------------------]  52.0% ... Processing 2945 files\r"
       ]
      },
      {
       "output_type": "stream",
       "stream": "stdout",
       "text": [
        "[######################--------------------]  52.1% ... Processing 2945 files\r"
       ]
      },
      {
       "output_type": "stream",
       "stream": "stdout",
       "text": [
        "[######################--------------------]  52.1% ... Processing 2945 files\r"
       ]
      },
      {
       "output_type": "stream",
       "stream": "stdout",
       "text": [
        "[######################--------------------]  52.1% ... Processing 2945 files\r"
       ]
      },
      {
       "output_type": "stream",
       "stream": "stdout",
       "text": [
        "[######################--------------------]  52.2% ... Processing 2945 files\r"
       ]
      },
      {
       "output_type": "stream",
       "stream": "stdout",
       "text": [
        "[######################--------------------]  52.2% ... Processing 2945 files\r"
       ]
      },
      {
       "output_type": "stream",
       "stream": "stdout",
       "text": [
        "[######################--------------------]  52.2% ... Processing 2945 files\r"
       ]
      },
      {
       "output_type": "stream",
       "stream": "stdout",
       "text": [
        "[######################--------------------]  52.3% ... Processing 2945 files\r"
       ]
      },
      {
       "output_type": "stream",
       "stream": "stdout",
       "text": [
        "[######################--------------------]  52.3% ... Processing 2945 files\r"
       ]
      },
      {
       "output_type": "stream",
       "stream": "stdout",
       "text": [
        "[######################--------------------]  52.3% ... Processing 2945 files\r"
       ]
      },
      {
       "output_type": "stream",
       "stream": "stdout",
       "text": [
        "[######################--------------------]  52.4% ... Processing 2945 files\r"
       ]
      },
      {
       "output_type": "stream",
       "stream": "stdout",
       "text": [
        "[######################--------------------]  52.4% ... Processing 2945 files\r"
       ]
      },
      {
       "output_type": "stream",
       "stream": "stdout",
       "text": [
        "[######################--------------------]  52.4% ... Processing 2945 files\r"
       ]
      },
      {
       "output_type": "stream",
       "stream": "stdout",
       "text": [
        "[######################--------------------]  52.5% ... Processing 2945 files\r"
       ]
      },
      {
       "output_type": "stream",
       "stream": "stdout",
       "text": [
        "[######################--------------------]  52.5% ... Processing 2945 files\r"
       ]
      },
      {
       "output_type": "stream",
       "stream": "stdout",
       "text": [
        "[######################--------------------]  52.5% ... Processing 2945 files\r"
       ]
      },
      {
       "output_type": "stream",
       "stream": "stdout",
       "text": [
        "[######################--------------------]  52.6% ... Processing 2945 files\r"
       ]
      },
      {
       "output_type": "stream",
       "stream": "stdout",
       "text": [
        "[######################--------------------]  52.6% ... Processing 2945 files\r"
       ]
      },
      {
       "output_type": "stream",
       "stream": "stdout",
       "text": [
        "[######################--------------------]  52.6% ... Processing 2945 files\r"
       ]
      },
      {
       "output_type": "stream",
       "stream": "stdout",
       "text": [
        "[######################--------------------]  52.7% ... Processing 2945 files\r"
       ]
      },
      {
       "output_type": "stream",
       "stream": "stdout",
       "text": [
        "[######################--------------------]  52.7% ... Processing 2945 files\r"
       ]
      },
      {
       "output_type": "stream",
       "stream": "stdout",
       "text": [
        "[######################--------------------]  52.7% ... Processing 2945 files\r"
       ]
      },
      {
       "output_type": "stream",
       "stream": "stdout",
       "text": [
        "[######################--------------------]  52.8% ... Processing 2945 files\r"
       ]
      },
      {
       "output_type": "stream",
       "stream": "stdout",
       "text": [
        "[######################--------------------]  52.8% ... Processing 2945 files\r"
       ]
      },
      {
       "output_type": "stream",
       "stream": "stdout",
       "text": [
        "[######################--------------------]  52.8% ... Processing 2945 files\r"
       ]
      },
      {
       "output_type": "stream",
       "stream": "stdout",
       "text": [
        "[######################--------------------]  52.9% ... Processing 2945 files\r"
       ]
      },
      {
       "output_type": "stream",
       "stream": "stdout",
       "text": [
        "[######################--------------------]  52.9% ... Processing 2945 files\r"
       ]
      },
      {
       "output_type": "stream",
       "stream": "stdout",
       "text": [
        "[######################--------------------]  52.9% ... Processing 2945 files\r"
       ]
      },
      {
       "output_type": "stream",
       "stream": "stdout",
       "text": [
        "[######################--------------------]  53.0% ... Processing 2945 files\r"
       ]
      },
      {
       "output_type": "stream",
       "stream": "stdout",
       "text": [
        "[######################--------------------]  53.0% ... Processing 2945 files\r"
       ]
      },
      {
       "output_type": "stream",
       "stream": "stdout",
       "text": [
        "[######################--------------------]  53.0% ... Processing 2945 files\r"
       ]
      },
      {
       "output_type": "stream",
       "stream": "stdout",
       "text": [
        "[######################--------------------]  53.1% ... Processing 2945 files\r"
       ]
      },
      {
       "output_type": "stream",
       "stream": "stdout",
       "text": [
        "[######################--------------------]  53.1% ... Processing 2945 files\r"
       ]
      },
      {
       "output_type": "stream",
       "stream": "stdout",
       "text": [
        "[######################--------------------]  53.1% ... Processing 2945 files\r"
       ]
      },
      {
       "output_type": "stream",
       "stream": "stdout",
       "text": [
        "[######################--------------------]  53.2% ... Processing 2945 files\r"
       ]
      },
      {
       "output_type": "stream",
       "stream": "stdout",
       "text": [
        "[######################--------------------]  53.2% ... Processing 2945 files\r"
       ]
      },
      {
       "output_type": "stream",
       "stream": "stdout",
       "text": [
        "[######################--------------------]  53.2% ... Processing 2945 files\r"
       ]
      },
      {
       "output_type": "stream",
       "stream": "stdout",
       "text": [
        "[######################--------------------]  53.3% ... Processing 2945 files\r"
       ]
      },
      {
       "output_type": "stream",
       "stream": "stdout",
       "text": [
        "[######################--------------------]  53.3% ... Processing 2945 files\r"
       ]
      },
      {
       "output_type": "stream",
       "stream": "stdout",
       "text": [
        "[######################--------------------]  53.3% ... Processing 2945 files\r"
       ]
      },
      {
       "output_type": "stream",
       "stream": "stdout",
       "text": [
        "[######################--------------------]  53.4% ... Processing 2945 files\r"
       ]
      },
      {
       "output_type": "stream",
       "stream": "stdout",
       "text": [
        "[######################--------------------]  53.4% ... Processing 2945 files\r"
       ]
      },
      {
       "output_type": "stream",
       "stream": "stdout",
       "text": [
        "[######################--------------------]  53.4% ... Processing 2945 files\r"
       ]
      },
      {
       "output_type": "stream",
       "stream": "stdout",
       "text": [
        "[######################--------------------]  53.5% ... Processing 2945 files\r"
       ]
      },
      {
       "output_type": "stream",
       "stream": "stdout",
       "text": [
        "[######################--------------------]  53.5% ... Processing 2945 files\r"
       ]
      },
      {
       "output_type": "stream",
       "stream": "stdout",
       "text": [
        "[######################--------------------]  53.5% ... Processing 2945 files\r"
       ]
      },
      {
       "output_type": "stream",
       "stream": "stdout",
       "text": [
        "[#######################-------------------]  53.6% ... Processing 2945 files\r"
       ]
      },
      {
       "output_type": "stream",
       "stream": "stdout",
       "text": [
        "[#######################-------------------]  53.6% ... Processing 2945 files\r"
       ]
      },
      {
       "output_type": "stream",
       "stream": "stdout",
       "text": [
        "[#######################-------------------]  53.7% ... Processing 2945 files\r"
       ]
      },
      {
       "output_type": "stream",
       "stream": "stdout",
       "text": [
        "[#######################-------------------]  53.7% ... Processing 2945 files\r"
       ]
      },
      {
       "output_type": "stream",
       "stream": "stdout",
       "text": [
        "[#######################-------------------]  53.7% ... Processing 2945 files\r"
       ]
      },
      {
       "output_type": "stream",
       "stream": "stdout",
       "text": [
        "[#######################-------------------]  53.8% ... Processing 2945 files\r"
       ]
      },
      {
       "output_type": "stream",
       "stream": "stdout",
       "text": [
        "[#######################-------------------]  53.8% ... Processing 2945 files\r"
       ]
      },
      {
       "output_type": "stream",
       "stream": "stdout",
       "text": [
        "[#######################-------------------]  53.8% ... Processing 2945 files\r"
       ]
      },
      {
       "output_type": "stream",
       "stream": "stdout",
       "text": [
        "[#######################-------------------]  53.9% ... Processing 2945 files\r"
       ]
      },
      {
       "output_type": "stream",
       "stream": "stdout",
       "text": [
        "[#######################-------------------]  53.9% ... Processing 2945 files\r"
       ]
      },
      {
       "output_type": "stream",
       "stream": "stdout",
       "text": [
        "[#######################-------------------]  53.9% ... Processing 2945 files\r"
       ]
      },
      {
       "output_type": "stream",
       "stream": "stdout",
       "text": [
        "[#######################-------------------]  54.0% ... Processing 2945 files\r"
       ]
      },
      {
       "output_type": "stream",
       "stream": "stdout",
       "text": [
        "[#######################-------------------]  54.0% ... Processing 2945 files\r"
       ]
      },
      {
       "output_type": "stream",
       "stream": "stdout",
       "text": [
        "[#######################-------------------]  54.0% ... Processing 2945 files\r"
       ]
      },
      {
       "output_type": "stream",
       "stream": "stdout",
       "text": [
        "[#######################-------------------]  54.1% ... Processing 2945 files\r"
       ]
      },
      {
       "output_type": "stream",
       "stream": "stdout",
       "text": [
        "[#######################-------------------]  54.1% ... Processing 2945 files\r"
       ]
      },
      {
       "output_type": "stream",
       "stream": "stdout",
       "text": [
        "[#######################-------------------]  54.1% ... Processing 2945 files\r"
       ]
      },
      {
       "output_type": "stream",
       "stream": "stdout",
       "text": [
        "[#######################-------------------]  54.2% ... Processing 2945 files\r"
       ]
      },
      {
       "output_type": "stream",
       "stream": "stdout",
       "text": [
        "[#######################-------------------]  54.2% ... Processing 2945 files\r"
       ]
      },
      {
       "output_type": "stream",
       "stream": "stdout",
       "text": [
        "[#######################-------------------]  54.2% ... Processing 2945 files\r"
       ]
      },
      {
       "output_type": "stream",
       "stream": "stdout",
       "text": [
        "[#######################-------------------]  54.3% ... Processing 2945 files\r"
       ]
      },
      {
       "output_type": "stream",
       "stream": "stdout",
       "text": [
        "[#######################-------------------]  54.3% ... Processing 2945 files\r"
       ]
      },
      {
       "output_type": "stream",
       "stream": "stdout",
       "text": [
        "[#######################-------------------]  54.3% ... Processing 2945 files\r"
       ]
      },
      {
       "output_type": "stream",
       "stream": "stdout",
       "text": [
        "[#######################-------------------]  54.4% ... Processing 2945 files\r"
       ]
      },
      {
       "output_type": "stream",
       "stream": "stdout",
       "text": [
        "[#######################-------------------]  54.4% ... Processing 2945 files\r"
       ]
      },
      {
       "output_type": "stream",
       "stream": "stdout",
       "text": [
        "[#######################-------------------]  54.4% ... Processing 2945 files\r"
       ]
      },
      {
       "output_type": "stream",
       "stream": "stdout",
       "text": [
        "[#######################-------------------]  54.5% ... Processing 2945 files\r"
       ]
      },
      {
       "output_type": "stream",
       "stream": "stdout",
       "text": [
        "[#######################-------------------]  54.5% ... Processing 2945 files\r"
       ]
      },
      {
       "output_type": "stream",
       "stream": "stdout",
       "text": [
        "[#######################-------------------]  54.5% ... Processing 2945 files\r"
       ]
      },
      {
       "output_type": "stream",
       "stream": "stdout",
       "text": [
        "[#######################-------------------]  54.6% ... Processing 2945 files\r"
       ]
      },
      {
       "output_type": "stream",
       "stream": "stdout",
       "text": [
        "[#######################-------------------]  54.6% ... Processing 2945 files\r"
       ]
      },
      {
       "output_type": "stream",
       "stream": "stdout",
       "text": [
        "[#######################-------------------]  54.6% ... Processing 2945 files\r"
       ]
      },
      {
       "output_type": "stream",
       "stream": "stdout",
       "text": [
        "[#######################-------------------]  54.7% ... Processing 2945 files\r"
       ]
      },
      {
       "output_type": "stream",
       "stream": "stdout",
       "text": [
        "[#######################-------------------]  54.7% ... Processing 2945 files\r"
       ]
      },
      {
       "output_type": "stream",
       "stream": "stdout",
       "text": [
        "[#######################-------------------]  54.7% ... Processing 2945 files\r"
       ]
      },
      {
       "output_type": "stream",
       "stream": "stdout",
       "text": [
        "[#######################-------------------]  54.8% ... Processing 2945 files\r"
       ]
      },
      {
       "output_type": "stream",
       "stream": "stdout",
       "text": [
        "[#######################-------------------]  54.8% ... Processing 2945 files\r"
       ]
      },
      {
       "output_type": "stream",
       "stream": "stdout",
       "text": [
        "[#######################-------------------]  54.8% ... Processing 2945 files\r"
       ]
      },
      {
       "output_type": "stream",
       "stream": "stdout",
       "text": [
        "[#######################-------------------]  54.9% ... Processing 2945 files\r"
       ]
      },
      {
       "output_type": "stream",
       "stream": "stdout",
       "text": [
        "[#######################-------------------]  54.9% ... Processing 2945 files\r"
       ]
      },
      {
       "output_type": "stream",
       "stream": "stdout",
       "text": [
        "[#######################-------------------]  54.9% ... Processing 2945 files\r"
       ]
      },
      {
       "output_type": "stream",
       "stream": "stdout",
       "text": [
        "[#######################-------------------]  55.0% ... Processing 2945 files\r"
       ]
      },
      {
       "output_type": "stream",
       "stream": "stdout",
       "text": [
        "[#######################-------------------]  55.0% ... Processing 2945 files\r"
       ]
      },
      {
       "output_type": "stream",
       "stream": "stdout",
       "text": [
        "[#######################-------------------]  55.0% ... Processing 2945 files\r"
       ]
      },
      {
       "output_type": "stream",
       "stream": "stdout",
       "text": [
        "[#######################-------------------]  55.1% ... Processing 2945 files\r"
       ]
      },
      {
       "output_type": "stream",
       "stream": "stdout",
       "text": [
        "[#######################-------------------]  55.1% ... Processing 2945 files\r"
       ]
      },
      {
       "output_type": "stream",
       "stream": "stdout",
       "text": [
        "[#######################-------------------]  55.1% ... Processing 2945 files\r"
       ]
      },
      {
       "output_type": "stream",
       "stream": "stdout",
       "text": [
        "[#######################-------------------]  55.2% ... Processing 2945 files\r"
       ]
      },
      {
       "output_type": "stream",
       "stream": "stdout",
       "text": [
        "[#######################-------------------]  55.2% ... Processing 2945 files\r"
       ]
      },
      {
       "output_type": "stream",
       "stream": "stdout",
       "text": [
        "[#######################-------------------]  55.2% ... Processing 2945 files\r"
       ]
      },
      {
       "output_type": "stream",
       "stream": "stdout",
       "text": [
        "[#######################-------------------]  55.3% ... Processing 2945 files\r"
       ]
      },
      {
       "output_type": "stream",
       "stream": "stdout",
       "text": [
        "[#######################-------------------]  55.3% ... Processing 2945 files\r"
       ]
      },
      {
       "output_type": "stream",
       "stream": "stdout",
       "text": [
        "[#######################-------------------]  55.3% ... Processing 2945 files\r"
       ]
      },
      {
       "output_type": "stream",
       "stream": "stdout",
       "text": [
        "[#######################-------------------]  55.4% ... Processing 2945 files\r"
       ]
      },
      {
       "output_type": "stream",
       "stream": "stdout",
       "text": [
        "[#######################-------------------]  55.4% ... Processing 2945 files\r"
       ]
      },
      {
       "output_type": "stream",
       "stream": "stdout",
       "text": [
        "[#######################-------------------]  55.4% ... Processing 2945 files\r"
       ]
      },
      {
       "output_type": "stream",
       "stream": "stdout",
       "text": [
        "[#######################-------------------]  55.5% ... Processing 2945 files\r"
       ]
      },
      {
       "output_type": "stream",
       "stream": "stdout",
       "text": [
        "[#######################-------------------]  55.5% ... Processing 2945 files\r"
       ]
      },
      {
       "output_type": "stream",
       "stream": "stdout",
       "text": [
        "[#######################-------------------]  55.6% ... Processing 2945 files\r"
       ]
      },
      {
       "output_type": "stream",
       "stream": "stdout",
       "text": [
        "[#######################-------------------]  55.6% ... Processing 2945 files\r"
       ]
      },
      {
       "output_type": "stream",
       "stream": "stdout",
       "text": [
        "[#######################-------------------]  55.6% ... Processing 2945 files\r"
       ]
      },
      {
       "output_type": "stream",
       "stream": "stdout",
       "text": [
        "[#######################-------------------]  55.7% ... Processing 2945 files\r"
       ]
      },
      {
       "output_type": "stream",
       "stream": "stdout",
       "text": [
        "[#######################-------------------]  55.7% ... Processing 2945 files\r"
       ]
      },
      {
       "output_type": "stream",
       "stream": "stdout",
       "text": [
        "[#######################-------------------]  55.7% ... Processing 2945 files\r"
       ]
      },
      {
       "output_type": "stream",
       "stream": "stdout",
       "text": [
        "[#######################-------------------]  55.8% ... Processing 2945 files\r"
       ]
      },
      {
       "output_type": "stream",
       "stream": "stdout",
       "text": [
        "[#######################-------------------]  55.8% ... Processing 2945 files\r"
       ]
      },
      {
       "output_type": "stream",
       "stream": "stdout",
       "text": [
        "[#######################-------------------]  55.8% ... Processing 2945 files\r"
       ]
      },
      {
       "output_type": "stream",
       "stream": "stdout",
       "text": [
        "[#######################-------------------]  55.9% ... Processing 2945 files\r"
       ]
      },
      {
       "output_type": "stream",
       "stream": "stdout",
       "text": [
        "[#######################-------------------]  55.9% ... Processing 2945 files\r"
       ]
      },
      {
       "output_type": "stream",
       "stream": "stdout",
       "text": [
        "[#######################-------------------]  55.9% ... Processing 2945 files\r"
       ]
      },
      {
       "output_type": "stream",
       "stream": "stdout",
       "text": [
        "[########################------------------]  56.0% ... Processing 2945 files\r"
       ]
      },
      {
       "output_type": "stream",
       "stream": "stdout",
       "text": [
        "[########################------------------]  56.0% ... Processing 2945 files\r"
       ]
      },
      {
       "output_type": "stream",
       "stream": "stdout",
       "text": [
        "[########################------------------]  56.0% ... Processing 2945 files\r"
       ]
      },
      {
       "output_type": "stream",
       "stream": "stdout",
       "text": [
        "[########################------------------]  56.1% ... Processing 2945 files\r"
       ]
      },
      {
       "output_type": "stream",
       "stream": "stdout",
       "text": [
        "[########################------------------]  56.1% ... Processing 2945 files\r"
       ]
      },
      {
       "output_type": "stream",
       "stream": "stdout",
       "text": [
        "[########################------------------]  56.1% ... Processing 2945 files\r"
       ]
      },
      {
       "output_type": "stream",
       "stream": "stdout",
       "text": [
        "[########################------------------]  56.2% ... Processing 2945 files\r"
       ]
      },
      {
       "output_type": "stream",
       "stream": "stdout",
       "text": [
        "[########################------------------]  56.2% ... Processing 2945 files\r"
       ]
      },
      {
       "output_type": "stream",
       "stream": "stdout",
       "text": [
        "[########################------------------]  56.2% ... Processing 2945 files\r"
       ]
      },
      {
       "output_type": "stream",
       "stream": "stdout",
       "text": [
        "[########################------------------]  56.3% ... Processing 2945 files\r"
       ]
      },
      {
       "output_type": "stream",
       "stream": "stdout",
       "text": [
        "[########################------------------]  56.3% ... Processing 2945 files\r"
       ]
      },
      {
       "output_type": "stream",
       "stream": "stdout",
       "text": [
        "[########################------------------]  56.3% ... Processing 2945 files\r"
       ]
      },
      {
       "output_type": "stream",
       "stream": "stdout",
       "text": [
        "[########################------------------]  56.4% ... Processing 2945 files\r"
       ]
      },
      {
       "output_type": "stream",
       "stream": "stdout",
       "text": [
        "[########################------------------]  56.4% ... Processing 2945 files\r"
       ]
      },
      {
       "output_type": "stream",
       "stream": "stdout",
       "text": [
        "[########################------------------]  56.4% ... Processing 2945 files\r"
       ]
      },
      {
       "output_type": "stream",
       "stream": "stdout",
       "text": [
        "[########################------------------]  56.5% ... Processing 2945 files\r"
       ]
      },
      {
       "output_type": "stream",
       "stream": "stdout",
       "text": [
        "[########################------------------]  56.5% ... Processing 2945 files\r"
       ]
      },
      {
       "output_type": "stream",
       "stream": "stdout",
       "text": [
        "[########################------------------]  56.5% ... Processing 2945 files\r"
       ]
      },
      {
       "output_type": "stream",
       "stream": "stdout",
       "text": [
        "[########################------------------]  56.6% ... Processing 2945 files\r"
       ]
      },
      {
       "output_type": "stream",
       "stream": "stdout",
       "text": [
        "[########################------------------]  56.6% ... Processing 2945 files\r"
       ]
      },
      {
       "output_type": "stream",
       "stream": "stdout",
       "text": [
        "[########################------------------]  56.6% ... Processing 2945 files\r"
       ]
      },
      {
       "output_type": "stream",
       "stream": "stdout",
       "text": [
        "[########################------------------]  56.7% ... Processing 2945 files\r"
       ]
      },
      {
       "output_type": "stream",
       "stream": "stdout",
       "text": [
        "[########################------------------]  56.7% ... Processing 2945 files\r"
       ]
      },
      {
       "output_type": "stream",
       "stream": "stdout",
       "text": [
        "[########################------------------]  56.7% ... Processing 2945 files\r"
       ]
      },
      {
       "output_type": "stream",
       "stream": "stdout",
       "text": [
        "[########################------------------]  56.8% ... Processing 2945 files\r"
       ]
      },
      {
       "output_type": "stream",
       "stream": "stdout",
       "text": [
        "[########################------------------]  56.8% ... Processing 2945 files\r"
       ]
      },
      {
       "output_type": "stream",
       "stream": "stdout",
       "text": [
        "[########################------------------]  56.8% ... Processing 2945 files\r"
       ]
      },
      {
       "output_type": "stream",
       "stream": "stdout",
       "text": [
        "[########################------------------]  56.9% ... Processing 2945 files\r"
       ]
      },
      {
       "output_type": "stream",
       "stream": "stdout",
       "text": [
        "[########################------------------]  56.9% ... Processing 2945 files\r"
       ]
      },
      {
       "output_type": "stream",
       "stream": "stdout",
       "text": [
        "[########################------------------]  56.9% ... Processing 2945 files\r"
       ]
      },
      {
       "output_type": "stream",
       "stream": "stdout",
       "text": [
        "[########################------------------]  57.0% ... Processing 2945 files\r"
       ]
      },
      {
       "output_type": "stream",
       "stream": "stdout",
       "text": [
        "[########################------------------]  57.0% ... Processing 2945 files\r"
       ]
      },
      {
       "output_type": "stream",
       "stream": "stdout",
       "text": [
        "[########################------------------]  57.0% ... Processing 2945 files\r"
       ]
      },
      {
       "output_type": "stream",
       "stream": "stdout",
       "text": [
        "[########################------------------]  57.1% ... Processing 2945 files\r"
       ]
      },
      {
       "output_type": "stream",
       "stream": "stdout",
       "text": [
        "[########################------------------]  57.1% ... Processing 2945 files\r"
       ]
      },
      {
       "output_type": "stream",
       "stream": "stdout",
       "text": [
        "[########################------------------]  57.1% ... Processing 2945 files\r"
       ]
      },
      {
       "output_type": "stream",
       "stream": "stdout",
       "text": [
        "[########################------------------]  57.2% ... Processing 2945 files\r"
       ]
      },
      {
       "output_type": "stream",
       "stream": "stdout",
       "text": [
        "[########################------------------]  57.2% ... Processing 2945 files\r"
       ]
      },
      {
       "output_type": "stream",
       "stream": "stdout",
       "text": [
        "[########################------------------]  57.2% ... Processing 2945 files\r"
       ]
      },
      {
       "output_type": "stream",
       "stream": "stdout",
       "text": [
        "[########################------------------]  57.3% ... Processing 2945 files\r"
       ]
      },
      {
       "output_type": "stream",
       "stream": "stdout",
       "text": [
        "[########################------------------]  57.3% ... Processing 2945 files\r"
       ]
      },
      {
       "output_type": "stream",
       "stream": "stdout",
       "text": [
        "[########################------------------]  57.4% ... Processing 2945 files\r"
       ]
      },
      {
       "output_type": "stream",
       "stream": "stdout",
       "text": [
        "[########################------------------]  57.4% ... Processing 2945 files\r"
       ]
      },
      {
       "output_type": "stream",
       "stream": "stdout",
       "text": [
        "[########################------------------]  57.4% ... Processing 2945 files\r"
       ]
      },
      {
       "output_type": "stream",
       "stream": "stdout",
       "text": [
        "[########################------------------]  57.5% ... Processing 2945 files\r"
       ]
      },
      {
       "output_type": "stream",
       "stream": "stdout",
       "text": [
        "[########################------------------]  57.5% ... Processing 2945 files\r"
       ]
      },
      {
       "output_type": "stream",
       "stream": "stdout",
       "text": [
        "[########################------------------]  57.5% ... Processing 2945 files\r"
       ]
      },
      {
       "output_type": "stream",
       "stream": "stdout",
       "text": [
        "[########################------------------]  57.6% ... Processing 2945 files\r"
       ]
      },
      {
       "output_type": "stream",
       "stream": "stdout",
       "text": [
        "[########################------------------]  57.6% ... Processing 2945 files\r"
       ]
      },
      {
       "output_type": "stream",
       "stream": "stdout",
       "text": [
        "[########################------------------]  57.6% ... Processing 2945 files\r"
       ]
      },
      {
       "output_type": "stream",
       "stream": "stdout",
       "text": [
        "[########################------------------]  57.7% ... Processing 2945 files\r"
       ]
      },
      {
       "output_type": "stream",
       "stream": "stdout",
       "text": [
        "[########################------------------]  57.7% ... Processing 2945 files\r"
       ]
      },
      {
       "output_type": "stream",
       "stream": "stdout",
       "text": [
        "[########################------------------]  57.7% ... Processing 2945 files\r"
       ]
      },
      {
       "output_type": "stream",
       "stream": "stdout",
       "text": [
        "[########################------------------]  57.8% ... Processing 2945 files\r"
       ]
      },
      {
       "output_type": "stream",
       "stream": "stdout",
       "text": [
        "[########################------------------]  57.8% ... Processing 2945 files\r"
       ]
      },
      {
       "output_type": "stream",
       "stream": "stdout",
       "text": [
        "[########################------------------]  57.8% ... Processing 2945 files\r"
       ]
      },
      {
       "output_type": "stream",
       "stream": "stdout",
       "text": [
        "[########################------------------]  57.9% ... Processing 2945 files\r"
       ]
      },
      {
       "output_type": "stream",
       "stream": "stdout",
       "text": [
        "[########################------------------]  57.9% ... Processing 2945 files\r"
       ]
      },
      {
       "output_type": "stream",
       "stream": "stdout",
       "text": [
        "[########################------------------]  57.9% ... Processing 2945 files\r"
       ]
      },
      {
       "output_type": "stream",
       "stream": "stdout",
       "text": [
        "[########################------------------]  58.0% ... Processing 2945 files\r"
       ]
      },
      {
       "output_type": "stream",
       "stream": "stdout",
       "text": [
        "[########################------------------]  58.0% ... Processing 2945 files\r"
       ]
      },
      {
       "output_type": "stream",
       "stream": "stdout",
       "text": [
        "[########################------------------]  58.0% ... Processing 2945 files\r"
       ]
      },
      {
       "output_type": "stream",
       "stream": "stdout",
       "text": [
        "[########################------------------]  58.1% ... Processing 2945 files\r"
       ]
      },
      {
       "output_type": "stream",
       "stream": "stdout",
       "text": [
        "[########################------------------]  58.1% ... Processing 2945 files\r"
       ]
      },
      {
       "output_type": "stream",
       "stream": "stdout",
       "text": [
        "[########################------------------]  58.1% ... Processing 2945 files\r"
       ]
      },
      {
       "output_type": "stream",
       "stream": "stdout",
       "text": [
        "[########################------------------]  58.2% ... Processing 2945 files\r"
       ]
      },
      {
       "output_type": "stream",
       "stream": "stdout",
       "text": [
        "[########################------------------]  58.2% ... Processing 2945 files\r"
       ]
      },
      {
       "output_type": "stream",
       "stream": "stdout",
       "text": [
        "[########################------------------]  58.2% ... Processing 2945 files\r"
       ]
      },
      {
       "output_type": "stream",
       "stream": "stdout",
       "text": [
        "[########################------------------]  58.3% ... Processing 2945 files\r"
       ]
      },
      {
       "output_type": "stream",
       "stream": "stdout",
       "text": [
        "[########################------------------]  58.3% ... Processing 2945 files\r"
       ]
      },
      {
       "output_type": "stream",
       "stream": "stdout",
       "text": [
        "[#########################-----------------]  58.3% ... Processing 2945 files\r"
       ]
      },
      {
       "output_type": "stream",
       "stream": "stdout",
       "text": [
        "[#########################-----------------]  58.4% ... Processing 2945 files\r"
       ]
      },
      {
       "output_type": "stream",
       "stream": "stdout",
       "text": [
        "[#########################-----------------]  58.4% ... Processing 2945 files\r"
       ]
      },
      {
       "output_type": "stream",
       "stream": "stdout",
       "text": [
        "[#########################-----------------]  58.4% ... Processing 2945 files\r"
       ]
      },
      {
       "output_type": "stream",
       "stream": "stdout",
       "text": [
        "[#########################-----------------]  58.5% ... Processing 2945 files\r"
       ]
      },
      {
       "output_type": "stream",
       "stream": "stdout",
       "text": [
        "[#########################-----------------]  58.5% ... Processing 2945 files\r"
       ]
      },
      {
       "output_type": "stream",
       "stream": "stdout",
       "text": [
        "[#########################-----------------]  58.5% ... Processing 2945 files\r"
       ]
      },
      {
       "output_type": "stream",
       "stream": "stdout",
       "text": [
        "[#########################-----------------]  58.6% ... Processing 2945 files\r"
       ]
      },
      {
       "output_type": "stream",
       "stream": "stdout",
       "text": [
        "[#########################-----------------]  58.6% ... Processing 2945 files\r"
       ]
      },
      {
       "output_type": "stream",
       "stream": "stdout",
       "text": [
        "[#########################-----------------]  58.6% ... Processing 2945 files\r"
       ]
      },
      {
       "output_type": "stream",
       "stream": "stdout",
       "text": [
        "[#########################-----------------]  58.7% ... Processing 2945 files\r"
       ]
      },
      {
       "output_type": "stream",
       "stream": "stdout",
       "text": [
        "[#########################-----------------]  58.7% ... Processing 2945 files\r"
       ]
      },
      {
       "output_type": "stream",
       "stream": "stdout",
       "text": [
        "[#########################-----------------]  58.7% ... Processing 2945 files\r"
       ]
      },
      {
       "output_type": "stream",
       "stream": "stdout",
       "text": [
        "[#########################-----------------]  58.8% ... Processing 2945 files\r"
       ]
      },
      {
       "output_type": "stream",
       "stream": "stdout",
       "text": [
        "[#########################-----------------]  58.8% ... Processing 2945 files\r"
       ]
      },
      {
       "output_type": "stream",
       "stream": "stdout",
       "text": [
        "[#########################-----------------]  58.8% ... Processing 2945 files\r"
       ]
      },
      {
       "output_type": "stream",
       "stream": "stdout",
       "text": [
        "[#########################-----------------]  58.9% ... Processing 2945 files\r"
       ]
      },
      {
       "output_type": "stream",
       "stream": "stdout",
       "text": [
        "[#########################-----------------]  58.9% ... Processing 2945 files\r"
       ]
      },
      {
       "output_type": "stream",
       "stream": "stdout",
       "text": [
        "[#########################-----------------]  58.9% ... Processing 2945 files\r"
       ]
      },
      {
       "output_type": "stream",
       "stream": "stdout",
       "text": [
        "[#########################-----------------]  59.0% ... Processing 2945 files\r"
       ]
      },
      {
       "output_type": "stream",
       "stream": "stdout",
       "text": [
        "[#########################-----------------]  59.0% ... Processing 2945 files\r"
       ]
      },
      {
       "output_type": "stream",
       "stream": "stdout",
       "text": [
        "[#########################-----------------]  59.0% ... Processing 2945 files\r"
       ]
      },
      {
       "output_type": "stream",
       "stream": "stdout",
       "text": [
        "[#########################-----------------]  59.1% ... Processing 2945 files\r"
       ]
      },
      {
       "output_type": "stream",
       "stream": "stdout",
       "text": [
        "[#########################-----------------]  59.1% ... Processing 2945 files\r"
       ]
      },
      {
       "output_type": "stream",
       "stream": "stdout",
       "text": [
        "[#########################-----------------]  59.2% ... Processing 2945 files\r"
       ]
      },
      {
       "output_type": "stream",
       "stream": "stdout",
       "text": [
        "[#########################-----------------]  59.2% ... Processing 2945 files\r"
       ]
      },
      {
       "output_type": "stream",
       "stream": "stdout",
       "text": [
        "[#########################-----------------]  59.2% ... Processing 2945 files\r"
       ]
      },
      {
       "output_type": "stream",
       "stream": "stdout",
       "text": [
        "[#########################-----------------]  59.3% ... Processing 2945 files\r"
       ]
      },
      {
       "output_type": "stream",
       "stream": "stdout",
       "text": [
        "[#########################-----------------]  59.3% ... Processing 2945 files\r"
       ]
      },
      {
       "output_type": "stream",
       "stream": "stdout",
       "text": [
        "[#########################-----------------]  59.3% ... Processing 2945 files\r"
       ]
      },
      {
       "output_type": "stream",
       "stream": "stdout",
       "text": [
        "[#########################-----------------]  59.4% ... Processing 2945 files\r"
       ]
      },
      {
       "output_type": "stream",
       "stream": "stdout",
       "text": [
        "[#########################-----------------]  59.4% ... Processing 2945 files\r"
       ]
      },
      {
       "output_type": "stream",
       "stream": "stdout",
       "text": [
        "[#########################-----------------]  59.4% ... Processing 2945 files\r"
       ]
      },
      {
       "output_type": "stream",
       "stream": "stdout",
       "text": [
        "[#########################-----------------]  59.5% ... Processing 2945 files\r"
       ]
      },
      {
       "output_type": "stream",
       "stream": "stdout",
       "text": [
        "[#########################-----------------]  59.5% ... Processing 2945 files\r"
       ]
      },
      {
       "output_type": "stream",
       "stream": "stdout",
       "text": [
        "[#########################-----------------]  59.5% ... Processing 2945 files\r"
       ]
      },
      {
       "output_type": "stream",
       "stream": "stdout",
       "text": [
        "[#########################-----------------]  59.6% ... Processing 2945 files\r"
       ]
      },
      {
       "output_type": "stream",
       "stream": "stdout",
       "text": [
        "[#########################-----------------]  59.6% ... Processing 2945 files\r"
       ]
      },
      {
       "output_type": "stream",
       "stream": "stdout",
       "text": [
        "[#########################-----------------]  59.6% ... Processing 2945 files\r"
       ]
      },
      {
       "output_type": "stream",
       "stream": "stdout",
       "text": [
        "[#########################-----------------]  59.7% ... Processing 2945 files\r"
       ]
      },
      {
       "output_type": "stream",
       "stream": "stdout",
       "text": [
        "[#########################-----------------]  59.7% ... Processing 2945 files\r"
       ]
      },
      {
       "output_type": "stream",
       "stream": "stdout",
       "text": [
        "[#########################-----------------]  59.7% ... Processing 2945 files\r"
       ]
      },
      {
       "output_type": "stream",
       "stream": "stdout",
       "text": [
        "[#########################-----------------]  59.8% ... Processing 2945 files\r"
       ]
      },
      {
       "output_type": "stream",
       "stream": "stdout",
       "text": [
        "[#########################-----------------]  59.8% ... Processing 2945 files\r"
       ]
      },
      {
       "output_type": "stream",
       "stream": "stdout",
       "text": [
        "[#########################-----------------]  59.8% ... Processing 2945 files\r"
       ]
      },
      {
       "output_type": "stream",
       "stream": "stdout",
       "text": [
        "[#########################-----------------]  59.9% ... Processing 2945 files\r"
       ]
      },
      {
       "output_type": "stream",
       "stream": "stdout",
       "text": [
        "[#########################-----------------]  59.9% ... Processing 2945 files\r"
       ]
      },
      {
       "output_type": "stream",
       "stream": "stdout",
       "text": [
        "[#########################-----------------]  59.9% ... Processing 2945 files\r"
       ]
      },
      {
       "output_type": "stream",
       "stream": "stdout",
       "text": [
        "[#########################-----------------]  60.0% ... Processing 2945 files\r"
       ]
      },
      {
       "output_type": "stream",
       "stream": "stdout",
       "text": [
        "[#########################-----------------]  60.0% ... Processing 2945 files\r"
       ]
      },
      {
       "output_type": "stream",
       "stream": "stdout",
       "text": [
        "[#########################-----------------]  60.0% ... Processing 2945 files\r"
       ]
      },
      {
       "output_type": "stream",
       "stream": "stdout",
       "text": [
        "[#########################-----------------]  60.1% ... Processing 2945 files\r"
       ]
      },
      {
       "output_type": "stream",
       "stream": "stdout",
       "text": [
        "[#########################-----------------]  60.1% ... Processing 2945 files\r"
       ]
      },
      {
       "output_type": "stream",
       "stream": "stdout",
       "text": [
        "[#########################-----------------]  60.1% ... Processing 2945 files\r"
       ]
      },
      {
       "output_type": "stream",
       "stream": "stdout",
       "text": [
        "[#########################-----------------]  60.2% ... Processing 2945 files\r"
       ]
      },
      {
       "output_type": "stream",
       "stream": "stdout",
       "text": [
        "[#########################-----------------]  60.2% ... Processing 2945 files\r"
       ]
      },
      {
       "output_type": "stream",
       "stream": "stdout",
       "text": [
        "[#########################-----------------]  60.2% ... Processing 2945 files\r"
       ]
      },
      {
       "output_type": "stream",
       "stream": "stdout",
       "text": [
        "[#########################-----------------]  60.3% ... Processing 2945 files\r"
       ]
      },
      {
       "output_type": "stream",
       "stream": "stdout",
       "text": [
        "[#########################-----------------]  60.3% ... Processing 2945 files\r"
       ]
      },
      {
       "output_type": "stream",
       "stream": "stdout",
       "text": [
        "[#########################-----------------]  60.3% ... Processing 2945 files\r"
       ]
      },
      {
       "output_type": "stream",
       "stream": "stdout",
       "text": [
        "[#########################-----------------]  60.4% ... Processing 2945 files\r"
       ]
      },
      {
       "output_type": "stream",
       "stream": "stdout",
       "text": [
        "[#########################-----------------]  60.4% ... Processing 2945 files\r"
       ]
      },
      {
       "output_type": "stream",
       "stream": "stdout",
       "text": [
        "[#########################-----------------]  60.4% ... Processing 2945 files\r"
       ]
      },
      {
       "output_type": "stream",
       "stream": "stdout",
       "text": [
        "[#########################-----------------]  60.5% ... Processing 2945 files\r"
       ]
      },
      {
       "output_type": "stream",
       "stream": "stdout",
       "text": [
        "[#########################-----------------]  60.5% ... Processing 2945 files\r"
       ]
      },
      {
       "output_type": "stream",
       "stream": "stdout",
       "text": [
        "[#########################-----------------]  60.5% ... Processing 2945 files\r"
       ]
      },
      {
       "output_type": "stream",
       "stream": "stdout",
       "text": [
        "[#########################-----------------]  60.6% ... Processing 2945 files\r"
       ]
      },
      {
       "output_type": "stream",
       "stream": "stdout",
       "text": [
        "[#########################-----------------]  60.6% ... Processing 2945 files\r"
       ]
      },
      {
       "output_type": "stream",
       "stream": "stdout",
       "text": [
        "[#########################-----------------]  60.6% ... Processing 2945 files\r"
       ]
      },
      {
       "output_type": "stream",
       "stream": "stdout",
       "text": [
        "[#########################-----------------]  60.7% ... Processing 2945 files\r"
       ]
      },
      {
       "output_type": "stream",
       "stream": "stdout",
       "text": [
        "[#########################-----------------]  60.7% ... Processing 2945 files\r"
       ]
      },
      {
       "output_type": "stream",
       "stream": "stdout",
       "text": [
        "[##########################----------------]  60.7% ... Processing 2945 files\r"
       ]
      },
      {
       "output_type": "stream",
       "stream": "stdout",
       "text": [
        "[##########################----------------]  60.8% ... Processing 2945 files\r"
       ]
      },
      {
       "output_type": "stream",
       "stream": "stdout",
       "text": [
        "[##########################----------------]  60.8% ... Processing 2945 files\r"
       ]
      },
      {
       "output_type": "stream",
       "stream": "stdout",
       "text": [
        "[##########################----------------]  60.8% ... Processing 2945 files\r"
       ]
      },
      {
       "output_type": "stream",
       "stream": "stdout",
       "text": [
        "[##########################----------------]  60.9% ... Processing 2945 files\r"
       ]
      },
      {
       "output_type": "stream",
       "stream": "stdout",
       "text": [
        "[##########################----------------]  60.9% ... Processing 2945 files\r"
       ]
      },
      {
       "output_type": "stream",
       "stream": "stdout",
       "text": [
        "[##########################----------------]  61.0% ... Processing 2945 files\r"
       ]
      },
      {
       "output_type": "stream",
       "stream": "stdout",
       "text": [
        "[##########################----------------]  61.0% ... Processing 2945 files\r"
       ]
      },
      {
       "output_type": "stream",
       "stream": "stdout",
       "text": [
        "[##########################----------------]  61.0% ... Processing 2945 files\r"
       ]
      },
      {
       "output_type": "stream",
       "stream": "stdout",
       "text": [
        "[##########################----------------]  61.1% ... Processing 2945 files\r"
       ]
      },
      {
       "output_type": "stream",
       "stream": "stdout",
       "text": [
        "[##########################----------------]  61.1% ... Processing 2945 files\r"
       ]
      },
      {
       "output_type": "stream",
       "stream": "stdout",
       "text": [
        "[##########################----------------]  61.1% ... Processing 2945 files\r"
       ]
      },
      {
       "output_type": "stream",
       "stream": "stdout",
       "text": [
        "[##########################----------------]  61.2% ... Processing 2945 files\r"
       ]
      },
      {
       "output_type": "stream",
       "stream": "stdout",
       "text": [
        "[##########################----------------]  61.2% ... Processing 2945 files\r"
       ]
      },
      {
       "output_type": "stream",
       "stream": "stdout",
       "text": [
        "[##########################----------------]  61.2% ... Processing 2945 files\r"
       ]
      },
      {
       "output_type": "stream",
       "stream": "stdout",
       "text": [
        "[##########################----------------]  61.3% ... Processing 2945 files\r"
       ]
      },
      {
       "output_type": "stream",
       "stream": "stdout",
       "text": [
        "[##########################----------------]  61.3% ... Processing 2945 files\r"
       ]
      },
      {
       "output_type": "stream",
       "stream": "stdout",
       "text": [
        "[##########################----------------]  61.3% ... Processing 2945 files\r"
       ]
      },
      {
       "output_type": "stream",
       "stream": "stdout",
       "text": [
        "[##########################----------------]  61.4% ... Processing 2945 files\r"
       ]
      },
      {
       "output_type": "stream",
       "stream": "stdout",
       "text": [
        "[##########################----------------]  61.4% ... Processing 2945 files\r"
       ]
      },
      {
       "output_type": "stream",
       "stream": "stdout",
       "text": [
        "[##########################----------------]  61.4% ... Processing 2945 files\r"
       ]
      },
      {
       "output_type": "stream",
       "stream": "stdout",
       "text": [
        "[##########################----------------]  61.5% ... Processing 2945 files\r"
       ]
      },
      {
       "output_type": "stream",
       "stream": "stdout",
       "text": [
        "[##########################----------------]  61.5% ... Processing 2945 files\r"
       ]
      },
      {
       "output_type": "stream",
       "stream": "stdout",
       "text": [
        "[##########################----------------]  61.5% ... Processing 2945 files\r"
       ]
      },
      {
       "output_type": "stream",
       "stream": "stdout",
       "text": [
        "[##########################----------------]  61.6% ... Processing 2945 files\r"
       ]
      },
      {
       "output_type": "stream",
       "stream": "stdout",
       "text": [
        "[##########################----------------]  61.6% ... Processing 2945 files\r"
       ]
      },
      {
       "output_type": "stream",
       "stream": "stdout",
       "text": [
        "[##########################----------------]  61.6% ... Processing 2945 files\r"
       ]
      },
      {
       "output_type": "stream",
       "stream": "stdout",
       "text": [
        "[##########################----------------]  61.7% ... Processing 2945 files\r"
       ]
      },
      {
       "output_type": "stream",
       "stream": "stdout",
       "text": [
        "[##########################----------------]  61.7% ... Processing 2945 files\r"
       ]
      },
      {
       "output_type": "stream",
       "stream": "stdout",
       "text": [
        "[##########################----------------]  61.7% ... Processing 2945 files\r"
       ]
      },
      {
       "output_type": "stream",
       "stream": "stdout",
       "text": [
        "[##########################----------------]  61.8% ... Processing 2945 files\r"
       ]
      },
      {
       "output_type": "stream",
       "stream": "stdout",
       "text": [
        "[##########################----------------]  61.8% ... Processing 2945 files\r"
       ]
      },
      {
       "output_type": "stream",
       "stream": "stdout",
       "text": [
        "[##########################----------------]  61.8% ... Processing 2945 files\r"
       ]
      },
      {
       "output_type": "stream",
       "stream": "stdout",
       "text": [
        "[##########################----------------]  61.9% ... Processing 2945 files\r"
       ]
      },
      {
       "output_type": "stream",
       "stream": "stdout",
       "text": [
        "[##########################----------------]  61.9% ... Processing 2945 files\r"
       ]
      },
      {
       "output_type": "stream",
       "stream": "stdout",
       "text": [
        "[##########################----------------]  61.9% ... Processing 2945 files\r"
       ]
      },
      {
       "output_type": "stream",
       "stream": "stdout",
       "text": [
        "[##########################----------------]  62.0% ... Processing 2945 files\r"
       ]
      },
      {
       "output_type": "stream",
       "stream": "stdout",
       "text": [
        "[##########################----------------]  62.0% ... Processing 2945 files\r"
       ]
      },
      {
       "output_type": "stream",
       "stream": "stdout",
       "text": [
        "[##########################----------------]  62.0% ... Processing 2945 files\r"
       ]
      },
      {
       "output_type": "stream",
       "stream": "stdout",
       "text": [
        "[##########################----------------]  62.1% ... Processing 2945 files\r"
       ]
      },
      {
       "output_type": "stream",
       "stream": "stdout",
       "text": [
        "[##########################----------------]  62.1% ... Processing 2945 files\r"
       ]
      },
      {
       "output_type": "stream",
       "stream": "stdout",
       "text": [
        "[##########################----------------]  62.1% ... Processing 2945 files\r"
       ]
      },
      {
       "output_type": "stream",
       "stream": "stdout",
       "text": [
        "[##########################----------------]  62.2% ... Processing 2945 files\r"
       ]
      },
      {
       "output_type": "stream",
       "stream": "stdout",
       "text": [
        "[##########################----------------]  62.2% ... Processing 2945 files\r"
       ]
      },
      {
       "output_type": "stream",
       "stream": "stdout",
       "text": [
        "[##########################----------------]  62.2% ... Processing 2945 files\r"
       ]
      },
      {
       "output_type": "stream",
       "stream": "stdout",
       "text": [
        "[##########################----------------]  62.3% ... Processing 2945 files\r"
       ]
      },
      {
       "output_type": "stream",
       "stream": "stdout",
       "text": [
        "[##########################----------------]  62.3% ... Processing 2945 files\r"
       ]
      },
      {
       "output_type": "stream",
       "stream": "stdout",
       "text": [
        "[##########################----------------]  62.3% ... Processing 2945 files\r"
       ]
      },
      {
       "output_type": "stream",
       "stream": "stdout",
       "text": [
        "[##########################----------------]  62.4% ... Processing 2945 files\r"
       ]
      },
      {
       "output_type": "stream",
       "stream": "stdout",
       "text": [
        "[##########################----------------]  62.4% ... Processing 2945 files\r"
       ]
      },
      {
       "output_type": "stream",
       "stream": "stdout",
       "text": [
        "[##########################----------------]  62.4% ... Processing 2945 files\r"
       ]
      },
      {
       "output_type": "stream",
       "stream": "stdout",
       "text": [
        "[##########################----------------]  62.5% ... Processing 2945 files\r"
       ]
      },
      {
       "output_type": "stream",
       "stream": "stdout",
       "text": [
        "[##########################----------------]  62.5% ... Processing 2945 files\r"
       ]
      },
      {
       "output_type": "stream",
       "stream": "stdout",
       "text": [
        "[##########################----------------]  62.5% ... Processing 2945 files\r"
       ]
      },
      {
       "output_type": "stream",
       "stream": "stdout",
       "text": [
        "[##########################----------------]  62.6% ... Processing 2945 files\r"
       ]
      },
      {
       "output_type": "stream",
       "stream": "stdout",
       "text": [
        "[##########################----------------]  62.6% ... Processing 2945 files\r"
       ]
      },
      {
       "output_type": "stream",
       "stream": "stdout",
       "text": [
        "[##########################----------------]  62.6% ... Processing 2945 files\r"
       ]
      },
      {
       "output_type": "stream",
       "stream": "stdout",
       "text": [
        "[##########################----------------]  62.7% ... Processing 2945 files\r"
       ]
      },
      {
       "output_type": "stream",
       "stream": "stdout",
       "text": [
        "[##########################----------------]  62.7% ... Processing 2945 files\r"
       ]
      },
      {
       "output_type": "stream",
       "stream": "stdout",
       "text": [
        "[##########################----------------]  62.8% ... Processing 2945 files\r"
       ]
      },
      {
       "output_type": "stream",
       "stream": "stdout",
       "text": [
        "[##########################----------------]  62.8% ... Processing 2945 files\r"
       ]
      },
      {
       "output_type": "stream",
       "stream": "stdout",
       "text": [
        "[##########################----------------]  62.8% ... Processing 2945 files\r"
       ]
      },
      {
       "output_type": "stream",
       "stream": "stdout",
       "text": [
        "[##########################----------------]  62.9% ... Processing 2945 files\r"
       ]
      },
      {
       "output_type": "stream",
       "stream": "stdout",
       "text": [
        "[##########################----------------]  62.9% ... Processing 2945 files\r"
       ]
      },
      {
       "output_type": "stream",
       "stream": "stdout",
       "text": [
        "[##########################----------------]  62.9% ... Processing 2945 files\r"
       ]
      },
      {
       "output_type": "stream",
       "stream": "stdout",
       "text": [
        "[##########################----------------]  63.0% ... Processing 2945 files\r"
       ]
      },
      {
       "output_type": "stream",
       "stream": "stdout",
       "text": [
        "[##########################----------------]  63.0% ... Processing 2945 files\r"
       ]
      },
      {
       "output_type": "stream",
       "stream": "stdout",
       "text": [
        "[##########################----------------]  63.0% ... Processing 2945 files\r"
       ]
      },
      {
       "output_type": "stream",
       "stream": "stdout",
       "text": [
        "[##########################----------------]  63.1% ... Processing 2945 files\r"
       ]
      },
      {
       "output_type": "stream",
       "stream": "stdout",
       "text": [
        "[##########################----------------]  63.1% ... Processing 2945 files\r"
       ]
      },
      {
       "output_type": "stream",
       "stream": "stdout",
       "text": [
        "[###########################---------------]  63.1% ... Processing 2945 files\r"
       ]
      },
      {
       "output_type": "stream",
       "stream": "stdout",
       "text": [
        "[###########################---------------]  63.2% ... Processing 2945 files\r"
       ]
      },
      {
       "output_type": "stream",
       "stream": "stdout",
       "text": [
        "[###########################---------------]  63.2% ... Processing 2945 files\r"
       ]
      },
      {
       "output_type": "stream",
       "stream": "stdout",
       "text": [
        "[###########################---------------]  63.2% ... Processing 2945 files\r"
       ]
      },
      {
       "output_type": "stream",
       "stream": "stdout",
       "text": [
        "[###########################---------------]  63.3% ... Processing 2945 files\r"
       ]
      },
      {
       "output_type": "stream",
       "stream": "stdout",
       "text": [
        "[###########################---------------]  63.3% ... Processing 2945 files\r"
       ]
      },
      {
       "output_type": "stream",
       "stream": "stdout",
       "text": [
        "[###########################---------------]  63.3% ... Processing 2945 files\r"
       ]
      },
      {
       "output_type": "stream",
       "stream": "stdout",
       "text": [
        "[###########################---------------]  63.4% ... Processing 2945 files\r"
       ]
      },
      {
       "output_type": "stream",
       "stream": "stdout",
       "text": [
        "[###########################---------------]  63.4% ... Processing 2945 files\r"
       ]
      },
      {
       "output_type": "stream",
       "stream": "stdout",
       "text": [
        "[###########################---------------]  63.4% ... Processing 2945 files\r"
       ]
      },
      {
       "output_type": "stream",
       "stream": "stdout",
       "text": [
        "[###########################---------------]  63.5% ... Processing 2945 files\r"
       ]
      },
      {
       "output_type": "stream",
       "stream": "stdout",
       "text": [
        "[###########################---------------]  63.5% ... Processing 2945 files\r"
       ]
      },
      {
       "output_type": "stream",
       "stream": "stdout",
       "text": [
        "[###########################---------------]  63.5% ... Processing 2945 files\r"
       ]
      },
      {
       "output_type": "stream",
       "stream": "stdout",
       "text": [
        "[###########################---------------]  63.6% ... Processing 2945 files\r"
       ]
      },
      {
       "output_type": "stream",
       "stream": "stdout",
       "text": [
        "[###########################---------------]  63.6% ... Processing 2945 files\r"
       ]
      },
      {
       "output_type": "stream",
       "stream": "stdout",
       "text": [
        "[###########################---------------]  63.6% ... Processing 2945 files\r"
       ]
      },
      {
       "output_type": "stream",
       "stream": "stdout",
       "text": [
        "[###########################---------------]  63.7% ... Processing 2945 files\r"
       ]
      },
      {
       "output_type": "stream",
       "stream": "stdout",
       "text": [
        "[###########################---------------]  63.7% ... Processing 2945 files\r"
       ]
      },
      {
       "output_type": "stream",
       "stream": "stdout",
       "text": [
        "[###########################---------------]  63.7% ... Processing 2945 files\r"
       ]
      },
      {
       "output_type": "stream",
       "stream": "stdout",
       "text": [
        "[###########################---------------]  63.8% ... Processing 2945 files\r"
       ]
      },
      {
       "output_type": "stream",
       "stream": "stdout",
       "text": [
        "[###########################---------------]  63.8% ... Processing 2945 files\r"
       ]
      },
      {
       "output_type": "stream",
       "stream": "stdout",
       "text": [
        "[###########################---------------]  63.8% ... Processing 2945 files\r"
       ]
      },
      {
       "output_type": "stream",
       "stream": "stdout",
       "text": [
        "[###########################---------------]  63.9% ... Processing 2945 files\r"
       ]
      },
      {
       "output_type": "stream",
       "stream": "stdout",
       "text": [
        "[###########################---------------]  63.9% ... Processing 2945 files\r"
       ]
      },
      {
       "output_type": "stream",
       "stream": "stdout",
       "text": [
        "[###########################---------------]  63.9% ... Processing 2945 files\r"
       ]
      },
      {
       "output_type": "stream",
       "stream": "stdout",
       "text": [
        "[###########################---------------]  64.0% ... Processing 2945 files\r"
       ]
      },
      {
       "output_type": "stream",
       "stream": "stdout",
       "text": [
        "[###########################---------------]  64.0% ... Processing 2945 files\r"
       ]
      },
      {
       "output_type": "stream",
       "stream": "stdout",
       "text": [
        "[###########################---------------]  64.0% ... Processing 2945 files\r"
       ]
      },
      {
       "output_type": "stream",
       "stream": "stdout",
       "text": [
        "[###########################---------------]  64.1% ... Processing 2945 files\r"
       ]
      },
      {
       "output_type": "stream",
       "stream": "stdout",
       "text": [
        "[###########################---------------]  64.1% ... Processing 2945 files\r"
       ]
      },
      {
       "output_type": "stream",
       "stream": "stdout",
       "text": [
        "[###########################---------------]  64.1% ... Processing 2945 files\r"
       ]
      },
      {
       "output_type": "stream",
       "stream": "stdout",
       "text": [
        "[###########################---------------]  64.2% ... Processing 2945 files\r"
       ]
      },
      {
       "output_type": "stream",
       "stream": "stdout",
       "text": [
        "[###########################---------------]  64.2% ... Processing 2945 files\r"
       ]
      },
      {
       "output_type": "stream",
       "stream": "stdout",
       "text": [
        "[###########################---------------]  64.2% ... Processing 2945 files\r"
       ]
      },
      {
       "output_type": "stream",
       "stream": "stdout",
       "text": [
        "[###########################---------------]  64.3% ... Processing 2945 files\r"
       ]
      },
      {
       "output_type": "stream",
       "stream": "stdout",
       "text": [
        "[###########################---------------]  64.3% ... Processing 2945 files\r"
       ]
      },
      {
       "output_type": "stream",
       "stream": "stdout",
       "text": [
        "[###########################---------------]  64.3% ... Processing 2945 files\r"
       ]
      },
      {
       "output_type": "stream",
       "stream": "stdout",
       "text": [
        "[###########################---------------]  64.4% ... Processing 2945 files\r"
       ]
      },
      {
       "output_type": "stream",
       "stream": "stdout",
       "text": [
        "[###########################---------------]  64.4% ... Processing 2945 files\r"
       ]
      },
      {
       "output_type": "stream",
       "stream": "stdout",
       "text": [
        "[###########################---------------]  64.4% ... Processing 2945 files\r"
       ]
      },
      {
       "output_type": "stream",
       "stream": "stdout",
       "text": [
        "[###########################---------------]  64.5% ... Processing 2945 files\r"
       ]
      },
      {
       "output_type": "stream",
       "stream": "stdout",
       "text": [
        "[###########################---------------]  64.5% ... Processing 2945 files\r"
       ]
      },
      {
       "output_type": "stream",
       "stream": "stdout",
       "text": [
        "[###########################---------------]  64.6% ... Processing 2945 files\r"
       ]
      },
      {
       "output_type": "stream",
       "stream": "stdout",
       "text": [
        "[###########################---------------]  64.6% ... Processing 2945 files\r"
       ]
      },
      {
       "output_type": "stream",
       "stream": "stdout",
       "text": [
        "[###########################---------------]  64.6% ... Processing 2945 files\r"
       ]
      },
      {
       "output_type": "stream",
       "stream": "stdout",
       "text": [
        "[###########################---------------]  64.7% ... Processing 2945 files\r"
       ]
      },
      {
       "output_type": "stream",
       "stream": "stdout",
       "text": [
        "[###########################---------------]  64.7% ... Processing 2945 files\r"
       ]
      },
      {
       "output_type": "stream",
       "stream": "stdout",
       "text": [
        "[###########################---------------]  64.7% ... Processing 2945 files\r"
       ]
      },
      {
       "output_type": "stream",
       "stream": "stdout",
       "text": [
        "[###########################---------------]  64.8% ... Processing 2945 files\r"
       ]
      },
      {
       "output_type": "stream",
       "stream": "stdout",
       "text": [
        "[###########################---------------]  64.8% ... Processing 2945 files\r"
       ]
      },
      {
       "output_type": "stream",
       "stream": "stdout",
       "text": [
        "[###########################---------------]  64.8% ... Processing 2945 files\r"
       ]
      },
      {
       "output_type": "stream",
       "stream": "stdout",
       "text": [
        "[###########################---------------]  64.9% ... Processing 2945 files\r"
       ]
      },
      {
       "output_type": "stream",
       "stream": "stdout",
       "text": [
        "[###########################---------------]  64.9% ... Processing 2945 files\r"
       ]
      },
      {
       "output_type": "stream",
       "stream": "stdout",
       "text": [
        "[###########################---------------]  64.9% ... Processing 2945 files\r"
       ]
      },
      {
       "output_type": "stream",
       "stream": "stdout",
       "text": [
        "[###########################---------------]  65.0% ... Processing 2945 files\r"
       ]
      },
      {
       "output_type": "stream",
       "stream": "stdout",
       "text": [
        "[###########################---------------]  65.0% ... Processing 2945 files\r"
       ]
      },
      {
       "output_type": "stream",
       "stream": "stdout",
       "text": [
        "[###########################---------------]  65.0% ... Processing 2945 files\r"
       ]
      },
      {
       "output_type": "stream",
       "stream": "stdout",
       "text": [
        "[###########################---------------]  65.1% ... Processing 2945 files\r"
       ]
      },
      {
       "output_type": "stream",
       "stream": "stdout",
       "text": [
        "[###########################---------------]  65.1% ... Processing 2945 files\r"
       ]
      },
      {
       "output_type": "stream",
       "stream": "stdout",
       "text": [
        "[###########################---------------]  65.1% ... Processing 2945 files\r"
       ]
      },
      {
       "output_type": "stream",
       "stream": "stdout",
       "text": [
        "[###########################---------------]  65.2% ... Processing 2945 files\r"
       ]
      },
      {
       "output_type": "stream",
       "stream": "stdout",
       "text": [
        "[###########################---------------]  65.2% ... Processing 2945 files\r"
       ]
      },
      {
       "output_type": "stream",
       "stream": "stdout",
       "text": [
        "[###########################---------------]  65.2% ... Processing 2945 files\r"
       ]
      },
      {
       "output_type": "stream",
       "stream": "stdout",
       "text": [
        "[###########################---------------]  65.3% ... Processing 2945 files\r"
       ]
      },
      {
       "output_type": "stream",
       "stream": "stdout",
       "text": [
        "[###########################---------------]  65.3% ... Processing 2945 files\r"
       ]
      },
      {
       "output_type": "stream",
       "stream": "stdout",
       "text": [
        "[###########################---------------]  65.3% ... Processing 2945 files\r"
       ]
      },
      {
       "output_type": "stream",
       "stream": "stdout",
       "text": [
        "[###########################---------------]  65.4% ... Processing 2945 files\r"
       ]
      },
      {
       "output_type": "stream",
       "stream": "stdout",
       "text": [
        "[###########################---------------]  65.4% ... Processing 2945 files\r"
       ]
      },
      {
       "output_type": "stream",
       "stream": "stdout",
       "text": [
        "[###########################---------------]  65.4% ... Processing 2945 files\r"
       ]
      },
      {
       "output_type": "stream",
       "stream": "stdout",
       "text": [
        "[###########################---------------]  65.5% ... Processing 2945 files\r"
       ]
      },
      {
       "output_type": "stream",
       "stream": "stdout",
       "text": [
        "[############################--------------]  65.5% ... Processing 2945 files\r"
       ]
      },
      {
       "output_type": "stream",
       "stream": "stdout",
       "text": [
        "[############################--------------]  65.5% ... Processing 2945 files\r"
       ]
      },
      {
       "output_type": "stream",
       "stream": "stdout",
       "text": [
        "[############################--------------]  65.6% ... Processing 2945 files\r"
       ]
      },
      {
       "output_type": "stream",
       "stream": "stdout",
       "text": [
        "[############################--------------]  65.6% ... Processing 2945 files\r"
       ]
      },
      {
       "output_type": "stream",
       "stream": "stdout",
       "text": [
        "[############################--------------]  65.6% ... Processing 2945 files\r"
       ]
      },
      {
       "output_type": "stream",
       "stream": "stdout",
       "text": [
        "[############################--------------]  65.7% ... Processing 2945 files\r"
       ]
      },
      {
       "output_type": "stream",
       "stream": "stdout",
       "text": [
        "[############################--------------]  65.7% ... Processing 2945 files\r"
       ]
      },
      {
       "output_type": "stream",
       "stream": "stdout",
       "text": [
        "[############################--------------]  65.7% ... Processing 2945 files\r"
       ]
      },
      {
       "output_type": "stream",
       "stream": "stdout",
       "text": [
        "[############################--------------]  65.8% ... Processing 2945 files\r"
       ]
      },
      {
       "output_type": "stream",
       "stream": "stdout",
       "text": [
        "[############################--------------]  65.8% ... Processing 2945 files\r"
       ]
      },
      {
       "output_type": "stream",
       "stream": "stdout",
       "text": [
        "[############################--------------]  65.8% ... Processing 2945 files\r"
       ]
      },
      {
       "output_type": "stream",
       "stream": "stdout",
       "text": [
        "[############################--------------]  65.9% ... Processing 2945 files\r"
       ]
      },
      {
       "output_type": "stream",
       "stream": "stdout",
       "text": [
        "[############################--------------]  65.9% ... Processing 2945 files\r"
       ]
      },
      {
       "output_type": "stream",
       "stream": "stdout",
       "text": [
        "[############################--------------]  65.9% ... Processing 2945 files\r"
       ]
      },
      {
       "output_type": "stream",
       "stream": "stdout",
       "text": [
        "[############################--------------]  66.0% ... Processing 2945 files\r"
       ]
      },
      {
       "output_type": "stream",
       "stream": "stdout",
       "text": [
        "[############################--------------]  66.0% ... Processing 2945 files\r"
       ]
      },
      {
       "output_type": "stream",
       "stream": "stdout",
       "text": [
        "[############################--------------]  66.0% ... Processing 2945 files\r"
       ]
      },
      {
       "output_type": "stream",
       "stream": "stdout",
       "text": [
        "[############################--------------]  66.1% ... Processing 2945 files\r"
       ]
      },
      {
       "output_type": "stream",
       "stream": "stdout",
       "text": [
        "[############################--------------]  66.1% ... Processing 2945 files\r"
       ]
      },
      {
       "output_type": "stream",
       "stream": "stdout",
       "text": [
        "[############################--------------]  66.1% ... Processing 2945 files\r"
       ]
      },
      {
       "output_type": "stream",
       "stream": "stdout",
       "text": [
        "[############################--------------]  66.2% ... Processing 2945 files\r"
       ]
      },
      {
       "output_type": "stream",
       "stream": "stdout",
       "text": [
        "[############################--------------]  66.2% ... Processing 2945 files\r"
       ]
      },
      {
       "output_type": "stream",
       "stream": "stdout",
       "text": [
        "[############################--------------]  66.2% ... Processing 2945 files\r"
       ]
      },
      {
       "output_type": "stream",
       "stream": "stdout",
       "text": [
        "[############################--------------]  66.3% ... Processing 2945 files\r"
       ]
      },
      {
       "output_type": "stream",
       "stream": "stdout",
       "text": [
        "[############################--------------]  66.3% ... Processing 2945 files\r"
       ]
      },
      {
       "output_type": "stream",
       "stream": "stdout",
       "text": [
        "[############################--------------]  66.3% ... Processing 2945 files\r"
       ]
      },
      {
       "output_type": "stream",
       "stream": "stdout",
       "text": [
        "[############################--------------]  66.4% ... Processing 2945 files\r"
       ]
      },
      {
       "output_type": "stream",
       "stream": "stdout",
       "text": [
        "[############################--------------]  66.4% ... Processing 2945 files\r"
       ]
      },
      {
       "output_type": "stream",
       "stream": "stdout",
       "text": [
        "[############################--------------]  66.5% ... Processing 2945 files\r"
       ]
      },
      {
       "output_type": "stream",
       "stream": "stdout",
       "text": [
        "[############################--------------]  66.5% ... Processing 2945 files\r"
       ]
      },
      {
       "output_type": "stream",
       "stream": "stdout",
       "text": [
        "[############################--------------]  66.5% ... Processing 2945 files\r"
       ]
      },
      {
       "output_type": "stream",
       "stream": "stdout",
       "text": [
        "[############################--------------]  66.6% ... Processing 2945 files\r"
       ]
      },
      {
       "output_type": "stream",
       "stream": "stdout",
       "text": [
        "[############################--------------]  66.6% ... Processing 2945 files\r"
       ]
      },
      {
       "output_type": "stream",
       "stream": "stdout",
       "text": [
        "[############################--------------]  66.6% ... Processing 2945 files\r"
       ]
      },
      {
       "output_type": "stream",
       "stream": "stdout",
       "text": [
        "[############################--------------]  66.7% ... Processing 2945 files\r"
       ]
      },
      {
       "output_type": "stream",
       "stream": "stdout",
       "text": [
        "[############################--------------]  66.7% ... Processing 2945 files\r"
       ]
      },
      {
       "output_type": "stream",
       "stream": "stdout",
       "text": [
        "[############################--------------]  66.7% ... Processing 2945 files\r"
       ]
      },
      {
       "output_type": "stream",
       "stream": "stdout",
       "text": [
        "[############################--------------]  66.8% ... Processing 2945 files\r"
       ]
      },
      {
       "output_type": "stream",
       "stream": "stdout",
       "text": [
        "[############################--------------]  66.8% ... Processing 2945 files\r"
       ]
      },
      {
       "output_type": "stream",
       "stream": "stdout",
       "text": [
        "[############################--------------]  66.8% ... Processing 2945 files\r"
       ]
      },
      {
       "output_type": "stream",
       "stream": "stdout",
       "text": [
        "[############################--------------]  66.9% ... Processing 2945 files\r"
       ]
      },
      {
       "output_type": "stream",
       "stream": "stdout",
       "text": [
        "[############################--------------]  66.9% ... Processing 2945 files\r"
       ]
      },
      {
       "output_type": "stream",
       "stream": "stdout",
       "text": [
        "[############################--------------]  66.9% ... Processing 2945 files\r"
       ]
      },
      {
       "output_type": "stream",
       "stream": "stdout",
       "text": [
        "[############################--------------]  67.0% ... Processing 2945 files\r"
       ]
      },
      {
       "output_type": "stream",
       "stream": "stdout",
       "text": [
        "[############################--------------]  67.0% ... Processing 2945 files\r"
       ]
      },
      {
       "output_type": "stream",
       "stream": "stdout",
       "text": [
        "[############################--------------]  67.0% ... Processing 2945 files\r"
       ]
      },
      {
       "output_type": "stream",
       "stream": "stdout",
       "text": [
        "[############################--------------]  67.1% ... Processing 2945 files\r"
       ]
      },
      {
       "output_type": "stream",
       "stream": "stdout",
       "text": [
        "[############################--------------]  67.1% ... Processing 2945 files\r"
       ]
      },
      {
       "output_type": "stream",
       "stream": "stdout",
       "text": [
        "[############################--------------]  67.1% ... Processing 2945 files\r"
       ]
      },
      {
       "output_type": "stream",
       "stream": "stdout",
       "text": [
        "[############################--------------]  67.2% ... Processing 2945 files\r"
       ]
      },
      {
       "output_type": "stream",
       "stream": "stdout",
       "text": [
        "[############################--------------]  67.2% ... Processing 2945 files\r"
       ]
      },
      {
       "output_type": "stream",
       "stream": "stdout",
       "text": [
        "[############################--------------]  67.2% ... Processing 2945 files\r"
       ]
      },
      {
       "output_type": "stream",
       "stream": "stdout",
       "text": [
        "[############################--------------]  67.3% ... Processing 2945 files\r"
       ]
      },
      {
       "output_type": "stream",
       "stream": "stdout",
       "text": [
        "[############################--------------]  67.3% ... Processing 2945 files\r"
       ]
      },
      {
       "output_type": "stream",
       "stream": "stdout",
       "text": [
        "[############################--------------]  67.3% ... Processing 2945 files\r"
       ]
      },
      {
       "output_type": "stream",
       "stream": "stdout",
       "text": [
        "[############################--------------]  67.4% ... Processing 2945 files\r"
       ]
      },
      {
       "output_type": "stream",
       "stream": "stdout",
       "text": [
        "[############################--------------]  67.4% ... Processing 2945 files\r"
       ]
      },
      {
       "output_type": "stream",
       "stream": "stdout",
       "text": [
        "[############################--------------]  67.4% ... Processing 2945 files\r"
       ]
      },
      {
       "output_type": "stream",
       "stream": "stdout",
       "text": [
        "[############################--------------]  67.5% ... Processing 2945 files\r"
       ]
      },
      {
       "output_type": "stream",
       "stream": "stdout",
       "text": [
        "[############################--------------]  67.5% ... Processing 2945 files\r"
       ]
      },
      {
       "output_type": "stream",
       "stream": "stdout",
       "text": [
        "[############################--------------]  67.5% ... Processing 2945 files\r"
       ]
      },
      {
       "output_type": "stream",
       "stream": "stdout",
       "text": [
        "[############################--------------]  67.6% ... Processing 2945 files\r"
       ]
      },
      {
       "output_type": "stream",
       "stream": "stdout",
       "text": [
        "[############################--------------]  67.6% ... Processing 2945 files\r"
       ]
      },
      {
       "output_type": "stream",
       "stream": "stdout",
       "text": [
        "[############################--------------]  67.6% ... Processing 2945 files\r"
       ]
      },
      {
       "output_type": "stream",
       "stream": "stdout",
       "text": [
        "[############################--------------]  67.7% ... Processing 2945 files\r"
       ]
      },
      {
       "output_type": "stream",
       "stream": "stdout",
       "text": [
        "[############################--------------]  67.7% ... Processing 2945 files\r"
       ]
      },
      {
       "output_type": "stream",
       "stream": "stdout",
       "text": [
        "[############################--------------]  67.7% ... Processing 2945 files\r"
       ]
      },
      {
       "output_type": "stream",
       "stream": "stdout",
       "text": [
        "[############################--------------]  67.8% ... Processing 2945 files\r"
       ]
      },
      {
       "output_type": "stream",
       "stream": "stdout",
       "text": [
        "[############################--------------]  67.8% ... Processing 2945 files\r"
       ]
      },
      {
       "output_type": "stream",
       "stream": "stdout",
       "text": [
        "[############################--------------]  67.8% ... Processing 2945 files\r"
       ]
      },
      {
       "output_type": "stream",
       "stream": "stdout",
       "text": [
        "[#############################-------------]  67.9% ... Processing 2945 files\r"
       ]
      },
      {
       "output_type": "stream",
       "stream": "stdout",
       "text": [
        "[#############################-------------]  67.9% ... Processing 2945 files\r"
       ]
      },
      {
       "output_type": "stream",
       "stream": "stdout",
       "text": [
        "[#############################-------------]  67.9% ... Processing 2945 files\r"
       ]
      },
      {
       "output_type": "stream",
       "stream": "stdout",
       "text": [
        "[#############################-------------]  68.0% ... Processing 2945 files\r"
       ]
      },
      {
       "output_type": "stream",
       "stream": "stdout",
       "text": [
        "[#############################-------------]  68.0% ... Processing 2945 files\r"
       ]
      },
      {
       "output_type": "stream",
       "stream": "stdout",
       "text": [
        "[#############################-------------]  68.0% ... Processing 2945 files\r"
       ]
      },
      {
       "output_type": "stream",
       "stream": "stdout",
       "text": [
        "[#############################-------------]  68.1% ... Processing 2945 files\r"
       ]
      },
      {
       "output_type": "stream",
       "stream": "stdout",
       "text": [
        "[#############################-------------]  68.1% ... Processing 2945 files\r"
       ]
      },
      {
       "output_type": "stream",
       "stream": "stdout",
       "text": [
        "[#############################-------------]  68.1% ... Processing 2945 files\r"
       ]
      },
      {
       "output_type": "stream",
       "stream": "stdout",
       "text": [
        "[#############################-------------]  68.2% ... Processing 2945 files\r"
       ]
      },
      {
       "output_type": "stream",
       "stream": "stdout",
       "text": [
        "[#############################-------------]  68.2% ... Processing 2945 files\r"
       ]
      },
      {
       "output_type": "stream",
       "stream": "stdout",
       "text": [
        "[#############################-------------]  68.3% ... Processing 2945 files\r"
       ]
      },
      {
       "output_type": "stream",
       "stream": "stdout",
       "text": [
        "[#############################-------------]  68.3% ... Processing 2945 files\r"
       ]
      },
      {
       "output_type": "stream",
       "stream": "stdout",
       "text": [
        "[#############################-------------]  68.3% ... Processing 2945 files\r"
       ]
      },
      {
       "output_type": "stream",
       "stream": "stdout",
       "text": [
        "[#############################-------------]  68.4% ... Processing 2945 files\r"
       ]
      },
      {
       "output_type": "stream",
       "stream": "stdout",
       "text": [
        "[#############################-------------]  68.4% ... Processing 2945 files\r"
       ]
      },
      {
       "output_type": "stream",
       "stream": "stdout",
       "text": [
        "[#############################-------------]  68.4% ... Processing 2945 files\r"
       ]
      },
      {
       "output_type": "stream",
       "stream": "stdout",
       "text": [
        "[#############################-------------]  68.5% ... Processing 2945 files\r"
       ]
      },
      {
       "output_type": "stream",
       "stream": "stdout",
       "text": [
        "[#############################-------------]  68.5% ... Processing 2945 files\r"
       ]
      },
      {
       "output_type": "stream",
       "stream": "stdout",
       "text": [
        "[#############################-------------]  68.5% ... Processing 2945 files\r"
       ]
      },
      {
       "output_type": "stream",
       "stream": "stdout",
       "text": [
        "[#############################-------------]  68.6% ... Processing 2945 files\r"
       ]
      },
      {
       "output_type": "stream",
       "stream": "stdout",
       "text": [
        "[#############################-------------]  68.6% ... Processing 2945 files\r"
       ]
      },
      {
       "output_type": "stream",
       "stream": "stdout",
       "text": [
        "[#############################-------------]  68.6% ... Processing 2945 files\r"
       ]
      },
      {
       "output_type": "stream",
       "stream": "stdout",
       "text": [
        "[#############################-------------]  68.7% ... Processing 2945 files\r"
       ]
      },
      {
       "output_type": "stream",
       "stream": "stdout",
       "text": [
        "[#############################-------------]  68.7% ... Processing 2945 files\r"
       ]
      },
      {
       "output_type": "stream",
       "stream": "stdout",
       "text": [
        "[#############################-------------]  68.7% ... Processing 2945 files\r"
       ]
      },
      {
       "output_type": "stream",
       "stream": "stdout",
       "text": [
        "[#############################-------------]  68.8% ... Processing 2945 files\r"
       ]
      },
      {
       "output_type": "stream",
       "stream": "stdout",
       "text": [
        "[#############################-------------]  68.8% ... Processing 2945 files\r"
       ]
      },
      {
       "output_type": "stream",
       "stream": "stdout",
       "text": [
        "[#############################-------------]  68.8% ... Processing 2945 files\r"
       ]
      },
      {
       "output_type": "stream",
       "stream": "stdout",
       "text": [
        "[#############################-------------]  68.9% ... Processing 2945 files\r"
       ]
      },
      {
       "output_type": "stream",
       "stream": "stdout",
       "text": [
        "[#############################-------------]  68.9% ... Processing 2945 files\r"
       ]
      },
      {
       "output_type": "stream",
       "stream": "stdout",
       "text": [
        "[#############################-------------]  68.9% ... Processing 2945 files\r"
       ]
      },
      {
       "output_type": "stream",
       "stream": "stdout",
       "text": [
        "[#############################-------------]  69.0% ... Processing 2945 files\r"
       ]
      },
      {
       "output_type": "stream",
       "stream": "stdout",
       "text": [
        "[#############################-------------]  69.0% ... Processing 2945 files\r"
       ]
      },
      {
       "output_type": "stream",
       "stream": "stdout",
       "text": [
        "[#############################-------------]  69.0% ... Processing 2945 files\r"
       ]
      },
      {
       "output_type": "stream",
       "stream": "stdout",
       "text": [
        "[#############################-------------]  69.1% ... Processing 2945 files\r"
       ]
      },
      {
       "output_type": "stream",
       "stream": "stdout",
       "text": [
        "[#############################-------------]  69.1% ... Processing 2945 files\r"
       ]
      },
      {
       "output_type": "stream",
       "stream": "stdout",
       "text": [
        "[#############################-------------]  69.1% ... Processing 2945 files\r"
       ]
      },
      {
       "output_type": "stream",
       "stream": "stdout",
       "text": [
        "[#############################-------------]  69.2% ... Processing 2945 files\r"
       ]
      },
      {
       "output_type": "stream",
       "stream": "stdout",
       "text": [
        "[#############################-------------]  69.2% ... Processing 2945 files\r"
       ]
      },
      {
       "output_type": "stream",
       "stream": "stdout",
       "text": [
        "[#############################-------------]  69.2% ... Processing 2945 files\r"
       ]
      },
      {
       "output_type": "stream",
       "stream": "stdout",
       "text": [
        "[#############################-------------]  69.3% ... Processing 2945 files\r"
       ]
      },
      {
       "output_type": "stream",
       "stream": "stdout",
       "text": [
        "[#############################-------------]  69.3% ... Processing 2945 files\r"
       ]
      },
      {
       "output_type": "stream",
       "stream": "stdout",
       "text": [
        "[#############################-------------]  69.3% ... Processing 2945 files\r"
       ]
      },
      {
       "output_type": "stream",
       "stream": "stdout",
       "text": [
        "[#############################-------------]  69.4% ... Processing 2945 files\r"
       ]
      },
      {
       "output_type": "stream",
       "stream": "stdout",
       "text": [
        "[#############################-------------]  69.4% ... Processing 2945 files\r"
       ]
      },
      {
       "output_type": "stream",
       "stream": "stdout",
       "text": [
        "[#############################-------------]  69.4% ... Processing 2945 files\r"
       ]
      },
      {
       "output_type": "stream",
       "stream": "stdout",
       "text": [
        "[#############################-------------]  69.5% ... Processing 2945 files\r"
       ]
      },
      {
       "output_type": "stream",
       "stream": "stdout",
       "text": [
        "[#############################-------------]  69.5% ... Processing 2945 files\r"
       ]
      },
      {
       "output_type": "stream",
       "stream": "stdout",
       "text": [
        "[#############################-------------]  69.5% ... Processing 2945 files\r"
       ]
      },
      {
       "output_type": "stream",
       "stream": "stdout",
       "text": [
        "[#############################-------------]  69.6% ... Processing 2945 files\r"
       ]
      },
      {
       "output_type": "stream",
       "stream": "stdout",
       "text": [
        "[#############################-------------]  69.6% ... Processing 2945 files\r"
       ]
      },
      {
       "output_type": "stream",
       "stream": "stdout",
       "text": [
        "[#############################-------------]  69.6% ... Processing 2945 files\r"
       ]
      },
      {
       "output_type": "stream",
       "stream": "stdout",
       "text": [
        "[#############################-------------]  69.7% ... Processing 2945 files\r"
       ]
      },
      {
       "output_type": "stream",
       "stream": "stdout",
       "text": [
        "[#############################-------------]  69.7% ... Processing 2945 files\r"
       ]
      },
      {
       "output_type": "stream",
       "stream": "stdout",
       "text": [
        "[#############################-------------]  69.7% ... Processing 2945 files\r"
       ]
      },
      {
       "output_type": "stream",
       "stream": "stdout",
       "text": [
        "[#############################-------------]  69.8% ... Processing 2945 files\r"
       ]
      },
      {
       "output_type": "stream",
       "stream": "stdout",
       "text": [
        "[#############################-------------]  69.8% ... Processing 2945 files\r"
       ]
      },
      {
       "output_type": "stream",
       "stream": "stdout",
       "text": [
        "[#############################-------------]  69.8% ... Processing 2945 files\r"
       ]
      },
      {
       "output_type": "stream",
       "stream": "stdout",
       "text": [
        "[#############################-------------]  69.9% ... Processing 2945 files\r"
       ]
      },
      {
       "output_type": "stream",
       "stream": "stdout",
       "text": [
        "[#############################-------------]  69.9% ... Processing 2945 files\r"
       ]
      },
      {
       "output_type": "stream",
       "stream": "stdout",
       "text": [
        "[#############################-------------]  69.9% ... Processing 2945 files\r"
       ]
      },
      {
       "output_type": "stream",
       "stream": "stdout",
       "text": [
        "[#############################-------------]  70.0% ... Processing 2945 files\r"
       ]
      },
      {
       "output_type": "stream",
       "stream": "stdout",
       "text": [
        "[#############################-------------]  70.0% ... Processing 2945 files\r"
       ]
      },
      {
       "output_type": "stream",
       "stream": "stdout",
       "text": [
        "[#############################-------------]  70.1% ... Processing 2945 files\r"
       ]
      },
      {
       "output_type": "stream",
       "stream": "stdout",
       "text": [
        "[#############################-------------]  70.1% ... Processing 2945 files\r"
       ]
      },
      {
       "output_type": "stream",
       "stream": "stdout",
       "text": [
        "[#############################-------------]  70.1% ... Processing 2945 files\r"
       ]
      },
      {
       "output_type": "stream",
       "stream": "stdout",
       "text": [
        "[#############################-------------]  70.2% ... Processing 2945 files\r"
       ]
      },
      {
       "output_type": "stream",
       "stream": "stdout",
       "text": [
        "[#############################-------------]  70.2% ... Processing 2945 files\r"
       ]
      },
      {
       "output_type": "stream",
       "stream": "stdout",
       "text": [
        "[#############################-------------]  70.2% ... Processing 2945 files\r"
       ]
      },
      {
       "output_type": "stream",
       "stream": "stdout",
       "text": [
        "[##############################------------]  70.3% ... Processing 2945 files\r"
       ]
      },
      {
       "output_type": "stream",
       "stream": "stdout",
       "text": [
        "[##############################------------]  70.3% ... Processing 2945 files\r"
       ]
      },
      {
       "output_type": "stream",
       "stream": "stdout",
       "text": [
        "[##############################------------]  70.3% ... Processing 2945 files\r"
       ]
      },
      {
       "output_type": "stream",
       "stream": "stdout",
       "text": [
        "[##############################------------]  70.4% ... Processing 2945 files\r"
       ]
      },
      {
       "output_type": "stream",
       "stream": "stdout",
       "text": [
        "[##############################------------]  70.4% ... Processing 2945 files\r"
       ]
      },
      {
       "output_type": "stream",
       "stream": "stdout",
       "text": [
        "[##############################------------]  70.4% ... Processing 2945 files\r"
       ]
      },
      {
       "output_type": "stream",
       "stream": "stdout",
       "text": [
        "[##############################------------]  70.5% ... Processing 2945 files\r"
       ]
      },
      {
       "output_type": "stream",
       "stream": "stdout",
       "text": [
        "[##############################------------]  70.5% ... Processing 2945 files\r"
       ]
      },
      {
       "output_type": "stream",
       "stream": "stdout",
       "text": [
        "[##############################------------]  70.5% ... Processing 2945 files\r"
       ]
      },
      {
       "output_type": "stream",
       "stream": "stdout",
       "text": [
        "[##############################------------]  70.6% ... Processing 2945 files\r"
       ]
      },
      {
       "output_type": "stream",
       "stream": "stdout",
       "text": [
        "[##############################------------]  70.6% ... Processing 2945 files\r"
       ]
      },
      {
       "output_type": "stream",
       "stream": "stdout",
       "text": [
        "[##############################------------]  70.6% ... Processing 2945 files\r"
       ]
      },
      {
       "output_type": "stream",
       "stream": "stdout",
       "text": [
        "[##############################------------]  70.7% ... Processing 2945 files\r"
       ]
      },
      {
       "output_type": "stream",
       "stream": "stdout",
       "text": [
        "[##############################------------]  70.7% ... Processing 2945 files\r"
       ]
      },
      {
       "output_type": "stream",
       "stream": "stdout",
       "text": [
        "[##############################------------]  70.7% ... Processing 2945 files\r"
       ]
      },
      {
       "output_type": "stream",
       "stream": "stdout",
       "text": [
        "[##############################------------]  70.8% ... Processing 2945 files\r"
       ]
      },
      {
       "output_type": "stream",
       "stream": "stdout",
       "text": [
        "[##############################------------]  70.8% ... Processing 2945 files\r"
       ]
      },
      {
       "output_type": "stream",
       "stream": "stdout",
       "text": [
        "[##############################------------]  70.8% ... Processing 2945 files\r"
       ]
      },
      {
       "output_type": "stream",
       "stream": "stdout",
       "text": [
        "[##############################------------]  70.9% ... Processing 2945 files\r"
       ]
      },
      {
       "output_type": "stream",
       "stream": "stdout",
       "text": [
        "[##############################------------]  70.9% ... Processing 2945 files\r"
       ]
      },
      {
       "output_type": "stream",
       "stream": "stdout",
       "text": [
        "[##############################------------]  70.9% ... Processing 2945 files\r"
       ]
      },
      {
       "output_type": "stream",
       "stream": "stdout",
       "text": [
        "[##############################------------]  71.0% ... Processing 2945 files\r"
       ]
      },
      {
       "output_type": "stream",
       "stream": "stdout",
       "text": [
        "[##############################------------]  71.0% ... Processing 2945 files\r"
       ]
      },
      {
       "output_type": "stream",
       "stream": "stdout",
       "text": [
        "[##############################------------]  71.0% ... Processing 2945 files\r"
       ]
      },
      {
       "output_type": "stream",
       "stream": "stdout",
       "text": [
        "[##############################------------]  71.1% ... Processing 2945 files\r"
       ]
      },
      {
       "output_type": "stream",
       "stream": "stdout",
       "text": [
        "[##############################------------]  71.1% ... Processing 2945 files\r"
       ]
      },
      {
       "output_type": "stream",
       "stream": "stdout",
       "text": [
        "[##############################------------]  71.1% ... Processing 2945 files\r"
       ]
      },
      {
       "output_type": "stream",
       "stream": "stdout",
       "text": [
        "[##############################------------]  71.2% ... Processing 2945 files\r"
       ]
      },
      {
       "output_type": "stream",
       "stream": "stdout",
       "text": [
        "[##############################------------]  71.2% ... Processing 2945 files\r"
       ]
      },
      {
       "output_type": "stream",
       "stream": "stdout",
       "text": [
        "[##############################------------]  71.2% ... Processing 2945 files\r"
       ]
      },
      {
       "output_type": "stream",
       "stream": "stdout",
       "text": [
        "[##############################------------]  71.3% ... Processing 2945 files\r"
       ]
      },
      {
       "output_type": "stream",
       "stream": "stdout",
       "text": [
        "[##############################------------]  71.3% ... Processing 2945 files\r"
       ]
      },
      {
       "output_type": "stream",
       "stream": "stdout",
       "text": [
        "[##############################------------]  71.3% ... Processing 2945 files\r"
       ]
      },
      {
       "output_type": "stream",
       "stream": "stdout",
       "text": [
        "[##############################------------]  71.4% ... Processing 2945 files\r"
       ]
      },
      {
       "output_type": "stream",
       "stream": "stdout",
       "text": [
        "[##############################------------]  71.4% ... Processing 2945 files\r"
       ]
      },
      {
       "output_type": "stream",
       "stream": "stdout",
       "text": [
        "[##############################------------]  71.4% ... Processing 2945 files\r"
       ]
      },
      {
       "output_type": "stream",
       "stream": "stdout",
       "text": [
        "[##############################------------]  71.5% ... Processing 2945 files\r"
       ]
      },
      {
       "output_type": "stream",
       "stream": "stdout",
       "text": [
        "[##############################------------]  71.5% ... Processing 2945 files\r"
       ]
      },
      {
       "output_type": "stream",
       "stream": "stdout",
       "text": [
        "[##############################------------]  71.5% ... Processing 2945 files\r"
       ]
      },
      {
       "output_type": "stream",
       "stream": "stdout",
       "text": [
        "[##############################------------]  71.6% ... Processing 2945 files\r"
       ]
      },
      {
       "output_type": "stream",
       "stream": "stdout",
       "text": [
        "[##############################------------]  71.6% ... Processing 2945 files\r"
       ]
      },
      {
       "output_type": "stream",
       "stream": "stdout",
       "text": [
        "[##############################------------]  71.6% ... Processing 2945 files\r"
       ]
      },
      {
       "output_type": "stream",
       "stream": "stdout",
       "text": [
        "[##############################------------]  71.7% ... Processing 2945 files\r"
       ]
      },
      {
       "output_type": "stream",
       "stream": "stdout",
       "text": [
        "[##############################------------]  71.7% ... Processing 2945 files\r"
       ]
      },
      {
       "output_type": "stream",
       "stream": "stdout",
       "text": [
        "[##############################------------]  71.7% ... Processing 2945 files\r"
       ]
      },
      {
       "output_type": "stream",
       "stream": "stdout",
       "text": [
        "[##############################------------]  71.8% ... Processing 2945 files\r"
       ]
      },
      {
       "output_type": "stream",
       "stream": "stdout",
       "text": [
        "[##############################------------]  71.8% ... Processing 2945 files\r"
       ]
      },
      {
       "output_type": "stream",
       "stream": "stdout",
       "text": [
        "[##############################------------]  71.9% ... Processing 2945 files\r"
       ]
      },
      {
       "output_type": "stream",
       "stream": "stdout",
       "text": [
        "[##############################------------]  71.9% ... Processing 2945 files\r"
       ]
      },
      {
       "output_type": "stream",
       "stream": "stdout",
       "text": [
        "[##############################------------]  71.9% ... Processing 2945 files\r"
       ]
      },
      {
       "output_type": "stream",
       "stream": "stdout",
       "text": [
        "[##############################------------]  72.0% ... Processing 2945 files\r"
       ]
      },
      {
       "output_type": "stream",
       "stream": "stdout",
       "text": [
        "[##############################------------]  72.0% ... Processing 2945 files\r"
       ]
      },
      {
       "output_type": "stream",
       "stream": "stdout",
       "text": [
        "[##############################------------]  72.0% ... Processing 2945 files\r"
       ]
      },
      {
       "output_type": "stream",
       "stream": "stdout",
       "text": [
        "[##############################------------]  72.1% ... Processing 2945 files\r"
       ]
      },
      {
       "output_type": "stream",
       "stream": "stdout",
       "text": [
        "[##############################------------]  72.1% ... Processing 2945 files\r"
       ]
      },
      {
       "output_type": "stream",
       "stream": "stdout",
       "text": [
        "[##############################------------]  72.1% ... Processing 2945 files\r"
       ]
      },
      {
       "output_type": "stream",
       "stream": "stdout",
       "text": [
        "[##############################------------]  72.2% ... Processing 2945 files\r"
       ]
      },
      {
       "output_type": "stream",
       "stream": "stdout",
       "text": [
        "[##############################------------]  72.2% ... Processing 2945 files\r"
       ]
      },
      {
       "output_type": "stream",
       "stream": "stdout",
       "text": [
        "[##############################------------]  72.2% ... Processing 2945 files\r"
       ]
      },
      {
       "output_type": "stream",
       "stream": "stdout",
       "text": [
        "[##############################------------]  72.3% ... Processing 2945 files\r"
       ]
      },
      {
       "output_type": "stream",
       "stream": "stdout",
       "text": [
        "[##############################------------]  72.3% ... Processing 2945 files\r"
       ]
      },
      {
       "output_type": "stream",
       "stream": "stdout",
       "text": [
        "[##############################------------]  72.3% ... Processing 2945 files\r"
       ]
      },
      {
       "output_type": "stream",
       "stream": "stdout",
       "text": [
        "[##############################------------]  72.4% ... Processing 2945 files\r"
       ]
      },
      {
       "output_type": "stream",
       "stream": "stdout",
       "text": [
        "[##############################------------]  72.4% ... Processing 2945 files\r"
       ]
      },
      {
       "output_type": "stream",
       "stream": "stdout",
       "text": [
        "[##############################------------]  72.4% ... Processing 2945 files\r"
       ]
      },
      {
       "output_type": "stream",
       "stream": "stdout",
       "text": [
        "[##############################------------]  72.5% ... Processing 2945 files\r"
       ]
      },
      {
       "output_type": "stream",
       "stream": "stdout",
       "text": [
        "[##############################------------]  72.5% ... Processing 2945 files\r"
       ]
      },
      {
       "output_type": "stream",
       "stream": "stdout",
       "text": [
        "[##############################------------]  72.5% ... Processing 2945 files\r"
       ]
      },
      {
       "output_type": "stream",
       "stream": "stdout",
       "text": [
        "[##############################------------]  72.6% ... Processing 2945 files\r"
       ]
      },
      {
       "output_type": "stream",
       "stream": "stdout",
       "text": [
        "[##############################------------]  72.6% ... Processing 2945 files\r"
       ]
      },
      {
       "output_type": "stream",
       "stream": "stdout",
       "text": [
        "[###############################-----------]  72.6% ... Processing 2945 files\r"
       ]
      },
      {
       "output_type": "stream",
       "stream": "stdout",
       "text": [
        "[###############################-----------]  72.7% ... Processing 2945 files\r"
       ]
      },
      {
       "output_type": "stream",
       "stream": "stdout",
       "text": [
        "[###############################-----------]  72.7% ... Processing 2945 files\r"
       ]
      },
      {
       "output_type": "stream",
       "stream": "stdout",
       "text": [
        "[###############################-----------]  72.7% ... Processing 2945 files\r"
       ]
      },
      {
       "output_type": "stream",
       "stream": "stdout",
       "text": [
        "[###############################-----------]  72.8% ... Processing 2945 files\r"
       ]
      },
      {
       "output_type": "stream",
       "stream": "stdout",
       "text": [
        "[###############################-----------]  72.8% ... Processing 2945 files\r"
       ]
      },
      {
       "output_type": "stream",
       "stream": "stdout",
       "text": [
        "[###############################-----------]  72.8% ... Processing 2945 files\r"
       ]
      },
      {
       "output_type": "stream",
       "stream": "stdout",
       "text": [
        "[###############################-----------]  72.9% ... Processing 2945 files\r"
       ]
      },
      {
       "output_type": "stream",
       "stream": "stdout",
       "text": [
        "[###############################-----------]  72.9% ... Processing 2945 files\r"
       ]
      },
      {
       "output_type": "stream",
       "stream": "stdout",
       "text": [
        "[###############################-----------]  72.9% ... Processing 2945 files\r"
       ]
      },
      {
       "output_type": "stream",
       "stream": "stdout",
       "text": [
        "[###############################-----------]  73.0% ... Processing 2945 files\r"
       ]
      },
      {
       "output_type": "stream",
       "stream": "stdout",
       "text": [
        "[###############################-----------]  73.0% ... Processing 2945 files\r"
       ]
      },
      {
       "output_type": "stream",
       "stream": "stdout",
       "text": [
        "[###############################-----------]  73.0% ... Processing 2945 files\r"
       ]
      },
      {
       "output_type": "stream",
       "stream": "stdout",
       "text": [
        "[###############################-----------]  73.1% ... Processing 2945 files\r"
       ]
      },
      {
       "output_type": "stream",
       "stream": "stdout",
       "text": [
        "[###############################-----------]  73.1% ... Processing 2945 files\r"
       ]
      },
      {
       "output_type": "stream",
       "stream": "stdout",
       "text": [
        "[###############################-----------]  73.1% ... Processing 2945 files\r"
       ]
      },
      {
       "output_type": "stream",
       "stream": "stdout",
       "text": [
        "[###############################-----------]  73.2% ... Processing 2945 files\r"
       ]
      },
      {
       "output_type": "stream",
       "stream": "stdout",
       "text": [
        "[###############################-----------]  73.2% ... Processing 2945 files\r"
       ]
      },
      {
       "output_type": "stream",
       "stream": "stdout",
       "text": [
        "[###############################-----------]  73.2% ... Processing 2945 files\r"
       ]
      },
      {
       "output_type": "stream",
       "stream": "stdout",
       "text": [
        "[###############################-----------]  73.3% ... Processing 2945 files\r"
       ]
      },
      {
       "output_type": "stream",
       "stream": "stdout",
       "text": [
        "[###############################-----------]  73.3% ... Processing 2945 files\r"
       ]
      },
      {
       "output_type": "stream",
       "stream": "stdout",
       "text": [
        "[###############################-----------]  73.3% ... Processing 2945 files\r"
       ]
      },
      {
       "output_type": "stream",
       "stream": "stdout",
       "text": [
        "[###############################-----------]  73.4% ... Processing 2945 files\r"
       ]
      },
      {
       "output_type": "stream",
       "stream": "stdout",
       "text": [
        "[###############################-----------]  73.4% ... Processing 2945 files\r"
       ]
      },
      {
       "output_type": "stream",
       "stream": "stdout",
       "text": [
        "[###############################-----------]  73.4% ... Processing 2945 files\r"
       ]
      },
      {
       "output_type": "stream",
       "stream": "stdout",
       "text": [
        "[###############################-----------]  73.5% ... Processing 2945 files\r"
       ]
      },
      {
       "output_type": "stream",
       "stream": "stdout",
       "text": [
        "[###############################-----------]  73.5% ... Processing 2945 files\r"
       ]
      },
      {
       "output_type": "stream",
       "stream": "stdout",
       "text": [
        "[###############################-----------]  73.5% ... Processing 2945 files\r"
       ]
      },
      {
       "output_type": "stream",
       "stream": "stdout",
       "text": [
        "[###############################-----------]  73.6% ... Processing 2945 files\r"
       ]
      },
      {
       "output_type": "stream",
       "stream": "stdout",
       "text": [
        "[###############################-----------]  73.6% ... Processing 2945 files\r"
       ]
      },
      {
       "output_type": "stream",
       "stream": "stdout",
       "text": [
        "[###############################-----------]  73.7% ... Processing 2945 files\r"
       ]
      },
      {
       "output_type": "stream",
       "stream": "stdout",
       "text": [
        "[###############################-----------]  73.7% ... Processing 2945 files\r"
       ]
      },
      {
       "output_type": "stream",
       "stream": "stdout",
       "text": [
        "[###############################-----------]  73.7% ... Processing 2945 files\r"
       ]
      },
      {
       "output_type": "stream",
       "stream": "stdout",
       "text": [
        "[###############################-----------]  73.8% ... Processing 2945 files\r"
       ]
      },
      {
       "output_type": "stream",
       "stream": "stdout",
       "text": [
        "[###############################-----------]  73.8% ... Processing 2945 files\r"
       ]
      },
      {
       "output_type": "stream",
       "stream": "stdout",
       "text": [
        "[###############################-----------]  73.8% ... Processing 2945 files\r"
       ]
      },
      {
       "output_type": "stream",
       "stream": "stdout",
       "text": [
        "[###############################-----------]  73.9% ... Processing 2945 files\r"
       ]
      },
      {
       "output_type": "stream",
       "stream": "stdout",
       "text": [
        "[###############################-----------]  73.9% ... Processing 2945 files\r"
       ]
      },
      {
       "output_type": "stream",
       "stream": "stdout",
       "text": [
        "[###############################-----------]  73.9% ... Processing 2945 files\r"
       ]
      },
      {
       "output_type": "stream",
       "stream": "stdout",
       "text": [
        "[###############################-----------]  74.0% ... Processing 2945 files\r"
       ]
      },
      {
       "output_type": "stream",
       "stream": "stdout",
       "text": [
        "[###############################-----------]  74.0% ... Processing 2945 files\r"
       ]
      },
      {
       "output_type": "stream",
       "stream": "stdout",
       "text": [
        "[###############################-----------]  74.0% ... Processing 2945 files\r"
       ]
      },
      {
       "output_type": "stream",
       "stream": "stdout",
       "text": [
        "[###############################-----------]  74.1% ... Processing 2945 files\r"
       ]
      },
      {
       "output_type": "stream",
       "stream": "stdout",
       "text": [
        "[###############################-----------]  74.1% ... Processing 2945 files\r"
       ]
      },
      {
       "output_type": "stream",
       "stream": "stdout",
       "text": [
        "[###############################-----------]  74.1% ... Processing 2945 files\r"
       ]
      },
      {
       "output_type": "stream",
       "stream": "stdout",
       "text": [
        "[###############################-----------]  74.2% ... Processing 2945 files\r"
       ]
      },
      {
       "output_type": "stream",
       "stream": "stdout",
       "text": [
        "[###############################-----------]  74.2% ... Processing 2945 files\r"
       ]
      },
      {
       "output_type": "stream",
       "stream": "stdout",
       "text": [
        "[###############################-----------]  74.2% ... Processing 2945 files\r"
       ]
      },
      {
       "output_type": "stream",
       "stream": "stdout",
       "text": [
        "[###############################-----------]  74.3% ... Processing 2945 files\r"
       ]
      },
      {
       "output_type": "stream",
       "stream": "stdout",
       "text": [
        "[###############################-----------]  74.3% ... Processing 2945 files\r"
       ]
      },
      {
       "output_type": "stream",
       "stream": "stdout",
       "text": [
        "[###############################-----------]  74.3% ... Processing 2945 files\r"
       ]
      },
      {
       "output_type": "stream",
       "stream": "stdout",
       "text": [
        "[###############################-----------]  74.4% ... Processing 2945 files\r"
       ]
      },
      {
       "output_type": "stream",
       "stream": "stdout",
       "text": [
        "[###############################-----------]  74.4% ... Processing 2945 files\r"
       ]
      },
      {
       "output_type": "stream",
       "stream": "stdout",
       "text": [
        "[###############################-----------]  74.4% ... Processing 2945 files\r"
       ]
      },
      {
       "output_type": "stream",
       "stream": "stdout",
       "text": [
        "[###############################-----------]  74.5% ... Processing 2945 files\r"
       ]
      },
      {
       "output_type": "stream",
       "stream": "stdout",
       "text": [
        "[###############################-----------]  74.5% ... Processing 2945 files\r"
       ]
      },
      {
       "output_type": "stream",
       "stream": "stdout",
       "text": [
        "[###############################-----------]  74.5% ... Processing 2945 files\r"
       ]
      },
      {
       "output_type": "stream",
       "stream": "stdout",
       "text": [
        "[###############################-----------]  74.6% ... Processing 2945 files\r"
       ]
      },
      {
       "output_type": "stream",
       "stream": "stdout",
       "text": [
        "[###############################-----------]  74.6% ... Processing 2945 files\r"
       ]
      },
      {
       "output_type": "stream",
       "stream": "stdout",
       "text": [
        "[###############################-----------]  74.6% ... Processing 2945 files\r"
       ]
      },
      {
       "output_type": "stream",
       "stream": "stdout",
       "text": [
        "[###############################-----------]  74.7% ... Processing 2945 files\r"
       ]
      },
      {
       "output_type": "stream",
       "stream": "stdout",
       "text": [
        "[###############################-----------]  74.7% ... Processing 2945 files\r"
       ]
      },
      {
       "output_type": "stream",
       "stream": "stdout",
       "text": [
        "[###############################-----------]  74.7% ... Processing 2945 files\r"
       ]
      },
      {
       "output_type": "stream",
       "stream": "stdout",
       "text": [
        "[###############################-----------]  74.8% ... Processing 2945 files\r"
       ]
      },
      {
       "output_type": "stream",
       "stream": "stdout",
       "text": [
        "[###############################-----------]  74.8% ... Processing 2945 files\r"
       ]
      },
      {
       "output_type": "stream",
       "stream": "stdout",
       "text": [
        "[###############################-----------]  74.8% ... Processing 2945 files\r"
       ]
      },
      {
       "output_type": "stream",
       "stream": "stdout",
       "text": [
        "[###############################-----------]  74.9% ... Processing 2945 files\r"
       ]
      },
      {
       "output_type": "stream",
       "stream": "stdout",
       "text": [
        "[###############################-----------]  74.9% ... Processing 2945 files\r"
       ]
      },
      {
       "output_type": "stream",
       "stream": "stdout",
       "text": [
        "[###############################-----------]  74.9% ... Processing 2945 files\r"
       ]
      },
      {
       "output_type": "stream",
       "stream": "stdout",
       "text": [
        "[###############################-----------]  75.0% ... Processing 2945 files\r"
       ]
      },
      {
       "output_type": "stream",
       "stream": "stdout",
       "text": [
        "[################################----------]  75.0% ... Processing 2945 files\r"
       ]
      },
      {
       "output_type": "stream",
       "stream": "stdout",
       "text": [
        "[################################----------]  75.0% ... Processing 2945 files\r"
       ]
      },
      {
       "output_type": "stream",
       "stream": "stdout",
       "text": [
        "[################################----------]  75.1% ... Processing 2945 files\r"
       ]
      },
      {
       "output_type": "stream",
       "stream": "stdout",
       "text": [
        "[################################----------]  75.1% ... Processing 2945 files\r"
       ]
      },
      {
       "output_type": "stream",
       "stream": "stdout",
       "text": [
        "[################################----------]  75.1% ... Processing 2945 files\r"
       ]
      },
      {
       "output_type": "stream",
       "stream": "stdout",
       "text": [
        "[################################----------]  75.2% ... Processing 2945 files\r"
       ]
      },
      {
       "output_type": "stream",
       "stream": "stdout",
       "text": [
        "[################################----------]  75.2% ... Processing 2945 files\r"
       ]
      },
      {
       "output_type": "stream",
       "stream": "stdout",
       "text": [
        "[################################----------]  75.2% ... Processing 2945 files\r"
       ]
      },
      {
       "output_type": "stream",
       "stream": "stdout",
       "text": [
        "[################################----------]  75.3% ... Processing 2945 files\r"
       ]
      },
      {
       "output_type": "stream",
       "stream": "stdout",
       "text": [
        "[################################----------]  75.3% ... Processing 2945 files\r"
       ]
      },
      {
       "output_type": "stream",
       "stream": "stdout",
       "text": [
        "[################################----------]  75.3% ... Processing 2945 files\r"
       ]
      },
      {
       "output_type": "stream",
       "stream": "stdout",
       "text": [
        "[################################----------]  75.4% ... Processing 2945 files\r"
       ]
      },
      {
       "output_type": "stream",
       "stream": "stdout",
       "text": [
        "[################################----------]  75.4% ... Processing 2945 files\r"
       ]
      },
      {
       "output_type": "stream",
       "stream": "stdout",
       "text": [
        "[################################----------]  75.4% ... Processing 2945 files\r"
       ]
      },
      {
       "output_type": "stream",
       "stream": "stdout",
       "text": [
        "[################################----------]  75.5% ... Processing 2945 files\r"
       ]
      },
      {
       "output_type": "stream",
       "stream": "stdout",
       "text": [
        "[################################----------]  75.5% ... Processing 2945 files\r"
       ]
      },
      {
       "output_type": "stream",
       "stream": "stdout",
       "text": [
        "[################################----------]  75.6% ... Processing 2945 files\r"
       ]
      },
      {
       "output_type": "stream",
       "stream": "stdout",
       "text": [
        "[################################----------]  75.6% ... Processing 2945 files\r"
       ]
      },
      {
       "output_type": "stream",
       "stream": "stdout",
       "text": [
        "[################################----------]  75.6% ... Processing 2945 files\r"
       ]
      },
      {
       "output_type": "stream",
       "stream": "stdout",
       "text": [
        "[################################----------]  75.7% ... Processing 2945 files\r"
       ]
      },
      {
       "output_type": "stream",
       "stream": "stdout",
       "text": [
        "[################################----------]  75.7% ... Processing 2945 files\r"
       ]
      },
      {
       "output_type": "stream",
       "stream": "stdout",
       "text": [
        "[################################----------]  75.7% ... Processing 2945 files\r"
       ]
      },
      {
       "output_type": "stream",
       "stream": "stdout",
       "text": [
        "[################################----------]  75.8% ... Processing 2945 files\r"
       ]
      },
      {
       "output_type": "stream",
       "stream": "stdout",
       "text": [
        "[################################----------]  75.8% ... Processing 2945 files\r"
       ]
      },
      {
       "output_type": "stream",
       "stream": "stdout",
       "text": [
        "[################################----------]  75.8% ... Processing 2945 files\r"
       ]
      },
      {
       "output_type": "stream",
       "stream": "stdout",
       "text": [
        "[################################----------]  75.9% ... Processing 2945 files\r"
       ]
      },
      {
       "output_type": "stream",
       "stream": "stdout",
       "text": [
        "[################################----------]  75.9% ... Processing 2945 files\r"
       ]
      },
      {
       "output_type": "stream",
       "stream": "stdout",
       "text": [
        "[################################----------]  75.9% ... Processing 2945 files\r"
       ]
      },
      {
       "output_type": "stream",
       "stream": "stdout",
       "text": [
        "[################################----------]  76.0% ... Processing 2945 files\r"
       ]
      },
      {
       "output_type": "stream",
       "stream": "stdout",
       "text": [
        "[################################----------]  76.0% ... Processing 2945 files\r"
       ]
      },
      {
       "output_type": "stream",
       "stream": "stdout",
       "text": [
        "[################################----------]  76.0% ... Processing 2945 files\r"
       ]
      },
      {
       "output_type": "stream",
       "stream": "stdout",
       "text": [
        "[################################----------]  76.1% ... Processing 2945 files\r"
       ]
      },
      {
       "output_type": "stream",
       "stream": "stdout",
       "text": [
        "[################################----------]  76.1% ... Processing 2945 files\r"
       ]
      },
      {
       "output_type": "stream",
       "stream": "stdout",
       "text": [
        "[################################----------]  76.1% ... Processing 2945 files\r"
       ]
      },
      {
       "output_type": "stream",
       "stream": "stdout",
       "text": [
        "[################################----------]  76.2% ... Processing 2945 files\r"
       ]
      },
      {
       "output_type": "stream",
       "stream": "stdout",
       "text": [
        "[################################----------]  76.2% ... Processing 2945 files\r"
       ]
      },
      {
       "output_type": "stream",
       "stream": "stdout",
       "text": [
        "[################################----------]  76.2% ... Processing 2945 files\r"
       ]
      },
      {
       "output_type": "stream",
       "stream": "stdout",
       "text": [
        "[################################----------]  76.3% ... Processing 2945 files\r"
       ]
      },
      {
       "output_type": "stream",
       "stream": "stdout",
       "text": [
        "[################################----------]  76.3% ... Processing 2945 files\r"
       ]
      },
      {
       "output_type": "stream",
       "stream": "stdout",
       "text": [
        "[################################----------]  76.3% ... Processing 2945 files\r"
       ]
      },
      {
       "output_type": "stream",
       "stream": "stdout",
       "text": [
        "[################################----------]  76.4% ... Processing 2945 files\r"
       ]
      },
      {
       "output_type": "stream",
       "stream": "stdout",
       "text": [
        "[################################----------]  76.4% ... Processing 2945 files\r"
       ]
      },
      {
       "output_type": "stream",
       "stream": "stdout",
       "text": [
        "[################################----------]  76.4% ... Processing 2945 files\r"
       ]
      },
      {
       "output_type": "stream",
       "stream": "stdout",
       "text": [
        "[################################----------]  76.5% ... Processing 2945 files\r"
       ]
      },
      {
       "output_type": "stream",
       "stream": "stdout",
       "text": [
        "[################################----------]  76.5% ... Processing 2945 files\r"
       ]
      },
      {
       "output_type": "stream",
       "stream": "stdout",
       "text": [
        "[################################----------]  76.5% ... Processing 2945 files\r"
       ]
      },
      {
       "output_type": "stream",
       "stream": "stdout",
       "text": [
        "[################################----------]  76.6% ... Processing 2945 files\r"
       ]
      },
      {
       "output_type": "stream",
       "stream": "stdout",
       "text": [
        "[################################----------]  76.6% ... Processing 2945 files\r"
       ]
      },
      {
       "output_type": "stream",
       "stream": "stdout",
       "text": [
        "[################################----------]  76.6% ... Processing 2945 files\r"
       ]
      },
      {
       "output_type": "stream",
       "stream": "stdout",
       "text": [
        "[################################----------]  76.7% ... Processing 2945 files\r"
       ]
      },
      {
       "output_type": "stream",
       "stream": "stdout",
       "text": [
        "[################################----------]  76.7% ... Processing 2945 files\r"
       ]
      },
      {
       "output_type": "stream",
       "stream": "stdout",
       "text": [
        "[################################----------]  76.7% ... Processing 2945 files\r"
       ]
      },
      {
       "output_type": "stream",
       "stream": "stdout",
       "text": [
        "[################################----------]  76.8% ... Processing 2945 files\r"
       ]
      },
      {
       "output_type": "stream",
       "stream": "stdout",
       "text": [
        "[################################----------]  76.8% ... Processing 2945 files\r"
       ]
      },
      {
       "output_type": "stream",
       "stream": "stdout",
       "text": [
        "[################################----------]  76.8% ... Processing 2945 files\r"
       ]
      },
      {
       "output_type": "stream",
       "stream": "stdout",
       "text": [
        "[################################----------]  76.9% ... Processing 2945 files\r"
       ]
      },
      {
       "output_type": "stream",
       "stream": "stdout",
       "text": [
        "[################################----------]  76.9% ... Processing 2945 files\r"
       ]
      },
      {
       "output_type": "stream",
       "stream": "stdout",
       "text": [
        "[################################----------]  76.9% ... Processing 2945 files\r"
       ]
      },
      {
       "output_type": "stream",
       "stream": "stdout",
       "text": [
        "[################################----------]  77.0% ... Processing 2945 files\r"
       ]
      },
      {
       "output_type": "stream",
       "stream": "stdout",
       "text": [
        "[################################----------]  77.0% ... Processing 2945 files\r"
       ]
      },
      {
       "output_type": "stream",
       "stream": "stdout",
       "text": [
        "[################################----------]  77.0% ... Processing 2945 files\r"
       ]
      },
      {
       "output_type": "stream",
       "stream": "stdout",
       "text": [
        "[################################----------]  77.1% ... Processing 2945 files\r"
       ]
      },
      {
       "output_type": "stream",
       "stream": "stdout",
       "text": [
        "[################################----------]  77.1% ... Processing 2945 files\r"
       ]
      },
      {
       "output_type": "stream",
       "stream": "stdout",
       "text": [
        "[################################----------]  77.1% ... Processing 2945 files\r"
       ]
      },
      {
       "output_type": "stream",
       "stream": "stdout",
       "text": [
        "[################################----------]  77.2% ... Processing 2945 files\r"
       ]
      },
      {
       "output_type": "stream",
       "stream": "stdout",
       "text": [
        "[################################----------]  77.2% ... Processing 2945 files\r"
       ]
      },
      {
       "output_type": "stream",
       "stream": "stdout",
       "text": [
        "[################################----------]  77.2% ... Processing 2945 files\r"
       ]
      },
      {
       "output_type": "stream",
       "stream": "stdout",
       "text": [
        "[################################----------]  77.3% ... Processing 2945 files\r"
       ]
      },
      {
       "output_type": "stream",
       "stream": "stdout",
       "text": [
        "[################################----------]  77.3% ... Processing 2945 files\r"
       ]
      },
      {
       "output_type": "stream",
       "stream": "stdout",
       "text": [
        "[################################----------]  77.4% ... Processing 2945 files\r"
       ]
      },
      {
       "output_type": "stream",
       "stream": "stdout",
       "text": [
        "[#################################---------]  77.4% ... Processing 2945 files\r"
       ]
      },
      {
       "output_type": "stream",
       "stream": "stdout",
       "text": [
        "[#################################---------]  77.4% ... Processing 2945 files\r"
       ]
      },
      {
       "output_type": "stream",
       "stream": "stdout",
       "text": [
        "[#################################---------]  77.5% ... Processing 2945 files\r"
       ]
      },
      {
       "output_type": "stream",
       "stream": "stdout",
       "text": [
        "[#################################---------]  77.5% ... Processing 2945 files\r"
       ]
      },
      {
       "output_type": "stream",
       "stream": "stdout",
       "text": [
        "[#################################---------]  77.5% ... Processing 2945 files\r"
       ]
      },
      {
       "output_type": "stream",
       "stream": "stdout",
       "text": [
        "[#################################---------]  77.6% ... Processing 2945 files\r"
       ]
      },
      {
       "output_type": "stream",
       "stream": "stdout",
       "text": [
        "[#################################---------]  77.6% ... Processing 2945 files\r"
       ]
      },
      {
       "output_type": "stream",
       "stream": "stdout",
       "text": [
        "[#################################---------]  77.6% ... Processing 2945 files\r"
       ]
      },
      {
       "output_type": "stream",
       "stream": "stdout",
       "text": [
        "[#################################---------]  77.7% ... Processing 2945 files\r"
       ]
      },
      {
       "output_type": "stream",
       "stream": "stdout",
       "text": [
        "[#################################---------]  77.7% ... Processing 2945 files\r"
       ]
      },
      {
       "output_type": "stream",
       "stream": "stdout",
       "text": [
        "[#################################---------]  77.7% ... Processing 2945 files\r"
       ]
      },
      {
       "output_type": "stream",
       "stream": "stdout",
       "text": [
        "[#################################---------]  77.8% ... Processing 2945 files\r"
       ]
      },
      {
       "output_type": "stream",
       "stream": "stdout",
       "text": [
        "[#################################---------]  77.8% ... Processing 2945 files\r"
       ]
      },
      {
       "output_type": "stream",
       "stream": "stdout",
       "text": [
        "[#################################---------]  77.8% ... Processing 2945 files\r"
       ]
      },
      {
       "output_type": "stream",
       "stream": "stdout",
       "text": [
        "[#################################---------]  77.9% ... Processing 2945 files\r"
       ]
      },
      {
       "output_type": "stream",
       "stream": "stdout",
       "text": [
        "[#################################---------]  77.9% ... Processing 2945 files\r"
       ]
      },
      {
       "output_type": "stream",
       "stream": "stdout",
       "text": [
        "[#################################---------]  77.9% ... Processing 2945 files\r"
       ]
      },
      {
       "output_type": "stream",
       "stream": "stdout",
       "text": [
        "[#################################---------]  78.0% ... Processing 2945 files\r"
       ]
      },
      {
       "output_type": "stream",
       "stream": "stdout",
       "text": [
        "[#################################---------]  78.0% ... Processing 2945 files\r"
       ]
      },
      {
       "output_type": "stream",
       "stream": "stdout",
       "text": [
        "[#################################---------]  78.0% ... Processing 2945 files\r"
       ]
      },
      {
       "output_type": "stream",
       "stream": "stdout",
       "text": [
        "[#################################---------]  78.1% ... Processing 2945 files\r"
       ]
      },
      {
       "output_type": "stream",
       "stream": "stdout",
       "text": [
        "[#################################---------]  78.1% ... Processing 2945 files\r"
       ]
      },
      {
       "output_type": "stream",
       "stream": "stdout",
       "text": [
        "[#################################---------]  78.1% ... Processing 2945 files\r"
       ]
      },
      {
       "output_type": "stream",
       "stream": "stdout",
       "text": [
        "[#################################---------]  78.2% ... Processing 2945 files\r"
       ]
      },
      {
       "output_type": "stream",
       "stream": "stdout",
       "text": [
        "[#################################---------]  78.2% ... Processing 2945 files\r"
       ]
      },
      {
       "output_type": "stream",
       "stream": "stdout",
       "text": [
        "[#################################---------]  78.2% ... Processing 2945 files\r"
       ]
      },
      {
       "output_type": "stream",
       "stream": "stdout",
       "text": [
        "[#################################---------]  78.3% ... Processing 2945 files\r"
       ]
      },
      {
       "output_type": "stream",
       "stream": "stdout",
       "text": [
        "[#################################---------]  78.3% ... Processing 2945 files\r"
       ]
      },
      {
       "output_type": "stream",
       "stream": "stdout",
       "text": [
        "[#################################---------]  78.3% ... Processing 2945 files\r"
       ]
      },
      {
       "output_type": "stream",
       "stream": "stdout",
       "text": [
        "[#################################---------]  78.4% ... Processing 2945 files\r"
       ]
      },
      {
       "output_type": "stream",
       "stream": "stdout",
       "text": [
        "[#################################---------]  78.4% ... Processing 2945 files\r"
       ]
      },
      {
       "output_type": "stream",
       "stream": "stdout",
       "text": [
        "[#################################---------]  78.4% ... Processing 2945 files\r"
       ]
      },
      {
       "output_type": "stream",
       "stream": "stdout",
       "text": [
        "[#################################---------]  78.5% ... Processing 2945 files\r"
       ]
      },
      {
       "output_type": "stream",
       "stream": "stdout",
       "text": [
        "[#################################---------]  78.5% ... Processing 2945 files\r"
       ]
      },
      {
       "output_type": "stream",
       "stream": "stdout",
       "text": [
        "[#################################---------]  78.5% ... Processing 2945 files\r"
       ]
      },
      {
       "output_type": "stream",
       "stream": "stdout",
       "text": [
        "[#################################---------]  78.6% ... Processing 2945 files\r"
       ]
      },
      {
       "output_type": "stream",
       "stream": "stdout",
       "text": [
        "[#################################---------]  78.6% ... Processing 2945 files\r"
       ]
      },
      {
       "output_type": "stream",
       "stream": "stdout",
       "text": [
        "[#################################---------]  78.6% ... Processing 2945 files\r"
       ]
      },
      {
       "output_type": "stream",
       "stream": "stdout",
       "text": [
        "[#################################---------]  78.7% ... Processing 2945 files\r"
       ]
      },
      {
       "output_type": "stream",
       "stream": "stdout",
       "text": [
        "[#################################---------]  78.7% ... Processing 2945 files\r"
       ]
      },
      {
       "output_type": "stream",
       "stream": "stdout",
       "text": [
        "[#################################---------]  78.7% ... Processing 2945 files\r"
       ]
      },
      {
       "output_type": "stream",
       "stream": "stdout",
       "text": [
        "[#################################---------]  78.8% ... Processing 2945 files\r"
       ]
      },
      {
       "output_type": "stream",
       "stream": "stdout",
       "text": [
        "[#################################---------]  78.8% ... Processing 2945 files\r"
       ]
      },
      {
       "output_type": "stream",
       "stream": "stdout",
       "text": [
        "[#################################---------]  78.8% ... Processing 2945 files\r"
       ]
      },
      {
       "output_type": "stream",
       "stream": "stdout",
       "text": [
        "[#################################---------]  78.9% ... Processing 2945 files\r"
       ]
      },
      {
       "output_type": "stream",
       "stream": "stdout",
       "text": [
        "[#################################---------]  78.9% ... Processing 2945 files\r"
       ]
      },
      {
       "output_type": "stream",
       "stream": "stdout",
       "text": [
        "[#################################---------]  78.9% ... Processing 2945 files\r"
       ]
      },
      {
       "output_type": "stream",
       "stream": "stdout",
       "text": [
        "[#################################---------]  79.0% ... Processing 2945 files\r"
       ]
      },
      {
       "output_type": "stream",
       "stream": "stdout",
       "text": [
        "[#################################---------]  79.0% ... Processing 2945 files\r"
       ]
      },
      {
       "output_type": "stream",
       "stream": "stdout",
       "text": [
        "[#################################---------]  79.0% ... Processing 2945 files\r"
       ]
      },
      {
       "output_type": "stream",
       "stream": "stdout",
       "text": [
        "[#################################---------]  79.1% ... Processing 2945 files\r"
       ]
      },
      {
       "output_type": "stream",
       "stream": "stdout",
       "text": [
        "[#################################---------]  79.1% ... Processing 2945 files\r"
       ]
      },
      {
       "output_type": "stream",
       "stream": "stdout",
       "text": [
        "[#################################---------]  79.2% ... Processing 2945 files\r"
       ]
      },
      {
       "output_type": "stream",
       "stream": "stdout",
       "text": [
        "[#################################---------]  79.2% ... Processing 2945 files\r"
       ]
      },
      {
       "output_type": "stream",
       "stream": "stdout",
       "text": [
        "[#################################---------]  79.2% ... Processing 2945 files\r"
       ]
      },
      {
       "output_type": "stream",
       "stream": "stdout",
       "text": [
        "[#################################---------]  79.3% ... Processing 2945 files\r"
       ]
      },
      {
       "output_type": "stream",
       "stream": "stdout",
       "text": [
        "[#################################---------]  79.3% ... Processing 2945 files\r"
       ]
      },
      {
       "output_type": "stream",
       "stream": "stdout",
       "text": [
        "[#################################---------]  79.3% ... Processing 2945 files\r"
       ]
      },
      {
       "output_type": "stream",
       "stream": "stdout",
       "text": [
        "[#################################---------]  79.4% ... Processing 2945 files\r"
       ]
      },
      {
       "output_type": "stream",
       "stream": "stdout",
       "text": [
        "[#################################---------]  79.4% ... Processing 2945 files\r"
       ]
      },
      {
       "output_type": "stream",
       "stream": "stdout",
       "text": [
        "[#################################---------]  79.4% ... Processing 2945 files\r"
       ]
      },
      {
       "output_type": "stream",
       "stream": "stdout",
       "text": [
        "[#################################---------]  79.5% ... Processing 2945 files\r"
       ]
      },
      {
       "output_type": "stream",
       "stream": "stdout",
       "text": [
        "[#################################---------]  79.5% ... Processing 2945 files\r"
       ]
      },
      {
       "output_type": "stream",
       "stream": "stdout",
       "text": [
        "[#################################---------]  79.5% ... Processing 2945 files\r"
       ]
      },
      {
       "output_type": "stream",
       "stream": "stdout",
       "text": [
        "[#################################---------]  79.6% ... Processing 2945 files\r"
       ]
      },
      {
       "output_type": "stream",
       "stream": "stdout",
       "text": [
        "[#################################---------]  79.6% ... Processing 2945 files\r"
       ]
      },
      {
       "output_type": "stream",
       "stream": "stdout",
       "text": [
        "[#################################---------]  79.6% ... Processing 2945 files\r"
       ]
      },
      {
       "output_type": "stream",
       "stream": "stdout",
       "text": [
        "[#################################---------]  79.7% ... Processing 2945 files\r"
       ]
      },
      {
       "output_type": "stream",
       "stream": "stdout",
       "text": [
        "[#################################---------]  79.7% ... Processing 2945 files\r"
       ]
      },
      {
       "output_type": "stream",
       "stream": "stdout",
       "text": [
        "[#################################---------]  79.7% ... Processing 2945 files\r"
       ]
      },
      {
       "output_type": "stream",
       "stream": "stdout",
       "text": [
        "[##################################--------]  79.8% ... Processing 2945 files\r"
       ]
      },
      {
       "output_type": "stream",
       "stream": "stdout",
       "text": [
        "[##################################--------]  79.8% ... Processing 2945 files\r"
       ]
      },
      {
       "output_type": "stream",
       "stream": "stdout",
       "text": [
        "[##################################--------]  79.8% ... Processing 2945 files\r"
       ]
      },
      {
       "output_type": "stream",
       "stream": "stdout",
       "text": [
        "[##################################--------]  79.9% ... Processing 2945 files\r"
       ]
      },
      {
       "output_type": "stream",
       "stream": "stdout",
       "text": [
        "[##################################--------]  79.9% ... Processing 2945 files\r"
       ]
      },
      {
       "output_type": "stream",
       "stream": "stdout",
       "text": [
        "[##################################--------]  79.9% ... Processing 2945 files\r"
       ]
      },
      {
       "output_type": "stream",
       "stream": "stdout",
       "text": [
        "[##################################--------]  80.0% ... Processing 2945 files\r"
       ]
      },
      {
       "output_type": "stream",
       "stream": "stdout",
       "text": [
        "[##################################--------]  80.0% ... Processing 2945 files\r"
       ]
      },
      {
       "output_type": "stream",
       "stream": "stdout",
       "text": [
        "[##################################--------]  80.0% ... Processing 2945 files\r"
       ]
      },
      {
       "output_type": "stream",
       "stream": "stdout",
       "text": [
        "[##################################--------]  80.1% ... Processing 2945 files\r"
       ]
      },
      {
       "output_type": "stream",
       "stream": "stdout",
       "text": [
        "[##################################--------]  80.1% ... Processing 2945 files\r"
       ]
      },
      {
       "output_type": "stream",
       "stream": "stdout",
       "text": [
        "[##################################--------]  80.1% ... Processing 2945 files\r"
       ]
      },
      {
       "output_type": "stream",
       "stream": "stdout",
       "text": [
        "[##################################--------]  80.2% ... Processing 2945 files\r"
       ]
      },
      {
       "output_type": "stream",
       "stream": "stdout",
       "text": [
        "[##################################--------]  80.2% ... Processing 2945 files\r"
       ]
      },
      {
       "output_type": "stream",
       "stream": "stdout",
       "text": [
        "[##################################--------]  80.2% ... Processing 2945 files\r"
       ]
      },
      {
       "output_type": "stream",
       "stream": "stdout",
       "text": [
        "[##################################--------]  80.3% ... Processing 2945 files\r"
       ]
      },
      {
       "output_type": "stream",
       "stream": "stdout",
       "text": [
        "[##################################--------]  80.3% ... Processing 2945 files\r"
       ]
      },
      {
       "output_type": "stream",
       "stream": "stdout",
       "text": [
        "[##################################--------]  80.3% ... Processing 2945 files\r"
       ]
      },
      {
       "output_type": "stream",
       "stream": "stdout",
       "text": [
        "[##################################--------]  80.4% ... Processing 2945 files\r"
       ]
      },
      {
       "output_type": "stream",
       "stream": "stdout",
       "text": [
        "[##################################--------]  80.4% ... Processing 2945 files\r"
       ]
      },
      {
       "output_type": "stream",
       "stream": "stdout",
       "text": [
        "[##################################--------]  80.4% ... Processing 2945 files\r"
       ]
      },
      {
       "output_type": "stream",
       "stream": "stdout",
       "text": [
        "[##################################--------]  80.5% ... Processing 2945 files\r"
       ]
      },
      {
       "output_type": "stream",
       "stream": "stdout",
       "text": [
        "[##################################--------]  80.5% ... Processing 2945 files\r"
       ]
      },
      {
       "output_type": "stream",
       "stream": "stdout",
       "text": [
        "[##################################--------]  80.5% ... Processing 2945 files\r"
       ]
      },
      {
       "output_type": "stream",
       "stream": "stdout",
       "text": [
        "[##################################--------]  80.6% ... Processing 2945 files\r"
       ]
      },
      {
       "output_type": "stream",
       "stream": "stdout",
       "text": [
        "[##################################--------]  80.6% ... Processing 2945 files\r"
       ]
      },
      {
       "output_type": "stream",
       "stream": "stdout",
       "text": [
        "[##################################--------]  80.6% ... Processing 2945 files\r"
       ]
      },
      {
       "output_type": "stream",
       "stream": "stdout",
       "text": [
        "[##################################--------]  80.7% ... Processing 2945 files\r"
       ]
      },
      {
       "output_type": "stream",
       "stream": "stdout",
       "text": [
        "[##################################--------]  80.7% ... Processing 2945 files\r"
       ]
      },
      {
       "output_type": "stream",
       "stream": "stdout",
       "text": [
        "[##################################--------]  80.7% ... Processing 2945 files\r"
       ]
      },
      {
       "output_type": "stream",
       "stream": "stdout",
       "text": [
        "[##################################--------]  80.8% ... Processing 2945 files\r"
       ]
      },
      {
       "output_type": "stream",
       "stream": "stdout",
       "text": [
        "[##################################--------]  80.8% ... Processing 2945 files\r"
       ]
      },
      {
       "output_type": "stream",
       "stream": "stdout",
       "text": [
        "[##################################--------]  80.8% ... Processing 2945 files\r"
       ]
      },
      {
       "output_type": "stream",
       "stream": "stdout",
       "text": [
        "[##################################--------]  80.9% ... Processing 2945 files\r"
       ]
      },
      {
       "output_type": "stream",
       "stream": "stdout",
       "text": [
        "[##################################--------]  80.9% ... Processing 2945 files\r"
       ]
      },
      {
       "output_type": "stream",
       "stream": "stdout",
       "text": [
        "[##################################--------]  81.0% ... Processing 2945 files\r"
       ]
      },
      {
       "output_type": "stream",
       "stream": "stdout",
       "text": [
        "[##################################--------]  81.0% ... Processing 2945 files\r"
       ]
      },
      {
       "output_type": "stream",
       "stream": "stdout",
       "text": [
        "[##################################--------]  81.0% ... Processing 2945 files\r"
       ]
      },
      {
       "output_type": "stream",
       "stream": "stdout",
       "text": [
        "[##################################--------]  81.1% ... Processing 2945 files\r"
       ]
      },
      {
       "output_type": "stream",
       "stream": "stdout",
       "text": [
        "[##################################--------]  81.1% ... Processing 2945 files\r"
       ]
      },
      {
       "output_type": "stream",
       "stream": "stdout",
       "text": [
        "[##################################--------]  81.1% ... Processing 2945 files\r"
       ]
      },
      {
       "output_type": "stream",
       "stream": "stdout",
       "text": [
        "[##################################--------]  81.2% ... Processing 2945 files\r"
       ]
      },
      {
       "output_type": "stream",
       "stream": "stdout",
       "text": [
        "[##################################--------]  81.2% ... Processing 2945 files\r"
       ]
      },
      {
       "output_type": "stream",
       "stream": "stdout",
       "text": [
        "[##################################--------]  81.2% ... Processing 2945 files\r"
       ]
      },
      {
       "output_type": "stream",
       "stream": "stdout",
       "text": [
        "[##################################--------]  81.3% ... Processing 2945 files\r"
       ]
      },
      {
       "output_type": "stream",
       "stream": "stdout",
       "text": [
        "[##################################--------]  81.3% ... Processing 2945 files\r"
       ]
      },
      {
       "output_type": "stream",
       "stream": "stdout",
       "text": [
        "[##################################--------]  81.3% ... Processing 2945 files\r"
       ]
      },
      {
       "output_type": "stream",
       "stream": "stdout",
       "text": [
        "[##################################--------]  81.4% ... Processing 2945 files\r"
       ]
      },
      {
       "output_type": "stream",
       "stream": "stdout",
       "text": [
        "[##################################--------]  81.4% ... Processing 2945 files\r"
       ]
      },
      {
       "output_type": "stream",
       "stream": "stdout",
       "text": [
        "[##################################--------]  81.4% ... Processing 2945 files\r"
       ]
      },
      {
       "output_type": "stream",
       "stream": "stdout",
       "text": [
        "[##################################--------]  81.5% ... Processing 2945 files\r"
       ]
      },
      {
       "output_type": "stream",
       "stream": "stdout",
       "text": [
        "[##################################--------]  81.5% ... Processing 2945 files\r"
       ]
      },
      {
       "output_type": "stream",
       "stream": "stdout",
       "text": [
        "[##################################--------]  81.5% ... Processing 2945 files\r"
       ]
      },
      {
       "output_type": "stream",
       "stream": "stdout",
       "text": [
        "[##################################--------]  81.6% ... Processing 2945 files\r"
       ]
      },
      {
       "output_type": "stream",
       "stream": "stdout",
       "text": [
        "[##################################--------]  81.6% ... Processing 2945 files\r"
       ]
      },
      {
       "output_type": "stream",
       "stream": "stdout",
       "text": [
        "[##################################--------]  81.6% ... Processing 2945 files\r"
       ]
      },
      {
       "output_type": "stream",
       "stream": "stdout",
       "text": [
        "[##################################--------]  81.7% ... Processing 2945 files\r"
       ]
      },
      {
       "output_type": "stream",
       "stream": "stdout",
       "text": [
        "[##################################--------]  81.7% ... Processing 2945 files\r"
       ]
      },
      {
       "output_type": "stream",
       "stream": "stdout",
       "text": [
        "[##################################--------]  81.7% ... Processing 2945 files\r"
       ]
      },
      {
       "output_type": "stream",
       "stream": "stdout",
       "text": [
        "[##################################--------]  81.8% ... Processing 2945 files\r"
       ]
      },
      {
       "output_type": "stream",
       "stream": "stdout",
       "text": [
        "[##################################--------]  81.8% ... Processing 2945 files\r"
       ]
      },
      {
       "output_type": "stream",
       "stream": "stdout",
       "text": [
        "[##################################--------]  81.8% ... Processing 2945 files\r"
       ]
      },
      {
       "output_type": "stream",
       "stream": "stdout",
       "text": [
        "[##################################--------]  81.9% ... Processing 2945 files\r"
       ]
      },
      {
       "output_type": "stream",
       "stream": "stdout",
       "text": [
        "[##################################--------]  81.9% ... Processing 2945 files\r"
       ]
      },
      {
       "output_type": "stream",
       "stream": "stdout",
       "text": [
        "[##################################--------]  81.9% ... Processing 2945 files\r"
       ]
      },
      {
       "output_type": "stream",
       "stream": "stdout",
       "text": [
        "[##################################--------]  82.0% ... Processing 2945 files\r"
       ]
      },
      {
       "output_type": "stream",
       "stream": "stdout",
       "text": [
        "[##################################--------]  82.0% ... Processing 2945 files\r"
       ]
      },
      {
       "output_type": "stream",
       "stream": "stdout",
       "text": [
        "[##################################--------]  82.0% ... Processing 2945 files\r"
       ]
      },
      {
       "output_type": "stream",
       "stream": "stdout",
       "text": [
        "[##################################--------]  82.1% ... Processing 2945 files\r"
       ]
      },
      {
       "output_type": "stream",
       "stream": "stdout",
       "text": [
        "[##################################--------]  82.1% ... Processing 2945 files\r"
       ]
      },
      {
       "output_type": "stream",
       "stream": "stdout",
       "text": [
        "[##################################--------]  82.1% ... Processing 2945 files\r"
       ]
      },
      {
       "output_type": "stream",
       "stream": "stdout",
       "text": [
        "[###################################-------]  82.2% ... Processing 2945 files\r"
       ]
      },
      {
       "output_type": "stream",
       "stream": "stdout",
       "text": [
        "[###################################-------]  82.2% ... Processing 2945 files\r"
       ]
      },
      {
       "output_type": "stream",
       "stream": "stdout",
       "text": [
        "[###################################-------]  82.2% ... Processing 2945 files\r"
       ]
      },
      {
       "output_type": "stream",
       "stream": "stdout",
       "text": [
        "[###################################-------]  82.3% ... Processing 2945 files\r"
       ]
      },
      {
       "output_type": "stream",
       "stream": "stdout",
       "text": [
        "[###################################-------]  82.3% ... Processing 2945 files\r"
       ]
      },
      {
       "output_type": "stream",
       "stream": "stdout",
       "text": [
        "[###################################-------]  82.3% ... Processing 2945 files\r"
       ]
      },
      {
       "output_type": "stream",
       "stream": "stdout",
       "text": [
        "[###################################-------]  82.4% ... Processing 2945 files\r"
       ]
      },
      {
       "output_type": "stream",
       "stream": "stdout",
       "text": [
        "[###################################-------]  82.4% ... Processing 2945 files\r"
       ]
      },
      {
       "output_type": "stream",
       "stream": "stdout",
       "text": [
        "[###################################-------]  82.4% ... Processing 2945 files\r"
       ]
      },
      {
       "output_type": "stream",
       "stream": "stdout",
       "text": [
        "[###################################-------]  82.5% ... Processing 2945 files\r"
       ]
      },
      {
       "output_type": "stream",
       "stream": "stdout",
       "text": [
        "[###################################-------]  82.5% ... Processing 2945 files\r"
       ]
      },
      {
       "output_type": "stream",
       "stream": "stdout",
       "text": [
        "[###################################-------]  82.5% ... Processing 2945 files\r"
       ]
      },
      {
       "output_type": "stream",
       "stream": "stdout",
       "text": [
        "[###################################-------]  82.6% ... Processing 2945 files\r"
       ]
      },
      {
       "output_type": "stream",
       "stream": "stdout",
       "text": [
        "[###################################-------]  82.6% ... Processing 2945 files\r"
       ]
      },
      {
       "output_type": "stream",
       "stream": "stdout",
       "text": [
        "[###################################-------]  82.6% ... Processing 2945 files\r"
       ]
      },
      {
       "output_type": "stream",
       "stream": "stdout",
       "text": [
        "[###################################-------]  82.7% ... Processing 2945 files\r"
       ]
      },
      {
       "output_type": "stream",
       "stream": "stdout",
       "text": [
        "[###################################-------]  82.7% ... Processing 2945 files\r"
       ]
      },
      {
       "output_type": "stream",
       "stream": "stdout",
       "text": [
        "[###################################-------]  82.8% ... Processing 2945 files\r"
       ]
      },
      {
       "output_type": "stream",
       "stream": "stdout",
       "text": [
        "[###################################-------]  82.8% ... Processing 2945 files\r"
       ]
      },
      {
       "output_type": "stream",
       "stream": "stdout",
       "text": [
        "[###################################-------]  82.8% ... Processing 2945 files\r"
       ]
      },
      {
       "output_type": "stream",
       "stream": "stdout",
       "text": [
        "[###################################-------]  82.9% ... Processing 2945 files\r"
       ]
      },
      {
       "output_type": "stream",
       "stream": "stdout",
       "text": [
        "[###################################-------]  82.9% ... Processing 2945 files\r"
       ]
      },
      {
       "output_type": "stream",
       "stream": "stdout",
       "text": [
        "[###################################-------]  82.9% ... Processing 2945 files\r"
       ]
      },
      {
       "output_type": "stream",
       "stream": "stdout",
       "text": [
        "[###################################-------]  83.0% ... Processing 2945 files\r"
       ]
      },
      {
       "output_type": "stream",
       "stream": "stdout",
       "text": [
        "[###################################-------]  83.0% ... Processing 2945 files\r"
       ]
      },
      {
       "output_type": "stream",
       "stream": "stdout",
       "text": [
        "[###################################-------]  83.0% ... Processing 2945 files\r"
       ]
      },
      {
       "output_type": "stream",
       "stream": "stdout",
       "text": [
        "[###################################-------]  83.1% ... Processing 2945 files\r"
       ]
      },
      {
       "output_type": "stream",
       "stream": "stdout",
       "text": [
        "[###################################-------]  83.1% ... Processing 2945 files\r"
       ]
      },
      {
       "output_type": "stream",
       "stream": "stdout",
       "text": [
        "[###################################-------]  83.1% ... Processing 2945 files\r"
       ]
      },
      {
       "output_type": "stream",
       "stream": "stdout",
       "text": [
        "[###################################-------]  83.2% ... Processing 2945 files\r"
       ]
      },
      {
       "output_type": "stream",
       "stream": "stdout",
       "text": [
        "[###################################-------]  83.2% ... Processing 2945 files\r"
       ]
      },
      {
       "output_type": "stream",
       "stream": "stdout",
       "text": [
        "[###################################-------]  83.2% ... Processing 2945 files\r"
       ]
      },
      {
       "output_type": "stream",
       "stream": "stdout",
       "text": [
        "[###################################-------]  83.3% ... Processing 2945 files\r"
       ]
      },
      {
       "output_type": "stream",
       "stream": "stdout",
       "text": [
        "[###################################-------]  83.3% ... Processing 2945 files\r"
       ]
      },
      {
       "output_type": "stream",
       "stream": "stdout",
       "text": [
        "[###################################-------]  83.3% ... Processing 2945 files\r"
       ]
      },
      {
       "output_type": "stream",
       "stream": "stdout",
       "text": [
        "[###################################-------]  83.4% ... Processing 2945 files\r"
       ]
      },
      {
       "output_type": "stream",
       "stream": "stdout",
       "text": [
        "[###################################-------]  83.4% ... Processing 2945 files\r"
       ]
      },
      {
       "output_type": "stream",
       "stream": "stdout",
       "text": [
        "[###################################-------]  83.4% ... Processing 2945 files\r"
       ]
      },
      {
       "output_type": "stream",
       "stream": "stdout",
       "text": [
        "[###################################-------]  83.5% ... Processing 2945 files\r"
       ]
      },
      {
       "output_type": "stream",
       "stream": "stdout",
       "text": [
        "[###################################-------]  83.5% ... Processing 2945 files\r"
       ]
      },
      {
       "output_type": "stream",
       "stream": "stdout",
       "text": [
        "[###################################-------]  83.5% ... Processing 2945 files\r"
       ]
      },
      {
       "output_type": "stream",
       "stream": "stdout",
       "text": [
        "[###################################-------]  83.6% ... Processing 2945 files\r"
       ]
      },
      {
       "output_type": "stream",
       "stream": "stdout",
       "text": [
        "[###################################-------]  83.6% ... Processing 2945 files\r"
       ]
      },
      {
       "output_type": "stream",
       "stream": "stdout",
       "text": [
        "[###################################-------]  83.6% ... Processing 2945 files\r"
       ]
      },
      {
       "output_type": "stream",
       "stream": "stdout",
       "text": [
        "[###################################-------]  83.7% ... Processing 2945 files\r"
       ]
      },
      {
       "output_type": "stream",
       "stream": "stdout",
       "text": [
        "[###################################-------]  83.7% ... Processing 2945 files\r"
       ]
      },
      {
       "output_type": "stream",
       "stream": "stdout",
       "text": [
        "[###################################-------]  83.7% ... Processing 2945 files\r"
       ]
      },
      {
       "output_type": "stream",
       "stream": "stdout",
       "text": [
        "[###################################-------]  83.8% ... Processing 2945 files\r"
       ]
      },
      {
       "output_type": "stream",
       "stream": "stdout",
       "text": [
        "[###################################-------]  83.8% ... Processing 2945 files\r"
       ]
      },
      {
       "output_type": "stream",
       "stream": "stdout",
       "text": [
        "[###################################-------]  83.8% ... Processing 2945 files\r"
       ]
      },
      {
       "output_type": "stream",
       "stream": "stdout",
       "text": [
        "[###################################-------]  83.9% ... Processing 2945 files\r"
       ]
      },
      {
       "output_type": "stream",
       "stream": "stdout",
       "text": [
        "[###################################-------]  83.9% ... Processing 2945 files\r"
       ]
      },
      {
       "output_type": "stream",
       "stream": "stdout",
       "text": [
        "[###################################-------]  83.9% ... Processing 2945 files\r"
       ]
      },
      {
       "output_type": "stream",
       "stream": "stdout",
       "text": [
        "[###################################-------]  84.0% ... Processing 2945 files\r"
       ]
      },
      {
       "output_type": "stream",
       "stream": "stdout",
       "text": [
        "[###################################-------]  84.0% ... Processing 2945 files\r"
       ]
      },
      {
       "output_type": "stream",
       "stream": "stdout",
       "text": [
        "[###################################-------]  84.0% ... Processing 2945 files\r"
       ]
      },
      {
       "output_type": "stream",
       "stream": "stdout",
       "text": [
        "[###################################-------]  84.1% ... Processing 2945 files\r"
       ]
      },
      {
       "output_type": "stream",
       "stream": "stdout",
       "text": [
        "[###################################-------]  84.1% ... Processing 2945 files\r"
       ]
      },
      {
       "output_type": "stream",
       "stream": "stdout",
       "text": [
        "[###################################-------]  84.1% ... Processing 2945 files\r"
       ]
      },
      {
       "output_type": "stream",
       "stream": "stdout",
       "text": [
        "[###################################-------]  84.2% ... Processing 2945 files\r"
       ]
      },
      {
       "output_type": "stream",
       "stream": "stdout",
       "text": [
        "[###################################-------]  84.2% ... Processing 2945 files\r"
       ]
      },
      {
       "output_type": "stream",
       "stream": "stdout",
       "text": [
        "[###################################-------]  84.2% ... Processing 2945 files\r"
       ]
      },
      {
       "output_type": "stream",
       "stream": "stdout",
       "text": [
        "[###################################-------]  84.3% ... Processing 2945 files\r"
       ]
      },
      {
       "output_type": "stream",
       "stream": "stdout",
       "text": [
        "[###################################-------]  84.3% ... Processing 2945 files\r"
       ]
      },
      {
       "output_type": "stream",
       "stream": "stdout",
       "text": [
        "[###################################-------]  84.3% ... Processing 2945 files\r"
       ]
      },
      {
       "output_type": "stream",
       "stream": "stdout",
       "text": [
        "[###################################-------]  84.4% ... Processing 2945 files\r"
       ]
      },
      {
       "output_type": "stream",
       "stream": "stdout",
       "text": [
        "[###################################-------]  84.4% ... Processing 2945 files\r"
       ]
      },
      {
       "output_type": "stream",
       "stream": "stdout",
       "text": [
        "[###################################-------]  84.4% ... Processing 2945 files\r"
       ]
      },
      {
       "output_type": "stream",
       "stream": "stdout",
       "text": [
        "[###################################-------]  84.5% ... Processing 2945 files\r"
       ]
      },
      {
       "output_type": "stream",
       "stream": "stdout",
       "text": [
        "[###################################-------]  84.5% ... Processing 2945 files\r"
       ]
      },
      {
       "output_type": "stream",
       "stream": "stdout",
       "text": [
        "[####################################------]  84.6% ... Processing 2945 files\r"
       ]
      },
      {
       "output_type": "stream",
       "stream": "stdout",
       "text": [
        "[####################################------]  84.6% ... Processing 2945 files\r"
       ]
      },
      {
       "output_type": "stream",
       "stream": "stdout",
       "text": [
        "[####################################------]  84.6% ... Processing 2945 files\r"
       ]
      },
      {
       "output_type": "stream",
       "stream": "stdout",
       "text": [
        "[####################################------]  84.7% ... Processing 2945 files\r"
       ]
      },
      {
       "output_type": "stream",
       "stream": "stdout",
       "text": [
        "[####################################------]  84.7% ... Processing 2945 files\r"
       ]
      },
      {
       "output_type": "stream",
       "stream": "stdout",
       "text": [
        "[####################################------]  84.7% ... Processing 2945 files\r"
       ]
      },
      {
       "output_type": "stream",
       "stream": "stdout",
       "text": [
        "[####################################------]  84.8% ... Processing 2945 files\r"
       ]
      },
      {
       "output_type": "stream",
       "stream": "stdout",
       "text": [
        "[####################################------]  84.8% ... Processing 2945 files\r"
       ]
      },
      {
       "output_type": "stream",
       "stream": "stdout",
       "text": [
        "[####################################------]  84.8% ... Processing 2945 files\r"
       ]
      },
      {
       "output_type": "stream",
       "stream": "stdout",
       "text": [
        "[####################################------]  84.9% ... Processing 2945 files\r"
       ]
      },
      {
       "output_type": "stream",
       "stream": "stdout",
       "text": [
        "[####################################------]  84.9% ... Processing 2945 files\r"
       ]
      },
      {
       "output_type": "stream",
       "stream": "stdout",
       "text": [
        "[####################################------]  84.9% ... Processing 2945 files\r"
       ]
      },
      {
       "output_type": "stream",
       "stream": "stdout",
       "text": [
        "[####################################------]  85.0% ... Processing 2945 files\r"
       ]
      },
      {
       "output_type": "stream",
       "stream": "stdout",
       "text": [
        "[####################################------]  85.0% ... Processing 2945 files\r"
       ]
      },
      {
       "output_type": "stream",
       "stream": "stdout",
       "text": [
        "[####################################------]  85.0% ... Processing 2945 files\r"
       ]
      },
      {
       "output_type": "stream",
       "stream": "stdout",
       "text": [
        "[####################################------]  85.1% ... Processing 2945 files\r"
       ]
      },
      {
       "output_type": "stream",
       "stream": "stdout",
       "text": [
        "[####################################------]  85.1% ... Processing 2945 files\r"
       ]
      },
      {
       "output_type": "stream",
       "stream": "stdout",
       "text": [
        "[####################################------]  85.1% ... Processing 2945 files\r"
       ]
      },
      {
       "output_type": "stream",
       "stream": "stdout",
       "text": [
        "[####################################------]  85.2% ... Processing 2945 files\r"
       ]
      },
      {
       "output_type": "stream",
       "stream": "stdout",
       "text": [
        "[####################################------]  85.2% ... Processing 2945 files\r"
       ]
      },
      {
       "output_type": "stream",
       "stream": "stdout",
       "text": [
        "[####################################------]  85.2% ... Processing 2945 files\r"
       ]
      },
      {
       "output_type": "stream",
       "stream": "stdout",
       "text": [
        "[####################################------]  85.3% ... Processing 2945 files\r"
       ]
      },
      {
       "output_type": "stream",
       "stream": "stdout",
       "text": [
        "[####################################------]  85.3% ... Processing 2945 files\r"
       ]
      },
      {
       "output_type": "stream",
       "stream": "stdout",
       "text": [
        "[####################################------]  85.3% ... Processing 2945 files\r"
       ]
      },
      {
       "output_type": "stream",
       "stream": "stdout",
       "text": [
        "[####################################------]  85.4% ... Processing 2945 files\r"
       ]
      },
      {
       "output_type": "stream",
       "stream": "stdout",
       "text": [
        "[####################################------]  85.4% ... Processing 2945 files\r"
       ]
      },
      {
       "output_type": "stream",
       "stream": "stdout",
       "text": [
        "[####################################------]  85.4% ... Processing 2945 files\r"
       ]
      },
      {
       "output_type": "stream",
       "stream": "stdout",
       "text": [
        "[####################################------]  85.5% ... Processing 2945 files\r"
       ]
      },
      {
       "output_type": "stream",
       "stream": "stdout",
       "text": [
        "[####################################------]  85.5% ... Processing 2945 files\r"
       ]
      },
      {
       "output_type": "stream",
       "stream": "stdout",
       "text": [
        "[####################################------]  85.5% ... Processing 2945 files\r"
       ]
      },
      {
       "output_type": "stream",
       "stream": "stdout",
       "text": [
        "[####################################------]  85.6% ... Processing 2945 files\r"
       ]
      },
      {
       "output_type": "stream",
       "stream": "stdout",
       "text": [
        "[####################################------]  85.6% ... Processing 2945 files\r"
       ]
      },
      {
       "output_type": "stream",
       "stream": "stdout",
       "text": [
        "[####################################------]  85.6% ... Processing 2945 files\r"
       ]
      },
      {
       "output_type": "stream",
       "stream": "stdout",
       "text": [
        "[####################################------]  85.7% ... Processing 2945 files\r"
       ]
      },
      {
       "output_type": "stream",
       "stream": "stdout",
       "text": [
        "[####################################------]  85.7% ... Processing 2945 files\r"
       ]
      },
      {
       "output_type": "stream",
       "stream": "stdout",
       "text": [
        "[####################################------]  85.7% ... Processing 2945 files\r"
       ]
      },
      {
       "output_type": "stream",
       "stream": "stdout",
       "text": [
        "[####################################------]  85.8% ... Processing 2945 files\r"
       ]
      },
      {
       "output_type": "stream",
       "stream": "stdout",
       "text": [
        "[####################################------]  85.8% ... Processing 2945 files\r"
       ]
      },
      {
       "output_type": "stream",
       "stream": "stdout",
       "text": [
        "[####################################------]  85.8% ... Processing 2945 files\r"
       ]
      },
      {
       "output_type": "stream",
       "stream": "stdout",
       "text": [
        "[####################################------]  85.9% ... Processing 2945 files\r"
       ]
      },
      {
       "output_type": "stream",
       "stream": "stdout",
       "text": [
        "[####################################------]  85.9% ... Processing 2945 files\r"
       ]
      },
      {
       "output_type": "stream",
       "stream": "stdout",
       "text": [
        "[####################################------]  85.9% ... Processing 2945 files\r"
       ]
      },
      {
       "output_type": "stream",
       "stream": "stdout",
       "text": [
        "[####################################------]  86.0% ... Processing 2945 files\r"
       ]
      },
      {
       "output_type": "stream",
       "stream": "stdout",
       "text": [
        "[####################################------]  86.0% ... Processing 2945 files\r"
       ]
      },
      {
       "output_type": "stream",
       "stream": "stdout",
       "text": [
        "[####################################------]  86.0% ... Processing 2945 files\r"
       ]
      },
      {
       "output_type": "stream",
       "stream": "stdout",
       "text": [
        "[####################################------]  86.1% ... Processing 2945 files\r"
       ]
      },
      {
       "output_type": "stream",
       "stream": "stdout",
       "text": [
        "[####################################------]  86.1% ... Processing 2945 files\r"
       ]
      },
      {
       "output_type": "stream",
       "stream": "stdout",
       "text": [
        "[####################################------]  86.1% ... Processing 2945 files\r"
       ]
      },
      {
       "output_type": "stream",
       "stream": "stdout",
       "text": [
        "[####################################------]  86.2% ... Processing 2945 files\r"
       ]
      },
      {
       "output_type": "stream",
       "stream": "stdout",
       "text": [
        "[####################################------]  86.2% ... Processing 2945 files\r"
       ]
      },
      {
       "output_type": "stream",
       "stream": "stdout",
       "text": [
        "[####################################------]  86.2% ... Processing 2945 files\r"
       ]
      },
      {
       "output_type": "stream",
       "stream": "stdout",
       "text": [
        "[####################################------]  86.3% ... Processing 2945 files\r"
       ]
      },
      {
       "output_type": "stream",
       "stream": "stdout",
       "text": [
        "[####################################------]  86.3% ... Processing 2945 files\r"
       ]
      },
      {
       "output_type": "stream",
       "stream": "stdout",
       "text": [
        "[####################################------]  86.3% ... Processing 2945 files\r"
       ]
      },
      {
       "output_type": "stream",
       "stream": "stdout",
       "text": [
        "[####################################------]  86.4% ... Processing 2945 files\r"
       ]
      },
      {
       "output_type": "stream",
       "stream": "stdout",
       "text": [
        "[####################################------]  86.4% ... Processing 2945 files\r"
       ]
      },
      {
       "output_type": "stream",
       "stream": "stdout",
       "text": [
        "[####################################------]  86.5% ... Processing 2945 files\r"
       ]
      },
      {
       "output_type": "stream",
       "stream": "stdout",
       "text": [
        "[####################################------]  86.5% ... Processing 2945 files\r"
       ]
      },
      {
       "output_type": "stream",
       "stream": "stdout",
       "text": [
        "[####################################------]  86.5% ... Processing 2945 files\r"
       ]
      },
      {
       "output_type": "stream",
       "stream": "stdout",
       "text": [
        "[####################################------]  86.6% ... Processing 2945 files\r"
       ]
      },
      {
       "output_type": "stream",
       "stream": "stdout",
       "text": [
        "[####################################------]  86.6% ... Processing 2945 files\r"
       ]
      },
      {
       "output_type": "stream",
       "stream": "stdout",
       "text": [
        "[####################################------]  86.6% ... Processing 2945 files\r"
       ]
      },
      {
       "output_type": "stream",
       "stream": "stdout",
       "text": [
        "[####################################------]  86.7% ... Processing 2945 files\r"
       ]
      },
      {
       "output_type": "stream",
       "stream": "stdout",
       "text": [
        "[####################################------]  86.7% ... Processing 2945 files\r"
       ]
      },
      {
       "output_type": "stream",
       "stream": "stdout",
       "text": [
        "[####################################------]  86.7% ... Processing 2945 files\r"
       ]
      },
      {
       "output_type": "stream",
       "stream": "stdout",
       "text": [
        "[####################################------]  86.8% ... Processing 2945 files\r"
       ]
      },
      {
       "output_type": "stream",
       "stream": "stdout",
       "text": [
        "[####################################------]  86.8% ... Processing 2945 files\r"
       ]
      },
      {
       "output_type": "stream",
       "stream": "stdout",
       "text": [
        "[####################################------]  86.8% ... Processing 2945 files\r"
       ]
      },
      {
       "output_type": "stream",
       "stream": "stdout",
       "text": [
        "[####################################------]  86.9% ... Processing 2945 files\r"
       ]
      },
      {
       "output_type": "stream",
       "stream": "stdout",
       "text": [
        "[####################################------]  86.9% ... Processing 2945 files\r"
       ]
      },
      {
       "output_type": "stream",
       "stream": "stdout",
       "text": [
        "[#####################################-----]  86.9% ... Processing 2945 files\r"
       ]
      },
      {
       "output_type": "stream",
       "stream": "stdout",
       "text": [
        "[#####################################-----]  87.0% ... Processing 2945 files\r"
       ]
      },
      {
       "output_type": "stream",
       "stream": "stdout",
       "text": [
        "[#####################################-----]  87.0% ... Processing 2945 files\r"
       ]
      },
      {
       "output_type": "stream",
       "stream": "stdout",
       "text": [
        "[#####################################-----]  87.0% ... Processing 2945 files\r"
       ]
      },
      {
       "output_type": "stream",
       "stream": "stdout",
       "text": [
        "[#####################################-----]  87.1% ... Processing 2945 files\r"
       ]
      },
      {
       "output_type": "stream",
       "stream": "stdout",
       "text": [
        "[#####################################-----]  87.1% ... Processing 2945 files\r"
       ]
      },
      {
       "output_type": "stream",
       "stream": "stdout",
       "text": [
        "[#####################################-----]  87.1% ... Processing 2945 files\r"
       ]
      },
      {
       "output_type": "stream",
       "stream": "stdout",
       "text": [
        "[#####################################-----]  87.2% ... Processing 2945 files\r"
       ]
      },
      {
       "output_type": "stream",
       "stream": "stdout",
       "text": [
        "[#####################################-----]  87.2% ... Processing 2945 files\r"
       ]
      },
      {
       "output_type": "stream",
       "stream": "stdout",
       "text": [
        "[#####################################-----]  87.2% ... Processing 2945 files\r"
       ]
      },
      {
       "output_type": "stream",
       "stream": "stdout",
       "text": [
        "[#####################################-----]  87.3% ... Processing 2945 files\r"
       ]
      },
      {
       "output_type": "stream",
       "stream": "stdout",
       "text": [
        "[#####################################-----]  87.3% ... Processing 2945 files\r"
       ]
      },
      {
       "output_type": "stream",
       "stream": "stdout",
       "text": [
        "[#####################################-----]  87.3% ... Processing 2945 files\r"
       ]
      },
      {
       "output_type": "stream",
       "stream": "stdout",
       "text": [
        "[#####################################-----]  87.4% ... Processing 2945 files\r"
       ]
      },
      {
       "output_type": "stream",
       "stream": "stdout",
       "text": [
        "[#####################################-----]  87.4% ... Processing 2945 files\r"
       ]
      },
      {
       "output_type": "stream",
       "stream": "stdout",
       "text": [
        "[#####################################-----]  87.4% ... Processing 2945 files\r"
       ]
      },
      {
       "output_type": "stream",
       "stream": "stdout",
       "text": [
        "[#####################################-----]  87.5% ... Processing 2945 files\r"
       ]
      },
      {
       "output_type": "stream",
       "stream": "stdout",
       "text": [
        "[#####################################-----]  87.5% ... Processing 2945 files\r"
       ]
      },
      {
       "output_type": "stream",
       "stream": "stdout",
       "text": [
        "[#####################################-----]  87.5% ... Processing 2945 files\r"
       ]
      },
      {
       "output_type": "stream",
       "stream": "stdout",
       "text": [
        "[#####################################-----]  87.6% ... Processing 2945 files\r"
       ]
      },
      {
       "output_type": "stream",
       "stream": "stdout",
       "text": [
        "[#####################################-----]  87.6% ... Processing 2945 files\r"
       ]
      },
      {
       "output_type": "stream",
       "stream": "stdout",
       "text": [
        "[#####################################-----]  87.6% ... Processing 2945 files\r"
       ]
      },
      {
       "output_type": "stream",
       "stream": "stdout",
       "text": [
        "[#####################################-----]  87.7% ... Processing 2945 files\r"
       ]
      },
      {
       "output_type": "stream",
       "stream": "stdout",
       "text": [
        "[#####################################-----]  87.7% ... Processing 2945 files\r"
       ]
      },
      {
       "output_type": "stream",
       "stream": "stdout",
       "text": [
        "[#####################################-----]  87.7% ... Processing 2945 files\r"
       ]
      },
      {
       "output_type": "stream",
       "stream": "stdout",
       "text": [
        "[#####################################-----]  87.8% ... Processing 2945 files\r"
       ]
      },
      {
       "output_type": "stream",
       "stream": "stdout",
       "text": [
        "[#####################################-----]  87.8% ... Processing 2945 files\r"
       ]
      },
      {
       "output_type": "stream",
       "stream": "stdout",
       "text": [
        "[#####################################-----]  87.8% ... Processing 2945 files\r"
       ]
      },
      {
       "output_type": "stream",
       "stream": "stdout",
       "text": [
        "[#####################################-----]  87.9% ... Processing 2945 files\r"
       ]
      },
      {
       "output_type": "stream",
       "stream": "stdout",
       "text": [
        "[#####################################-----]  87.9% ... Processing 2945 files\r"
       ]
      },
      {
       "output_type": "stream",
       "stream": "stdout",
       "text": [
        "[#####################################-----]  87.9% ... Processing 2945 files\r"
       ]
      },
      {
       "output_type": "stream",
       "stream": "stdout",
       "text": [
        "[#####################################-----]  88.0% ... Processing 2945 files\r"
       ]
      },
      {
       "output_type": "stream",
       "stream": "stdout",
       "text": [
        "[#####################################-----]  88.0% ... Processing 2945 files\r"
       ]
      },
      {
       "output_type": "stream",
       "stream": "stdout",
       "text": [
        "[#####################################-----]  88.0% ... Processing 2945 files\r"
       ]
      },
      {
       "output_type": "stream",
       "stream": "stdout",
       "text": [
        "[#####################################-----]  88.1% ... Processing 2945 files\r"
       ]
      },
      {
       "output_type": "stream",
       "stream": "stdout",
       "text": [
        "[#####################################-----]  88.1% ... Processing 2945 files\r"
       ]
      },
      {
       "output_type": "stream",
       "stream": "stdout",
       "text": [
        "[#####################################-----]  88.1% ... Processing 2945 files\r"
       ]
      },
      {
       "output_type": "stream",
       "stream": "stdout",
       "text": [
        "[#####################################-----]  88.2% ... Processing 2945 files\r"
       ]
      },
      {
       "output_type": "stream",
       "stream": "stdout",
       "text": [
        "[#####################################-----]  88.2% ... Processing 2945 files\r"
       ]
      },
      {
       "output_type": "stream",
       "stream": "stdout",
       "text": [
        "[#####################################-----]  88.3% ... Processing 2945 files\r"
       ]
      },
      {
       "output_type": "stream",
       "stream": "stdout",
       "text": [
        "[#####################################-----]  88.3% ... Processing 2945 files\r"
       ]
      },
      {
       "output_type": "stream",
       "stream": "stdout",
       "text": [
        "[#####################################-----]  88.3% ... Processing 2945 files\r"
       ]
      },
      {
       "output_type": "stream",
       "stream": "stdout",
       "text": [
        "[#####################################-----]  88.4% ... Processing 2945 files\r"
       ]
      },
      {
       "output_type": "stream",
       "stream": "stdout",
       "text": [
        "[#####################################-----]  88.4% ... Processing 2945 files\r"
       ]
      },
      {
       "output_type": "stream",
       "stream": "stdout",
       "text": [
        "[#####################################-----]  88.4% ... Processing 2945 files\r"
       ]
      },
      {
       "output_type": "stream",
       "stream": "stdout",
       "text": [
        "[#####################################-----]  88.5% ... Processing 2945 files\r"
       ]
      },
      {
       "output_type": "stream",
       "stream": "stdout",
       "text": [
        "[#####################################-----]  88.5% ... Processing 2945 files\r"
       ]
      },
      {
       "output_type": "stream",
       "stream": "stdout",
       "text": [
        "[#####################################-----]  88.5% ... Processing 2945 files\r"
       ]
      },
      {
       "output_type": "stream",
       "stream": "stdout",
       "text": [
        "[#####################################-----]  88.6% ... Processing 2945 files\r"
       ]
      },
      {
       "output_type": "stream",
       "stream": "stdout",
       "text": [
        "[#####################################-----]  88.6% ... Processing 2945 files\r"
       ]
      },
      {
       "output_type": "stream",
       "stream": "stdout",
       "text": [
        "[#####################################-----]  88.6% ... Processing 2945 files\r"
       ]
      },
      {
       "output_type": "stream",
       "stream": "stdout",
       "text": [
        "[#####################################-----]  88.7% ... Processing 2945 files\r"
       ]
      },
      {
       "output_type": "stream",
       "stream": "stdout",
       "text": [
        "[#####################################-----]  88.7% ... Processing 2945 files\r"
       ]
      },
      {
       "output_type": "stream",
       "stream": "stdout",
       "text": [
        "[#####################################-----]  88.7% ... Processing 2945 files\r"
       ]
      },
      {
       "output_type": "stream",
       "stream": "stdout",
       "text": [
        "[#####################################-----]  88.8% ... Processing 2945 files\r"
       ]
      },
      {
       "output_type": "stream",
       "stream": "stdout",
       "text": [
        "[#####################################-----]  88.8% ... Processing 2945 files\r"
       ]
      },
      {
       "output_type": "stream",
       "stream": "stdout",
       "text": [
        "[#####################################-----]  88.8% ... Processing 2945 files\r"
       ]
      },
      {
       "output_type": "stream",
       "stream": "stdout",
       "text": [
        "[#####################################-----]  88.9% ... Processing 2945 files\r"
       ]
      },
      {
       "output_type": "stream",
       "stream": "stdout",
       "text": [
        "[#####################################-----]  88.9% ... Processing 2945 files\r"
       ]
      },
      {
       "output_type": "stream",
       "stream": "stdout",
       "text": [
        "[#####################################-----]  88.9% ... Processing 2945 files\r"
       ]
      },
      {
       "output_type": "stream",
       "stream": "stdout",
       "text": [
        "[#####################################-----]  89.0% ... Processing 2945 files\r"
       ]
      },
      {
       "output_type": "stream",
       "stream": "stdout",
       "text": [
        "[#####################################-----]  89.0% ... Processing 2945 files\r"
       ]
      },
      {
       "output_type": "stream",
       "stream": "stdout",
       "text": [
        "[#####################################-----]  89.0% ... Processing 2945 files\r"
       ]
      },
      {
       "output_type": "stream",
       "stream": "stdout",
       "text": [
        "[#####################################-----]  89.1% ... Processing 2945 files\r"
       ]
      },
      {
       "output_type": "stream",
       "stream": "stdout",
       "text": [
        "[#####################################-----]  89.1% ... Processing 2945 files\r"
       ]
      },
      {
       "output_type": "stream",
       "stream": "stdout",
       "text": [
        "[#####################################-----]  89.1% ... Processing 2945 files\r"
       ]
      },
      {
       "output_type": "stream",
       "stream": "stdout",
       "text": [
        "[#####################################-----]  89.2% ... Processing 2945 files\r"
       ]
      },
      {
       "output_type": "stream",
       "stream": "stdout",
       "text": [
        "[#####################################-----]  89.2% ... Processing 2945 files\r"
       ]
      },
      {
       "output_type": "stream",
       "stream": "stdout",
       "text": [
        "[#####################################-----]  89.2% ... Processing 2945 files\r"
       ]
      },
      {
       "output_type": "stream",
       "stream": "stdout",
       "text": [
        "[#####################################-----]  89.3% ... Processing 2945 files\r"
       ]
      },
      {
       "output_type": "stream",
       "stream": "stdout",
       "text": [
        "[######################################----]  89.3% ... Processing 2945 files\r"
       ]
      },
      {
       "output_type": "stream",
       "stream": "stdout",
       "text": [
        "[######################################----]  89.3% ... Processing 2945 files\r"
       ]
      },
      {
       "output_type": "stream",
       "stream": "stdout",
       "text": [
        "[######################################----]  89.4% ... Processing 2945 files\r"
       ]
      },
      {
       "output_type": "stream",
       "stream": "stdout",
       "text": [
        "[######################################----]  89.4% ... Processing 2945 files\r"
       ]
      },
      {
       "output_type": "stream",
       "stream": "stdout",
       "text": [
        "[######################################----]  89.4% ... Processing 2945 files\r"
       ]
      },
      {
       "output_type": "stream",
       "stream": "stdout",
       "text": [
        "[######################################----]  89.5% ... Processing 2945 files\r"
       ]
      },
      {
       "output_type": "stream",
       "stream": "stdout",
       "text": [
        "[######################################----]  89.5% ... Processing 2945 files\r"
       ]
      },
      {
       "output_type": "stream",
       "stream": "stdout",
       "text": [
        "[######################################----]  89.5% ... Processing 2945 files\r"
       ]
      },
      {
       "output_type": "stream",
       "stream": "stdout",
       "text": [
        "[######################################----]  89.6% ... Processing 2945 files\r"
       ]
      },
      {
       "output_type": "stream",
       "stream": "stdout",
       "text": [
        "[######################################----]  89.6% ... Processing 2945 files\r"
       ]
      },
      {
       "output_type": "stream",
       "stream": "stdout",
       "text": [
        "[######################################----]  89.6% ... Processing 2945 files\r"
       ]
      },
      {
       "output_type": "stream",
       "stream": "stdout",
       "text": [
        "[######################################----]  89.7% ... Processing 2945 files\r"
       ]
      },
      {
       "output_type": "stream",
       "stream": "stdout",
       "text": [
        "[######################################----]  89.7% ... Processing 2945 files\r"
       ]
      },
      {
       "output_type": "stream",
       "stream": "stdout",
       "text": [
        "[######################################----]  89.7% ... Processing 2945 files\r"
       ]
      },
      {
       "output_type": "stream",
       "stream": "stdout",
       "text": [
        "[######################################----]  89.8% ... Processing 2945 files\r"
       ]
      },
      {
       "output_type": "stream",
       "stream": "stdout",
       "text": [
        "[######################################----]  89.8% ... Processing 2945 files\r"
       ]
      },
      {
       "output_type": "stream",
       "stream": "stdout",
       "text": [
        "[######################################----]  89.8% ... Processing 2945 files\r"
       ]
      },
      {
       "output_type": "stream",
       "stream": "stdout",
       "text": [
        "[######################################----]  89.9% ... Processing 2945 files\r"
       ]
      },
      {
       "output_type": "stream",
       "stream": "stdout",
       "text": [
        "[######################################----]  89.9% ... Processing 2945 files\r"
       ]
      },
      {
       "output_type": "stream",
       "stream": "stdout",
       "text": [
        "[######################################----]  89.9% ... Processing 2945 files\r"
       ]
      },
      {
       "output_type": "stream",
       "stream": "stdout",
       "text": [
        "[######################################----]  90.0% ... Processing 2945 files\r"
       ]
      },
      {
       "output_type": "stream",
       "stream": "stdout",
       "text": [
        "[######################################----]  90.0% ... Processing 2945 files\r"
       ]
      },
      {
       "output_type": "stream",
       "stream": "stdout",
       "text": [
        "[######################################----]  90.1% ... Processing 2945 files\r"
       ]
      },
      {
       "output_type": "stream",
       "stream": "stdout",
       "text": [
        "[######################################----]  90.1% ... Processing 2945 files\r"
       ]
      },
      {
       "output_type": "stream",
       "stream": "stdout",
       "text": [
        "[######################################----]  90.1% ... Processing 2945 files\r"
       ]
      },
      {
       "output_type": "stream",
       "stream": "stdout",
       "text": [
        "[######################################----]  90.2% ... Processing 2945 files\r"
       ]
      },
      {
       "output_type": "stream",
       "stream": "stdout",
       "text": [
        "[######################################----]  90.2% ... Processing 2945 files\r"
       ]
      },
      {
       "output_type": "stream",
       "stream": "stdout",
       "text": [
        "[######################################----]  90.2% ... Processing 2945 files\r"
       ]
      },
      {
       "output_type": "stream",
       "stream": "stdout",
       "text": [
        "[######################################----]  90.3% ... Processing 2945 files\r"
       ]
      },
      {
       "output_type": "stream",
       "stream": "stdout",
       "text": [
        "[######################################----]  90.3% ... Processing 2945 files\r"
       ]
      },
      {
       "output_type": "stream",
       "stream": "stdout",
       "text": [
        "[######################################----]  90.3% ... Processing 2945 files\r"
       ]
      },
      {
       "output_type": "stream",
       "stream": "stdout",
       "text": [
        "[######################################----]  90.4% ... Processing 2945 files\r"
       ]
      },
      {
       "output_type": "stream",
       "stream": "stdout",
       "text": [
        "[######################################----]  90.4% ... Processing 2945 files\r"
       ]
      },
      {
       "output_type": "stream",
       "stream": "stdout",
       "text": [
        "[######################################----]  90.4% ... Processing 2945 files\r"
       ]
      },
      {
       "output_type": "stream",
       "stream": "stdout",
       "text": [
        "[######################################----]  90.5% ... Processing 2945 files\r"
       ]
      },
      {
       "output_type": "stream",
       "stream": "stdout",
       "text": [
        "[######################################----]  90.5% ... Processing 2945 files\r"
       ]
      },
      {
       "output_type": "stream",
       "stream": "stdout",
       "text": [
        "[######################################----]  90.5% ... Processing 2945 files\r"
       ]
      },
      {
       "output_type": "stream",
       "stream": "stdout",
       "text": [
        "[######################################----]  90.6% ... Processing 2945 files\r"
       ]
      },
      {
       "output_type": "stream",
       "stream": "stdout",
       "text": [
        "[######################################----]  90.6% ... Processing 2945 files\r"
       ]
      },
      {
       "output_type": "stream",
       "stream": "stdout",
       "text": [
        "[######################################----]  90.6% ... Processing 2945 files\r"
       ]
      },
      {
       "output_type": "stream",
       "stream": "stdout",
       "text": [
        "[######################################----]  90.7% ... Processing 2945 files\r"
       ]
      },
      {
       "output_type": "stream",
       "stream": "stdout",
       "text": [
        "[######################################----]  90.7% ... Processing 2945 files\r"
       ]
      },
      {
       "output_type": "stream",
       "stream": "stdout",
       "text": [
        "[######################################----]  90.7% ... Processing 2945 files\r"
       ]
      },
      {
       "output_type": "stream",
       "stream": "stdout",
       "text": [
        "[######################################----]  90.8% ... Processing 2945 files\r"
       ]
      },
      {
       "output_type": "stream",
       "stream": "stdout",
       "text": [
        "[######################################----]  90.8% ... Processing 2945 files\r"
       ]
      },
      {
       "output_type": "stream",
       "stream": "stdout",
       "text": [
        "[######################################----]  90.8% ... Processing 2945 files\r"
       ]
      },
      {
       "output_type": "stream",
       "stream": "stdout",
       "text": [
        "[######################################----]  90.9% ... Processing 2945 files\r"
       ]
      },
      {
       "output_type": "stream",
       "stream": "stdout",
       "text": [
        "[######################################----]  90.9% ... Processing 2945 files\r"
       ]
      },
      {
       "output_type": "stream",
       "stream": "stdout",
       "text": [
        "[######################################----]  90.9% ... Processing 2945 files\r"
       ]
      },
      {
       "output_type": "stream",
       "stream": "stdout",
       "text": [
        "[######################################----]  91.0% ... Processing 2945 files\r"
       ]
      },
      {
       "output_type": "stream",
       "stream": "stdout",
       "text": [
        "[######################################----]  91.0% ... Processing 2945 files\r"
       ]
      },
      {
       "output_type": "stream",
       "stream": "stdout",
       "text": [
        "[######################################----]  91.0% ... Processing 2945 files\r"
       ]
      },
      {
       "output_type": "stream",
       "stream": "stdout",
       "text": [
        "[######################################----]  91.1% ... Processing 2945 files\r"
       ]
      },
      {
       "output_type": "stream",
       "stream": "stdout",
       "text": [
        "[######################################----]  91.1% ... Processing 2945 files\r"
       ]
      },
      {
       "output_type": "stream",
       "stream": "stdout",
       "text": [
        "[######################################----]  91.1% ... Processing 2945 files\r"
       ]
      },
      {
       "output_type": "stream",
       "stream": "stdout",
       "text": [
        "[######################################----]  91.2% ... Processing 2945 files\r"
       ]
      },
      {
       "output_type": "stream",
       "stream": "stdout",
       "text": [
        "[######################################----]  91.2% ... Processing 2945 files\r"
       ]
      },
      {
       "output_type": "stream",
       "stream": "stdout",
       "text": [
        "[######################################----]  91.2% ... Processing 2945 files\r"
       ]
      },
      {
       "output_type": "stream",
       "stream": "stdout",
       "text": [
        "[######################################----]  91.3% ... Processing 2945 files\r"
       ]
      },
      {
       "output_type": "stream",
       "stream": "stdout",
       "text": [
        "[######################################----]  91.3% ... Processing 2945 files\r"
       ]
      },
      {
       "output_type": "stream",
       "stream": "stdout",
       "text": [
        "[######################################----]  91.3% ... Processing 2945 files\r"
       ]
      },
      {
       "output_type": "stream",
       "stream": "stdout",
       "text": [
        "[######################################----]  91.4% ... Processing 2945 files\r"
       ]
      },
      {
       "output_type": "stream",
       "stream": "stdout",
       "text": [
        "[######################################----]  91.4% ... Processing 2945 files\r"
       ]
      },
      {
       "output_type": "stream",
       "stream": "stdout",
       "text": [
        "[######################################----]  91.4% ... Processing 2945 files\r"
       ]
      },
      {
       "output_type": "stream",
       "stream": "stdout",
       "text": [
        "[######################################----]  91.5% ... Processing 2945 files\r"
       ]
      },
      {
       "output_type": "stream",
       "stream": "stdout",
       "text": [
        "[######################################----]  91.5% ... Processing 2945 files\r"
       ]
      },
      {
       "output_type": "stream",
       "stream": "stdout",
       "text": [
        "[######################################----]  91.5% ... Processing 2945 files\r"
       ]
      },
      {
       "output_type": "stream",
       "stream": "stdout",
       "text": [
        "[######################################----]  91.6% ... Processing 2945 files\r"
       ]
      },
      {
       "output_type": "stream",
       "stream": "stdout",
       "text": [
        "[######################################----]  91.6% ... Processing 2945 files\r"
       ]
      },
      {
       "output_type": "stream",
       "stream": "stdout",
       "text": [
        "[######################################----]  91.6% ... Processing 2945 files\r"
       ]
      },
      {
       "output_type": "stream",
       "stream": "stdout",
       "text": [
        "[#######################################---]  91.7% ... Processing 2945 files\r"
       ]
      },
      {
       "output_type": "stream",
       "stream": "stdout",
       "text": [
        "[#######################################---]  91.7% ... Processing 2945 files\r"
       ]
      },
      {
       "output_type": "stream",
       "stream": "stdout",
       "text": [
        "[#######################################---]  91.7% ... Processing 2945 files\r"
       ]
      },
      {
       "output_type": "stream",
       "stream": "stdout",
       "text": [
        "[#######################################---]  91.8% ... Processing 2945 files\r"
       ]
      },
      {
       "output_type": "stream",
       "stream": "stdout",
       "text": [
        "[#######################################---]  91.8% ... Processing 2945 files\r"
       ]
      },
      {
       "output_type": "stream",
       "stream": "stdout",
       "text": [
        "[#######################################---]  91.9% ... Processing 2945 files\r"
       ]
      },
      {
       "output_type": "stream",
       "stream": "stdout",
       "text": [
        "[#######################################---]  91.9% ... Processing 2945 files\r"
       ]
      },
      {
       "output_type": "stream",
       "stream": "stdout",
       "text": [
        "[#######################################---]  91.9% ... Processing 2945 files\r"
       ]
      },
      {
       "output_type": "stream",
       "stream": "stdout",
       "text": [
        "[#######################################---]  92.0% ... Processing 2945 files\r"
       ]
      },
      {
       "output_type": "stream",
       "stream": "stdout",
       "text": [
        "[#######################################---]  92.0% ... Processing 2945 files\r"
       ]
      },
      {
       "output_type": "stream",
       "stream": "stdout",
       "text": [
        "[#######################################---]  92.0% ... Processing 2945 files\r"
       ]
      },
      {
       "output_type": "stream",
       "stream": "stdout",
       "text": [
        "[#######################################---]  92.1% ... Processing 2945 files\r"
       ]
      },
      {
       "output_type": "stream",
       "stream": "stdout",
       "text": [
        "[#######################################---]  92.1% ... Processing 2945 files\r"
       ]
      },
      {
       "output_type": "stream",
       "stream": "stdout",
       "text": [
        "[#######################################---]  92.1% ... Processing 2945 files\r"
       ]
      },
      {
       "output_type": "stream",
       "stream": "stdout",
       "text": [
        "[#######################################---]  92.2% ... Processing 2945 files\r"
       ]
      },
      {
       "output_type": "stream",
       "stream": "stdout",
       "text": [
        "[#######################################---]  92.2% ... Processing 2945 files\r"
       ]
      },
      {
       "output_type": "stream",
       "stream": "stdout",
       "text": [
        "[#######################################---]  92.2% ... Processing 2945 files\r"
       ]
      },
      {
       "output_type": "stream",
       "stream": "stdout",
       "text": [
        "[#######################################---]  92.3% ... Processing 2945 files\r"
       ]
      },
      {
       "output_type": "stream",
       "stream": "stdout",
       "text": [
        "[#######################################---]  92.3% ... Processing 2945 files\r"
       ]
      },
      {
       "output_type": "stream",
       "stream": "stdout",
       "text": [
        "[#######################################---]  92.3% ... Processing 2945 files\r"
       ]
      },
      {
       "output_type": "stream",
       "stream": "stdout",
       "text": [
        "[#######################################---]  92.4% ... Processing 2945 files\r"
       ]
      },
      {
       "output_type": "stream",
       "stream": "stdout",
       "text": [
        "[#######################################---]  92.4% ... Processing 2945 files\r"
       ]
      },
      {
       "output_type": "stream",
       "stream": "stdout",
       "text": [
        "[#######################################---]  92.4% ... Processing 2945 files\r"
       ]
      },
      {
       "output_type": "stream",
       "stream": "stdout",
       "text": [
        "[#######################################---]  92.5% ... Processing 2945 files\r"
       ]
      },
      {
       "output_type": "stream",
       "stream": "stdout",
       "text": [
        "[#######################################---]  92.5% ... Processing 2945 files\r"
       ]
      },
      {
       "output_type": "stream",
       "stream": "stdout",
       "text": [
        "[#######################################---]  92.5% ... Processing 2945 files\r"
       ]
      },
      {
       "output_type": "stream",
       "stream": "stdout",
       "text": [
        "[#######################################---]  92.6% ... Processing 2945 files\r"
       ]
      },
      {
       "output_type": "stream",
       "stream": "stdout",
       "text": [
        "[#######################################---]  92.6% ... Processing 2945 files\r"
       ]
      },
      {
       "output_type": "stream",
       "stream": "stdout",
       "text": [
        "[#######################################---]  92.6% ... Processing 2945 files\r"
       ]
      },
      {
       "output_type": "stream",
       "stream": "stdout",
       "text": [
        "[#######################################---]  92.7% ... Processing 2945 files\r"
       ]
      },
      {
       "output_type": "stream",
       "stream": "stdout",
       "text": [
        "[#######################################---]  92.7% ... Processing 2945 files\r"
       ]
      },
      {
       "output_type": "stream",
       "stream": "stdout",
       "text": [
        "[#######################################---]  92.7% ... Processing 2945 files\r"
       ]
      },
      {
       "output_type": "stream",
       "stream": "stdout",
       "text": [
        "[#######################################---]  92.8% ... Processing 2945 files\r"
       ]
      },
      {
       "output_type": "stream",
       "stream": "stdout",
       "text": [
        "[#######################################---]  92.8% ... Processing 2945 files\r"
       ]
      },
      {
       "output_type": "stream",
       "stream": "stdout",
       "text": [
        "[#######################################---]  92.8% ... Processing 2945 files\r"
       ]
      },
      {
       "output_type": "stream",
       "stream": "stdout",
       "text": [
        "[#######################################---]  92.9% ... Processing 2945 files\r"
       ]
      },
      {
       "output_type": "stream",
       "stream": "stdout",
       "text": [
        "[#######################################---]  92.9% ... Processing 2945 files\r"
       ]
      },
      {
       "output_type": "stream",
       "stream": "stdout",
       "text": [
        "[#######################################---]  92.9% ... Processing 2945 files\r"
       ]
      },
      {
       "output_type": "stream",
       "stream": "stdout",
       "text": [
        "[#######################################---]  93.0% ... Processing 2945 files\r"
       ]
      },
      {
       "output_type": "stream",
       "stream": "stdout",
       "text": [
        "[#######################################---]  93.0% ... Processing 2945 files\r"
       ]
      },
      {
       "output_type": "stream",
       "stream": "stdout",
       "text": [
        "[#######################################---]  93.0% ... Processing 2945 files\r"
       ]
      },
      {
       "output_type": "stream",
       "stream": "stdout",
       "text": [
        "[#######################################---]  93.1% ... Processing 2945 files\r"
       ]
      },
      {
       "output_type": "stream",
       "stream": "stdout",
       "text": [
        "[#######################################---]  93.1% ... Processing 2945 files\r"
       ]
      },
      {
       "output_type": "stream",
       "stream": "stdout",
       "text": [
        "[#######################################---]  93.1% ... Processing 2945 files\r"
       ]
      },
      {
       "output_type": "stream",
       "stream": "stdout",
       "text": [
        "[#######################################---]  93.2% ... Processing 2945 files\r"
       ]
      },
      {
       "output_type": "stream",
       "stream": "stdout",
       "text": [
        "[#######################################---]  93.2% ... Processing 2945 files\r"
       ]
      },
      {
       "output_type": "stream",
       "stream": "stdout",
       "text": [
        "[#######################################---]  93.2% ... Processing 2945 files\r"
       ]
      },
      {
       "output_type": "stream",
       "stream": "stdout",
       "text": [
        "[#######################################---]  93.3% ... Processing 2945 files\r"
       ]
      },
      {
       "output_type": "stream",
       "stream": "stdout",
       "text": [
        "[#######################################---]  93.3% ... Processing 2945 files\r"
       ]
      },
      {
       "output_type": "stream",
       "stream": "stdout",
       "text": [
        "[#######################################---]  93.3% ... Processing 2945 files\r"
       ]
      },
      {
       "output_type": "stream",
       "stream": "stdout",
       "text": [
        "[#######################################---]  93.4% ... Processing 2945 files\r"
       ]
      },
      {
       "output_type": "stream",
       "stream": "stdout",
       "text": [
        "[#######################################---]  93.4% ... Processing 2945 files\r"
       ]
      },
      {
       "output_type": "stream",
       "stream": "stdout",
       "text": [
        "[#######################################---]  93.4% ... Processing 2945 files\r"
       ]
      },
      {
       "output_type": "stream",
       "stream": "stdout",
       "text": [
        "[#######################################---]  93.5% ... Processing 2945 files\r"
       ]
      },
      {
       "output_type": "stream",
       "stream": "stdout",
       "text": [
        "[#######################################---]  93.5% ... Processing 2945 files\r"
       ]
      },
      {
       "output_type": "stream",
       "stream": "stdout",
       "text": [
        "[#######################################---]  93.5% ... Processing 2945 files\r"
       ]
      },
      {
       "output_type": "stream",
       "stream": "stdout",
       "text": [
        "[#######################################---]  93.6% ... Processing 2945 files\r"
       ]
      },
      {
       "output_type": "stream",
       "stream": "stdout",
       "text": [
        "[#######################################---]  93.6% ... Processing 2945 files\r"
       ]
      },
      {
       "output_type": "stream",
       "stream": "stdout",
       "text": [
        "[#######################################---]  93.7% ... Processing 2945 files\r"
       ]
      },
      {
       "output_type": "stream",
       "stream": "stdout",
       "text": [
        "[#######################################---]  93.7% ... Processing 2945 files\r"
       ]
      },
      {
       "output_type": "stream",
       "stream": "stdout",
       "text": [
        "[#######################################---]  93.7% ... Processing 2945 files\r"
       ]
      },
      {
       "output_type": "stream",
       "stream": "stdout",
       "text": [
        "[#######################################---]  93.8% ... Processing 2945 files\r"
       ]
      },
      {
       "output_type": "stream",
       "stream": "stdout",
       "text": [
        "[#######################################---]  93.8% ... Processing 2945 files\r"
       ]
      },
      {
       "output_type": "stream",
       "stream": "stdout",
       "text": [
        "[#######################################---]  93.8% ... Processing 2945 files\r"
       ]
      },
      {
       "output_type": "stream",
       "stream": "stdout",
       "text": [
        "[#######################################---]  93.9% ... Processing 2945 files\r"
       ]
      },
      {
       "output_type": "stream",
       "stream": "stdout",
       "text": [
        "[#######################################---]  93.9% ... Processing 2945 files\r"
       ]
      },
      {
       "output_type": "stream",
       "stream": "stdout",
       "text": [
        "[#######################################---]  93.9% ... Processing 2945 files\r"
       ]
      },
      {
       "output_type": "stream",
       "stream": "stdout",
       "text": [
        "[#######################################---]  94.0% ... Processing 2945 files\r"
       ]
      },
      {
       "output_type": "stream",
       "stream": "stdout",
       "text": [
        "[#######################################---]  94.0% ... Processing 2945 files\r"
       ]
      },
      {
       "output_type": "stream",
       "stream": "stdout",
       "text": [
        "[#######################################---]  94.0% ... Processing 2945 files\r"
       ]
      },
      {
       "output_type": "stream",
       "stream": "stdout",
       "text": [
        "[########################################--]  94.1% ... Processing 2945 files\r"
       ]
      },
      {
       "output_type": "stream",
       "stream": "stdout",
       "text": [
        "[########################################--]  94.1% ... Processing 2945 files\r"
       ]
      },
      {
       "output_type": "stream",
       "stream": "stdout",
       "text": [
        "[########################################--]  94.1% ... Processing 2945 files\r"
       ]
      },
      {
       "output_type": "stream",
       "stream": "stdout",
       "text": [
        "[########################################--]  94.2% ... Processing 2945 files\r"
       ]
      },
      {
       "output_type": "stream",
       "stream": "stdout",
       "text": [
        "[########################################--]  94.2% ... Processing 2945 files\r"
       ]
      },
      {
       "output_type": "stream",
       "stream": "stdout",
       "text": [
        "[########################################--]  94.2% ... Processing 2945 files\r"
       ]
      },
      {
       "output_type": "stream",
       "stream": "stdout",
       "text": [
        "[########################################--]  94.3% ... Processing 2945 files\r"
       ]
      },
      {
       "output_type": "stream",
       "stream": "stdout",
       "text": [
        "[########################################--]  94.3% ... Processing 2945 files\r"
       ]
      },
      {
       "output_type": "stream",
       "stream": "stdout",
       "text": [
        "[########################################--]  94.3% ... Processing 2945 files\r"
       ]
      },
      {
       "output_type": "stream",
       "stream": "stdout",
       "text": [
        "[########################################--]  94.4% ... Processing 2945 files\r"
       ]
      },
      {
       "output_type": "stream",
       "stream": "stdout",
       "text": [
        "[########################################--]  94.4% ... Processing 2945 files\r"
       ]
      },
      {
       "output_type": "stream",
       "stream": "stdout",
       "text": [
        "[########################################--]  94.4% ... Processing 2945 files\r"
       ]
      },
      {
       "output_type": "stream",
       "stream": "stdout",
       "text": [
        "[########################################--]  94.5% ... Processing 2945 files\r"
       ]
      },
      {
       "output_type": "stream",
       "stream": "stdout",
       "text": [
        "[########################################--]  94.5% ... Processing 2945 files\r"
       ]
      },
      {
       "output_type": "stream",
       "stream": "stdout",
       "text": [
        "[########################################--]  94.5% ... Processing 2945 files\r"
       ]
      },
      {
       "output_type": "stream",
       "stream": "stdout",
       "text": [
        "[########################################--]  94.6% ... Processing 2945 files\r"
       ]
      },
      {
       "output_type": "stream",
       "stream": "stdout",
       "text": [
        "[########################################--]  94.6% ... Processing 2945 files\r"
       ]
      },
      {
       "output_type": "stream",
       "stream": "stdout",
       "text": [
        "[########################################--]  94.6% ... Processing 2945 files\r"
       ]
      },
      {
       "output_type": "stream",
       "stream": "stdout",
       "text": [
        "[########################################--]  94.7% ... Processing 2945 files\r"
       ]
      },
      {
       "output_type": "stream",
       "stream": "stdout",
       "text": [
        "[########################################--]  94.7% ... Processing 2945 files\r"
       ]
      },
      {
       "output_type": "stream",
       "stream": "stdout",
       "text": [
        "[########################################--]  94.7% ... Processing 2945 files\r"
       ]
      },
      {
       "output_type": "stream",
       "stream": "stdout",
       "text": [
        "[########################################--]  94.8% ... Processing 2945 files\r"
       ]
      },
      {
       "output_type": "stream",
       "stream": "stdout",
       "text": [
        "[########################################--]  94.8% ... Processing 2945 files\r"
       ]
      },
      {
       "output_type": "stream",
       "stream": "stdout",
       "text": [
        "[########################################--]  94.8% ... Processing 2945 files\r"
       ]
      },
      {
       "output_type": "stream",
       "stream": "stdout",
       "text": [
        "[########################################--]  94.9% ... Processing 2945 files\r"
       ]
      },
      {
       "output_type": "stream",
       "stream": "stdout",
       "text": [
        "[########################################--]  94.9% ... Processing 2945 files\r"
       ]
      },
      {
       "output_type": "stream",
       "stream": "stdout",
       "text": [
        "[########################################--]  94.9% ... Processing 2945 files\r"
       ]
      },
      {
       "output_type": "stream",
       "stream": "stdout",
       "text": [
        "[########################################--]  95.0% ... Processing 2945 files\r"
       ]
      },
      {
       "output_type": "stream",
       "stream": "stdout",
       "text": [
        "[########################################--]  95.0% ... Processing 2945 files\r"
       ]
      },
      {
       "output_type": "stream",
       "stream": "stdout",
       "text": [
        "[########################################--]  95.0% ... Processing 2945 files\r"
       ]
      },
      {
       "output_type": "stream",
       "stream": "stdout",
       "text": [
        "[########################################--]  95.1% ... Processing 2945 files\r"
       ]
      },
      {
       "output_type": "stream",
       "stream": "stdout",
       "text": [
        "[########################################--]  95.1% ... Processing 2945 files\r"
       ]
      },
      {
       "output_type": "stream",
       "stream": "stdout",
       "text": [
        "[########################################--]  95.1% ... Processing 2945 files\r"
       ]
      },
      {
       "output_type": "stream",
       "stream": "stdout",
       "text": [
        "[########################################--]  95.2% ... Processing 2945 files\r"
       ]
      },
      {
       "output_type": "stream",
       "stream": "stdout",
       "text": [
        "[########################################--]  95.2% ... Processing 2945 files\r"
       ]
      },
      {
       "output_type": "stream",
       "stream": "stdout",
       "text": [
        "[########################################--]  95.2% ... Processing 2945 files\r"
       ]
      },
      {
       "output_type": "stream",
       "stream": "stdout",
       "text": [
        "[########################################--]  95.3% ... Processing 2945 files\r"
       ]
      },
      {
       "output_type": "stream",
       "stream": "stdout",
       "text": [
        "[########################################--]  95.3% ... Processing 2945 files\r"
       ]
      },
      {
       "output_type": "stream",
       "stream": "stdout",
       "text": [
        "[########################################--]  95.3% ... Processing 2945 files\r"
       ]
      },
      {
       "output_type": "stream",
       "stream": "stdout",
       "text": [
        "[########################################--]  95.4% ... Processing 2945 files\r"
       ]
      },
      {
       "output_type": "stream",
       "stream": "stdout",
       "text": [
        "[########################################--]  95.4% ... Processing 2945 files\r"
       ]
      },
      {
       "output_type": "stream",
       "stream": "stdout",
       "text": [
        "[########################################--]  95.4% ... Processing 2945 files\r"
       ]
      },
      {
       "output_type": "stream",
       "stream": "stdout",
       "text": [
        "[########################################--]  95.5% ... Processing 2945 files\r"
       ]
      },
      {
       "output_type": "stream",
       "stream": "stdout",
       "text": [
        "[########################################--]  95.5% ... Processing 2945 files\r"
       ]
      },
      {
       "output_type": "stream",
       "stream": "stdout",
       "text": [
        "[########################################--]  95.6% ... Processing 2945 files\r"
       ]
      },
      {
       "output_type": "stream",
       "stream": "stdout",
       "text": [
        "[########################################--]  95.6% ... Processing 2945 files\r"
       ]
      },
      {
       "output_type": "stream",
       "stream": "stdout",
       "text": [
        "[########################################--]  95.6% ... Processing 2945 files\r"
       ]
      },
      {
       "output_type": "stream",
       "stream": "stdout",
       "text": [
        "[########################################--]  95.7% ... Processing 2945 files\r"
       ]
      },
      {
       "output_type": "stream",
       "stream": "stdout",
       "text": [
        "[########################################--]  95.7% ... Processing 2945 files\r"
       ]
      },
      {
       "output_type": "stream",
       "stream": "stdout",
       "text": [
        "[########################################--]  95.7% ... Processing 2945 files\r"
       ]
      },
      {
       "output_type": "stream",
       "stream": "stdout",
       "text": [
        "[########################################--]  95.8% ... Processing 2945 files\r"
       ]
      },
      {
       "output_type": "stream",
       "stream": "stdout",
       "text": [
        "[########################################--]  95.8% ... Processing 2945 files\r"
       ]
      },
      {
       "output_type": "stream",
       "stream": "stdout",
       "text": [
        "[########################################--]  95.8% ... Processing 2945 files\r"
       ]
      },
      {
       "output_type": "stream",
       "stream": "stdout",
       "text": [
        "[########################################--]  95.9% ... Processing 2945 files\r"
       ]
      },
      {
       "output_type": "stream",
       "stream": "stdout",
       "text": [
        "[########################################--]  95.9% ... Processing 2945 files\r"
       ]
      },
      {
       "output_type": "stream",
       "stream": "stdout",
       "text": [
        "[########################################--]  95.9% ... Processing 2945 files\r"
       ]
      },
      {
       "output_type": "stream",
       "stream": "stdout",
       "text": [
        "[########################################--]  96.0% ... Processing 2945 files\r"
       ]
      },
      {
       "output_type": "stream",
       "stream": "stdout",
       "text": [
        "[########################################--]  96.0% ... Processing 2945 files\r"
       ]
      },
      {
       "output_type": "stream",
       "stream": "stdout",
       "text": [
        "[########################################--]  96.0% ... Processing 2945 files\r"
       ]
      },
      {
       "output_type": "stream",
       "stream": "stdout",
       "text": [
        "[########################################--]  96.1% ... Processing 2945 files\r"
       ]
      },
      {
       "output_type": "stream",
       "stream": "stdout",
       "text": [
        "[########################################--]  96.1% ... Processing 2945 files\r"
       ]
      },
      {
       "output_type": "stream",
       "stream": "stdout",
       "text": [
        "[########################################--]  96.1% ... Processing 2945 files\r"
       ]
      },
      {
       "output_type": "stream",
       "stream": "stdout",
       "text": [
        "[########################################--]  96.2% ... Processing 2945 files\r"
       ]
      },
      {
       "output_type": "stream",
       "stream": "stdout",
       "text": [
        "[########################################--]  96.2% ... Processing 2945 files\r"
       ]
      },
      {
       "output_type": "stream",
       "stream": "stdout",
       "text": [
        "[########################################--]  96.2% ... Processing 2945 files\r"
       ]
      },
      {
       "output_type": "stream",
       "stream": "stdout",
       "text": [
        "[########################################--]  96.3% ... Processing 2945 files\r"
       ]
      },
      {
       "output_type": "stream",
       "stream": "stdout",
       "text": [
        "[########################################--]  96.3% ... Processing 2945 files\r"
       ]
      },
      {
       "output_type": "stream",
       "stream": "stdout",
       "text": [
        "[########################################--]  96.3% ... Processing 2945 files\r"
       ]
      },
      {
       "output_type": "stream",
       "stream": "stdout",
       "text": [
        "[########################################--]  96.4% ... Processing 2945 files\r"
       ]
      },
      {
       "output_type": "stream",
       "stream": "stdout",
       "text": [
        "[########################################--]  96.4% ... Processing 2945 files\r"
       ]
      },
      {
       "output_type": "stream",
       "stream": "stdout",
       "text": [
        "[#########################################-]  96.4% ... Processing 2945 files\r"
       ]
      },
      {
       "output_type": "stream",
       "stream": "stdout",
       "text": [
        "[#########################################-]  96.5% ... Processing 2945 files\r"
       ]
      },
      {
       "output_type": "stream",
       "stream": "stdout",
       "text": [
        "[#########################################-]  96.5% ... Processing 2945 files\r"
       ]
      },
      {
       "output_type": "stream",
       "stream": "stdout",
       "text": [
        "[#########################################-]  96.5% ... Processing 2945 files\r"
       ]
      },
      {
       "output_type": "stream",
       "stream": "stdout",
       "text": [
        "[#########################################-]  96.6% ... Processing 2945 files\r"
       ]
      },
      {
       "output_type": "stream",
       "stream": "stdout",
       "text": [
        "[#########################################-]  96.6% ... Processing 2945 files\r"
       ]
      },
      {
       "output_type": "stream",
       "stream": "stdout",
       "text": [
        "[#########################################-]  96.6% ... Processing 2945 files\r"
       ]
      },
      {
       "output_type": "stream",
       "stream": "stdout",
       "text": [
        "[#########################################-]  96.7% ... Processing 2945 files\r"
       ]
      },
      {
       "output_type": "stream",
       "stream": "stdout",
       "text": [
        "[#########################################-]  96.7% ... Processing 2945 files\r"
       ]
      },
      {
       "output_type": "stream",
       "stream": "stdout",
       "text": [
        "[#########################################-]  96.7% ... Processing 2945 files\r"
       ]
      },
      {
       "output_type": "stream",
       "stream": "stdout",
       "text": [
        "[#########################################-]  96.8% ... Processing 2945 files\r"
       ]
      },
      {
       "output_type": "stream",
       "stream": "stdout",
       "text": [
        "[#########################################-]  96.8% ... Processing 2945 files\r"
       ]
      },
      {
       "output_type": "stream",
       "stream": "stdout",
       "text": [
        "[#########################################-]  96.8% ... Processing 2945 files\r"
       ]
      },
      {
       "output_type": "stream",
       "stream": "stdout",
       "text": [
        "[#########################################-]  96.9% ... Processing 2945 files\r"
       ]
      },
      {
       "output_type": "stream",
       "stream": "stdout",
       "text": [
        "[#########################################-]  96.9% ... Processing 2945 files\r"
       ]
      },
      {
       "output_type": "stream",
       "stream": "stdout",
       "text": [
        "[#########################################-]  96.9% ... Processing 2945 files\r"
       ]
      },
      {
       "output_type": "stream",
       "stream": "stdout",
       "text": [
        "[#########################################-]  97.0% ... Processing 2945 files\r"
       ]
      },
      {
       "output_type": "stream",
       "stream": "stdout",
       "text": [
        "[#########################################-]  97.0% ... Processing 2945 files\r"
       ]
      },
      {
       "output_type": "stream",
       "stream": "stdout",
       "text": [
        "[#########################################-]  97.0% ... Processing 2945 files\r"
       ]
      },
      {
       "output_type": "stream",
       "stream": "stdout",
       "text": [
        "[#########################################-]  97.1% ... Processing 2945 files\r"
       ]
      },
      {
       "output_type": "stream",
       "stream": "stdout",
       "text": [
        "[#########################################-]  97.1% ... Processing 2945 files\r"
       ]
      },
      {
       "output_type": "stream",
       "stream": "stdout",
       "text": [
        "[#########################################-]  97.1% ... Processing 2945 files\r"
       ]
      },
      {
       "output_type": "stream",
       "stream": "stdout",
       "text": [
        "[#########################################-]  97.2% ... Processing 2945 files\r"
       ]
      },
      {
       "output_type": "stream",
       "stream": "stdout",
       "text": [
        "[#########################################-]  97.2% ... Processing 2945 files\r"
       ]
      },
      {
       "output_type": "stream",
       "stream": "stdout",
       "text": [
        "[#########################################-]  97.2% ... Processing 2945 files\r"
       ]
      },
      {
       "output_type": "stream",
       "stream": "stdout",
       "text": [
        "[#########################################-]  97.3% ... Processing 2945 files\r"
       ]
      },
      {
       "output_type": "stream",
       "stream": "stdout",
       "text": [
        "[#########################################-]  97.3% ... Processing 2945 files\r"
       ]
      },
      {
       "output_type": "stream",
       "stream": "stdout",
       "text": [
        "[#########################################-]  97.4% ... Processing 2945 files\r"
       ]
      },
      {
       "output_type": "stream",
       "stream": "stdout",
       "text": [
        "[#########################################-]  97.4% ... Processing 2945 files\r"
       ]
      },
      {
       "output_type": "stream",
       "stream": "stdout",
       "text": [
        "[#########################################-]  97.4% ... Processing 2945 files\r"
       ]
      },
      {
       "output_type": "stream",
       "stream": "stdout",
       "text": [
        "[#########################################-]  97.5% ... Processing 2945 files\r"
       ]
      },
      {
       "output_type": "stream",
       "stream": "stdout",
       "text": [
        "[#########################################-]  97.5% ... Processing 2945 files\r"
       ]
      },
      {
       "output_type": "stream",
       "stream": "stdout",
       "text": [
        "[#########################################-]  97.5% ... Processing 2945 files\r"
       ]
      },
      {
       "output_type": "stream",
       "stream": "stdout",
       "text": [
        "[#########################################-]  97.6% ... Processing 2945 files\r"
       ]
      },
      {
       "output_type": "stream",
       "stream": "stdout",
       "text": [
        "[#########################################-]  97.6% ... Processing 2945 files\r"
       ]
      },
      {
       "output_type": "stream",
       "stream": "stdout",
       "text": [
        "[#########################################-]  97.6% ... Processing 2945 files\r"
       ]
      },
      {
       "output_type": "stream",
       "stream": "stdout",
       "text": [
        "[#########################################-]  97.7% ... Processing 2945 files\r"
       ]
      },
      {
       "output_type": "stream",
       "stream": "stdout",
       "text": [
        "[#########################################-]  97.7% ... Processing 2945 files\r"
       ]
      },
      {
       "output_type": "stream",
       "stream": "stdout",
       "text": [
        "[#########################################-]  97.7% ... Processing 2945 files\r"
       ]
      },
      {
       "output_type": "stream",
       "stream": "stdout",
       "text": [
        "[#########################################-]  97.8% ... Processing 2945 files\r"
       ]
      },
      {
       "output_type": "stream",
       "stream": "stdout",
       "text": [
        "[#########################################-]  97.8% ... Processing 2945 files\r"
       ]
      },
      {
       "output_type": "stream",
       "stream": "stdout",
       "text": [
        "[#########################################-]  97.8% ... Processing 2945 files\r"
       ]
      },
      {
       "output_type": "stream",
       "stream": "stdout",
       "text": [
        "[#########################################-]  97.9% ... Processing 2945 files\r"
       ]
      },
      {
       "output_type": "stream",
       "stream": "stdout",
       "text": [
        "[#########################################-]  97.9% ... Processing 2945 files\r"
       ]
      },
      {
       "output_type": "stream",
       "stream": "stdout",
       "text": [
        "[#########################################-]  97.9% ... Processing 2945 files\r"
       ]
      },
      {
       "output_type": "stream",
       "stream": "stdout",
       "text": [
        "[#########################################-]  98.0% ... Processing 2945 files\r"
       ]
      },
      {
       "output_type": "stream",
       "stream": "stdout",
       "text": [
        "[#########################################-]  98.0% ... Processing 2945 files\r"
       ]
      },
      {
       "output_type": "stream",
       "stream": "stdout",
       "text": [
        "[#########################################-]  98.0% ... Processing 2945 files\r"
       ]
      },
      {
       "output_type": "stream",
       "stream": "stdout",
       "text": [
        "[#########################################-]  98.1% ... Processing 2945 files\r"
       ]
      },
      {
       "output_type": "stream",
       "stream": "stdout",
       "text": [
        "[#########################################-]  98.1% ... Processing 2945 files\r"
       ]
      },
      {
       "output_type": "stream",
       "stream": "stdout",
       "text": [
        "[#########################################-]  98.1% ... Processing 2945 files\r"
       ]
      },
      {
       "output_type": "stream",
       "stream": "stdout",
       "text": [
        "[#########################################-]  98.2% ... Processing 2945 files\r"
       ]
      },
      {
       "output_type": "stream",
       "stream": "stdout",
       "text": [
        "[#########################################-]  98.2% ... Processing 2945 files\r"
       ]
      },
      {
       "output_type": "stream",
       "stream": "stdout",
       "text": [
        "[#########################################-]  98.2% ... Processing 2945 files\r"
       ]
      },
      {
       "output_type": "stream",
       "stream": "stdout",
       "text": [
        "[#########################################-]  98.3% ... Processing 2945 files\r"
       ]
      },
      {
       "output_type": "stream",
       "stream": "stdout",
       "text": [
        "[#########################################-]  98.3% ... Processing 2945 files\r"
       ]
      },
      {
       "output_type": "stream",
       "stream": "stdout",
       "text": [
        "[#########################################-]  98.3% ... Processing 2945 files\r"
       ]
      },
      {
       "output_type": "stream",
       "stream": "stdout",
       "text": [
        "[#########################################-]  98.4% ... Processing 2945 files\r"
       ]
      },
      {
       "output_type": "stream",
       "stream": "stdout",
       "text": [
        "[#########################################-]  98.4% ... Processing 2945 files\r"
       ]
      },
      {
       "output_type": "stream",
       "stream": "stdout",
       "text": [
        "[#########################################-]  98.4% ... Processing 2945 files\r"
       ]
      },
      {
       "output_type": "stream",
       "stream": "stdout",
       "text": [
        "[#########################################-]  98.5% ... Processing 2945 files\r"
       ]
      },
      {
       "output_type": "stream",
       "stream": "stdout",
       "text": [
        "[#########################################-]  98.5% ... Processing 2945 files\r"
       ]
      },
      {
       "output_type": "stream",
       "stream": "stdout",
       "text": [
        "[#########################################-]  98.5% ... Processing 2945 files\r"
       ]
      },
      {
       "output_type": "stream",
       "stream": "stdout",
       "text": [
        "[#########################################-]  98.6% ... Processing 2945 files\r"
       ]
      },
      {
       "output_type": "stream",
       "stream": "stdout",
       "text": [
        "[#########################################-]  98.6% ... Processing 2945 files\r"
       ]
      },
      {
       "output_type": "stream",
       "stream": "stdout",
       "text": [
        "[#########################################-]  98.6% ... Processing 2945 files\r"
       ]
      },
      {
       "output_type": "stream",
       "stream": "stdout",
       "text": [
        "[#########################################-]  98.7% ... Processing 2945 files\r"
       ]
      },
      {
       "output_type": "stream",
       "stream": "stdout",
       "text": [
        "[#########################################-]  98.7% ... Processing 2945 files\r"
       ]
      },
      {
       "output_type": "stream",
       "stream": "stdout",
       "text": [
        "[#########################################-]  98.7% ... Processing 2945 files\r"
       ]
      },
      {
       "output_type": "stream",
       "stream": "stdout",
       "text": [
        "[#########################################-]  98.8% ... Processing 2945 files\r"
       ]
      },
      {
       "output_type": "stream",
       "stream": "stdout",
       "text": [
        "[##########################################]  98.8% ... Processing 2945 files\r"
       ]
      },
      {
       "output_type": "stream",
       "stream": "stdout",
       "text": [
        "[##########################################]  98.8% ... Processing 2945 files\r"
       ]
      },
      {
       "output_type": "stream",
       "stream": "stdout",
       "text": [
        "[##########################################]  98.9% ... Processing 2945 files\r"
       ]
      },
      {
       "output_type": "stream",
       "stream": "stdout",
       "text": [
        "[##########################################]  98.9% ... Processing 2945 files\r"
       ]
      },
      {
       "output_type": "stream",
       "stream": "stdout",
       "text": [
        "[##########################################]  98.9% ... Processing 2945 files\r"
       ]
      },
      {
       "output_type": "stream",
       "stream": "stdout",
       "text": [
        "[##########################################]  99.0% ... Processing 2945 files\r"
       ]
      },
      {
       "output_type": "stream",
       "stream": "stdout",
       "text": [
        "[##########################################]  99.0% ... Processing 2945 files\r"
       ]
      },
      {
       "output_type": "stream",
       "stream": "stdout",
       "text": [
        "[##########################################]  99.0% ... Processing 2945 files\r"
       ]
      },
      {
       "output_type": "stream",
       "stream": "stdout",
       "text": [
        "[##########################################]  99.1% ... Processing 2945 files\r"
       ]
      },
      {
       "output_type": "stream",
       "stream": "stdout",
       "text": [
        "[##########################################]  99.1% ... Processing 2945 files\r"
       ]
      },
      {
       "output_type": "stream",
       "stream": "stdout",
       "text": [
        "[##########################################]  99.2% ... Processing 2945 files\r"
       ]
      },
      {
       "output_type": "stream",
       "stream": "stdout",
       "text": [
        "[##########################################]  99.2% ... Processing 2945 files\r"
       ]
      },
      {
       "output_type": "stream",
       "stream": "stdout",
       "text": [
        "[##########################################]  99.2% ... Processing 2945 files\r"
       ]
      },
      {
       "output_type": "stream",
       "stream": "stdout",
       "text": [
        "[##########################################]  99.3% ... Processing 2945 files\r"
       ]
      },
      {
       "output_type": "stream",
       "stream": "stdout",
       "text": [
        "[##########################################]  99.3% ... Processing 2945 files\r"
       ]
      },
      {
       "output_type": "stream",
       "stream": "stdout",
       "text": [
        "[##########################################]  99.3% ... Processing 2945 files\r"
       ]
      },
      {
       "output_type": "stream",
       "stream": "stdout",
       "text": [
        "[##########################################]  99.4% ... Processing 2945 files\r"
       ]
      },
      {
       "output_type": "stream",
       "stream": "stdout",
       "text": [
        "[##########################################]  99.4% ... Processing 2945 files\r"
       ]
      },
      {
       "output_type": "stream",
       "stream": "stdout",
       "text": [
        "[##########################################]  99.4% ... Processing 2945 files\r"
       ]
      },
      {
       "output_type": "stream",
       "stream": "stdout",
       "text": [
        "[##########################################]  99.5% ... Processing 2945 files\r"
       ]
      },
      {
       "output_type": "stream",
       "stream": "stdout",
       "text": [
        "[##########################################]  99.5% ... Processing 2945 files\r"
       ]
      },
      {
       "output_type": "stream",
       "stream": "stdout",
       "text": [
        "[##########################################]  99.5% ... Processing 2945 files\r"
       ]
      },
      {
       "output_type": "stream",
       "stream": "stdout",
       "text": [
        "[##########################################]  99.6% ... Processing 2945 files\r"
       ]
      },
      {
       "output_type": "stream",
       "stream": "stdout",
       "text": [
        "[##########################################]  99.6% ... Processing 2945 files\r"
       ]
      },
      {
       "output_type": "stream",
       "stream": "stdout",
       "text": [
        "[##########################################]  99.6% ... Processing 2945 files\r"
       ]
      },
      {
       "output_type": "stream",
       "stream": "stdout",
       "text": [
        "[##########################################]  99.7% ... Processing 2945 files\r"
       ]
      },
      {
       "output_type": "stream",
       "stream": "stdout",
       "text": [
        "[##########################################]  99.7% ... Processing 2945 files\r"
       ]
      },
      {
       "output_type": "stream",
       "stream": "stdout",
       "text": [
        "[##########################################]  99.7% ... Processing 2945 files\r"
       ]
      },
      {
       "output_type": "stream",
       "stream": "stdout",
       "text": [
        "[##########################################]  99.8% ... Processing 2945 files\r"
       ]
      },
      {
       "output_type": "stream",
       "stream": "stdout",
       "text": [
        "[##########################################]  99.8% ... Processing 2945 files\r"
       ]
      },
      {
       "output_type": "stream",
       "stream": "stdout",
       "text": [
        "[##########################################]  99.8% ... Processing 2945 files\r"
       ]
      },
      {
       "output_type": "stream",
       "stream": "stdout",
       "text": [
        "[##########################################]  99.9% ... Processing 2945 files\r"
       ]
      },
      {
       "output_type": "stream",
       "stream": "stdout",
       "text": [
        "[##########################################]  99.9% ... Processing 2945 files\r"
       ]
      },
      {
       "output_type": "stream",
       "stream": "stdout",
       "text": [
        "[##########################################]  99.9% ... Processing 2945 files\r"
       ]
      },
      {
       "output_type": "stream",
       "stream": "stdout",
       "text": [
        "[##########################################] 100.0% ... Processing 2945 files\r"
       ]
      },
      {
       "output_type": "stream",
       "stream": "stdout",
       "text": [
        "\n",
        "Loading Gravity Data..."
       ]
      },
      {
       "output_type": "stream",
       "stream": "stdout",
       "text": [
        " Done!\n"
       ]
      }
     ],
     "prompt_number": 45
    },
    {
     "cell_type": "code",
     "collapsed": false,
     "input": [],
     "language": "python",
     "metadata": {},
     "outputs": [],
     "prompt_number": 7
    },
    {
     "cell_type": "code",
     "collapsed": false,
     "input": [
      "temp = np.copy(Data[1].templates[0][48])"
     ],
     "language": "python",
     "metadata": {},
     "outputs": [],
     "prompt_number": 46
    },
    {
     "cell_type": "code",
     "collapsed": false,
     "input": [
      "reload(la)\n",
      "on_basis = la.normalize_basis(la.make_3don_basis(temp), temp)\n",
      "fftdata = np.copy(Data[0][\"fft_data\"])\n",
      "np.shape(Data[0].loc[0].fft_data)\n",
      "fft_trans = la.apply_trans_all_data(on_basis, fftdata)"
     ],
     "language": "python",
     "metadata": {},
     "outputs": [],
     "prompt_number": 47
    },
    {
     "cell_type": "code",
     "collapsed": false,
     "input": [
      "re_dat = np.real(fft_trans)\n",
      "im_dat = np.imag(fft_trans)\n",
      "abs_dat = np.abs(fft_trans)\n",
      "ortho_proj = np.sqrt(np.sum(abs_dat[:, :, 1:]**2, axis = -1)) "
     ],
     "language": "python",
     "metadata": {},
     "outputs": [],
     "prompt_number": 102
    },
    {
     "cell_type": "code",
     "collapsed": false,
     "input": [
      "plt.plot(re_dat[:,0,0],'x', label = \"signal template\")\n",
      "plt.plot(ortho_proj[:, 0], '.', label = \"orthogonal background amp\")\n",
      "plt.xlabel(\"time[m]\")\n",
      "plt.ylabel(r'$\\alpha(\\lambda_{25\\mu m})$')\n",
      "plt.legend()\n",
      "plt.show()"
     ],
     "language": "python",
     "metadata": {},
     "outputs": [],
     "prompt_number": 104
    },
    {
     "cell_type": "code",
     "collapsed": false,
     "input": [
      "for i in np.arange(10, -1, -1):\n",
      "    if i==0:\n",
      "        plt.plot(im_dat[:, 1, i], 'x',label = \"signal template\")\n",
      "    else:\n",
      "        plt.plot(im_dat[:, 1, i], '.',label = \"basis vector \"+str(i))\n",
      "plt.legend()\n",
      "plt.xlabel(\"time[m]\")\n",
      "plt.ylabel(r\"amplitude [$\\alpha(\\lambda_{25\\mu m})$]\")\n",
      "plt.show()"
     ],
     "language": "python",
     "metadata": {},
     "outputs": [],
     "prompt_number": 66
    },
    {
     "cell_type": "code",
     "collapsed": false,
     "input": [
      "df_re = pd.DataFrame(re_dat[:, 0, :], columns = list('0123456789')+['10'])\n",
      "df_im = pd.DataFrame(im_dat[:, 0, :], columns = list('0123456789')+['10'])\n"
     ],
     "language": "python",
     "metadata": {},
     "outputs": [],
     "prompt_number": 97
    },
    {
     "cell_type": "code",
     "collapsed": false,
     "input": [
      "lst = [1]\n",
      "lst.append(2)\n",
      "lst"
     ],
     "language": "python",
     "metadata": {},
     "outputs": [
      {
       "metadata": {},
       "output_type": "pyout",
       "prompt_number": 127,
       "text": [
        "[1, 2]"
       ]
      }
     ],
     "prompt_number": 127
    },
    {
     "cell_type": "code",
     "collapsed": false,
     "input": [
      "re_errors = df_re.sem().values\n",
      "re_means = df_re.mean().values\n",
      "im_errors = df_im.sem().values\n",
      "im_means = df_im.mean().values"
     ],
     "language": "python",
     "metadata": {},
     "outputs": [],
     "prompt_number": 98
    },
    {
     "cell_type": "code",
     "collapsed": false,
     "input": [
      "plt.errorbar(np.arange(11), re_means, re_errors, fmt = '.', label = 'real')\n",
      "plt.errorbar(np.arange(11), im_means, im_errors, fmt = '.', label = 'imaginary')\n",
      "plt.legend()\n",
      "plt.xlabel('Basis vector number')\n",
      "plt.ylabel(r'$\\alpha(\\lambda_{25 \\mu m})$')\n",
      "plt.show()"
     ],
     "language": "python",
     "metadata": {},
     "outputs": [],
     "prompt_number": 99
    },
    {
     "cell_type": "code",
     "collapsed": false,
     "input": [
      "def compute_uncertainty(lambind, Data, ind = 0, m_columns = list('123456789')+['10']):\n",
      "    temp = np.copy(Data[1].templates[0][lambind])\n",
      "    on_basis = la.normalize_basis(la.make_3don_basis(temp), temp)\n",
      "    fftdata = np.copy(Data[0][\"fft_data\"])\n",
      "    fft_trans = la.apply_trans_all_data(on_basis, fftdata)\n",
      "    df_re = pd.DataFrame(np.real(fft_trans[:, ind, :]), columns = list('0123456789')+['10'])\n",
      "    df_im = pd.DataFrame(np.imag(fft_trans[:, ind, :]), columns = list('0123456789')+['10'])\n",
      "    means = np.concatenate([df_re[m_columns].mean().values, df_im[m_columns].mean()])\n",
      "    return df_re['0'].mean(), means.std()"
     ],
     "language": "python",
     "metadata": {},
     "outputs": [],
     "prompt_number": 140
    },
    {
     "cell_type": "code",
     "collapsed": false,
     "input": [
      "sigx = []\n",
      "alphax = []\n",
      "for i in range(100):\n",
      "    a, s = compute_uncertainty(i, Data)\n",
      "    alphax.append(np.abs(a))\n",
      "    sigx.append(s)\n",
      "\n",
      "sigy = []\n",
      "alphay = []\n",
      "for i in range(100):\n",
      "    a, s = compute_uncertainty(i, Data, ind = 1)\n",
      "    alphay.append(np.abs(a))\n",
      "    sigy.append(s)"
     ],
     "language": "python",
     "metadata": {},
     "outputs": [],
     "prompt_number": 141
    },
    {
     "cell_type": "code",
     "collapsed": false,
     "input": [
      "decca_path = \"/home/arider/limit_data/just_decca.csv\"\n",
      "pre_decca_path = \"/home/arider/limit_data/pre_decca.csv\"\n",
      "pre_decca = np.loadtxt(pre_decca_path, delimiter = ',', skiprows = 1)\n",
      "decca = np.loadtxt(decca_path, delimiter = ',', skiprows = 1)\n",
      "plt.loglog(pre_decca[:, 0], pre_decca[:, 1], label = \"pre decca\")\n",
      "plt.loglog(decca[:, 0], decca[:, 1], label = \"decca\")\n"
     ],
     "language": "python",
     "metadata": {},
     "outputs": [
      {
       "metadata": {},
       "output_type": "pyout",
       "prompt_number": 160,
       "text": [
        "[<matplotlib.lines.Line2D at 0x7f83d03920d0>]"
       ]
      }
     ],
     "prompt_number": 160
    },
    {
     "cell_type": "code",
     "collapsed": false,
     "input": [
      "#plt.loglog(AD2.lambdas, alphax, label = r\"$\\alpha_{x}$\")\n",
      "#plt.loglog(AD2.lambdas, alphay, label = r\"$\\alpha_{y}$\")\n",
      "plt.loglog(AD2.lambdas, 1.96*np.array(sigx), label = r\"this analysis 95% cl\")\n",
      "#plt.loglog(AD2.lambdas, sigy, '.', label = r\"$\\sigma_{y}$\")\n",
      "plt.ylabel(r\"$|\\alpha|$\")\n",
      "plt.xlabel(r\"$\\lambda[m]$\")\n",
      "plt.legend()\n",
      "plt.show()"
     ],
     "language": "python",
     "metadata": {},
     "outputs": [],
     "prompt_number": 161
    },
    {
     "cell_type": "code",
     "collapsed": false,
     "input": [
      "re_temp = np.real(temp)\n",
      "im_temp = np.imag(temp)\n",
      "f, axarr = plt.subplots(3, 1, sharex = True)\n",
      "labels = [\"x\", \"y\", \"z\"]\n",
      "for i, ax in enumerate(axarr):\n",
      "    ax.plot(re_temp[i, :], 'o', label = labels[i] + \" real\")\n",
      "    ax.plot(im_temp[i, :], 'x', label = labels[i] + \" imaginary\")\n",
      "    ax.legend()\n",
      "    ax.set_xlabel(\"harmonic number\")\n",
      "    ax.set_ylabel(\"amplitude [N*s]\")\n",
      "plt.show()"
     ],
     "language": "python",
     "metadata": {},
     "outputs": [],
     "prompt_number": 168
    },
    {
     "cell_type": "code",
     "collapsed": false,
     "input": [
      "Data[0].fft_data[0]"
     ],
     "language": "python",
     "metadata": {},
     "outputs": [
      {
       "metadata": {},
       "output_type": "pyout",
       "prompt_number": 170,
       "text": [
        "array([[ 3.49951483e-11+4.88210545e-11j, -3.29922534e-13+4.47287818e-11j,\n",
        "        -4.53100436e-12-1.17421888e-11j,  4.75885073e-12-4.70286597e-12j,\n",
        "        -9.12016581e-12-3.03732770e-11j, -1.48616130e-11+5.64271864e-12j,\n",
        "         1.90235096e-13-1.43880618e-11j, -8.92505676e-12-1.07618921e-11j,\n",
        "        -5.27613644e-12-1.45582321e-11j, -1.07824753e-11+9.94773504e-12j,\n",
        "        -3.74731405e-14+1.56734439e-12j],\n",
        "       [ 4.47982277e-11+9.73054043e-11j,  1.84320478e-11-6.53997383e-12j,\n",
        "        -6.89766466e-12+4.15507784e-12j,  9.39818165e-12+1.08832808e-11j,\n",
        "        -1.42540449e-11-1.87542763e-11j,  8.40293483e-13+8.32014207e-12j,\n",
        "        -3.21119089e-12+5.12031605e-12j, -4.32491758e-12-1.75024664e-11j,\n",
        "        -2.65241147e-12-3.53169702e-11j, -4.85310264e-12+1.05397217e-12j,\n",
        "        -7.69533310e-12-4.60065129e-12j],\n",
        "       [-4.04352845e-12-2.07501924e-12j, -6.14896459e-12-3.86730133e-11j,\n",
        "         1.39220126e-11+4.89660500e-14j,  1.39294532e-12+9.16382264e-12j,\n",
        "         5.97127094e-12+2.11900346e-11j, -5.06578765e-14-4.18210276e-12j,\n",
        "         6.28348808e-12+3.16685507e-13j,  2.08219358e-13+6.63208472e-12j,\n",
        "         8.32075270e-12-1.02490196e-11j,  9.28816857e-12-4.30054822e-13j,\n",
        "         1.87726239e-12+1.02739162e-11j]])"
       ]
      }
     ],
     "prompt_number": 170
    }
   ],
   "metadata": {}
  }
 ]
}