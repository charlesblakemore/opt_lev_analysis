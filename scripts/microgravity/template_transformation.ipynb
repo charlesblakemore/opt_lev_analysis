{
 "metadata": {
  "name": ""
 },
 "nbformat": 3,
 "nbformat_minor": 0,
 "worksheets": [
  {
   "cells": [
    {
     "cell_type": "code",
     "collapsed": false,
     "input": [
      "import numpy as np\n",
      "import matplotlib.pyplot as plt\n",
      "import pandas as pd\n",
      "#import grav_util_2 as gu2\n"
     ],
     "language": "python",
     "metadata": {},
     "outputs": [],
     "prompt_number": 6
    },
    {
     "cell_type": "code",
     "collapsed": false,
     "input": [
      "import bead_util as bu\n",
      "import calib_util as cal\n",
      "import transfer_func_util as tf\n",
      "import configuration as config\n",
      "\n",
      "\n"
     ],
     "language": "python",
     "metadata": {},
     "outputs": [],
     "prompt_number": 7
    },
    {
     "cell_type": "code",
     "collapsed": false,
     "input": [
      "import grav_util_2 as gu2"
     ],
     "language": "python",
     "metadata": {},
     "outputs": [],
     "prompt_number": 8
    },
    {
     "cell_type": "code",
     "collapsed": false,
     "input": [
      "theory_data_dir = '/data/grav_sim_data/2um_spacing_data/'\n",
      "data_dir = '/data/20180704/bead1/grav_data/shield_1s_1h'\n"
     ],
     "language": "python",
     "metadata": {},
     "outputs": [],
     "prompt_number": 9
    },
    {
     "cell_type": "code",
     "collapsed": false,
     "input": [
      "datafiles = bu.find_all_fnames(data_dir, ext=config.extensions['data'])\n"
     ],
     "language": "python",
     "metadata": {},
     "outputs": [
      {
       "output_type": "stream",
       "stream": "stdout",
       "text": [
        "Finding files in: \n",
        "/data/20180704/bead1/grav_data/shield_1s_1h\n"
       ]
      },
      {
       "output_type": "stream",
       "stream": "stdout",
       "text": [
        "Found 2946 files...\n"
       ]
      }
     ],
     "prompt_number": 10
    },
    {
     "cell_type": "code",
     "collapsed": false,
     "input": [
      "reload(gu2)"
     ],
     "language": "python",
     "metadata": {},
     "outputs": [
      {
       "metadata": {},
       "output_type": "pyout",
       "prompt_number": 9,
       "text": [
        "<module 'grav_util_2' from '/home/arider/opt_lev_analysis/scripts/grav_util_2.pyc'>"
       ]
      }
     ],
     "prompt_number": 9
    },
    {
     "cell_type": "code",
     "collapsed": false,
     "input": [
      "fd = gu2.FileData(datafiles[1])\n",
      "fd.extract_data()\n",
      "tempi = np.ones(11) + 1.j*np.ones(11)\n",
      "tempt = np.vstack([tempi, tempi, tempi])\n",
      "df0 = fd.fit_alpha_xyz([tempt])"
     ],
     "language": "python",
     "metadata": {},
     "outputs": [],
     "prompt_number": 22
    },
    {
     "cell_type": "code",
     "collapsed": false,
     "input": [
      "fd.load_position_and_bias()\n",
      "fd.ax2pos"
     ],
     "language": "python",
     "metadata": {},
     "outputs": [
      {
       "metadata": {},
       "output_type": "pyout",
       "prompt_number": 23,
       "text": [
        "20.0"
       ]
      }
     ],
     "prompt_number": 23
    },
    {
     "cell_type": "code",
     "collapsed": false,
     "input": [
      "np.array([1, 2, 3]).transpose()"
     ],
     "language": "python",
     "metadata": {},
     "outputs": [
      {
       "metadata": {},
       "output_type": "pyout",
       "prompt_number": 76,
       "text": [
        "array([1, 2, 3])"
       ]
      }
     ],
     "prompt_number": 76
    },
    {
     "cell_type": "code",
     "collapsed": false,
     "input": [
      "reload(gu2)\n"
     ],
     "language": "python",
     "metadata": {},
     "outputs": [
      {
       "metadata": {},
       "output_type": "pyout",
       "prompt_number": 265,
       "text": [
        "<module 'grav_util_2' from '/home/arider/opt_lev_analysis/scripts/grav_util_2.py'>"
       ]
      }
     ],
     "prompt_number": 265
    },
    {
     "cell_type": "code",
     "collapsed": false,
     "input": [
      "df = pd.DataFrame(np.random.randn(1000, 3), columns = [\"foo\", \"bar\", \"baz\"])\n",
      "df1 = pd.DataFrame(np.random.randn(1000, 3), columns = [\"zap\", \"ding\", \"dong\"])"
     ],
     "language": "python",
     "metadata": {},
     "outputs": [],
     "prompt_number": 64
    },
    {
     "cell_type": "code",
     "collapsed": false,
     "input": [
      "s = pd.Series([df1, df], index = [\"0\", \"1\"])"
     ],
     "language": "python",
     "metadata": {},
     "outputs": [],
     "prompt_number": 65
    },
    {
     "cell_type": "code",
     "collapsed": false,
     "input": [
      "reload(gu2)\n",
      "Nf = 100\n",
      "AD2 = gu2.AggregateData(datafiles[:Nf])\n",
      "AD2.load_grav_funcs(theory_data_dir)\n",
      "Data = AD2.getDataFrames()\n"
     ],
     "language": "python",
     "metadata": {},
     "outputs": [
      {
       "output_type": "stream",
       "stream": "stdout",
       "text": [
        "[-------------------------------------------]   0.0% ... Processing 100 files\r"
       ]
      },
      {
       "output_type": "stream",
       "stream": "stdout",
       "text": [
        "[-------------------------------------------]   1.0% ... Processing 100 files\r"
       ]
      },
      {
       "output_type": "stream",
       "stream": "stdout",
       "text": [
        "[#------------------------------------------]   2.0% ... Processing 100 files\r"
       ]
      },
      {
       "output_type": "stream",
       "stream": "stdout",
       "text": [
        "[#------------------------------------------]   3.0% ... Processing 100 files\r"
       ]
      },
      {
       "output_type": "stream",
       "stream": "stdout",
       "text": [
        "[##-----------------------------------------]   4.0% ... Processing 100 files\r"
       ]
      },
      {
       "output_type": "stream",
       "stream": "stdout",
       "text": [
        "[##-----------------------------------------]   5.0% ... Processing 100 files\r"
       ]
      },
      {
       "output_type": "stream",
       "stream": "stdout",
       "text": [
        "[###----------------------------------------]   6.0% ... Processing 100 files\r"
       ]
      },
      {
       "output_type": "stream",
       "stream": "stdout",
       "text": [
        "[###----------------------------------------]   7.0% ... Processing 100 files\r"
       ]
      },
      {
       "output_type": "stream",
       "stream": "stdout",
       "text": [
        "[###----------------------------------------]   8.0% ... Processing 100 files\r"
       ]
      },
      {
       "output_type": "stream",
       "stream": "stdout",
       "text": [
        "[####---------------------------------------]   9.0% ... Processing 100 files\r"
       ]
      },
      {
       "output_type": "stream",
       "stream": "stdout",
       "text": [
        "[####---------------------------------------]  10.0% ... Processing 100 files\r"
       ]
      },
      {
       "output_type": "stream",
       "stream": "stdout",
       "text": [
        "[#####--------------------------------------]  11.0% ... Processing 100 files\r"
       ]
      },
      {
       "output_type": "stream",
       "stream": "stdout",
       "text": [
        "[#####--------------------------------------]  12.0% ... Processing 100 files\r"
       ]
      },
      {
       "output_type": "stream",
       "stream": "stdout",
       "text": [
        "[######-------------------------------------]  13.0% ... Processing 100 files\r"
       ]
      },
      {
       "output_type": "stream",
       "stream": "stdout",
       "text": [
        "[######-------------------------------------]  14.0% ... Processing 100 files\r"
       ]
      },
      {
       "output_type": "stream",
       "stream": "stdout",
       "text": [
        "[######-------------------------------------]  15.0% ... Processing 100 files\r"
       ]
      },
      {
       "output_type": "stream",
       "stream": "stdout",
       "text": [
        "[#######------------------------------------]  16.0% ... Processing 100 files\r"
       ]
      },
      {
       "output_type": "stream",
       "stream": "stdout",
       "text": [
        "[#######------------------------------------]  17.0% ... Processing 100 files\r"
       ]
      },
      {
       "output_type": "stream",
       "stream": "stdout",
       "text": [
        "[########-----------------------------------]  18.0% ... Processing 100 files\r"
       ]
      },
      {
       "output_type": "stream",
       "stream": "stdout",
       "text": [
        "[########-----------------------------------]  19.0% ... Processing 100 files\r"
       ]
      },
      {
       "output_type": "stream",
       "stream": "stdout",
       "text": [
        "[#########----------------------------------]  20.0% ... Processing 100 files\r"
       ]
      },
      {
       "output_type": "stream",
       "stream": "stdout",
       "text": [
        "[#########----------------------------------]  21.0% ... Processing 100 files\r"
       ]
      },
      {
       "output_type": "stream",
       "stream": "stdout",
       "text": [
        "[#########----------------------------------]  22.0% ... Processing 100 files\r"
       ]
      },
      {
       "output_type": "stream",
       "stream": "stdout",
       "text": [
        "[##########---------------------------------]  23.0% ... Processing 100 files\r"
       ]
      },
      {
       "output_type": "stream",
       "stream": "stdout",
       "text": [
        "[##########---------------------------------]  24.0% ... Processing 100 files\r"
       ]
      },
      {
       "output_type": "stream",
       "stream": "stdout",
       "text": [
        "[###########--------------------------------]  25.0% ... Processing 100 files\r"
       ]
      },
      {
       "output_type": "stream",
       "stream": "stdout",
       "text": [
        "[###########--------------------------------]  26.0% ... Processing 100 files\r"
       ]
      },
      {
       "output_type": "stream",
       "stream": "stdout",
       "text": [
        "[############-------------------------------]  27.0% ... Processing 100 files\r"
       ]
      },
      {
       "output_type": "stream",
       "stream": "stdout",
       "text": [
        "[############-------------------------------]  28.0% ... Processing 100 files\r"
       ]
      },
      {
       "output_type": "stream",
       "stream": "stdout",
       "text": [
        "[############-------------------------------]  29.0% ... Processing 100 files\r"
       ]
      },
      {
       "output_type": "stream",
       "stream": "stdout",
       "text": [
        "[#############------------------------------]  30.0% ... Processing 100 files\r"
       ]
      },
      {
       "output_type": "stream",
       "stream": "stdout",
       "text": [
        "[#############------------------------------]  31.0% ... Processing 100 files\r"
       ]
      },
      {
       "output_type": "stream",
       "stream": "stdout",
       "text": [
        "[##############-----------------------------]  32.0% ... Processing 100 files\r"
       ]
      },
      {
       "output_type": "stream",
       "stream": "stdout",
       "text": [
        "[##############-----------------------------]  33.0% ... Processing 100 files\r"
       ]
      },
      {
       "output_type": "stream",
       "stream": "stdout",
       "text": [
        "[###############----------------------------]  34.0% ... Processing 100 files\r"
       ]
      },
      {
       "output_type": "stream",
       "stream": "stdout",
       "text": [
        "[###############----------------------------]  35.0% ... Processing 100 files\r"
       ]
      },
      {
       "output_type": "stream",
       "stream": "stdout",
       "text": [
        "[###############----------------------------]  36.0% ... Processing 100 files\r"
       ]
      },
      {
       "output_type": "stream",
       "stream": "stdout",
       "text": [
        "[################---------------------------]  37.0% ... Processing 100 files\r"
       ]
      },
      {
       "output_type": "stream",
       "stream": "stdout",
       "text": [
        "[################---------------------------]  38.0% ... Processing 100 files\r"
       ]
      },
      {
       "output_type": "stream",
       "stream": "stdout",
       "text": [
        "[#################--------------------------]  39.0% ... Processing 100 files\r"
       ]
      },
      {
       "output_type": "stream",
       "stream": "stdout",
       "text": [
        "[#################--------------------------]  40.0% ... Processing 100 files\r"
       ]
      },
      {
       "output_type": "stream",
       "stream": "stdout",
       "text": [
        "[##################-------------------------]  41.0% ... Processing 100 files\r"
       ]
      },
      {
       "output_type": "stream",
       "stream": "stdout",
       "text": [
        "[##################-------------------------]  42.0% ... Processing 100 files\r"
       ]
      },
      {
       "output_type": "stream",
       "stream": "stdout",
       "text": [
        "[##################-------------------------]  43.0% ... Processing 100 files\r"
       ]
      },
      {
       "output_type": "stream",
       "stream": "stdout",
       "text": [
        "[###################------------------------]  44.0% ... Processing 100 files\r"
       ]
      },
      {
       "output_type": "stream",
       "stream": "stdout",
       "text": [
        "[###################------------------------]  45.0% ... Processing 100 files\r"
       ]
      },
      {
       "output_type": "stream",
       "stream": "stdout",
       "text": [
        "[####################-----------------------]  46.0% ... Processing 100 files\r"
       ]
      },
      {
       "output_type": "stream",
       "stream": "stdout",
       "text": [
        "[####################-----------------------]  47.0% ... Processing 100 files\r"
       ]
      },
      {
       "output_type": "stream",
       "stream": "stdout",
       "text": [
        "[#####################----------------------]  48.0% ... Processing 100 files\r"
       ]
      },
      {
       "output_type": "stream",
       "stream": "stdout",
       "text": [
        "[#####################----------------------]  49.0% ... Processing 100 files\r"
       ]
      },
      {
       "output_type": "stream",
       "stream": "stdout",
       "text": [
        "[######################---------------------]  50.0% ... Processing 100 files\r"
       ]
      },
      {
       "output_type": "stream",
       "stream": "stdout",
       "text": [
        "[######################---------------------]  51.0% ... Processing 100 files\r"
       ]
      },
      {
       "output_type": "stream",
       "stream": "stdout",
       "text": [
        "[######################---------------------]  52.0% ... Processing 100 files\r"
       ]
      },
      {
       "output_type": "stream",
       "stream": "stdout",
       "text": [
        "[#######################--------------------]  53.0% ... Processing 100 files\r"
       ]
      },
      {
       "output_type": "stream",
       "stream": "stdout",
       "text": [
        "[#######################--------------------]  54.0% ... Processing 100 files\r"
       ]
      },
      {
       "output_type": "stream",
       "stream": "stdout",
       "text": [
        "[########################-------------------]  55.0% ... Processing 100 files\r"
       ]
      },
      {
       "output_type": "stream",
       "stream": "stdout",
       "text": [
        "[########################-------------------]  56.0% ... Processing 100 files\r"
       ]
      },
      {
       "output_type": "stream",
       "stream": "stdout",
       "text": [
        "[#########################------------------]  57.0% ... Processing 100 files\r"
       ]
      },
      {
       "output_type": "stream",
       "stream": "stdout",
       "text": [
        "[#########################------------------]  58.0% ... Processing 100 files\r"
       ]
      },
      {
       "output_type": "stream",
       "stream": "stdout",
       "text": [
        "[#########################------------------]  59.0% ... Processing 100 files\r"
       ]
      },
      {
       "output_type": "stream",
       "stream": "stdout",
       "text": [
        "[##########################-----------------]  60.0% ... Processing 100 files\r"
       ]
      },
      {
       "output_type": "stream",
       "stream": "stdout",
       "text": [
        "[##########################-----------------]  61.0% ... Processing 100 files\r"
       ]
      },
      {
       "output_type": "stream",
       "stream": "stdout",
       "text": [
        "[###########################----------------]  62.0% ... Processing 100 files\r"
       ]
      },
      {
       "output_type": "stream",
       "stream": "stdout",
       "text": [
        "[###########################----------------]  63.0% ... Processing 100 files\r"
       ]
      },
      {
       "output_type": "stream",
       "stream": "stdout",
       "text": [
        "[############################---------------]  64.0% ... Processing 100 files\r"
       ]
      },
      {
       "output_type": "stream",
       "stream": "stdout",
       "text": [
        "[############################---------------]  65.0% ... Processing 100 files\r"
       ]
      },
      {
       "output_type": "stream",
       "stream": "stdout",
       "text": [
        "[############################---------------]  66.0% ... Processing 100 files\r"
       ]
      },
      {
       "output_type": "stream",
       "stream": "stdout",
       "text": [
        "[#############################--------------]  67.0% ... Processing 100 files\r"
       ]
      },
      {
       "output_type": "stream",
       "stream": "stdout",
       "text": [
        "[#############################--------------]  68.0% ... Processing 100 files\r"
       ]
      },
      {
       "output_type": "stream",
       "stream": "stdout",
       "text": [
        "[##############################-------------]  69.0% ... Processing 100 files\r"
       ]
      },
      {
       "output_type": "stream",
       "stream": "stdout",
       "text": [
        "[##############################-------------]  70.0% ... Processing 100 files\r"
       ]
      },
      {
       "output_type": "stream",
       "stream": "stdout",
       "text": [
        "[###############################------------]  71.0% ... Processing 100 files\r"
       ]
      },
      {
       "output_type": "stream",
       "stream": "stdout",
       "text": [
        "[###############################------------]  72.0% ... Processing 100 files\r"
       ]
      },
      {
       "output_type": "stream",
       "stream": "stdout",
       "text": [
        "[###############################------------]  73.0% ... Processing 100 files\r"
       ]
      },
      {
       "output_type": "stream",
       "stream": "stdout",
       "text": [
        "[################################-----------]  74.0% ... Processing 100 files\r"
       ]
      },
      {
       "output_type": "stream",
       "stream": "stdout",
       "text": [
        "[################################-----------]  75.0% ... Processing 100 files\r"
       ]
      },
      {
       "output_type": "stream",
       "stream": "stdout",
       "text": [
        "[#################################----------]  76.0% ... Processing 100 files\r"
       ]
      },
      {
       "output_type": "stream",
       "stream": "stdout",
       "text": [
        "[#################################----------]  77.0% ... Processing 100 files\r"
       ]
      },
      {
       "output_type": "stream",
       "stream": "stdout",
       "text": [
        "[##################################---------]  78.0% ... Processing 100 files\r"
       ]
      },
      {
       "output_type": "stream",
       "stream": "stdout",
       "text": [
        "[##################################---------]  79.0% ... Processing 100 files\r"
       ]
      },
      {
       "output_type": "stream",
       "stream": "stdout",
       "text": [
        "[##################################---------]  80.0% ... Processing 100 files\r"
       ]
      },
      {
       "output_type": "stream",
       "stream": "stdout",
       "text": [
        "[###################################--------]  81.0% ... Processing 100 files\r"
       ]
      },
      {
       "output_type": "stream",
       "stream": "stdout",
       "text": [
        "[###################################--------]  82.0% ... Processing 100 files\r"
       ]
      },
      {
       "output_type": "stream",
       "stream": "stdout",
       "text": [
        "[####################################-------]  83.0% ... Processing 100 files\r"
       ]
      },
      {
       "output_type": "stream",
       "stream": "stdout",
       "text": [
        "[####################################-------]  84.0% ... Processing 100 files\r"
       ]
      },
      {
       "output_type": "stream",
       "stream": "stdout",
       "text": [
        "[#####################################------]  85.0% ... Processing 100 files\r"
       ]
      },
      {
       "output_type": "stream",
       "stream": "stdout",
       "text": [
        "[#####################################------]  86.0% ... Processing 100 files\r"
       ]
      },
      {
       "output_type": "stream",
       "stream": "stdout",
       "text": [
        "[#####################################------]  87.0% ... Processing 100 files\r"
       ]
      },
      {
       "output_type": "stream",
       "stream": "stdout",
       "text": [
        "[######################################-----]  88.0% ... Processing 100 files\r"
       ]
      },
      {
       "output_type": "stream",
       "stream": "stdout",
       "text": [
        "[######################################-----]  89.0% ... Processing 100 files\r"
       ]
      },
      {
       "output_type": "stream",
       "stream": "stdout",
       "text": [
        "[#######################################----]  90.0% ... Processing 100 files\r"
       ]
      },
      {
       "output_type": "stream",
       "stream": "stdout",
       "text": [
        "[#######################################----]  91.0% ... Processing 100 files\r"
       ]
      },
      {
       "output_type": "stream",
       "stream": "stdout",
       "text": [
        "[########################################---]  92.0% ... Processing 100 files\r"
       ]
      },
      {
       "output_type": "stream",
       "stream": "stdout",
       "text": [
        "[########################################---]  93.0% ... Processing 100 files\r"
       ]
      },
      {
       "output_type": "stream",
       "stream": "stdout",
       "text": [
        "[########################################---]  94.0% ... Processing 100 files\r"
       ]
      },
      {
       "output_type": "stream",
       "stream": "stdout",
       "text": [
        "[#########################################--]  95.0% ... Processing 100 files\r"
       ]
      },
      {
       "output_type": "stream",
       "stream": "stdout",
       "text": [
        "[#########################################--]  96.0% ... Processing 100 files\r"
       ]
      },
      {
       "output_type": "stream",
       "stream": "stdout",
       "text": [
        "[##########################################-]  97.0% ... Processing 100 files\r"
       ]
      },
      {
       "output_type": "stream",
       "stream": "stdout",
       "text": [
        "[##########################################-]  98.0% ... Processing 100 files\r"
       ]
      },
      {
       "output_type": "stream",
       "stream": "stdout",
       "text": [
        "[###########################################] 100.0% ... Processing 100 files\r"
       ]
      },
      {
       "output_type": "stream",
       "stream": "stdout",
       "text": [
        "\n",
        "Loading Gravity Data..."
       ]
      },
      {
       "output_type": "stream",
       "stream": "stdout",
       "text": [
        " Done!\n"
       ]
      }
     ],
     "prompt_number": 449
    },
    {
     "cell_type": "code",
     "collapsed": false,
     "input": [
      "import dill as pickle\n",
      "pickle.dump(Data, open('first1000.p', 'wb'))"
     ],
     "language": "python",
     "metadata": {},
     "outputs": [],
     "prompt_number": 167
    },
    {
     "cell_type": "code",
     "collapsed": false,
     "input": [
      "s"
     ],
     "language": "python",
     "metadata": {},
     "outputs": [
      {
       "metadata": {},
       "output_type": "pyout",
       "prompt_number": 153,
       "text": [
        "[3, 2]"
       ]
      }
     ],
     "prompt_number": 153
    },
    {
     "cell_type": "code",
     "collapsed": false,
     "input": [
      "def plot_first_coefs(fitData_alpha):\n",
      "    fitData_alpha[\"time\"] = fitDataMC.index.levels[0]\n",
      "    plt.errorbar(np.array(fitData_alpha[\"time\"]), np.array(fitData_alpha[\"fit coefs 0\"]), np.array(fitData_alpha[\"sigmas 0\"]), label = \"component 0\", fmt = '.')\n",
      "    plt.errorbar(np.array(fitData_alpha[\"time\"]), np.array(fitData_alpha[\"fit coefs 1\"]), np.array(fitData_alpha[\"sigmas 1\"]), label = \"component 1\", fmt = '.')\n",
      "    plt.xlabel(\"time[m]\")\n",
      "    plt.ylabel(r\"$\\alpha$\")\n",
      "    plt.legend()\n",
      "    plt.show()"
     ],
     "language": "python",
     "metadata": {},
     "outputs": [],
     "prompt_number": 278
    },
    {
     "cell_type": "code",
     "collapsed": false,
     "input": [
      "plot_first_coefs(fitData_beta)"
     ],
     "language": "python",
     "metadata": {},
     "outputs": [],
     "prompt_number": 280
    },
    {
     "cell_type": "code",
     "collapsed": false,
     "input": [
      "def z0(x, alpha, dat_column, error_column):\n",
      "    return (x[dat_column] - alpha)/x[error_column]\n",
      "    \n",
      "    "
     ],
     "language": "python",
     "metadata": {},
     "outputs": [],
     "prompt_number": 138
    },
    {
     "cell_type": "code",
     "collapsed": false,
     "input": [
      "fitDataMC[\"z0\"] = fitDataMC.apply(z0, axis=1, args = (1E9, \"fit coefs 0\", \"sigmas 0\"))\n",
      "fitDataMC[\"z1\"] = fitDataMC.apply(z0, axis=1, args = (1E9, \"fit coefs 1\", \"sigmas 1\"))"
     ],
     "language": "python",
     "metadata": {},
     "outputs": [],
     "prompt_number": 151
    },
    {
     "cell_type": "code",
     "collapsed": false,
     "input": [
      "from scipy.stats import chi2\n",
      "from scipy.optimize import curve_fit\n",
      "chi29dof = lambda x, a: a*chi2.pdf(x, 11)\n",
      "axarr = fitDataMC[[\"NLL_min 0\", \"NLL_min 1\"]].hist(bins =30)\n",
      "c0, d0 = np.histogram(fitDataMC[\"NLL_min 0\"], bins = 30)\n",
      "c1, d1 = np.histogram(fitDataMC[\"NLL_min 1\"], bins = 30)\n",
      "b0 = (d0[1:] + d0[:-1])/2\n",
      "b1 = (d1[1:] + d1[:-1])/2\n",
      "p00, pcov0 = curve_fit(chi29dof, b0, c0)\n",
      "p01, pcov1 = curve_fit(chi29dof, b1, c1)\n",
      "axarr[0][0].plot(b0, chi29dof(b0, *p00), label = \"chi^2(11dof)\")\n",
      "axarr[0][1].plot(b1, chi29dof(b1, *p01), label = \"chi^2(11dof)\")\n",
      "axarr[0][0].legend()\n",
      "axarr[0][0].set_xlabel(r'\\Chi ^{2}')\n",
      "axarr[0][1].legend()\n",
      "axarr[0][1].set_xlabel(r'\\Chi ^{2}')\n",
      "plt.show()"
     ],
     "language": "python",
     "metadata": {},
     "outputs": [],
     "prompt_number": 177
    },
    {
     "cell_type": "code",
     "collapsed": false,
     "input": [
      "axarr"
     ],
     "language": "python",
     "metadata": {},
     "outputs": [
      {
       "metadata": {},
       "output_type": "pyout",
       "prompt_number": 171,
       "text": [
        "array([[<matplotlib.axes._subplots.AxesSubplot object at 0x7f06d249b310>,\n",
        "        <matplotlib.axes._subplots.AxesSubplot object at 0x7f06d157a610>]],\n",
        "      dtype=object)"
       ]
      }
     ],
     "prompt_number": 171
    },
    {
     "cell_type": "code",
     "collapsed": false,
     "input": [
      "fitDataMC[\"z1\"].mean()"
     ],
     "language": "python",
     "metadata": {},
     "outputs": [
      {
       "metadata": {},
       "output_type": "pyout",
       "prompt_number": 154,
       "text": [
        "0.1368231927986057"
       ]
      }
     ],
     "prompt_number": 154
    },
    {
     "cell_type": "code",
     "collapsed": false,
     "input": [
      "np.sum(fitDataMC[\"fit success 2\"])\n"
     ],
     "language": "python",
     "metadata": {},
     "outputs": [
      {
       "metadata": {},
       "output_type": "pyout",
       "prompt_number": 148,
       "text": [
        "1000"
       ]
      }
     ],
     "prompt_number": 148
    },
    {
     "cell_type": "code",
     "collapsed": false,
     "input": [
      "fitData[\"time\"] = fitData.index.levels[0]\n",
      "fitData[[\"fit coefs 0\", \"fit coefs 1\"]] = np.real(fitData[[\"fit coefs 0\", \"fit coefs 1\"]])"
     ],
     "language": "python",
     "metadata": {},
     "outputs": [],
     "prompt_number": 287
    },
    {
     "cell_type": "code",
     "collapsed": false,
     "input": [],
     "language": "python",
     "metadata": {},
     "outputs": []
    },
    {
     "cell_type": "code",
     "collapsed": false,
     "input": [
      "errors = fitData[[\"sigmas 0\", \"sigmas 1\", \"time\"]]\n",
      "errors.columns = [\"fit coefs 0\", \"fit coefs 1\", \"time\"]\n",
      "errors[\"fit coefs 1\"] = np.array(errors[\"fit coefs 1\"], dtype = 'float')"
     ],
     "language": "python",
     "metadata": {},
     "outputs": [],
     "prompt_number": 264
    },
    {
     "cell_type": "code",
     "collapsed": false,
     "input": [
      "errors[:10]"
     ],
     "language": "python",
     "metadata": {},
     "outputs": [
      {
       "html": [
        "<div style=\"max-width:1500px;overflow:auto;\">\n",
        "<style scoped>\n",
        "    .dataframe tbody tr th:only-of-type {\n",
        "        vertical-align: middle;\n",
        "    }\n",
        "\n",
        "    .dataframe tbody tr th {\n",
        "        vertical-align: top;\n",
        "    }\n",
        "\n",
        "    .dataframe thead th {\n",
        "        text-align: right;\n",
        "    }\n",
        "</style>\n",
        "<table border=\"1\" class=\"dataframe\">\n",
        "  <thead>\n",
        "    <tr style=\"text-align: right;\">\n",
        "      <th></th>\n",
        "      <th></th>\n",
        "      <th>fit coefs 0</th>\n",
        "      <th>fit coefs 1</th>\n",
        "      <th>time</th>\n",
        "    </tr>\n",
        "  </thead>\n",
        "  <tbody>\n",
        "    <tr>\n",
        "      <th>0</th>\n",
        "      <th>48</th>\n",
        "      <td>9.989465e+09</td>\n",
        "      <td>6.594569e+08</td>\n",
        "      <td>0</td>\n",
        "    </tr>\n",
        "    <tr>\n",
        "      <th>1</th>\n",
        "      <th>48</th>\n",
        "      <td>1.013771e+10</td>\n",
        "      <td>1.951609e+10</td>\n",
        "      <td>1</td>\n",
        "    </tr>\n",
        "    <tr>\n",
        "      <th>2</th>\n",
        "      <th>48</th>\n",
        "      <td>1.028013e+10</td>\n",
        "      <td>2.281638e+10</td>\n",
        "      <td>2</td>\n",
        "    </tr>\n",
        "    <tr>\n",
        "      <th>3</th>\n",
        "      <th>48</th>\n",
        "      <td>9.228465e+09</td>\n",
        "      <td>2.081441e+10</td>\n",
        "      <td>3</td>\n",
        "    </tr>\n",
        "    <tr>\n",
        "      <th>4</th>\n",
        "      <th>48</th>\n",
        "      <td>9.805501e+09</td>\n",
        "      <td>4.605272e+08</td>\n",
        "      <td>4</td>\n",
        "    </tr>\n",
        "    <tr>\n",
        "      <th>5</th>\n",
        "      <th>48</th>\n",
        "      <td>8.862955e+09</td>\n",
        "      <td>2.130874e+10</td>\n",
        "      <td>5</td>\n",
        "    </tr>\n",
        "    <tr>\n",
        "      <th>6</th>\n",
        "      <th>48</th>\n",
        "      <td>1.030423e+10</td>\n",
        "      <td>2.340215e+10</td>\n",
        "      <td>6</td>\n",
        "    </tr>\n",
        "    <tr>\n",
        "      <th>7</th>\n",
        "      <th>48</th>\n",
        "      <td>8.435659e+09</td>\n",
        "      <td>2.075183e+10</td>\n",
        "      <td>7</td>\n",
        "    </tr>\n",
        "    <tr>\n",
        "      <th>8</th>\n",
        "      <th>48</th>\n",
        "      <td>9.273103e+09</td>\n",
        "      <td>2.264681e+10</td>\n",
        "      <td>8</td>\n",
        "    </tr>\n",
        "    <tr>\n",
        "      <th>9</th>\n",
        "      <th>48</th>\n",
        "      <td>9.004391e+09</td>\n",
        "      <td>2.229882e+10</td>\n",
        "      <td>9</td>\n",
        "    </tr>\n",
        "  </tbody>\n",
        "</table>\n",
        "</div>"
       ],
       "metadata": {},
       "output_type": "pyout",
       "prompt_number": 281,
       "text": [
        "       fit coefs 0   fit coefs 1  time\n",
        "0 48  9.989465e+09  6.594569e+08     0\n",
        "1 48  1.013771e+10  1.951609e+10     1\n",
        "2 48  1.028013e+10  2.281638e+10     2\n",
        "3 48  9.228465e+09  2.081441e+10     3\n",
        "4 48  9.805501e+09  4.605272e+08     4\n",
        "5 48  8.862955e+09  2.130874e+10     5\n",
        "6 48  1.030423e+10  2.340215e+10     6\n",
        "7 48  8.435659e+09  2.075183e+10     7\n",
        "8 48  9.273103e+09  2.264681e+10     8\n",
        "9 48  9.004391e+09  2.229882e+10     9"
       ]
      }
     ],
     "prompt_number": 281
    },
    {
     "cell_type": "code",
     "collapsed": false,
     "input": [
      "b0 = np.array(fitData[\"fit success 0\"])\n",
      "b1 = np.array(fitData[\"fit success 1\"])\n"
     ],
     "language": "python",
     "metadata": {},
     "outputs": [],
     "prompt_number": 293
    },
    {
     "cell_type": "code",
     "collapsed": false,
     "input": [
      "plt.errorbar(np.array(fitData[\"time\"])[b0], np.array(fitData[\"fit coefs 0\"])[b0], np.array(fitData[\"sigmas 0\"])[b0], label = \"component 0\", fmt = '.')\n",
      "plt.errorbar(np.array(fitData[\"time\"])[b1], np.array(fitData[\"fit coefs 1\"])[b1], np.array(fitData[\"sigmas 1\"])[b1], label = \"component 1\", fmt = '.')\n",
      "plt.xlabel(\"time[m]\")\n",
      "plt.ylabel(r\"$\\alpha$\")\n",
      "plt.legend()\n",
      "plt.show()"
     ],
     "language": "python",
     "metadata": {},
     "outputs": [
      {
       "ename": "NameError",
       "evalue": "name 'fitData' is not defined",
       "output_type": "pyerr",
       "traceback": [
        "\u001b[0;31m---------------------------------------------------------------------------\u001b[0m\n\u001b[0;31mNameError\u001b[0m                                 Traceback (most recent call last)",
        "\u001b[0;32m<ipython-input-126-bf1580333aeb>\u001b[0m in \u001b[0;36m<module>\u001b[0;34m()\u001b[0m\n\u001b[0;32m----> 1\u001b[0;31m \u001b[0mplt\u001b[0m\u001b[0;34m.\u001b[0m\u001b[0merrorbar\u001b[0m\u001b[0;34m(\u001b[0m\u001b[0mnp\u001b[0m\u001b[0;34m.\u001b[0m\u001b[0marray\u001b[0m\u001b[0;34m(\u001b[0m\u001b[0mfitData\u001b[0m\u001b[0;34m[\u001b[0m\u001b[0;34m\"time\"\u001b[0m\u001b[0;34m]\u001b[0m\u001b[0;34m)\u001b[0m\u001b[0;34m[\u001b[0m\u001b[0mb0\u001b[0m\u001b[0;34m]\u001b[0m\u001b[0;34m,\u001b[0m \u001b[0mnp\u001b[0m\u001b[0;34m.\u001b[0m\u001b[0marray\u001b[0m\u001b[0;34m(\u001b[0m\u001b[0mfitData\u001b[0m\u001b[0;34m[\u001b[0m\u001b[0;34m\"fit coefs 0\"\u001b[0m\u001b[0;34m]\u001b[0m\u001b[0;34m)\u001b[0m\u001b[0;34m[\u001b[0m\u001b[0mb0\u001b[0m\u001b[0;34m]\u001b[0m\u001b[0;34m,\u001b[0m \u001b[0mnp\u001b[0m\u001b[0;34m.\u001b[0m\u001b[0marray\u001b[0m\u001b[0;34m(\u001b[0m\u001b[0mfitData\u001b[0m\u001b[0;34m[\u001b[0m\u001b[0;34m\"sigmas 0\"\u001b[0m\u001b[0;34m]\u001b[0m\u001b[0;34m)\u001b[0m\u001b[0;34m[\u001b[0m\u001b[0mb0\u001b[0m\u001b[0;34m]\u001b[0m\u001b[0;34m,\u001b[0m \u001b[0mlabel\u001b[0m \u001b[0;34m=\u001b[0m \u001b[0;34m\"component 0\"\u001b[0m\u001b[0;34m,\u001b[0m \u001b[0mfmt\u001b[0m \u001b[0;34m=\u001b[0m \u001b[0;34m'.'\u001b[0m\u001b[0;34m)\u001b[0m\u001b[0;34m\u001b[0m\u001b[0m\n\u001b[0m\u001b[1;32m      2\u001b[0m \u001b[0mplt\u001b[0m\u001b[0;34m.\u001b[0m\u001b[0merrorbar\u001b[0m\u001b[0;34m(\u001b[0m\u001b[0mnp\u001b[0m\u001b[0;34m.\u001b[0m\u001b[0marray\u001b[0m\u001b[0;34m(\u001b[0m\u001b[0mfitData\u001b[0m\u001b[0;34m[\u001b[0m\u001b[0;34m\"time\"\u001b[0m\u001b[0;34m]\u001b[0m\u001b[0;34m)\u001b[0m\u001b[0;34m[\u001b[0m\u001b[0mb1\u001b[0m\u001b[0;34m]\u001b[0m\u001b[0;34m,\u001b[0m \u001b[0mnp\u001b[0m\u001b[0;34m.\u001b[0m\u001b[0marray\u001b[0m\u001b[0;34m(\u001b[0m\u001b[0mfitData\u001b[0m\u001b[0;34m[\u001b[0m\u001b[0;34m\"fit coefs 1\"\u001b[0m\u001b[0;34m]\u001b[0m\u001b[0;34m)\u001b[0m\u001b[0;34m[\u001b[0m\u001b[0mb1\u001b[0m\u001b[0;34m]\u001b[0m\u001b[0;34m,\u001b[0m \u001b[0mnp\u001b[0m\u001b[0;34m.\u001b[0m\u001b[0marray\u001b[0m\u001b[0;34m(\u001b[0m\u001b[0mfitData\u001b[0m\u001b[0;34m[\u001b[0m\u001b[0;34m\"sigmas 1\"\u001b[0m\u001b[0;34m]\u001b[0m\u001b[0;34m)\u001b[0m\u001b[0;34m[\u001b[0m\u001b[0mb1\u001b[0m\u001b[0;34m]\u001b[0m\u001b[0;34m,\u001b[0m \u001b[0mlabel\u001b[0m \u001b[0;34m=\u001b[0m \u001b[0;34m\"component 1\"\u001b[0m\u001b[0;34m,\u001b[0m \u001b[0mfmt\u001b[0m \u001b[0;34m=\u001b[0m \u001b[0;34m'.'\u001b[0m\u001b[0;34m)\u001b[0m\u001b[0;34m\u001b[0m\u001b[0m\n\u001b[1;32m      3\u001b[0m \u001b[0mplt\u001b[0m\u001b[0;34m.\u001b[0m\u001b[0mxlabel\u001b[0m\u001b[0;34m(\u001b[0m\u001b[0;34m\"time[m]\"\u001b[0m\u001b[0;34m)\u001b[0m\u001b[0;34m\u001b[0m\u001b[0m\n\u001b[1;32m      4\u001b[0m \u001b[0mplt\u001b[0m\u001b[0;34m.\u001b[0m\u001b[0mylabel\u001b[0m\u001b[0;34m(\u001b[0m\u001b[0;34mr\"$\\alpha$\"\u001b[0m\u001b[0;34m)\u001b[0m\u001b[0;34m\u001b[0m\u001b[0m\n\u001b[1;32m      5\u001b[0m \u001b[0mplt\u001b[0m\u001b[0;34m.\u001b[0m\u001b[0mlegend\u001b[0m\u001b[0;34m(\u001b[0m\u001b[0;34m)\u001b[0m\u001b[0;34m\u001b[0m\u001b[0m\n",
        "\u001b[0;31mNameError\u001b[0m: name 'fitData' is not defined"
       ]
      }
     ],
     "prompt_number": 126
    },
    {
     "cell_type": "code",
     "collapsed": false,
     "input": [
      "df1.plot(yerr = dfe, fmt = \"o\")\n",
      "plt.show()"
     ],
     "language": "python",
     "metadata": {},
     "outputs": [],
     "prompt_number": 273
    },
    {
     "cell_type": "code",
     "collapsed": false,
     "input": [
      "np.concatenate([[1], [2, 3]])"
     ],
     "language": "python",
     "metadata": {},
     "outputs": [
      {
       "metadata": {},
       "output_type": "pyout",
       "prompt_number": 154,
       "text": [
        "array([1, 2, 3])"
       ]
      }
     ],
     "prompt_number": 154
    },
    {
     "cell_type": "code",
     "collapsed": false,
     "input": [
      "sps = fitData[[\"fit coefs 0\", \"fit coefs 1\", \"fit coefs 2\"]].hist(bins = 100)"
     ],
     "language": "python",
     "metadata": {},
     "outputs": [],
     "prompt_number": 219
    },
    {
     "cell_type": "code",
     "collapsed": false,
     "input": [
      "for r in sps:\n",
      "    for s in r:\n",
      "        s.set_xlabel(r'$\\alpha$')\n",
      "        s.set_ylabel('count')\n",
      "plt.show()"
     ],
     "language": "python",
     "metadata": {},
     "outputs": [],
     "prompt_number": 220
    },
    {
     "cell_type": "code",
     "collapsed": false,
     "input": [],
     "language": "python",
     "metadata": {},
     "outputs": [],
     "prompt_number": 241
    },
    {
     "cell_type": "code",
     "collapsed": false,
     "input": [
      "\n",
      "fitData[[\"fit coefs 0\", \"fit coefs 1\", \"time\"]].plot(x = \"time\")\n",
      "plt.xlabel(\"time[m]\")\n",
      "plt.ylabel(r\"$\\alpha$\")\n",
      "plt.show()"
     ],
     "language": "python",
     "metadata": {},
     "outputs": [],
     "prompt_number": 246
    },
    {
     "cell_type": "code",
     "collapsed": false,
     "input": [
      "fitData[[\"fit coefs 2\", \"time\"]].plot(x = \"time\")\n",
      "plt.xlabel(\"time[m]\")\n",
      "plt.ylabel(r\"$\\alpha$\")\n",
      "plt.show()\n"
     ],
     "language": "python",
     "metadata": {},
     "outputs": [],
     "prompt_number": 247
    },
    {
     "cell_type": "code",
     "collapsed": false,
     "input": [
      "import dill as pickle\n"
     ],
     "language": "python",
     "metadata": {},
     "outputs": [],
     "prompt_number": 204
    },
    {
     "cell_type": "code",
     "collapsed": false,
     "input": [
      "pickle.dump(fitData, open('1s1h1temp_DataFrame.p', 'wb'))"
     ],
     "language": "python",
     "metadata": {},
     "outputs": [],
     "prompt_number": 205
    },
    {
     "cell_type": "code",
     "collapsed": false,
     "input": [
      "a1 = np.ones((2, 3, 11))"
     ],
     "language": "python",
     "metadata": {},
     "outputs": [],
     "prompt_number": 99
    },
    {
     "cell_type": "code",
     "collapsed": false,
     "input": [
      "a2 = np.concatenate((a1, a1), axis = -1)"
     ],
     "language": "python",
     "metadata": {},
     "outputs": [],
     "prompt_number": 100
    },
    {
     "cell_type": "code",
     "collapsed": false,
     "input": [
      "np.shape(a2)"
     ],
     "language": "python",
     "metadata": {},
     "outputs": [
      {
       "metadata": {},
       "output_type": "pyout",
       "prompt_number": 102,
       "text": [
        "(2, 3, 22)"
       ]
      }
     ],
     "prompt_number": 102
    },
    {
     "cell_type": "code",
     "collapsed": false,
     "input": [
      "dft[0:1]"
     ],
     "language": "python",
     "metadata": {},
     "outputs": [
      {
       "html": [
        "<div style=\"max-width:1500px;overflow:auto;\">\n",
        "<style scoped>\n",
        "    .dataframe tbody tr th:only-of-type {\n",
        "        vertical-align: middle;\n",
        "    }\n",
        "\n",
        "    .dataframe tbody tr th {\n",
        "        vertical-align: top;\n",
        "    }\n",
        "\n",
        "    .dataframe thead th {\n",
        "        text-align: right;\n",
        "    }\n",
        "</style>\n",
        "<table border=\"1\" class=\"dataframe\">\n",
        "  <thead>\n",
        "    <tr style=\"text-align: right;\">\n",
        "      <th></th>\n",
        "      <th>fit coefs 0</th>\n",
        "      <th>sigmas 0</th>\n",
        "      <th>fit success 0</th>\n",
        "      <th>fit coefs 1</th>\n",
        "      <th>sigmas 1</th>\n",
        "      <th>fit success 1</th>\n",
        "      <th>fit coefs 2</th>\n",
        "      <th>sigmas 2</th>\n",
        "      <th>fit success 2</th>\n",
        "    </tr>\n",
        "  </thead>\n",
        "  <tbody>\n",
        "    <tr>\n",
        "      <th>0</th>\n",
        "      <td>7.554165e-13</td>\n",
        "      <td>1.898625e-11</td>\n",
        "      <td>True</td>\n",
        "      <td>1.525931e-12</td>\n",
        "      <td>3.345189e-16</td>\n",
        "      <td>False</td>\n",
        "      <td>1.307866e-12</td>\n",
        "      <td>1.126014e-11</td>\n",
        "      <td>True</td>\n",
        "    </tr>\n",
        "  </tbody>\n",
        "</table>\n",
        "</div>"
       ],
       "metadata": {},
       "output_type": "pyout",
       "prompt_number": 163,
       "text": [
        "    fit coefs 0      sigmas 0      ...            sigmas 2  fit success 2\n",
        "0  7.554165e-13  1.898625e-11      ...        1.126014e-11           True\n",
        "\n",
        "[1 rows x 9 columns]"
       ]
      }
     ],
     "prompt_number": 163
    },
    {
     "cell_type": "code",
     "collapsed": false,
     "input": [
      "dft"
     ],
     "language": "python",
     "metadata": {},
     "outputs": [
      {
       "html": [
        "<div style=\"max-width:1500px;overflow:auto;\">\n",
        "<style scoped>\n",
        "    .dataframe tbody tr th:only-of-type {\n",
        "        vertical-align: middle;\n",
        "    }\n",
        "\n",
        "    .dataframe tbody tr th {\n",
        "        vertical-align: top;\n",
        "    }\n",
        "\n",
        "    .dataframe thead th {\n",
        "        text-align: right;\n",
        "    }\n",
        "</style>\n",
        "<table border=\"1\" class=\"dataframe\">\n",
        "  <thead>\n",
        "    <tr style=\"text-align: right;\">\n",
        "      <th></th>\n",
        "      <th>fit coefs 0</th>\n",
        "      <th>sigmas 0</th>\n",
        "      <th>fit success 0</th>\n",
        "      <th>fit coefs 1</th>\n",
        "      <th>sigmas 1</th>\n",
        "      <th>fit success 1</th>\n",
        "      <th>fit coefs 2</th>\n",
        "      <th>sigmas 2</th>\n",
        "      <th>fit success 2</th>\n",
        "    </tr>\n",
        "  </thead>\n",
        "  <tbody>\n",
        "    <tr>\n",
        "      <th>0.01</th>\n",
        "      <td>7.554165e-13</td>\n",
        "      <td>1.898625e-11</td>\n",
        "      <td>True</td>\n",
        "      <td>1.525931e-12</td>\n",
        "      <td>3.345189e-16</td>\n",
        "      <td>False</td>\n",
        "      <td>1.307866e-12</td>\n",
        "      <td>1.126014e-11</td>\n",
        "      <td>True</td>\n",
        "    </tr>\n",
        "    <tr>\n",
        "      <th>0.10</th>\n",
        "      <td>1.185882e-12</td>\n",
        "      <td>1.925338e-11</td>\n",
        "      <td>True</td>\n",
        "      <td>3.056735e-12</td>\n",
        "      <td>2.541211e-11</td>\n",
        "      <td>True</td>\n",
        "      <td>-2.887135e-12</td>\n",
        "      <td>1.008300e-11</td>\n",
        "      <td>True</td>\n",
        "    </tr>\n",
        "  </tbody>\n",
        "</table>\n",
        "</div>"
       ],
       "metadata": {},
       "output_type": "pyout",
       "prompt_number": 171,
       "text": [
        "       fit coefs 0      sigmas 0      ...            sigmas 2  fit success 2\n",
        "0.01  7.554165e-13  1.898625e-11      ...        1.126014e-11           True\n",
        "0.10  1.185882e-12  1.925338e-11      ...        1.008300e-11           True\n",
        "\n",
        "[2 rows x 9 columns]"
       ]
      }
     ],
     "prompt_number": 171
    },
    {
     "cell_type": "code",
     "collapsed": false,
     "input": [
      "df1[\"lambda\"] = pd.Series([0.001], index = df1.index)"
     ],
     "language": "python",
     "metadata": {},
     "outputs": [],
     "prompt_number": 173
    },
    {
     "cell_type": "code",
     "collapsed": false,
     "input": [
      "df1"
     ],
     "language": "python",
     "metadata": {},
     "outputs": [
      {
       "html": [
        "<div style=\"max-width:1500px;overflow:auto;\">\n",
        "<style scoped>\n",
        "    .dataframe tbody tr th:only-of-type {\n",
        "        vertical-align: middle;\n",
        "    }\n",
        "\n",
        "    .dataframe tbody tr th {\n",
        "        vertical-align: top;\n",
        "    }\n",
        "\n",
        "    .dataframe thead th {\n",
        "        text-align: right;\n",
        "    }\n",
        "</style>\n",
        "<table border=\"1\" class=\"dataframe\">\n",
        "  <thead>\n",
        "    <tr style=\"text-align: right;\">\n",
        "      <th></th>\n",
        "      <th>fit coefs 0</th>\n",
        "      <th>sigmas 0</th>\n",
        "      <th>fit success 0</th>\n",
        "      <th>fit coefs 1</th>\n",
        "      <th>sigmas 1</th>\n",
        "      <th>fit success 1</th>\n",
        "      <th>fit coefs 2</th>\n",
        "      <th>sigmas 2</th>\n",
        "      <th>fit success 2</th>\n",
        "      <th>lambda</th>\n",
        "    </tr>\n",
        "  </thead>\n",
        "  <tbody>\n",
        "    <tr>\n",
        "      <th>0.1</th>\n",
        "      <td>1.185882e-12</td>\n",
        "      <td>1.925338e-11</td>\n",
        "      <td>True</td>\n",
        "      <td>3.056735e-12</td>\n",
        "      <td>2.541211e-11</td>\n",
        "      <td>True</td>\n",
        "      <td>-2.887135e-12</td>\n",
        "      <td>1.008300e-11</td>\n",
        "      <td>True</td>\n",
        "      <td>0.001</td>\n",
        "    </tr>\n",
        "  </tbody>\n",
        "</table>\n",
        "</div>"
       ],
       "metadata": {},
       "output_type": "pyout",
       "prompt_number": 174,
       "text": [
        "      fit coefs 0      sigmas 0   ...    fit success 2  lambda\n",
        "0.1  1.185882e-12  1.925338e-11   ...             True   0.001\n",
        "\n",
        "[1 rows x 10 columns]"
       ]
      }
     ],
     "prompt_number": 174
    },
    {
     "cell_type": "code",
     "collapsed": false,
     "input": [
      "ind = [[1], [2]]\n",
      "df1.index = ind"
     ],
     "language": "python",
     "metadata": {},
     "outputs": [],
     "prompt_number": 175
    },
    {
     "cell_type": "code",
     "collapsed": false,
     "input": [
      "df1"
     ],
     "language": "python",
     "metadata": {},
     "outputs": [
      {
       "html": [
        "<div style=\"max-width:1500px;overflow:auto;\">\n",
        "<style scoped>\n",
        "    .dataframe tbody tr th:only-of-type {\n",
        "        vertical-align: middle;\n",
        "    }\n",
        "\n",
        "    .dataframe tbody tr th {\n",
        "        vertical-align: top;\n",
        "    }\n",
        "\n",
        "    .dataframe thead th {\n",
        "        text-align: right;\n",
        "    }\n",
        "</style>\n",
        "<table border=\"1\" class=\"dataframe\">\n",
        "  <thead>\n",
        "    <tr style=\"text-align: right;\">\n",
        "      <th></th>\n",
        "      <th></th>\n",
        "      <th>fit coefs 0</th>\n",
        "      <th>sigmas 0</th>\n",
        "      <th>fit success 0</th>\n",
        "      <th>fit coefs 1</th>\n",
        "      <th>sigmas 1</th>\n",
        "      <th>fit success 1</th>\n",
        "      <th>fit coefs 2</th>\n",
        "      <th>sigmas 2</th>\n",
        "      <th>fit success 2</th>\n",
        "      <th>lambda</th>\n",
        "    </tr>\n",
        "  </thead>\n",
        "  <tbody>\n",
        "    <tr>\n",
        "      <th>1</th>\n",
        "      <th>2</th>\n",
        "      <td>1.185882e-12</td>\n",
        "      <td>1.925338e-11</td>\n",
        "      <td>True</td>\n",
        "      <td>3.056735e-12</td>\n",
        "      <td>2.541211e-11</td>\n",
        "      <td>True</td>\n",
        "      <td>-2.887135e-12</td>\n",
        "      <td>1.008300e-11</td>\n",
        "      <td>True</td>\n",
        "      <td>0.001</td>\n",
        "    </tr>\n",
        "  </tbody>\n",
        "</table>\n",
        "</div>"
       ],
       "metadata": {},
       "output_type": "pyout",
       "prompt_number": 176,
       "text": [
        "      fit coefs 0      sigmas 0   ...    fit success 2  lambda\n",
        "1 2  1.185882e-12  1.925338e-11   ...             True   0.001\n",
        "\n",
        "[1 rows x 10 columns]"
       ]
      }
     ],
     "prompt_number": 176
    },
    {
     "cell_type": "code",
     "collapsed": false,
     "input": [
      "df0.append(df1)"
     ],
     "language": "python",
     "metadata": {},
     "outputs": [
      {
       "html": [
        "<div style=\"max-width:1500px;overflow:auto;\">\n",
        "<style scoped>\n",
        "    .dataframe tbody tr th:only-of-type {\n",
        "        vertical-align: middle;\n",
        "    }\n",
        "\n",
        "    .dataframe tbody tr th {\n",
        "        vertical-align: top;\n",
        "    }\n",
        "\n",
        "    .dataframe thead th {\n",
        "        text-align: right;\n",
        "    }\n",
        "</style>\n",
        "<table border=\"1\" class=\"dataframe\">\n",
        "  <thead>\n",
        "    <tr style=\"text-align: right;\">\n",
        "      <th></th>\n",
        "      <th>fit coefs 0</th>\n",
        "      <th>fit coefs 1</th>\n",
        "      <th>fit coefs 2</th>\n",
        "      <th>fit success 0</th>\n",
        "      <th>fit success 1</th>\n",
        "      <th>fit success 2</th>\n",
        "      <th>lambda</th>\n",
        "      <th>sigmas 0</th>\n",
        "      <th>sigmas 1</th>\n",
        "      <th>sigmas 2</th>\n",
        "    </tr>\n",
        "  </thead>\n",
        "  <tbody>\n",
        "    <tr>\n",
        "      <th>0</th>\n",
        "      <td>1.185882e-12</td>\n",
        "      <td>3.056735e-12</td>\n",
        "      <td>-2.887135e-12</td>\n",
        "      <td>True</td>\n",
        "      <td>True</td>\n",
        "      <td>True</td>\n",
        "      <td>NaN</td>\n",
        "      <td>1.925338e-11</td>\n",
        "      <td>2.541211e-11</td>\n",
        "      <td>1.008300e-11</td>\n",
        "    </tr>\n",
        "    <tr>\n",
        "      <th>(1, 2)</th>\n",
        "      <td>1.185882e-12</td>\n",
        "      <td>3.056735e-12</td>\n",
        "      <td>-2.887135e-12</td>\n",
        "      <td>True</td>\n",
        "      <td>True</td>\n",
        "      <td>True</td>\n",
        "      <td>0.001</td>\n",
        "      <td>1.925338e-11</td>\n",
        "      <td>2.541211e-11</td>\n",
        "      <td>1.008300e-11</td>\n",
        "    </tr>\n",
        "  </tbody>\n",
        "</table>\n",
        "</div>"
       ],
       "metadata": {},
       "output_type": "pyout",
       "prompt_number": 179,
       "text": [
        "         fit coefs 0   fit coefs 1      ...           sigmas 1      sigmas 2\n",
        "0       1.185882e-12  3.056735e-12      ...       2.541211e-11  1.008300e-11\n",
        "(1, 2)  1.185882e-12  3.056735e-12      ...       2.541211e-11  1.008300e-11\n",
        "\n",
        "[2 rows x 10 columns]"
       ]
      }
     ],
     "prompt_number": 179
    },
    {
     "cell_type": "code",
     "collapsed": false,
     "input": [
      "df0"
     ],
     "language": "python",
     "metadata": {},
     "outputs": [
      {
       "html": [
        "<div style=\"max-width:1500px;overflow:auto;\">\n",
        "<style scoped>\n",
        "    .dataframe tbody tr th:only-of-type {\n",
        "        vertical-align: middle;\n",
        "    }\n",
        "\n",
        "    .dataframe tbody tr th {\n",
        "        vertical-align: top;\n",
        "    }\n",
        "\n",
        "    .dataframe thead th {\n",
        "        text-align: right;\n",
        "    }\n",
        "</style>\n",
        "<table border=\"1\" class=\"dataframe\">\n",
        "  <thead>\n",
        "    <tr style=\"text-align: right;\">\n",
        "      <th></th>\n",
        "      <th>fit coefs 0</th>\n",
        "      <th>sigmas 0</th>\n",
        "      <th>fit success 0</th>\n",
        "      <th>fit coefs 1</th>\n",
        "      <th>sigmas 1</th>\n",
        "      <th>fit success 1</th>\n",
        "      <th>fit coefs 2</th>\n",
        "      <th>sigmas 2</th>\n",
        "      <th>fit success 2</th>\n",
        "    </tr>\n",
        "  </thead>\n",
        "  <tbody>\n",
        "    <tr>\n",
        "      <th>0</th>\n",
        "      <td>1.185882e-12</td>\n",
        "      <td>1.925338e-11</td>\n",
        "      <td>True</td>\n",
        "      <td>3.056735e-12</td>\n",
        "      <td>2.541211e-11</td>\n",
        "      <td>True</td>\n",
        "      <td>-2.887135e-12</td>\n",
        "      <td>1.008300e-11</td>\n",
        "      <td>True</td>\n",
        "    </tr>\n",
        "  </tbody>\n",
        "</table>\n",
        "</div>"
       ],
       "metadata": {},
       "output_type": "pyout",
       "prompt_number": 180,
       "text": [
        "    fit coefs 0      sigmas 0      ...            sigmas 2  fit success 2\n",
        "0  1.185882e-12  1.925338e-11      ...        1.008300e-11           True\n",
        "\n",
        "[1 rows x 9 columns]"
       ]
      }
     ],
     "prompt_number": 180
    },
    {
     "cell_type": "code",
     "collapsed": false,
     "input": [
      "dfr = pd.DataFrame(np.random.randn(1000, 4), columns = [\"foo\", \"bar\", \"baz\", \"zap\"])"
     ],
     "language": "python",
     "metadata": {},
     "outputs": [],
     "prompt_number": 299
    },
    {
     "cell_type": "code",
     "collapsed": false,
     "input": [
      "dfr.hist(bins = 30)"
     ],
     "language": "python",
     "metadata": {},
     "outputs": [
      {
       "metadata": {},
       "output_type": "pyout",
       "prompt_number": 300,
       "text": [
        "array([[<matplotlib.axes._subplots.AxesSubplot object at 0x7fe3f5a0b890>,\n",
        "        <matplotlib.axes._subplots.AxesSubplot object at 0x7fe3f61ac8d0>],\n",
        "       [<matplotlib.axes._subplots.AxesSubplot object at 0x7fe3f5f430d0>,\n",
        "        <matplotlib.axes._subplots.AxesSubplot object at 0x7fe3f5a47810>]],\n",
        "      dtype=object)"
       ]
      }
     ],
     "prompt_number": 300
    },
    {
     "cell_type": "code",
     "collapsed": false,
     "input": [
      "plt.show()"
     ],
     "language": "python",
     "metadata": {},
     "outputs": [],
     "prompt_number": 301
    },
    {
     "cell_type": "code",
     "collapsed": false,
     "input": [
      "df = pd.DataFrame(np.random.randn(100, 4), columns = [\"foo\", \"bar\", \"baz\", \"zap\"])"
     ],
     "language": "python",
     "metadata": {},
     "outputs": [],
     "prompt_number": 42
    },
    {
     "cell_type": "code",
     "collapsed": false,
     "input": [
      "df[\"time\"] = np.arange(100)\n",
      "df.plot(x = \"time\")\n",
      "plt.xlabel(\"time\")\n",
      "plt.ylabel(\"shit level\")\n",
      "plt.show()\n"
     ],
     "language": "python",
     "metadata": {},
     "outputs": [],
     "prompt_number": 48
    },
    {
     "cell_type": "code",
     "collapsed": false,
     "input": [
      "from scipy.stats import chi2"
     ],
     "language": "python",
     "metadata": {},
     "outputs": [],
     "prompt_number": 156
    },
    {
     "cell_type": "code",
     "collapsed": false,
     "input": [
      "x = np.arange(0, 100, 0.1)\n",
      "plt.plot(x, chi2.pdf(x, 9))\n",
      "plt.show()"
     ],
     "language": "python",
     "metadata": {},
     "outputs": [],
     "prompt_number": 161
    },
    {
     "cell_type": "code",
     "collapsed": false,
     "input": [
      "r = np.arange(11)\n",
      "t2 = np.array([r, r, r])"
     ],
     "language": "python",
     "metadata": {},
     "outputs": [],
     "prompt_number": 234
    },
    {
     "cell_type": "code",
     "collapsed": false,
     "input": [
      "br_temps = [np.ones((3, 11)), 1.j*np.ones((3, 11)), t2, 1.j*t2]"
     ],
     "language": "python",
     "metadata": {},
     "outputs": [],
     "prompt_number": 235
    },
    {
     "cell_type": "code",
     "collapsed": false,
     "input": [
      "reload(gu2)\n",
      "Nf = 1000\n",
      "#AD3 = gu2.AggregateData(datafiles[:Nf])\n",
      "#AD3.load_grav_funcs(theory_data_dir)\n",
      "\n",
      "fitData_real = AD3.AggregateDataMC(br_temps = br_temps, white_noise = False, same_noise = False, n_fake = 0)"
     ],
     "language": "python",
     "metadata": {},
     "outputs": [
      {
       "output_type": "stream",
       "stream": "stdout",
       "text": [
        "[-----------------------------------------]   0.0% ... Fitting Alpha vs. Time\r"
       ]
      },
      {
       "output_type": "stream",
       "stream": "stdout",
       "text": [
        "[-----------------------------------------]   0.1% ... Fitting Alpha vs. Time\r"
       ]
      },
      {
       "output_type": "stream",
       "stream": "stdout",
       "text": [
        "[-----------------------------------------]   0.2% ... Fitting Alpha vs. Time\r"
       ]
      },
      {
       "output_type": "stream",
       "stream": "stdout",
       "text": [
        "[-----------------------------------------]   0.3% ... Fitting Alpha vs. Time\r"
       ]
      },
      {
       "output_type": "stream",
       "stream": "stdout",
       "text": [
        "[-----------------------------------------]   0.4% ... Fitting Alpha vs. Time\r"
       ]
      },
      {
       "output_type": "stream",
       "stream": "stdout",
       "text": [
        "[-----------------------------------------]   0.5% ... Fitting Alpha vs. Time\r"
       ]
      },
      {
       "output_type": "stream",
       "stream": "stdout",
       "text": [
        "[-----------------------------------------]   0.6% ... Fitting Alpha vs. Time\r"
       ]
      },
      {
       "output_type": "stream",
       "stream": "stdout",
       "text": [
        "[-----------------------------------------]   0.7% ... Fitting Alpha vs. Time\r"
       ]
      },
      {
       "output_type": "stream",
       "stream": "stdout",
       "text": [
        "[-----------------------------------------]   0.8% ... Fitting Alpha vs. Time\r"
       ]
      },
      {
       "output_type": "stream",
       "stream": "stdout",
       "text": [
        "[-----------------------------------------]   0.9% ... Fitting Alpha vs. Time\r"
       ]
      },
      {
       "output_type": "stream",
       "stream": "stdout",
       "text": [
        "[-----------------------------------------]   1.0% ... Fitting Alpha vs. Time\r"
       ]
      },
      {
       "output_type": "stream",
       "stream": "stdout",
       "text": [
        "[-----------------------------------------]   1.1% ... Fitting Alpha vs. Time\r"
       ]
      },
      {
       "output_type": "stream",
       "stream": "stdout",
       "text": [
        "[-----------------------------------------]   1.2% ... Fitting Alpha vs. Time\r"
       ]
      },
      {
       "output_type": "stream",
       "stream": "stdout",
       "text": [
        "[#----------------------------------------]   1.3% ... Fitting Alpha vs. Time\r"
       ]
      },
      {
       "output_type": "stream",
       "stream": "stdout",
       "text": [
        "[#----------------------------------------]   1.4% ... Fitting Alpha vs. Time\r"
       ]
      },
      {
       "output_type": "stream",
       "stream": "stdout",
       "text": [
        "[#----------------------------------------]   1.5% ... Fitting Alpha vs. Time\r"
       ]
      },
      {
       "output_type": "stream",
       "stream": "stdout",
       "text": [
        "[#----------------------------------------]   1.6% ... Fitting Alpha vs. Time\r"
       ]
      },
      {
       "output_type": "stream",
       "stream": "stdout",
       "text": [
        "[#----------------------------------------]   1.7% ... Fitting Alpha vs. Time\r"
       ]
      },
      {
       "output_type": "stream",
       "stream": "stdout",
       "text": [
        "[#----------------------------------------]   1.8% ... Fitting Alpha vs. Time\r"
       ]
      },
      {
       "output_type": "stream",
       "stream": "stdout",
       "text": [
        "[#----------------------------------------]   1.9% ... Fitting Alpha vs. Time\r"
       ]
      },
      {
       "output_type": "stream",
       "stream": "stdout",
       "text": [
        "[#----------------------------------------]   2.0% ... Fitting Alpha vs. Time\r"
       ]
      },
      {
       "output_type": "stream",
       "stream": "stdout",
       "text": [
        "[#----------------------------------------]   2.1% ... Fitting Alpha vs. Time\r"
       ]
      },
      {
       "output_type": "stream",
       "stream": "stdout",
       "text": [
        "[#----------------------------------------]   2.2% ... Fitting Alpha vs. Time\r"
       ]
      },
      {
       "output_type": "stream",
       "stream": "stdout",
       "text": [
        "[#----------------------------------------]   2.3% ... Fitting Alpha vs. Time\r"
       ]
      },
      {
       "output_type": "stream",
       "stream": "stdout",
       "text": [
        "[#----------------------------------------]   2.4% ... Fitting Alpha vs. Time\r"
       ]
      },
      {
       "output_type": "stream",
       "stream": "stdout",
       "text": [
        "[#----------------------------------------]   2.5% ... Fitting Alpha vs. Time\r"
       ]
      },
      {
       "output_type": "stream",
       "stream": "stdout",
       "text": [
        "[#----------------------------------------]   2.6% ... Fitting Alpha vs. Time\r"
       ]
      },
      {
       "output_type": "stream",
       "stream": "stdout",
       "text": [
        "[#----------------------------------------]   2.7% ... Fitting Alpha vs. Time\r"
       ]
      },
      {
       "output_type": "stream",
       "stream": "stdout",
       "text": [
        "[#----------------------------------------]   2.8% ... Fitting Alpha vs. Time\r"
       ]
      },
      {
       "output_type": "stream",
       "stream": "stdout",
       "text": [
        "[#----------------------------------------]   2.9% ... Fitting Alpha vs. Time\r"
       ]
      },
      {
       "output_type": "stream",
       "stream": "stdout",
       "text": [
        "[#----------------------------------------]   3.0% ... Fitting Alpha vs. Time\r"
       ]
      },
      {
       "output_type": "stream",
       "stream": "stdout",
       "text": [
        "[#----------------------------------------]   3.1% ... Fitting Alpha vs. Time\r"
       ]
      },
      {
       "output_type": "stream",
       "stream": "stdout",
       "text": [
        "[#----------------------------------------]   3.2% ... Fitting Alpha vs. Time\r"
       ]
      },
      {
       "output_type": "stream",
       "stream": "stdout",
       "text": [
        "[#----------------------------------------]   3.3% ... Fitting Alpha vs. Time\r"
       ]
      },
      {
       "output_type": "stream",
       "stream": "stdout",
       "text": [
        "[#----------------------------------------]   3.4% ... Fitting Alpha vs. Time\r"
       ]
      },
      {
       "output_type": "stream",
       "stream": "stdout",
       "text": [
        "[#----------------------------------------]   3.5% ... Fitting Alpha vs. Time\r"
       ]
      },
      {
       "output_type": "stream",
       "stream": "stdout",
       "text": [
        "[#----------------------------------------]   3.6% ... Fitting Alpha vs. Time\r"
       ]
      },
      {
       "output_type": "stream",
       "stream": "stdout",
       "text": [
        "[##---------------------------------------]   3.7% ... Fitting Alpha vs. Time\r"
       ]
      },
      {
       "output_type": "stream",
       "stream": "stdout",
       "text": [
        "[##---------------------------------------]   3.8% ... Fitting Alpha vs. Time\r"
       ]
      },
      {
       "output_type": "stream",
       "stream": "stdout",
       "text": [
        "[##---------------------------------------]   3.9% ... Fitting Alpha vs. Time\r"
       ]
      },
      {
       "output_type": "stream",
       "stream": "stdout",
       "text": [
        "[##---------------------------------------]   4.0% ... Fitting Alpha vs. Time\r"
       ]
      },
      {
       "output_type": "stream",
       "stream": "stdout",
       "text": [
        "[##---------------------------------------]   4.1% ... Fitting Alpha vs. Time\r"
       ]
      },
      {
       "output_type": "stream",
       "stream": "stdout",
       "text": [
        "[##---------------------------------------]   4.2% ... Fitting Alpha vs. Time\r"
       ]
      },
      {
       "output_type": "stream",
       "stream": "stdout",
       "text": [
        "[##---------------------------------------]   4.3% ... Fitting Alpha vs. Time\r"
       ]
      },
      {
       "output_type": "stream",
       "stream": "stdout",
       "text": [
        "[##---------------------------------------]   4.4% ... Fitting Alpha vs. Time\r"
       ]
      },
      {
       "output_type": "stream",
       "stream": "stdout",
       "text": [
        "[##---------------------------------------]   4.5% ... Fitting Alpha vs. Time\r"
       ]
      },
      {
       "output_type": "stream",
       "stream": "stdout",
       "text": [
        "[##---------------------------------------]   4.6% ... Fitting Alpha vs. Time\r"
       ]
      },
      {
       "output_type": "stream",
       "stream": "stdout",
       "text": [
        "[##---------------------------------------]   4.7% ... Fitting Alpha vs. Time\r"
       ]
      },
      {
       "output_type": "stream",
       "stream": "stdout",
       "text": [
        "[##---------------------------------------]   4.8% ... Fitting Alpha vs. Time\r"
       ]
      },
      {
       "output_type": "stream",
       "stream": "stdout",
       "text": [
        "[##---------------------------------------]   4.9% ... Fitting Alpha vs. Time\r"
       ]
      },
      {
       "output_type": "stream",
       "stream": "stdout",
       "text": [
        "[##---------------------------------------]   5.0% ... Fitting Alpha vs. Time\r"
       ]
      },
      {
       "output_type": "stream",
       "stream": "stdout",
       "text": [
        "[##---------------------------------------]   5.1% ... Fitting Alpha vs. Time\r"
       ]
      },
      {
       "output_type": "stream",
       "stream": "stdout",
       "text": [
        "[##---------------------------------------]   5.2% ... Fitting Alpha vs. Time\r"
       ]
      },
      {
       "output_type": "stream",
       "stream": "stdout",
       "text": [
        "[##---------------------------------------]   5.3% ... Fitting Alpha vs. Time\r"
       ]
      },
      {
       "output_type": "stream",
       "stream": "stdout",
       "text": [
        "[##---------------------------------------]   5.4% ... Fitting Alpha vs. Time\r"
       ]
      },
      {
       "output_type": "stream",
       "stream": "stdout",
       "text": [
        "[##---------------------------------------]   5.5% ... Fitting Alpha vs. Time\r"
       ]
      },
      {
       "output_type": "stream",
       "stream": "stdout",
       "text": [
        "[##---------------------------------------]   5.6% ... Fitting Alpha vs. Time\r"
       ]
      },
      {
       "output_type": "stream",
       "stream": "stdout",
       "text": [
        "[##---------------------------------------]   5.7% ... Fitting Alpha vs. Time\r"
       ]
      },
      {
       "output_type": "stream",
       "stream": "stdout",
       "text": [
        "[##---------------------------------------]   5.8% ... Fitting Alpha vs. Time\r"
       ]
      },
      {
       "output_type": "stream",
       "stream": "stdout",
       "text": [
        "[##---------------------------------------]   5.9% ... Fitting Alpha vs. Time\r"
       ]
      },
      {
       "output_type": "stream",
       "stream": "stdout",
       "text": [
        "[##---------------------------------------]   6.0% ... Fitting Alpha vs. Time\r"
       ]
      },
      {
       "output_type": "stream",
       "stream": "stdout",
       "text": [
        "[###--------------------------------------]   6.1% ... Fitting Alpha vs. Time\r"
       ]
      },
      {
       "output_type": "stream",
       "stream": "stdout",
       "text": [
        "[###--------------------------------------]   6.2% ... Fitting Alpha vs. Time\r"
       ]
      },
      {
       "output_type": "stream",
       "stream": "stdout",
       "text": [
        "[###--------------------------------------]   6.3% ... Fitting Alpha vs. Time\r"
       ]
      },
      {
       "output_type": "stream",
       "stream": "stdout",
       "text": [
        "[###--------------------------------------]   6.4% ... Fitting Alpha vs. Time\r"
       ]
      },
      {
       "output_type": "stream",
       "stream": "stdout",
       "text": [
        "[###--------------------------------------]   6.5% ... Fitting Alpha vs. Time\r"
       ]
      },
      {
       "output_type": "stream",
       "stream": "stdout",
       "text": [
        "[###--------------------------------------]   6.6% ... Fitting Alpha vs. Time\r"
       ]
      },
      {
       "output_type": "stream",
       "stream": "stdout",
       "text": [
        "[###--------------------------------------]   6.7% ... Fitting Alpha vs. Time\r"
       ]
      },
      {
       "output_type": "stream",
       "stream": "stdout",
       "text": [
        "[###--------------------------------------]   6.8% ... Fitting Alpha vs. Time\r"
       ]
      },
      {
       "output_type": "stream",
       "stream": "stdout",
       "text": [
        "[###--------------------------------------]   6.9% ... Fitting Alpha vs. Time\r"
       ]
      },
      {
       "output_type": "stream",
       "stream": "stdout",
       "text": [
        "[###--------------------------------------]   7.0% ... Fitting Alpha vs. Time\r"
       ]
      },
      {
       "output_type": "stream",
       "stream": "stdout",
       "text": [
        "[###--------------------------------------]   7.1% ... Fitting Alpha vs. Time\r"
       ]
      },
      {
       "output_type": "stream",
       "stream": "stdout",
       "text": [
        "[###--------------------------------------]   7.2% ... Fitting Alpha vs. Time\r"
       ]
      },
      {
       "output_type": "stream",
       "stream": "stdout",
       "text": [
        "[###--------------------------------------]   7.3% ... Fitting Alpha vs. Time\r"
       ]
      },
      {
       "output_type": "stream",
       "stream": "stdout",
       "text": [
        "[###--------------------------------------]   7.4% ... Fitting Alpha vs. Time\r"
       ]
      },
      {
       "output_type": "stream",
       "stream": "stdout",
       "text": [
        "[###--------------------------------------]   7.5% ... Fitting Alpha vs. Time\r"
       ]
      },
      {
       "output_type": "stream",
       "stream": "stdout",
       "text": [
        "[###--------------------------------------]   7.6% ... Fitting Alpha vs. Time\r"
       ]
      },
      {
       "output_type": "stream",
       "stream": "stdout",
       "text": [
        "[###--------------------------------------]   7.7% ... Fitting Alpha vs. Time\r"
       ]
      },
      {
       "output_type": "stream",
       "stream": "stdout",
       "text": [
        "[###--------------------------------------]   7.8% ... Fitting Alpha vs. Time\r"
       ]
      },
      {
       "output_type": "stream",
       "stream": "stdout",
       "text": [
        "[###--------------------------------------]   7.9% ... Fitting Alpha vs. Time\r"
       ]
      },
      {
       "output_type": "stream",
       "stream": "stdout",
       "text": [
        "[###--------------------------------------]   8.0% ... Fitting Alpha vs. Time\r"
       ]
      },
      {
       "output_type": "stream",
       "stream": "stdout",
       "text": [
        "[###--------------------------------------]   8.1% ... Fitting Alpha vs. Time\r"
       ]
      },
      {
       "output_type": "stream",
       "stream": "stdout",
       "text": [
        "[###--------------------------------------]   8.2% ... Fitting Alpha vs. Time\r"
       ]
      },
      {
       "output_type": "stream",
       "stream": "stdout",
       "text": [
        "[###--------------------------------------]   8.3% ... Fitting Alpha vs. Time\r"
       ]
      },
      {
       "output_type": "stream",
       "stream": "stdout",
       "text": [
        "[###--------------------------------------]   8.4% ... Fitting Alpha vs. Time\r"
       ]
      },
      {
       "output_type": "stream",
       "stream": "stdout",
       "text": [
        "[###--------------------------------------]   8.5% ... Fitting Alpha vs. Time\r"
       ]
      },
      {
       "output_type": "stream",
       "stream": "stdout",
       "text": [
        "[####-------------------------------------]   8.6% ... Fitting Alpha vs. Time\r"
       ]
      },
      {
       "output_type": "stream",
       "stream": "stdout",
       "text": [
        "[####-------------------------------------]   8.7% ... Fitting Alpha vs. Time\r"
       ]
      },
      {
       "output_type": "stream",
       "stream": "stdout",
       "text": [
        "[####-------------------------------------]   8.8% ... Fitting Alpha vs. Time\r"
       ]
      },
      {
       "output_type": "stream",
       "stream": "stdout",
       "text": [
        "[####-------------------------------------]   8.9% ... Fitting Alpha vs. Time\r"
       ]
      },
      {
       "output_type": "stream",
       "stream": "stdout",
       "text": [
        "[####-------------------------------------]   9.0% ... Fitting Alpha vs. Time\r"
       ]
      },
      {
       "output_type": "stream",
       "stream": "stdout",
       "text": [
        "[####-------------------------------------]   9.1% ... Fitting Alpha vs. Time\r"
       ]
      },
      {
       "output_type": "stream",
       "stream": "stdout",
       "text": [
        "[####-------------------------------------]   9.2% ... Fitting Alpha vs. Time\r"
       ]
      },
      {
       "output_type": "stream",
       "stream": "stdout",
       "text": [
        "[####-------------------------------------]   9.3% ... Fitting Alpha vs. Time\r"
       ]
      },
      {
       "output_type": "stream",
       "stream": "stdout",
       "text": [
        "[####-------------------------------------]   9.4% ... Fitting Alpha vs. Time\r"
       ]
      },
      {
       "output_type": "stream",
       "stream": "stdout",
       "text": [
        "[####-------------------------------------]   9.5% ... Fitting Alpha vs. Time\r"
       ]
      },
      {
       "output_type": "stream",
       "stream": "stdout",
       "text": [
        "[####-------------------------------------]   9.6% ... Fitting Alpha vs. Time\r"
       ]
      },
      {
       "output_type": "stream",
       "stream": "stdout",
       "text": [
        "[####-------------------------------------]   9.7% ... Fitting Alpha vs. Time\r"
       ]
      },
      {
       "output_type": "stream",
       "stream": "stdout",
       "text": [
        "[####-------------------------------------]   9.8% ... Fitting Alpha vs. Time\r"
       ]
      },
      {
       "output_type": "stream",
       "stream": "stdout",
       "text": [
        "[####-------------------------------------]   9.9% ... Fitting Alpha vs. Time\r"
       ]
      },
      {
       "output_type": "stream",
       "stream": "stdout",
       "text": [
        "[####-------------------------------------]  10.0% ... Fitting Alpha vs. Time\r"
       ]
      },
      {
       "output_type": "stream",
       "stream": "stdout",
       "text": [
        "[####-------------------------------------]  10.1% ... Fitting Alpha vs. Time\r"
       ]
      },
      {
       "output_type": "stream",
       "stream": "stdout",
       "text": [
        "[####-------------------------------------]  10.2% ... Fitting Alpha vs. Time\r"
       ]
      },
      {
       "output_type": "stream",
       "stream": "stdout",
       "text": [
        "[####-------------------------------------]  10.3% ... Fitting Alpha vs. Time\r"
       ]
      },
      {
       "output_type": "stream",
       "stream": "stdout",
       "text": [
        "[####-------------------------------------]  10.4% ... Fitting Alpha vs. Time\r"
       ]
      },
      {
       "output_type": "stream",
       "stream": "stdout",
       "text": [
        "[####-------------------------------------]  10.5% ... Fitting Alpha vs. Time\r"
       ]
      },
      {
       "output_type": "stream",
       "stream": "stdout",
       "text": [
        "[####-------------------------------------]  10.6% ... Fitting Alpha vs. Time\r"
       ]
      },
      {
       "output_type": "stream",
       "stream": "stdout",
       "text": [
        "[####-------------------------------------]  10.7% ... Fitting Alpha vs. Time\r"
       ]
      },
      {
       "output_type": "stream",
       "stream": "stdout",
       "text": [
        "[####-------------------------------------]  10.8% ... Fitting Alpha vs. Time\r"
       ]
      },
      {
       "output_type": "stream",
       "stream": "stdout",
       "text": [
        "[####-------------------------------------]  10.9% ... Fitting Alpha vs. Time\r"
       ]
      },
      {
       "output_type": "stream",
       "stream": "stdout",
       "text": [
        "[#####------------------------------------]  11.0% ... Fitting Alpha vs. Time\r"
       ]
      },
      {
       "output_type": "stream",
       "stream": "stdout",
       "text": [
        "[#####------------------------------------]  11.1% ... Fitting Alpha vs. Time\r"
       ]
      },
      {
       "output_type": "stream",
       "stream": "stdout",
       "text": [
        "[#####------------------------------------]  11.2% ... Fitting Alpha vs. Time\r"
       ]
      },
      {
       "output_type": "stream",
       "stream": "stdout",
       "text": [
        "[#####------------------------------------]  11.3% ... Fitting Alpha vs. Time\r"
       ]
      },
      {
       "output_type": "stream",
       "stream": "stdout",
       "text": [
        "[#####------------------------------------]  11.4% ... Fitting Alpha vs. Time\r"
       ]
      },
      {
       "output_type": "stream",
       "stream": "stdout",
       "text": [
        "[#####------------------------------------]  11.5% ... Fitting Alpha vs. Time\r"
       ]
      },
      {
       "output_type": "stream",
       "stream": "stdout",
       "text": [
        "[#####------------------------------------]  11.6% ... Fitting Alpha vs. Time\r"
       ]
      },
      {
       "output_type": "stream",
       "stream": "stdout",
       "text": [
        "[#####------------------------------------]  11.7% ... Fitting Alpha vs. Time\r"
       ]
      },
      {
       "output_type": "stream",
       "stream": "stdout",
       "text": [
        "[#####------------------------------------]  11.8% ... Fitting Alpha vs. Time\r"
       ]
      },
      {
       "output_type": "stream",
       "stream": "stdout",
       "text": [
        "[#####------------------------------------]  11.9% ... Fitting Alpha vs. Time\r"
       ]
      },
      {
       "output_type": "stream",
       "stream": "stdout",
       "text": [
        "[#####------------------------------------]  12.0% ... Fitting Alpha vs. Time\r"
       ]
      },
      {
       "output_type": "stream",
       "stream": "stdout",
       "text": [
        "[#####------------------------------------]  12.1% ... Fitting Alpha vs. Time\r"
       ]
      },
      {
       "output_type": "stream",
       "stream": "stdout",
       "text": [
        "[#####------------------------------------]  12.2% ... Fitting Alpha vs. Time\r"
       ]
      },
      {
       "output_type": "stream",
       "stream": "stdout",
       "text": [
        "[#####------------------------------------]  12.3% ... Fitting Alpha vs. Time\r"
       ]
      },
      {
       "output_type": "stream",
       "stream": "stdout",
       "text": [
        "[#####------------------------------------]  12.4% ... Fitting Alpha vs. Time\r"
       ]
      },
      {
       "output_type": "stream",
       "stream": "stdout",
       "text": [
        "[#####------------------------------------]  12.5% ... Fitting Alpha vs. Time\r"
       ]
      },
      {
       "output_type": "stream",
       "stream": "stdout",
       "text": [
        "[#####------------------------------------]  12.6% ... Fitting Alpha vs. Time\r"
       ]
      },
      {
       "output_type": "stream",
       "stream": "stdout",
       "text": [
        "[#####------------------------------------]  12.7% ... Fitting Alpha vs. Time\r"
       ]
      },
      {
       "output_type": "stream",
       "stream": "stdout",
       "text": [
        "[#####------------------------------------]  12.8% ... Fitting Alpha vs. Time\r"
       ]
      },
      {
       "output_type": "stream",
       "stream": "stdout",
       "text": [
        "[#####------------------------------------]  12.9% ... Fitting Alpha vs. Time\r"
       ]
      },
      {
       "output_type": "stream",
       "stream": "stdout",
       "text": [
        "[#####------------------------------------]  13.0% ... Fitting Alpha vs. Time\r"
       ]
      },
      {
       "output_type": "stream",
       "stream": "stdout",
       "text": [
        "[#####------------------------------------]  13.1% ... Fitting Alpha vs. Time\r"
       ]
      },
      {
       "output_type": "stream",
       "stream": "stdout",
       "text": [
        "[#####------------------------------------]  13.2% ... Fitting Alpha vs. Time\r"
       ]
      },
      {
       "output_type": "stream",
       "stream": "stdout",
       "text": [
        "[#####------------------------------------]  13.3% ... Fitting Alpha vs. Time\r"
       ]
      },
      {
       "output_type": "stream",
       "stream": "stdout",
       "text": [
        "[#####------------------------------------]  13.4% ... Fitting Alpha vs. Time\r"
       ]
      },
      {
       "output_type": "stream",
       "stream": "stdout",
       "text": [
        "[######-----------------------------------]  13.5% ... Fitting Alpha vs. Time\r"
       ]
      },
      {
       "output_type": "stream",
       "stream": "stdout",
       "text": [
        "[######-----------------------------------]  13.6% ... Fitting Alpha vs. Time\r"
       ]
      },
      {
       "output_type": "stream",
       "stream": "stdout",
       "text": [
        "[######-----------------------------------]  13.7% ... Fitting Alpha vs. Time\r"
       ]
      },
      {
       "output_type": "stream",
       "stream": "stdout",
       "text": [
        "[######-----------------------------------]  13.8% ... Fitting Alpha vs. Time\r"
       ]
      },
      {
       "output_type": "stream",
       "stream": "stdout",
       "text": [
        "[######-----------------------------------]  13.9% ... Fitting Alpha vs. Time\r"
       ]
      },
      {
       "output_type": "stream",
       "stream": "stdout",
       "text": [
        "[######-----------------------------------]  14.0% ... Fitting Alpha vs. Time\r"
       ]
      },
      {
       "output_type": "stream",
       "stream": "stdout",
       "text": [
        "[######-----------------------------------]  14.1% ... Fitting Alpha vs. Time\r"
       ]
      },
      {
       "output_type": "stream",
       "stream": "stdout",
       "text": [
        "[######-----------------------------------]  14.2% ... Fitting Alpha vs. Time\r"
       ]
      },
      {
       "output_type": "stream",
       "stream": "stdout",
       "text": [
        "[######-----------------------------------]  14.3% ... Fitting Alpha vs. Time\r"
       ]
      },
      {
       "output_type": "stream",
       "stream": "stdout",
       "text": [
        "[######-----------------------------------]  14.4% ... Fitting Alpha vs. Time\r"
       ]
      },
      {
       "output_type": "stream",
       "stream": "stdout",
       "text": [
        "[######-----------------------------------]  14.5% ... Fitting Alpha vs. Time\r"
       ]
      },
      {
       "output_type": "stream",
       "stream": "stdout",
       "text": [
        "[######-----------------------------------]  14.6% ... Fitting Alpha vs. Time\r"
       ]
      },
      {
       "output_type": "stream",
       "stream": "stdout",
       "text": [
        "[######-----------------------------------]  14.7% ... Fitting Alpha vs. Time\r"
       ]
      },
      {
       "output_type": "stream",
       "stream": "stdout",
       "text": [
        "[######-----------------------------------]  14.8% ... Fitting Alpha vs. Time\r"
       ]
      },
      {
       "output_type": "stream",
       "stream": "stdout",
       "text": [
        "[######-----------------------------------]  14.9% ... Fitting Alpha vs. Time\r"
       ]
      },
      {
       "output_type": "stream",
       "stream": "stdout",
       "text": [
        "[######-----------------------------------]  15.0% ... Fitting Alpha vs. Time\r"
       ]
      },
      {
       "output_type": "stream",
       "stream": "stdout",
       "text": [
        "[######-----------------------------------]  15.1% ... Fitting Alpha vs. Time\r"
       ]
      },
      {
       "output_type": "stream",
       "stream": "stdout",
       "text": [
        "[######-----------------------------------]  15.2% ... Fitting Alpha vs. Time\r"
       ]
      },
      {
       "output_type": "stream",
       "stream": "stdout",
       "text": [
        "[######-----------------------------------]  15.3% ... Fitting Alpha vs. Time\r"
       ]
      },
      {
       "output_type": "stream",
       "stream": "stdout",
       "text": [
        "[######-----------------------------------]  15.4% ... Fitting Alpha vs. Time\r"
       ]
      },
      {
       "output_type": "stream",
       "stream": "stdout",
       "text": [
        "[######-----------------------------------]  15.5% ... Fitting Alpha vs. Time\r"
       ]
      },
      {
       "output_type": "stream",
       "stream": "stdout",
       "text": [
        "[######-----------------------------------]  15.6% ... Fitting Alpha vs. Time\r"
       ]
      },
      {
       "output_type": "stream",
       "stream": "stdout",
       "text": [
        "[######-----------------------------------]  15.7% ... Fitting Alpha vs. Time\r"
       ]
      },
      {
       "output_type": "stream",
       "stream": "stdout",
       "text": [
        "[######-----------------------------------]  15.8% ... Fitting Alpha vs. Time\r"
       ]
      },
      {
       "output_type": "stream",
       "stream": "stdout",
       "text": [
        "[#######----------------------------------]  15.9% ... Fitting Alpha vs. Time\r"
       ]
      },
      {
       "output_type": "stream",
       "stream": "stdout",
       "text": [
        "[#######----------------------------------]  16.0% ... Fitting Alpha vs. Time\r"
       ]
      },
      {
       "output_type": "stream",
       "stream": "stdout",
       "text": [
        "[#######----------------------------------]  16.1% ... Fitting Alpha vs. Time\r"
       ]
      },
      {
       "output_type": "stream",
       "stream": "stdout",
       "text": [
        "[#######----------------------------------]  16.2% ... Fitting Alpha vs. Time\r"
       ]
      },
      {
       "output_type": "stream",
       "stream": "stdout",
       "text": [
        "[#######----------------------------------]  16.3% ... Fitting Alpha vs. Time\r"
       ]
      },
      {
       "output_type": "stream",
       "stream": "stdout",
       "text": [
        "[#######----------------------------------]  16.4% ... Fitting Alpha vs. Time\r"
       ]
      },
      {
       "output_type": "stream",
       "stream": "stdout",
       "text": [
        "[#######----------------------------------]  16.5% ... Fitting Alpha vs. Time\r"
       ]
      },
      {
       "output_type": "stream",
       "stream": "stdout",
       "text": [
        "[#######----------------------------------]  16.6% ... Fitting Alpha vs. Time\r"
       ]
      },
      {
       "output_type": "stream",
       "stream": "stdout",
       "text": [
        "[#######----------------------------------]  16.7% ... Fitting Alpha vs. Time\r"
       ]
      },
      {
       "output_type": "stream",
       "stream": "stdout",
       "text": [
        "[#######----------------------------------]  16.8% ... Fitting Alpha vs. Time\r"
       ]
      },
      {
       "output_type": "stream",
       "stream": "stdout",
       "text": [
        "[#######----------------------------------]  16.9% ... Fitting Alpha vs. Time\r"
       ]
      },
      {
       "output_type": "stream",
       "stream": "stdout",
       "text": [
        "[#######----------------------------------]  17.0% ... Fitting Alpha vs. Time\r"
       ]
      },
      {
       "output_type": "stream",
       "stream": "stdout",
       "text": [
        "[#######----------------------------------]  17.1% ... Fitting Alpha vs. Time\r"
       ]
      },
      {
       "output_type": "stream",
       "stream": "stdout",
       "text": [
        "[#######----------------------------------]  17.2% ... Fitting Alpha vs. Time\r"
       ]
      },
      {
       "output_type": "stream",
       "stream": "stdout",
       "text": [
        "[#######----------------------------------]  17.3% ... Fitting Alpha vs. Time\r"
       ]
      },
      {
       "output_type": "stream",
       "stream": "stdout",
       "text": [
        "[#######----------------------------------]  17.4% ... Fitting Alpha vs. Time\r"
       ]
      },
      {
       "output_type": "stream",
       "stream": "stdout",
       "text": [
        "[#######----------------------------------]  17.5% ... Fitting Alpha vs. Time\r"
       ]
      },
      {
       "output_type": "stream",
       "stream": "stdout",
       "text": [
        "[#######----------------------------------]  17.6% ... Fitting Alpha vs. Time\r"
       ]
      },
      {
       "output_type": "stream",
       "stream": "stdout",
       "text": [
        "[#######----------------------------------]  17.7% ... Fitting Alpha vs. Time\r"
       ]
      },
      {
       "output_type": "stream",
       "stream": "stdout",
       "text": [
        "[#######----------------------------------]  17.8% ... Fitting Alpha vs. Time\r"
       ]
      },
      {
       "output_type": "stream",
       "stream": "stdout",
       "text": [
        "[#######----------------------------------]  17.9% ... Fitting Alpha vs. Time\r"
       ]
      },
      {
       "output_type": "stream",
       "stream": "stdout",
       "text": [
        "[#######----------------------------------]  18.0% ... Fitting Alpha vs. Time\r"
       ]
      },
      {
       "output_type": "stream",
       "stream": "stdout",
       "text": [
        "[#######----------------------------------]  18.1% ... Fitting Alpha vs. Time\r"
       ]
      },
      {
       "output_type": "stream",
       "stream": "stdout",
       "text": [
        "[#######----------------------------------]  18.2% ... Fitting Alpha vs. Time\r"
       ]
      },
      {
       "output_type": "stream",
       "stream": "stdout",
       "text": [
        "[########---------------------------------]  18.3% ... Fitting Alpha vs. Time\r"
       ]
      },
      {
       "output_type": "stream",
       "stream": "stdout",
       "text": [
        "[########---------------------------------]  18.4% ... Fitting Alpha vs. Time\r"
       ]
      },
      {
       "output_type": "stream",
       "stream": "stdout",
       "text": [
        "[########---------------------------------]  18.5% ... Fitting Alpha vs. Time\r"
       ]
      },
      {
       "output_type": "stream",
       "stream": "stdout",
       "text": [
        "[########---------------------------------]  18.6% ... Fitting Alpha vs. Time\r"
       ]
      },
      {
       "output_type": "stream",
       "stream": "stdout",
       "text": [
        "[########---------------------------------]  18.7% ... Fitting Alpha vs. Time\r"
       ]
      },
      {
       "output_type": "stream",
       "stream": "stdout",
       "text": [
        "[########---------------------------------]  18.8% ... Fitting Alpha vs. Time\r"
       ]
      },
      {
       "output_type": "stream",
       "stream": "stdout",
       "text": [
        "[########---------------------------------]  18.9% ... Fitting Alpha vs. Time\r"
       ]
      },
      {
       "output_type": "stream",
       "stream": "stdout",
       "text": [
        "[########---------------------------------]  19.0% ... Fitting Alpha vs. Time\r"
       ]
      },
      {
       "output_type": "stream",
       "stream": "stdout",
       "text": [
        "[########---------------------------------]  19.1% ... Fitting Alpha vs. Time\r"
       ]
      },
      {
       "output_type": "stream",
       "stream": "stdout",
       "text": [
        "[########---------------------------------]  19.2% ... Fitting Alpha vs. Time\r"
       ]
      },
      {
       "output_type": "stream",
       "stream": "stdout",
       "text": [
        "[########---------------------------------]  19.3% ... Fitting Alpha vs. Time\r"
       ]
      },
      {
       "output_type": "stream",
       "stream": "stdout",
       "text": [
        "[########---------------------------------]  19.4% ... Fitting Alpha vs. Time\r"
       ]
      },
      {
       "output_type": "stream",
       "stream": "stdout",
       "text": [
        "[########---------------------------------]  19.5% ... Fitting Alpha vs. Time\r"
       ]
      },
      {
       "output_type": "stream",
       "stream": "stdout",
       "text": [
        "[########---------------------------------]  19.6% ... Fitting Alpha vs. Time\r"
       ]
      },
      {
       "output_type": "stream",
       "stream": "stdout",
       "text": [
        "[########---------------------------------]  19.7% ... Fitting Alpha vs. Time\r"
       ]
      },
      {
       "output_type": "stream",
       "stream": "stdout",
       "text": [
        "[########---------------------------------]  19.8% ... Fitting Alpha vs. Time\r"
       ]
      },
      {
       "output_type": "stream",
       "stream": "stdout",
       "text": [
        "[########---------------------------------]  19.9% ... Fitting Alpha vs. Time\r"
       ]
      },
      {
       "output_type": "stream",
       "stream": "stdout",
       "text": [
        "[########---------------------------------]  20.0% ... Fitting Alpha vs. Time\r"
       ]
      },
      {
       "output_type": "stream",
       "stream": "stdout",
       "text": [
        "[########---------------------------------]  20.1% ... Fitting Alpha vs. Time\r"
       ]
      },
      {
       "output_type": "stream",
       "stream": "stdout",
       "text": [
        "[########---------------------------------]  20.2% ... Fitting Alpha vs. Time\r"
       ]
      },
      {
       "output_type": "stream",
       "stream": "stdout",
       "text": [
        "[########---------------------------------]  20.3% ... Fitting Alpha vs. Time\r"
       ]
      },
      {
       "output_type": "stream",
       "stream": "stdout",
       "text": [
        "[########---------------------------------]  20.4% ... Fitting Alpha vs. Time\r"
       ]
      },
      {
       "output_type": "stream",
       "stream": "stdout",
       "text": [
        "[########---------------------------------]  20.5% ... Fitting Alpha vs. Time\r"
       ]
      },
      {
       "output_type": "stream",
       "stream": "stdout",
       "text": [
        "[########---------------------------------]  20.6% ... Fitting Alpha vs. Time\r"
       ]
      },
      {
       "output_type": "stream",
       "stream": "stdout",
       "text": [
        "[########---------------------------------]  20.7% ... Fitting Alpha vs. Time\r"
       ]
      },
      {
       "output_type": "stream",
       "stream": "stdout",
       "text": [
        "[#########--------------------------------]  20.8% ... Fitting Alpha vs. Time\r"
       ]
      },
      {
       "output_type": "stream",
       "stream": "stdout",
       "text": [
        "[#########--------------------------------]  20.9% ... Fitting Alpha vs. Time\r"
       ]
      },
      {
       "output_type": "stream",
       "stream": "stdout",
       "text": [
        "[#########--------------------------------]  21.0% ... Fitting Alpha vs. Time\r"
       ]
      },
      {
       "output_type": "stream",
       "stream": "stdout",
       "text": [
        "[#########--------------------------------]  21.1% ... Fitting Alpha vs. Time\r"
       ]
      },
      {
       "output_type": "stream",
       "stream": "stdout",
       "text": [
        "[#########--------------------------------]  21.2% ... Fitting Alpha vs. Time\r"
       ]
      },
      {
       "output_type": "stream",
       "stream": "stdout",
       "text": [
        "[#########--------------------------------]  21.3% ... Fitting Alpha vs. Time\r"
       ]
      },
      {
       "output_type": "stream",
       "stream": "stdout",
       "text": [
        "[#########--------------------------------]  21.4% ... Fitting Alpha vs. Time\r"
       ]
      },
      {
       "output_type": "stream",
       "stream": "stdout",
       "text": [
        "[#########--------------------------------]  21.5% ... Fitting Alpha vs. Time\r"
       ]
      },
      {
       "output_type": "stream",
       "stream": "stdout",
       "text": [
        "[#########--------------------------------]  21.6% ... Fitting Alpha vs. Time\r"
       ]
      },
      {
       "output_type": "stream",
       "stream": "stdout",
       "text": [
        "[#########--------------------------------]  21.7% ... Fitting Alpha vs. Time\r"
       ]
      },
      {
       "output_type": "stream",
       "stream": "stdout",
       "text": [
        "[#########--------------------------------]  21.8% ... Fitting Alpha vs. Time\r"
       ]
      },
      {
       "output_type": "stream",
       "stream": "stdout",
       "text": [
        "[#########--------------------------------]  21.9% ... Fitting Alpha vs. Time\r"
       ]
      },
      {
       "output_type": "stream",
       "stream": "stdout",
       "text": [
        "[#########--------------------------------]  22.0% ... Fitting Alpha vs. Time\r"
       ]
      },
      {
       "output_type": "stream",
       "stream": "stdout",
       "text": [
        "[#########--------------------------------]  22.1% ... Fitting Alpha vs. Time\r"
       ]
      },
      {
       "output_type": "stream",
       "stream": "stdout",
       "text": [
        "[#########--------------------------------]  22.2% ... Fitting Alpha vs. Time\r"
       ]
      },
      {
       "output_type": "stream",
       "stream": "stdout",
       "text": [
        "[#########--------------------------------]  22.3% ... Fitting Alpha vs. Time\r"
       ]
      },
      {
       "output_type": "stream",
       "stream": "stdout",
       "text": [
        "[#########--------------------------------]  22.4% ... Fitting Alpha vs. Time\r"
       ]
      },
      {
       "output_type": "stream",
       "stream": "stdout",
       "text": [
        "[#########--------------------------------]  22.5% ... Fitting Alpha vs. Time\r"
       ]
      },
      {
       "output_type": "stream",
       "stream": "stdout",
       "text": [
        "[#########--------------------------------]  22.6% ... Fitting Alpha vs. Time\r"
       ]
      },
      {
       "output_type": "stream",
       "stream": "stdout",
       "text": [
        "[#########--------------------------------]  22.7% ... Fitting Alpha vs. Time\r"
       ]
      },
      {
       "output_type": "stream",
       "stream": "stdout",
       "text": [
        "[#########--------------------------------]  22.8% ... Fitting Alpha vs. Time\r"
       ]
      },
      {
       "output_type": "stream",
       "stream": "stdout",
       "text": [
        "[#########--------------------------------]  22.9% ... Fitting Alpha vs. Time\r"
       ]
      },
      {
       "output_type": "stream",
       "stream": "stdout",
       "text": [
        "[#########--------------------------------]  23.0% ... Fitting Alpha vs. Time\r"
       ]
      },
      {
       "output_type": "stream",
       "stream": "stdout",
       "text": [
        "[#########--------------------------------]  23.1% ... Fitting Alpha vs. Time\r"
       ]
      },
      {
       "output_type": "stream",
       "stream": "stdout",
       "text": [
        "[##########-------------------------------]  23.2% ... Fitting Alpha vs. Time\r"
       ]
      },
      {
       "output_type": "stream",
       "stream": "stdout",
       "text": [
        "[##########-------------------------------]  23.3% ... Fitting Alpha vs. Time\r"
       ]
      },
      {
       "output_type": "stream",
       "stream": "stdout",
       "text": [
        "[##########-------------------------------]  23.4% ... Fitting Alpha vs. Time\r"
       ]
      },
      {
       "output_type": "stream",
       "stream": "stdout",
       "text": [
        "[##########-------------------------------]  23.5% ... Fitting Alpha vs. Time\r"
       ]
      },
      {
       "output_type": "stream",
       "stream": "stdout",
       "text": [
        "[##########-------------------------------]  23.6% ... Fitting Alpha vs. Time\r"
       ]
      },
      {
       "output_type": "stream",
       "stream": "stdout",
       "text": [
        "[##########-------------------------------]  23.7% ... Fitting Alpha vs. Time\r"
       ]
      },
      {
       "output_type": "stream",
       "stream": "stdout",
       "text": [
        "[##########-------------------------------]  23.8% ... Fitting Alpha vs. Time\r"
       ]
      },
      {
       "output_type": "stream",
       "stream": "stdout",
       "text": [
        "[##########-------------------------------]  23.9% ... Fitting Alpha vs. Time\r"
       ]
      },
      {
       "output_type": "stream",
       "stream": "stdout",
       "text": [
        "[##########-------------------------------]  24.0% ... Fitting Alpha vs. Time\r"
       ]
      },
      {
       "output_type": "stream",
       "stream": "stdout",
       "text": [
        "[##########-------------------------------]  24.1% ... Fitting Alpha vs. Time\r"
       ]
      },
      {
       "output_type": "stream",
       "stream": "stdout",
       "text": [
        "[##########-------------------------------]  24.2% ... Fitting Alpha vs. Time\r"
       ]
      },
      {
       "output_type": "stream",
       "stream": "stdout",
       "text": [
        "[##########-------------------------------]  24.3% ... Fitting Alpha vs. Time\r"
       ]
      },
      {
       "output_type": "stream",
       "stream": "stdout",
       "text": [
        "[##########-------------------------------]  24.4% ... Fitting Alpha vs. Time\r"
       ]
      },
      {
       "output_type": "stream",
       "stream": "stdout",
       "text": [
        "[##########-------------------------------]  24.5% ... Fitting Alpha vs. Time\r"
       ]
      },
      {
       "output_type": "stream",
       "stream": "stdout",
       "text": [
        "[##########-------------------------------]  24.6% ... Fitting Alpha vs. Time\r"
       ]
      },
      {
       "output_type": "stream",
       "stream": "stdout",
       "text": [
        "[##########-------------------------------]  24.7% ... Fitting Alpha vs. Time\r"
       ]
      },
      {
       "output_type": "stream",
       "stream": "stdout",
       "text": [
        "[##########-------------------------------]  24.8% ... Fitting Alpha vs. Time\r"
       ]
      },
      {
       "output_type": "stream",
       "stream": "stdout",
       "text": [
        "[##########-------------------------------]  24.9% ... Fitting Alpha vs. Time\r"
       ]
      },
      {
       "output_type": "stream",
       "stream": "stdout",
       "text": [
        "[##########-------------------------------]  25.0% ... Fitting Alpha vs. Time\r"
       ]
      },
      {
       "output_type": "stream",
       "stream": "stdout",
       "text": [
        "[##########-------------------------------]  25.1% ... Fitting Alpha vs. Time\r"
       ]
      },
      {
       "output_type": "stream",
       "stream": "stdout",
       "text": [
        "[##########-------------------------------]  25.2% ... Fitting Alpha vs. Time\r"
       ]
      },
      {
       "output_type": "stream",
       "stream": "stdout",
       "text": [
        "[##########-------------------------------]  25.3% ... Fitting Alpha vs. Time\r"
       ]
      },
      {
       "output_type": "stream",
       "stream": "stdout",
       "text": [
        "[##########-------------------------------]  25.4% ... Fitting Alpha vs. Time\r"
       ]
      },
      {
       "output_type": "stream",
       "stream": "stdout",
       "text": [
        "[##########-------------------------------]  25.5% ... Fitting Alpha vs. Time\r"
       ]
      },
      {
       "output_type": "stream",
       "stream": "stdout",
       "text": [
        "[##########-------------------------------]  25.6% ... Fitting Alpha vs. Time\r"
       ]
      },
      {
       "output_type": "stream",
       "stream": "stdout",
       "text": [
        "[###########------------------------------]  25.7% ... Fitting Alpha vs. Time\r"
       ]
      },
      {
       "output_type": "stream",
       "stream": "stdout",
       "text": [
        "[###########------------------------------]  25.8% ... Fitting Alpha vs. Time\r"
       ]
      },
      {
       "output_type": "stream",
       "stream": "stdout",
       "text": [
        "[###########------------------------------]  25.9% ... Fitting Alpha vs. Time\r"
       ]
      },
      {
       "output_type": "stream",
       "stream": "stdout",
       "text": [
        "[###########------------------------------]  26.0% ... Fitting Alpha vs. Time\r"
       ]
      },
      {
       "output_type": "stream",
       "stream": "stdout",
       "text": [
        "[###########------------------------------]  26.1% ... Fitting Alpha vs. Time\r"
       ]
      },
      {
       "output_type": "stream",
       "stream": "stdout",
       "text": [
        "[###########------------------------------]  26.2% ... Fitting Alpha vs. Time\r"
       ]
      },
      {
       "output_type": "stream",
       "stream": "stdout",
       "text": [
        "[###########------------------------------]  26.3% ... Fitting Alpha vs. Time\r"
       ]
      },
      {
       "output_type": "stream",
       "stream": "stdout",
       "text": [
        "[###########------------------------------]  26.4% ... Fitting Alpha vs. Time\r"
       ]
      },
      {
       "output_type": "stream",
       "stream": "stdout",
       "text": [
        "[###########------------------------------]  26.5% ... Fitting Alpha vs. Time\r"
       ]
      },
      {
       "output_type": "stream",
       "stream": "stdout",
       "text": [
        "[###########------------------------------]  26.6% ... Fitting Alpha vs. Time\r"
       ]
      },
      {
       "output_type": "stream",
       "stream": "stdout",
       "text": [
        "[###########------------------------------]  26.7% ... Fitting Alpha vs. Time\r"
       ]
      },
      {
       "output_type": "stream",
       "stream": "stdout",
       "text": [
        "[###########------------------------------]  26.8% ... Fitting Alpha vs. Time\r"
       ]
      },
      {
       "output_type": "stream",
       "stream": "stdout",
       "text": [
        "[###########------------------------------]  26.9% ... Fitting Alpha vs. Time\r"
       ]
      },
      {
       "output_type": "stream",
       "stream": "stdout",
       "text": [
        "[###########------------------------------]  27.0% ... Fitting Alpha vs. Time\r"
       ]
      },
      {
       "output_type": "stream",
       "stream": "stdout",
       "text": [
        "[###########------------------------------]  27.1% ... Fitting Alpha vs. Time\r"
       ]
      },
      {
       "output_type": "stream",
       "stream": "stdout",
       "text": [
        "[###########------------------------------]  27.2% ... Fitting Alpha vs. Time\r"
       ]
      },
      {
       "output_type": "stream",
       "stream": "stdout",
       "text": [
        "[###########------------------------------]  27.3% ... Fitting Alpha vs. Time\r"
       ]
      },
      {
       "output_type": "stream",
       "stream": "stdout",
       "text": [
        "[###########------------------------------]  27.4% ... Fitting Alpha vs. Time\r"
       ]
      },
      {
       "output_type": "stream",
       "stream": "stdout",
       "text": [
        "[###########------------------------------]  27.5% ... Fitting Alpha vs. Time\r"
       ]
      },
      {
       "output_type": "stream",
       "stream": "stdout",
       "text": [
        "[###########------------------------------]  27.6% ... Fitting Alpha vs. Time\r"
       ]
      },
      {
       "output_type": "stream",
       "stream": "stdout",
       "text": [
        "[###########------------------------------]  27.7% ... Fitting Alpha vs. Time\r"
       ]
      },
      {
       "output_type": "stream",
       "stream": "stdout",
       "text": [
        "[###########------------------------------]  27.8% ... Fitting Alpha vs. Time\r"
       ]
      },
      {
       "output_type": "stream",
       "stream": "stdout",
       "text": [
        "[###########------------------------------]  27.9% ... Fitting Alpha vs. Time\r"
       ]
      },
      {
       "output_type": "stream",
       "stream": "stdout",
       "text": [
        "[###########------------------------------]  28.0% ... Fitting Alpha vs. Time\r"
       ]
      },
      {
       "output_type": "stream",
       "stream": "stdout",
       "text": [
        "[############-----------------------------]  28.1% ... Fitting Alpha vs. Time\r"
       ]
      },
      {
       "output_type": "stream",
       "stream": "stdout",
       "text": [
        "[############-----------------------------]  28.2% ... Fitting Alpha vs. Time\r"
       ]
      },
      {
       "output_type": "stream",
       "stream": "stdout",
       "text": [
        "[############-----------------------------]  28.3% ... Fitting Alpha vs. Time\r"
       ]
      },
      {
       "output_type": "stream",
       "stream": "stdout",
       "text": [
        "[############-----------------------------]  28.4% ... Fitting Alpha vs. Time\r"
       ]
      },
      {
       "output_type": "stream",
       "stream": "stdout",
       "text": [
        "[############-----------------------------]  28.5% ... Fitting Alpha vs. Time\r"
       ]
      },
      {
       "output_type": "stream",
       "stream": "stdout",
       "text": [
        "[############-----------------------------]  28.6% ... Fitting Alpha vs. Time\r"
       ]
      },
      {
       "output_type": "stream",
       "stream": "stdout",
       "text": [
        "[############-----------------------------]  28.7% ... Fitting Alpha vs. Time\r"
       ]
      },
      {
       "output_type": "stream",
       "stream": "stdout",
       "text": [
        "[############-----------------------------]  28.8% ... Fitting Alpha vs. Time\r"
       ]
      },
      {
       "output_type": "stream",
       "stream": "stdout",
       "text": [
        "[############-----------------------------]  28.9% ... Fitting Alpha vs. Time\r"
       ]
      },
      {
       "output_type": "stream",
       "stream": "stdout",
       "text": [
        "[############-----------------------------]  29.0% ... Fitting Alpha vs. Time\r"
       ]
      },
      {
       "output_type": "stream",
       "stream": "stdout",
       "text": [
        "[############-----------------------------]  29.1% ... Fitting Alpha vs. Time\r"
       ]
      },
      {
       "output_type": "stream",
       "stream": "stdout",
       "text": [
        "[############-----------------------------]  29.2% ... Fitting Alpha vs. Time\r"
       ]
      },
      {
       "output_type": "stream",
       "stream": "stdout",
       "text": [
        "[############-----------------------------]  29.3% ... Fitting Alpha vs. Time\r"
       ]
      },
      {
       "output_type": "stream",
       "stream": "stdout",
       "text": [
        "[############-----------------------------]  29.4% ... Fitting Alpha vs. Time\r"
       ]
      },
      {
       "output_type": "stream",
       "stream": "stdout",
       "text": [
        "[############-----------------------------]  29.5% ... Fitting Alpha vs. Time\r"
       ]
      },
      {
       "output_type": "stream",
       "stream": "stdout",
       "text": [
        "[############-----------------------------]  29.6% ... Fitting Alpha vs. Time\r"
       ]
      },
      {
       "output_type": "stream",
       "stream": "stdout",
       "text": [
        "[############-----------------------------]  29.7% ... Fitting Alpha vs. Time\r"
       ]
      },
      {
       "output_type": "stream",
       "stream": "stdout",
       "text": [
        "[############-----------------------------]  29.8% ... Fitting Alpha vs. Time\r"
       ]
      },
      {
       "output_type": "stream",
       "stream": "stdout",
       "text": [
        "[############-----------------------------]  29.9% ... Fitting Alpha vs. Time\r"
       ]
      },
      {
       "output_type": "stream",
       "stream": "stdout",
       "text": [
        "[############-----------------------------]  30.0% ... Fitting Alpha vs. Time\r"
       ]
      },
      {
       "output_type": "stream",
       "stream": "stdout",
       "text": [
        "[############-----------------------------]  30.1% ... Fitting Alpha vs. Time\r"
       ]
      },
      {
       "output_type": "stream",
       "stream": "stdout",
       "text": [
        "[############-----------------------------]  30.2% ... Fitting Alpha vs. Time\r"
       ]
      },
      {
       "output_type": "stream",
       "stream": "stdout",
       "text": [
        "[############-----------------------------]  30.3% ... Fitting Alpha vs. Time\r"
       ]
      },
      {
       "output_type": "stream",
       "stream": "stdout",
       "text": [
        "[############-----------------------------]  30.4% ... Fitting Alpha vs. Time\r"
       ]
      },
      {
       "output_type": "stream",
       "stream": "stdout",
       "text": [
        "[#############----------------------------]  30.5% ... Fitting Alpha vs. Time\r"
       ]
      },
      {
       "output_type": "stream",
       "stream": "stdout",
       "text": [
        "[#############----------------------------]  30.6% ... Fitting Alpha vs. Time\r"
       ]
      },
      {
       "output_type": "stream",
       "stream": "stdout",
       "text": [
        "[#############----------------------------]  30.7% ... Fitting Alpha vs. Time\r"
       ]
      },
      {
       "output_type": "stream",
       "stream": "stdout",
       "text": [
        "[#############----------------------------]  30.8% ... Fitting Alpha vs. Time\r"
       ]
      },
      {
       "output_type": "stream",
       "stream": "stdout",
       "text": [
        "[#############----------------------------]  30.9% ... Fitting Alpha vs. Time\r"
       ]
      },
      {
       "output_type": "stream",
       "stream": "stdout",
       "text": [
        "[#############----------------------------]  31.0% ... Fitting Alpha vs. Time\r"
       ]
      },
      {
       "output_type": "stream",
       "stream": "stdout",
       "text": [
        "[#############----------------------------]  31.1% ... Fitting Alpha vs. Time\r"
       ]
      },
      {
       "output_type": "stream",
       "stream": "stdout",
       "text": [
        "[#############----------------------------]  31.2% ... Fitting Alpha vs. Time\r"
       ]
      },
      {
       "output_type": "stream",
       "stream": "stdout",
       "text": [
        "[#############----------------------------]  31.3% ... Fitting Alpha vs. Time\r"
       ]
      },
      {
       "output_type": "stream",
       "stream": "stdout",
       "text": [
        "[#############----------------------------]  31.4% ... Fitting Alpha vs. Time\r"
       ]
      },
      {
       "output_type": "stream",
       "stream": "stdout",
       "text": [
        "[#############----------------------------]  31.5% ... Fitting Alpha vs. Time\r"
       ]
      },
      {
       "output_type": "stream",
       "stream": "stdout",
       "text": [
        "[#############----------------------------]  31.6% ... Fitting Alpha vs. Time\r"
       ]
      },
      {
       "output_type": "stream",
       "stream": "stdout",
       "text": [
        "[#############----------------------------]  31.7% ... Fitting Alpha vs. Time\r"
       ]
      },
      {
       "output_type": "stream",
       "stream": "stdout",
       "text": [
        "[#############----------------------------]  31.8% ... Fitting Alpha vs. Time\r"
       ]
      },
      {
       "output_type": "stream",
       "stream": "stdout",
       "text": [
        "[#############----------------------------]  31.9% ... Fitting Alpha vs. Time\r"
       ]
      },
      {
       "output_type": "stream",
       "stream": "stdout",
       "text": [
        "[#############----------------------------]  32.0% ... Fitting Alpha vs. Time\r"
       ]
      },
      {
       "output_type": "stream",
       "stream": "stdout",
       "text": [
        "[#############----------------------------]  32.1% ... Fitting Alpha vs. Time\r"
       ]
      },
      {
       "output_type": "stream",
       "stream": "stdout",
       "text": [
        "[#############----------------------------]  32.2% ... Fitting Alpha vs. Time\r"
       ]
      },
      {
       "output_type": "stream",
       "stream": "stdout",
       "text": [
        "[#############----------------------------]  32.3% ... Fitting Alpha vs. Time\r"
       ]
      },
      {
       "output_type": "stream",
       "stream": "stdout",
       "text": [
        "[#############----------------------------]  32.4% ... Fitting Alpha vs. Time\r"
       ]
      },
      {
       "output_type": "stream",
       "stream": "stdout",
       "text": [
        "[#############----------------------------]  32.5% ... Fitting Alpha vs. Time\r"
       ]
      },
      {
       "output_type": "stream",
       "stream": "stdout",
       "text": [
        "[#############----------------------------]  32.6% ... Fitting Alpha vs. Time\r"
       ]
      },
      {
       "output_type": "stream",
       "stream": "stdout",
       "text": [
        "[#############----------------------------]  32.7% ... Fitting Alpha vs. Time\r"
       ]
      },
      {
       "output_type": "stream",
       "stream": "stdout",
       "text": [
        "[#############----------------------------]  32.8% ... Fitting Alpha vs. Time\r"
       ]
      },
      {
       "output_type": "stream",
       "stream": "stdout",
       "text": [
        "[#############----------------------------]  32.9% ... Fitting Alpha vs. Time\r"
       ]
      },
      {
       "output_type": "stream",
       "stream": "stdout",
       "text": [
        "[##############---------------------------]  33.0% ... Fitting Alpha vs. Time\r"
       ]
      },
      {
       "output_type": "stream",
       "stream": "stdout",
       "text": [
        "[##############---------------------------]  33.1% ... Fitting Alpha vs. Time\r"
       ]
      },
      {
       "output_type": "stream",
       "stream": "stdout",
       "text": [
        "[##############---------------------------]  33.2% ... Fitting Alpha vs. Time\r"
       ]
      },
      {
       "output_type": "stream",
       "stream": "stdout",
       "text": [
        "[##############---------------------------]  33.3% ... Fitting Alpha vs. Time\r"
       ]
      },
      {
       "output_type": "stream",
       "stream": "stdout",
       "text": [
        "[##############---------------------------]  33.4% ... Fitting Alpha vs. Time\r"
       ]
      },
      {
       "output_type": "stream",
       "stream": "stdout",
       "text": [
        "[##############---------------------------]  33.5% ... Fitting Alpha vs. Time\r"
       ]
      },
      {
       "output_type": "stream",
       "stream": "stdout",
       "text": [
        "[##############---------------------------]  33.6% ... Fitting Alpha vs. Time\r"
       ]
      },
      {
       "output_type": "stream",
       "stream": "stdout",
       "text": [
        "[##############---------------------------]  33.7% ... Fitting Alpha vs. Time\r"
       ]
      },
      {
       "output_type": "stream",
       "stream": "stdout",
       "text": [
        "[##############---------------------------]  33.8% ... Fitting Alpha vs. Time\r"
       ]
      },
      {
       "output_type": "stream",
       "stream": "stdout",
       "text": [
        "[##############---------------------------]  33.9% ... Fitting Alpha vs. Time\r"
       ]
      },
      {
       "output_type": "stream",
       "stream": "stdout",
       "text": [
        "[##############---------------------------]  34.0% ... Fitting Alpha vs. Time\r"
       ]
      },
      {
       "output_type": "stream",
       "stream": "stdout",
       "text": [
        "[##############---------------------------]  34.1% ... Fitting Alpha vs. Time\r"
       ]
      },
      {
       "output_type": "stream",
       "stream": "stdout",
       "text": [
        "[##############---------------------------]  34.2% ... Fitting Alpha vs. Time\r"
       ]
      },
      {
       "output_type": "stream",
       "stream": "stdout",
       "text": [
        "[##############---------------------------]  34.3% ... Fitting Alpha vs. Time\r"
       ]
      },
      {
       "output_type": "stream",
       "stream": "stdout",
       "text": [
        "[##############---------------------------]  34.4% ... Fitting Alpha vs. Time\r"
       ]
      },
      {
       "output_type": "stream",
       "stream": "stdout",
       "text": [
        "[##############---------------------------]  34.5% ... Fitting Alpha vs. Time\r"
       ]
      },
      {
       "output_type": "stream",
       "stream": "stdout",
       "text": [
        "[##############---------------------------]  34.6% ... Fitting Alpha vs. Time\r"
       ]
      },
      {
       "output_type": "stream",
       "stream": "stdout",
       "text": [
        "[##############---------------------------]  34.7% ... Fitting Alpha vs. Time\r"
       ]
      },
      {
       "output_type": "stream",
       "stream": "stdout",
       "text": [
        "[##############---------------------------]  34.8% ... Fitting Alpha vs. Time\r"
       ]
      },
      {
       "output_type": "stream",
       "stream": "stdout",
       "text": [
        "[##############---------------------------]  34.9% ... Fitting Alpha vs. Time\r"
       ]
      },
      {
       "output_type": "stream",
       "stream": "stdout",
       "text": [
        "[##############---------------------------]  35.0% ... Fitting Alpha vs. Time\r"
       ]
      },
      {
       "output_type": "stream",
       "stream": "stdout",
       "text": [
        "[##############---------------------------]  35.1% ... Fitting Alpha vs. Time\r"
       ]
      },
      {
       "output_type": "stream",
       "stream": "stdout",
       "text": [
        "[##############---------------------------]  35.2% ... Fitting Alpha vs. Time\r"
       ]
      },
      {
       "output_type": "stream",
       "stream": "stdout",
       "text": [
        "[##############---------------------------]  35.3% ... Fitting Alpha vs. Time\r"
       ]
      },
      {
       "output_type": "stream",
       "stream": "stdout",
       "text": [
        "[###############--------------------------]  35.4% ... Fitting Alpha vs. Time\r"
       ]
      },
      {
       "output_type": "stream",
       "stream": "stdout",
       "text": [
        "[###############--------------------------]  35.5% ... Fitting Alpha vs. Time\r"
       ]
      },
      {
       "output_type": "stream",
       "stream": "stdout",
       "text": [
        "[###############--------------------------]  35.6% ... Fitting Alpha vs. Time\r"
       ]
      },
      {
       "output_type": "stream",
       "stream": "stdout",
       "text": [
        "[###############--------------------------]  35.7% ... Fitting Alpha vs. Time\r"
       ]
      },
      {
       "output_type": "stream",
       "stream": "stdout",
       "text": [
        "[###############--------------------------]  35.8% ... Fitting Alpha vs. Time\r"
       ]
      },
      {
       "output_type": "stream",
       "stream": "stdout",
       "text": [
        "[###############--------------------------]  35.9% ... Fitting Alpha vs. Time\r"
       ]
      },
      {
       "output_type": "stream",
       "stream": "stdout",
       "text": [
        "[###############--------------------------]  36.0% ... Fitting Alpha vs. Time\r"
       ]
      },
      {
       "output_type": "stream",
       "stream": "stdout",
       "text": [
        "[###############--------------------------]  36.1% ... Fitting Alpha vs. Time\r"
       ]
      },
      {
       "output_type": "stream",
       "stream": "stdout",
       "text": [
        "[###############--------------------------]  36.2% ... Fitting Alpha vs. Time\r"
       ]
      },
      {
       "output_type": "stream",
       "stream": "stdout",
       "text": [
        "[###############--------------------------]  36.3% ... Fitting Alpha vs. Time\r"
       ]
      },
      {
       "output_type": "stream",
       "stream": "stdout",
       "text": [
        "[###############--------------------------]  36.4% ... Fitting Alpha vs. Time\r"
       ]
      },
      {
       "output_type": "stream",
       "stream": "stdout",
       "text": [
        "[###############--------------------------]  36.5% ... Fitting Alpha vs. Time\r"
       ]
      },
      {
       "output_type": "stream",
       "stream": "stdout",
       "text": [
        "[###############--------------------------]  36.6% ... Fitting Alpha vs. Time\r"
       ]
      },
      {
       "output_type": "stream",
       "stream": "stdout",
       "text": [
        "[###############--------------------------]  36.7% ... Fitting Alpha vs. Time\r"
       ]
      },
      {
       "output_type": "stream",
       "stream": "stdout",
       "text": [
        "[###############--------------------------]  36.8% ... Fitting Alpha vs. Time\r"
       ]
      },
      {
       "output_type": "stream",
       "stream": "stdout",
       "text": [
        "[###############--------------------------]  36.9% ... Fitting Alpha vs. Time\r"
       ]
      },
      {
       "output_type": "stream",
       "stream": "stdout",
       "text": [
        "[###############--------------------------]  37.0% ... Fitting Alpha vs. Time\r"
       ]
      },
      {
       "output_type": "stream",
       "stream": "stdout",
       "text": [
        "[###############--------------------------]  37.1% ... Fitting Alpha vs. Time\r"
       ]
      },
      {
       "output_type": "stream",
       "stream": "stdout",
       "text": [
        "[###############--------------------------]  37.2% ... Fitting Alpha vs. Time\r"
       ]
      },
      {
       "output_type": "stream",
       "stream": "stdout",
       "text": [
        "[###############--------------------------]  37.3% ... Fitting Alpha vs. Time\r"
       ]
      },
      {
       "output_type": "stream",
       "stream": "stdout",
       "text": [
        "[###############--------------------------]  37.4% ... Fitting Alpha vs. Time\r"
       ]
      },
      {
       "output_type": "stream",
       "stream": "stdout",
       "text": [
        "[###############--------------------------]  37.5% ... Fitting Alpha vs. Time\r"
       ]
      },
      {
       "output_type": "stream",
       "stream": "stdout",
       "text": [
        "[###############--------------------------]  37.6% ... Fitting Alpha vs. Time\r"
       ]
      },
      {
       "output_type": "stream",
       "stream": "stdout",
       "text": [
        "[###############--------------------------]  37.7% ... Fitting Alpha vs. Time\r"
       ]
      },
      {
       "output_type": "stream",
       "stream": "stdout",
       "text": [
        "[###############--------------------------]  37.8% ... Fitting Alpha vs. Time\r"
       ]
      },
      {
       "output_type": "stream",
       "stream": "stdout",
       "text": [
        "[################-------------------------]  37.9% ... Fitting Alpha vs. Time\r"
       ]
      },
      {
       "output_type": "stream",
       "stream": "stdout",
       "text": [
        "[################-------------------------]  38.0% ... Fitting Alpha vs. Time\r"
       ]
      },
      {
       "output_type": "stream",
       "stream": "stdout",
       "text": [
        "[################-------------------------]  38.1% ... Fitting Alpha vs. Time\r"
       ]
      },
      {
       "output_type": "stream",
       "stream": "stdout",
       "text": [
        "[################-------------------------]  38.2% ... Fitting Alpha vs. Time\r"
       ]
      },
      {
       "output_type": "stream",
       "stream": "stdout",
       "text": [
        "[################-------------------------]  38.3% ... Fitting Alpha vs. Time\r"
       ]
      },
      {
       "output_type": "stream",
       "stream": "stdout",
       "text": [
        "[################-------------------------]  38.4% ... Fitting Alpha vs. Time\r"
       ]
      },
      {
       "output_type": "stream",
       "stream": "stdout",
       "text": [
        "[################-------------------------]  38.5% ... Fitting Alpha vs. Time\r"
       ]
      },
      {
       "output_type": "stream",
       "stream": "stdout",
       "text": [
        "[################-------------------------]  38.6% ... Fitting Alpha vs. Time\r"
       ]
      },
      {
       "output_type": "stream",
       "stream": "stdout",
       "text": [
        "[################-------------------------]  38.7% ... Fitting Alpha vs. Time\r"
       ]
      },
      {
       "output_type": "stream",
       "stream": "stdout",
       "text": [
        "[################-------------------------]  38.8% ... Fitting Alpha vs. Time\r"
       ]
      },
      {
       "output_type": "stream",
       "stream": "stdout",
       "text": [
        "[################-------------------------]  38.9% ... Fitting Alpha vs. Time\r"
       ]
      },
      {
       "output_type": "stream",
       "stream": "stdout",
       "text": [
        "[################-------------------------]  39.0% ... Fitting Alpha vs. Time\r"
       ]
      },
      {
       "output_type": "stream",
       "stream": "stdout",
       "text": [
        "[################-------------------------]  39.1% ... Fitting Alpha vs. Time\r"
       ]
      },
      {
       "output_type": "stream",
       "stream": "stdout",
       "text": [
        "[################-------------------------]  39.2% ... Fitting Alpha vs. Time\r"
       ]
      },
      {
       "output_type": "stream",
       "stream": "stdout",
       "text": [
        "[################-------------------------]  39.3% ... Fitting Alpha vs. Time\r"
       ]
      },
      {
       "output_type": "stream",
       "stream": "stdout",
       "text": [
        "[################-------------------------]  39.4% ... Fitting Alpha vs. Time\r"
       ]
      },
      {
       "output_type": "stream",
       "stream": "stdout",
       "text": [
        "[################-------------------------]  39.5% ... Fitting Alpha vs. Time\r"
       ]
      },
      {
       "output_type": "stream",
       "stream": "stdout",
       "text": [
        "[################-------------------------]  39.6% ... Fitting Alpha vs. Time\r"
       ]
      },
      {
       "output_type": "stream",
       "stream": "stdout",
       "text": [
        "[################-------------------------]  39.7% ... Fitting Alpha vs. Time\r"
       ]
      },
      {
       "output_type": "stream",
       "stream": "stdout",
       "text": [
        "[################-------------------------]  39.8% ... Fitting Alpha vs. Time\r"
       ]
      },
      {
       "output_type": "stream",
       "stream": "stdout",
       "text": [
        "[################-------------------------]  39.9% ... Fitting Alpha vs. Time\r"
       ]
      },
      {
       "output_type": "stream",
       "stream": "stdout",
       "text": [
        "[################-------------------------]  40.0% ... Fitting Alpha vs. Time\r"
       ]
      },
      {
       "output_type": "stream",
       "stream": "stdout",
       "text": [
        "[################-------------------------]  40.1% ... Fitting Alpha vs. Time\r"
       ]
      },
      {
       "output_type": "stream",
       "stream": "stdout",
       "text": [
        "[################-------------------------]  40.2% ... Fitting Alpha vs. Time\r"
       ]
      },
      {
       "output_type": "stream",
       "stream": "stdout",
       "text": [
        "[#################------------------------]  40.3% ... Fitting Alpha vs. Time\r"
       ]
      },
      {
       "output_type": "stream",
       "stream": "stdout",
       "text": [
        "[#################------------------------]  40.4% ... Fitting Alpha vs. Time\r"
       ]
      },
      {
       "output_type": "stream",
       "stream": "stdout",
       "text": [
        "[#################------------------------]  40.5% ... Fitting Alpha vs. Time\r"
       ]
      },
      {
       "output_type": "stream",
       "stream": "stdout",
       "text": [
        "[#################------------------------]  40.6% ... Fitting Alpha vs. Time\r"
       ]
      },
      {
       "output_type": "stream",
       "stream": "stdout",
       "text": [
        "[#################------------------------]  40.7% ... Fitting Alpha vs. Time\r"
       ]
      },
      {
       "output_type": "stream",
       "stream": "stdout",
       "text": [
        "[#################------------------------]  40.8% ... Fitting Alpha vs. Time\r"
       ]
      },
      {
       "output_type": "stream",
       "stream": "stdout",
       "text": [
        "[#################------------------------]  40.9% ... Fitting Alpha vs. Time\r"
       ]
      },
      {
       "output_type": "stream",
       "stream": "stdout",
       "text": [
        "[#################------------------------]  41.0% ... Fitting Alpha vs. Time\r"
       ]
      },
      {
       "output_type": "stream",
       "stream": "stdout",
       "text": [
        "[#################------------------------]  41.1% ... Fitting Alpha vs. Time\r"
       ]
      },
      {
       "output_type": "stream",
       "stream": "stdout",
       "text": [
        "[#################------------------------]  41.2% ... Fitting Alpha vs. Time\r"
       ]
      },
      {
       "output_type": "stream",
       "stream": "stdout",
       "text": [
        "[#################------------------------]  41.3% ... Fitting Alpha vs. Time\r"
       ]
      },
      {
       "output_type": "stream",
       "stream": "stdout",
       "text": [
        "[#################------------------------]  41.4% ... Fitting Alpha vs. Time\r"
       ]
      },
      {
       "output_type": "stream",
       "stream": "stdout",
       "text": [
        "[#################------------------------]  41.5% ... Fitting Alpha vs. Time\r"
       ]
      },
      {
       "output_type": "stream",
       "stream": "stdout",
       "text": [
        "[#################------------------------]  41.6% ... Fitting Alpha vs. Time\r"
       ]
      },
      {
       "output_type": "stream",
       "stream": "stdout",
       "text": [
        "[#################------------------------]  41.7% ... Fitting Alpha vs. Time\r"
       ]
      },
      {
       "output_type": "stream",
       "stream": "stdout",
       "text": [
        "[#################------------------------]  41.8% ... Fitting Alpha vs. Time\r"
       ]
      },
      {
       "output_type": "stream",
       "stream": "stdout",
       "text": [
        "[#################------------------------]  41.9% ... Fitting Alpha vs. Time\r"
       ]
      },
      {
       "output_type": "stream",
       "stream": "stdout",
       "text": [
        "[#################------------------------]  42.0% ... Fitting Alpha vs. Time\r"
       ]
      },
      {
       "output_type": "stream",
       "stream": "stdout",
       "text": [
        "[#################------------------------]  42.1% ... Fitting Alpha vs. Time\r"
       ]
      },
      {
       "output_type": "stream",
       "stream": "stdout",
       "text": [
        "[#################------------------------]  42.2% ... Fitting Alpha vs. Time\r"
       ]
      },
      {
       "output_type": "stream",
       "stream": "stdout",
       "text": [
        "[#################------------------------]  42.3% ... Fitting Alpha vs. Time\r"
       ]
      },
      {
       "output_type": "stream",
       "stream": "stdout",
       "text": [
        "[#################------------------------]  42.4% ... Fitting Alpha vs. Time\r"
       ]
      },
      {
       "output_type": "stream",
       "stream": "stdout",
       "text": [
        "[#################------------------------]  42.5% ... Fitting Alpha vs. Time\r"
       ]
      },
      {
       "output_type": "stream",
       "stream": "stdout",
       "text": [
        "[#################------------------------]  42.6% ... Fitting Alpha vs. Time\r"
       ]
      },
      {
       "output_type": "stream",
       "stream": "stdout",
       "text": [
        "[##################-----------------------]  42.7% ... Fitting Alpha vs. Time\r"
       ]
      },
      {
       "output_type": "stream",
       "stream": "stdout",
       "text": [
        "[##################-----------------------]  42.8% ... Fitting Alpha vs. Time\r"
       ]
      },
      {
       "output_type": "stream",
       "stream": "stdout",
       "text": [
        "[##################-----------------------]  42.9% ... Fitting Alpha vs. Time\r"
       ]
      },
      {
       "output_type": "stream",
       "stream": "stdout",
       "text": [
        "[##################-----------------------]  43.0% ... Fitting Alpha vs. Time\r"
       ]
      },
      {
       "output_type": "stream",
       "stream": "stdout",
       "text": [
        "[##################-----------------------]  43.1% ... Fitting Alpha vs. Time\r"
       ]
      },
      {
       "output_type": "stream",
       "stream": "stdout",
       "text": [
        "[##################-----------------------]  43.2% ... Fitting Alpha vs. Time\r"
       ]
      },
      {
       "output_type": "stream",
       "stream": "stdout",
       "text": [
        "[##################-----------------------]  43.3% ... Fitting Alpha vs. Time\r"
       ]
      },
      {
       "output_type": "stream",
       "stream": "stdout",
       "text": [
        "[##################-----------------------]  43.4% ... Fitting Alpha vs. Time\r"
       ]
      },
      {
       "output_type": "stream",
       "stream": "stdout",
       "text": [
        "[##################-----------------------]  43.5% ... Fitting Alpha vs. Time\r"
       ]
      },
      {
       "output_type": "stream",
       "stream": "stdout",
       "text": [
        "[##################-----------------------]  43.6% ... Fitting Alpha vs. Time\r"
       ]
      },
      {
       "output_type": "stream",
       "stream": "stdout",
       "text": [
        "[##################-----------------------]  43.7% ... Fitting Alpha vs. Time\r"
       ]
      },
      {
       "output_type": "stream",
       "stream": "stdout",
       "text": [
        "[##################-----------------------]  43.8% ... Fitting Alpha vs. Time\r"
       ]
      },
      {
       "output_type": "stream",
       "stream": "stdout",
       "text": [
        "[##################-----------------------]  43.9% ... Fitting Alpha vs. Time\r"
       ]
      },
      {
       "output_type": "stream",
       "stream": "stdout",
       "text": [
        "[##################-----------------------]  44.0% ... Fitting Alpha vs. Time\r"
       ]
      },
      {
       "output_type": "stream",
       "stream": "stdout",
       "text": [
        "[##################-----------------------]  44.1% ... Fitting Alpha vs. Time\r"
       ]
      },
      {
       "output_type": "stream",
       "stream": "stdout",
       "text": [
        "[##################-----------------------]  44.2% ... Fitting Alpha vs. Time\r"
       ]
      },
      {
       "output_type": "stream",
       "stream": "stdout",
       "text": [
        "[##################-----------------------]  44.3% ... Fitting Alpha vs. Time\r"
       ]
      },
      {
       "output_type": "stream",
       "stream": "stdout",
       "text": [
        "[##################-----------------------]  44.4% ... Fitting Alpha vs. Time\r"
       ]
      },
      {
       "output_type": "stream",
       "stream": "stdout",
       "text": [
        "[##################-----------------------]  44.5% ... Fitting Alpha vs. Time\r"
       ]
      },
      {
       "output_type": "stream",
       "stream": "stdout",
       "text": [
        "[##################-----------------------]  44.6% ... Fitting Alpha vs. Time\r"
       ]
      },
      {
       "output_type": "stream",
       "stream": "stdout",
       "text": [
        "[##################-----------------------]  44.7% ... Fitting Alpha vs. Time\r"
       ]
      },
      {
       "output_type": "stream",
       "stream": "stdout",
       "text": [
        "[##################-----------------------]  44.8% ... Fitting Alpha vs. Time\r"
       ]
      },
      {
       "output_type": "stream",
       "stream": "stdout",
       "text": [
        "[##################-----------------------]  44.9% ... Fitting Alpha vs. Time\r"
       ]
      },
      {
       "output_type": "stream",
       "stream": "stdout",
       "text": [
        "[##################-----------------------]  45.0% ... Fitting Alpha vs. Time\r"
       ]
      },
      {
       "output_type": "stream",
       "stream": "stdout",
       "text": [
        "[##################-----------------------]  45.1% ... Fitting Alpha vs. Time\r"
       ]
      },
      {
       "output_type": "stream",
       "stream": "stdout",
       "text": [
        "[###################----------------------]  45.2% ... Fitting Alpha vs. Time\r"
       ]
      },
      {
       "output_type": "stream",
       "stream": "stdout",
       "text": [
        "[###################----------------------]  45.3% ... Fitting Alpha vs. Time\r"
       ]
      },
      {
       "output_type": "stream",
       "stream": "stdout",
       "text": [
        "[###################----------------------]  45.4% ... Fitting Alpha vs. Time\r"
       ]
      },
      {
       "output_type": "stream",
       "stream": "stdout",
       "text": [
        "[###################----------------------]  45.5% ... Fitting Alpha vs. Time\r"
       ]
      },
      {
       "output_type": "stream",
       "stream": "stdout",
       "text": [
        "[###################----------------------]  45.6% ... Fitting Alpha vs. Time\r"
       ]
      },
      {
       "output_type": "stream",
       "stream": "stdout",
       "text": [
        "[###################----------------------]  45.7% ... Fitting Alpha vs. Time\r"
       ]
      },
      {
       "output_type": "stream",
       "stream": "stdout",
       "text": [
        "[###################----------------------]  45.8% ... Fitting Alpha vs. Time\r"
       ]
      },
      {
       "output_type": "stream",
       "stream": "stdout",
       "text": [
        "[###################----------------------]  45.9% ... Fitting Alpha vs. Time\r"
       ]
      },
      {
       "output_type": "stream",
       "stream": "stdout",
       "text": [
        "[###################----------------------]  46.0% ... Fitting Alpha vs. Time\r"
       ]
      },
      {
       "output_type": "stream",
       "stream": "stdout",
       "text": [
        "[###################----------------------]  46.1% ... Fitting Alpha vs. Time\r"
       ]
      },
      {
       "output_type": "stream",
       "stream": "stdout",
       "text": [
        "[###################----------------------]  46.2% ... Fitting Alpha vs. Time\r"
       ]
      },
      {
       "output_type": "stream",
       "stream": "stdout",
       "text": [
        "[###################----------------------]  46.3% ... Fitting Alpha vs. Time\r"
       ]
      },
      {
       "output_type": "stream",
       "stream": "stdout",
       "text": [
        "[###################----------------------]  46.4% ... Fitting Alpha vs. Time\r"
       ]
      },
      {
       "output_type": "stream",
       "stream": "stdout",
       "text": [
        "[###################----------------------]  46.5% ... Fitting Alpha vs. Time\r"
       ]
      },
      {
       "output_type": "stream",
       "stream": "stdout",
       "text": [
        "[###################----------------------]  46.6% ... Fitting Alpha vs. Time\r"
       ]
      },
      {
       "output_type": "stream",
       "stream": "stdout",
       "text": [
        "[###################----------------------]  46.7% ... Fitting Alpha vs. Time\r"
       ]
      },
      {
       "output_type": "stream",
       "stream": "stdout",
       "text": [
        "[###################----------------------]  46.8% ... Fitting Alpha vs. Time\r"
       ]
      },
      {
       "output_type": "stream",
       "stream": "stdout",
       "text": [
        "[###################----------------------]  46.9% ... Fitting Alpha vs. Time\r"
       ]
      },
      {
       "output_type": "stream",
       "stream": "stdout",
       "text": [
        "[###################----------------------]  47.0% ... Fitting Alpha vs. Time\r"
       ]
      },
      {
       "output_type": "stream",
       "stream": "stdout",
       "text": [
        "[###################----------------------]  47.1% ... Fitting Alpha vs. Time\r"
       ]
      },
      {
       "output_type": "stream",
       "stream": "stdout",
       "text": [
        "[###################----------------------]  47.2% ... Fitting Alpha vs. Time\r"
       ]
      },
      {
       "output_type": "stream",
       "stream": "stdout",
       "text": [
        "[###################----------------------]  47.3% ... Fitting Alpha vs. Time\r"
       ]
      },
      {
       "output_type": "stream",
       "stream": "stdout",
       "text": [
        "[###################----------------------]  47.4% ... Fitting Alpha vs. Time\r"
       ]
      },
      {
       "output_type": "stream",
       "stream": "stdout",
       "text": [
        "[###################----------------------]  47.5% ... Fitting Alpha vs. Time\r"
       ]
      },
      {
       "output_type": "stream",
       "stream": "stdout",
       "text": [
        "[####################---------------------]  47.6% ... Fitting Alpha vs. Time\r"
       ]
      },
      {
       "output_type": "stream",
       "stream": "stdout",
       "text": [
        "[####################---------------------]  47.7% ... Fitting Alpha vs. Time\r"
       ]
      },
      {
       "output_type": "stream",
       "stream": "stdout",
       "text": [
        "[####################---------------------]  47.8% ... Fitting Alpha vs. Time\r"
       ]
      },
      {
       "output_type": "stream",
       "stream": "stdout",
       "text": [
        "[####################---------------------]  47.9% ... Fitting Alpha vs. Time\r"
       ]
      },
      {
       "output_type": "stream",
       "stream": "stdout",
       "text": [
        "[####################---------------------]  48.0% ... Fitting Alpha vs. Time\r"
       ]
      },
      {
       "output_type": "stream",
       "stream": "stdout",
       "text": [
        "[####################---------------------]  48.1% ... Fitting Alpha vs. Time\r"
       ]
      },
      {
       "output_type": "stream",
       "stream": "stdout",
       "text": [
        "[####################---------------------]  48.2% ... Fitting Alpha vs. Time\r"
       ]
      },
      {
       "output_type": "stream",
       "stream": "stdout",
       "text": [
        "[####################---------------------]  48.3% ... Fitting Alpha vs. Time\r"
       ]
      },
      {
       "output_type": "stream",
       "stream": "stdout",
       "text": [
        "[####################---------------------]  48.4% ... Fitting Alpha vs. Time\r"
       ]
      },
      {
       "output_type": "stream",
       "stream": "stdout",
       "text": [
        "[####################---------------------]  48.5% ... Fitting Alpha vs. Time\r"
       ]
      },
      {
       "output_type": "stream",
       "stream": "stdout",
       "text": [
        "[####################---------------------]  48.6% ... Fitting Alpha vs. Time\r"
       ]
      },
      {
       "output_type": "stream",
       "stream": "stdout",
       "text": [
        "[####################---------------------]  48.7% ... Fitting Alpha vs. Time\r"
       ]
      },
      {
       "output_type": "stream",
       "stream": "stdout",
       "text": [
        "[####################---------------------]  48.8% ... Fitting Alpha vs. Time\r"
       ]
      },
      {
       "output_type": "stream",
       "stream": "stdout",
       "text": [
        "[####################---------------------]  48.9% ... Fitting Alpha vs. Time\r"
       ]
      },
      {
       "output_type": "stream",
       "stream": "stdout",
       "text": [
        "[####################---------------------]  49.0% ... Fitting Alpha vs. Time\r"
       ]
      },
      {
       "output_type": "stream",
       "stream": "stdout",
       "text": [
        "[####################---------------------]  49.1% ... Fitting Alpha vs. Time\r"
       ]
      },
      {
       "output_type": "stream",
       "stream": "stdout",
       "text": [
        "[####################---------------------]  49.2% ... Fitting Alpha vs. Time\r"
       ]
      },
      {
       "output_type": "stream",
       "stream": "stdout",
       "text": [
        "[####################---------------------]  49.3% ... Fitting Alpha vs. Time\r"
       ]
      },
      {
       "output_type": "stream",
       "stream": "stdout",
       "text": [
        "[####################---------------------]  49.4% ... Fitting Alpha vs. Time\r"
       ]
      },
      {
       "output_type": "stream",
       "stream": "stdout",
       "text": [
        "[####################---------------------]  49.5% ... Fitting Alpha vs. Time\r"
       ]
      },
      {
       "output_type": "stream",
       "stream": "stdout",
       "text": [
        "[####################---------------------]  49.6% ... Fitting Alpha vs. Time\r"
       ]
      },
      {
       "output_type": "stream",
       "stream": "stdout",
       "text": [
        "[####################---------------------]  49.7% ... Fitting Alpha vs. Time\r"
       ]
      },
      {
       "output_type": "stream",
       "stream": "stdout",
       "text": [
        "[####################---------------------]  49.8% ... Fitting Alpha vs. Time\r"
       ]
      },
      {
       "output_type": "stream",
       "stream": "stdout",
       "text": [
        "[####################---------------------]  49.9% ... Fitting Alpha vs. Time\r"
       ]
      },
      {
       "output_type": "stream",
       "stream": "stdout",
       "text": [
        "[#####################--------------------]  50.0% ... Fitting Alpha vs. Time\r"
       ]
      },
      {
       "output_type": "stream",
       "stream": "stdout",
       "text": [
        "[#####################--------------------]  50.1% ... Fitting Alpha vs. Time\r"
       ]
      },
      {
       "output_type": "stream",
       "stream": "stdout",
       "text": [
        "[#####################--------------------]  50.2% ... Fitting Alpha vs. Time\r"
       ]
      },
      {
       "output_type": "stream",
       "stream": "stdout",
       "text": [
        "[#####################--------------------]  50.3% ... Fitting Alpha vs. Time\r"
       ]
      },
      {
       "output_type": "stream",
       "stream": "stdout",
       "text": [
        "[#####################--------------------]  50.4% ... Fitting Alpha vs. Time\r"
       ]
      },
      {
       "output_type": "stream",
       "stream": "stdout",
       "text": [
        "[#####################--------------------]  50.5% ... Fitting Alpha vs. Time\r"
       ]
      },
      {
       "output_type": "stream",
       "stream": "stdout",
       "text": [
        "[#####################--------------------]  50.6% ... Fitting Alpha vs. Time\r"
       ]
      },
      {
       "output_type": "stream",
       "stream": "stdout",
       "text": [
        "[#####################--------------------]  50.7% ... Fitting Alpha vs. Time\r"
       ]
      },
      {
       "output_type": "stream",
       "stream": "stdout",
       "text": [
        "[#####################--------------------]  50.8% ... Fitting Alpha vs. Time\r"
       ]
      },
      {
       "output_type": "stream",
       "stream": "stdout",
       "text": [
        "[#####################--------------------]  50.9% ... Fitting Alpha vs. Time\r"
       ]
      },
      {
       "output_type": "stream",
       "stream": "stdout",
       "text": [
        "[#####################--------------------]  51.0% ... Fitting Alpha vs. Time\r"
       ]
      },
      {
       "output_type": "stream",
       "stream": "stdout",
       "text": [
        "[#####################--------------------]  51.1% ... Fitting Alpha vs. Time\r"
       ]
      },
      {
       "output_type": "stream",
       "stream": "stdout",
       "text": [
        "[#####################--------------------]  51.2% ... Fitting Alpha vs. Time\r"
       ]
      },
      {
       "output_type": "stream",
       "stream": "stdout",
       "text": [
        "[#####################--------------------]  51.3% ... Fitting Alpha vs. Time\r"
       ]
      },
      {
       "output_type": "stream",
       "stream": "stdout",
       "text": [
        "[#####################--------------------]  51.4% ... Fitting Alpha vs. Time\r"
       ]
      },
      {
       "output_type": "stream",
       "stream": "stdout",
       "text": [
        "[#####################--------------------]  51.5% ... Fitting Alpha vs. Time\r"
       ]
      },
      {
       "output_type": "stream",
       "stream": "stdout",
       "text": [
        "[#####################--------------------]  51.6% ... Fitting Alpha vs. Time\r"
       ]
      },
      {
       "output_type": "stream",
       "stream": "stdout",
       "text": [
        "[#####################--------------------]  51.7% ... Fitting Alpha vs. Time\r"
       ]
      },
      {
       "output_type": "stream",
       "stream": "stdout",
       "text": [
        "[#####################--------------------]  51.8% ... Fitting Alpha vs. Time\r"
       ]
      },
      {
       "output_type": "stream",
       "stream": "stdout",
       "text": [
        "[#####################--------------------]  51.9% ... Fitting Alpha vs. Time\r"
       ]
      },
      {
       "output_type": "stream",
       "stream": "stdout",
       "text": [
        "[#####################--------------------]  52.0% ... Fitting Alpha vs. Time\r"
       ]
      },
      {
       "output_type": "stream",
       "stream": "stdout",
       "text": [
        "[#####################--------------------]  52.1% ... Fitting Alpha vs. Time\r"
       ]
      },
      {
       "output_type": "stream",
       "stream": "stdout",
       "text": [
        "[#####################--------------------]  52.2% ... Fitting Alpha vs. Time\r"
       ]
      },
      {
       "output_type": "stream",
       "stream": "stdout",
       "text": [
        "[#####################--------------------]  52.3% ... Fitting Alpha vs. Time\r"
       ]
      },
      {
       "output_type": "stream",
       "stream": "stdout",
       "text": [
        "[#####################--------------------]  52.4% ... Fitting Alpha vs. Time\r"
       ]
      },
      {
       "output_type": "stream",
       "stream": "stdout",
       "text": [
        "[######################-------------------]  52.5% ... Fitting Alpha vs. Time\r"
       ]
      },
      {
       "output_type": "stream",
       "stream": "stdout",
       "text": [
        "[######################-------------------]  52.6% ... Fitting Alpha vs. Time\r"
       ]
      },
      {
       "output_type": "stream",
       "stream": "stdout",
       "text": [
        "[######################-------------------]  52.7% ... Fitting Alpha vs. Time\r"
       ]
      },
      {
       "output_type": "stream",
       "stream": "stdout",
       "text": [
        "[######################-------------------]  52.8% ... Fitting Alpha vs. Time\r"
       ]
      },
      {
       "output_type": "stream",
       "stream": "stdout",
       "text": [
        "[######################-------------------]  52.9% ... Fitting Alpha vs. Time\r"
       ]
      },
      {
       "output_type": "stream",
       "stream": "stdout",
       "text": [
        "[######################-------------------]  53.0% ... Fitting Alpha vs. Time\r"
       ]
      },
      {
       "output_type": "stream",
       "stream": "stdout",
       "text": [
        "[######################-------------------]  53.1% ... Fitting Alpha vs. Time\r"
       ]
      },
      {
       "output_type": "stream",
       "stream": "stdout",
       "text": [
        "[######################-------------------]  53.2% ... Fitting Alpha vs. Time\r"
       ]
      },
      {
       "output_type": "stream",
       "stream": "stdout",
       "text": [
        "[######################-------------------]  53.3% ... Fitting Alpha vs. Time\r"
       ]
      },
      {
       "output_type": "stream",
       "stream": "stdout",
       "text": [
        "[######################-------------------]  53.4% ... Fitting Alpha vs. Time\r"
       ]
      },
      {
       "output_type": "stream",
       "stream": "stdout",
       "text": [
        "[######################-------------------]  53.5% ... Fitting Alpha vs. Time\r"
       ]
      },
      {
       "output_type": "stream",
       "stream": "stdout",
       "text": [
        "[######################-------------------]  53.6% ... Fitting Alpha vs. Time\r"
       ]
      },
      {
       "output_type": "stream",
       "stream": "stdout",
       "text": [
        "[######################-------------------]  53.7% ... Fitting Alpha vs. Time\r"
       ]
      },
      {
       "output_type": "stream",
       "stream": "stdout",
       "text": [
        "[######################-------------------]  53.8% ... Fitting Alpha vs. Time\r"
       ]
      },
      {
       "output_type": "stream",
       "stream": "stdout",
       "text": [
        "[######################-------------------]  53.9% ... Fitting Alpha vs. Time\r"
       ]
      },
      {
       "output_type": "stream",
       "stream": "stdout",
       "text": [
        "[######################-------------------]  54.0% ... Fitting Alpha vs. Time\r"
       ]
      },
      {
       "output_type": "stream",
       "stream": "stdout",
       "text": [
        "[######################-------------------]  54.1% ... Fitting Alpha vs. Time\r"
       ]
      },
      {
       "output_type": "stream",
       "stream": "stdout",
       "text": [
        "[######################-------------------]  54.2% ... Fitting Alpha vs. Time\r"
       ]
      },
      {
       "output_type": "stream",
       "stream": "stdout",
       "text": [
        "[######################-------------------]  54.3% ... Fitting Alpha vs. Time\r"
       ]
      },
      {
       "output_type": "stream",
       "stream": "stdout",
       "text": [
        "[######################-------------------]  54.4% ... Fitting Alpha vs. Time\r"
       ]
      },
      {
       "output_type": "stream",
       "stream": "stdout",
       "text": [
        "[######################-------------------]  54.5% ... Fitting Alpha vs. Time\r"
       ]
      },
      {
       "output_type": "stream",
       "stream": "stdout",
       "text": [
        "[######################-------------------]  54.6% ... Fitting Alpha vs. Time\r"
       ]
      },
      {
       "output_type": "stream",
       "stream": "stdout",
       "text": [
        "[######################-------------------]  54.7% ... Fitting Alpha vs. Time\r"
       ]
      },
      {
       "output_type": "stream",
       "stream": "stdout",
       "text": [
        "[######################-------------------]  54.8% ... Fitting Alpha vs. Time\r"
       ]
      },
      {
       "output_type": "stream",
       "stream": "stdout",
       "text": [
        "[#######################------------------]  54.9% ... Fitting Alpha vs. Time\r"
       ]
      },
      {
       "output_type": "stream",
       "stream": "stdout",
       "text": [
        "[#######################------------------]  55.0% ... Fitting Alpha vs. Time\r"
       ]
      },
      {
       "output_type": "stream",
       "stream": "stdout",
       "text": [
        "[#######################------------------]  55.1% ... Fitting Alpha vs. Time\r"
       ]
      },
      {
       "output_type": "stream",
       "stream": "stdout",
       "text": [
        "[#######################------------------]  55.2% ... Fitting Alpha vs. Time\r"
       ]
      },
      {
       "output_type": "stream",
       "stream": "stdout",
       "text": [
        "[#######################------------------]  55.3% ... Fitting Alpha vs. Time\r"
       ]
      },
      {
       "output_type": "stream",
       "stream": "stdout",
       "text": [
        "[#######################------------------]  55.4% ... Fitting Alpha vs. Time\r"
       ]
      },
      {
       "output_type": "stream",
       "stream": "stdout",
       "text": [
        "[#######################------------------]  55.5% ... Fitting Alpha vs. Time\r"
       ]
      },
      {
       "output_type": "stream",
       "stream": "stdout",
       "text": [
        "[#######################------------------]  55.6% ... Fitting Alpha vs. Time\r"
       ]
      },
      {
       "output_type": "stream",
       "stream": "stdout",
       "text": [
        "[#######################------------------]  55.7% ... Fitting Alpha vs. Time\r"
       ]
      },
      {
       "output_type": "stream",
       "stream": "stdout",
       "text": [
        "[#######################------------------]  55.8% ... Fitting Alpha vs. Time\r"
       ]
      },
      {
       "output_type": "stream",
       "stream": "stdout",
       "text": [
        "[#######################------------------]  55.9% ... Fitting Alpha vs. Time\r"
       ]
      },
      {
       "output_type": "stream",
       "stream": "stdout",
       "text": [
        "[#######################------------------]  56.0% ... Fitting Alpha vs. Time\r"
       ]
      },
      {
       "output_type": "stream",
       "stream": "stdout",
       "text": [
        "[#######################------------------]  56.1% ... Fitting Alpha vs. Time\r"
       ]
      },
      {
       "output_type": "stream",
       "stream": "stdout",
       "text": [
        "[#######################------------------]  56.2% ... Fitting Alpha vs. Time\r"
       ]
      },
      {
       "output_type": "stream",
       "stream": "stdout",
       "text": [
        "[#######################------------------]  56.3% ... Fitting Alpha vs. Time\r"
       ]
      },
      {
       "output_type": "stream",
       "stream": "stdout",
       "text": [
        "[#######################------------------]  56.4% ... Fitting Alpha vs. Time\r"
       ]
      },
      {
       "output_type": "stream",
       "stream": "stdout",
       "text": [
        "[#######################------------------]  56.5% ... Fitting Alpha vs. Time\r"
       ]
      },
      {
       "output_type": "stream",
       "stream": "stdout",
       "text": [
        "[#######################------------------]  56.6% ... Fitting Alpha vs. Time\r"
       ]
      },
      {
       "output_type": "stream",
       "stream": "stdout",
       "text": [
        "[#######################------------------]  56.7% ... Fitting Alpha vs. Time\r"
       ]
      },
      {
       "output_type": "stream",
       "stream": "stdout",
       "text": [
        "[#######################------------------]  56.8% ... Fitting Alpha vs. Time\r"
       ]
      },
      {
       "output_type": "stream",
       "stream": "stdout",
       "text": [
        "[#######################------------------]  56.9% ... Fitting Alpha vs. Time\r"
       ]
      },
      {
       "output_type": "stream",
       "stream": "stdout",
       "text": [
        "[#######################------------------]  57.0% ... Fitting Alpha vs. Time\r"
       ]
      },
      {
       "output_type": "stream",
       "stream": "stdout",
       "text": [
        "[#######################------------------]  57.1% ... Fitting Alpha vs. Time\r"
       ]
      },
      {
       "output_type": "stream",
       "stream": "stdout",
       "text": [
        "[#######################------------------]  57.2% ... Fitting Alpha vs. Time\r"
       ]
      },
      {
       "output_type": "stream",
       "stream": "stdout",
       "text": [
        "[#######################------------------]  57.3% ... Fitting Alpha vs. Time\r"
       ]
      },
      {
       "output_type": "stream",
       "stream": "stdout",
       "text": [
        "[########################-----------------]  57.4% ... Fitting Alpha vs. Time\r"
       ]
      },
      {
       "output_type": "stream",
       "stream": "stdout",
       "text": [
        "[########################-----------------]  57.5% ... Fitting Alpha vs. Time\r"
       ]
      },
      {
       "output_type": "stream",
       "stream": "stdout",
       "text": [
        "[########################-----------------]  57.6% ... Fitting Alpha vs. Time\r"
       ]
      },
      {
       "output_type": "stream",
       "stream": "stdout",
       "text": [
        "[########################-----------------]  57.7% ... Fitting Alpha vs. Time\r"
       ]
      },
      {
       "output_type": "stream",
       "stream": "stdout",
       "text": [
        "[########################-----------------]  57.8% ... Fitting Alpha vs. Time\r"
       ]
      },
      {
       "output_type": "stream",
       "stream": "stdout",
       "text": [
        "[########################-----------------]  57.9% ... Fitting Alpha vs. Time\r"
       ]
      },
      {
       "output_type": "stream",
       "stream": "stdout",
       "text": [
        "[########################-----------------]  58.0% ... Fitting Alpha vs. Time\r"
       ]
      },
      {
       "output_type": "stream",
       "stream": "stdout",
       "text": [
        "[########################-----------------]  58.1% ... Fitting Alpha vs. Time\r"
       ]
      },
      {
       "output_type": "stream",
       "stream": "stdout",
       "text": [
        "[########################-----------------]  58.2% ... Fitting Alpha vs. Time\r"
       ]
      },
      {
       "output_type": "stream",
       "stream": "stdout",
       "text": [
        "[########################-----------------]  58.3% ... Fitting Alpha vs. Time\r"
       ]
      },
      {
       "output_type": "stream",
       "stream": "stdout",
       "text": [
        "[########################-----------------]  58.4% ... Fitting Alpha vs. Time\r"
       ]
      },
      {
       "output_type": "stream",
       "stream": "stdout",
       "text": [
        "[########################-----------------]  58.5% ... Fitting Alpha vs. Time\r"
       ]
      },
      {
       "output_type": "stream",
       "stream": "stdout",
       "text": [
        "[########################-----------------]  58.6% ... Fitting Alpha vs. Time\r"
       ]
      },
      {
       "output_type": "stream",
       "stream": "stdout",
       "text": [
        "[########################-----------------]  58.7% ... Fitting Alpha vs. Time\r"
       ]
      },
      {
       "output_type": "stream",
       "stream": "stdout",
       "text": [
        "[########################-----------------]  58.8% ... Fitting Alpha vs. Time\r"
       ]
      },
      {
       "output_type": "stream",
       "stream": "stdout",
       "text": [
        "[########################-----------------]  58.9% ... Fitting Alpha vs. Time\r"
       ]
      },
      {
       "output_type": "stream",
       "stream": "stdout",
       "text": [
        "[########################-----------------]  59.0% ... Fitting Alpha vs. Time\r"
       ]
      },
      {
       "output_type": "stream",
       "stream": "stdout",
       "text": [
        "[########################-----------------]  59.1% ... Fitting Alpha vs. Time\r"
       ]
      },
      {
       "output_type": "stream",
       "stream": "stdout",
       "text": [
        "[########################-----------------]  59.2% ... Fitting Alpha vs. Time\r"
       ]
      },
      {
       "output_type": "stream",
       "stream": "stdout",
       "text": [
        "[########################-----------------]  59.3% ... Fitting Alpha vs. Time\r"
       ]
      },
      {
       "output_type": "stream",
       "stream": "stdout",
       "text": [
        "[########################-----------------]  59.4% ... Fitting Alpha vs. Time\r"
       ]
      },
      {
       "output_type": "stream",
       "stream": "stdout",
       "text": [
        "[########################-----------------]  59.5% ... Fitting Alpha vs. Time\r"
       ]
      },
      {
       "output_type": "stream",
       "stream": "stdout",
       "text": [
        "[########################-----------------]  59.6% ... Fitting Alpha vs. Time\r"
       ]
      },
      {
       "output_type": "stream",
       "stream": "stdout",
       "text": [
        "[########################-----------------]  59.7% ... Fitting Alpha vs. Time\r"
       ]
      },
      {
       "output_type": "stream",
       "stream": "stdout",
       "text": [
        "[#########################----------------]  59.8% ... Fitting Alpha vs. Time\r"
       ]
      },
      {
       "output_type": "stream",
       "stream": "stdout",
       "text": [
        "[#########################----------------]  59.9% ... Fitting Alpha vs. Time\r"
       ]
      },
      {
       "output_type": "stream",
       "stream": "stdout",
       "text": [
        "[#########################----------------]  60.0% ... Fitting Alpha vs. Time\r"
       ]
      },
      {
       "output_type": "stream",
       "stream": "stdout",
       "text": [
        "[#########################----------------]  60.1% ... Fitting Alpha vs. Time\r"
       ]
      },
      {
       "output_type": "stream",
       "stream": "stdout",
       "text": [
        "[#########################----------------]  60.2% ... Fitting Alpha vs. Time\r"
       ]
      },
      {
       "output_type": "stream",
       "stream": "stdout",
       "text": [
        "[#########################----------------]  60.3% ... Fitting Alpha vs. Time\r"
       ]
      },
      {
       "output_type": "stream",
       "stream": "stdout",
       "text": [
        "[#########################----------------]  60.4% ... Fitting Alpha vs. Time\r"
       ]
      },
      {
       "output_type": "stream",
       "stream": "stdout",
       "text": [
        "[#########################----------------]  60.5% ... Fitting Alpha vs. Time\r"
       ]
      },
      {
       "output_type": "stream",
       "stream": "stdout",
       "text": [
        "[#########################----------------]  60.6% ... Fitting Alpha vs. Time\r"
       ]
      },
      {
       "output_type": "stream",
       "stream": "stdout",
       "text": [
        "[#########################----------------]  60.7% ... Fitting Alpha vs. Time\r"
       ]
      },
      {
       "output_type": "stream",
       "stream": "stdout",
       "text": [
        "[#########################----------------]  60.8% ... Fitting Alpha vs. Time\r"
       ]
      },
      {
       "output_type": "stream",
       "stream": "stdout",
       "text": [
        "[#########################----------------]  60.9% ... Fitting Alpha vs. Time\r"
       ]
      },
      {
       "output_type": "stream",
       "stream": "stdout",
       "text": [
        "[#########################----------------]  61.0% ... Fitting Alpha vs. Time\r"
       ]
      },
      {
       "output_type": "stream",
       "stream": "stdout",
       "text": [
        "[#########################----------------]  61.1% ... Fitting Alpha vs. Time\r"
       ]
      },
      {
       "output_type": "stream",
       "stream": "stdout",
       "text": [
        "[#########################----------------]  61.2% ... Fitting Alpha vs. Time\r"
       ]
      },
      {
       "output_type": "stream",
       "stream": "stdout",
       "text": [
        "[#########################----------------]  61.3% ... Fitting Alpha vs. Time\r"
       ]
      },
      {
       "output_type": "stream",
       "stream": "stdout",
       "text": [
        "[#########################----------------]  61.4% ... Fitting Alpha vs. Time\r"
       ]
      },
      {
       "output_type": "stream",
       "stream": "stdout",
       "text": [
        "[#########################----------------]  61.5% ... Fitting Alpha vs. Time\r"
       ]
      },
      {
       "output_type": "stream",
       "stream": "stdout",
       "text": [
        "[#########################----------------]  61.6% ... Fitting Alpha vs. Time\r"
       ]
      },
      {
       "output_type": "stream",
       "stream": "stdout",
       "text": [
        "[#########################----------------]  61.7% ... Fitting Alpha vs. Time\r"
       ]
      },
      {
       "output_type": "stream",
       "stream": "stdout",
       "text": [
        "[#########################----------------]  61.8% ... Fitting Alpha vs. Time\r"
       ]
      },
      {
       "output_type": "stream",
       "stream": "stdout",
       "text": [
        "[#########################----------------]  61.9% ... Fitting Alpha vs. Time\r"
       ]
      },
      {
       "output_type": "stream",
       "stream": "stdout",
       "text": [
        "[#########################----------------]  62.0% ... Fitting Alpha vs. Time\r"
       ]
      },
      {
       "output_type": "stream",
       "stream": "stdout",
       "text": [
        "[#########################----------------]  62.1% ... Fitting Alpha vs. Time\r"
       ]
      },
      {
       "output_type": "stream",
       "stream": "stdout",
       "text": [
        "[##########################---------------]  62.2% ... Fitting Alpha vs. Time\r"
       ]
      },
      {
       "output_type": "stream",
       "stream": "stdout",
       "text": [
        "[##########################---------------]  62.3% ... Fitting Alpha vs. Time\r"
       ]
      },
      {
       "output_type": "stream",
       "stream": "stdout",
       "text": [
        "[##########################---------------]  62.4% ... Fitting Alpha vs. Time\r"
       ]
      },
      {
       "output_type": "stream",
       "stream": "stdout",
       "text": [
        "[##########################---------------]  62.5% ... Fitting Alpha vs. Time\r"
       ]
      },
      {
       "output_type": "stream",
       "stream": "stdout",
       "text": [
        "[##########################---------------]  62.6% ... Fitting Alpha vs. Time\r"
       ]
      },
      {
       "output_type": "stream",
       "stream": "stdout",
       "text": [
        "[##########################---------------]  62.7% ... Fitting Alpha vs. Time\r"
       ]
      },
      {
       "output_type": "stream",
       "stream": "stdout",
       "text": [
        "[##########################---------------]  62.8% ... Fitting Alpha vs. Time\r"
       ]
      },
      {
       "output_type": "stream",
       "stream": "stdout",
       "text": [
        "[##########################---------------]  62.9% ... Fitting Alpha vs. Time\r"
       ]
      },
      {
       "output_type": "stream",
       "stream": "stdout",
       "text": [
        "[##########################---------------]  63.0% ... Fitting Alpha vs. Time\r"
       ]
      },
      {
       "output_type": "stream",
       "stream": "stdout",
       "text": [
        "[##########################---------------]  63.1% ... Fitting Alpha vs. Time\r"
       ]
      },
      {
       "output_type": "stream",
       "stream": "stdout",
       "text": [
        "[##########################---------------]  63.2% ... Fitting Alpha vs. Time\r"
       ]
      },
      {
       "output_type": "stream",
       "stream": "stdout",
       "text": [
        "[##########################---------------]  63.3% ... Fitting Alpha vs. Time\r"
       ]
      },
      {
       "output_type": "stream",
       "stream": "stdout",
       "text": [
        "[##########################---------------]  63.4% ... Fitting Alpha vs. Time\r"
       ]
      },
      {
       "output_type": "stream",
       "stream": "stdout",
       "text": [
        "[##########################---------------]  63.5% ... Fitting Alpha vs. Time\r"
       ]
      },
      {
       "output_type": "stream",
       "stream": "stdout",
       "text": [
        "[##########################---------------]  63.6% ... Fitting Alpha vs. Time\r"
       ]
      },
      {
       "output_type": "stream",
       "stream": "stdout",
       "text": [
        "[##########################---------------]  63.7% ... Fitting Alpha vs. Time\r"
       ]
      },
      {
       "output_type": "stream",
       "stream": "stdout",
       "text": [
        "[##########################---------------]  63.8% ... Fitting Alpha vs. Time\r"
       ]
      },
      {
       "output_type": "stream",
       "stream": "stdout",
       "text": [
        "[##########################---------------]  63.9% ... Fitting Alpha vs. Time\r"
       ]
      },
      {
       "output_type": "stream",
       "stream": "stdout",
       "text": [
        "[##########################---------------]  64.0% ... Fitting Alpha vs. Time\r"
       ]
      },
      {
       "output_type": "stream",
       "stream": "stdout",
       "text": [
        "[##########################---------------]  64.1% ... Fitting Alpha vs. Time\r"
       ]
      },
      {
       "output_type": "stream",
       "stream": "stdout",
       "text": [
        "[##########################---------------]  64.2% ... Fitting Alpha vs. Time\r"
       ]
      },
      {
       "output_type": "stream",
       "stream": "stdout",
       "text": [
        "[##########################---------------]  64.3% ... Fitting Alpha vs. Time\r"
       ]
      },
      {
       "output_type": "stream",
       "stream": "stdout",
       "text": [
        "[##########################---------------]  64.4% ... Fitting Alpha vs. Time\r"
       ]
      },
      {
       "output_type": "stream",
       "stream": "stdout",
       "text": [
        "[##########################---------------]  64.5% ... Fitting Alpha vs. Time\r"
       ]
      },
      {
       "output_type": "stream",
       "stream": "stdout",
       "text": [
        "[##########################---------------]  64.6% ... Fitting Alpha vs. Time\r"
       ]
      },
      {
       "output_type": "stream",
       "stream": "stdout",
       "text": [
        "[###########################--------------]  64.7% ... Fitting Alpha vs. Time\r"
       ]
      },
      {
       "output_type": "stream",
       "stream": "stdout",
       "text": [
        "[###########################--------------]  64.8% ... Fitting Alpha vs. Time\r"
       ]
      },
      {
       "output_type": "stream",
       "stream": "stdout",
       "text": [
        "[###########################--------------]  64.9% ... Fitting Alpha vs. Time\r"
       ]
      },
      {
       "output_type": "stream",
       "stream": "stdout",
       "text": [
        "[###########################--------------]  65.0% ... Fitting Alpha vs. Time\r"
       ]
      },
      {
       "output_type": "stream",
       "stream": "stdout",
       "text": [
        "[###########################--------------]  65.1% ... Fitting Alpha vs. Time\r"
       ]
      },
      {
       "output_type": "stream",
       "stream": "stdout",
       "text": [
        "[###########################--------------]  65.2% ... Fitting Alpha vs. Time\r"
       ]
      },
      {
       "output_type": "stream",
       "stream": "stdout",
       "text": [
        "[###########################--------------]  65.3% ... Fitting Alpha vs. Time\r"
       ]
      },
      {
       "output_type": "stream",
       "stream": "stdout",
       "text": [
        "[###########################--------------]  65.4% ... Fitting Alpha vs. Time\r"
       ]
      },
      {
       "output_type": "stream",
       "stream": "stdout",
       "text": [
        "[###########################--------------]  65.5% ... Fitting Alpha vs. Time\r"
       ]
      },
      {
       "output_type": "stream",
       "stream": "stdout",
       "text": [
        "[###########################--------------]  65.6% ... Fitting Alpha vs. Time\r"
       ]
      },
      {
       "output_type": "stream",
       "stream": "stdout",
       "text": [
        "[###########################--------------]  65.7% ... Fitting Alpha vs. Time\r"
       ]
      },
      {
       "output_type": "stream",
       "stream": "stdout",
       "text": [
        "[###########################--------------]  65.8% ... Fitting Alpha vs. Time\r"
       ]
      },
      {
       "output_type": "stream",
       "stream": "stdout",
       "text": [
        "[###########################--------------]  65.9% ... Fitting Alpha vs. Time\r"
       ]
      },
      {
       "output_type": "stream",
       "stream": "stdout",
       "text": [
        "[###########################--------------]  66.0% ... Fitting Alpha vs. Time\r"
       ]
      },
      {
       "output_type": "stream",
       "stream": "stdout",
       "text": [
        "[###########################--------------]  66.1% ... Fitting Alpha vs. Time\r"
       ]
      },
      {
       "output_type": "stream",
       "stream": "stdout",
       "text": [
        "[###########################--------------]  66.2% ... Fitting Alpha vs. Time\r"
       ]
      },
      {
       "output_type": "stream",
       "stream": "stdout",
       "text": [
        "[###########################--------------]  66.3% ... Fitting Alpha vs. Time\r"
       ]
      },
      {
       "output_type": "stream",
       "stream": "stdout",
       "text": [
        "[###########################--------------]  66.4% ... Fitting Alpha vs. Time\r"
       ]
      },
      {
       "output_type": "stream",
       "stream": "stdout",
       "text": [
        "[###########################--------------]  66.5% ... Fitting Alpha vs. Time\r"
       ]
      },
      {
       "output_type": "stream",
       "stream": "stdout",
       "text": [
        "[###########################--------------]  66.6% ... Fitting Alpha vs. Time\r"
       ]
      },
      {
       "output_type": "stream",
       "stream": "stdout",
       "text": [
        "[###########################--------------]  66.7% ... Fitting Alpha vs. Time\r"
       ]
      },
      {
       "output_type": "stream",
       "stream": "stdout",
       "text": [
        "[###########################--------------]  66.8% ... Fitting Alpha vs. Time\r"
       ]
      },
      {
       "output_type": "stream",
       "stream": "stdout",
       "text": [
        "[###########################--------------]  66.9% ... Fitting Alpha vs. Time\r"
       ]
      },
      {
       "output_type": "stream",
       "stream": "stdout",
       "text": [
        "[###########################--------------]  67.0% ... Fitting Alpha vs. Time\r"
       ]
      },
      {
       "output_type": "stream",
       "stream": "stdout",
       "text": [
        "[############################-------------]  67.1% ... Fitting Alpha vs. Time\r"
       ]
      },
      {
       "output_type": "stream",
       "stream": "stdout",
       "text": [
        "[############################-------------]  67.2% ... Fitting Alpha vs. Time\r"
       ]
      },
      {
       "output_type": "stream",
       "stream": "stdout",
       "text": [
        "[############################-------------]  67.3% ... Fitting Alpha vs. Time\r"
       ]
      },
      {
       "output_type": "stream",
       "stream": "stdout",
       "text": [
        "[############################-------------]  67.4% ... Fitting Alpha vs. Time\r"
       ]
      },
      {
       "output_type": "stream",
       "stream": "stdout",
       "text": [
        "[############################-------------]  67.5% ... Fitting Alpha vs. Time\r"
       ]
      },
      {
       "output_type": "stream",
       "stream": "stdout",
       "text": [
        "[############################-------------]  67.6% ... Fitting Alpha vs. Time\r"
       ]
      },
      {
       "output_type": "stream",
       "stream": "stdout",
       "text": [
        "[############################-------------]  67.7% ... Fitting Alpha vs. Time\r"
       ]
      },
      {
       "output_type": "stream",
       "stream": "stdout",
       "text": [
        "[############################-------------]  67.8% ... Fitting Alpha vs. Time\r"
       ]
      },
      {
       "output_type": "stream",
       "stream": "stdout",
       "text": [
        "[############################-------------]  67.9% ... Fitting Alpha vs. Time\r"
       ]
      },
      {
       "output_type": "stream",
       "stream": "stdout",
       "text": [
        "[############################-------------]  68.0% ... Fitting Alpha vs. Time\r"
       ]
      },
      {
       "output_type": "stream",
       "stream": "stdout",
       "text": [
        "[############################-------------]  68.1% ... Fitting Alpha vs. Time\r"
       ]
      },
      {
       "output_type": "stream",
       "stream": "stdout",
       "text": [
        "[############################-------------]  68.2% ... Fitting Alpha vs. Time\r"
       ]
      },
      {
       "output_type": "stream",
       "stream": "stdout",
       "text": [
        "[############################-------------]  68.3% ... Fitting Alpha vs. Time\r"
       ]
      },
      {
       "output_type": "stream",
       "stream": "stdout",
       "text": [
        "[############################-------------]  68.4% ... Fitting Alpha vs. Time\r"
       ]
      },
      {
       "output_type": "stream",
       "stream": "stdout",
       "text": [
        "[############################-------------]  68.5% ... Fitting Alpha vs. Time\r"
       ]
      },
      {
       "output_type": "stream",
       "stream": "stdout",
       "text": [
        "[############################-------------]  68.6% ... Fitting Alpha vs. Time\r"
       ]
      },
      {
       "output_type": "stream",
       "stream": "stdout",
       "text": [
        "[############################-------------]  68.7% ... Fitting Alpha vs. Time\r"
       ]
      },
      {
       "output_type": "stream",
       "stream": "stdout",
       "text": [
        "[############################-------------]  68.8% ... Fitting Alpha vs. Time\r"
       ]
      },
      {
       "output_type": "stream",
       "stream": "stdout",
       "text": [
        "[############################-------------]  68.9% ... Fitting Alpha vs. Time\r"
       ]
      },
      {
       "output_type": "stream",
       "stream": "stdout",
       "text": [
        "[############################-------------]  69.0% ... Fitting Alpha vs. Time\r"
       ]
      },
      {
       "output_type": "stream",
       "stream": "stdout",
       "text": [
        "[############################-------------]  69.1% ... Fitting Alpha vs. Time\r"
       ]
      },
      {
       "output_type": "stream",
       "stream": "stdout",
       "text": [
        "[############################-------------]  69.2% ... Fitting Alpha vs. Time\r"
       ]
      },
      {
       "output_type": "stream",
       "stream": "stdout",
       "text": [
        "[############################-------------]  69.3% ... Fitting Alpha vs. Time\r"
       ]
      },
      {
       "output_type": "stream",
       "stream": "stdout",
       "text": [
        "[############################-------------]  69.4% ... Fitting Alpha vs. Time\r"
       ]
      },
      {
       "output_type": "stream",
       "stream": "stdout",
       "text": [
        "[############################-------------]  69.5% ... Fitting Alpha vs. Time\r"
       ]
      },
      {
       "output_type": "stream",
       "stream": "stdout",
       "text": [
        "[#############################------------]  69.6% ... Fitting Alpha vs. Time\r"
       ]
      },
      {
       "output_type": "stream",
       "stream": "stdout",
       "text": [
        "[#############################------------]  69.7% ... Fitting Alpha vs. Time\r"
       ]
      },
      {
       "output_type": "stream",
       "stream": "stdout",
       "text": [
        "[#############################------------]  69.8% ... Fitting Alpha vs. Time\r"
       ]
      },
      {
       "output_type": "stream",
       "stream": "stdout",
       "text": [
        "[#############################------------]  69.9% ... Fitting Alpha vs. Time\r"
       ]
      },
      {
       "output_type": "stream",
       "stream": "stdout",
       "text": [
        "[#############################------------]  70.0% ... Fitting Alpha vs. Time\r"
       ]
      },
      {
       "output_type": "stream",
       "stream": "stdout",
       "text": [
        "[#############################------------]  70.1% ... Fitting Alpha vs. Time\r"
       ]
      },
      {
       "output_type": "stream",
       "stream": "stdout",
       "text": [
        "[#############################------------]  70.2% ... Fitting Alpha vs. Time\r"
       ]
      },
      {
       "output_type": "stream",
       "stream": "stdout",
       "text": [
        "[#############################------------]  70.3% ... Fitting Alpha vs. Time\r"
       ]
      },
      {
       "output_type": "stream",
       "stream": "stdout",
       "text": [
        "[#############################------------]  70.4% ... Fitting Alpha vs. Time\r"
       ]
      },
      {
       "output_type": "stream",
       "stream": "stdout",
       "text": [
        "[#############################------------]  70.5% ... Fitting Alpha vs. Time\r"
       ]
      },
      {
       "output_type": "stream",
       "stream": "stdout",
       "text": [
        "[#############################------------]  70.6% ... Fitting Alpha vs. Time\r"
       ]
      },
      {
       "output_type": "stream",
       "stream": "stdout",
       "text": [
        "[#############################------------]  70.7% ... Fitting Alpha vs. Time\r"
       ]
      },
      {
       "output_type": "stream",
       "stream": "stdout",
       "text": [
        "[#############################------------]  70.8% ... Fitting Alpha vs. Time\r"
       ]
      },
      {
       "output_type": "stream",
       "stream": "stdout",
       "text": [
        "[#############################------------]  70.9% ... Fitting Alpha vs. Time\r"
       ]
      },
      {
       "output_type": "stream",
       "stream": "stdout",
       "text": [
        "[#############################------------]  71.0% ... Fitting Alpha vs. Time\r"
       ]
      },
      {
       "output_type": "stream",
       "stream": "stdout",
       "text": [
        "[#############################------------]  71.1% ... Fitting Alpha vs. Time\r"
       ]
      },
      {
       "output_type": "stream",
       "stream": "stdout",
       "text": [
        "[#############################------------]  71.2% ... Fitting Alpha vs. Time\r"
       ]
      },
      {
       "output_type": "stream",
       "stream": "stdout",
       "text": [
        "[#############################------------]  71.3% ... Fitting Alpha vs. Time\r"
       ]
      },
      {
       "output_type": "stream",
       "stream": "stdout",
       "text": [
        "[#############################------------]  71.4% ... Fitting Alpha vs. Time\r"
       ]
      },
      {
       "output_type": "stream",
       "stream": "stdout",
       "text": [
        "[#############################------------]  71.5% ... Fitting Alpha vs. Time\r"
       ]
      },
      {
       "output_type": "stream",
       "stream": "stdout",
       "text": [
        "[#############################------------]  71.6% ... Fitting Alpha vs. Time\r"
       ]
      },
      {
       "output_type": "stream",
       "stream": "stdout",
       "text": [
        "[#############################------------]  71.7% ... Fitting Alpha vs. Time\r"
       ]
      },
      {
       "output_type": "stream",
       "stream": "stdout",
       "text": [
        "[#############################------------]  71.8% ... Fitting Alpha vs. Time\r"
       ]
      },
      {
       "output_type": "stream",
       "stream": "stdout",
       "text": [
        "[#############################------------]  71.9% ... Fitting Alpha vs. Time\r"
       ]
      },
      {
       "output_type": "stream",
       "stream": "stdout",
       "text": [
        "[##############################-----------]  72.0% ... Fitting Alpha vs. Time\r"
       ]
      },
      {
       "output_type": "stream",
       "stream": "stdout",
       "text": [
        "[##############################-----------]  72.1% ... Fitting Alpha vs. Time\r"
       ]
      },
      {
       "output_type": "stream",
       "stream": "stdout",
       "text": [
        "[##############################-----------]  72.2% ... Fitting Alpha vs. Time\r"
       ]
      },
      {
       "output_type": "stream",
       "stream": "stdout",
       "text": [
        "[##############################-----------]  72.3% ... Fitting Alpha vs. Time\r"
       ]
      },
      {
       "output_type": "stream",
       "stream": "stdout",
       "text": [
        "[##############################-----------]  72.4% ... Fitting Alpha vs. Time\r"
       ]
      },
      {
       "output_type": "stream",
       "stream": "stdout",
       "text": [
        "[##############################-----------]  72.5% ... Fitting Alpha vs. Time\r"
       ]
      },
      {
       "output_type": "stream",
       "stream": "stdout",
       "text": [
        "[##############################-----------]  72.6% ... Fitting Alpha vs. Time\r"
       ]
      },
      {
       "output_type": "stream",
       "stream": "stdout",
       "text": [
        "[##############################-----------]  72.7% ... Fitting Alpha vs. Time\r"
       ]
      },
      {
       "output_type": "stream",
       "stream": "stdout",
       "text": [
        "[##############################-----------]  72.8% ... Fitting Alpha vs. Time\r"
       ]
      },
      {
       "output_type": "stream",
       "stream": "stdout",
       "text": [
        "[##############################-----------]  72.9% ... Fitting Alpha vs. Time\r"
       ]
      },
      {
       "output_type": "stream",
       "stream": "stdout",
       "text": [
        "[##############################-----------]  73.0% ... Fitting Alpha vs. Time\r"
       ]
      },
      {
       "output_type": "stream",
       "stream": "stdout",
       "text": [
        "[##############################-----------]  73.1% ... Fitting Alpha vs. Time\r"
       ]
      },
      {
       "output_type": "stream",
       "stream": "stdout",
       "text": [
        "[##############################-----------]  73.2% ... Fitting Alpha vs. Time\r"
       ]
      },
      {
       "output_type": "stream",
       "stream": "stdout",
       "text": [
        "[##############################-----------]  73.3% ... Fitting Alpha vs. Time\r"
       ]
      },
      {
       "output_type": "stream",
       "stream": "stdout",
       "text": [
        "[##############################-----------]  73.4% ... Fitting Alpha vs. Time\r"
       ]
      },
      {
       "output_type": "stream",
       "stream": "stdout",
       "text": [
        "[##############################-----------]  73.5% ... Fitting Alpha vs. Time\r"
       ]
      },
      {
       "output_type": "stream",
       "stream": "stdout",
       "text": [
        "[##############################-----------]  73.6% ... Fitting Alpha vs. Time\r"
       ]
      },
      {
       "output_type": "stream",
       "stream": "stdout",
       "text": [
        "[##############################-----------]  73.7% ... Fitting Alpha vs. Time\r"
       ]
      },
      {
       "output_type": "stream",
       "stream": "stdout",
       "text": [
        "[##############################-----------]  73.8% ... Fitting Alpha vs. Time\r"
       ]
      },
      {
       "output_type": "stream",
       "stream": "stdout",
       "text": [
        "[##############################-----------]  73.9% ... Fitting Alpha vs. Time\r"
       ]
      },
      {
       "output_type": "stream",
       "stream": "stdout",
       "text": [
        "[##############################-----------]  74.0% ... Fitting Alpha vs. Time\r"
       ]
      },
      {
       "output_type": "stream",
       "stream": "stdout",
       "text": [
        "[##############################-----------]  74.1% ... Fitting Alpha vs. Time\r"
       ]
      },
      {
       "output_type": "stream",
       "stream": "stdout",
       "text": [
        "[##############################-----------]  74.2% ... Fitting Alpha vs. Time\r"
       ]
      },
      {
       "output_type": "stream",
       "stream": "stdout",
       "text": [
        "[##############################-----------]  74.3% ... Fitting Alpha vs. Time\r"
       ]
      },
      {
       "output_type": "stream",
       "stream": "stdout",
       "text": [
        "[###############################----------]  74.4% ... Fitting Alpha vs. Time\r"
       ]
      },
      {
       "output_type": "stream",
       "stream": "stdout",
       "text": [
        "[###############################----------]  74.5% ... Fitting Alpha vs. Time\r"
       ]
      },
      {
       "output_type": "stream",
       "stream": "stdout",
       "text": [
        "[###############################----------]  74.6% ... Fitting Alpha vs. Time\r"
       ]
      },
      {
       "output_type": "stream",
       "stream": "stdout",
       "text": [
        "[###############################----------]  74.7% ... Fitting Alpha vs. Time\r"
       ]
      },
      {
       "output_type": "stream",
       "stream": "stdout",
       "text": [
        "[###############################----------]  74.8% ... Fitting Alpha vs. Time\r"
       ]
      },
      {
       "output_type": "stream",
       "stream": "stdout",
       "text": [
        "[###############################----------]  74.9% ... Fitting Alpha vs. Time\r"
       ]
      },
      {
       "output_type": "stream",
       "stream": "stdout",
       "text": [
        "[###############################----------]  75.0% ... Fitting Alpha vs. Time\r"
       ]
      },
      {
       "output_type": "stream",
       "stream": "stdout",
       "text": [
        "[###############################----------]  75.1% ... Fitting Alpha vs. Time\r"
       ]
      },
      {
       "output_type": "stream",
       "stream": "stdout",
       "text": [
        "[###############################----------]  75.2% ... Fitting Alpha vs. Time\r"
       ]
      },
      {
       "output_type": "stream",
       "stream": "stdout",
       "text": [
        "[###############################----------]  75.3% ... Fitting Alpha vs. Time\r"
       ]
      },
      {
       "output_type": "stream",
       "stream": "stdout",
       "text": [
        "[###############################----------]  75.4% ... Fitting Alpha vs. Time\r"
       ]
      },
      {
       "output_type": "stream",
       "stream": "stdout",
       "text": [
        "[###############################----------]  75.5% ... Fitting Alpha vs. Time\r"
       ]
      },
      {
       "output_type": "stream",
       "stream": "stdout",
       "text": [
        "[###############################----------]  75.6% ... Fitting Alpha vs. Time\r"
       ]
      },
      {
       "output_type": "stream",
       "stream": "stdout",
       "text": [
        "[###############################----------]  75.7% ... Fitting Alpha vs. Time\r"
       ]
      },
      {
       "output_type": "stream",
       "stream": "stdout",
       "text": [
        "[###############################----------]  75.8% ... Fitting Alpha vs. Time\r"
       ]
      },
      {
       "output_type": "stream",
       "stream": "stdout",
       "text": [
        "[###############################----------]  75.9% ... Fitting Alpha vs. Time\r"
       ]
      },
      {
       "output_type": "stream",
       "stream": "stdout",
       "text": [
        "[###############################----------]  76.0% ... Fitting Alpha vs. Time\r"
       ]
      },
      {
       "output_type": "stream",
       "stream": "stdout",
       "text": [
        "[###############################----------]  76.1% ... Fitting Alpha vs. Time\r"
       ]
      },
      {
       "output_type": "stream",
       "stream": "stdout",
       "text": [
        "[###############################----------]  76.2% ... Fitting Alpha vs. Time\r"
       ]
      },
      {
       "output_type": "stream",
       "stream": "stdout",
       "text": [
        "[###############################----------]  76.3% ... Fitting Alpha vs. Time\r"
       ]
      },
      {
       "output_type": "stream",
       "stream": "stdout",
       "text": [
        "[###############################----------]  76.4% ... Fitting Alpha vs. Time\r"
       ]
      },
      {
       "output_type": "stream",
       "stream": "stdout",
       "text": [
        "[###############################----------]  76.5% ... Fitting Alpha vs. Time\r"
       ]
      },
      {
       "output_type": "stream",
       "stream": "stdout",
       "text": [
        "[###############################----------]  76.6% ... Fitting Alpha vs. Time\r"
       ]
      },
      {
       "output_type": "stream",
       "stream": "stdout",
       "text": [
        "[###############################----------]  76.7% ... Fitting Alpha vs. Time\r"
       ]
      },
      {
       "output_type": "stream",
       "stream": "stdout",
       "text": [
        "[###############################----------]  76.8% ... Fitting Alpha vs. Time\r"
       ]
      },
      {
       "output_type": "stream",
       "stream": "stdout",
       "text": [
        "[################################---------]  76.9% ... Fitting Alpha vs. Time\r"
       ]
      },
      {
       "output_type": "stream",
       "stream": "stdout",
       "text": [
        "[################################---------]  77.0% ... Fitting Alpha vs. Time\r"
       ]
      },
      {
       "output_type": "stream",
       "stream": "stdout",
       "text": [
        "[################################---------]  77.1% ... Fitting Alpha vs. Time\r"
       ]
      },
      {
       "output_type": "stream",
       "stream": "stdout",
       "text": [
        "[################################---------]  77.2% ... Fitting Alpha vs. Time\r"
       ]
      },
      {
       "output_type": "stream",
       "stream": "stdout",
       "text": [
        "[################################---------]  77.3% ... Fitting Alpha vs. Time\r"
       ]
      },
      {
       "output_type": "stream",
       "stream": "stdout",
       "text": [
        "[################################---------]  77.4% ... Fitting Alpha vs. Time\r"
       ]
      },
      {
       "output_type": "stream",
       "stream": "stdout",
       "text": [
        "[################################---------]  77.5% ... Fitting Alpha vs. Time\r"
       ]
      },
      {
       "output_type": "stream",
       "stream": "stdout",
       "text": [
        "[################################---------]  77.6% ... Fitting Alpha vs. Time\r"
       ]
      },
      {
       "output_type": "stream",
       "stream": "stdout",
       "text": [
        "[################################---------]  77.7% ... Fitting Alpha vs. Time\r"
       ]
      },
      {
       "output_type": "stream",
       "stream": "stdout",
       "text": [
        "[################################---------]  77.8% ... Fitting Alpha vs. Time\r"
       ]
      },
      {
       "output_type": "stream",
       "stream": "stdout",
       "text": [
        "[################################---------]  77.9% ... Fitting Alpha vs. Time\r"
       ]
      },
      {
       "output_type": "stream",
       "stream": "stdout",
       "text": [
        "[################################---------]  78.0% ... Fitting Alpha vs. Time\r"
       ]
      },
      {
       "output_type": "stream",
       "stream": "stdout",
       "text": [
        "[################################---------]  78.1% ... Fitting Alpha vs. Time\r"
       ]
      },
      {
       "output_type": "stream",
       "stream": "stdout",
       "text": [
        "[################################---------]  78.2% ... Fitting Alpha vs. Time\r"
       ]
      },
      {
       "output_type": "stream",
       "stream": "stdout",
       "text": [
        "[################################---------]  78.3% ... Fitting Alpha vs. Time\r"
       ]
      },
      {
       "output_type": "stream",
       "stream": "stdout",
       "text": [
        "[################################---------]  78.4% ... Fitting Alpha vs. Time\r"
       ]
      },
      {
       "output_type": "stream",
       "stream": "stdout",
       "text": [
        "[################################---------]  78.5% ... Fitting Alpha vs. Time\r"
       ]
      },
      {
       "output_type": "stream",
       "stream": "stdout",
       "text": [
        "[################################---------]  78.6% ... Fitting Alpha vs. Time\r"
       ]
      },
      {
       "output_type": "stream",
       "stream": "stdout",
       "text": [
        "[################################---------]  78.7% ... Fitting Alpha vs. Time\r"
       ]
      },
      {
       "output_type": "stream",
       "stream": "stdout",
       "text": [
        "[################################---------]  78.8% ... Fitting Alpha vs. Time\r"
       ]
      },
      {
       "output_type": "stream",
       "stream": "stdout",
       "text": [
        "[################################---------]  78.9% ... Fitting Alpha vs. Time\r"
       ]
      },
      {
       "output_type": "stream",
       "stream": "stdout",
       "text": [
        "[################################---------]  79.0% ... Fitting Alpha vs. Time\r"
       ]
      },
      {
       "output_type": "stream",
       "stream": "stdout",
       "text": [
        "[################################---------]  79.1% ... Fitting Alpha vs. Time\r"
       ]
      },
      {
       "output_type": "stream",
       "stream": "stdout",
       "text": [
        "[################################---------]  79.2% ... Fitting Alpha vs. Time\r"
       ]
      },
      {
       "output_type": "stream",
       "stream": "stdout",
       "text": [
        "[#################################--------]  79.3% ... Fitting Alpha vs. Time\r"
       ]
      },
      {
       "output_type": "stream",
       "stream": "stdout",
       "text": [
        "[#################################--------]  79.4% ... Fitting Alpha vs. Time\r"
       ]
      },
      {
       "output_type": "stream",
       "stream": "stdout",
       "text": [
        "[#################################--------]  79.5% ... Fitting Alpha vs. Time\r"
       ]
      },
      {
       "output_type": "stream",
       "stream": "stdout",
       "text": [
        "[#################################--------]  79.6% ... Fitting Alpha vs. Time\r"
       ]
      },
      {
       "output_type": "stream",
       "stream": "stdout",
       "text": [
        "[#################################--------]  79.7% ... Fitting Alpha vs. Time\r"
       ]
      },
      {
       "output_type": "stream",
       "stream": "stdout",
       "text": [
        "[#################################--------]  79.8% ... Fitting Alpha vs. Time\r"
       ]
      },
      {
       "output_type": "stream",
       "stream": "stdout",
       "text": [
        "[#################################--------]  79.9% ... Fitting Alpha vs. Time\r"
       ]
      },
      {
       "output_type": "stream",
       "stream": "stdout",
       "text": [
        "[#################################--------]  80.0% ... Fitting Alpha vs. Time\r"
       ]
      },
      {
       "output_type": "stream",
       "stream": "stdout",
       "text": [
        "[#################################--------]  80.1% ... Fitting Alpha vs. Time\r"
       ]
      },
      {
       "output_type": "stream",
       "stream": "stdout",
       "text": [
        "[#################################--------]  80.2% ... Fitting Alpha vs. Time\r"
       ]
      },
      {
       "output_type": "stream",
       "stream": "stdout",
       "text": [
        "[#################################--------]  80.3% ... Fitting Alpha vs. Time\r"
       ]
      },
      {
       "output_type": "stream",
       "stream": "stdout",
       "text": [
        "[#################################--------]  80.4% ... Fitting Alpha vs. Time\r"
       ]
      },
      {
       "output_type": "stream",
       "stream": "stdout",
       "text": [
        "[#################################--------]  80.5% ... Fitting Alpha vs. Time\r"
       ]
      },
      {
       "output_type": "stream",
       "stream": "stdout",
       "text": [
        "[#################################--------]  80.6% ... Fitting Alpha vs. Time\r"
       ]
      },
      {
       "output_type": "stream",
       "stream": "stdout",
       "text": [
        "[#################################--------]  80.7% ... Fitting Alpha vs. Time\r"
       ]
      },
      {
       "output_type": "stream",
       "stream": "stdout",
       "text": [
        "[#################################--------]  80.8% ... Fitting Alpha vs. Time\r"
       ]
      },
      {
       "output_type": "stream",
       "stream": "stdout",
       "text": [
        "[#################################--------]  80.9% ... Fitting Alpha vs. Time\r"
       ]
      },
      {
       "output_type": "stream",
       "stream": "stdout",
       "text": [
        "[#################################--------]  81.0% ... Fitting Alpha vs. Time\r"
       ]
      },
      {
       "output_type": "stream",
       "stream": "stdout",
       "text": [
        "[#################################--------]  81.1% ... Fitting Alpha vs. Time\r"
       ]
      },
      {
       "output_type": "stream",
       "stream": "stdout",
       "text": [
        "[#################################--------]  81.2% ... Fitting Alpha vs. Time\r"
       ]
      },
      {
       "output_type": "stream",
       "stream": "stdout",
       "text": [
        "[#################################--------]  81.3% ... Fitting Alpha vs. Time\r"
       ]
      },
      {
       "output_type": "stream",
       "stream": "stdout",
       "text": [
        "[#################################--------]  81.4% ... Fitting Alpha vs. Time\r"
       ]
      },
      {
       "output_type": "stream",
       "stream": "stdout",
       "text": [
        "[#################################--------]  81.5% ... Fitting Alpha vs. Time\r"
       ]
      },
      {
       "output_type": "stream",
       "stream": "stdout",
       "text": [
        "[#################################--------]  81.6% ... Fitting Alpha vs. Time\r"
       ]
      },
      {
       "output_type": "stream",
       "stream": "stdout",
       "text": [
        "[#################################--------]  81.7% ... Fitting Alpha vs. Time\r"
       ]
      },
      {
       "output_type": "stream",
       "stream": "stdout",
       "text": [
        "[##################################-------]  81.8% ... Fitting Alpha vs. Time\r"
       ]
      },
      {
       "output_type": "stream",
       "stream": "stdout",
       "text": [
        "[##################################-------]  81.9% ... Fitting Alpha vs. Time\r"
       ]
      },
      {
       "output_type": "stream",
       "stream": "stdout",
       "text": [
        "[##################################-------]  82.0% ... Fitting Alpha vs. Time\r"
       ]
      },
      {
       "output_type": "stream",
       "stream": "stdout",
       "text": [
        "[##################################-------]  82.1% ... Fitting Alpha vs. Time\r"
       ]
      },
      {
       "output_type": "stream",
       "stream": "stdout",
       "text": [
        "[##################################-------]  82.2% ... Fitting Alpha vs. Time\r"
       ]
      },
      {
       "output_type": "stream",
       "stream": "stdout",
       "text": [
        "[##################################-------]  82.3% ... Fitting Alpha vs. Time\r"
       ]
      },
      {
       "output_type": "stream",
       "stream": "stdout",
       "text": [
        "[##################################-------]  82.4% ... Fitting Alpha vs. Time\r"
       ]
      },
      {
       "output_type": "stream",
       "stream": "stdout",
       "text": [
        "[##################################-------]  82.5% ... Fitting Alpha vs. Time\r"
       ]
      },
      {
       "output_type": "stream",
       "stream": "stdout",
       "text": [
        "[##################################-------]  82.6% ... Fitting Alpha vs. Time\r"
       ]
      },
      {
       "output_type": "stream",
       "stream": "stdout",
       "text": [
        "[##################################-------]  82.7% ... Fitting Alpha vs. Time\r"
       ]
      },
      {
       "output_type": "stream",
       "stream": "stdout",
       "text": [
        "[##################################-------]  82.8% ... Fitting Alpha vs. Time\r"
       ]
      },
      {
       "output_type": "stream",
       "stream": "stdout",
       "text": [
        "[##################################-------]  82.9% ... Fitting Alpha vs. Time\r"
       ]
      },
      {
       "output_type": "stream",
       "stream": "stdout",
       "text": [
        "[##################################-------]  83.0% ... Fitting Alpha vs. Time\r"
       ]
      },
      {
       "output_type": "stream",
       "stream": "stdout",
       "text": [
        "[##################################-------]  83.1% ... Fitting Alpha vs. Time\r"
       ]
      },
      {
       "output_type": "stream",
       "stream": "stdout",
       "text": [
        "[##################################-------]  83.2% ... Fitting Alpha vs. Time\r"
       ]
      },
      {
       "output_type": "stream",
       "stream": "stdout",
       "text": [
        "[##################################-------]  83.3% ... Fitting Alpha vs. Time\r"
       ]
      },
      {
       "output_type": "stream",
       "stream": "stdout",
       "text": [
        "[##################################-------]  83.4% ... Fitting Alpha vs. Time\r"
       ]
      },
      {
       "output_type": "stream",
       "stream": "stdout",
       "text": [
        "[##################################-------]  83.5% ... Fitting Alpha vs. Time\r"
       ]
      },
      {
       "output_type": "stream",
       "stream": "stdout",
       "text": [
        "[##################################-------]  83.6% ... Fitting Alpha vs. Time\r"
       ]
      },
      {
       "output_type": "stream",
       "stream": "stdout",
       "text": [
        "[##################################-------]  83.7% ... Fitting Alpha vs. Time\r"
       ]
      },
      {
       "output_type": "stream",
       "stream": "stdout",
       "text": [
        "[##################################-------]  83.8% ... Fitting Alpha vs. Time\r"
       ]
      },
      {
       "output_type": "stream",
       "stream": "stdout",
       "text": [
        "[##################################-------]  83.9% ... Fitting Alpha vs. Time\r"
       ]
      },
      {
       "output_type": "stream",
       "stream": "stdout",
       "text": [
        "[##################################-------]  84.0% ... Fitting Alpha vs. Time\r"
       ]
      },
      {
       "output_type": "stream",
       "stream": "stdout",
       "text": [
        "[##################################-------]  84.1% ... Fitting Alpha vs. Time\r"
       ]
      },
      {
       "output_type": "stream",
       "stream": "stdout",
       "text": [
        "[###################################------]  84.2% ... Fitting Alpha vs. Time\r"
       ]
      },
      {
       "output_type": "stream",
       "stream": "stdout",
       "text": [
        "[###################################------]  84.3% ... Fitting Alpha vs. Time\r"
       ]
      },
      {
       "output_type": "stream",
       "stream": "stdout",
       "text": [
        "[###################################------]  84.4% ... Fitting Alpha vs. Time\r"
       ]
      },
      {
       "output_type": "stream",
       "stream": "stdout",
       "text": [
        "[###################################------]  84.5% ... Fitting Alpha vs. Time\r"
       ]
      },
      {
       "output_type": "stream",
       "stream": "stdout",
       "text": [
        "[###################################------]  84.6% ... Fitting Alpha vs. Time\r"
       ]
      },
      {
       "output_type": "stream",
       "stream": "stdout",
       "text": [
        "[###################################------]  84.7% ... Fitting Alpha vs. Time\r"
       ]
      },
      {
       "output_type": "stream",
       "stream": "stdout",
       "text": [
        "[###################################------]  84.8% ... Fitting Alpha vs. Time\r"
       ]
      },
      {
       "output_type": "stream",
       "stream": "stdout",
       "text": [
        "[###################################------]  84.9% ... Fitting Alpha vs. Time\r"
       ]
      },
      {
       "output_type": "stream",
       "stream": "stdout",
       "text": [
        "[###################################------]  85.0% ... Fitting Alpha vs. Time\r"
       ]
      },
      {
       "output_type": "stream",
       "stream": "stdout",
       "text": [
        "[###################################------]  85.1% ... Fitting Alpha vs. Time\r"
       ]
      },
      {
       "output_type": "stream",
       "stream": "stdout",
       "text": [
        "[###################################------]  85.2% ... Fitting Alpha vs. Time\r"
       ]
      },
      {
       "output_type": "stream",
       "stream": "stdout",
       "text": [
        "[###################################------]  85.3% ... Fitting Alpha vs. Time\r"
       ]
      },
      {
       "output_type": "stream",
       "stream": "stdout",
       "text": [
        "[###################################------]  85.4% ... Fitting Alpha vs. Time\r"
       ]
      },
      {
       "output_type": "stream",
       "stream": "stdout",
       "text": [
        "[###################################------]  85.5% ... Fitting Alpha vs. Time\r"
       ]
      },
      {
       "output_type": "stream",
       "stream": "stdout",
       "text": [
        "[###################################------]  85.6% ... Fitting Alpha vs. Time\r"
       ]
      },
      {
       "output_type": "stream",
       "stream": "stdout",
       "text": [
        "[###################################------]  85.7% ... Fitting Alpha vs. Time\r"
       ]
      },
      {
       "output_type": "stream",
       "stream": "stdout",
       "text": [
        "[###################################------]  85.8% ... Fitting Alpha vs. Time\r"
       ]
      },
      {
       "output_type": "stream",
       "stream": "stdout",
       "text": [
        "[###################################------]  85.9% ... Fitting Alpha vs. Time\r"
       ]
      },
      {
       "output_type": "stream",
       "stream": "stdout",
       "text": [
        "[###################################------]  86.0% ... Fitting Alpha vs. Time\r"
       ]
      },
      {
       "output_type": "stream",
       "stream": "stdout",
       "text": [
        "[###################################------]  86.1% ... Fitting Alpha vs. Time\r"
       ]
      },
      {
       "output_type": "stream",
       "stream": "stdout",
       "text": [
        "[###################################------]  86.2% ... Fitting Alpha vs. Time\r"
       ]
      },
      {
       "output_type": "stream",
       "stream": "stdout",
       "text": [
        "[###################################------]  86.3% ... Fitting Alpha vs. Time\r"
       ]
      },
      {
       "output_type": "stream",
       "stream": "stdout",
       "text": [
        "[###################################------]  86.4% ... Fitting Alpha vs. Time\r"
       ]
      },
      {
       "output_type": "stream",
       "stream": "stdout",
       "text": [
        "[###################################------]  86.5% ... Fitting Alpha vs. Time\r"
       ]
      },
      {
       "output_type": "stream",
       "stream": "stdout",
       "text": [
        "[####################################-----]  86.6% ... Fitting Alpha vs. Time\r"
       ]
      },
      {
       "output_type": "stream",
       "stream": "stdout",
       "text": [
        "[####################################-----]  86.7% ... Fitting Alpha vs. Time\r"
       ]
      },
      {
       "output_type": "stream",
       "stream": "stdout",
       "text": [
        "[####################################-----]  86.8% ... Fitting Alpha vs. Time\r"
       ]
      },
      {
       "output_type": "stream",
       "stream": "stdout",
       "text": [
        "[####################################-----]  86.9% ... Fitting Alpha vs. Time\r"
       ]
      },
      {
       "output_type": "stream",
       "stream": "stdout",
       "text": [
        "[####################################-----]  87.0% ... Fitting Alpha vs. Time\r"
       ]
      },
      {
       "output_type": "stream",
       "stream": "stdout",
       "text": [
        "[####################################-----]  87.1% ... Fitting Alpha vs. Time\r"
       ]
      },
      {
       "output_type": "stream",
       "stream": "stdout",
       "text": [
        "[####################################-----]  87.2% ... Fitting Alpha vs. Time\r"
       ]
      },
      {
       "output_type": "stream",
       "stream": "stdout",
       "text": [
        "[####################################-----]  87.3% ... Fitting Alpha vs. Time\r"
       ]
      },
      {
       "output_type": "stream",
       "stream": "stdout",
       "text": [
        "[####################################-----]  87.4% ... Fitting Alpha vs. Time\r"
       ]
      },
      {
       "output_type": "stream",
       "stream": "stdout",
       "text": [
        "[####################################-----]  87.5% ... Fitting Alpha vs. Time\r"
       ]
      },
      {
       "output_type": "stream",
       "stream": "stdout",
       "text": [
        "[####################################-----]  87.6% ... Fitting Alpha vs. Time\r"
       ]
      },
      {
       "output_type": "stream",
       "stream": "stdout",
       "text": [
        "[####################################-----]  87.7% ... Fitting Alpha vs. Time\r"
       ]
      },
      {
       "output_type": "stream",
       "stream": "stdout",
       "text": [
        "[####################################-----]  87.8% ... Fitting Alpha vs. Time\r"
       ]
      },
      {
       "output_type": "stream",
       "stream": "stdout",
       "text": [
        "[####################################-----]  87.9% ... Fitting Alpha vs. Time\r"
       ]
      },
      {
       "output_type": "stream",
       "stream": "stdout",
       "text": [
        "[####################################-----]  88.0% ... Fitting Alpha vs. Time\r"
       ]
      },
      {
       "output_type": "stream",
       "stream": "stdout",
       "text": [
        "[####################################-----]  88.1% ... Fitting Alpha vs. Time\r"
       ]
      },
      {
       "output_type": "stream",
       "stream": "stdout",
       "text": [
        "[####################################-----]  88.2% ... Fitting Alpha vs. Time\r"
       ]
      },
      {
       "output_type": "stream",
       "stream": "stdout",
       "text": [
        "[####################################-----]  88.3% ... Fitting Alpha vs. Time\r"
       ]
      },
      {
       "output_type": "stream",
       "stream": "stdout",
       "text": [
        "[####################################-----]  88.4% ... Fitting Alpha vs. Time\r"
       ]
      },
      {
       "output_type": "stream",
       "stream": "stdout",
       "text": [
        "[####################################-----]  88.5% ... Fitting Alpha vs. Time\r"
       ]
      },
      {
       "output_type": "stream",
       "stream": "stdout",
       "text": [
        "[####################################-----]  88.6% ... Fitting Alpha vs. Time\r"
       ]
      },
      {
       "output_type": "stream",
       "stream": "stdout",
       "text": [
        "[####################################-----]  88.7% ... Fitting Alpha vs. Time\r"
       ]
      },
      {
       "output_type": "stream",
       "stream": "stdout",
       "text": [
        "[####################################-----]  88.8% ... Fitting Alpha vs. Time\r"
       ]
      },
      {
       "output_type": "stream",
       "stream": "stdout",
       "text": [
        "[####################################-----]  88.9% ... Fitting Alpha vs. Time\r"
       ]
      },
      {
       "output_type": "stream",
       "stream": "stdout",
       "text": [
        "[####################################-----]  89.0% ... Fitting Alpha vs. Time\r"
       ]
      },
      {
       "output_type": "stream",
       "stream": "stdout",
       "text": [
        "[#####################################----]  89.1% ... Fitting Alpha vs. Time\r"
       ]
      },
      {
       "output_type": "stream",
       "stream": "stdout",
       "text": [
        "[#####################################----]  89.2% ... Fitting Alpha vs. Time\r"
       ]
      },
      {
       "output_type": "stream",
       "stream": "stdout",
       "text": [
        "[#####################################----]  89.3% ... Fitting Alpha vs. Time\r"
       ]
      },
      {
       "output_type": "stream",
       "stream": "stdout",
       "text": [
        "[#####################################----]  89.4% ... Fitting Alpha vs. Time\r"
       ]
      },
      {
       "output_type": "stream",
       "stream": "stdout",
       "text": [
        "[#####################################----]  89.5% ... Fitting Alpha vs. Time\r"
       ]
      },
      {
       "output_type": "stream",
       "stream": "stdout",
       "text": [
        "[#####################################----]  89.6% ... Fitting Alpha vs. Time\r"
       ]
      },
      {
       "output_type": "stream",
       "stream": "stdout",
       "text": [
        "[#####################################----]  89.7% ... Fitting Alpha vs. Time\r"
       ]
      },
      {
       "output_type": "stream",
       "stream": "stdout",
       "text": [
        "[#####################################----]  89.8% ... Fitting Alpha vs. Time\r"
       ]
      },
      {
       "output_type": "stream",
       "stream": "stdout",
       "text": [
        "[#####################################----]  89.9% ... Fitting Alpha vs. Time\r"
       ]
      },
      {
       "output_type": "stream",
       "stream": "stdout",
       "text": [
        "[#####################################----]  90.0% ... Fitting Alpha vs. Time\r"
       ]
      },
      {
       "output_type": "stream",
       "stream": "stdout",
       "text": [
        "[#####################################----]  90.1% ... Fitting Alpha vs. Time\r"
       ]
      },
      {
       "output_type": "stream",
       "stream": "stdout",
       "text": [
        "[#####################################----]  90.2% ... Fitting Alpha vs. Time\r"
       ]
      },
      {
       "output_type": "stream",
       "stream": "stdout",
       "text": [
        "[#####################################----]  90.3% ... Fitting Alpha vs. Time\r"
       ]
      },
      {
       "output_type": "stream",
       "stream": "stdout",
       "text": [
        "[#####################################----]  90.4% ... Fitting Alpha vs. Time\r"
       ]
      },
      {
       "output_type": "stream",
       "stream": "stdout",
       "text": [
        "[#####################################----]  90.5% ... Fitting Alpha vs. Time\r"
       ]
      },
      {
       "output_type": "stream",
       "stream": "stdout",
       "text": [
        "[#####################################----]  90.6% ... Fitting Alpha vs. Time\r"
       ]
      },
      {
       "output_type": "stream",
       "stream": "stdout",
       "text": [
        "[#####################################----]  90.7% ... Fitting Alpha vs. Time\r"
       ]
      },
      {
       "output_type": "stream",
       "stream": "stdout",
       "text": [
        "[#####################################----]  90.8% ... Fitting Alpha vs. Time\r"
       ]
      },
      {
       "output_type": "stream",
       "stream": "stdout",
       "text": [
        "[#####################################----]  90.9% ... Fitting Alpha vs. Time\r"
       ]
      },
      {
       "output_type": "stream",
       "stream": "stdout",
       "text": [
        "[#####################################----]  91.0% ... Fitting Alpha vs. Time\r"
       ]
      },
      {
       "output_type": "stream",
       "stream": "stdout",
       "text": [
        "[#####################################----]  91.1% ... Fitting Alpha vs. Time\r"
       ]
      },
      {
       "output_type": "stream",
       "stream": "stdout",
       "text": [
        "[#####################################----]  91.2% ... Fitting Alpha vs. Time\r"
       ]
      },
      {
       "output_type": "stream",
       "stream": "stdout",
       "text": [
        "[#####################################----]  91.3% ... Fitting Alpha vs. Time\r"
       ]
      },
      {
       "output_type": "stream",
       "stream": "stdout",
       "text": [
        "[#####################################----]  91.4% ... Fitting Alpha vs. Time\r"
       ]
      },
      {
       "output_type": "stream",
       "stream": "stdout",
       "text": [
        "[######################################---]  91.5% ... Fitting Alpha vs. Time\r"
       ]
      },
      {
       "output_type": "stream",
       "stream": "stdout",
       "text": [
        "[######################################---]  91.6% ... Fitting Alpha vs. Time\r"
       ]
      },
      {
       "output_type": "stream",
       "stream": "stdout",
       "text": [
        "[######################################---]  91.7% ... Fitting Alpha vs. Time\r"
       ]
      },
      {
       "output_type": "stream",
       "stream": "stdout",
       "text": [
        "[######################################---]  91.8% ... Fitting Alpha vs. Time\r"
       ]
      },
      {
       "output_type": "stream",
       "stream": "stdout",
       "text": [
        "[######################################---]  91.9% ... Fitting Alpha vs. Time\r"
       ]
      },
      {
       "output_type": "stream",
       "stream": "stdout",
       "text": [
        "[######################################---]  92.0% ... Fitting Alpha vs. Time\r"
       ]
      },
      {
       "output_type": "stream",
       "stream": "stdout",
       "text": [
        "[######################################---]  92.1% ... Fitting Alpha vs. Time\r"
       ]
      },
      {
       "output_type": "stream",
       "stream": "stdout",
       "text": [
        "[######################################---]  92.2% ... Fitting Alpha vs. Time\r"
       ]
      },
      {
       "output_type": "stream",
       "stream": "stdout",
       "text": [
        "[######################################---]  92.3% ... Fitting Alpha vs. Time\r"
       ]
      },
      {
       "output_type": "stream",
       "stream": "stdout",
       "text": [
        "[######################################---]  92.4% ... Fitting Alpha vs. Time\r"
       ]
      },
      {
       "output_type": "stream",
       "stream": "stdout",
       "text": [
        "[######################################---]  92.5% ... Fitting Alpha vs. Time\r"
       ]
      },
      {
       "output_type": "stream",
       "stream": "stdout",
       "text": [
        "[######################################---]  92.6% ... Fitting Alpha vs. Time\r"
       ]
      },
      {
       "output_type": "stream",
       "stream": "stdout",
       "text": [
        "[######################################---]  92.7% ... Fitting Alpha vs. Time\r"
       ]
      },
      {
       "output_type": "stream",
       "stream": "stdout",
       "text": [
        "[######################################---]  92.8% ... Fitting Alpha vs. Time\r"
       ]
      },
      {
       "output_type": "stream",
       "stream": "stdout",
       "text": [
        "[######################################---]  92.9% ... Fitting Alpha vs. Time\r"
       ]
      },
      {
       "output_type": "stream",
       "stream": "stdout",
       "text": [
        "[######################################---]  93.0% ... Fitting Alpha vs. Time\r"
       ]
      },
      {
       "output_type": "stream",
       "stream": "stdout",
       "text": [
        "[######################################---]  93.1% ... Fitting Alpha vs. Time\r"
       ]
      },
      {
       "output_type": "stream",
       "stream": "stdout",
       "text": [
        "[######################################---]  93.2% ... Fitting Alpha vs. Time\r"
       ]
      },
      {
       "output_type": "stream",
       "stream": "stdout",
       "text": [
        "[######################################---]  93.3% ... Fitting Alpha vs. Time\r"
       ]
      },
      {
       "output_type": "stream",
       "stream": "stdout",
       "text": [
        "[######################################---]  93.4% ... Fitting Alpha vs. Time\r"
       ]
      },
      {
       "output_type": "stream",
       "stream": "stdout",
       "text": [
        "[######################################---]  93.5% ... Fitting Alpha vs. Time\r"
       ]
      },
      {
       "output_type": "stream",
       "stream": "stdout",
       "text": [
        "[######################################---]  93.6% ... Fitting Alpha vs. Time\r"
       ]
      },
      {
       "output_type": "stream",
       "stream": "stdout",
       "text": [
        "[######################################---]  93.7% ... Fitting Alpha vs. Time\r"
       ]
      },
      {
       "output_type": "stream",
       "stream": "stdout",
       "text": [
        "[######################################---]  93.8% ... Fitting Alpha vs. Time\r"
       ]
      },
      {
       "output_type": "stream",
       "stream": "stdout",
       "text": [
        "[######################################---]  93.9% ... Fitting Alpha vs. Time\r"
       ]
      },
      {
       "output_type": "stream",
       "stream": "stdout",
       "text": [
        "[#######################################--]  94.0% ... Fitting Alpha vs. Time\r"
       ]
      },
      {
       "output_type": "stream",
       "stream": "stdout",
       "text": [
        "[#######################################--]  94.1% ... Fitting Alpha vs. Time\r"
       ]
      },
      {
       "output_type": "stream",
       "stream": "stdout",
       "text": [
        "[#######################################--]  94.2% ... Fitting Alpha vs. Time\r"
       ]
      },
      {
       "output_type": "stream",
       "stream": "stdout",
       "text": [
        "[#######################################--]  94.3% ... Fitting Alpha vs. Time\r"
       ]
      },
      {
       "output_type": "stream",
       "stream": "stdout",
       "text": [
        "[#######################################--]  94.4% ... Fitting Alpha vs. Time\r"
       ]
      },
      {
       "output_type": "stream",
       "stream": "stdout",
       "text": [
        "[#######################################--]  94.5% ... Fitting Alpha vs. Time\r"
       ]
      },
      {
       "output_type": "stream",
       "stream": "stdout",
       "text": [
        "[#######################################--]  94.6% ... Fitting Alpha vs. Time\r"
       ]
      },
      {
       "output_type": "stream",
       "stream": "stdout",
       "text": [
        "[#######################################--]  94.7% ... Fitting Alpha vs. Time\r"
       ]
      },
      {
       "output_type": "stream",
       "stream": "stdout",
       "text": [
        "[#######################################--]  94.8% ... Fitting Alpha vs. Time\r"
       ]
      },
      {
       "output_type": "stream",
       "stream": "stdout",
       "text": [
        "[#######################################--]  94.9% ... Fitting Alpha vs. Time\r"
       ]
      },
      {
       "output_type": "stream",
       "stream": "stdout",
       "text": [
        "[#######################################--]  95.0% ... Fitting Alpha vs. Time\r"
       ]
      },
      {
       "output_type": "stream",
       "stream": "stdout",
       "text": [
        "[#######################################--]  95.1% ... Fitting Alpha vs. Time\r"
       ]
      },
      {
       "output_type": "stream",
       "stream": "stdout",
       "text": [
        "[#######################################--]  95.2% ... Fitting Alpha vs. Time\r"
       ]
      },
      {
       "output_type": "stream",
       "stream": "stdout",
       "text": [
        "[#######################################--]  95.3% ... Fitting Alpha vs. Time\r"
       ]
      },
      {
       "output_type": "stream",
       "stream": "stdout",
       "text": [
        "[#######################################--]  95.4% ... Fitting Alpha vs. Time\r"
       ]
      },
      {
       "output_type": "stream",
       "stream": "stdout",
       "text": [
        "[#######################################--]  95.5% ... Fitting Alpha vs. Time\r"
       ]
      },
      {
       "output_type": "stream",
       "stream": "stdout",
       "text": [
        "[#######################################--]  95.6% ... Fitting Alpha vs. Time\r"
       ]
      },
      {
       "output_type": "stream",
       "stream": "stdout",
       "text": [
        "[#######################################--]  95.7% ... Fitting Alpha vs. Time\r"
       ]
      },
      {
       "output_type": "stream",
       "stream": "stdout",
       "text": [
        "[#######################################--]  95.8% ... Fitting Alpha vs. Time\r"
       ]
      },
      {
       "output_type": "stream",
       "stream": "stdout",
       "text": [
        "[#######################################--]  95.9% ... Fitting Alpha vs. Time\r"
       ]
      },
      {
       "output_type": "stream",
       "stream": "stdout",
       "text": [
        "[#######################################--]  96.0% ... Fitting Alpha vs. Time\r"
       ]
      },
      {
       "output_type": "stream",
       "stream": "stdout",
       "text": [
        "[#######################################--]  96.1% ... Fitting Alpha vs. Time\r"
       ]
      },
      {
       "output_type": "stream",
       "stream": "stdout",
       "text": [
        "[#######################################--]  96.2% ... Fitting Alpha vs. Time\r"
       ]
      },
      {
       "output_type": "stream",
       "stream": "stdout",
       "text": [
        "[#######################################--]  96.3% ... Fitting Alpha vs. Time\r"
       ]
      },
      {
       "output_type": "stream",
       "stream": "stdout",
       "text": [
        "[########################################-]  96.4% ... Fitting Alpha vs. Time\r"
       ]
      },
      {
       "output_type": "stream",
       "stream": "stdout",
       "text": [
        "[########################################-]  96.5% ... Fitting Alpha vs. Time\r"
       ]
      },
      {
       "output_type": "stream",
       "stream": "stdout",
       "text": [
        "[########################################-]  96.6% ... Fitting Alpha vs. Time\r"
       ]
      },
      {
       "output_type": "stream",
       "stream": "stdout",
       "text": [
        "[########################################-]  96.7% ... Fitting Alpha vs. Time\r"
       ]
      },
      {
       "output_type": "stream",
       "stream": "stdout",
       "text": [
        "[########################################-]  96.8% ... Fitting Alpha vs. Time\r"
       ]
      },
      {
       "output_type": "stream",
       "stream": "stdout",
       "text": [
        "[########################################-]  96.9% ... Fitting Alpha vs. Time\r"
       ]
      },
      {
       "output_type": "stream",
       "stream": "stdout",
       "text": [
        "[########################################-]  97.0% ... Fitting Alpha vs. Time\r"
       ]
      },
      {
       "output_type": "stream",
       "stream": "stdout",
       "text": [
        "[########################################-]  97.1% ... Fitting Alpha vs. Time\r"
       ]
      },
      {
       "output_type": "stream",
       "stream": "stdout",
       "text": [
        "[########################################-]  97.2% ... Fitting Alpha vs. Time\r"
       ]
      },
      {
       "output_type": "stream",
       "stream": "stdout",
       "text": [
        "[########################################-]  97.3% ... Fitting Alpha vs. Time\r"
       ]
      },
      {
       "output_type": "stream",
       "stream": "stdout",
       "text": [
        "[########################################-]  97.4% ... Fitting Alpha vs. Time\r"
       ]
      },
      {
       "output_type": "stream",
       "stream": "stdout",
       "text": [
        "[########################################-]  97.5% ... Fitting Alpha vs. Time\r"
       ]
      },
      {
       "output_type": "stream",
       "stream": "stdout",
       "text": [
        "[########################################-]  97.6% ... Fitting Alpha vs. Time\r"
       ]
      },
      {
       "output_type": "stream",
       "stream": "stdout",
       "text": [
        "[########################################-]  97.7% ... Fitting Alpha vs. Time\r"
       ]
      },
      {
       "output_type": "stream",
       "stream": "stdout",
       "text": [
        "[########################################-]  97.8% ... Fitting Alpha vs. Time\r"
       ]
      },
      {
       "output_type": "stream",
       "stream": "stdout",
       "text": [
        "[########################################-]  97.9% ... Fitting Alpha vs. Time\r"
       ]
      },
      {
       "output_type": "stream",
       "stream": "stdout",
       "text": [
        "[########################################-]  98.0% ... Fitting Alpha vs. Time\r"
       ]
      },
      {
       "output_type": "stream",
       "stream": "stdout",
       "text": [
        "[########################################-]  98.1% ... Fitting Alpha vs. Time\r"
       ]
      },
      {
       "output_type": "stream",
       "stream": "stdout",
       "text": [
        "[########################################-]  98.2% ... Fitting Alpha vs. Time\r"
       ]
      },
      {
       "output_type": "stream",
       "stream": "stdout",
       "text": [
        "[########################################-]  98.3% ... Fitting Alpha vs. Time\r"
       ]
      },
      {
       "output_type": "stream",
       "stream": "stdout",
       "text": [
        "[########################################-]  98.4% ... Fitting Alpha vs. Time\r"
       ]
      },
      {
       "output_type": "stream",
       "stream": "stdout",
       "text": [
        "[########################################-]  98.5% ... Fitting Alpha vs. Time\r"
       ]
      },
      {
       "output_type": "stream",
       "stream": "stdout",
       "text": [
        "[########################################-]  98.6% ... Fitting Alpha vs. Time\r"
       ]
      },
      {
       "output_type": "stream",
       "stream": "stdout",
       "text": [
        "[########################################-]  98.7% ... Fitting Alpha vs. Time\r"
       ]
      },
      {
       "output_type": "stream",
       "stream": "stdout",
       "text": [
        "[#########################################]  98.8% ... Fitting Alpha vs. Time\r"
       ]
      },
      {
       "output_type": "stream",
       "stream": "stdout",
       "text": [
        "[#########################################]  98.9% ... Fitting Alpha vs. Time\r"
       ]
      },
      {
       "output_type": "stream",
       "stream": "stdout",
       "text": [
        "[#########################################]  99.0% ... Fitting Alpha vs. Time\r"
       ]
      },
      {
       "output_type": "stream",
       "stream": "stdout",
       "text": [
        "[#########################################]  99.1% ... Fitting Alpha vs. Time\r"
       ]
      },
      {
       "output_type": "stream",
       "stream": "stdout",
       "text": [
        "[#########################################]  99.2% ... Fitting Alpha vs. Time\r"
       ]
      },
      {
       "output_type": "stream",
       "stream": "stdout",
       "text": [
        "[#########################################]  99.3% ... Fitting Alpha vs. Time\r"
       ]
      },
      {
       "output_type": "stream",
       "stream": "stdout",
       "text": [
        "[#########################################]  99.4% ... Fitting Alpha vs. Time\r"
       ]
      },
      {
       "output_type": "stream",
       "stream": "stdout",
       "text": [
        "[#########################################]  99.5% ... Fitting Alpha vs. Time\r"
       ]
      },
      {
       "output_type": "stream",
       "stream": "stdout",
       "text": [
        "[#########################################]  99.6% ... Fitting Alpha vs. Time\r"
       ]
      },
      {
       "output_type": "stream",
       "stream": "stdout",
       "text": [
        "[#########################################]  99.7% ... Fitting Alpha vs. Time\r"
       ]
      },
      {
       "output_type": "stream",
       "stream": "stdout",
       "text": [
        "[#########################################]  99.8% ... Fitting Alpha vs. Time\r"
       ]
      },
      {
       "output_type": "stream",
       "stream": "stdout",
       "text": [
        "[#########################################] 100.0% ... Fitting Alpha vs. Time\r"
       ]
      },
      {
       "output_type": "stream",
       "stream": "stdout",
       "text": [
        "\n"
       ]
      }
     ],
     "prompt_number": 236
    },
    {
     "cell_type": "code",
     "collapsed": false,
     "input": [
      "get0 = lambda arr: arr[0]"
     ],
     "language": "python",
     "metadata": {},
     "outputs": [],
     "prompt_number": 248
    },
    {
     "cell_type": "code",
     "collapsed": false,
     "input": [],
     "language": "python",
     "metadata": {},
     "outputs": [],
     "prompt_number": 239
    },
    {
     "cell_type": "code",
     "collapsed": false,
     "input": [
      "fitData_real[\"time\"] = fitData_real.index.levels[0]\n",
      "fitData_real[\"alpha x\"] = fitData_real[\"fit coefs 0\"].apply(get0)\n",
      "fitData_real[\"alpha y\"] = fitData_real[\"fit coefs 1\"].apply(get0)\n",
      "plt.errorbar(np.array(fitData_real[\"time\"]), np.array(fitData_real[\"fit coefs 0\"].apply(get0)), np.array(fitData_real[\"sigmas 0\"].apply(get0)), label = \"component 0\", fmt = '.')\n",
      "plt.errorbar(np.array(fitData_real[\"time\"]), np.array(fitData_real[\"fit coefs 1\"].apply(get0)), np.array(fitData_real[\"sigmas 1\"].apply(get0)), label = \"component 1\", fmt = '.')\n",
      "plt.xlabel(\"time[m]\")\n",
      "plt.ylabel(r\"$\\alpha$\")\n",
      "plt.legend()\n",
      "plt.show()"
     ],
     "language": "python",
     "metadata": {},
     "outputs": [],
     "prompt_number": 251
    },
    {
     "cell_type": "code",
     "collapsed": false,
     "input": [
      "firData_real"
     ],
     "language": "python",
     "metadata": {},
     "outputs": [
      {
       "metadata": {},
       "output_type": "pyout",
       "prompt_number": 215,
       "text": [
        "(1223553584.4972064+0j)"
       ]
      }
     ],
     "prompt_number": 215
    },
    {
     "cell_type": "code",
     "collapsed": false,
     "input": [
      "fitData_real[[\"NLL_min 0\", \"NLL_min 1\", \"time\"]].plot(x = \"time\")\n",
      "plt.xlabel(\"time[m]\")\n",
      "plt.show()"
     ],
     "language": "python",
     "metadata": {},
     "outputs": [],
     "prompt_number": 238
    },
    {
     "cell_type": "code",
     "collapsed": false,
     "input": [
      "fitData_real[[\"alpha x\", \"alpha y\"]].hist(bins = 30)\n",
      "plt.show()"
     ],
     "language": "python",
     "metadata": {},
     "outputs": [],
     "prompt_number": 252
    },
    {
     "cell_type": "code",
     "collapsed": false,
     "input": [
      "arr = [0, 1, 2, 3]\n",
      "np.conj(arr[1])"
     ],
     "language": "python",
     "metadata": {},
     "outputs": [
      {
       "metadata": {},
       "output_type": "pyout",
       "prompt_number": 162,
       "text": [
        "1"
       ]
      }
     ],
     "prompt_number": 162
    },
    {
     "cell_type": "code",
     "collapsed": false,
     "input": [
      "import lin_alg as la"
     ],
     "language": "python",
     "metadata": {},
     "outputs": [],
     "prompt_number": 164
    },
    {
     "cell_type": "code",
     "collapsed": false,
     "input": [
      "temp = Data[1].templates[0][48]"
     ],
     "language": "python",
     "metadata": {},
     "outputs": [],
     "prompt_number": 171
    },
    {
     "cell_type": "code",
     "collapsed": false,
     "input": [
      "arr = [0, 1, 2]\n",
      "np.einsum('i, i, i->i', arr, arr, arr)"
     ],
     "language": "python",
     "metadata": {},
     "outputs": [
      {
       "metadata": {},
       "output_type": "pyout",
       "prompt_number": 177,
       "text": [
        "array([0, 1, 8])"
       ]
      }
     ],
     "prompt_number": 177
    },
    {
     "cell_type": "code",
     "collapsed": false,
     "input": [
      "temp\n"
     ],
     "language": "python",
     "metadata": {},
     "outputs": [
      {
       "metadata": {},
       "output_type": "pyout",
       "prompt_number": 439,
       "text": [
        "array([[-2.84813378e-21-3.22770812e-21j,  1.79676231e-22+1.11073505e-21j,\n",
        "         5.67984699e-21-3.32867484e-21j,  1.97793471e-21+7.25635146e-22j,\n",
        "        -1.29323969e-21-2.98712399e-21j,  5.64357976e-22-7.30516008e-22j,\n",
        "        -6.07453059e-22+1.64246394e-22j, -1.24754069e-22-1.75025560e-22j,\n",
        "        -5.72050234e-25+7.51550969e-23j, -3.67984095e-23+1.03801706e-23j,\n",
        "         1.10274849e-23+6.35011749e-25j],\n",
        "       [-2.64489386e-22-4.04806212e-22j,  5.02347625e-22-2.72511979e-21j,\n",
        "         1.35759046e-21-1.06619267e-21j, -4.50358359e-21-1.52819201e-21j,\n",
        "        -3.31775336e-22-1.25010510e-21j, -5.56094837e-22+1.22632962e-21j,\n",
        "        -4.09494465e-22+9.96197759e-25j,  1.56217318e-22+1.29059419e-22j,\n",
        "        -2.82675489e-23+8.63764565e-23j,  1.43897051e-23-1.63188866e-23j,\n",
        "         1.73098708e-23+8.72761792e-24j],\n",
        "       [-6.39361628e-39-7.30223548e-39j,  6.13950894e-40+9.16479085e-40j,\n",
        "         1.22079535e-38-7.37937764e-39j,  1.35308734e-39+5.46722973e-40j,\n",
        "        -2.69556996e-39-6.68003980e-39j,  1.01392882e-39-6.64682675e-40j,\n",
        "         1.68764993e-40+1.02207972e-40j, -2.60357489e-40+1.01360134e-40j,\n",
        "        -2.05849355e-40+7.09685671e-40j, -5.58706387e-40-1.09926084e-40j,\n",
        "        -1.26430500e-39-5.84268331e-40j]])"
       ]
      }
     ],
     "prompt_number": 439
    },
    {
     "cell_type": "code",
     "collapsed": false,
     "input": [
      "reload(la)\n",
      "on_basis = la.normalize_basis(la.make_3don_basis(temp), temp)\n",
      "fftdata = Data[0][\"fft_data\"]\n",
      "np.shape(Data[0].loc[0].fft_data)\n",
      "fft_trans = la.apply_trans_all_data(on_basis, fftdata)"
     ],
     "language": "python",
     "metadata": {},
     "outputs": [],
     "prompt_number": 451
    },
    {
     "cell_type": "code",
     "collapsed": false,
     "input": [
      "np.shape(fft_trans"
     ],
     "language": "python",
     "metadata": {},
     "outputs": [
      {
       "metadata": {},
       "output_type": "pyout",
       "prompt_number": 453,
       "text": [
        "(100, 3, 11)"
       ]
      }
     ],
     "prompt_number": 453
    },
    {
     "cell_type": "code",
     "collapsed": false,
     "input": [
      "re_dat = np.real(fft_trans)\n",
      "im_dat = np.imag(fft_trans)"
     ],
     "language": "python",
     "metadata": {},
     "outputs": [],
     "prompt_number": 455
    },
    {
     "cell_type": "code",
     "collapsed": false,
     "input": [
      "plt.plot(re_dat[:, 0, 1], '.',label = \"signal template\")\n",
      "plt.plot(re_dat[:, 0, 2], '.', label = \"second template\")\n",
      "plt.plot(re_dat[:, 0, 3], '.',label = \"third template\")\n",
      "plt.legend()\n",
      "plt.show()"
     ],
     "language": "python",
     "metadata": {},
     "outputs": [],
     "prompt_number": 456
    },
    {
     "cell_type": "code",
     "collapsed": false,
     "input": [
      "np.shape(Data[0][\"fft_data\"][0], columns = [\"fft_data\"])"
     ],
     "language": "python",
     "metadata": {},
     "outputs": [
      {
       "ename": "TypeError",
       "evalue": "shape() got an unexpected keyword argument 'columns'",
       "output_type": "pyerr",
       "traceback": [
        "\u001b[0;31m---------------------------------------------------------------------------\u001b[0m\n\u001b[0;31mTypeError\u001b[0m                                 Traceback (most recent call last)",
        "\u001b[0;32m<ipython-input-423-4eba4b7c05d3>\u001b[0m in \u001b[0;36m<module>\u001b[0;34m()\u001b[0m\n\u001b[0;32m----> 1\u001b[0;31m \u001b[0mnp\u001b[0m\u001b[0;34m.\u001b[0m\u001b[0mshape\u001b[0m\u001b[0;34m(\u001b[0m\u001b[0mData\u001b[0m\u001b[0;34m[\u001b[0m\u001b[0;36m0\u001b[0m\u001b[0;34m]\u001b[0m\u001b[0;34m[\u001b[0m\u001b[0;34m\"fft_data\"\u001b[0m\u001b[0;34m]\u001b[0m\u001b[0;34m[\u001b[0m\u001b[0;36m0\u001b[0m\u001b[0;34m]\u001b[0m\u001b[0;34m,\u001b[0m \u001b[0mcolumns\u001b[0m \u001b[0;34m=\u001b[0m \u001b[0;34m[\u001b[0m\u001b[0;34m\"fft_data\"\u001b[0m\u001b[0;34m]\u001b[0m\u001b[0;34m)\u001b[0m\u001b[0;34m\u001b[0m\u001b[0m\n\u001b[0m",
        "\u001b[0;31mTypeError\u001b[0m: shape() got an unexpected keyword argument 'columns'"
       ]
      }
     ],
     "prompt_number": 423
    },
    {
     "cell_type": "code",
     "collapsed": false,
     "input": [
      "fft_array = np.concatenate(fft_array, axis = -1)"
     ],
     "language": "python",
     "metadata": {},
     "outputs": [],
     "prompt_number": 396
    },
    {
     "cell_type": "code",
     "collapsed": false,
     "input": [
      "np.shape(fft_array)"
     ],
     "language": "python",
     "metadata": {},
     "outputs": [
      {
       "metadata": {},
       "output_type": "pyout",
       "prompt_number": 397,
       "text": [
        "(3, 11000)"
       ]
      }
     ],
     "prompt_number": 397
    }
   ],
   "metadata": {}
  }
 ]
}