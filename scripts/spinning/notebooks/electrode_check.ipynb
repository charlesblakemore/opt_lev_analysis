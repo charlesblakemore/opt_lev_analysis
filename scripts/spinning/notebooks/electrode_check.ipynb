{
 "metadata": {
  "name": ""
 },
 "nbformat": 3,
 "nbformat_minor": 0,
 "worksheets": [
  {
   "cells": [
    {
     "cell_type": "code",
     "collapsed": false,
     "input": [
      "import numpy as np\n",
      "import matplotlib.pyplot as plt\n",
      "import matplotlib"
     ],
     "language": "python",
     "metadata": {},
     "outputs": [],
     "prompt_number": 1
    },
    {
     "cell_type": "code",
     "collapsed": false,
     "input": [
      "import bead_util as bu"
     ],
     "language": "python",
     "metadata": {},
     "outputs": [],
     "prompt_number": 2
    },
    {
     "cell_type": "code",
     "collapsed": false,
     "input": [
      "import scipy.signal as ss"
     ],
     "language": "python",
     "metadata": {},
     "outputs": [],
     "prompt_number": 3
    },
    {
     "cell_type": "code",
     "collapsed": false,
     "input": [
      "path = \"/data/20180927/bead1/chirp_drive_test50e\"\n",
      "files = bu.find_all_fnames(path)"
     ],
     "language": "python",
     "metadata": {},
     "outputs": [
      {
       "output_type": "stream",
       "stream": "stdout",
       "text": [
        "Finding files in: \n",
        "/data/20180927/bead1/chirp_drive_test50e\n"
       ]
      },
      {
       "output_type": "stream",
       "stream": "stdout",
       "text": [
        "Found 3 files...\n"
       ]
      }
     ],
     "prompt_number": 4
    },
    {
     "cell_type": "code",
     "collapsed": false,
     "input": [
      "df = bu.DataFile()\n",
      "df.load(files[-1])\n",
      "df.load_other_data()\n",
      "df.diagonalize()"
     ],
     "language": "python",
     "metadata": {},
     "outputs": [],
     "prompt_number": 5
    },
    {
     "cell_type": "code",
     "collapsed": false,
     "input": [
      "plt.plot(df.other_data[2])\n",
      "plt.show()"
     ],
     "language": "python",
     "metadata": {},
     "outputs": [],
     "prompt_number": 25
    },
    {
     "cell_type": "code",
     "collapsed": false,
     "input": [
      "psd, freqs = matplotlib.mlab.psd(df.diag_pos_data[0, :], Fs = 5000, NFFT = 2**16)\n",
      "plt.loglog(freqs, psd)\n",
      "plt.show()"
     ],
     "language": "python",
     "metadata": {},
     "outputs": [],
     "prompt_number": 6
    },
    {
     "cell_type": "code",
     "collapsed": false,
     "input": [
      "b, a = ss.butter(1,[9./2500., 11./2500.], btype = 'bandpass')"
     ],
     "language": "python",
     "metadata": {},
     "outputs": [],
     "prompt_number": 7
    },
    {
     "cell_type": "code",
     "collapsed": false,
     "input": [
      "n = 120000\n",
      "q = 8.01e-18\n",
      "\n",
      "x = ss.filtfilt(b, a, df.diag_pos_data[0, :])\n",
      "y = ss.filtfilt(b, a, df.diag_pos_data[1, :])\n",
      "plt.plot(x[n:-n]/q, y[n:-n]/q, label = \"Drive = 20V, MS charge = 52e\")\n",
      "plt.xlabel(\"Ex[V/m]\")\n",
      "plt.ylabel(\"Ey[V/m]\")\n",
      "plt.xlim([-4e-14/q, 4e-14/q])\n",
      "plt.ylim([-4e-14/q, 4e-14/q])\n",
      "#plt.axes().set_aspect('equal')\n",
      "plt.legend()\n",
      "plt.show()"
     ],
     "language": "python",
     "metadata": {},
     "outputs": [],
     "prompt_number": 28
    }
   ],
   "metadata": {}
  }
 ]
}