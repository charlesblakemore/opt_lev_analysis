{
 "metadata": {
  "name": ""
 },
 "nbformat": 3,
 "nbformat_minor": 0,
 "worksheets": [
  {
   "cells": [
    {
     "cell_type": "code",
     "collapsed": false,
     "input": [
      "import numpy as np\n",
      "import matplotlib.pyplot as plt\n",
      "import matplotlib"
     ],
     "language": "python",
     "metadata": {},
     "outputs": [],
     "prompt_number": 2
    },
    {
     "cell_type": "code",
     "collapsed": false,
     "input": [
      "import bead_util as bu"
     ],
     "language": "python",
     "metadata": {},
     "outputs": [],
     "prompt_number": 3
    },
    {
     "cell_type": "code",
     "collapsed": false,
     "input": [
      "path = \"/data/20180927/bead1/spinning/chirp_10Hz_1k\"\n",
      "files = bu.find_all_fnames(path)"
     ],
     "language": "python",
     "metadata": {},
     "outputs": [
      {
       "output_type": "stream",
       "stream": "stdout",
       "text": [
        "Finding files in: \n",
        "/data/20180927/bead1/spinning/chirp_10Hz_1k\n"
       ]
      },
      {
       "output_type": "stream",
       "stream": "stdout",
       "text": [
        "Found 45 files...\n"
       ]
      }
     ],
     "prompt_number": 49
    },
    {
     "cell_type": "code",
     "collapsed": false,
     "input": [
      "df = bu.DataFile()\n",
      "df.load(files[-1])\n",
      "df.load_other_data()"
     ],
     "language": "python",
     "metadata": {},
     "outputs": [],
     "prompt_number": 50
    },
    {
     "cell_type": "code",
     "collapsed": false,
     "input": [
      "np.shape(df.amp)"
     ],
     "language": "python",
     "metadata": {},
     "outputs": [
      {
       "metadata": {},
       "output_type": "pyout",
       "prompt_number": 75,
       "text": [
        "(5, 50000)"
       ]
      }
     ],
     "prompt_number": 75
    },
    {
     "cell_type": "code",
     "collapsed": false,
     "input": [
      "freqs = np.fft.rfftfreq(50000, d = 1./5000)\n",
      "plt.loglog(freqs, np.abs(np.fft.rfft(df.other_data[2])))\n",
      "plt.show()"
     ],
     "language": "python",
     "metadata": {},
     "outputs": [],
     "prompt_number": 51
    },
    {
     "cell_type": "code",
     "collapsed": false,
     "input": [
      "plt.loglog(freqs, np.abs(np.fft.rfft(np.sum(df.amp[:-1, :], axis = 0))))\n",
      "plt.loglog(freqs, np.abs(np.fft.rfft(df.pos_data[0, :])))\n",
      "plt.show()"
     ],
     "language": "python",
     "metadata": {},
     "outputs": [],
     "prompt_number": 52
    },
    {
     "cell_type": "code",
     "collapsed": false,
     "input": [
      "cfreqs = []\n",
      "ps = []\n",
      "cms = []\n",
      "for f in files:\n",
      "    df = bu.DataFile()\n",
      "    df.load(f)\n",
      "    plt.loglog(freqs, np.abs(np.fft.rfft(np.sum(df.amp[:-1, :], axis = 0))))\n",
      "    df.load_other_data()\n",
      "    dbool = np.abs(np.fft.rfft(df.other_data[2]))>1E3\n",
      "    ps.append(np.sum(np.fft.rfft(df.pos_data, axis = -1)[:, dbool], axis = -1))\n",
      "    cms.append(np.sum(np.fft.rfft(np.sum(df.amp[:-1, :], axis = 0))[dbool]))\n",
      "    #plt.loglog(freqs, np.abs(np.fft.rfft(np.sum(df.amp[:-1, :], axis = 0))), labele = str(np.mean(freqs[dbool])))\n",
      "    cfreqs.append(np.mean(freqs[dbool]))\n",
      "    \n"
     ],
     "language": "python",
     "metadata": {},
     "outputs": [],
     "prompt_number": 41
    },
    {
     "cell_type": "code",
     "collapsed": false,
     "input": [
      "ps = np.array(ps)\n",
      "cms = np.array(cms)"
     ],
     "language": "python",
     "metadata": {},
     "outputs": [],
     "prompt_number": 42
    },
    {
     "cell_type": "code",
     "collapsed": false,
     "input": [
      "plt.loglog(cfreqs, np.abs(ps[:, 0]),'o', label = \"X\")\n",
      "plt.loglog(cfreqs, np.abs(ps[:, 1]),'o', label = \"Y\")\n",
      "plt.loglog(cfreqs, np.abs(ps[:, 2]),'o', label = \"Z\")\n",
      "plt.xlabel(\"Drive Frequency [Hz]\")\n",
      "plt.ylabel(\"response [arb]\")\n",
      "plt.legend()\n",
      "plt.show()\n"
     ],
     "language": "python",
     "metadata": {},
     "outputs": [],
     "prompt_number": 44
    },
    {
     "cell_type": "code",
     "collapsed": false,
     "input": [
      "plt.loglog(cfreqs, np.abs(cms),'o', label = \"intensity\")\n",
      "plt.xlabel(\"Drive Frequency [Hz]\")\n",
      "plt.ylabel(\"optical power [arb]\")\n",
      "plt.legend()\n",
      "plt.show()"
     ],
     "language": "python",
     "metadata": {},
     "outputs": [],
     "prompt_number": 45
    },
    {
     "cell_type": "code",
     "collapsed": false,
     "input": [
      "for i, f in enumerate(files[::3]):\n",
      "    df = bu.DataFile()\n",
      "    df.load(f)\n",
      "    df.load_other_data()\n",
      "    psd, freqspsd = matplotlib.mlab.psd(df.pos_data[2], NFFT = 50000, Fs = 5000)\n",
      "    #dbool = np.abs(np.fft.rfft(df.other_data[2]))>1E3\n",
      "    plt.loglog(freqspsd, psd, label = str(cfreqs[::3][i])[:5])\n",
      "plt.xlabel(\"frequency[Hz]\")\n",
      "plt.ylabel(\"optical intensity[arb]\")\n",
      "plt.legend()\n",
      "plt.show()"
     ],
     "language": "python",
     "metadata": {},
     "outputs": [],
     "prompt_number": 48
    }
   ],
   "metadata": {}
  }
 ]
}