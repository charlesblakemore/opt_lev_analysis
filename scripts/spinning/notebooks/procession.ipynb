{
 "metadata": {
  "name": ""
 },
 "nbformat": 3,
 "nbformat_minor": 0,
 "worksheets": [
  {
   "cells": [
    {
     "cell_type": "code",
     "collapsed": false,
     "input": [
      "import numpy as np\n",
      "import matplotlib.pyplot as plt\n",
      "import matplotlib"
     ],
     "language": "python",
     "metadata": {},
     "outputs": [],
     "prompt_number": 62
    },
    {
     "cell_type": "code",
     "collapsed": false,
     "input": [
      "import bead_util as bu"
     ],
     "language": "python",
     "metadata": {},
     "outputs": [],
     "prompt_number": 3
    },
    {
     "cell_type": "code",
     "collapsed": false,
     "input": [
      "reload(bu)"
     ],
     "language": "python",
     "metadata": {},
     "outputs": [
      {
       "metadata": {},
       "output_type": "pyout",
       "prompt_number": 12,
       "text": [
        "<module 'bead_util' from '/home/arider/opt_lev_analysis/scripts/bead_util.py'>"
       ]
      }
     ],
     "prompt_number": 12
    },
    {
     "cell_type": "code",
     "collapsed": false,
     "input": [
      "paths = [\"/data/20180927/bead1/spinning/1k_spinning_monitor\",\\\n",
      "\"/data/20180927/bead1/spinning/1k_spinning_monitor_div10\", \\\n",
      "\"/data/20180927/bead1/spinning/1k_spinning_monitor_div20\",\\\n",
      "\"/data/20180927/bead1/spinning/1k_spinning_monitor_div40\",\\\n",
      "\"/data/20180927/bead1/spinning/1k_spinning_monitor_div80\",\\\n",
      "\"/data/20180927/bead1/spinning/1k_spinning_monitor_div160\"]\n"
     ],
     "language": "python",
     "metadata": {},
     "outputs": [],
     "prompt_number": 104
    },
    {
     "cell_type": "code",
     "collapsed": false,
     "input": [
      "cpath = \"/data/20180927/bead1/spinning/1k_no_spin_up\"\n",
      "filesc = bu.find_all_fnames(cpath)"
     ],
     "language": "python",
     "metadata": {},
     "outputs": [
      {
       "output_type": "stream",
       "stream": "stdout",
       "text": [
        "Finding files in: \n",
        "/data/20180927/bead1/spinning/1k_no_spin_up\n"
       ]
      },
      {
       "output_type": "stream",
       "stream": "stdout",
       "text": [
        "Found 68 files...\n"
       ]
      }
     ],
     "prompt_number": 160
    },
    {
     "cell_type": "code",
     "collapsed": false,
     "input": [
      "faf = lambda path: bu.find_all_fnames(path)[:150]\n",
      "files = map(faf, paths)"
     ],
     "language": "python",
     "metadata": {},
     "outputs": [
      {
       "output_type": "stream",
       "stream": "stdout",
       "text": [
        "Finding files in: \n",
        "/data/20180927/bead1/spinning/1k_spinning_monitor\n"
       ]
      },
      {
       "output_type": "stream",
       "stream": "stdout",
       "text": [
        "Found 191 files...\n",
        "Finding files in: \n",
        "/data/20180927/bead1/spinning/1k_spinning_monitor_div10\n"
       ]
      },
      {
       "output_type": "stream",
       "stream": "stdout",
       "text": [
        "Found 2315 files...\n",
        "Finding files in: \n",
        "/data/20180927/bead1/spinning/1k_spinning_monitor_div20\n"
       ]
      },
      {
       "output_type": "stream",
       "stream": "stdout",
       "text": [
        "Found 1916 files...\n",
        "Finding files in: \n",
        "/data/20180927/bead1/spinning/1k_spinning_monitor_div40\n"
       ]
      },
      {
       "output_type": "stream",
       "stream": "stdout",
       "text": [
        "Found 2458 files...\n",
        "Finding files in: \n",
        "/data/20180927/bead1/spinning/1k_spinning_monitor_div80\n"
       ]
      },
      {
       "output_type": "stream",
       "stream": "stdout",
       "text": [
        "Found 4667 files...\n",
        "Finding files in: \n",
        "/data/20180927/bead1/spinning/1k_spinning_monitor_div160\n"
       ]
      },
      {
       "output_type": "stream",
       "stream": "stdout",
       "text": [
        "Found 420 files...\n"
       ]
      }
     ],
     "prompt_number": 105
    },
    {
     "cell_type": "code",
     "collapsed": false,
     "input": [
      "files_long = bu"
     ],
     "language": "python",
     "metadata": {},
     "outputs": [],
     "prompt_number": 68
    },
    {
     "cell_type": "code",
     "collapsed": false,
     "input": [
      "freqs = np.fft.rfftfreq(50000, d = 1./5000)\n",
      "plt.plot(freqs, np.abs(np.fft.rfft(df.other_data[2])))\n",
      "plt.show()"
     ],
     "language": "python",
     "metadata": {},
     "outputs": [],
     "prompt_number": 69
    },
    {
     "cell_type": "code",
     "collapsed": false,
     "input": [],
     "language": "python",
     "metadata": {},
     "outputs": [],
     "prompt_number": 51
    },
    {
     "cell_type": "code",
     "collapsed": false,
     "input": [
      "df.dc_supply_settings"
     ],
     "language": "python",
     "metadata": {},
     "outputs": [
      {
       "metadata": {},
       "output_type": "pyout",
       "prompt_number": 70,
       "text": [
        "array([0., 0.])"
       ]
      }
     ],
     "prompt_number": 70
    },
    {
     "cell_type": "code",
     "collapsed": false,
     "input": [
      "def get_dir_data(files):\n",
      "    nf = len(files)\n",
      "    ns = 50000\n",
      "    nfreq = len(freqs)\n",
      "    d_ave = np.zeros(ns)\n",
      "    xs = np.zeros((nf, nfreq), dtype = complex)\n",
      "    ys = np.zeros((nf, nfreq), dtype = complex)\n",
      "    zs = np.zeros((nf, nfreq), dtype = complex)\n",
      "    for i, f in enumerate(files):\n",
      "        df = bu.DataFile()\n",
      "        df.load(f)\n",
      "        df.load_other_data()\n",
      "        drive = df.other_data[2]\n",
      "        dbool = (np.abs(np.fft.rfft(drive))>40.)*(freqs>1000)*(freqs<1100)\n",
      "        if f == files[0]:\n",
      "            plt.loglog(freqs, np.abs(np.fft.rfft(drive)))\n",
      "            plt.loglog(freqs[dbool], np.abs(np.fft.rfft(drive))[dbool])\n",
      "            plt.show()\n",
      "        phi = np.angle(np.mean(np.fft.rfft(drive)[dbool]))\n",
      "        d_ave+=np.fft.irfft(np.fft.rfft(drive)*np.exp(-1.j*phi))\n",
      "        xs[i, :] = np.fft.rfft(df.pos_data[0])*np.exp(-1.j*phi)\n",
      "        ys[i, :] = np.fft.rfft(df.pos_data[1])*np.exp(-1.j*phi)\n",
      "        zs[i, :] = np.fft.rfft(df.pos_data[2])*np.exp(-1.j*phi)\n",
      "    return {'d':d_ave, 'x':xs, 'y':ys, 'z':zs}"
     ],
     "language": "python",
     "metadata": {},
     "outputs": [],
     "prompt_number": 108
    },
    {
     "cell_type": "code",
     "collapsed": false,
     "input": [
      "all_data = map(get_dir_data, files)"
     ],
     "language": "python",
     "metadata": {},
     "outputs": [],
     "prompt_number": 109
    },
    {
     "cell_type": "code",
     "collapsed": false,
     "input": [
      "dc = get_dir_data(filesc)\n"
     ],
     "language": "python",
     "metadata": {},
     "outputs": [],
     "prompt_number": 163
    },
    {
     "cell_type": "code",
     "collapsed": false,
     "input": [
      "plt.loglog(freqs, np.abs(np.mean(dc['z'], axis = 0)))\n",
      "plt.show()"
     ],
     "language": "python",
     "metadata": {},
     "outputs": [],
     "prompt_number": 168
    },
    {
     "cell_type": "code",
     "collapsed": false,
     "input": [
      "rxs = np.zeros((3, len(all_data)), dtype = complex)\n",
      "aas = np.zeros(len(all_data), dtype = complex)\n",
      "fminind = np.argmin((freqs - 1024.3)**2)\n",
      "fmaxind = np.argmin((freqs - 1024.71)**2)\n",
      "for i, d in enumerate(all_data):\n",
      "    xs = d['z']\n",
      "    aas[i] = np.std(d['d'])*np.sqrt(2)*200./150.\n",
      "    plt.loglog(freqs[fminind:fmaxind], np.abs(np.mean(xs, axis = 0))[fminind:fmaxind], label = \"drive:\"+ str(a)[:4] + \"V\")\n",
      "    rxs[0, i] = np.mean(np.mean(d['x'], axis = 0)[fminind:fmaxind]) \n",
      "    rxs[1, i] = np.mean(np.mean(d['y'], axis = 0)[fminind:fmaxind])\n",
      "    rxs[2, i] = np.mean(np.mean(d['z'], axis = 0)[fminind:fmaxind])\n",
      "plt.legend()\n",
      "plt.xlabel(\"Frequency[Hz]\")\n",
      "plt.ylabel(\"Response[Arb]\")\n",
      "plt.show()"
     ],
     "language": "python",
     "metadata": {},
     "outputs": [],
     "prompt_number": 151
    },
    {
     "cell_type": "code",
     "collapsed": false,
     "input": [
      "plt.plot(aas, np.angle(rxs[0, :]), 'o-', label = \"X\")\n",
      "plt.plot(aas, np.angle(rxs[1, :]), 'o-', label = \"Y\")\n",
      "plt.plot(aas, np.angle(rxs[2, :]), 'o-', label = \"Z\")\n",
      "plt.legend()\n",
      "plt.xlabel(\"Drive [V]\")\n",
      "plt.ylabel(\"Phase[rad]\")\n",
      "plt.show()"
     ],
     "language": "python",
     "metadata": {},
     "outputs": [],
     "prompt_number": 158
    },
    {
     "cell_type": "code",
     "collapsed": false,
     "input": [
      "np.shape(rxs)"
     ],
     "language": "python",
     "metadata": {},
     "outputs": [
      {
       "metadata": {},
       "output_type": "pyout",
       "prompt_number": 153,
       "text": [
        "(3, 6)"
       ]
      }
     ],
     "prompt_number": 153
    },
    {
     "cell_type": "code",
     "collapsed": false,
     "input": [
      "plt.loglog(freqs, np.abs(np.fft.rfft(av0)))\n",
      "plt.loglog(freqs, np.abs(np.fft.rfft(av8)))\n",
      "#plt.loglog(freqs, np.abs(np.fft.rfft(z_ave)))\n",
      "plt.show()"
     ],
     "language": "python",
     "metadata": {},
     "outputs": [],
     "prompt_number": 60
    },
    {
     "cell_type": "code",
     "collapsed": false,
     "input": [
      "plt.loglog(cfreqs, np.abs(cms),'o', label = \"intensity\")\n",
      "plt.xlabel(\"Drive Frequency [Hz]\")\n",
      "plt.ylabel(\"optical power [arb]\")\n",
      "plt.legend()\n",
      "plt.show()"
     ],
     "language": "python",
     "metadata": {},
     "outputs": [],
     "prompt_number": 45
    },
    {
     "cell_type": "code",
     "collapsed": false,
     "input": [
      "for i, f in enumerate(files[::3]):\n",
      "    df = bu.DataFile()\n",
      "    df.load(f)\n",
      "    df.load_other_data()\n",
      "    psd, freqspsd = matplotlib.mlab.psd(df.pos_data[2], NFFT = 50000, Fs = 5000)\n",
      "    #dbool = np.abs(np.fft.rfft(df.other_data[2]))>1E3\n",
      "    plt.loglog(freqspsd, psd, label = str(cfreqs[::3][i])[:5])\n",
      "plt.xlabel(\"frequency[Hz]\")\n",
      "plt.ylabel(\"optical intensity[arb]\")\n",
      "plt.legend()\n",
      "plt.show()"
     ],
     "language": "python",
     "metadata": {},
     "outputs": [],
     "prompt_number": 48
    }
   ],
   "metadata": {}
  }
 ]
}