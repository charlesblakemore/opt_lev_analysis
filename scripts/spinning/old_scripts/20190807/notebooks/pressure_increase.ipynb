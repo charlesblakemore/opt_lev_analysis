{
 "metadata": {
  "name": ""
 },
 "nbformat": 3,
 "nbformat_minor": 0,
 "worksheets": [
  {
   "cells": [
    {
     "cell_type": "code",
     "collapsed": false,
     "input": [
      "import numpy as np\n",
      "import matplotlib.pyplot as plt\n",
      "import matplotlib"
     ],
     "language": "python",
     "metadata": {},
     "outputs": [],
     "prompt_number": 1
    },
    {
     "cell_type": "code",
     "collapsed": false,
     "input": [
      "import bead_util as bu"
     ],
     "language": "python",
     "metadata": {},
     "outputs": [],
     "prompt_number": 2
    },
    {
     "cell_type": "code",
     "collapsed": false,
     "input": [
      "from scipy.optimize import curve_fit"
     ],
     "language": "python",
     "metadata": {},
     "outputs": [],
     "prompt_number": 3
    },
    {
     "cell_type": "code",
     "collapsed": false,
     "input": [
      "reload(bu)"
     ],
     "language": "python",
     "metadata": {},
     "outputs": [
      {
       "metadata": {},
       "output_type": "pyout",
       "prompt_number": 4,
       "text": [
        "<module 'bead_util' from '/home/arider/opt_lev_analysis/scripts/bead_util.pyc'>"
       ]
      }
     ],
     "prompt_number": 4
    },
    {
     "cell_type": "code",
     "collapsed": false,
     "input": [
      "cpath = \"/data/20180927/bead1/spinning/1k_valve_of\"\n",
      "filesc = bu.find_all_fnames(cpath)"
     ],
     "language": "python",
     "metadata": {},
     "outputs": [
      {
       "output_type": "stream",
       "stream": "stdout",
       "text": [
        "Finding files in: \n",
        "/data/20180927/bead1/spinning/1k_valve_of\n"
       ]
      },
      {
       "output_type": "stream",
       "stream": "stdout",
       "text": [
        "Found 3460 files...\n"
       ]
      }
     ],
     "prompt_number": 5
    },
    {
     "cell_type": "code",
     "collapsed": false,
     "input": [
      "freqs = np.fft.rfftfreq(50000, d = 1./5000)\n"
     ],
     "language": "python",
     "metadata": {},
     "outputs": [],
     "prompt_number": 6
    },
    {
     "cell_type": "code",
     "collapsed": false,
     "input": [
      "df = bu.DataFile()\n",
      "df.load(filesc[0])\n",
      "df.load_other_data()\n",
      "plt.loglog(freqs, np.abs(np.fft.rfft(df.other_data[2])))\n",
      "plt.xlabel('frequency[Hz]')\n",
      "plt.ylabel('x[arb]')\n",
      "plt.show()\n"
     ],
     "language": "python",
     "metadata": {},
     "outputs": [],
     "prompt_number": 10
    },
    {
     "cell_type": "code",
     "collapsed": false,
     "input": [
      "def get_dir_data(files):\n",
      "    nf = len(files)\n",
      "    ns = 50000\n",
      "    nfreq = len(freqs)\n",
      "    d_ave = np.zeros((nf, nfreq), dtype = complex)\n",
      "    pb = []\n",
      "    pc = []\n",
      "    pp = []\n",
      "    t = []\n",
      "    xs = np.zeros((nf, nfreq), dtype = complex)\n",
      "    ys = np.zeros((nf, nfreq), dtype = complex)\n",
      "    zs = np.zeros((nf, nfreq), dtype = complex)\n",
      "    for i, f in enumerate(files):\n",
      "        df = bu.DataFile()\n",
      "        df.load(f)\n",
      "        df.load_other_data()\n",
      "        drive = df.other_data[2]\n",
      "        dbool = (np.abs(np.fft.rfft(drive))>1000.)*(freqs>1022)*(freqs<1026)\n",
      "        if f == files[0]:\n",
      "            plt.loglog(freqs, np.abs(np.fft.rfft(drive)))\n",
      "            plt.loglog(freqs[dbool], np.abs(np.fft.rfft(drive))[dbool])\n",
      "            plt.show()\n",
      "        phi = np.angle(np.mean(np.fft.rfft(drive)[dbool]))\n",
      "        d_ave[i, :] = np.fft.rfft(drive)*np.exp(-1.j*phi)\n",
      "        xs[i, :] = np.fft.rfft(df.pos_data[0])*np.exp(-1.j*phi)\n",
      "        ys[i, :] = np.fft.rfft(df.pos_data[1])*np.exp(-1.j*phi)\n",
      "        zs[i, :] = np.fft.rfft(df.pos_data[2])*np.exp(-1.j*phi)\n",
      "        pb.append(df.pressures['baratron'])\n",
      "        pc.append(df.pressures['cold_cathode'])\n",
      "        pp.append(df.pressures['pirani'])\n",
      "        t.append(df.time)\n",
      "    return {'d':d_ave, 'x':xs, 'y':ys, 'z':zs, 'p':np.array([pb, pc, pp]), 't':t}"
     ],
     "language": "python",
     "metadata": {},
     "outputs": [],
     "prompt_number": 15
    },
    {
     "cell_type": "code",
     "collapsed": false,
     "input": [
      "plt.plot(np.fft.irfft(data_dict['d'][0]))\n",
      "plt.plot(np.fft.irfft(data_dict['d'][10]))\n",
      "plt.show()"
     ],
     "language": "python",
     "metadata": {},
     "outputs": [],
     "prompt_number": 20
    },
    {
     "cell_type": "code",
     "collapsed": false,
     "input": [
      "data_dict = get_dir_data(filesc)"
     ],
     "language": "python",
     "metadata": {},
     "outputs": [],
     "prompt_number": 16
    },
    {
     "cell_type": "code",
     "collapsed": false,
     "input": [
      "np.save('d', data_dict['d'])\n",
      "np.save('x', data_dict['x'])\n",
      "np.save('y', data_dict['y'])\n",
      "np.save('z', data_dict['z'])\n",
      "np.save('t', data_dict['t'])\n",
      "np.save('p', data_dict['p'])"
     ],
     "language": "python",
     "metadata": {},
     "outputs": [],
     "prompt_number": 21
    },
    {
     "cell_type": "code",
     "collapsed": false,
     "input": [
      "import dill as pickle"
     ],
     "language": "python",
     "metadata": {},
     "outputs": [],
     "prompt_number": 22
    },
    {
     "cell_type": "code",
     "collapsed": false,
     "input": [
      "pickle.dump(data_dict, open(\"pressure_increas.p\", 'wb'))"
     ],
     "language": "python",
     "metadata": {},
     "outputs": [],
     "prompt_number": 23
    },
    {
     "cell_type": "code",
     "collapsed": false,
     "input": [
      "def mov_ave(arr, n = 100):\n",
      "    s = np.shape(arr)\n",
      "    n_ave = int(np.floor(s[1]/n))\n",
      "    arr_out = np.zeros((n_ave, s[-1]), dtype = complex)\n",
      "    for i in range(n_ave):\n",
      "        arr_out[i, :] = np.mean(arr[i*n:(i+1)*n, :], axis = 0)\n",
      "    return arr_out"
     ],
     "language": "python",
     "metadata": {},
     "outputs": [],
     "prompt_number": 37
    },
    {
     "cell_type": "code",
     "collapsed": false,
     "input": [
      "x_ave = mov_ave(data_dict['x'])\n",
      "y_ave = mov_ave(data_dict['y'])\n",
      "z_ave = mov_ave(data_dict['z'])"
     ],
     "language": "python",
     "metadata": {},
     "outputs": [],
     "prompt_number": 61
    },
    {
     "cell_type": "code",
     "collapsed": false,
     "input": [
      "d_m_ave = mov_ave(data_dict['d'])"
     ],
     "language": "python",
     "metadata": {},
     "outputs": [],
     "prompt_number": 99
    },
    {
     "cell_type": "code",
     "collapsed": false,
     "input": [
      "np.shape(z_ave)"
     ],
     "language": "python",
     "metadata": {},
     "outputs": [
      {
       "metadata": {},
       "output_type": "pyout",
       "prompt_number": 62,
       "text": [
        "(250, 25001)"
       ]
      }
     ],
     "prompt_number": 62
    },
    {
     "cell_type": "code",
     "collapsed": false,
     "input": [
      "fb = (freqs>1023.)*(freqs<1026.)\n"
     ],
     "language": "python",
     "metadata": {},
     "outputs": [],
     "prompt_number": 104
    },
    {
     "cell_type": "code",
     "collapsed": false,
     "input": [
      "x_linef = np.mean(data_dict['x'][:, fb], axis = -1)\n",
      "y_linef = np.mean(data_dict['y'][:, fb], axis = -1)\n",
      "z_linef = np.mean(data_dict['z'][:, fb], axis = -1)\n",
      "d_linef = np.mean(data_dict['d'][:, fb], axis = -1)"
     ],
     "language": "python",
     "metadata": {},
     "outputs": [],
     "prompt_number": 110
    },
    {
     "cell_type": "code",
     "collapsed": false,
     "input": [
      "x_line = np.mean(x_ave[:, fb], axis = -1)\n",
      "y_line = np.mean(y_ave[:, fb], axis = -1)\n",
      "z_line = np.mean(z_ave[:, fb], axis = -1)\n",
      "d_line = np.mean(d_m_ave[:, fb], axis = -1)"
     ],
     "language": "python",
     "metadata": {},
     "outputs": [],
     "prompt_number": 105
    },
    {
     "cell_type": "code",
     "collapsed": false,
     "input": [
      "plt.plot(np.linspace(0, 0.5, len(x_line)), np.angle(x_line), 'o')\n",
      "plt.xlabel(\"pressure[torr]\")\n",
      "plt.ylabel(\"x line phase[arb]\")\n",
      "plt.show()"
     ],
     "language": "python",
     "metadata": {},
     "outputs": [],
     "prompt_number": 116
    },
    {
     "cell_type": "code",
     "collapsed": false,
     "input": [
      "f, axarr = plt.subplots(5, sharex = True)\n",
      "\n",
      "#plt.loglog(freqs, np.abs(x_ave[125, :]))\n",
      "#plt.loglog(freqs, np.abs(x_ave[249, :]))\n",
      "for i, ax in enumerate(axarr):\n",
      "    ax.plot(freqs, np.abs(x_ave[i*49, :]), label = str(i*49))\n",
      "    ax.set_xscale('log')\n",
      "    ax.set_yscale('log')\n",
      "    ax.set_xlim([1023, 1025])\n",
      "    ax.set_ylim([1e1, 1e10])\n",
      "plt.legend()\n",
      "plt.show()"
     ],
     "language": "python",
     "metadata": {},
     "outputs": [],
     "prompt_number": 76
    },
    {
     "cell_type": "code",
     "collapsed": false,
     "input": [
      "line = lambda x, m, b: m*x + b"
     ],
     "language": "python",
     "metadata": {},
     "outputs": [],
     "prompt_number": 198
    },
    {
     "cell_type": "code",
     "collapsed": false,
     "input": [
      "ts = (data_dict['t']-data_dict['t'][0])/10**9"
     ],
     "language": "python",
     "metadata": {},
     "outputs": [],
     "prompt_number": 199
    },
    {
     "cell_type": "code",
     "collapsed": false,
     "input": [
      "poptb, pcov = curve_fit(line, ts[ts<25000], data_dict['p'][0, ts<25000])\n",
      "poptp, pcov = curve_fit(line, ts, data_dict['p'][2])"
     ],
     "language": "python",
     "metadata": {},
     "outputs": [],
     "prompt_number": 200
    },
    {
     "cell_type": "code",
     "collapsed": false,
     "input": [
      "plt.plot(ts, data_dict['p'][0], 'o', label = \"Baratron\")\n",
      "plt.plot(ts, data_dict['p'][2], 'o', label = \"Pirani\", alpha = .05)\n",
      "plt.plot(ts, line(ts, *poptb),label =  \"Baratron Fit\")\n",
      "plt.plot(ts, line(ts, *poptp), label = \"Pirani Fit\")\n",
      "plt.legend()\n",
      "plt.xlabel(\"time[s]\")\n",
      "plt.ylabel(\"pressure [torr]\")\n",
      "plt.show()"
     ],
     "language": "python",
     "metadata": {},
     "outputs": [],
     "prompt_number": 205
    },
    {
     "cell_type": "code",
     "collapsed": false,
     "input": [
      "plt.plot(freqs, np.abs(data_dict['d'][0]))\n",
      "plt.show()\n"
     ],
     "language": "python",
     "metadata": {},
     "outputs": [],
     "prompt_number": 226
    },
    {
     "cell_type": "code",
     "collapsed": false,
     "input": [
      "data_dict['x'][2"
     ],
     "language": "python",
     "metadata": {},
     "outputs": [
      {
       "ename": "IndexError",
       "evalue": "index 234234234234 is out of bounds for axis 0 with size 3460",
       "output_type": "pyerr",
       "traceback": [
        "\u001b[0;31m---------------------------------------------------------------------------\u001b[0m\n\u001b[0;31mIndexError\u001b[0m                                Traceback (most recent call last)",
        "\u001b[0;32m<ipython-input-227-cd680dc2ac2d>\u001b[0m in \u001b[0;36m<module>\u001b[0;34m()\u001b[0m\n\u001b[0;32m----> 1\u001b[0;31m \u001b[0mdata_dict\u001b[0m\u001b[0;34m[\u001b[0m\u001b[0;34m'x'\u001b[0m\u001b[0;34m]\u001b[0m\u001b[0;34m[\u001b[0m\u001b[0;36m234234234234\u001b[0m\u001b[0;34m]\u001b[0m\u001b[0;34m\u001b[0m\u001b[0m\n\u001b[0m",
        "\u001b[0;31mIndexError\u001b[0m: index 234234234234 is out of bounds for axis 0 with size 3460"
       ]
      }
     ],
     "prompt_number": 227
    },
    {
     "cell_type": "code",
     "collapsed": false,
     "input": [
      "fb = (freqs>1020)*(freqs<1028)"
     ],
     "language": "python",
     "metadata": {},
     "outputs": [],
     "prompt_number": 216
    },
    {
     "cell_type": "code",
     "collapsed": false,
     "input": [
      "f, ax = plt.subplots(figsize = (10, 10))\n",
      "ax.imshow(np.transpose(np.abs(data_dict['x'][:, fb])))\n",
      "plt.show()"
     ],
     "language": "python",
     "metadata": {},
     "outputs": [],
     "prompt_number": 221
    },
    {
     "cell_type": "code",
     "collapsed": false,
     "input": [
      "plt.loglog(freqs, np.abs(x_ave[34, :]))\n",
      "plt.xlabel('frequency')\n",
      "plt.ylabel('x amplitude[arb]')\n",
      "plt.show()"
     ],
     "language": "python",
     "metadata": {},
     "outputs": [],
     "prompt_number": 98
    },
    {
     "cell_type": "code",
     "collapsed": false,
     "input": [
      "f, axarr = plt.subplots(5, 5)\n",
      "for i, axa in enumerate((axarr)):\n",
      "    for j, ax in enumerate(axa):\n",
      "        ind = (i+1)*(j+1)*5 \n",
      "        ax.plot(freqs[fb], np.abs(data_dict['x'][ind, :]))\n",
      "        ax.set_xscale('log')\n",
      "        ax.set_yscale('log')\n",
      "plt.show()"
     ],
     "language": "python",
     "metadata": {},
     "outputs": [
      {
       "ename": "NameError",
       "evalue": "name 'fb' is not defined",
       "output_type": "pyerr",
       "traceback": [
        "\u001b[0;31m---------------------------------------------------------------------------\u001b[0m\n\u001b[0;31mNameError\u001b[0m                                 Traceback (most recent call last)",
        "\u001b[0;32m<ipython-input-66-0e6ad71d146c>\u001b[0m in \u001b[0;36m<module>\u001b[0;34m()\u001b[0m\n\u001b[1;32m      3\u001b[0m     \u001b[0;32mfor\u001b[0m \u001b[0mj\u001b[0m\u001b[0;34m,\u001b[0m \u001b[0max\u001b[0m \u001b[0;32min\u001b[0m \u001b[0menumerate\u001b[0m\u001b[0;34m(\u001b[0m\u001b[0maxa\u001b[0m\u001b[0;34m)\u001b[0m\u001b[0;34m:\u001b[0m\u001b[0;34m\u001b[0m\u001b[0m\n\u001b[1;32m      4\u001b[0m         \u001b[0mind\u001b[0m \u001b[0;34m=\u001b[0m \u001b[0;34m(\u001b[0m\u001b[0mi\u001b[0m\u001b[0;34m+\u001b[0m\u001b[0;36m1\u001b[0m\u001b[0;34m)\u001b[0m\u001b[0;34m*\u001b[0m\u001b[0;34m(\u001b[0m\u001b[0mj\u001b[0m\u001b[0;34m+\u001b[0m\u001b[0;36m1\u001b[0m\u001b[0;34m)\u001b[0m\u001b[0;34m*\u001b[0m\u001b[0;36m5\u001b[0m\u001b[0;34m\u001b[0m\u001b[0m\n\u001b[0;32m----> 5\u001b[0;31m         \u001b[0max\u001b[0m\u001b[0;34m.\u001b[0m\u001b[0mplot\u001b[0m\u001b[0;34m(\u001b[0m\u001b[0mfreqs\u001b[0m\u001b[0;34m[\u001b[0m\u001b[0mfb\u001b[0m\u001b[0;34m]\u001b[0m\u001b[0;34m,\u001b[0m \u001b[0mnp\u001b[0m\u001b[0;34m.\u001b[0m\u001b[0mabs\u001b[0m\u001b[0;34m(\u001b[0m\u001b[0mdata_dict\u001b[0m\u001b[0;34m[\u001b[0m\u001b[0;34m'x'\u001b[0m\u001b[0;34m]\u001b[0m\u001b[0;34m[\u001b[0m\u001b[0mind\u001b[0m\u001b[0;34m,\u001b[0m \u001b[0;34m:\u001b[0m\u001b[0;34m]\u001b[0m\u001b[0;34m)\u001b[0m\u001b[0;34m)\u001b[0m\u001b[0;34m\u001b[0m\u001b[0m\n\u001b[0m\u001b[1;32m      6\u001b[0m         \u001b[0max\u001b[0m\u001b[0;34m.\u001b[0m\u001b[0mset_xscale\u001b[0m\u001b[0;34m(\u001b[0m\u001b[0;34m'log'\u001b[0m\u001b[0;34m)\u001b[0m\u001b[0;34m\u001b[0m\u001b[0m\n\u001b[1;32m      7\u001b[0m         \u001b[0max\u001b[0m\u001b[0;34m.\u001b[0m\u001b[0mset_yscale\u001b[0m\u001b[0;34m(\u001b[0m\u001b[0;34m'log'\u001b[0m\u001b[0;34m)\u001b[0m\u001b[0;34m\u001b[0m\u001b[0m\n",
        "\u001b[0;31mNameError\u001b[0m: name 'fb' is not defined"
       ]
      }
     ],
     "prompt_number": 66
    },
    {
     "cell_type": "code",
     "collapsed": false,
     "input": [],
     "language": "python",
     "metadata": {},
     "outputs": [],
     "prompt_number": 187
    },
    {
     "cell_type": "code",
     "collapsed": false,
     "input": [
      "plt.loglog(freqs, np.abs(data_dict['x'][-10]))\n",
      "plt.show()"
     ],
     "language": "python",
     "metadata": {},
     "outputs": [],
     "prompt_number": 195
    },
    {
     "cell_type": "code",
     "collapsed": false,
     "input": [
      "\n",
      "x_resp = np.mean(data_dict['x'][:, fb], axis = -1)\n",
      "y_resp = np.mean(data_dict['y'][:, fb], axis = -1)\n",
      "z_resp = np.mean(data_dict['z'][:, fb], axis = -1)"
     ],
     "language": "python",
     "metadata": {},
     "outputs": [],
     "prompt_number": 63
    },
    {
     "cell_type": "code",
     "collapsed": false,
     "input": [
      "lf = 20\n",
      "filt = np.ones(lf, dtype = complex)"
     ],
     "language": "python",
     "metadata": {},
     "outputs": [],
     "prompt_number": 55
    },
    {
     "cell_type": "code",
     "collapsed": false,
     "input": [
      "plt.plot(ts, np.abs(np.convolve(x_resp, filt, mode = 'same')))\n",
      "plt.show()"
     ],
     "language": "python",
     "metadata": {},
     "outputs": [],
     "prompt_number": 58
    }
   ],
   "metadata": {}
  }
 ]
}