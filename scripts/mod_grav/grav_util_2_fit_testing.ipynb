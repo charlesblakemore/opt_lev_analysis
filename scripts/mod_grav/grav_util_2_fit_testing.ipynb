{
 "metadata": {
  "name": ""
 },
 "nbformat": 3,
 "nbformat_minor": 0,
 "worksheets": [
  {
   "cells": [
    {
     "cell_type": "code",
     "collapsed": false,
     "input": [
      "import numpy as np\n",
      "import matplotlib.pyplot as plt\n",
      "import pandas as pd\n"
     ],
     "language": "python",
     "metadata": {},
     "outputs": [],
     "prompt_number": 2
    },
    {
     "cell_type": "code",
     "collapsed": false,
     "input": [
      "import bead_util as bu\n",
      "import calib_util as cal\n",
      "import transfer_func_util as tf\n",
      "import configuration as config\n",
      "import scipy"
     ],
     "language": "python",
     "metadata": {},
     "outputs": [],
     "prompt_number": 3
    },
    {
     "cell_type": "code",
     "collapsed": false,
     "input": [
      "import grav_util_2 as gu2"
     ],
     "language": "python",
     "metadata": {},
     "outputs": [],
     "prompt_number": 4
    },
    {
     "cell_type": "code",
     "collapsed": false,
     "input": [
      "theory_data_dir = '/data/grav_sim_data/2um_spacing_data/'\n",
      "data_dir = '/data/20180704/bead1/grav_data/shield_1s_1h'\n"
     ],
     "language": "python",
     "metadata": {},
     "outputs": [],
     "prompt_number": 5
    },
    {
     "cell_type": "code",
     "collapsed": false,
     "input": [
      "datafiles = bu.find_all_fnames(data_dir, ext=config.extensions['data'])\n"
     ],
     "language": "python",
     "metadata": {},
     "outputs": [
      {
       "output_type": "stream",
       "stream": "stdout",
       "text": [
        "Finding files in: \n",
        "/data/20180704/bead1/grav_data/shield_1s_1h\n"
       ]
      },
      {
       "output_type": "stream",
       "stream": "stdout",
       "text": [
        "Found 2946 files...\n"
       ]
      }
     ],
     "prompt_number": 6
    },
    {
     "cell_type": "code",
     "collapsed": false,
     "input": [
      "reload(gu2)"
     ],
     "language": "python",
     "metadata": {},
     "outputs": [
      {
       "metadata": {},
       "output_type": "pyout",
       "prompt_number": 58,
       "text": [
        "<module 'grav_util_2' from '/home/arider/opt_lev_analysis/scripts/grav_util_2.py'>"
       ]
      }
     ],
     "prompt_number": 58
    },
    {
     "cell_type": "code",
     "collapsed": false,
     "input": [
      "fd = gu2.FileData(datafiles[0])\n",
      "fd.extract_data()\n",
      "tempi = np.ones(11) + 1.j*np.ones(11)\n",
      "tempt = np.vstack([tempi, tempi, tempi])\n",
      "df0 = fd.fit_alpha_xyz(np.array([tempt]))"
     ],
     "language": "python",
     "metadata": {},
     "outputs": [],
     "prompt_number": 59
    },
    {
     "cell_type": "code",
     "collapsed": false,
     "input": [
      "df = pd.DataFrame(np.ones((11, 3)), columns = [\"foo\", \"bar\", \"baz\"])"
     ],
     "language": "python",
     "metadata": {},
     "outputs": [],
     "prompt_number": 13
    },
    {
     "cell_type": "code",
     "collapsed": false,
     "input": [
      "plot_temp_fit(dat, temps, fit_coefs, errs, series_label = '')"
     ],
     "language": "python",
     "metadata": {},
     "outputs": [],
     "prompt_number": 24
    },
    {
     "cell_type": "code",
     "collapsed": false,
     "input": [
      "f, axarr = plt.subplots(3,1, sharey = True)"
     ],
     "language": "python",
     "metadata": {},
     "outputs": [],
     "prompt_number": 40
    },
    {
     "cell_type": "code",
     "collapsed": false,
     "input": [
      "axarr[2].plot(np.random.randn(10))"
     ],
     "language": "python",
     "metadata": {},
     "outputs": [
      {
       "metadata": {},
       "output_type": "pyout",
       "prompt_number": 41,
       "text": [
        "[<matplotlib.lines.Line2D at 0x7f88652c8150>]"
       ]
      }
     ],
     "prompt_number": 41
    },
    {
     "cell_type": "code",
     "collapsed": false,
     "input": [
      "reload(gu2)"
     ],
     "language": "python",
     "metadata": {},
     "outputs": [
      {
       "metadata": {},
       "output_type": "pyout",
       "prompt_number": 61,
       "text": [
        "<module 'grav_util_2' from '/home/arider/opt_lev_analysis/scripts/grav_util_2.py'>"
       ]
      }
     ],
     "prompt_number": 61
    },
    {
     "cell_type": "code",
     "collapsed": false,
     "input": [
      "Nf = 1\n",
      "AD2 = gu2.AggregateData(datafiles[-101:-100])\n",
      "AD2.load_grav_funcs(theory_data_dir)\n",
      "fitDataMC = AD2.AggregateDataMC(n_fake=0, same_noise = False)"
     ],
     "language": "python",
     "metadata": {},
     "outputs": [
      {
       "output_type": "stream",
       "stream": "stdout",
       "text": [
        "[#############################################] 100.0% ... Processing 1 files\r"
       ]
      },
      {
       "output_type": "stream",
       "stream": "stdout",
       "text": [
        "\n",
        "Loading Gravity Data..."
       ]
      },
      {
       "output_type": "stream",
       "stream": "stdout",
       "text": [
        " Done!\n",
        "[#########################################] 100.0% ... Fitting Alpha vs. Time\r"
       ]
      },
      {
       "output_type": "stream",
       "stream": "stdout",
       "text": [
        "\n"
       ]
      }
     ],
     "prompt_number": 64
    },
    {
     "cell_type": "code",
     "collapsed": false,
     "input": [],
     "language": "python",
     "metadata": {},
     "outputs": [],
     "prompt_number": 166
    },
    {
     "cell_type": "code",
     "collapsed": false,
     "input": [
      "\n",
      "    \n",
      "    "
     ],
     "language": "python",
     "metadata": {},
     "outputs": [],
     "prompt_number": 138
    },
    {
     "cell_type": "code",
     "collapsed": false,
     "input": [],
     "language": "python",
     "metadata": {},
     "outputs": [],
     "prompt_number": 151
    },
    {
     "cell_type": "code",
     "collapsed": false,
     "input": [],
     "language": "python",
     "metadata": {},
     "outputs": [],
     "prompt_number": 177
    },
    {
     "cell_type": "code",
     "collapsed": false,
     "input": [],
     "language": "python",
     "metadata": {},
     "outputs": [],
     "prompt_number": 6
    },
    {
     "cell_type": "code",
     "collapsed": false,
     "input": [],
     "language": "python",
     "metadata": {},
     "outputs": [],
     "prompt_number": 6
    },
    {
     "cell_type": "code",
     "collapsed": false,
     "input": [],
     "language": "python",
     "metadata": {},
     "outputs": [],
     "prompt_number": 6
    },
    {
     "cell_type": "code",
     "collapsed": false,
     "input": [],
     "language": "python",
     "metadata": {},
     "outputs": [],
     "prompt_number": 6
    },
    {
     "cell_type": "code",
     "collapsed": false,
     "input": [],
     "language": "python",
     "metadata": {},
     "outputs": []
    },
    {
     "cell_type": "code",
     "collapsed": false,
     "input": [],
     "language": "python",
     "metadata": {},
     "outputs": [],
     "prompt_number": 6
    },
    {
     "cell_type": "code",
     "collapsed": false,
     "input": [],
     "language": "python",
     "metadata": {},
     "outputs": [],
     "prompt_number": 6
    },
    {
     "cell_type": "code",
     "collapsed": false,
     "input": [],
     "language": "python",
     "metadata": {},
     "outputs": [],
     "prompt_number": 6
    },
    {
     "cell_type": "code",
     "collapsed": false,
     "input": [],
     "language": "python",
     "metadata": {},
     "outputs": [],
     "prompt_number": 6
    },
    {
     "cell_type": "code",
     "collapsed": false,
     "input": [],
     "language": "python",
     "metadata": {},
     "outputs": [],
     "prompt_number": 6
    },
    {
     "cell_type": "code",
     "collapsed": false,
     "input": [],
     "language": "python",
     "metadata": {},
     "outputs": []
    },
    {
     "cell_type": "code",
     "collapsed": false,
     "input": [],
     "language": "python",
     "metadata": {},
     "outputs": [],
     "prompt_number": 219
    },
    {
     "cell_type": "code",
     "collapsed": false,
     "input": [],
     "language": "python",
     "metadata": {},
     "outputs": [],
     "prompt_number": 6
    },
    {
     "cell_type": "code",
     "collapsed": false,
     "input": [],
     "language": "python",
     "metadata": {},
     "outputs": [],
     "prompt_number": 241
    },
    {
     "cell_type": "code",
     "collapsed": false,
     "input": [],
     "language": "python",
     "metadata": {},
     "outputs": [],
     "prompt_number": 246
    },
    {
     "cell_type": "code",
     "collapsed": false,
     "input": [
      "\n"
     ],
     "language": "python",
     "metadata": {},
     "outputs": [],
     "prompt_number": 247
    },
    {
     "cell_type": "code",
     "collapsed": false,
     "input": [
      "\n"
     ],
     "language": "python",
     "metadata": {},
     "outputs": [],
     "prompt_number": 204
    },
    {
     "cell_type": "code",
     "collapsed": false,
     "input": [],
     "language": "python",
     "metadata": {},
     "outputs": [],
     "prompt_number": 205
    },
    {
     "cell_type": "code",
     "collapsed": false,
     "input": [],
     "language": "python",
     "metadata": {},
     "outputs": [],
     "prompt_number": 99
    },
    {
     "cell_type": "code",
     "collapsed": false,
     "input": [],
     "language": "python",
     "metadata": {},
     "outputs": [],
     "prompt_number": 100
    },
    {
     "cell_type": "code",
     "collapsed": false,
     "input": [],
     "language": "python",
     "metadata": {},
     "outputs": [],
     "prompt_number": 6
    },
    {
     "cell_type": "code",
     "collapsed": false,
     "input": [],
     "language": "python",
     "metadata": {},
     "outputs": [],
     "prompt_number": 6
    },
    {
     "cell_type": "code",
     "collapsed": false,
     "input": [],
     "language": "python",
     "metadata": {},
     "outputs": [],
     "prompt_number": 6
    },
    {
     "cell_type": "code",
     "collapsed": false,
     "input": [],
     "language": "python",
     "metadata": {},
     "outputs": [],
     "prompt_number": 6
    },
    {
     "cell_type": "code",
     "collapsed": false,
     "input": [],
     "language": "python",
     "metadata": {},
     "outputs": [],
     "prompt_number": 6
    },
    {
     "cell_type": "code",
     "collapsed": false,
     "input": [],
     "language": "python",
     "metadata": {},
     "outputs": [],
     "prompt_number": 6
    },
    {
     "cell_type": "code",
     "collapsed": false,
     "input": [],
     "language": "python",
     "metadata": {},
     "outputs": [],
     "prompt_number": 6
    },
    {
     "cell_type": "code",
     "collapsed": false,
     "input": [],
     "language": "python",
     "metadata": {},
     "outputs": [],
     "prompt_number": 6
    },
    {
     "cell_type": "code",
     "collapsed": false,
     "input": [],
     "language": "python",
     "metadata": {},
     "outputs": [],
     "prompt_number": 6
    },
    {
     "cell_type": "code",
     "collapsed": false,
     "input": [],
     "language": "python",
     "metadata": {},
     "outputs": [],
     "prompt_number": 6
    },
    {
     "cell_type": "code",
     "collapsed": false,
     "input": [],
     "language": "python",
     "metadata": {},
     "outputs": [],
     "prompt_number": 6
    },
    {
     "cell_type": "code",
     "collapsed": false,
     "input": [],
     "language": "python",
     "metadata": {},
     "outputs": [],
     "prompt_number": 6
    },
    {
     "cell_type": "code",
     "collapsed": false,
     "input": [],
     "language": "python",
     "metadata": {},
     "outputs": [],
     "prompt_number": 42
    },
    {
     "cell_type": "code",
     "collapsed": false,
     "input": [
      "\n"
     ],
     "language": "python",
     "metadata": {},
     "outputs": [],
     "prompt_number": 48
    },
    {
     "cell_type": "code",
     "collapsed": false,
     "input": [],
     "language": "python",
     "metadata": {},
     "outputs": [],
     "prompt_number": 156
    },
    {
     "cell_type": "code",
     "collapsed": false,
     "input": [],
     "language": "python",
     "metadata": {},
     "outputs": [],
     "prompt_number": 161
    },
    {
     "cell_type": "code",
     "collapsed": false,
     "input": [],
     "language": "python",
     "metadata": {},
     "outputs": [],
     "prompt_number": 234
    },
    {
     "cell_type": "code",
     "collapsed": false,
     "input": [],
     "language": "python",
     "metadata": {},
     "outputs": [],
     "prompt_number": 235
    },
    {
     "cell_type": "code",
     "collapsed": false,
     "input": [],
     "language": "python",
     "metadata": {},
     "outputs": [
      {
       "output_type": "stream",
       "stream": "stdout",
       "text": [
        "[-----------------------------------------]   0.0% ... Fitting Alpha vs. Time\r"
       ]
      },
      {
       "output_type": "stream",
       "stream": "stdout",
       "text": [
        "[-----------------------------------------]   0.1% ... Fitting Alpha vs. Time\r"
       ]
      },
      {
       "output_type": "stream",
       "stream": "stdout",
       "text": [
        "[-----------------------------------------]   0.2% ... Fitting Alpha vs. Time\r"
       ]
      },
      {
       "output_type": "stream",
       "stream": "stdout",
       "text": [
        "[-----------------------------------------]   0.3% ... Fitting Alpha vs. Time\r"
       ]
      },
      {
       "output_type": "stream",
       "stream": "stdout",
       "text": [
        "[-----------------------------------------]   0.4% ... Fitting Alpha vs. Time\r"
       ]
      },
      {
       "output_type": "stream",
       "stream": "stdout",
       "text": [
        "[-----------------------------------------]   0.5% ... Fitting Alpha vs. Time\r"
       ]
      },
      {
       "output_type": "stream",
       "stream": "stdout",
       "text": [
        "[-----------------------------------------]   0.6% ... Fitting Alpha vs. Time\r"
       ]
      },
      {
       "output_type": "stream",
       "stream": "stdout",
       "text": [
        "[-----------------------------------------]   0.7% ... Fitting Alpha vs. Time\r"
       ]
      },
      {
       "output_type": "stream",
       "stream": "stdout",
       "text": [
        "[-----------------------------------------]   0.8% ... Fitting Alpha vs. Time\r"
       ]
      },
      {
       "output_type": "stream",
       "stream": "stdout",
       "text": [
        "[-----------------------------------------]   0.9% ... Fitting Alpha vs. Time\r"
       ]
      },
      {
       "output_type": "stream",
       "stream": "stdout",
       "text": [
        "[-----------------------------------------]   1.0% ... Fitting Alpha vs. Time\r"
       ]
      },
      {
       "output_type": "stream",
       "stream": "stdout",
       "text": [
        "[-----------------------------------------]   1.1% ... Fitting Alpha vs. Time\r"
       ]
      },
      {
       "output_type": "stream",
       "stream": "stdout",
       "text": [
        "[-----------------------------------------]   1.2% ... Fitting Alpha vs. Time\r"
       ]
      },
      {
       "output_type": "stream",
       "stream": "stdout",
       "text": [
        "[#----------------------------------------]   1.3% ... Fitting Alpha vs. Time\r"
       ]
      },
      {
       "output_type": "stream",
       "stream": "stdout",
       "text": [
        "[#----------------------------------------]   1.4% ... Fitting Alpha vs. Time\r"
       ]
      },
      {
       "output_type": "stream",
       "stream": "stdout",
       "text": [
        "[#----------------------------------------]   1.5% ... Fitting Alpha vs. Time\r"
       ]
      },
      {
       "output_type": "stream",
       "stream": "stdout",
       "text": [
        "[#----------------------------------------]   1.6% ... Fitting Alpha vs. Time\r"
       ]
      },
      {
       "output_type": "stream",
       "stream": "stdout",
       "text": [
        "[#----------------------------------------]   1.7% ... Fitting Alpha vs. Time\r"
       ]
      },
      {
       "output_type": "stream",
       "stream": "stdout",
       "text": [
        "[#----------------------------------------]   1.8% ... Fitting Alpha vs. Time\r"
       ]
      },
      {
       "output_type": "stream",
       "stream": "stdout",
       "text": [
        "[#----------------------------------------]   1.9% ... Fitting Alpha vs. Time\r"
       ]
      },
      {
       "output_type": "stream",
       "stream": "stdout",
       "text": [
        "[#----------------------------------------]   2.0% ... Fitting Alpha vs. Time\r"
       ]
      },
      {
       "output_type": "stream",
       "stream": "stdout",
       "text": [
        "[#----------------------------------------]   2.1% ... Fitting Alpha vs. Time\r"
       ]
      },
      {
       "output_type": "stream",
       "stream": "stdout",
       "text": [
        "[#----------------------------------------]   2.2% ... Fitting Alpha vs. Time\r"
       ]
      },
      {
       "output_type": "stream",
       "stream": "stdout",
       "text": [
        "[#----------------------------------------]   2.3% ... Fitting Alpha vs. Time\r"
       ]
      },
      {
       "output_type": "stream",
       "stream": "stdout",
       "text": [
        "[#----------------------------------------]   2.4% ... Fitting Alpha vs. Time\r"
       ]
      },
      {
       "output_type": "stream",
       "stream": "stdout",
       "text": [
        "[#----------------------------------------]   2.5% ... Fitting Alpha vs. Time\r"
       ]
      },
      {
       "output_type": "stream",
       "stream": "stdout",
       "text": [
        "[#----------------------------------------]   2.6% ... Fitting Alpha vs. Time\r"
       ]
      },
      {
       "output_type": "stream",
       "stream": "stdout",
       "text": [
        "[#----------------------------------------]   2.7% ... Fitting Alpha vs. Time\r"
       ]
      },
      {
       "output_type": "stream",
       "stream": "stdout",
       "text": [
        "[#----------------------------------------]   2.8% ... Fitting Alpha vs. Time\r"
       ]
      },
      {
       "output_type": "stream",
       "stream": "stdout",
       "text": [
        "[#----------------------------------------]   2.9% ... Fitting Alpha vs. Time\r"
       ]
      },
      {
       "output_type": "stream",
       "stream": "stdout",
       "text": [
        "[#----------------------------------------]   3.0% ... Fitting Alpha vs. Time\r"
       ]
      },
      {
       "output_type": "stream",
       "stream": "stdout",
       "text": [
        "[#----------------------------------------]   3.1% ... Fitting Alpha vs. Time\r"
       ]
      },
      {
       "output_type": "stream",
       "stream": "stdout",
       "text": [
        "[#----------------------------------------]   3.2% ... Fitting Alpha vs. Time\r"
       ]
      },
      {
       "output_type": "stream",
       "stream": "stdout",
       "text": [
        "[#----------------------------------------]   3.3% ... Fitting Alpha vs. Time\r"
       ]
      },
      {
       "output_type": "stream",
       "stream": "stdout",
       "text": [
        "[#----------------------------------------]   3.4% ... Fitting Alpha vs. Time\r"
       ]
      },
      {
       "output_type": "stream",
       "stream": "stdout",
       "text": [
        "[#----------------------------------------]   3.5% ... Fitting Alpha vs. Time\r"
       ]
      },
      {
       "output_type": "stream",
       "stream": "stdout",
       "text": [
        "[#----------------------------------------]   3.6% ... Fitting Alpha vs. Time\r"
       ]
      },
      {
       "output_type": "stream",
       "stream": "stdout",
       "text": [
        "[##---------------------------------------]   3.7% ... Fitting Alpha vs. Time\r"
       ]
      },
      {
       "output_type": "stream",
       "stream": "stdout",
       "text": [
        "[##---------------------------------------]   3.8% ... Fitting Alpha vs. Time\r"
       ]
      },
      {
       "output_type": "stream",
       "stream": "stdout",
       "text": [
        "[##---------------------------------------]   3.9% ... Fitting Alpha vs. Time\r"
       ]
      },
      {
       "output_type": "stream",
       "stream": "stdout",
       "text": [
        "[##---------------------------------------]   4.0% ... Fitting Alpha vs. Time\r"
       ]
      },
      {
       "output_type": "stream",
       "stream": "stdout",
       "text": [
        "[##---------------------------------------]   4.1% ... Fitting Alpha vs. Time\r"
       ]
      },
      {
       "output_type": "stream",
       "stream": "stdout",
       "text": [
        "[##---------------------------------------]   4.2% ... Fitting Alpha vs. Time\r"
       ]
      },
      {
       "output_type": "stream",
       "stream": "stdout",
       "text": [
        "[##---------------------------------------]   4.3% ... Fitting Alpha vs. Time\r"
       ]
      },
      {
       "output_type": "stream",
       "stream": "stdout",
       "text": [
        "[##---------------------------------------]   4.4% ... Fitting Alpha vs. Time\r"
       ]
      },
      {
       "output_type": "stream",
       "stream": "stdout",
       "text": [
        "[##---------------------------------------]   4.5% ... Fitting Alpha vs. Time\r"
       ]
      },
      {
       "output_type": "stream",
       "stream": "stdout",
       "text": [
        "[##---------------------------------------]   4.6% ... Fitting Alpha vs. Time\r"
       ]
      },
      {
       "output_type": "stream",
       "stream": "stdout",
       "text": [
        "[##---------------------------------------]   4.7% ... Fitting Alpha vs. Time\r"
       ]
      },
      {
       "output_type": "stream",
       "stream": "stdout",
       "text": [
        "[##---------------------------------------]   4.8% ... Fitting Alpha vs. Time\r"
       ]
      },
      {
       "output_type": "stream",
       "stream": "stdout",
       "text": [
        "[##---------------------------------------]   4.9% ... Fitting Alpha vs. Time\r"
       ]
      },
      {
       "output_type": "stream",
       "stream": "stdout",
       "text": [
        "[##---------------------------------------]   5.0% ... Fitting Alpha vs. Time\r"
       ]
      },
      {
       "output_type": "stream",
       "stream": "stdout",
       "text": [
        "[##---------------------------------------]   5.1% ... Fitting Alpha vs. Time\r"
       ]
      },
      {
       "output_type": "stream",
       "stream": "stdout",
       "text": [
        "[##---------------------------------------]   5.2% ... Fitting Alpha vs. Time\r"
       ]
      },
      {
       "output_type": "stream",
       "stream": "stdout",
       "text": [
        "[##---------------------------------------]   5.3% ... Fitting Alpha vs. Time\r"
       ]
      },
      {
       "output_type": "stream",
       "stream": "stdout",
       "text": [
        "[##---------------------------------------]   5.4% ... Fitting Alpha vs. Time\r"
       ]
      },
      {
       "output_type": "stream",
       "stream": "stdout",
       "text": [
        "[##---------------------------------------]   5.5% ... Fitting Alpha vs. Time\r"
       ]
      },
      {
       "output_type": "stream",
       "stream": "stdout",
       "text": [
        "[##---------------------------------------]   5.6% ... Fitting Alpha vs. Time\r"
       ]
      },
      {
       "output_type": "stream",
       "stream": "stdout",
       "text": [
        "[##---------------------------------------]   5.7% ... Fitting Alpha vs. Time\r"
       ]
      },
      {
       "output_type": "stream",
       "stream": "stdout",
       "text": [
        "[##---------------------------------------]   5.8% ... Fitting Alpha vs. Time\r"
       ]
      },
      {
       "output_type": "stream",
       "stream": "stdout",
       "text": [
        "[##---------------------------------------]   5.9% ... Fitting Alpha vs. Time\r"
       ]
      },
      {
       "output_type": "stream",
       "stream": "stdout",
       "text": [
        "[##---------------------------------------]   6.0% ... Fitting Alpha vs. Time\r"
       ]
      },
      {
       "output_type": "stream",
       "stream": "stdout",
       "text": [
        "[###--------------------------------------]   6.1% ... Fitting Alpha vs. Time\r"
       ]
      },
      {
       "output_type": "stream",
       "stream": "stdout",
       "text": [
        "[###--------------------------------------]   6.2% ... Fitting Alpha vs. Time\r"
       ]
      },
      {
       "output_type": "stream",
       "stream": "stdout",
       "text": [
        "[###--------------------------------------]   6.3% ... Fitting Alpha vs. Time\r"
       ]
      },
      {
       "output_type": "stream",
       "stream": "stdout",
       "text": [
        "[###--------------------------------------]   6.4% ... Fitting Alpha vs. Time\r"
       ]
      },
      {
       "output_type": "stream",
       "stream": "stdout",
       "text": [
        "[###--------------------------------------]   6.5% ... Fitting Alpha vs. Time\r"
       ]
      },
      {
       "output_type": "stream",
       "stream": "stdout",
       "text": [
        "[###--------------------------------------]   6.6% ... Fitting Alpha vs. Time\r"
       ]
      },
      {
       "output_type": "stream",
       "stream": "stdout",
       "text": [
        "[###--------------------------------------]   6.7% ... Fitting Alpha vs. Time\r"
       ]
      },
      {
       "output_type": "stream",
       "stream": "stdout",
       "text": [
        "[###--------------------------------------]   6.8% ... Fitting Alpha vs. Time\r"
       ]
      },
      {
       "output_type": "stream",
       "stream": "stdout",
       "text": [
        "[###--------------------------------------]   6.9% ... Fitting Alpha vs. Time\r"
       ]
      },
      {
       "output_type": "stream",
       "stream": "stdout",
       "text": [
        "[###--------------------------------------]   7.0% ... Fitting Alpha vs. Time\r"
       ]
      },
      {
       "output_type": "stream",
       "stream": "stdout",
       "text": [
        "[###--------------------------------------]   7.1% ... Fitting Alpha vs. Time\r"
       ]
      },
      {
       "output_type": "stream",
       "stream": "stdout",
       "text": [
        "[###--------------------------------------]   7.2% ... Fitting Alpha vs. Time\r"
       ]
      },
      {
       "output_type": "stream",
       "stream": "stdout",
       "text": [
        "[###--------------------------------------]   7.3% ... Fitting Alpha vs. Time\r"
       ]
      },
      {
       "output_type": "stream",
       "stream": "stdout",
       "text": [
        "[###--------------------------------------]   7.4% ... Fitting Alpha vs. Time\r"
       ]
      },
      {
       "output_type": "stream",
       "stream": "stdout",
       "text": [
        "[###--------------------------------------]   7.5% ... Fitting Alpha vs. Time\r"
       ]
      },
      {
       "output_type": "stream",
       "stream": "stdout",
       "text": [
        "[###--------------------------------------]   7.6% ... Fitting Alpha vs. Time\r"
       ]
      },
      {
       "output_type": "stream",
       "stream": "stdout",
       "text": [
        "[###--------------------------------------]   7.7% ... Fitting Alpha vs. Time\r"
       ]
      },
      {
       "output_type": "stream",
       "stream": "stdout",
       "text": [
        "[###--------------------------------------]   7.8% ... Fitting Alpha vs. Time\r"
       ]
      },
      {
       "output_type": "stream",
       "stream": "stdout",
       "text": [
        "[###--------------------------------------]   7.9% ... Fitting Alpha vs. Time\r"
       ]
      },
      {
       "output_type": "stream",
       "stream": "stdout",
       "text": [
        "[###--------------------------------------]   8.0% ... Fitting Alpha vs. Time\r"
       ]
      },
      {
       "output_type": "stream",
       "stream": "stdout",
       "text": [
        "[###--------------------------------------]   8.1% ... Fitting Alpha vs. Time\r"
       ]
      },
      {
       "output_type": "stream",
       "stream": "stdout",
       "text": [
        "[###--------------------------------------]   8.2% ... Fitting Alpha vs. Time\r"
       ]
      },
      {
       "output_type": "stream",
       "stream": "stdout",
       "text": [
        "[###--------------------------------------]   8.3% ... Fitting Alpha vs. Time\r"
       ]
      },
      {
       "output_type": "stream",
       "stream": "stdout",
       "text": [
        "[###--------------------------------------]   8.4% ... Fitting Alpha vs. Time\r"
       ]
      },
      {
       "output_type": "stream",
       "stream": "stdout",
       "text": [
        "[###--------------------------------------]   8.5% ... Fitting Alpha vs. Time\r"
       ]
      },
      {
       "output_type": "stream",
       "stream": "stdout",
       "text": [
        "[####-------------------------------------]   8.6% ... Fitting Alpha vs. Time\r"
       ]
      },
      {
       "output_type": "stream",
       "stream": "stdout",
       "text": [
        "[####-------------------------------------]   8.7% ... Fitting Alpha vs. Time\r"
       ]
      },
      {
       "output_type": "stream",
       "stream": "stdout",
       "text": [
        "[####-------------------------------------]   8.8% ... Fitting Alpha vs. Time\r"
       ]
      },
      {
       "output_type": "stream",
       "stream": "stdout",
       "text": [
        "[####-------------------------------------]   8.9% ... Fitting Alpha vs. Time\r"
       ]
      },
      {
       "output_type": "stream",
       "stream": "stdout",
       "text": [
        "[####-------------------------------------]   9.0% ... Fitting Alpha vs. Time\r"
       ]
      },
      {
       "output_type": "stream",
       "stream": "stdout",
       "text": [
        "[####-------------------------------------]   9.1% ... Fitting Alpha vs. Time\r"
       ]
      },
      {
       "output_type": "stream",
       "stream": "stdout",
       "text": [
        "[####-------------------------------------]   9.2% ... Fitting Alpha vs. Time\r"
       ]
      },
      {
       "output_type": "stream",
       "stream": "stdout",
       "text": [
        "[####-------------------------------------]   9.3% ... Fitting Alpha vs. Time\r"
       ]
      },
      {
       "output_type": "stream",
       "stream": "stdout",
       "text": [
        "[####-------------------------------------]   9.4% ... Fitting Alpha vs. Time\r"
       ]
      },
      {
       "output_type": "stream",
       "stream": "stdout",
       "text": [
        "[####-------------------------------------]   9.5% ... Fitting Alpha vs. Time\r"
       ]
      },
      {
       "output_type": "stream",
       "stream": "stdout",
       "text": [
        "[####-------------------------------------]   9.6% ... Fitting Alpha vs. Time\r"
       ]
      },
      {
       "output_type": "stream",
       "stream": "stdout",
       "text": [
        "[####-------------------------------------]   9.7% ... Fitting Alpha vs. Time\r"
       ]
      },
      {
       "output_type": "stream",
       "stream": "stdout",
       "text": [
        "[####-------------------------------------]   9.8% ... Fitting Alpha vs. Time\r"
       ]
      },
      {
       "output_type": "stream",
       "stream": "stdout",
       "text": [
        "[####-------------------------------------]   9.9% ... Fitting Alpha vs. Time\r"
       ]
      },
      {
       "output_type": "stream",
       "stream": "stdout",
       "text": [
        "[####-------------------------------------]  10.0% ... Fitting Alpha vs. Time\r"
       ]
      },
      {
       "output_type": "stream",
       "stream": "stdout",
       "text": [
        "[####-------------------------------------]  10.1% ... Fitting Alpha vs. Time\r"
       ]
      },
      {
       "output_type": "stream",
       "stream": "stdout",
       "text": [
        "[####-------------------------------------]  10.2% ... Fitting Alpha vs. Time\r"
       ]
      },
      {
       "output_type": "stream",
       "stream": "stdout",
       "text": [
        "[####-------------------------------------]  10.3% ... Fitting Alpha vs. Time\r"
       ]
      },
      {
       "output_type": "stream",
       "stream": "stdout",
       "text": [
        "[####-------------------------------------]  10.4% ... Fitting Alpha vs. Time\r"
       ]
      },
      {
       "output_type": "stream",
       "stream": "stdout",
       "text": [
        "[####-------------------------------------]  10.5% ... Fitting Alpha vs. Time\r"
       ]
      },
      {
       "output_type": "stream",
       "stream": "stdout",
       "text": [
        "[####-------------------------------------]  10.6% ... Fitting Alpha vs. Time\r"
       ]
      },
      {
       "output_type": "stream",
       "stream": "stdout",
       "text": [
        "[####-------------------------------------]  10.7% ... Fitting Alpha vs. Time\r"
       ]
      },
      {
       "output_type": "stream",
       "stream": "stdout",
       "text": [
        "[####-------------------------------------]  10.8% ... Fitting Alpha vs. Time\r"
       ]
      },
      {
       "output_type": "stream",
       "stream": "stdout",
       "text": [
        "[####-------------------------------------]  10.9% ... Fitting Alpha vs. Time\r"
       ]
      },
      {
       "output_type": "stream",
       "stream": "stdout",
       "text": [
        "[#####------------------------------------]  11.0% ... Fitting Alpha vs. Time\r"
       ]
      },
      {
       "output_type": "stream",
       "stream": "stdout",
       "text": [
        "[#####------------------------------------]  11.1% ... Fitting Alpha vs. Time\r"
       ]
      },
      {
       "output_type": "stream",
       "stream": "stdout",
       "text": [
        "[#####------------------------------------]  11.2% ... Fitting Alpha vs. Time\r"
       ]
      },
      {
       "output_type": "stream",
       "stream": "stdout",
       "text": [
        "[#####------------------------------------]  11.3% ... Fitting Alpha vs. Time\r"
       ]
      },
      {
       "output_type": "stream",
       "stream": "stdout",
       "text": [
        "[#####------------------------------------]  11.4% ... Fitting Alpha vs. Time\r"
       ]
      },
      {
       "output_type": "stream",
       "stream": "stdout",
       "text": [
        "[#####------------------------------------]  11.5% ... Fitting Alpha vs. Time\r"
       ]
      },
      {
       "output_type": "stream",
       "stream": "stdout",
       "text": [
        "[#####------------------------------------]  11.6% ... Fitting Alpha vs. Time\r"
       ]
      },
      {
       "output_type": "stream",
       "stream": "stdout",
       "text": [
        "[#####------------------------------------]  11.7% ... Fitting Alpha vs. Time\r"
       ]
      },
      {
       "output_type": "stream",
       "stream": "stdout",
       "text": [
        "[#####------------------------------------]  11.8% ... Fitting Alpha vs. Time\r"
       ]
      },
      {
       "output_type": "stream",
       "stream": "stdout",
       "text": [
        "[#####------------------------------------]  11.9% ... Fitting Alpha vs. Time\r"
       ]
      },
      {
       "output_type": "stream",
       "stream": "stdout",
       "text": [
        "[#####------------------------------------]  12.0% ... Fitting Alpha vs. Time\r"
       ]
      },
      {
       "output_type": "stream",
       "stream": "stdout",
       "text": [
        "[#####------------------------------------]  12.1% ... Fitting Alpha vs. Time\r"
       ]
      },
      {
       "output_type": "stream",
       "stream": "stdout",
       "text": [
        "[#####------------------------------------]  12.2% ... Fitting Alpha vs. Time\r"
       ]
      },
      {
       "output_type": "stream",
       "stream": "stdout",
       "text": [
        "[#####------------------------------------]  12.3% ... Fitting Alpha vs. Time\r"
       ]
      },
      {
       "output_type": "stream",
       "stream": "stdout",
       "text": [
        "[#####------------------------------------]  12.4% ... Fitting Alpha vs. Time\r"
       ]
      },
      {
       "output_type": "stream",
       "stream": "stdout",
       "text": [
        "[#####------------------------------------]  12.5% ... Fitting Alpha vs. Time\r"
       ]
      },
      {
       "output_type": "stream",
       "stream": "stdout",
       "text": [
        "[#####------------------------------------]  12.6% ... Fitting Alpha vs. Time\r"
       ]
      },
      {
       "output_type": "stream",
       "stream": "stdout",
       "text": [
        "[#####------------------------------------]  12.7% ... Fitting Alpha vs. Time\r"
       ]
      },
      {
       "output_type": "stream",
       "stream": "stdout",
       "text": [
        "[#####------------------------------------]  12.8% ... Fitting Alpha vs. Time\r"
       ]
      },
      {
       "output_type": "stream",
       "stream": "stdout",
       "text": [
        "[#####------------------------------------]  12.9% ... Fitting Alpha vs. Time\r"
       ]
      },
      {
       "output_type": "stream",
       "stream": "stdout",
       "text": [
        "[#####------------------------------------]  13.0% ... Fitting Alpha vs. Time\r"
       ]
      },
      {
       "output_type": "stream",
       "stream": "stdout",
       "text": [
        "[#####------------------------------------]  13.1% ... Fitting Alpha vs. Time\r"
       ]
      },
      {
       "output_type": "stream",
       "stream": "stdout",
       "text": [
        "[#####------------------------------------]  13.2% ... Fitting Alpha vs. Time\r"
       ]
      },
      {
       "output_type": "stream",
       "stream": "stdout",
       "text": [
        "[#####------------------------------------]  13.3% ... Fitting Alpha vs. Time\r"
       ]
      },
      {
       "output_type": "stream",
       "stream": "stdout",
       "text": [
        "[#####------------------------------------]  13.4% ... Fitting Alpha vs. Time\r"
       ]
      },
      {
       "output_type": "stream",
       "stream": "stdout",
       "text": [
        "[######-----------------------------------]  13.5% ... Fitting Alpha vs. Time\r"
       ]
      },
      {
       "output_type": "stream",
       "stream": "stdout",
       "text": [
        "[######-----------------------------------]  13.6% ... Fitting Alpha vs. Time\r"
       ]
      },
      {
       "output_type": "stream",
       "stream": "stdout",
       "text": [
        "[######-----------------------------------]  13.7% ... Fitting Alpha vs. Time\r"
       ]
      },
      {
       "output_type": "stream",
       "stream": "stdout",
       "text": [
        "[######-----------------------------------]  13.8% ... Fitting Alpha vs. Time\r"
       ]
      },
      {
       "output_type": "stream",
       "stream": "stdout",
       "text": [
        "[######-----------------------------------]  13.9% ... Fitting Alpha vs. Time\r"
       ]
      },
      {
       "output_type": "stream",
       "stream": "stdout",
       "text": [
        "[######-----------------------------------]  14.0% ... Fitting Alpha vs. Time\r"
       ]
      },
      {
       "output_type": "stream",
       "stream": "stdout",
       "text": [
        "[######-----------------------------------]  14.1% ... Fitting Alpha vs. Time\r"
       ]
      },
      {
       "output_type": "stream",
       "stream": "stdout",
       "text": [
        "[######-----------------------------------]  14.2% ... Fitting Alpha vs. Time\r"
       ]
      },
      {
       "output_type": "stream",
       "stream": "stdout",
       "text": [
        "[######-----------------------------------]  14.3% ... Fitting Alpha vs. Time\r"
       ]
      },
      {
       "output_type": "stream",
       "stream": "stdout",
       "text": [
        "[######-----------------------------------]  14.4% ... Fitting Alpha vs. Time\r"
       ]
      },
      {
       "output_type": "stream",
       "stream": "stdout",
       "text": [
        "[######-----------------------------------]  14.5% ... Fitting Alpha vs. Time\r"
       ]
      },
      {
       "output_type": "stream",
       "stream": "stdout",
       "text": [
        "[######-----------------------------------]  14.6% ... Fitting Alpha vs. Time\r"
       ]
      },
      {
       "output_type": "stream",
       "stream": "stdout",
       "text": [
        "[######-----------------------------------]  14.7% ... Fitting Alpha vs. Time\r"
       ]
      },
      {
       "output_type": "stream",
       "stream": "stdout",
       "text": [
        "[######-----------------------------------]  14.8% ... Fitting Alpha vs. Time\r"
       ]
      },
      {
       "output_type": "stream",
       "stream": "stdout",
       "text": [
        "[######-----------------------------------]  14.9% ... Fitting Alpha vs. Time\r"
       ]
      },
      {
       "output_type": "stream",
       "stream": "stdout",
       "text": [
        "[######-----------------------------------]  15.0% ... Fitting Alpha vs. Time\r"
       ]
      },
      {
       "output_type": "stream",
       "stream": "stdout",
       "text": [
        "[######-----------------------------------]  15.1% ... Fitting Alpha vs. Time\r"
       ]
      },
      {
       "output_type": "stream",
       "stream": "stdout",
       "text": [
        "[######-----------------------------------]  15.2% ... Fitting Alpha vs. Time\r"
       ]
      },
      {
       "output_type": "stream",
       "stream": "stdout",
       "text": [
        "[######-----------------------------------]  15.3% ... Fitting Alpha vs. Time\r"
       ]
      },
      {
       "output_type": "stream",
       "stream": "stdout",
       "text": [
        "[######-----------------------------------]  15.4% ... Fitting Alpha vs. Time\r"
       ]
      },
      {
       "output_type": "stream",
       "stream": "stdout",
       "text": [
        "[######-----------------------------------]  15.5% ... Fitting Alpha vs. Time\r"
       ]
      },
      {
       "output_type": "stream",
       "stream": "stdout",
       "text": [
        "[######-----------------------------------]  15.6% ... Fitting Alpha vs. Time\r"
       ]
      },
      {
       "output_type": "stream",
       "stream": "stdout",
       "text": [
        "[######-----------------------------------]  15.7% ... Fitting Alpha vs. Time\r"
       ]
      },
      {
       "output_type": "stream",
       "stream": "stdout",
       "text": [
        "[######-----------------------------------]  15.8% ... Fitting Alpha vs. Time\r"
       ]
      },
      {
       "output_type": "stream",
       "stream": "stdout",
       "text": [
        "[#######----------------------------------]  15.9% ... Fitting Alpha vs. Time\r"
       ]
      },
      {
       "output_type": "stream",
       "stream": "stdout",
       "text": [
        "[#######----------------------------------]  16.0% ... Fitting Alpha vs. Time\r"
       ]
      },
      {
       "output_type": "stream",
       "stream": "stdout",
       "text": [
        "[#######----------------------------------]  16.1% ... Fitting Alpha vs. Time\r"
       ]
      },
      {
       "output_type": "stream",
       "stream": "stdout",
       "text": [
        "[#######----------------------------------]  16.2% ... Fitting Alpha vs. Time\r"
       ]
      },
      {
       "output_type": "stream",
       "stream": "stdout",
       "text": [
        "[#######----------------------------------]  16.3% ... Fitting Alpha vs. Time\r"
       ]
      },
      {
       "output_type": "stream",
       "stream": "stdout",
       "text": [
        "[#######----------------------------------]  16.4% ... Fitting Alpha vs. Time\r"
       ]
      },
      {
       "output_type": "stream",
       "stream": "stdout",
       "text": [
        "[#######----------------------------------]  16.5% ... Fitting Alpha vs. Time\r"
       ]
      },
      {
       "output_type": "stream",
       "stream": "stdout",
       "text": [
        "[#######----------------------------------]  16.6% ... Fitting Alpha vs. Time\r"
       ]
      },
      {
       "output_type": "stream",
       "stream": "stdout",
       "text": [
        "[#######----------------------------------]  16.7% ... Fitting Alpha vs. Time\r"
       ]
      },
      {
       "output_type": "stream",
       "stream": "stdout",
       "text": [
        "[#######----------------------------------]  16.8% ... Fitting Alpha vs. Time\r"
       ]
      },
      {
       "output_type": "stream",
       "stream": "stdout",
       "text": [
        "[#######----------------------------------]  16.9% ... Fitting Alpha vs. Time\r"
       ]
      },
      {
       "output_type": "stream",
       "stream": "stdout",
       "text": [
        "[#######----------------------------------]  17.0% ... Fitting Alpha vs. Time\r"
       ]
      },
      {
       "output_type": "stream",
       "stream": "stdout",
       "text": [
        "[#######----------------------------------]  17.1% ... Fitting Alpha vs. Time\r"
       ]
      },
      {
       "output_type": "stream",
       "stream": "stdout",
       "text": [
        "[#######----------------------------------]  17.2% ... Fitting Alpha vs. Time\r"
       ]
      },
      {
       "output_type": "stream",
       "stream": "stdout",
       "text": [
        "[#######----------------------------------]  17.3% ... Fitting Alpha vs. Time\r"
       ]
      },
      {
       "output_type": "stream",
       "stream": "stdout",
       "text": [
        "[#######----------------------------------]  17.4% ... Fitting Alpha vs. Time\r"
       ]
      },
      {
       "output_type": "stream",
       "stream": "stdout",
       "text": [
        "[#######----------------------------------]  17.5% ... Fitting Alpha vs. Time\r"
       ]
      },
      {
       "output_type": "stream",
       "stream": "stdout",
       "text": [
        "[#######----------------------------------]  17.6% ... Fitting Alpha vs. Time\r"
       ]
      },
      {
       "output_type": "stream",
       "stream": "stdout",
       "text": [
        "[#######----------------------------------]  17.7% ... Fitting Alpha vs. Time\r"
       ]
      },
      {
       "output_type": "stream",
       "stream": "stdout",
       "text": [
        "[#######----------------------------------]  17.8% ... Fitting Alpha vs. Time\r"
       ]
      },
      {
       "output_type": "stream",
       "stream": "stdout",
       "text": [
        "[#######----------------------------------]  17.9% ... Fitting Alpha vs. Time\r"
       ]
      },
      {
       "output_type": "stream",
       "stream": "stdout",
       "text": [
        "[#######----------------------------------]  18.0% ... Fitting Alpha vs. Time\r"
       ]
      },
      {
       "output_type": "stream",
       "stream": "stdout",
       "text": [
        "[#######----------------------------------]  18.1% ... Fitting Alpha vs. Time\r"
       ]
      },
      {
       "output_type": "stream",
       "stream": "stdout",
       "text": [
        "[#######----------------------------------]  18.2% ... Fitting Alpha vs. Time\r"
       ]
      },
      {
       "output_type": "stream",
       "stream": "stdout",
       "text": [
        "[########---------------------------------]  18.3% ... Fitting Alpha vs. Time\r"
       ]
      },
      {
       "output_type": "stream",
       "stream": "stdout",
       "text": [
        "[########---------------------------------]  18.4% ... Fitting Alpha vs. Time\r"
       ]
      },
      {
       "output_type": "stream",
       "stream": "stdout",
       "text": [
        "[########---------------------------------]  18.5% ... Fitting Alpha vs. Time\r"
       ]
      },
      {
       "output_type": "stream",
       "stream": "stdout",
       "text": [
        "[########---------------------------------]  18.6% ... Fitting Alpha vs. Time\r"
       ]
      },
      {
       "output_type": "stream",
       "stream": "stdout",
       "text": [
        "[########---------------------------------]  18.7% ... Fitting Alpha vs. Time\r"
       ]
      },
      {
       "output_type": "stream",
       "stream": "stdout",
       "text": [
        "[########---------------------------------]  18.8% ... Fitting Alpha vs. Time\r"
       ]
      },
      {
       "output_type": "stream",
       "stream": "stdout",
       "text": [
        "[########---------------------------------]  18.9% ... Fitting Alpha vs. Time\r"
       ]
      },
      {
       "output_type": "stream",
       "stream": "stdout",
       "text": [
        "[########---------------------------------]  19.0% ... Fitting Alpha vs. Time\r"
       ]
      },
      {
       "output_type": "stream",
       "stream": "stdout",
       "text": [
        "[########---------------------------------]  19.1% ... Fitting Alpha vs. Time\r"
       ]
      },
      {
       "output_type": "stream",
       "stream": "stdout",
       "text": [
        "[########---------------------------------]  19.2% ... Fitting Alpha vs. Time\r"
       ]
      },
      {
       "output_type": "stream",
       "stream": "stdout",
       "text": [
        "[########---------------------------------]  19.3% ... Fitting Alpha vs. Time\r"
       ]
      },
      {
       "output_type": "stream",
       "stream": "stdout",
       "text": [
        "[########---------------------------------]  19.4% ... Fitting Alpha vs. Time\r"
       ]
      },
      {
       "output_type": "stream",
       "stream": "stdout",
       "text": [
        "[########---------------------------------]  19.5% ... Fitting Alpha vs. Time\r"
       ]
      },
      {
       "output_type": "stream",
       "stream": "stdout",
       "text": [
        "[########---------------------------------]  19.6% ... Fitting Alpha vs. Time\r"
       ]
      },
      {
       "output_type": "stream",
       "stream": "stdout",
       "text": [
        "[########---------------------------------]  19.7% ... Fitting Alpha vs. Time\r"
       ]
      },
      {
       "output_type": "stream",
       "stream": "stdout",
       "text": [
        "[########---------------------------------]  19.8% ... Fitting Alpha vs. Time\r"
       ]
      },
      {
       "output_type": "stream",
       "stream": "stdout",
       "text": [
        "[########---------------------------------]  19.9% ... Fitting Alpha vs. Time\r"
       ]
      },
      {
       "output_type": "stream",
       "stream": "stdout",
       "text": [
        "[########---------------------------------]  20.0% ... Fitting Alpha vs. Time\r"
       ]
      },
      {
       "output_type": "stream",
       "stream": "stdout",
       "text": [
        "[########---------------------------------]  20.1% ... Fitting Alpha vs. Time\r"
       ]
      },
      {
       "output_type": "stream",
       "stream": "stdout",
       "text": [
        "[########---------------------------------]  20.2% ... Fitting Alpha vs. Time\r"
       ]
      },
      {
       "output_type": "stream",
       "stream": "stdout",
       "text": [
        "[########---------------------------------]  20.3% ... Fitting Alpha vs. Time\r"
       ]
      },
      {
       "output_type": "stream",
       "stream": "stdout",
       "text": [
        "[########---------------------------------]  20.4% ... Fitting Alpha vs. Time\r"
       ]
      },
      {
       "output_type": "stream",
       "stream": "stdout",
       "text": [
        "[########---------------------------------]  20.5% ... Fitting Alpha vs. Time\r"
       ]
      },
      {
       "output_type": "stream",
       "stream": "stdout",
       "text": [
        "[########---------------------------------]  20.6% ... Fitting Alpha vs. Time\r"
       ]
      },
      {
       "output_type": "stream",
       "stream": "stdout",
       "text": [
        "[########---------------------------------]  20.7% ... Fitting Alpha vs. Time\r"
       ]
      },
      {
       "output_type": "stream",
       "stream": "stdout",
       "text": [
        "[#########--------------------------------]  20.8% ... Fitting Alpha vs. Time\r"
       ]
      },
      {
       "output_type": "stream",
       "stream": "stdout",
       "text": [
        "[#########--------------------------------]  20.9% ... Fitting Alpha vs. Time\r"
       ]
      },
      {
       "output_type": "stream",
       "stream": "stdout",
       "text": [
        "[#########--------------------------------]  21.0% ... Fitting Alpha vs. Time\r"
       ]
      },
      {
       "output_type": "stream",
       "stream": "stdout",
       "text": [
        "[#########--------------------------------]  21.1% ... Fitting Alpha vs. Time\r"
       ]
      },
      {
       "output_type": "stream",
       "stream": "stdout",
       "text": [
        "[#########--------------------------------]  21.2% ... Fitting Alpha vs. Time\r"
       ]
      },
      {
       "output_type": "stream",
       "stream": "stdout",
       "text": [
        "[#########--------------------------------]  21.3% ... Fitting Alpha vs. Time\r"
       ]
      },
      {
       "output_type": "stream",
       "stream": "stdout",
       "text": [
        "[#########--------------------------------]  21.4% ... Fitting Alpha vs. Time\r"
       ]
      },
      {
       "output_type": "stream",
       "stream": "stdout",
       "text": [
        "[#########--------------------------------]  21.5% ... Fitting Alpha vs. Time\r"
       ]
      },
      {
       "output_type": "stream",
       "stream": "stdout",
       "text": [
        "[#########--------------------------------]  21.6% ... Fitting Alpha vs. Time\r"
       ]
      },
      {
       "output_type": "stream",
       "stream": "stdout",
       "text": [
        "[#########--------------------------------]  21.7% ... Fitting Alpha vs. Time\r"
       ]
      },
      {
       "output_type": "stream",
       "stream": "stdout",
       "text": [
        "[#########--------------------------------]  21.8% ... Fitting Alpha vs. Time\r"
       ]
      },
      {
       "output_type": "stream",
       "stream": "stdout",
       "text": [
        "[#########--------------------------------]  21.9% ... Fitting Alpha vs. Time\r"
       ]
      },
      {
       "output_type": "stream",
       "stream": "stdout",
       "text": [
        "[#########--------------------------------]  22.0% ... Fitting Alpha vs. Time\r"
       ]
      },
      {
       "output_type": "stream",
       "stream": "stdout",
       "text": [
        "[#########--------------------------------]  22.1% ... Fitting Alpha vs. Time\r"
       ]
      },
      {
       "output_type": "stream",
       "stream": "stdout",
       "text": [
        "[#########--------------------------------]  22.2% ... Fitting Alpha vs. Time\r"
       ]
      },
      {
       "output_type": "stream",
       "stream": "stdout",
       "text": [
        "[#########--------------------------------]  22.3% ... Fitting Alpha vs. Time\r"
       ]
      },
      {
       "output_type": "stream",
       "stream": "stdout",
       "text": [
        "[#########--------------------------------]  22.4% ... Fitting Alpha vs. Time\r"
       ]
      },
      {
       "output_type": "stream",
       "stream": "stdout",
       "text": [
        "[#########--------------------------------]  22.5% ... Fitting Alpha vs. Time\r"
       ]
      },
      {
       "output_type": "stream",
       "stream": "stdout",
       "text": [
        "[#########--------------------------------]  22.6% ... Fitting Alpha vs. Time\r"
       ]
      },
      {
       "output_type": "stream",
       "stream": "stdout",
       "text": [
        "[#########--------------------------------]  22.7% ... Fitting Alpha vs. Time\r"
       ]
      },
      {
       "output_type": "stream",
       "stream": "stdout",
       "text": [
        "[#########--------------------------------]  22.8% ... Fitting Alpha vs. Time\r"
       ]
      },
      {
       "output_type": "stream",
       "stream": "stdout",
       "text": [
        "[#########--------------------------------]  22.9% ... Fitting Alpha vs. Time\r"
       ]
      },
      {
       "output_type": "stream",
       "stream": "stdout",
       "text": [
        "[#########--------------------------------]  23.0% ... Fitting Alpha vs. Time\r"
       ]
      },
      {
       "output_type": "stream",
       "stream": "stdout",
       "text": [
        "[#########--------------------------------]  23.1% ... Fitting Alpha vs. Time\r"
       ]
      },
      {
       "output_type": "stream",
       "stream": "stdout",
       "text": [
        "[##########-------------------------------]  23.2% ... Fitting Alpha vs. Time\r"
       ]
      },
      {
       "output_type": "stream",
       "stream": "stdout",
       "text": [
        "[##########-------------------------------]  23.3% ... Fitting Alpha vs. Time\r"
       ]
      },
      {
       "output_type": "stream",
       "stream": "stdout",
       "text": [
        "[##########-------------------------------]  23.4% ... Fitting Alpha vs. Time\r"
       ]
      },
      {
       "output_type": "stream",
       "stream": "stdout",
       "text": [
        "[##########-------------------------------]  23.5% ... Fitting Alpha vs. Time\r"
       ]
      },
      {
       "output_type": "stream",
       "stream": "stdout",
       "text": [
        "[##########-------------------------------]  23.6% ... Fitting Alpha vs. Time\r"
       ]
      },
      {
       "output_type": "stream",
       "stream": "stdout",
       "text": [
        "[##########-------------------------------]  23.7% ... Fitting Alpha vs. Time\r"
       ]
      },
      {
       "output_type": "stream",
       "stream": "stdout",
       "text": [
        "[##########-------------------------------]  23.8% ... Fitting Alpha vs. Time\r"
       ]
      },
      {
       "output_type": "stream",
       "stream": "stdout",
       "text": [
        "[##########-------------------------------]  23.9% ... Fitting Alpha vs. Time\r"
       ]
      },
      {
       "output_type": "stream",
       "stream": "stdout",
       "text": [
        "[##########-------------------------------]  24.0% ... Fitting Alpha vs. Time\r"
       ]
      },
      {
       "output_type": "stream",
       "stream": "stdout",
       "text": [
        "[##########-------------------------------]  24.1% ... Fitting Alpha vs. Time\r"
       ]
      },
      {
       "output_type": "stream",
       "stream": "stdout",
       "text": [
        "[##########-------------------------------]  24.2% ... Fitting Alpha vs. Time\r"
       ]
      },
      {
       "output_type": "stream",
       "stream": "stdout",
       "text": [
        "[##########-------------------------------]  24.3% ... Fitting Alpha vs. Time\r"
       ]
      },
      {
       "output_type": "stream",
       "stream": "stdout",
       "text": [
        "[##########-------------------------------]  24.4% ... Fitting Alpha vs. Time\r"
       ]
      },
      {
       "output_type": "stream",
       "stream": "stdout",
       "text": [
        "[##########-------------------------------]  24.5% ... Fitting Alpha vs. Time\r"
       ]
      },
      {
       "output_type": "stream",
       "stream": "stdout",
       "text": [
        "[##########-------------------------------]  24.6% ... Fitting Alpha vs. Time\r"
       ]
      },
      {
       "output_type": "stream",
       "stream": "stdout",
       "text": [
        "[##########-------------------------------]  24.7% ... Fitting Alpha vs. Time\r"
       ]
      },
      {
       "output_type": "stream",
       "stream": "stdout",
       "text": [
        "[##########-------------------------------]  24.8% ... Fitting Alpha vs. Time\r"
       ]
      },
      {
       "output_type": "stream",
       "stream": "stdout",
       "text": [
        "[##########-------------------------------]  24.9% ... Fitting Alpha vs. Time\r"
       ]
      },
      {
       "output_type": "stream",
       "stream": "stdout",
       "text": [
        "[##########-------------------------------]  25.0% ... Fitting Alpha vs. Time\r"
       ]
      },
      {
       "output_type": "stream",
       "stream": "stdout",
       "text": [
        "[##########-------------------------------]  25.1% ... Fitting Alpha vs. Time\r"
       ]
      },
      {
       "output_type": "stream",
       "stream": "stdout",
       "text": [
        "[##########-------------------------------]  25.2% ... Fitting Alpha vs. Time\r"
       ]
      },
      {
       "output_type": "stream",
       "stream": "stdout",
       "text": [
        "[##########-------------------------------]  25.3% ... Fitting Alpha vs. Time\r"
       ]
      },
      {
       "output_type": "stream",
       "stream": "stdout",
       "text": [
        "[##########-------------------------------]  25.4% ... Fitting Alpha vs. Time\r"
       ]
      },
      {
       "output_type": "stream",
       "stream": "stdout",
       "text": [
        "[##########-------------------------------]  25.5% ... Fitting Alpha vs. Time\r"
       ]
      },
      {
       "output_type": "stream",
       "stream": "stdout",
       "text": [
        "[##########-------------------------------]  25.6% ... Fitting Alpha vs. Time\r"
       ]
      },
      {
       "output_type": "stream",
       "stream": "stdout",
       "text": [
        "[###########------------------------------]  25.7% ... Fitting Alpha vs. Time\r"
       ]
      },
      {
       "output_type": "stream",
       "stream": "stdout",
       "text": [
        "[###########------------------------------]  25.8% ... Fitting Alpha vs. Time\r"
       ]
      },
      {
       "output_type": "stream",
       "stream": "stdout",
       "text": [
        "[###########------------------------------]  25.9% ... Fitting Alpha vs. Time\r"
       ]
      },
      {
       "output_type": "stream",
       "stream": "stdout",
       "text": [
        "[###########------------------------------]  26.0% ... Fitting Alpha vs. Time\r"
       ]
      },
      {
       "output_type": "stream",
       "stream": "stdout",
       "text": [
        "[###########------------------------------]  26.1% ... Fitting Alpha vs. Time\r"
       ]
      },
      {
       "output_type": "stream",
       "stream": "stdout",
       "text": [
        "[###########------------------------------]  26.2% ... Fitting Alpha vs. Time\r"
       ]
      },
      {
       "output_type": "stream",
       "stream": "stdout",
       "text": [
        "[###########------------------------------]  26.3% ... Fitting Alpha vs. Time\r"
       ]
      },
      {
       "output_type": "stream",
       "stream": "stdout",
       "text": [
        "[###########------------------------------]  26.4% ... Fitting Alpha vs. Time\r"
       ]
      },
      {
       "output_type": "stream",
       "stream": "stdout",
       "text": [
        "[###########------------------------------]  26.5% ... Fitting Alpha vs. Time\r"
       ]
      },
      {
       "output_type": "stream",
       "stream": "stdout",
       "text": [
        "[###########------------------------------]  26.6% ... Fitting Alpha vs. Time\r"
       ]
      },
      {
       "output_type": "stream",
       "stream": "stdout",
       "text": [
        "[###########------------------------------]  26.7% ... Fitting Alpha vs. Time\r"
       ]
      },
      {
       "output_type": "stream",
       "stream": "stdout",
       "text": [
        "[###########------------------------------]  26.8% ... Fitting Alpha vs. Time\r"
       ]
      },
      {
       "output_type": "stream",
       "stream": "stdout",
       "text": [
        "[###########------------------------------]  26.9% ... Fitting Alpha vs. Time\r"
       ]
      },
      {
       "output_type": "stream",
       "stream": "stdout",
       "text": [
        "[###########------------------------------]  27.0% ... Fitting Alpha vs. Time\r"
       ]
      },
      {
       "output_type": "stream",
       "stream": "stdout",
       "text": [
        "[###########------------------------------]  27.1% ... Fitting Alpha vs. Time\r"
       ]
      },
      {
       "output_type": "stream",
       "stream": "stdout",
       "text": [
        "[###########------------------------------]  27.2% ... Fitting Alpha vs. Time\r"
       ]
      },
      {
       "output_type": "stream",
       "stream": "stdout",
       "text": [
        "[###########------------------------------]  27.3% ... Fitting Alpha vs. Time\r"
       ]
      },
      {
       "output_type": "stream",
       "stream": "stdout",
       "text": [
        "[###########------------------------------]  27.4% ... Fitting Alpha vs. Time\r"
       ]
      },
      {
       "output_type": "stream",
       "stream": "stdout",
       "text": [
        "[###########------------------------------]  27.5% ... Fitting Alpha vs. Time\r"
       ]
      },
      {
       "output_type": "stream",
       "stream": "stdout",
       "text": [
        "[###########------------------------------]  27.6% ... Fitting Alpha vs. Time\r"
       ]
      },
      {
       "output_type": "stream",
       "stream": "stdout",
       "text": [
        "[###########------------------------------]  27.7% ... Fitting Alpha vs. Time\r"
       ]
      },
      {
       "output_type": "stream",
       "stream": "stdout",
       "text": [
        "[###########------------------------------]  27.8% ... Fitting Alpha vs. Time\r"
       ]
      },
      {
       "output_type": "stream",
       "stream": "stdout",
       "text": [
        "[###########------------------------------]  27.9% ... Fitting Alpha vs. Time\r"
       ]
      },
      {
       "output_type": "stream",
       "stream": "stdout",
       "text": [
        "[###########------------------------------]  28.0% ... Fitting Alpha vs. Time\r"
       ]
      },
      {
       "output_type": "stream",
       "stream": "stdout",
       "text": [
        "[############-----------------------------]  28.1% ... Fitting Alpha vs. Time\r"
       ]
      },
      {
       "output_type": "stream",
       "stream": "stdout",
       "text": [
        "[############-----------------------------]  28.2% ... Fitting Alpha vs. Time\r"
       ]
      },
      {
       "output_type": "stream",
       "stream": "stdout",
       "text": [
        "[############-----------------------------]  28.3% ... Fitting Alpha vs. Time\r"
       ]
      },
      {
       "output_type": "stream",
       "stream": "stdout",
       "text": [
        "[############-----------------------------]  28.4% ... Fitting Alpha vs. Time\r"
       ]
      },
      {
       "output_type": "stream",
       "stream": "stdout",
       "text": [
        "[############-----------------------------]  28.5% ... Fitting Alpha vs. Time\r"
       ]
      },
      {
       "output_type": "stream",
       "stream": "stdout",
       "text": [
        "[############-----------------------------]  28.6% ... Fitting Alpha vs. Time\r"
       ]
      },
      {
       "output_type": "stream",
       "stream": "stdout",
       "text": [
        "[############-----------------------------]  28.7% ... Fitting Alpha vs. Time\r"
       ]
      },
      {
       "output_type": "stream",
       "stream": "stdout",
       "text": [
        "[############-----------------------------]  28.8% ... Fitting Alpha vs. Time\r"
       ]
      },
      {
       "output_type": "stream",
       "stream": "stdout",
       "text": [
        "[############-----------------------------]  28.9% ... Fitting Alpha vs. Time\r"
       ]
      },
      {
       "output_type": "stream",
       "stream": "stdout",
       "text": [
        "[############-----------------------------]  29.0% ... Fitting Alpha vs. Time\r"
       ]
      },
      {
       "output_type": "stream",
       "stream": "stdout",
       "text": [
        "[############-----------------------------]  29.1% ... Fitting Alpha vs. Time\r"
       ]
      },
      {
       "output_type": "stream",
       "stream": "stdout",
       "text": [
        "[############-----------------------------]  29.2% ... Fitting Alpha vs. Time\r"
       ]
      },
      {
       "output_type": "stream",
       "stream": "stdout",
       "text": [
        "[############-----------------------------]  29.3% ... Fitting Alpha vs. Time\r"
       ]
      },
      {
       "output_type": "stream",
       "stream": "stdout",
       "text": [
        "[############-----------------------------]  29.4% ... Fitting Alpha vs. Time\r"
       ]
      },
      {
       "output_type": "stream",
       "stream": "stdout",
       "text": [
        "[############-----------------------------]  29.5% ... Fitting Alpha vs. Time\r"
       ]
      },
      {
       "output_type": "stream",
       "stream": "stdout",
       "text": [
        "[############-----------------------------]  29.6% ... Fitting Alpha vs. Time\r"
       ]
      },
      {
       "output_type": "stream",
       "stream": "stdout",
       "text": [
        "[############-----------------------------]  29.7% ... Fitting Alpha vs. Time\r"
       ]
      },
      {
       "output_type": "stream",
       "stream": "stdout",
       "text": [
        "[############-----------------------------]  29.8% ... Fitting Alpha vs. Time\r"
       ]
      },
      {
       "output_type": "stream",
       "stream": "stdout",
       "text": [
        "[############-----------------------------]  29.9% ... Fitting Alpha vs. Time\r"
       ]
      },
      {
       "output_type": "stream",
       "stream": "stdout",
       "text": [
        "[############-----------------------------]  30.0% ... Fitting Alpha vs. Time\r"
       ]
      },
      {
       "output_type": "stream",
       "stream": "stdout",
       "text": [
        "[############-----------------------------]  30.1% ... Fitting Alpha vs. Time\r"
       ]
      },
      {
       "output_type": "stream",
       "stream": "stdout",
       "text": [
        "[############-----------------------------]  30.2% ... Fitting Alpha vs. Time\r"
       ]
      },
      {
       "output_type": "stream",
       "stream": "stdout",
       "text": [
        "[############-----------------------------]  30.3% ... Fitting Alpha vs. Time\r"
       ]
      },
      {
       "output_type": "stream",
       "stream": "stdout",
       "text": [
        "[############-----------------------------]  30.4% ... Fitting Alpha vs. Time\r"
       ]
      },
      {
       "output_type": "stream",
       "stream": "stdout",
       "text": [
        "[#############----------------------------]  30.5% ... Fitting Alpha vs. Time\r"
       ]
      },
      {
       "output_type": "stream",
       "stream": "stdout",
       "text": [
        "[#############----------------------------]  30.6% ... Fitting Alpha vs. Time\r"
       ]
      },
      {
       "output_type": "stream",
       "stream": "stdout",
       "text": [
        "[#############----------------------------]  30.7% ... Fitting Alpha vs. Time\r"
       ]
      },
      {
       "output_type": "stream",
       "stream": "stdout",
       "text": [
        "[#############----------------------------]  30.8% ... Fitting Alpha vs. Time\r"
       ]
      },
      {
       "output_type": "stream",
       "stream": "stdout",
       "text": [
        "[#############----------------------------]  30.9% ... Fitting Alpha vs. Time\r"
       ]
      },
      {
       "output_type": "stream",
       "stream": "stdout",
       "text": [
        "[#############----------------------------]  31.0% ... Fitting Alpha vs. Time\r"
       ]
      },
      {
       "output_type": "stream",
       "stream": "stdout",
       "text": [
        "[#############----------------------------]  31.1% ... Fitting Alpha vs. Time\r"
       ]
      },
      {
       "output_type": "stream",
       "stream": "stdout",
       "text": [
        "[#############----------------------------]  31.2% ... Fitting Alpha vs. Time\r"
       ]
      },
      {
       "output_type": "stream",
       "stream": "stdout",
       "text": [
        "[#############----------------------------]  31.3% ... Fitting Alpha vs. Time\r"
       ]
      },
      {
       "output_type": "stream",
       "stream": "stdout",
       "text": [
        "[#############----------------------------]  31.4% ... Fitting Alpha vs. Time\r"
       ]
      },
      {
       "output_type": "stream",
       "stream": "stdout",
       "text": [
        "[#############----------------------------]  31.5% ... Fitting Alpha vs. Time\r"
       ]
      },
      {
       "output_type": "stream",
       "stream": "stdout",
       "text": [
        "[#############----------------------------]  31.6% ... Fitting Alpha vs. Time\r"
       ]
      },
      {
       "output_type": "stream",
       "stream": "stdout",
       "text": [
        "[#############----------------------------]  31.7% ... Fitting Alpha vs. Time\r"
       ]
      },
      {
       "output_type": "stream",
       "stream": "stdout",
       "text": [
        "[#############----------------------------]  31.8% ... Fitting Alpha vs. Time\r"
       ]
      },
      {
       "output_type": "stream",
       "stream": "stdout",
       "text": [
        "[#############----------------------------]  31.9% ... Fitting Alpha vs. Time\r"
       ]
      },
      {
       "output_type": "stream",
       "stream": "stdout",
       "text": [
        "[#############----------------------------]  32.0% ... Fitting Alpha vs. Time\r"
       ]
      },
      {
       "output_type": "stream",
       "stream": "stdout",
       "text": [
        "[#############----------------------------]  32.1% ... Fitting Alpha vs. Time\r"
       ]
      },
      {
       "output_type": "stream",
       "stream": "stdout",
       "text": [
        "[#############----------------------------]  32.2% ... Fitting Alpha vs. Time\r"
       ]
      },
      {
       "output_type": "stream",
       "stream": "stdout",
       "text": [
        "[#############----------------------------]  32.3% ... Fitting Alpha vs. Time\r"
       ]
      },
      {
       "output_type": "stream",
       "stream": "stdout",
       "text": [
        "[#############----------------------------]  32.4% ... Fitting Alpha vs. Time\r"
       ]
      },
      {
       "output_type": "stream",
       "stream": "stdout",
       "text": [
        "[#############----------------------------]  32.5% ... Fitting Alpha vs. Time\r"
       ]
      },
      {
       "output_type": "stream",
       "stream": "stdout",
       "text": [
        "[#############----------------------------]  32.6% ... Fitting Alpha vs. Time\r"
       ]
      },
      {
       "output_type": "stream",
       "stream": "stdout",
       "text": [
        "[#############----------------------------]  32.7% ... Fitting Alpha vs. Time\r"
       ]
      },
      {
       "output_type": "stream",
       "stream": "stdout",
       "text": [
        "[#############----------------------------]  32.8% ... Fitting Alpha vs. Time\r"
       ]
      },
      {
       "output_type": "stream",
       "stream": "stdout",
       "text": [
        "[#############----------------------------]  32.9% ... Fitting Alpha vs. Time\r"
       ]
      },
      {
       "output_type": "stream",
       "stream": "stdout",
       "text": [
        "[##############---------------------------]  33.0% ... Fitting Alpha vs. Time\r"
       ]
      },
      {
       "output_type": "stream",
       "stream": "stdout",
       "text": [
        "[##############---------------------------]  33.1% ... Fitting Alpha vs. Time\r"
       ]
      },
      {
       "output_type": "stream",
       "stream": "stdout",
       "text": [
        "[##############---------------------------]  33.2% ... Fitting Alpha vs. Time\r"
       ]
      },
      {
       "output_type": "stream",
       "stream": "stdout",
       "text": [
        "[##############---------------------------]  33.3% ... Fitting Alpha vs. Time\r"
       ]
      },
      {
       "output_type": "stream",
       "stream": "stdout",
       "text": [
        "[##############---------------------------]  33.4% ... Fitting Alpha vs. Time\r"
       ]
      },
      {
       "output_type": "stream",
       "stream": "stdout",
       "text": [
        "[##############---------------------------]  33.5% ... Fitting Alpha vs. Time\r"
       ]
      },
      {
       "output_type": "stream",
       "stream": "stdout",
       "text": [
        "[##############---------------------------]  33.6% ... Fitting Alpha vs. Time\r"
       ]
      },
      {
       "output_type": "stream",
       "stream": "stdout",
       "text": [
        "[##############---------------------------]  33.7% ... Fitting Alpha vs. Time\r"
       ]
      },
      {
       "output_type": "stream",
       "stream": "stdout",
       "text": [
        "[##############---------------------------]  33.8% ... Fitting Alpha vs. Time\r"
       ]
      },
      {
       "output_type": "stream",
       "stream": "stdout",
       "text": [
        "[##############---------------------------]  33.9% ... Fitting Alpha vs. Time\r"
       ]
      },
      {
       "output_type": "stream",
       "stream": "stdout",
       "text": [
        "[##############---------------------------]  34.0% ... Fitting Alpha vs. Time\r"
       ]
      },
      {
       "output_type": "stream",
       "stream": "stdout",
       "text": [
        "[##############---------------------------]  34.1% ... Fitting Alpha vs. Time\r"
       ]
      },
      {
       "output_type": "stream",
       "stream": "stdout",
       "text": [
        "[##############---------------------------]  34.2% ... Fitting Alpha vs. Time\r"
       ]
      },
      {
       "output_type": "stream",
       "stream": "stdout",
       "text": [
        "[##############---------------------------]  34.3% ... Fitting Alpha vs. Time\r"
       ]
      },
      {
       "output_type": "stream",
       "stream": "stdout",
       "text": [
        "[##############---------------------------]  34.4% ... Fitting Alpha vs. Time\r"
       ]
      },
      {
       "output_type": "stream",
       "stream": "stdout",
       "text": [
        "[##############---------------------------]  34.5% ... Fitting Alpha vs. Time\r"
       ]
      },
      {
       "output_type": "stream",
       "stream": "stdout",
       "text": [
        "[##############---------------------------]  34.6% ... Fitting Alpha vs. Time\r"
       ]
      },
      {
       "output_type": "stream",
       "stream": "stdout",
       "text": [
        "[##############---------------------------]  34.7% ... Fitting Alpha vs. Time\r"
       ]
      },
      {
       "output_type": "stream",
       "stream": "stdout",
       "text": [
        "[##############---------------------------]  34.8% ... Fitting Alpha vs. Time\r"
       ]
      },
      {
       "output_type": "stream",
       "stream": "stdout",
       "text": [
        "[##############---------------------------]  34.9% ... Fitting Alpha vs. Time\r"
       ]
      },
      {
       "output_type": "stream",
       "stream": "stdout",
       "text": [
        "[##############---------------------------]  35.0% ... Fitting Alpha vs. Time\r"
       ]
      },
      {
       "output_type": "stream",
       "stream": "stdout",
       "text": [
        "[##############---------------------------]  35.1% ... Fitting Alpha vs. Time\r"
       ]
      },
      {
       "output_type": "stream",
       "stream": "stdout",
       "text": [
        "[##############---------------------------]  35.2% ... Fitting Alpha vs. Time\r"
       ]
      },
      {
       "output_type": "stream",
       "stream": "stdout",
       "text": [
        "[##############---------------------------]  35.3% ... Fitting Alpha vs. Time\r"
       ]
      },
      {
       "output_type": "stream",
       "stream": "stdout",
       "text": [
        "[###############--------------------------]  35.4% ... Fitting Alpha vs. Time\r"
       ]
      },
      {
       "output_type": "stream",
       "stream": "stdout",
       "text": [
        "[###############--------------------------]  35.5% ... Fitting Alpha vs. Time\r"
       ]
      },
      {
       "output_type": "stream",
       "stream": "stdout",
       "text": [
        "[###############--------------------------]  35.6% ... Fitting Alpha vs. Time\r"
       ]
      },
      {
       "output_type": "stream",
       "stream": "stdout",
       "text": [
        "[###############--------------------------]  35.7% ... Fitting Alpha vs. Time\r"
       ]
      },
      {
       "output_type": "stream",
       "stream": "stdout",
       "text": [
        "[###############--------------------------]  35.8% ... Fitting Alpha vs. Time\r"
       ]
      },
      {
       "output_type": "stream",
       "stream": "stdout",
       "text": [
        "[###############--------------------------]  35.9% ... Fitting Alpha vs. Time\r"
       ]
      },
      {
       "output_type": "stream",
       "stream": "stdout",
       "text": [
        "[###############--------------------------]  36.0% ... Fitting Alpha vs. Time\r"
       ]
      },
      {
       "output_type": "stream",
       "stream": "stdout",
       "text": [
        "[###############--------------------------]  36.1% ... Fitting Alpha vs. Time\r"
       ]
      },
      {
       "output_type": "stream",
       "stream": "stdout",
       "text": [
        "[###############--------------------------]  36.2% ... Fitting Alpha vs. Time\r"
       ]
      },
      {
       "output_type": "stream",
       "stream": "stdout",
       "text": [
        "[###############--------------------------]  36.3% ... Fitting Alpha vs. Time\r"
       ]
      },
      {
       "output_type": "stream",
       "stream": "stdout",
       "text": [
        "[###############--------------------------]  36.4% ... Fitting Alpha vs. Time\r"
       ]
      },
      {
       "output_type": "stream",
       "stream": "stdout",
       "text": [
        "[###############--------------------------]  36.5% ... Fitting Alpha vs. Time\r"
       ]
      },
      {
       "output_type": "stream",
       "stream": "stdout",
       "text": [
        "[###############--------------------------]  36.6% ... Fitting Alpha vs. Time\r"
       ]
      },
      {
       "output_type": "stream",
       "stream": "stdout",
       "text": [
        "[###############--------------------------]  36.7% ... Fitting Alpha vs. Time\r"
       ]
      },
      {
       "output_type": "stream",
       "stream": "stdout",
       "text": [
        "[###############--------------------------]  36.8% ... Fitting Alpha vs. Time\r"
       ]
      },
      {
       "output_type": "stream",
       "stream": "stdout",
       "text": [
        "[###############--------------------------]  36.9% ... Fitting Alpha vs. Time\r"
       ]
      },
      {
       "output_type": "stream",
       "stream": "stdout",
       "text": [
        "[###############--------------------------]  37.0% ... Fitting Alpha vs. Time\r"
       ]
      },
      {
       "output_type": "stream",
       "stream": "stdout",
       "text": [
        "[###############--------------------------]  37.1% ... Fitting Alpha vs. Time\r"
       ]
      },
      {
       "output_type": "stream",
       "stream": "stdout",
       "text": [
        "[###############--------------------------]  37.2% ... Fitting Alpha vs. Time\r"
       ]
      },
      {
       "output_type": "stream",
       "stream": "stdout",
       "text": [
        "[###############--------------------------]  37.3% ... Fitting Alpha vs. Time\r"
       ]
      },
      {
       "output_type": "stream",
       "stream": "stdout",
       "text": [
        "[###############--------------------------]  37.4% ... Fitting Alpha vs. Time\r"
       ]
      },
      {
       "output_type": "stream",
       "stream": "stdout",
       "text": [
        "[###############--------------------------]  37.5% ... Fitting Alpha vs. Time\r"
       ]
      },
      {
       "output_type": "stream",
       "stream": "stdout",
       "text": [
        "[###############--------------------------]  37.6% ... Fitting Alpha vs. Time\r"
       ]
      },
      {
       "output_type": "stream",
       "stream": "stdout",
       "text": [
        "[###############--------------------------]  37.7% ... Fitting Alpha vs. Time\r"
       ]
      },
      {
       "output_type": "stream",
       "stream": "stdout",
       "text": [
        "[###############--------------------------]  37.8% ... Fitting Alpha vs. Time\r"
       ]
      },
      {
       "output_type": "stream",
       "stream": "stdout",
       "text": [
        "[################-------------------------]  37.9% ... Fitting Alpha vs. Time\r"
       ]
      },
      {
       "output_type": "stream",
       "stream": "stdout",
       "text": [
        "[################-------------------------]  38.0% ... Fitting Alpha vs. Time\r"
       ]
      },
      {
       "output_type": "stream",
       "stream": "stdout",
       "text": [
        "[################-------------------------]  38.1% ... Fitting Alpha vs. Time\r"
       ]
      },
      {
       "output_type": "stream",
       "stream": "stdout",
       "text": [
        "[################-------------------------]  38.2% ... Fitting Alpha vs. Time\r"
       ]
      },
      {
       "output_type": "stream",
       "stream": "stdout",
       "text": [
        "[################-------------------------]  38.3% ... Fitting Alpha vs. Time\r"
       ]
      },
      {
       "output_type": "stream",
       "stream": "stdout",
       "text": [
        "[################-------------------------]  38.4% ... Fitting Alpha vs. Time\r"
       ]
      },
      {
       "output_type": "stream",
       "stream": "stdout",
       "text": [
        "[################-------------------------]  38.5% ... Fitting Alpha vs. Time\r"
       ]
      },
      {
       "output_type": "stream",
       "stream": "stdout",
       "text": [
        "[################-------------------------]  38.6% ... Fitting Alpha vs. Time\r"
       ]
      },
      {
       "output_type": "stream",
       "stream": "stdout",
       "text": [
        "[################-------------------------]  38.7% ... Fitting Alpha vs. Time\r"
       ]
      },
      {
       "output_type": "stream",
       "stream": "stdout",
       "text": [
        "[################-------------------------]  38.8% ... Fitting Alpha vs. Time\r"
       ]
      },
      {
       "output_type": "stream",
       "stream": "stdout",
       "text": [
        "[################-------------------------]  38.9% ... Fitting Alpha vs. Time\r"
       ]
      },
      {
       "output_type": "stream",
       "stream": "stdout",
       "text": [
        "[################-------------------------]  39.0% ... Fitting Alpha vs. Time\r"
       ]
      },
      {
       "output_type": "stream",
       "stream": "stdout",
       "text": [
        "[################-------------------------]  39.1% ... Fitting Alpha vs. Time\r"
       ]
      },
      {
       "output_type": "stream",
       "stream": "stdout",
       "text": [
        "[################-------------------------]  39.2% ... Fitting Alpha vs. Time\r"
       ]
      },
      {
       "output_type": "stream",
       "stream": "stdout",
       "text": [
        "[################-------------------------]  39.3% ... Fitting Alpha vs. Time\r"
       ]
      },
      {
       "output_type": "stream",
       "stream": "stdout",
       "text": [
        "[################-------------------------]  39.4% ... Fitting Alpha vs. Time\r"
       ]
      },
      {
       "output_type": "stream",
       "stream": "stdout",
       "text": [
        "[################-------------------------]  39.5% ... Fitting Alpha vs. Time\r"
       ]
      },
      {
       "output_type": "stream",
       "stream": "stdout",
       "text": [
        "[################-------------------------]  39.6% ... Fitting Alpha vs. Time\r"
       ]
      },
      {
       "output_type": "stream",
       "stream": "stdout",
       "text": [
        "[################-------------------------]  39.7% ... Fitting Alpha vs. Time\r"
       ]
      },
      {
       "output_type": "stream",
       "stream": "stdout",
       "text": [
        "[################-------------------------]  39.8% ... Fitting Alpha vs. Time\r"
       ]
      },
      {
       "output_type": "stream",
       "stream": "stdout",
       "text": [
        "[################-------------------------]  39.9% ... Fitting Alpha vs. Time\r"
       ]
      },
      {
       "output_type": "stream",
       "stream": "stdout",
       "text": [
        "[################-------------------------]  40.0% ... Fitting Alpha vs. Time\r"
       ]
      },
      {
       "output_type": "stream",
       "stream": "stdout",
       "text": [
        "[################-------------------------]  40.1% ... Fitting Alpha vs. Time\r"
       ]
      },
      {
       "output_type": "stream",
       "stream": "stdout",
       "text": [
        "[################-------------------------]  40.2% ... Fitting Alpha vs. Time\r"
       ]
      },
      {
       "output_type": "stream",
       "stream": "stdout",
       "text": [
        "[#################------------------------]  40.3% ... Fitting Alpha vs. Time\r"
       ]
      },
      {
       "output_type": "stream",
       "stream": "stdout",
       "text": [
        "[#################------------------------]  40.4% ... Fitting Alpha vs. Time\r"
       ]
      },
      {
       "output_type": "stream",
       "stream": "stdout",
       "text": [
        "[#################------------------------]  40.5% ... Fitting Alpha vs. Time\r"
       ]
      },
      {
       "output_type": "stream",
       "stream": "stdout",
       "text": [
        "[#################------------------------]  40.6% ... Fitting Alpha vs. Time\r"
       ]
      },
      {
       "output_type": "stream",
       "stream": "stdout",
       "text": [
        "[#################------------------------]  40.7% ... Fitting Alpha vs. Time\r"
       ]
      },
      {
       "output_type": "stream",
       "stream": "stdout",
       "text": [
        "[#################------------------------]  40.8% ... Fitting Alpha vs. Time\r"
       ]
      },
      {
       "output_type": "stream",
       "stream": "stdout",
       "text": [
        "[#################------------------------]  40.9% ... Fitting Alpha vs. Time\r"
       ]
      },
      {
       "output_type": "stream",
       "stream": "stdout",
       "text": [
        "[#################------------------------]  41.0% ... Fitting Alpha vs. Time\r"
       ]
      },
      {
       "output_type": "stream",
       "stream": "stdout",
       "text": [
        "[#################------------------------]  41.1% ... Fitting Alpha vs. Time\r"
       ]
      },
      {
       "output_type": "stream",
       "stream": "stdout",
       "text": [
        "[#################------------------------]  41.2% ... Fitting Alpha vs. Time\r"
       ]
      },
      {
       "output_type": "stream",
       "stream": "stdout",
       "text": [
        "[#################------------------------]  41.3% ... Fitting Alpha vs. Time\r"
       ]
      },
      {
       "output_type": "stream",
       "stream": "stdout",
       "text": [
        "[#################------------------------]  41.4% ... Fitting Alpha vs. Time\r"
       ]
      },
      {
       "output_type": "stream",
       "stream": "stdout",
       "text": [
        "[#################------------------------]  41.5% ... Fitting Alpha vs. Time\r"
       ]
      },
      {
       "output_type": "stream",
       "stream": "stdout",
       "text": [
        "[#################------------------------]  41.6% ... Fitting Alpha vs. Time\r"
       ]
      },
      {
       "output_type": "stream",
       "stream": "stdout",
       "text": [
        "[#################------------------------]  41.7% ... Fitting Alpha vs. Time\r"
       ]
      },
      {
       "output_type": "stream",
       "stream": "stdout",
       "text": [
        "[#################------------------------]  41.8% ... Fitting Alpha vs. Time\r"
       ]
      },
      {
       "output_type": "stream",
       "stream": "stdout",
       "text": [
        "[#################------------------------]  41.9% ... Fitting Alpha vs. Time\r"
       ]
      },
      {
       "output_type": "stream",
       "stream": "stdout",
       "text": [
        "[#################------------------------]  42.0% ... Fitting Alpha vs. Time\r"
       ]
      },
      {
       "output_type": "stream",
       "stream": "stdout",
       "text": [
        "[#################------------------------]  42.1% ... Fitting Alpha vs. Time\r"
       ]
      },
      {
       "output_type": "stream",
       "stream": "stdout",
       "text": [
        "[#################------------------------]  42.2% ... Fitting Alpha vs. Time\r"
       ]
      },
      {
       "output_type": "stream",
       "stream": "stdout",
       "text": [
        "[#################------------------------]  42.3% ... Fitting Alpha vs. Time\r"
       ]
      },
      {
       "output_type": "stream",
       "stream": "stdout",
       "text": [
        "[#################------------------------]  42.4% ... Fitting Alpha vs. Time\r"
       ]
      },
      {
       "output_type": "stream",
       "stream": "stdout",
       "text": [
        "[#################------------------------]  42.5% ... Fitting Alpha vs. Time\r"
       ]
      },
      {
       "output_type": "stream",
       "stream": "stdout",
       "text": [
        "[#################------------------------]  42.6% ... Fitting Alpha vs. Time\r"
       ]
      },
      {
       "output_type": "stream",
       "stream": "stdout",
       "text": [
        "[##################-----------------------]  42.7% ... Fitting Alpha vs. Time\r"
       ]
      },
      {
       "output_type": "stream",
       "stream": "stdout",
       "text": [
        "[##################-----------------------]  42.8% ... Fitting Alpha vs. Time\r"
       ]
      },
      {
       "output_type": "stream",
       "stream": "stdout",
       "text": [
        "[##################-----------------------]  42.9% ... Fitting Alpha vs. Time\r"
       ]
      },
      {
       "output_type": "stream",
       "stream": "stdout",
       "text": [
        "[##################-----------------------]  43.0% ... Fitting Alpha vs. Time\r"
       ]
      },
      {
       "output_type": "stream",
       "stream": "stdout",
       "text": [
        "[##################-----------------------]  43.1% ... Fitting Alpha vs. Time\r"
       ]
      },
      {
       "output_type": "stream",
       "stream": "stdout",
       "text": [
        "[##################-----------------------]  43.2% ... Fitting Alpha vs. Time\r"
       ]
      },
      {
       "output_type": "stream",
       "stream": "stdout",
       "text": [
        "[##################-----------------------]  43.3% ... Fitting Alpha vs. Time\r"
       ]
      },
      {
       "output_type": "stream",
       "stream": "stdout",
       "text": [
        "[##################-----------------------]  43.4% ... Fitting Alpha vs. Time\r"
       ]
      },
      {
       "output_type": "stream",
       "stream": "stdout",
       "text": [
        "[##################-----------------------]  43.5% ... Fitting Alpha vs. Time\r"
       ]
      },
      {
       "output_type": "stream",
       "stream": "stdout",
       "text": [
        "[##################-----------------------]  43.6% ... Fitting Alpha vs. Time\r"
       ]
      },
      {
       "output_type": "stream",
       "stream": "stdout",
       "text": [
        "[##################-----------------------]  43.7% ... Fitting Alpha vs. Time\r"
       ]
      },
      {
       "output_type": "stream",
       "stream": "stdout",
       "text": [
        "[##################-----------------------]  43.8% ... Fitting Alpha vs. Time\r"
       ]
      },
      {
       "output_type": "stream",
       "stream": "stdout",
       "text": [
        "[##################-----------------------]  43.9% ... Fitting Alpha vs. Time\r"
       ]
      },
      {
       "output_type": "stream",
       "stream": "stdout",
       "text": [
        "[##################-----------------------]  44.0% ... Fitting Alpha vs. Time\r"
       ]
      },
      {
       "output_type": "stream",
       "stream": "stdout",
       "text": [
        "[##################-----------------------]  44.1% ... Fitting Alpha vs. Time\r"
       ]
      },
      {
       "output_type": "stream",
       "stream": "stdout",
       "text": [
        "[##################-----------------------]  44.2% ... Fitting Alpha vs. Time\r"
       ]
      },
      {
       "output_type": "stream",
       "stream": "stdout",
       "text": [
        "[##################-----------------------]  44.3% ... Fitting Alpha vs. Time\r"
       ]
      },
      {
       "output_type": "stream",
       "stream": "stdout",
       "text": [
        "[##################-----------------------]  44.4% ... Fitting Alpha vs. Time\r"
       ]
      },
      {
       "output_type": "stream",
       "stream": "stdout",
       "text": [
        "[##################-----------------------]  44.5% ... Fitting Alpha vs. Time\r"
       ]
      },
      {
       "output_type": "stream",
       "stream": "stdout",
       "text": [
        "[##################-----------------------]  44.6% ... Fitting Alpha vs. Time\r"
       ]
      },
      {
       "output_type": "stream",
       "stream": "stdout",
       "text": [
        "[##################-----------------------]  44.7% ... Fitting Alpha vs. Time\r"
       ]
      },
      {
       "output_type": "stream",
       "stream": "stdout",
       "text": [
        "[##################-----------------------]  44.8% ... Fitting Alpha vs. Time\r"
       ]
      },
      {
       "output_type": "stream",
       "stream": "stdout",
       "text": [
        "[##################-----------------------]  44.9% ... Fitting Alpha vs. Time\r"
       ]
      },
      {
       "output_type": "stream",
       "stream": "stdout",
       "text": [
        "[##################-----------------------]  45.0% ... Fitting Alpha vs. Time\r"
       ]
      },
      {
       "output_type": "stream",
       "stream": "stdout",
       "text": [
        "[##################-----------------------]  45.1% ... Fitting Alpha vs. Time\r"
       ]
      },
      {
       "output_type": "stream",
       "stream": "stdout",
       "text": [
        "[###################----------------------]  45.2% ... Fitting Alpha vs. Time\r"
       ]
      },
      {
       "output_type": "stream",
       "stream": "stdout",
       "text": [
        "[###################----------------------]  45.3% ... Fitting Alpha vs. Time\r"
       ]
      },
      {
       "output_type": "stream",
       "stream": "stdout",
       "text": [
        "[###################----------------------]  45.4% ... Fitting Alpha vs. Time\r"
       ]
      },
      {
       "output_type": "stream",
       "stream": "stdout",
       "text": [
        "[###################----------------------]  45.5% ... Fitting Alpha vs. Time\r"
       ]
      },
      {
       "output_type": "stream",
       "stream": "stdout",
       "text": [
        "[###################----------------------]  45.6% ... Fitting Alpha vs. Time\r"
       ]
      },
      {
       "output_type": "stream",
       "stream": "stdout",
       "text": [
        "[###################----------------------]  45.7% ... Fitting Alpha vs. Time\r"
       ]
      },
      {
       "output_type": "stream",
       "stream": "stdout",
       "text": [
        "[###################----------------------]  45.8% ... Fitting Alpha vs. Time\r"
       ]
      },
      {
       "output_type": "stream",
       "stream": "stdout",
       "text": [
        "[###################----------------------]  45.9% ... Fitting Alpha vs. Time\r"
       ]
      },
      {
       "output_type": "stream",
       "stream": "stdout",
       "text": [
        "[###################----------------------]  46.0% ... Fitting Alpha vs. Time\r"
       ]
      },
      {
       "output_type": "stream",
       "stream": "stdout",
       "text": [
        "[###################----------------------]  46.1% ... Fitting Alpha vs. Time\r"
       ]
      },
      {
       "output_type": "stream",
       "stream": "stdout",
       "text": [
        "[###################----------------------]  46.2% ... Fitting Alpha vs. Time\r"
       ]
      },
      {
       "output_type": "stream",
       "stream": "stdout",
       "text": [
        "[###################----------------------]  46.3% ... Fitting Alpha vs. Time\r"
       ]
      },
      {
       "output_type": "stream",
       "stream": "stdout",
       "text": [
        "[###################----------------------]  46.4% ... Fitting Alpha vs. Time\r"
       ]
      },
      {
       "output_type": "stream",
       "stream": "stdout",
       "text": [
        "[###################----------------------]  46.5% ... Fitting Alpha vs. Time\r"
       ]
      },
      {
       "output_type": "stream",
       "stream": "stdout",
       "text": [
        "[###################----------------------]  46.6% ... Fitting Alpha vs. Time\r"
       ]
      },
      {
       "output_type": "stream",
       "stream": "stdout",
       "text": [
        "[###################----------------------]  46.7% ... Fitting Alpha vs. Time\r"
       ]
      },
      {
       "output_type": "stream",
       "stream": "stdout",
       "text": [
        "[###################----------------------]  46.8% ... Fitting Alpha vs. Time\r"
       ]
      },
      {
       "output_type": "stream",
       "stream": "stdout",
       "text": [
        "[###################----------------------]  46.9% ... Fitting Alpha vs. Time\r"
       ]
      },
      {
       "output_type": "stream",
       "stream": "stdout",
       "text": [
        "[###################----------------------]  47.0% ... Fitting Alpha vs. Time\r"
       ]
      },
      {
       "output_type": "stream",
       "stream": "stdout",
       "text": [
        "[###################----------------------]  47.1% ... Fitting Alpha vs. Time\r"
       ]
      },
      {
       "output_type": "stream",
       "stream": "stdout",
       "text": [
        "[###################----------------------]  47.2% ... Fitting Alpha vs. Time\r"
       ]
      },
      {
       "output_type": "stream",
       "stream": "stdout",
       "text": [
        "[###################----------------------]  47.3% ... Fitting Alpha vs. Time\r"
       ]
      },
      {
       "output_type": "stream",
       "stream": "stdout",
       "text": [
        "[###################----------------------]  47.4% ... Fitting Alpha vs. Time\r"
       ]
      },
      {
       "output_type": "stream",
       "stream": "stdout",
       "text": [
        "[###################----------------------]  47.5% ... Fitting Alpha vs. Time\r"
       ]
      },
      {
       "output_type": "stream",
       "stream": "stdout",
       "text": [
        "[####################---------------------]  47.6% ... Fitting Alpha vs. Time\r"
       ]
      },
      {
       "output_type": "stream",
       "stream": "stdout",
       "text": [
        "[####################---------------------]  47.7% ... Fitting Alpha vs. Time\r"
       ]
      },
      {
       "output_type": "stream",
       "stream": "stdout",
       "text": [
        "[####################---------------------]  47.8% ... Fitting Alpha vs. Time\r"
       ]
      },
      {
       "output_type": "stream",
       "stream": "stdout",
       "text": [
        "[####################---------------------]  47.9% ... Fitting Alpha vs. Time\r"
       ]
      },
      {
       "output_type": "stream",
       "stream": "stdout",
       "text": [
        "[####################---------------------]  48.0% ... Fitting Alpha vs. Time\r"
       ]
      },
      {
       "output_type": "stream",
       "stream": "stdout",
       "text": [
        "[####################---------------------]  48.1% ... Fitting Alpha vs. Time\r"
       ]
      },
      {
       "output_type": "stream",
       "stream": "stdout",
       "text": [
        "[####################---------------------]  48.2% ... Fitting Alpha vs. Time\r"
       ]
      },
      {
       "output_type": "stream",
       "stream": "stdout",
       "text": [
        "[####################---------------------]  48.3% ... Fitting Alpha vs. Time\r"
       ]
      },
      {
       "output_type": "stream",
       "stream": "stdout",
       "text": [
        "[####################---------------------]  48.4% ... Fitting Alpha vs. Time\r"
       ]
      },
      {
       "output_type": "stream",
       "stream": "stdout",
       "text": [
        "[####################---------------------]  48.5% ... Fitting Alpha vs. Time\r"
       ]
      },
      {
       "output_type": "stream",
       "stream": "stdout",
       "text": [
        "[####################---------------------]  48.6% ... Fitting Alpha vs. Time\r"
       ]
      },
      {
       "output_type": "stream",
       "stream": "stdout",
       "text": [
        "[####################---------------------]  48.7% ... Fitting Alpha vs. Time\r"
       ]
      },
      {
       "output_type": "stream",
       "stream": "stdout",
       "text": [
        "[####################---------------------]  48.8% ... Fitting Alpha vs. Time\r"
       ]
      },
      {
       "output_type": "stream",
       "stream": "stdout",
       "text": [
        "[####################---------------------]  48.9% ... Fitting Alpha vs. Time\r"
       ]
      },
      {
       "output_type": "stream",
       "stream": "stdout",
       "text": [
        "[####################---------------------]  49.0% ... Fitting Alpha vs. Time\r"
       ]
      },
      {
       "output_type": "stream",
       "stream": "stdout",
       "text": [
        "[####################---------------------]  49.1% ... Fitting Alpha vs. Time\r"
       ]
      },
      {
       "output_type": "stream",
       "stream": "stdout",
       "text": [
        "[####################---------------------]  49.2% ... Fitting Alpha vs. Time\r"
       ]
      },
      {
       "output_type": "stream",
       "stream": "stdout",
       "text": [
        "[####################---------------------]  49.3% ... Fitting Alpha vs. Time\r"
       ]
      },
      {
       "output_type": "stream",
       "stream": "stdout",
       "text": [
        "[####################---------------------]  49.4% ... Fitting Alpha vs. Time\r"
       ]
      },
      {
       "output_type": "stream",
       "stream": "stdout",
       "text": [
        "[####################---------------------]  49.5% ... Fitting Alpha vs. Time\r"
       ]
      },
      {
       "output_type": "stream",
       "stream": "stdout",
       "text": [
        "[####################---------------------]  49.6% ... Fitting Alpha vs. Time\r"
       ]
      },
      {
       "output_type": "stream",
       "stream": "stdout",
       "text": [
        "[####################---------------------]  49.7% ... Fitting Alpha vs. Time\r"
       ]
      },
      {
       "output_type": "stream",
       "stream": "stdout",
       "text": [
        "[####################---------------------]  49.8% ... Fitting Alpha vs. Time\r"
       ]
      },
      {
       "output_type": "stream",
       "stream": "stdout",
       "text": [
        "[####################---------------------]  49.9% ... Fitting Alpha vs. Time\r"
       ]
      },
      {
       "output_type": "stream",
       "stream": "stdout",
       "text": [
        "[#####################--------------------]  50.0% ... Fitting Alpha vs. Time\r"
       ]
      },
      {
       "output_type": "stream",
       "stream": "stdout",
       "text": [
        "[#####################--------------------]  50.1% ... Fitting Alpha vs. Time\r"
       ]
      },
      {
       "output_type": "stream",
       "stream": "stdout",
       "text": [
        "[#####################--------------------]  50.2% ... Fitting Alpha vs. Time\r"
       ]
      },
      {
       "output_type": "stream",
       "stream": "stdout",
       "text": [
        "[#####################--------------------]  50.3% ... Fitting Alpha vs. Time\r"
       ]
      },
      {
       "output_type": "stream",
       "stream": "stdout",
       "text": [
        "[#####################--------------------]  50.4% ... Fitting Alpha vs. Time\r"
       ]
      },
      {
       "output_type": "stream",
       "stream": "stdout",
       "text": [
        "[#####################--------------------]  50.5% ... Fitting Alpha vs. Time\r"
       ]
      },
      {
       "output_type": "stream",
       "stream": "stdout",
       "text": [
        "[#####################--------------------]  50.6% ... Fitting Alpha vs. Time\r"
       ]
      },
      {
       "output_type": "stream",
       "stream": "stdout",
       "text": [
        "[#####################--------------------]  50.7% ... Fitting Alpha vs. Time\r"
       ]
      },
      {
       "output_type": "stream",
       "stream": "stdout",
       "text": [
        "[#####################--------------------]  50.8% ... Fitting Alpha vs. Time\r"
       ]
      },
      {
       "output_type": "stream",
       "stream": "stdout",
       "text": [
        "[#####################--------------------]  50.9% ... Fitting Alpha vs. Time\r"
       ]
      },
      {
       "output_type": "stream",
       "stream": "stdout",
       "text": [
        "[#####################--------------------]  51.0% ... Fitting Alpha vs. Time\r"
       ]
      },
      {
       "output_type": "stream",
       "stream": "stdout",
       "text": [
        "[#####################--------------------]  51.1% ... Fitting Alpha vs. Time\r"
       ]
      },
      {
       "output_type": "stream",
       "stream": "stdout",
       "text": [
        "[#####################--------------------]  51.2% ... Fitting Alpha vs. Time\r"
       ]
      },
      {
       "output_type": "stream",
       "stream": "stdout",
       "text": [
        "[#####################--------------------]  51.3% ... Fitting Alpha vs. Time\r"
       ]
      },
      {
       "output_type": "stream",
       "stream": "stdout",
       "text": [
        "[#####################--------------------]  51.4% ... Fitting Alpha vs. Time\r"
       ]
      },
      {
       "output_type": "stream",
       "stream": "stdout",
       "text": [
        "[#####################--------------------]  51.5% ... Fitting Alpha vs. Time\r"
       ]
      },
      {
       "output_type": "stream",
       "stream": "stdout",
       "text": [
        "[#####################--------------------]  51.6% ... Fitting Alpha vs. Time\r"
       ]
      },
      {
       "output_type": "stream",
       "stream": "stdout",
       "text": [
        "[#####################--------------------]  51.7% ... Fitting Alpha vs. Time\r"
       ]
      },
      {
       "output_type": "stream",
       "stream": "stdout",
       "text": [
        "[#####################--------------------]  51.8% ... Fitting Alpha vs. Time\r"
       ]
      },
      {
       "output_type": "stream",
       "stream": "stdout",
       "text": [
        "[#####################--------------------]  51.9% ... Fitting Alpha vs. Time\r"
       ]
      },
      {
       "output_type": "stream",
       "stream": "stdout",
       "text": [
        "[#####################--------------------]  52.0% ... Fitting Alpha vs. Time\r"
       ]
      },
      {
       "output_type": "stream",
       "stream": "stdout",
       "text": [
        "[#####################--------------------]  52.1% ... Fitting Alpha vs. Time\r"
       ]
      },
      {
       "output_type": "stream",
       "stream": "stdout",
       "text": [
        "[#####################--------------------]  52.2% ... Fitting Alpha vs. Time\r"
       ]
      },
      {
       "output_type": "stream",
       "stream": "stdout",
       "text": [
        "[#####################--------------------]  52.3% ... Fitting Alpha vs. Time\r"
       ]
      },
      {
       "output_type": "stream",
       "stream": "stdout",
       "text": [
        "[#####################--------------------]  52.4% ... Fitting Alpha vs. Time\r"
       ]
      },
      {
       "output_type": "stream",
       "stream": "stdout",
       "text": [
        "[######################-------------------]  52.5% ... Fitting Alpha vs. Time\r"
       ]
      },
      {
       "output_type": "stream",
       "stream": "stdout",
       "text": [
        "[######################-------------------]  52.6% ... Fitting Alpha vs. Time\r"
       ]
      },
      {
       "output_type": "stream",
       "stream": "stdout",
       "text": [
        "[######################-------------------]  52.7% ... Fitting Alpha vs. Time\r"
       ]
      },
      {
       "output_type": "stream",
       "stream": "stdout",
       "text": [
        "[######################-------------------]  52.8% ... Fitting Alpha vs. Time\r"
       ]
      },
      {
       "output_type": "stream",
       "stream": "stdout",
       "text": [
        "[######################-------------------]  52.9% ... Fitting Alpha vs. Time\r"
       ]
      },
      {
       "output_type": "stream",
       "stream": "stdout",
       "text": [
        "[######################-------------------]  53.0% ... Fitting Alpha vs. Time\r"
       ]
      },
      {
       "output_type": "stream",
       "stream": "stdout",
       "text": [
        "[######################-------------------]  53.1% ... Fitting Alpha vs. Time\r"
       ]
      },
      {
       "output_type": "stream",
       "stream": "stdout",
       "text": [
        "[######################-------------------]  53.2% ... Fitting Alpha vs. Time\r"
       ]
      },
      {
       "output_type": "stream",
       "stream": "stdout",
       "text": [
        "[######################-------------------]  53.3% ... Fitting Alpha vs. Time\r"
       ]
      },
      {
       "output_type": "stream",
       "stream": "stdout",
       "text": [
        "[######################-------------------]  53.4% ... Fitting Alpha vs. Time\r"
       ]
      },
      {
       "output_type": "stream",
       "stream": "stdout",
       "text": [
        "[######################-------------------]  53.5% ... Fitting Alpha vs. Time\r"
       ]
      },
      {
       "output_type": "stream",
       "stream": "stdout",
       "text": [
        "[######################-------------------]  53.6% ... Fitting Alpha vs. Time\r"
       ]
      },
      {
       "output_type": "stream",
       "stream": "stdout",
       "text": [
        "[######################-------------------]  53.7% ... Fitting Alpha vs. Time\r"
       ]
      },
      {
       "output_type": "stream",
       "stream": "stdout",
       "text": [
        "[######################-------------------]  53.8% ... Fitting Alpha vs. Time\r"
       ]
      },
      {
       "output_type": "stream",
       "stream": "stdout",
       "text": [
        "[######################-------------------]  53.9% ... Fitting Alpha vs. Time\r"
       ]
      },
      {
       "output_type": "stream",
       "stream": "stdout",
       "text": [
        "[######################-------------------]  54.0% ... Fitting Alpha vs. Time\r"
       ]
      },
      {
       "output_type": "stream",
       "stream": "stdout",
       "text": [
        "[######################-------------------]  54.1% ... Fitting Alpha vs. Time\r"
       ]
      },
      {
       "output_type": "stream",
       "stream": "stdout",
       "text": [
        "[######################-------------------]  54.2% ... Fitting Alpha vs. Time\r"
       ]
      },
      {
       "output_type": "stream",
       "stream": "stdout",
       "text": [
        "[######################-------------------]  54.3% ... Fitting Alpha vs. Time\r"
       ]
      },
      {
       "output_type": "stream",
       "stream": "stdout",
       "text": [
        "[######################-------------------]  54.4% ... Fitting Alpha vs. Time\r"
       ]
      },
      {
       "output_type": "stream",
       "stream": "stdout",
       "text": [
        "[######################-------------------]  54.5% ... Fitting Alpha vs. Time\r"
       ]
      },
      {
       "output_type": "stream",
       "stream": "stdout",
       "text": [
        "[######################-------------------]  54.6% ... Fitting Alpha vs. Time\r"
       ]
      },
      {
       "output_type": "stream",
       "stream": "stdout",
       "text": [
        "[######################-------------------]  54.7% ... Fitting Alpha vs. Time\r"
       ]
      },
      {
       "output_type": "stream",
       "stream": "stdout",
       "text": [
        "[######################-------------------]  54.8% ... Fitting Alpha vs. Time\r"
       ]
      },
      {
       "output_type": "stream",
       "stream": "stdout",
       "text": [
        "[#######################------------------]  54.9% ... Fitting Alpha vs. Time\r"
       ]
      },
      {
       "output_type": "stream",
       "stream": "stdout",
       "text": [
        "[#######################------------------]  55.0% ... Fitting Alpha vs. Time\r"
       ]
      },
      {
       "output_type": "stream",
       "stream": "stdout",
       "text": [
        "[#######################------------------]  55.1% ... Fitting Alpha vs. Time\r"
       ]
      },
      {
       "output_type": "stream",
       "stream": "stdout",
       "text": [
        "[#######################------------------]  55.2% ... Fitting Alpha vs. Time\r"
       ]
      },
      {
       "output_type": "stream",
       "stream": "stdout",
       "text": [
        "[#######################------------------]  55.3% ... Fitting Alpha vs. Time\r"
       ]
      },
      {
       "output_type": "stream",
       "stream": "stdout",
       "text": [
        "[#######################------------------]  55.4% ... Fitting Alpha vs. Time\r"
       ]
      },
      {
       "output_type": "stream",
       "stream": "stdout",
       "text": [
        "[#######################------------------]  55.5% ... Fitting Alpha vs. Time\r"
       ]
      },
      {
       "output_type": "stream",
       "stream": "stdout",
       "text": [
        "[#######################------------------]  55.6% ... Fitting Alpha vs. Time\r"
       ]
      },
      {
       "output_type": "stream",
       "stream": "stdout",
       "text": [
        "[#######################------------------]  55.7% ... Fitting Alpha vs. Time\r"
       ]
      },
      {
       "output_type": "stream",
       "stream": "stdout",
       "text": [
        "[#######################------------------]  55.8% ... Fitting Alpha vs. Time\r"
       ]
      },
      {
       "output_type": "stream",
       "stream": "stdout",
       "text": [
        "[#######################------------------]  55.9% ... Fitting Alpha vs. Time\r"
       ]
      },
      {
       "output_type": "stream",
       "stream": "stdout",
       "text": [
        "[#######################------------------]  56.0% ... Fitting Alpha vs. Time\r"
       ]
      },
      {
       "output_type": "stream",
       "stream": "stdout",
       "text": [
        "[#######################------------------]  56.1% ... Fitting Alpha vs. Time\r"
       ]
      },
      {
       "output_type": "stream",
       "stream": "stdout",
       "text": [
        "[#######################------------------]  56.2% ... Fitting Alpha vs. Time\r"
       ]
      },
      {
       "output_type": "stream",
       "stream": "stdout",
       "text": [
        "[#######################------------------]  56.3% ... Fitting Alpha vs. Time\r"
       ]
      },
      {
       "output_type": "stream",
       "stream": "stdout",
       "text": [
        "[#######################------------------]  56.4% ... Fitting Alpha vs. Time\r"
       ]
      },
      {
       "output_type": "stream",
       "stream": "stdout",
       "text": [
        "[#######################------------------]  56.5% ... Fitting Alpha vs. Time\r"
       ]
      },
      {
       "output_type": "stream",
       "stream": "stdout",
       "text": [
        "[#######################------------------]  56.6% ... Fitting Alpha vs. Time\r"
       ]
      },
      {
       "output_type": "stream",
       "stream": "stdout",
       "text": [
        "[#######################------------------]  56.7% ... Fitting Alpha vs. Time\r"
       ]
      },
      {
       "output_type": "stream",
       "stream": "stdout",
       "text": [
        "[#######################------------------]  56.8% ... Fitting Alpha vs. Time\r"
       ]
      },
      {
       "output_type": "stream",
       "stream": "stdout",
       "text": [
        "[#######################------------------]  56.9% ... Fitting Alpha vs. Time\r"
       ]
      },
      {
       "output_type": "stream",
       "stream": "stdout",
       "text": [
        "[#######################------------------]  57.0% ... Fitting Alpha vs. Time\r"
       ]
      },
      {
       "output_type": "stream",
       "stream": "stdout",
       "text": [
        "[#######################------------------]  57.1% ... Fitting Alpha vs. Time\r"
       ]
      },
      {
       "output_type": "stream",
       "stream": "stdout",
       "text": [
        "[#######################------------------]  57.2% ... Fitting Alpha vs. Time\r"
       ]
      },
      {
       "output_type": "stream",
       "stream": "stdout",
       "text": [
        "[#######################------------------]  57.3% ... Fitting Alpha vs. Time\r"
       ]
      },
      {
       "output_type": "stream",
       "stream": "stdout",
       "text": [
        "[########################-----------------]  57.4% ... Fitting Alpha vs. Time\r"
       ]
      },
      {
       "output_type": "stream",
       "stream": "stdout",
       "text": [
        "[########################-----------------]  57.5% ... Fitting Alpha vs. Time\r"
       ]
      },
      {
       "output_type": "stream",
       "stream": "stdout",
       "text": [
        "[########################-----------------]  57.6% ... Fitting Alpha vs. Time\r"
       ]
      },
      {
       "output_type": "stream",
       "stream": "stdout",
       "text": [
        "[########################-----------------]  57.7% ... Fitting Alpha vs. Time\r"
       ]
      },
      {
       "output_type": "stream",
       "stream": "stdout",
       "text": [
        "[########################-----------------]  57.8% ... Fitting Alpha vs. Time\r"
       ]
      },
      {
       "output_type": "stream",
       "stream": "stdout",
       "text": [
        "[########################-----------------]  57.9% ... Fitting Alpha vs. Time\r"
       ]
      },
      {
       "output_type": "stream",
       "stream": "stdout",
       "text": [
        "[########################-----------------]  58.0% ... Fitting Alpha vs. Time\r"
       ]
      },
      {
       "output_type": "stream",
       "stream": "stdout",
       "text": [
        "[########################-----------------]  58.1% ... Fitting Alpha vs. Time\r"
       ]
      },
      {
       "output_type": "stream",
       "stream": "stdout",
       "text": [
        "[########################-----------------]  58.2% ... Fitting Alpha vs. Time\r"
       ]
      },
      {
       "output_type": "stream",
       "stream": "stdout",
       "text": [
        "[########################-----------------]  58.3% ... Fitting Alpha vs. Time\r"
       ]
      },
      {
       "output_type": "stream",
       "stream": "stdout",
       "text": [
        "[########################-----------------]  58.4% ... Fitting Alpha vs. Time\r"
       ]
      },
      {
       "output_type": "stream",
       "stream": "stdout",
       "text": [
        "[########################-----------------]  58.5% ... Fitting Alpha vs. Time\r"
       ]
      },
      {
       "output_type": "stream",
       "stream": "stdout",
       "text": [
        "[########################-----------------]  58.6% ... Fitting Alpha vs. Time\r"
       ]
      },
      {
       "output_type": "stream",
       "stream": "stdout",
       "text": [
        "[########################-----------------]  58.7% ... Fitting Alpha vs. Time\r"
       ]
      },
      {
       "output_type": "stream",
       "stream": "stdout",
       "text": [
        "[########################-----------------]  58.8% ... Fitting Alpha vs. Time\r"
       ]
      },
      {
       "output_type": "stream",
       "stream": "stdout",
       "text": [
        "[########################-----------------]  58.9% ... Fitting Alpha vs. Time\r"
       ]
      },
      {
       "output_type": "stream",
       "stream": "stdout",
       "text": [
        "[########################-----------------]  59.0% ... Fitting Alpha vs. Time\r"
       ]
      },
      {
       "output_type": "stream",
       "stream": "stdout",
       "text": [
        "[########################-----------------]  59.1% ... Fitting Alpha vs. Time\r"
       ]
      },
      {
       "output_type": "stream",
       "stream": "stdout",
       "text": [
        "[########################-----------------]  59.2% ... Fitting Alpha vs. Time\r"
       ]
      },
      {
       "output_type": "stream",
       "stream": "stdout",
       "text": [
        "[########################-----------------]  59.3% ... Fitting Alpha vs. Time\r"
       ]
      },
      {
       "output_type": "stream",
       "stream": "stdout",
       "text": [
        "[########################-----------------]  59.4% ... Fitting Alpha vs. Time\r"
       ]
      },
      {
       "output_type": "stream",
       "stream": "stdout",
       "text": [
        "[########################-----------------]  59.5% ... Fitting Alpha vs. Time\r"
       ]
      },
      {
       "output_type": "stream",
       "stream": "stdout",
       "text": [
        "[########################-----------------]  59.6% ... Fitting Alpha vs. Time\r"
       ]
      },
      {
       "output_type": "stream",
       "stream": "stdout",
       "text": [
        "[########################-----------------]  59.7% ... Fitting Alpha vs. Time\r"
       ]
      },
      {
       "output_type": "stream",
       "stream": "stdout",
       "text": [
        "[#########################----------------]  59.8% ... Fitting Alpha vs. Time\r"
       ]
      },
      {
       "output_type": "stream",
       "stream": "stdout",
       "text": [
        "[#########################----------------]  59.9% ... Fitting Alpha vs. Time\r"
       ]
      },
      {
       "output_type": "stream",
       "stream": "stdout",
       "text": [
        "[#########################----------------]  60.0% ... Fitting Alpha vs. Time\r"
       ]
      },
      {
       "output_type": "stream",
       "stream": "stdout",
       "text": [
        "[#########################----------------]  60.1% ... Fitting Alpha vs. Time\r"
       ]
      },
      {
       "output_type": "stream",
       "stream": "stdout",
       "text": [
        "[#########################----------------]  60.2% ... Fitting Alpha vs. Time\r"
       ]
      },
      {
       "output_type": "stream",
       "stream": "stdout",
       "text": [
        "[#########################----------------]  60.3% ... Fitting Alpha vs. Time\r"
       ]
      },
      {
       "output_type": "stream",
       "stream": "stdout",
       "text": [
        "[#########################----------------]  60.4% ... Fitting Alpha vs. Time\r"
       ]
      },
      {
       "output_type": "stream",
       "stream": "stdout",
       "text": [
        "[#########################----------------]  60.5% ... Fitting Alpha vs. Time\r"
       ]
      },
      {
       "output_type": "stream",
       "stream": "stdout",
       "text": [
        "[#########################----------------]  60.6% ... Fitting Alpha vs. Time\r"
       ]
      },
      {
       "output_type": "stream",
       "stream": "stdout",
       "text": [
        "[#########################----------------]  60.7% ... Fitting Alpha vs. Time\r"
       ]
      },
      {
       "output_type": "stream",
       "stream": "stdout",
       "text": [
        "[#########################----------------]  60.8% ... Fitting Alpha vs. Time\r"
       ]
      },
      {
       "output_type": "stream",
       "stream": "stdout",
       "text": [
        "[#########################----------------]  60.9% ... Fitting Alpha vs. Time\r"
       ]
      },
      {
       "output_type": "stream",
       "stream": "stdout",
       "text": [
        "[#########################----------------]  61.0% ... Fitting Alpha vs. Time\r"
       ]
      },
      {
       "output_type": "stream",
       "stream": "stdout",
       "text": [
        "[#########################----------------]  61.1% ... Fitting Alpha vs. Time\r"
       ]
      },
      {
       "output_type": "stream",
       "stream": "stdout",
       "text": [
        "[#########################----------------]  61.2% ... Fitting Alpha vs. Time\r"
       ]
      },
      {
       "output_type": "stream",
       "stream": "stdout",
       "text": [
        "[#########################----------------]  61.3% ... Fitting Alpha vs. Time\r"
       ]
      },
      {
       "output_type": "stream",
       "stream": "stdout",
       "text": [
        "[#########################----------------]  61.4% ... Fitting Alpha vs. Time\r"
       ]
      },
      {
       "output_type": "stream",
       "stream": "stdout",
       "text": [
        "[#########################----------------]  61.5% ... Fitting Alpha vs. Time\r"
       ]
      },
      {
       "output_type": "stream",
       "stream": "stdout",
       "text": [
        "[#########################----------------]  61.6% ... Fitting Alpha vs. Time\r"
       ]
      },
      {
       "output_type": "stream",
       "stream": "stdout",
       "text": [
        "[#########################----------------]  61.7% ... Fitting Alpha vs. Time\r"
       ]
      },
      {
       "output_type": "stream",
       "stream": "stdout",
       "text": [
        "[#########################----------------]  61.8% ... Fitting Alpha vs. Time\r"
       ]
      },
      {
       "output_type": "stream",
       "stream": "stdout",
       "text": [
        "[#########################----------------]  61.9% ... Fitting Alpha vs. Time\r"
       ]
      },
      {
       "output_type": "stream",
       "stream": "stdout",
       "text": [
        "[#########################----------------]  62.0% ... Fitting Alpha vs. Time\r"
       ]
      },
      {
       "output_type": "stream",
       "stream": "stdout",
       "text": [
        "[#########################----------------]  62.1% ... Fitting Alpha vs. Time\r"
       ]
      },
      {
       "output_type": "stream",
       "stream": "stdout",
       "text": [
        "[##########################---------------]  62.2% ... Fitting Alpha vs. Time\r"
       ]
      },
      {
       "output_type": "stream",
       "stream": "stdout",
       "text": [
        "[##########################---------------]  62.3% ... Fitting Alpha vs. Time\r"
       ]
      },
      {
       "output_type": "stream",
       "stream": "stdout",
       "text": [
        "[##########################---------------]  62.4% ... Fitting Alpha vs. Time\r"
       ]
      },
      {
       "output_type": "stream",
       "stream": "stdout",
       "text": [
        "[##########################---------------]  62.5% ... Fitting Alpha vs. Time\r"
       ]
      },
      {
       "output_type": "stream",
       "stream": "stdout",
       "text": [
        "[##########################---------------]  62.6% ... Fitting Alpha vs. Time\r"
       ]
      },
      {
       "output_type": "stream",
       "stream": "stdout",
       "text": [
        "[##########################---------------]  62.7% ... Fitting Alpha vs. Time\r"
       ]
      },
      {
       "output_type": "stream",
       "stream": "stdout",
       "text": [
        "[##########################---------------]  62.8% ... Fitting Alpha vs. Time\r"
       ]
      },
      {
       "output_type": "stream",
       "stream": "stdout",
       "text": [
        "[##########################---------------]  62.9% ... Fitting Alpha vs. Time\r"
       ]
      },
      {
       "output_type": "stream",
       "stream": "stdout",
       "text": [
        "[##########################---------------]  63.0% ... Fitting Alpha vs. Time\r"
       ]
      },
      {
       "output_type": "stream",
       "stream": "stdout",
       "text": [
        "[##########################---------------]  63.1% ... Fitting Alpha vs. Time\r"
       ]
      },
      {
       "output_type": "stream",
       "stream": "stdout",
       "text": [
        "[##########################---------------]  63.2% ... Fitting Alpha vs. Time\r"
       ]
      },
      {
       "output_type": "stream",
       "stream": "stdout",
       "text": [
        "[##########################---------------]  63.3% ... Fitting Alpha vs. Time\r"
       ]
      },
      {
       "output_type": "stream",
       "stream": "stdout",
       "text": [
        "[##########################---------------]  63.4% ... Fitting Alpha vs. Time\r"
       ]
      },
      {
       "output_type": "stream",
       "stream": "stdout",
       "text": [
        "[##########################---------------]  63.5% ... Fitting Alpha vs. Time\r"
       ]
      },
      {
       "output_type": "stream",
       "stream": "stdout",
       "text": [
        "[##########################---------------]  63.6% ... Fitting Alpha vs. Time\r"
       ]
      },
      {
       "output_type": "stream",
       "stream": "stdout",
       "text": [
        "[##########################---------------]  63.7% ... Fitting Alpha vs. Time\r"
       ]
      },
      {
       "output_type": "stream",
       "stream": "stdout",
       "text": [
        "[##########################---------------]  63.8% ... Fitting Alpha vs. Time\r"
       ]
      },
      {
       "output_type": "stream",
       "stream": "stdout",
       "text": [
        "[##########################---------------]  63.9% ... Fitting Alpha vs. Time\r"
       ]
      },
      {
       "output_type": "stream",
       "stream": "stdout",
       "text": [
        "[##########################---------------]  64.0% ... Fitting Alpha vs. Time\r"
       ]
      },
      {
       "output_type": "stream",
       "stream": "stdout",
       "text": [
        "[##########################---------------]  64.1% ... Fitting Alpha vs. Time\r"
       ]
      },
      {
       "output_type": "stream",
       "stream": "stdout",
       "text": [
        "[##########################---------------]  64.2% ... Fitting Alpha vs. Time\r"
       ]
      },
      {
       "output_type": "stream",
       "stream": "stdout",
       "text": [
        "[##########################---------------]  64.3% ... Fitting Alpha vs. Time\r"
       ]
      },
      {
       "output_type": "stream",
       "stream": "stdout",
       "text": [
        "[##########################---------------]  64.4% ... Fitting Alpha vs. Time\r"
       ]
      },
      {
       "output_type": "stream",
       "stream": "stdout",
       "text": [
        "[##########################---------------]  64.5% ... Fitting Alpha vs. Time\r"
       ]
      },
      {
       "output_type": "stream",
       "stream": "stdout",
       "text": [
        "[##########################---------------]  64.6% ... Fitting Alpha vs. Time\r"
       ]
      },
      {
       "output_type": "stream",
       "stream": "stdout",
       "text": [
        "[###########################--------------]  64.7% ... Fitting Alpha vs. Time\r"
       ]
      },
      {
       "output_type": "stream",
       "stream": "stdout",
       "text": [
        "[###########################--------------]  64.8% ... Fitting Alpha vs. Time\r"
       ]
      },
      {
       "output_type": "stream",
       "stream": "stdout",
       "text": [
        "[###########################--------------]  64.9% ... Fitting Alpha vs. Time\r"
       ]
      },
      {
       "output_type": "stream",
       "stream": "stdout",
       "text": [
        "[###########################--------------]  65.0% ... Fitting Alpha vs. Time\r"
       ]
      },
      {
       "output_type": "stream",
       "stream": "stdout",
       "text": [
        "[###########################--------------]  65.1% ... Fitting Alpha vs. Time\r"
       ]
      },
      {
       "output_type": "stream",
       "stream": "stdout",
       "text": [
        "[###########################--------------]  65.2% ... Fitting Alpha vs. Time\r"
       ]
      },
      {
       "output_type": "stream",
       "stream": "stdout",
       "text": [
        "[###########################--------------]  65.3% ... Fitting Alpha vs. Time\r"
       ]
      },
      {
       "output_type": "stream",
       "stream": "stdout",
       "text": [
        "[###########################--------------]  65.4% ... Fitting Alpha vs. Time\r"
       ]
      },
      {
       "output_type": "stream",
       "stream": "stdout",
       "text": [
        "[###########################--------------]  65.5% ... Fitting Alpha vs. Time\r"
       ]
      },
      {
       "output_type": "stream",
       "stream": "stdout",
       "text": [
        "[###########################--------------]  65.6% ... Fitting Alpha vs. Time\r"
       ]
      },
      {
       "output_type": "stream",
       "stream": "stdout",
       "text": [
        "[###########################--------------]  65.7% ... Fitting Alpha vs. Time\r"
       ]
      },
      {
       "output_type": "stream",
       "stream": "stdout",
       "text": [
        "[###########################--------------]  65.8% ... Fitting Alpha vs. Time\r"
       ]
      },
      {
       "output_type": "stream",
       "stream": "stdout",
       "text": [
        "[###########################--------------]  65.9% ... Fitting Alpha vs. Time\r"
       ]
      },
      {
       "output_type": "stream",
       "stream": "stdout",
       "text": [
        "[###########################--------------]  66.0% ... Fitting Alpha vs. Time\r"
       ]
      },
      {
       "output_type": "stream",
       "stream": "stdout",
       "text": [
        "[###########################--------------]  66.1% ... Fitting Alpha vs. Time\r"
       ]
      },
      {
       "output_type": "stream",
       "stream": "stdout",
       "text": [
        "[###########################--------------]  66.2% ... Fitting Alpha vs. Time\r"
       ]
      },
      {
       "output_type": "stream",
       "stream": "stdout",
       "text": [
        "[###########################--------------]  66.3% ... Fitting Alpha vs. Time\r"
       ]
      },
      {
       "output_type": "stream",
       "stream": "stdout",
       "text": [
        "[###########################--------------]  66.4% ... Fitting Alpha vs. Time\r"
       ]
      },
      {
       "output_type": "stream",
       "stream": "stdout",
       "text": [
        "[###########################--------------]  66.5% ... Fitting Alpha vs. Time\r"
       ]
      },
      {
       "output_type": "stream",
       "stream": "stdout",
       "text": [
        "[###########################--------------]  66.6% ... Fitting Alpha vs. Time\r"
       ]
      },
      {
       "output_type": "stream",
       "stream": "stdout",
       "text": [
        "[###########################--------------]  66.7% ... Fitting Alpha vs. Time\r"
       ]
      },
      {
       "output_type": "stream",
       "stream": "stdout",
       "text": [
        "[###########################--------------]  66.8% ... Fitting Alpha vs. Time\r"
       ]
      },
      {
       "output_type": "stream",
       "stream": "stdout",
       "text": [
        "[###########################--------------]  66.9% ... Fitting Alpha vs. Time\r"
       ]
      },
      {
       "output_type": "stream",
       "stream": "stdout",
       "text": [
        "[###########################--------------]  67.0% ... Fitting Alpha vs. Time\r"
       ]
      },
      {
       "output_type": "stream",
       "stream": "stdout",
       "text": [
        "[############################-------------]  67.1% ... Fitting Alpha vs. Time\r"
       ]
      },
      {
       "output_type": "stream",
       "stream": "stdout",
       "text": [
        "[############################-------------]  67.2% ... Fitting Alpha vs. Time\r"
       ]
      },
      {
       "output_type": "stream",
       "stream": "stdout",
       "text": [
        "[############################-------------]  67.3% ... Fitting Alpha vs. Time\r"
       ]
      },
      {
       "output_type": "stream",
       "stream": "stdout",
       "text": [
        "[############################-------------]  67.4% ... Fitting Alpha vs. Time\r"
       ]
      },
      {
       "output_type": "stream",
       "stream": "stdout",
       "text": [
        "[############################-------------]  67.5% ... Fitting Alpha vs. Time\r"
       ]
      },
      {
       "output_type": "stream",
       "stream": "stdout",
       "text": [
        "[############################-------------]  67.6% ... Fitting Alpha vs. Time\r"
       ]
      },
      {
       "output_type": "stream",
       "stream": "stdout",
       "text": [
        "[############################-------------]  67.7% ... Fitting Alpha vs. Time\r"
       ]
      },
      {
       "output_type": "stream",
       "stream": "stdout",
       "text": [
        "[############################-------------]  67.8% ... Fitting Alpha vs. Time\r"
       ]
      },
      {
       "output_type": "stream",
       "stream": "stdout",
       "text": [
        "[############################-------------]  67.9% ... Fitting Alpha vs. Time\r"
       ]
      },
      {
       "output_type": "stream",
       "stream": "stdout",
       "text": [
        "[############################-------------]  68.0% ... Fitting Alpha vs. Time\r"
       ]
      },
      {
       "output_type": "stream",
       "stream": "stdout",
       "text": [
        "[############################-------------]  68.1% ... Fitting Alpha vs. Time\r"
       ]
      },
      {
       "output_type": "stream",
       "stream": "stdout",
       "text": [
        "[############################-------------]  68.2% ... Fitting Alpha vs. Time\r"
       ]
      },
      {
       "output_type": "stream",
       "stream": "stdout",
       "text": [
        "[############################-------------]  68.3% ... Fitting Alpha vs. Time\r"
       ]
      },
      {
       "output_type": "stream",
       "stream": "stdout",
       "text": [
        "[############################-------------]  68.4% ... Fitting Alpha vs. Time\r"
       ]
      },
      {
       "output_type": "stream",
       "stream": "stdout",
       "text": [
        "[############################-------------]  68.5% ... Fitting Alpha vs. Time\r"
       ]
      },
      {
       "output_type": "stream",
       "stream": "stdout",
       "text": [
        "[############################-------------]  68.6% ... Fitting Alpha vs. Time\r"
       ]
      },
      {
       "output_type": "stream",
       "stream": "stdout",
       "text": [
        "[############################-------------]  68.7% ... Fitting Alpha vs. Time\r"
       ]
      },
      {
       "output_type": "stream",
       "stream": "stdout",
       "text": [
        "[############################-------------]  68.8% ... Fitting Alpha vs. Time\r"
       ]
      },
      {
       "output_type": "stream",
       "stream": "stdout",
       "text": [
        "[############################-------------]  68.9% ... Fitting Alpha vs. Time\r"
       ]
      },
      {
       "output_type": "stream",
       "stream": "stdout",
       "text": [
        "[############################-------------]  69.0% ... Fitting Alpha vs. Time\r"
       ]
      },
      {
       "output_type": "stream",
       "stream": "stdout",
       "text": [
        "[############################-------------]  69.1% ... Fitting Alpha vs. Time\r"
       ]
      },
      {
       "output_type": "stream",
       "stream": "stdout",
       "text": [
        "[############################-------------]  69.2% ... Fitting Alpha vs. Time\r"
       ]
      },
      {
       "output_type": "stream",
       "stream": "stdout",
       "text": [
        "[############################-------------]  69.3% ... Fitting Alpha vs. Time\r"
       ]
      },
      {
       "output_type": "stream",
       "stream": "stdout",
       "text": [
        "[############################-------------]  69.4% ... Fitting Alpha vs. Time\r"
       ]
      },
      {
       "output_type": "stream",
       "stream": "stdout",
       "text": [
        "[############################-------------]  69.5% ... Fitting Alpha vs. Time\r"
       ]
      },
      {
       "output_type": "stream",
       "stream": "stdout",
       "text": [
        "[#############################------------]  69.6% ... Fitting Alpha vs. Time\r"
       ]
      },
      {
       "output_type": "stream",
       "stream": "stdout",
       "text": [
        "[#############################------------]  69.7% ... Fitting Alpha vs. Time\r"
       ]
      },
      {
       "output_type": "stream",
       "stream": "stdout",
       "text": [
        "[#############################------------]  69.8% ... Fitting Alpha vs. Time\r"
       ]
      },
      {
       "output_type": "stream",
       "stream": "stdout",
       "text": [
        "[#############################------------]  69.9% ... Fitting Alpha vs. Time\r"
       ]
      },
      {
       "output_type": "stream",
       "stream": "stdout",
       "text": [
        "[#############################------------]  70.0% ... Fitting Alpha vs. Time\r"
       ]
      },
      {
       "output_type": "stream",
       "stream": "stdout",
       "text": [
        "[#############################------------]  70.1% ... Fitting Alpha vs. Time\r"
       ]
      },
      {
       "output_type": "stream",
       "stream": "stdout",
       "text": [
        "[#############################------------]  70.2% ... Fitting Alpha vs. Time\r"
       ]
      },
      {
       "output_type": "stream",
       "stream": "stdout",
       "text": [
        "[#############################------------]  70.3% ... Fitting Alpha vs. Time\r"
       ]
      },
      {
       "output_type": "stream",
       "stream": "stdout",
       "text": [
        "[#############################------------]  70.4% ... Fitting Alpha vs. Time\r"
       ]
      },
      {
       "output_type": "stream",
       "stream": "stdout",
       "text": [
        "[#############################------------]  70.5% ... Fitting Alpha vs. Time\r"
       ]
      },
      {
       "output_type": "stream",
       "stream": "stdout",
       "text": [
        "[#############################------------]  70.6% ... Fitting Alpha vs. Time\r"
       ]
      },
      {
       "output_type": "stream",
       "stream": "stdout",
       "text": [
        "[#############################------------]  70.7% ... Fitting Alpha vs. Time\r"
       ]
      },
      {
       "output_type": "stream",
       "stream": "stdout",
       "text": [
        "[#############################------------]  70.8% ... Fitting Alpha vs. Time\r"
       ]
      },
      {
       "output_type": "stream",
       "stream": "stdout",
       "text": [
        "[#############################------------]  70.9% ... Fitting Alpha vs. Time\r"
       ]
      },
      {
       "output_type": "stream",
       "stream": "stdout",
       "text": [
        "[#############################------------]  71.0% ... Fitting Alpha vs. Time\r"
       ]
      },
      {
       "output_type": "stream",
       "stream": "stdout",
       "text": [
        "[#############################------------]  71.1% ... Fitting Alpha vs. Time\r"
       ]
      },
      {
       "output_type": "stream",
       "stream": "stdout",
       "text": [
        "[#############################------------]  71.2% ... Fitting Alpha vs. Time\r"
       ]
      },
      {
       "output_type": "stream",
       "stream": "stdout",
       "text": [
        "[#############################------------]  71.3% ... Fitting Alpha vs. Time\r"
       ]
      },
      {
       "output_type": "stream",
       "stream": "stdout",
       "text": [
        "[#############################------------]  71.4% ... Fitting Alpha vs. Time\r"
       ]
      },
      {
       "output_type": "stream",
       "stream": "stdout",
       "text": [
        "[#############################------------]  71.5% ... Fitting Alpha vs. Time\r"
       ]
      },
      {
       "output_type": "stream",
       "stream": "stdout",
       "text": [
        "[#############################------------]  71.6% ... Fitting Alpha vs. Time\r"
       ]
      },
      {
       "output_type": "stream",
       "stream": "stdout",
       "text": [
        "[#############################------------]  71.7% ... Fitting Alpha vs. Time\r"
       ]
      },
      {
       "output_type": "stream",
       "stream": "stdout",
       "text": [
        "[#############################------------]  71.8% ... Fitting Alpha vs. Time\r"
       ]
      },
      {
       "output_type": "stream",
       "stream": "stdout",
       "text": [
        "[#############################------------]  71.9% ... Fitting Alpha vs. Time\r"
       ]
      },
      {
       "output_type": "stream",
       "stream": "stdout",
       "text": [
        "[##############################-----------]  72.0% ... Fitting Alpha vs. Time\r"
       ]
      },
      {
       "output_type": "stream",
       "stream": "stdout",
       "text": [
        "[##############################-----------]  72.1% ... Fitting Alpha vs. Time\r"
       ]
      },
      {
       "output_type": "stream",
       "stream": "stdout",
       "text": [
        "[##############################-----------]  72.2% ... Fitting Alpha vs. Time\r"
       ]
      },
      {
       "output_type": "stream",
       "stream": "stdout",
       "text": [
        "[##############################-----------]  72.3% ... Fitting Alpha vs. Time\r"
       ]
      },
      {
       "output_type": "stream",
       "stream": "stdout",
       "text": [
        "[##############################-----------]  72.4% ... Fitting Alpha vs. Time\r"
       ]
      },
      {
       "output_type": "stream",
       "stream": "stdout",
       "text": [
        "[##############################-----------]  72.5% ... Fitting Alpha vs. Time\r"
       ]
      },
      {
       "output_type": "stream",
       "stream": "stdout",
       "text": [
        "[##############################-----------]  72.6% ... Fitting Alpha vs. Time\r"
       ]
      },
      {
       "output_type": "stream",
       "stream": "stdout",
       "text": [
        "[##############################-----------]  72.7% ... Fitting Alpha vs. Time\r"
       ]
      },
      {
       "output_type": "stream",
       "stream": "stdout",
       "text": [
        "[##############################-----------]  72.8% ... Fitting Alpha vs. Time\r"
       ]
      },
      {
       "output_type": "stream",
       "stream": "stdout",
       "text": [
        "[##############################-----------]  72.9% ... Fitting Alpha vs. Time\r"
       ]
      },
      {
       "output_type": "stream",
       "stream": "stdout",
       "text": [
        "[##############################-----------]  73.0% ... Fitting Alpha vs. Time\r"
       ]
      },
      {
       "output_type": "stream",
       "stream": "stdout",
       "text": [
        "[##############################-----------]  73.1% ... Fitting Alpha vs. Time\r"
       ]
      },
      {
       "output_type": "stream",
       "stream": "stdout",
       "text": [
        "[##############################-----------]  73.2% ... Fitting Alpha vs. Time\r"
       ]
      },
      {
       "output_type": "stream",
       "stream": "stdout",
       "text": [
        "[##############################-----------]  73.3% ... Fitting Alpha vs. Time\r"
       ]
      },
      {
       "output_type": "stream",
       "stream": "stdout",
       "text": [
        "[##############################-----------]  73.4% ... Fitting Alpha vs. Time\r"
       ]
      },
      {
       "output_type": "stream",
       "stream": "stdout",
       "text": [
        "[##############################-----------]  73.5% ... Fitting Alpha vs. Time\r"
       ]
      },
      {
       "output_type": "stream",
       "stream": "stdout",
       "text": [
        "[##############################-----------]  73.6% ... Fitting Alpha vs. Time\r"
       ]
      },
      {
       "output_type": "stream",
       "stream": "stdout",
       "text": [
        "[##############################-----------]  73.7% ... Fitting Alpha vs. Time\r"
       ]
      },
      {
       "output_type": "stream",
       "stream": "stdout",
       "text": [
        "[##############################-----------]  73.8% ... Fitting Alpha vs. Time\r"
       ]
      },
      {
       "output_type": "stream",
       "stream": "stdout",
       "text": [
        "[##############################-----------]  73.9% ... Fitting Alpha vs. Time\r"
       ]
      },
      {
       "output_type": "stream",
       "stream": "stdout",
       "text": [
        "[##############################-----------]  74.0% ... Fitting Alpha vs. Time\r"
       ]
      },
      {
       "output_type": "stream",
       "stream": "stdout",
       "text": [
        "[##############################-----------]  74.1% ... Fitting Alpha vs. Time\r"
       ]
      },
      {
       "output_type": "stream",
       "stream": "stdout",
       "text": [
        "[##############################-----------]  74.2% ... Fitting Alpha vs. Time\r"
       ]
      },
      {
       "output_type": "stream",
       "stream": "stdout",
       "text": [
        "[##############################-----------]  74.3% ... Fitting Alpha vs. Time\r"
       ]
      },
      {
       "output_type": "stream",
       "stream": "stdout",
       "text": [
        "[###############################----------]  74.4% ... Fitting Alpha vs. Time\r"
       ]
      },
      {
       "output_type": "stream",
       "stream": "stdout",
       "text": [
        "[###############################----------]  74.5% ... Fitting Alpha vs. Time\r"
       ]
      },
      {
       "output_type": "stream",
       "stream": "stdout",
       "text": [
        "[###############################----------]  74.6% ... Fitting Alpha vs. Time\r"
       ]
      },
      {
       "output_type": "stream",
       "stream": "stdout",
       "text": [
        "[###############################----------]  74.7% ... Fitting Alpha vs. Time\r"
       ]
      },
      {
       "output_type": "stream",
       "stream": "stdout",
       "text": [
        "[###############################----------]  74.8% ... Fitting Alpha vs. Time\r"
       ]
      },
      {
       "output_type": "stream",
       "stream": "stdout",
       "text": [
        "[###############################----------]  74.9% ... Fitting Alpha vs. Time\r"
       ]
      },
      {
       "output_type": "stream",
       "stream": "stdout",
       "text": [
        "[###############################----------]  75.0% ... Fitting Alpha vs. Time\r"
       ]
      },
      {
       "output_type": "stream",
       "stream": "stdout",
       "text": [
        "[###############################----------]  75.1% ... Fitting Alpha vs. Time\r"
       ]
      },
      {
       "output_type": "stream",
       "stream": "stdout",
       "text": [
        "[###############################----------]  75.2% ... Fitting Alpha vs. Time\r"
       ]
      },
      {
       "output_type": "stream",
       "stream": "stdout",
       "text": [
        "[###############################----------]  75.3% ... Fitting Alpha vs. Time\r"
       ]
      },
      {
       "output_type": "stream",
       "stream": "stdout",
       "text": [
        "[###############################----------]  75.4% ... Fitting Alpha vs. Time\r"
       ]
      },
      {
       "output_type": "stream",
       "stream": "stdout",
       "text": [
        "[###############################----------]  75.5% ... Fitting Alpha vs. Time\r"
       ]
      },
      {
       "output_type": "stream",
       "stream": "stdout",
       "text": [
        "[###############################----------]  75.6% ... Fitting Alpha vs. Time\r"
       ]
      },
      {
       "output_type": "stream",
       "stream": "stdout",
       "text": [
        "[###############################----------]  75.7% ... Fitting Alpha vs. Time\r"
       ]
      },
      {
       "output_type": "stream",
       "stream": "stdout",
       "text": [
        "[###############################----------]  75.8% ... Fitting Alpha vs. Time\r"
       ]
      },
      {
       "output_type": "stream",
       "stream": "stdout",
       "text": [
        "[###############################----------]  75.9% ... Fitting Alpha vs. Time\r"
       ]
      },
      {
       "output_type": "stream",
       "stream": "stdout",
       "text": [
        "[###############################----------]  76.0% ... Fitting Alpha vs. Time\r"
       ]
      },
      {
       "output_type": "stream",
       "stream": "stdout",
       "text": [
        "[###############################----------]  76.1% ... Fitting Alpha vs. Time\r"
       ]
      },
      {
       "output_type": "stream",
       "stream": "stdout",
       "text": [
        "[###############################----------]  76.2% ... Fitting Alpha vs. Time\r"
       ]
      },
      {
       "output_type": "stream",
       "stream": "stdout",
       "text": [
        "[###############################----------]  76.3% ... Fitting Alpha vs. Time\r"
       ]
      },
      {
       "output_type": "stream",
       "stream": "stdout",
       "text": [
        "[###############################----------]  76.4% ... Fitting Alpha vs. Time\r"
       ]
      },
      {
       "output_type": "stream",
       "stream": "stdout",
       "text": [
        "[###############################----------]  76.5% ... Fitting Alpha vs. Time\r"
       ]
      },
      {
       "output_type": "stream",
       "stream": "stdout",
       "text": [
        "[###############################----------]  76.6% ... Fitting Alpha vs. Time\r"
       ]
      },
      {
       "output_type": "stream",
       "stream": "stdout",
       "text": [
        "[###############################----------]  76.7% ... Fitting Alpha vs. Time\r"
       ]
      },
      {
       "output_type": "stream",
       "stream": "stdout",
       "text": [
        "[###############################----------]  76.8% ... Fitting Alpha vs. Time\r"
       ]
      },
      {
       "output_type": "stream",
       "stream": "stdout",
       "text": [
        "[################################---------]  76.9% ... Fitting Alpha vs. Time\r"
       ]
      },
      {
       "output_type": "stream",
       "stream": "stdout",
       "text": [
        "[################################---------]  77.0% ... Fitting Alpha vs. Time\r"
       ]
      },
      {
       "output_type": "stream",
       "stream": "stdout",
       "text": [
        "[################################---------]  77.1% ... Fitting Alpha vs. Time\r"
       ]
      },
      {
       "output_type": "stream",
       "stream": "stdout",
       "text": [
        "[################################---------]  77.2% ... Fitting Alpha vs. Time\r"
       ]
      },
      {
       "output_type": "stream",
       "stream": "stdout",
       "text": [
        "[################################---------]  77.3% ... Fitting Alpha vs. Time\r"
       ]
      },
      {
       "output_type": "stream",
       "stream": "stdout",
       "text": [
        "[################################---------]  77.4% ... Fitting Alpha vs. Time\r"
       ]
      },
      {
       "output_type": "stream",
       "stream": "stdout",
       "text": [
        "[################################---------]  77.5% ... Fitting Alpha vs. Time\r"
       ]
      },
      {
       "output_type": "stream",
       "stream": "stdout",
       "text": [
        "[################################---------]  77.6% ... Fitting Alpha vs. Time\r"
       ]
      },
      {
       "output_type": "stream",
       "stream": "stdout",
       "text": [
        "[################################---------]  77.7% ... Fitting Alpha vs. Time\r"
       ]
      },
      {
       "output_type": "stream",
       "stream": "stdout",
       "text": [
        "[################################---------]  77.8% ... Fitting Alpha vs. Time\r"
       ]
      },
      {
       "output_type": "stream",
       "stream": "stdout",
       "text": [
        "[################################---------]  77.9% ... Fitting Alpha vs. Time\r"
       ]
      },
      {
       "output_type": "stream",
       "stream": "stdout",
       "text": [
        "[################################---------]  78.0% ... Fitting Alpha vs. Time\r"
       ]
      },
      {
       "output_type": "stream",
       "stream": "stdout",
       "text": [
        "[################################---------]  78.1% ... Fitting Alpha vs. Time\r"
       ]
      },
      {
       "output_type": "stream",
       "stream": "stdout",
       "text": [
        "[################################---------]  78.2% ... Fitting Alpha vs. Time\r"
       ]
      },
      {
       "output_type": "stream",
       "stream": "stdout",
       "text": [
        "[################################---------]  78.3% ... Fitting Alpha vs. Time\r"
       ]
      },
      {
       "output_type": "stream",
       "stream": "stdout",
       "text": [
        "[################################---------]  78.4% ... Fitting Alpha vs. Time\r"
       ]
      },
      {
       "output_type": "stream",
       "stream": "stdout",
       "text": [
        "[################################---------]  78.5% ... Fitting Alpha vs. Time\r"
       ]
      },
      {
       "output_type": "stream",
       "stream": "stdout",
       "text": [
        "[################################---------]  78.6% ... Fitting Alpha vs. Time\r"
       ]
      },
      {
       "output_type": "stream",
       "stream": "stdout",
       "text": [
        "[################################---------]  78.7% ... Fitting Alpha vs. Time\r"
       ]
      },
      {
       "output_type": "stream",
       "stream": "stdout",
       "text": [
        "[################################---------]  78.8% ... Fitting Alpha vs. Time\r"
       ]
      },
      {
       "output_type": "stream",
       "stream": "stdout",
       "text": [
        "[################################---------]  78.9% ... Fitting Alpha vs. Time\r"
       ]
      },
      {
       "output_type": "stream",
       "stream": "stdout",
       "text": [
        "[################################---------]  79.0% ... Fitting Alpha vs. Time\r"
       ]
      },
      {
       "output_type": "stream",
       "stream": "stdout",
       "text": [
        "[################################---------]  79.1% ... Fitting Alpha vs. Time\r"
       ]
      },
      {
       "output_type": "stream",
       "stream": "stdout",
       "text": [
        "[################################---------]  79.2% ... Fitting Alpha vs. Time\r"
       ]
      },
      {
       "output_type": "stream",
       "stream": "stdout",
       "text": [
        "[#################################--------]  79.3% ... Fitting Alpha vs. Time\r"
       ]
      },
      {
       "output_type": "stream",
       "stream": "stdout",
       "text": [
        "[#################################--------]  79.4% ... Fitting Alpha vs. Time\r"
       ]
      },
      {
       "output_type": "stream",
       "stream": "stdout",
       "text": [
        "[#################################--------]  79.5% ... Fitting Alpha vs. Time\r"
       ]
      },
      {
       "output_type": "stream",
       "stream": "stdout",
       "text": [
        "[#################################--------]  79.6% ... Fitting Alpha vs. Time\r"
       ]
      },
      {
       "output_type": "stream",
       "stream": "stdout",
       "text": [
        "[#################################--------]  79.7% ... Fitting Alpha vs. Time\r"
       ]
      },
      {
       "output_type": "stream",
       "stream": "stdout",
       "text": [
        "[#################################--------]  79.8% ... Fitting Alpha vs. Time\r"
       ]
      },
      {
       "output_type": "stream",
       "stream": "stdout",
       "text": [
        "[#################################--------]  79.9% ... Fitting Alpha vs. Time\r"
       ]
      },
      {
       "output_type": "stream",
       "stream": "stdout",
       "text": [
        "[#################################--------]  80.0% ... Fitting Alpha vs. Time\r"
       ]
      },
      {
       "output_type": "stream",
       "stream": "stdout",
       "text": [
        "[#################################--------]  80.1% ... Fitting Alpha vs. Time\r"
       ]
      },
      {
       "output_type": "stream",
       "stream": "stdout",
       "text": [
        "[#################################--------]  80.2% ... Fitting Alpha vs. Time\r"
       ]
      },
      {
       "output_type": "stream",
       "stream": "stdout",
       "text": [
        "[#################################--------]  80.3% ... Fitting Alpha vs. Time\r"
       ]
      },
      {
       "output_type": "stream",
       "stream": "stdout",
       "text": [
        "[#################################--------]  80.4% ... Fitting Alpha vs. Time\r"
       ]
      },
      {
       "output_type": "stream",
       "stream": "stdout",
       "text": [
        "[#################################--------]  80.5% ... Fitting Alpha vs. Time\r"
       ]
      },
      {
       "output_type": "stream",
       "stream": "stdout",
       "text": [
        "[#################################--------]  80.6% ... Fitting Alpha vs. Time\r"
       ]
      },
      {
       "output_type": "stream",
       "stream": "stdout",
       "text": [
        "[#################################--------]  80.7% ... Fitting Alpha vs. Time\r"
       ]
      },
      {
       "output_type": "stream",
       "stream": "stdout",
       "text": [
        "[#################################--------]  80.8% ... Fitting Alpha vs. Time\r"
       ]
      },
      {
       "output_type": "stream",
       "stream": "stdout",
       "text": [
        "[#################################--------]  80.9% ... Fitting Alpha vs. Time\r"
       ]
      },
      {
       "output_type": "stream",
       "stream": "stdout",
       "text": [
        "[#################################--------]  81.0% ... Fitting Alpha vs. Time\r"
       ]
      },
      {
       "output_type": "stream",
       "stream": "stdout",
       "text": [
        "[#################################--------]  81.1% ... Fitting Alpha vs. Time\r"
       ]
      },
      {
       "output_type": "stream",
       "stream": "stdout",
       "text": [
        "[#################################--------]  81.2% ... Fitting Alpha vs. Time\r"
       ]
      },
      {
       "output_type": "stream",
       "stream": "stdout",
       "text": [
        "[#################################--------]  81.3% ... Fitting Alpha vs. Time\r"
       ]
      },
      {
       "output_type": "stream",
       "stream": "stdout",
       "text": [
        "[#################################--------]  81.4% ... Fitting Alpha vs. Time\r"
       ]
      },
      {
       "output_type": "stream",
       "stream": "stdout",
       "text": [
        "[#################################--------]  81.5% ... Fitting Alpha vs. Time\r"
       ]
      },
      {
       "output_type": "stream",
       "stream": "stdout",
       "text": [
        "[#################################--------]  81.6% ... Fitting Alpha vs. Time\r"
       ]
      },
      {
       "output_type": "stream",
       "stream": "stdout",
       "text": [
        "[#################################--------]  81.7% ... Fitting Alpha vs. Time\r"
       ]
      },
      {
       "output_type": "stream",
       "stream": "stdout",
       "text": [
        "[##################################-------]  81.8% ... Fitting Alpha vs. Time\r"
       ]
      },
      {
       "output_type": "stream",
       "stream": "stdout",
       "text": [
        "[##################################-------]  81.9% ... Fitting Alpha vs. Time\r"
       ]
      },
      {
       "output_type": "stream",
       "stream": "stdout",
       "text": [
        "[##################################-------]  82.0% ... Fitting Alpha vs. Time\r"
       ]
      },
      {
       "output_type": "stream",
       "stream": "stdout",
       "text": [
        "[##################################-------]  82.1% ... Fitting Alpha vs. Time\r"
       ]
      },
      {
       "output_type": "stream",
       "stream": "stdout",
       "text": [
        "[##################################-------]  82.2% ... Fitting Alpha vs. Time\r"
       ]
      },
      {
       "output_type": "stream",
       "stream": "stdout",
       "text": [
        "[##################################-------]  82.3% ... Fitting Alpha vs. Time\r"
       ]
      },
      {
       "output_type": "stream",
       "stream": "stdout",
       "text": [
        "[##################################-------]  82.4% ... Fitting Alpha vs. Time\r"
       ]
      },
      {
       "output_type": "stream",
       "stream": "stdout",
       "text": [
        "[##################################-------]  82.5% ... Fitting Alpha vs. Time\r"
       ]
      },
      {
       "output_type": "stream",
       "stream": "stdout",
       "text": [
        "[##################################-------]  82.6% ... Fitting Alpha vs. Time\r"
       ]
      },
      {
       "output_type": "stream",
       "stream": "stdout",
       "text": [
        "[##################################-------]  82.7% ... Fitting Alpha vs. Time\r"
       ]
      },
      {
       "output_type": "stream",
       "stream": "stdout",
       "text": [
        "[##################################-------]  82.8% ... Fitting Alpha vs. Time\r"
       ]
      },
      {
       "output_type": "stream",
       "stream": "stdout",
       "text": [
        "[##################################-------]  82.9% ... Fitting Alpha vs. Time\r"
       ]
      },
      {
       "output_type": "stream",
       "stream": "stdout",
       "text": [
        "[##################################-------]  83.0% ... Fitting Alpha vs. Time\r"
       ]
      },
      {
       "output_type": "stream",
       "stream": "stdout",
       "text": [
        "[##################################-------]  83.1% ... Fitting Alpha vs. Time\r"
       ]
      },
      {
       "output_type": "stream",
       "stream": "stdout",
       "text": [
        "[##################################-------]  83.2% ... Fitting Alpha vs. Time\r"
       ]
      },
      {
       "output_type": "stream",
       "stream": "stdout",
       "text": [
        "[##################################-------]  83.3% ... Fitting Alpha vs. Time\r"
       ]
      },
      {
       "output_type": "stream",
       "stream": "stdout",
       "text": [
        "[##################################-------]  83.4% ... Fitting Alpha vs. Time\r"
       ]
      },
      {
       "output_type": "stream",
       "stream": "stdout",
       "text": [
        "[##################################-------]  83.5% ... Fitting Alpha vs. Time\r"
       ]
      },
      {
       "output_type": "stream",
       "stream": "stdout",
       "text": [
        "[##################################-------]  83.6% ... Fitting Alpha vs. Time\r"
       ]
      },
      {
       "output_type": "stream",
       "stream": "stdout",
       "text": [
        "[##################################-------]  83.7% ... Fitting Alpha vs. Time\r"
       ]
      },
      {
       "output_type": "stream",
       "stream": "stdout",
       "text": [
        "[##################################-------]  83.8% ... Fitting Alpha vs. Time\r"
       ]
      },
      {
       "output_type": "stream",
       "stream": "stdout",
       "text": [
        "[##################################-------]  83.9% ... Fitting Alpha vs. Time\r"
       ]
      },
      {
       "output_type": "stream",
       "stream": "stdout",
       "text": [
        "[##################################-------]  84.0% ... Fitting Alpha vs. Time\r"
       ]
      },
      {
       "output_type": "stream",
       "stream": "stdout",
       "text": [
        "[##################################-------]  84.1% ... Fitting Alpha vs. Time\r"
       ]
      },
      {
       "output_type": "stream",
       "stream": "stdout",
       "text": [
        "[###################################------]  84.2% ... Fitting Alpha vs. Time\r"
       ]
      },
      {
       "output_type": "stream",
       "stream": "stdout",
       "text": [
        "[###################################------]  84.3% ... Fitting Alpha vs. Time\r"
       ]
      },
      {
       "output_type": "stream",
       "stream": "stdout",
       "text": [
        "[###################################------]  84.4% ... Fitting Alpha vs. Time\r"
       ]
      },
      {
       "output_type": "stream",
       "stream": "stdout",
       "text": [
        "[###################################------]  84.5% ... Fitting Alpha vs. Time\r"
       ]
      },
      {
       "output_type": "stream",
       "stream": "stdout",
       "text": [
        "[###################################------]  84.6% ... Fitting Alpha vs. Time\r"
       ]
      },
      {
       "output_type": "stream",
       "stream": "stdout",
       "text": [
        "[###################################------]  84.7% ... Fitting Alpha vs. Time\r"
       ]
      },
      {
       "output_type": "stream",
       "stream": "stdout",
       "text": [
        "[###################################------]  84.8% ... Fitting Alpha vs. Time\r"
       ]
      },
      {
       "output_type": "stream",
       "stream": "stdout",
       "text": [
        "[###################################------]  84.9% ... Fitting Alpha vs. Time\r"
       ]
      },
      {
       "output_type": "stream",
       "stream": "stdout",
       "text": [
        "[###################################------]  85.0% ... Fitting Alpha vs. Time\r"
       ]
      },
      {
       "output_type": "stream",
       "stream": "stdout",
       "text": [
        "[###################################------]  85.1% ... Fitting Alpha vs. Time\r"
       ]
      },
      {
       "output_type": "stream",
       "stream": "stdout",
       "text": [
        "[###################################------]  85.2% ... Fitting Alpha vs. Time\r"
       ]
      },
      {
       "output_type": "stream",
       "stream": "stdout",
       "text": [
        "[###################################------]  85.3% ... Fitting Alpha vs. Time\r"
       ]
      },
      {
       "output_type": "stream",
       "stream": "stdout",
       "text": [
        "[###################################------]  85.4% ... Fitting Alpha vs. Time\r"
       ]
      },
      {
       "output_type": "stream",
       "stream": "stdout",
       "text": [
        "[###################################------]  85.5% ... Fitting Alpha vs. Time\r"
       ]
      },
      {
       "output_type": "stream",
       "stream": "stdout",
       "text": [
        "[###################################------]  85.6% ... Fitting Alpha vs. Time\r"
       ]
      },
      {
       "output_type": "stream",
       "stream": "stdout",
       "text": [
        "[###################################------]  85.7% ... Fitting Alpha vs. Time\r"
       ]
      },
      {
       "output_type": "stream",
       "stream": "stdout",
       "text": [
        "[###################################------]  85.8% ... Fitting Alpha vs. Time\r"
       ]
      },
      {
       "output_type": "stream",
       "stream": "stdout",
       "text": [
        "[###################################------]  85.9% ... Fitting Alpha vs. Time\r"
       ]
      },
      {
       "output_type": "stream",
       "stream": "stdout",
       "text": [
        "[###################################------]  86.0% ... Fitting Alpha vs. Time\r"
       ]
      },
      {
       "output_type": "stream",
       "stream": "stdout",
       "text": [
        "[###################################------]  86.1% ... Fitting Alpha vs. Time\r"
       ]
      },
      {
       "output_type": "stream",
       "stream": "stdout",
       "text": [
        "[###################################------]  86.2% ... Fitting Alpha vs. Time\r"
       ]
      },
      {
       "output_type": "stream",
       "stream": "stdout",
       "text": [
        "[###################################------]  86.3% ... Fitting Alpha vs. Time\r"
       ]
      },
      {
       "output_type": "stream",
       "stream": "stdout",
       "text": [
        "[###################################------]  86.4% ... Fitting Alpha vs. Time\r"
       ]
      },
      {
       "output_type": "stream",
       "stream": "stdout",
       "text": [
        "[###################################------]  86.5% ... Fitting Alpha vs. Time\r"
       ]
      },
      {
       "output_type": "stream",
       "stream": "stdout",
       "text": [
        "[####################################-----]  86.6% ... Fitting Alpha vs. Time\r"
       ]
      },
      {
       "output_type": "stream",
       "stream": "stdout",
       "text": [
        "[####################################-----]  86.7% ... Fitting Alpha vs. Time\r"
       ]
      },
      {
       "output_type": "stream",
       "stream": "stdout",
       "text": [
        "[####################################-----]  86.8% ... Fitting Alpha vs. Time\r"
       ]
      },
      {
       "output_type": "stream",
       "stream": "stdout",
       "text": [
        "[####################################-----]  86.9% ... Fitting Alpha vs. Time\r"
       ]
      },
      {
       "output_type": "stream",
       "stream": "stdout",
       "text": [
        "[####################################-----]  87.0% ... Fitting Alpha vs. Time\r"
       ]
      },
      {
       "output_type": "stream",
       "stream": "stdout",
       "text": [
        "[####################################-----]  87.1% ... Fitting Alpha vs. Time\r"
       ]
      },
      {
       "output_type": "stream",
       "stream": "stdout",
       "text": [
        "[####################################-----]  87.2% ... Fitting Alpha vs. Time\r"
       ]
      },
      {
       "output_type": "stream",
       "stream": "stdout",
       "text": [
        "[####################################-----]  87.3% ... Fitting Alpha vs. Time\r"
       ]
      },
      {
       "output_type": "stream",
       "stream": "stdout",
       "text": [
        "[####################################-----]  87.4% ... Fitting Alpha vs. Time\r"
       ]
      },
      {
       "output_type": "stream",
       "stream": "stdout",
       "text": [
        "[####################################-----]  87.5% ... Fitting Alpha vs. Time\r"
       ]
      },
      {
       "output_type": "stream",
       "stream": "stdout",
       "text": [
        "[####################################-----]  87.6% ... Fitting Alpha vs. Time\r"
       ]
      },
      {
       "output_type": "stream",
       "stream": "stdout",
       "text": [
        "[####################################-----]  87.7% ... Fitting Alpha vs. Time\r"
       ]
      },
      {
       "output_type": "stream",
       "stream": "stdout",
       "text": [
        "[####################################-----]  87.8% ... Fitting Alpha vs. Time\r"
       ]
      },
      {
       "output_type": "stream",
       "stream": "stdout",
       "text": [
        "[####################################-----]  87.9% ... Fitting Alpha vs. Time\r"
       ]
      },
      {
       "output_type": "stream",
       "stream": "stdout",
       "text": [
        "[####################################-----]  88.0% ... Fitting Alpha vs. Time\r"
       ]
      },
      {
       "output_type": "stream",
       "stream": "stdout",
       "text": [
        "[####################################-----]  88.1% ... Fitting Alpha vs. Time\r"
       ]
      },
      {
       "output_type": "stream",
       "stream": "stdout",
       "text": [
        "[####################################-----]  88.2% ... Fitting Alpha vs. Time\r"
       ]
      },
      {
       "output_type": "stream",
       "stream": "stdout",
       "text": [
        "[####################################-----]  88.3% ... Fitting Alpha vs. Time\r"
       ]
      },
      {
       "output_type": "stream",
       "stream": "stdout",
       "text": [
        "[####################################-----]  88.4% ... Fitting Alpha vs. Time\r"
       ]
      },
      {
       "output_type": "stream",
       "stream": "stdout",
       "text": [
        "[####################################-----]  88.5% ... Fitting Alpha vs. Time\r"
       ]
      },
      {
       "output_type": "stream",
       "stream": "stdout",
       "text": [
        "[####################################-----]  88.6% ... Fitting Alpha vs. Time\r"
       ]
      },
      {
       "output_type": "stream",
       "stream": "stdout",
       "text": [
        "[####################################-----]  88.7% ... Fitting Alpha vs. Time\r"
       ]
      },
      {
       "output_type": "stream",
       "stream": "stdout",
       "text": [
        "[####################################-----]  88.8% ... Fitting Alpha vs. Time\r"
       ]
      },
      {
       "output_type": "stream",
       "stream": "stdout",
       "text": [
        "[####################################-----]  88.9% ... Fitting Alpha vs. Time\r"
       ]
      },
      {
       "output_type": "stream",
       "stream": "stdout",
       "text": [
        "[####################################-----]  89.0% ... Fitting Alpha vs. Time\r"
       ]
      },
      {
       "output_type": "stream",
       "stream": "stdout",
       "text": [
        "[#####################################----]  89.1% ... Fitting Alpha vs. Time\r"
       ]
      },
      {
       "output_type": "stream",
       "stream": "stdout",
       "text": [
        "[#####################################----]  89.2% ... Fitting Alpha vs. Time\r"
       ]
      },
      {
       "output_type": "stream",
       "stream": "stdout",
       "text": [
        "[#####################################----]  89.3% ... Fitting Alpha vs. Time\r"
       ]
      },
      {
       "output_type": "stream",
       "stream": "stdout",
       "text": [
        "[#####################################----]  89.4% ... Fitting Alpha vs. Time\r"
       ]
      },
      {
       "output_type": "stream",
       "stream": "stdout",
       "text": [
        "[#####################################----]  89.5% ... Fitting Alpha vs. Time\r"
       ]
      },
      {
       "output_type": "stream",
       "stream": "stdout",
       "text": [
        "[#####################################----]  89.6% ... Fitting Alpha vs. Time\r"
       ]
      },
      {
       "output_type": "stream",
       "stream": "stdout",
       "text": [
        "[#####################################----]  89.7% ... Fitting Alpha vs. Time\r"
       ]
      },
      {
       "output_type": "stream",
       "stream": "stdout",
       "text": [
        "[#####################################----]  89.8% ... Fitting Alpha vs. Time\r"
       ]
      },
      {
       "output_type": "stream",
       "stream": "stdout",
       "text": [
        "[#####################################----]  89.9% ... Fitting Alpha vs. Time\r"
       ]
      },
      {
       "output_type": "stream",
       "stream": "stdout",
       "text": [
        "[#####################################----]  90.0% ... Fitting Alpha vs. Time\r"
       ]
      },
      {
       "output_type": "stream",
       "stream": "stdout",
       "text": [
        "[#####################################----]  90.1% ... Fitting Alpha vs. Time\r"
       ]
      },
      {
       "output_type": "stream",
       "stream": "stdout",
       "text": [
        "[#####################################----]  90.2% ... Fitting Alpha vs. Time\r"
       ]
      },
      {
       "output_type": "stream",
       "stream": "stdout",
       "text": [
        "[#####################################----]  90.3% ... Fitting Alpha vs. Time\r"
       ]
      },
      {
       "output_type": "stream",
       "stream": "stdout",
       "text": [
        "[#####################################----]  90.4% ... Fitting Alpha vs. Time\r"
       ]
      },
      {
       "output_type": "stream",
       "stream": "stdout",
       "text": [
        "[#####################################----]  90.5% ... Fitting Alpha vs. Time\r"
       ]
      },
      {
       "output_type": "stream",
       "stream": "stdout",
       "text": [
        "[#####################################----]  90.6% ... Fitting Alpha vs. Time\r"
       ]
      },
      {
       "output_type": "stream",
       "stream": "stdout",
       "text": [
        "[#####################################----]  90.7% ... Fitting Alpha vs. Time\r"
       ]
      },
      {
       "output_type": "stream",
       "stream": "stdout",
       "text": [
        "[#####################################----]  90.8% ... Fitting Alpha vs. Time\r"
       ]
      },
      {
       "output_type": "stream",
       "stream": "stdout",
       "text": [
        "[#####################################----]  90.9% ... Fitting Alpha vs. Time\r"
       ]
      },
      {
       "output_type": "stream",
       "stream": "stdout",
       "text": [
        "[#####################################----]  91.0% ... Fitting Alpha vs. Time\r"
       ]
      },
      {
       "output_type": "stream",
       "stream": "stdout",
       "text": [
        "[#####################################----]  91.1% ... Fitting Alpha vs. Time\r"
       ]
      },
      {
       "output_type": "stream",
       "stream": "stdout",
       "text": [
        "[#####################################----]  91.2% ... Fitting Alpha vs. Time\r"
       ]
      },
      {
       "output_type": "stream",
       "stream": "stdout",
       "text": [
        "[#####################################----]  91.3% ... Fitting Alpha vs. Time\r"
       ]
      },
      {
       "output_type": "stream",
       "stream": "stdout",
       "text": [
        "[#####################################----]  91.4% ... Fitting Alpha vs. Time\r"
       ]
      },
      {
       "output_type": "stream",
       "stream": "stdout",
       "text": [
        "[######################################---]  91.5% ... Fitting Alpha vs. Time\r"
       ]
      },
      {
       "output_type": "stream",
       "stream": "stdout",
       "text": [
        "[######################################---]  91.6% ... Fitting Alpha vs. Time\r"
       ]
      },
      {
       "output_type": "stream",
       "stream": "stdout",
       "text": [
        "[######################################---]  91.7% ... Fitting Alpha vs. Time\r"
       ]
      },
      {
       "output_type": "stream",
       "stream": "stdout",
       "text": [
        "[######################################---]  91.8% ... Fitting Alpha vs. Time\r"
       ]
      },
      {
       "output_type": "stream",
       "stream": "stdout",
       "text": [
        "[######################################---]  91.9% ... Fitting Alpha vs. Time\r"
       ]
      },
      {
       "output_type": "stream",
       "stream": "stdout",
       "text": [
        "[######################################---]  92.0% ... Fitting Alpha vs. Time\r"
       ]
      },
      {
       "output_type": "stream",
       "stream": "stdout",
       "text": [
        "[######################################---]  92.1% ... Fitting Alpha vs. Time\r"
       ]
      },
      {
       "output_type": "stream",
       "stream": "stdout",
       "text": [
        "[######################################---]  92.2% ... Fitting Alpha vs. Time\r"
       ]
      },
      {
       "output_type": "stream",
       "stream": "stdout",
       "text": [
        "[######################################---]  92.3% ... Fitting Alpha vs. Time\r"
       ]
      },
      {
       "output_type": "stream",
       "stream": "stdout",
       "text": [
        "[######################################---]  92.4% ... Fitting Alpha vs. Time\r"
       ]
      },
      {
       "output_type": "stream",
       "stream": "stdout",
       "text": [
        "[######################################---]  92.5% ... Fitting Alpha vs. Time\r"
       ]
      },
      {
       "output_type": "stream",
       "stream": "stdout",
       "text": [
        "[######################################---]  92.6% ... Fitting Alpha vs. Time\r"
       ]
      },
      {
       "output_type": "stream",
       "stream": "stdout",
       "text": [
        "[######################################---]  92.7% ... Fitting Alpha vs. Time\r"
       ]
      },
      {
       "output_type": "stream",
       "stream": "stdout",
       "text": [
        "[######################################---]  92.8% ... Fitting Alpha vs. Time\r"
       ]
      },
      {
       "output_type": "stream",
       "stream": "stdout",
       "text": [
        "[######################################---]  92.9% ... Fitting Alpha vs. Time\r"
       ]
      },
      {
       "output_type": "stream",
       "stream": "stdout",
       "text": [
        "[######################################---]  93.0% ... Fitting Alpha vs. Time\r"
       ]
      },
      {
       "output_type": "stream",
       "stream": "stdout",
       "text": [
        "[######################################---]  93.1% ... Fitting Alpha vs. Time\r"
       ]
      },
      {
       "output_type": "stream",
       "stream": "stdout",
       "text": [
        "[######################################---]  93.2% ... Fitting Alpha vs. Time\r"
       ]
      },
      {
       "output_type": "stream",
       "stream": "stdout",
       "text": [
        "[######################################---]  93.3% ... Fitting Alpha vs. Time\r"
       ]
      },
      {
       "output_type": "stream",
       "stream": "stdout",
       "text": [
        "[######################################---]  93.4% ... Fitting Alpha vs. Time\r"
       ]
      },
      {
       "output_type": "stream",
       "stream": "stdout",
       "text": [
        "[######################################---]  93.5% ... Fitting Alpha vs. Time\r"
       ]
      },
      {
       "output_type": "stream",
       "stream": "stdout",
       "text": [
        "[######################################---]  93.6% ... Fitting Alpha vs. Time\r"
       ]
      },
      {
       "output_type": "stream",
       "stream": "stdout",
       "text": [
        "[######################################---]  93.7% ... Fitting Alpha vs. Time\r"
       ]
      },
      {
       "output_type": "stream",
       "stream": "stdout",
       "text": [
        "[######################################---]  93.8% ... Fitting Alpha vs. Time\r"
       ]
      },
      {
       "output_type": "stream",
       "stream": "stdout",
       "text": [
        "[######################################---]  93.9% ... Fitting Alpha vs. Time\r"
       ]
      },
      {
       "output_type": "stream",
       "stream": "stdout",
       "text": [
        "[#######################################--]  94.0% ... Fitting Alpha vs. Time\r"
       ]
      },
      {
       "output_type": "stream",
       "stream": "stdout",
       "text": [
        "[#######################################--]  94.1% ... Fitting Alpha vs. Time\r"
       ]
      },
      {
       "output_type": "stream",
       "stream": "stdout",
       "text": [
        "[#######################################--]  94.2% ... Fitting Alpha vs. Time\r"
       ]
      },
      {
       "output_type": "stream",
       "stream": "stdout",
       "text": [
        "[#######################################--]  94.3% ... Fitting Alpha vs. Time\r"
       ]
      },
      {
       "output_type": "stream",
       "stream": "stdout",
       "text": [
        "[#######################################--]  94.4% ... Fitting Alpha vs. Time\r"
       ]
      },
      {
       "output_type": "stream",
       "stream": "stdout",
       "text": [
        "[#######################################--]  94.5% ... Fitting Alpha vs. Time\r"
       ]
      },
      {
       "output_type": "stream",
       "stream": "stdout",
       "text": [
        "[#######################################--]  94.6% ... Fitting Alpha vs. Time\r"
       ]
      },
      {
       "output_type": "stream",
       "stream": "stdout",
       "text": [
        "[#######################################--]  94.7% ... Fitting Alpha vs. Time\r"
       ]
      },
      {
       "output_type": "stream",
       "stream": "stdout",
       "text": [
        "[#######################################--]  94.8% ... Fitting Alpha vs. Time\r"
       ]
      },
      {
       "output_type": "stream",
       "stream": "stdout",
       "text": [
        "[#######################################--]  94.9% ... Fitting Alpha vs. Time\r"
       ]
      },
      {
       "output_type": "stream",
       "stream": "stdout",
       "text": [
        "[#######################################--]  95.0% ... Fitting Alpha vs. Time\r"
       ]
      },
      {
       "output_type": "stream",
       "stream": "stdout",
       "text": [
        "[#######################################--]  95.1% ... Fitting Alpha vs. Time\r"
       ]
      },
      {
       "output_type": "stream",
       "stream": "stdout",
       "text": [
        "[#######################################--]  95.2% ... Fitting Alpha vs. Time\r"
       ]
      },
      {
       "output_type": "stream",
       "stream": "stdout",
       "text": [
        "[#######################################--]  95.3% ... Fitting Alpha vs. Time\r"
       ]
      },
      {
       "output_type": "stream",
       "stream": "stdout",
       "text": [
        "[#######################################--]  95.4% ... Fitting Alpha vs. Time\r"
       ]
      },
      {
       "output_type": "stream",
       "stream": "stdout",
       "text": [
        "[#######################################--]  95.5% ... Fitting Alpha vs. Time\r"
       ]
      },
      {
       "output_type": "stream",
       "stream": "stdout",
       "text": [
        "[#######################################--]  95.6% ... Fitting Alpha vs. Time\r"
       ]
      },
      {
       "output_type": "stream",
       "stream": "stdout",
       "text": [
        "[#######################################--]  95.7% ... Fitting Alpha vs. Time\r"
       ]
      },
      {
       "output_type": "stream",
       "stream": "stdout",
       "text": [
        "[#######################################--]  95.8% ... Fitting Alpha vs. Time\r"
       ]
      },
      {
       "output_type": "stream",
       "stream": "stdout",
       "text": [
        "[#######################################--]  95.9% ... Fitting Alpha vs. Time\r"
       ]
      },
      {
       "output_type": "stream",
       "stream": "stdout",
       "text": [
        "[#######################################--]  96.0% ... Fitting Alpha vs. Time\r"
       ]
      },
      {
       "output_type": "stream",
       "stream": "stdout",
       "text": [
        "[#######################################--]  96.1% ... Fitting Alpha vs. Time\r"
       ]
      },
      {
       "output_type": "stream",
       "stream": "stdout",
       "text": [
        "[#######################################--]  96.2% ... Fitting Alpha vs. Time\r"
       ]
      },
      {
       "output_type": "stream",
       "stream": "stdout",
       "text": [
        "[#######################################--]  96.3% ... Fitting Alpha vs. Time\r"
       ]
      },
      {
       "output_type": "stream",
       "stream": "stdout",
       "text": [
        "[########################################-]  96.4% ... Fitting Alpha vs. Time\r"
       ]
      },
      {
       "output_type": "stream",
       "stream": "stdout",
       "text": [
        "[########################################-]  96.5% ... Fitting Alpha vs. Time\r"
       ]
      },
      {
       "output_type": "stream",
       "stream": "stdout",
       "text": [
        "[########################################-]  96.6% ... Fitting Alpha vs. Time\r"
       ]
      },
      {
       "output_type": "stream",
       "stream": "stdout",
       "text": [
        "[########################################-]  96.7% ... Fitting Alpha vs. Time\r"
       ]
      },
      {
       "output_type": "stream",
       "stream": "stdout",
       "text": [
        "[########################################-]  96.8% ... Fitting Alpha vs. Time\r"
       ]
      },
      {
       "output_type": "stream",
       "stream": "stdout",
       "text": [
        "[########################################-]  96.9% ... Fitting Alpha vs. Time\r"
       ]
      },
      {
       "output_type": "stream",
       "stream": "stdout",
       "text": [
        "[########################################-]  97.0% ... Fitting Alpha vs. Time\r"
       ]
      },
      {
       "output_type": "stream",
       "stream": "stdout",
       "text": [
        "[########################################-]  97.1% ... Fitting Alpha vs. Time\r"
       ]
      },
      {
       "output_type": "stream",
       "stream": "stdout",
       "text": [
        "[########################################-]  97.2% ... Fitting Alpha vs. Time\r"
       ]
      },
      {
       "output_type": "stream",
       "stream": "stdout",
       "text": [
        "[########################################-]  97.3% ... Fitting Alpha vs. Time\r"
       ]
      },
      {
       "output_type": "stream",
       "stream": "stdout",
       "text": [
        "[########################################-]  97.4% ... Fitting Alpha vs. Time\r"
       ]
      },
      {
       "output_type": "stream",
       "stream": "stdout",
       "text": [
        "[########################################-]  97.5% ... Fitting Alpha vs. Time\r"
       ]
      },
      {
       "output_type": "stream",
       "stream": "stdout",
       "text": [
        "[########################################-]  97.6% ... Fitting Alpha vs. Time\r"
       ]
      },
      {
       "output_type": "stream",
       "stream": "stdout",
       "text": [
        "[########################################-]  97.7% ... Fitting Alpha vs. Time\r"
       ]
      },
      {
       "output_type": "stream",
       "stream": "stdout",
       "text": [
        "[########################################-]  97.8% ... Fitting Alpha vs. Time\r"
       ]
      },
      {
       "output_type": "stream",
       "stream": "stdout",
       "text": [
        "[########################################-]  97.9% ... Fitting Alpha vs. Time\r"
       ]
      },
      {
       "output_type": "stream",
       "stream": "stdout",
       "text": [
        "[########################################-]  98.0% ... Fitting Alpha vs. Time\r"
       ]
      },
      {
       "output_type": "stream",
       "stream": "stdout",
       "text": [
        "[########################################-]  98.1% ... Fitting Alpha vs. Time\r"
       ]
      },
      {
       "output_type": "stream",
       "stream": "stdout",
       "text": [
        "[########################################-]  98.2% ... Fitting Alpha vs. Time\r"
       ]
      },
      {
       "output_type": "stream",
       "stream": "stdout",
       "text": [
        "[########################################-]  98.3% ... Fitting Alpha vs. Time\r"
       ]
      },
      {
       "output_type": "stream",
       "stream": "stdout",
       "text": [
        "[########################################-]  98.4% ... Fitting Alpha vs. Time\r"
       ]
      },
      {
       "output_type": "stream",
       "stream": "stdout",
       "text": [
        "[########################################-]  98.5% ... Fitting Alpha vs. Time\r"
       ]
      },
      {
       "output_type": "stream",
       "stream": "stdout",
       "text": [
        "[########################################-]  98.6% ... Fitting Alpha vs. Time\r"
       ]
      },
      {
       "output_type": "stream",
       "stream": "stdout",
       "text": [
        "[########################################-]  98.7% ... Fitting Alpha vs. Time\r"
       ]
      },
      {
       "output_type": "stream",
       "stream": "stdout",
       "text": [
        "[#########################################]  98.8% ... Fitting Alpha vs. Time\r"
       ]
      },
      {
       "output_type": "stream",
       "stream": "stdout",
       "text": [
        "[#########################################]  98.9% ... Fitting Alpha vs. Time\r"
       ]
      },
      {
       "output_type": "stream",
       "stream": "stdout",
       "text": [
        "[#########################################]  99.0% ... Fitting Alpha vs. Time\r"
       ]
      },
      {
       "output_type": "stream",
       "stream": "stdout",
       "text": [
        "[#########################################]  99.1% ... Fitting Alpha vs. Time\r"
       ]
      },
      {
       "output_type": "stream",
       "stream": "stdout",
       "text": [
        "[#########################################]  99.2% ... Fitting Alpha vs. Time\r"
       ]
      },
      {
       "output_type": "stream",
       "stream": "stdout",
       "text": [
        "[#########################################]  99.3% ... Fitting Alpha vs. Time\r"
       ]
      },
      {
       "output_type": "stream",
       "stream": "stdout",
       "text": [
        "[#########################################]  99.4% ... Fitting Alpha vs. Time\r"
       ]
      },
      {
       "output_type": "stream",
       "stream": "stdout",
       "text": [
        "[#########################################]  99.5% ... Fitting Alpha vs. Time\r"
       ]
      },
      {
       "output_type": "stream",
       "stream": "stdout",
       "text": [
        "[#########################################]  99.6% ... Fitting Alpha vs. Time\r"
       ]
      },
      {
       "output_type": "stream",
       "stream": "stdout",
       "text": [
        "[#########################################]  99.7% ... Fitting Alpha vs. Time\r"
       ]
      },
      {
       "output_type": "stream",
       "stream": "stdout",
       "text": [
        "[#########################################]  99.8% ... Fitting Alpha vs. Time\r"
       ]
      },
      {
       "output_type": "stream",
       "stream": "stdout",
       "text": [
        "[#########################################] 100.0% ... Fitting Alpha vs. Time\r"
       ]
      },
      {
       "output_type": "stream",
       "stream": "stdout",
       "text": [
        "\n"
       ]
      }
     ],
     "prompt_number": 236
    },
    {
     "cell_type": "code",
     "collapsed": false,
     "input": [],
     "language": "python",
     "metadata": {},
     "outputs": [],
     "prompt_number": 248
    },
    {
     "cell_type": "code",
     "collapsed": false,
     "input": [],
     "language": "python",
     "metadata": {},
     "outputs": [],
     "prompt_number": 239
    },
    {
     "cell_type": "code",
     "collapsed": false,
     "input": [],
     "language": "python",
     "metadata": {},
     "outputs": [],
     "prompt_number": 251
    },
    {
     "cell_type": "code",
     "collapsed": false,
     "input": [],
     "language": "python",
     "metadata": {},
     "outputs": [],
     "prompt_number": 6
    },
    {
     "cell_type": "code",
     "collapsed": false,
     "input": [],
     "language": "python",
     "metadata": {},
     "outputs": [],
     "prompt_number": 238
    },
    {
     "cell_type": "code",
     "collapsed": false,
     "input": [],
     "language": "python",
     "metadata": {},
     "outputs": [],
     "prompt_number": 252
    },
    {
     "cell_type": "code",
     "collapsed": false,
     "input": [],
     "language": "python",
     "metadata": {},
     "outputs": [],
     "prompt_number": 222
    },
    {
     "cell_type": "code",
     "collapsed": false,
     "input": [],
     "language": "python",
     "metadata": {},
     "outputs": [],
     "prompt_number": 229
    },
    {
     "cell_type": "code",
     "collapsed": false,
     "input": [],
     "language": "python",
     "metadata": {},
     "outputs": []
    }
   ],
   "metadata": {}
  }
 ]
}