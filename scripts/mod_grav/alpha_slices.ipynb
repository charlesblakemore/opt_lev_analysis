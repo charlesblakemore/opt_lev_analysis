{
 "metadata": {
  "name": ""
 },
 "nbformat": 3,
 "nbformat_minor": 0,
 "worksheets": [
  {
   "cells": [
    {
     "cell_type": "code",
     "collapsed": false,
     "input": [
      "run grav_class_test.py\n"
     ],
     "language": "python",
     "metadata": {},
     "outputs": [
      {
       "output_type": "stream",
       "stream": "stdout",
       "text": [
        "Finding files in: \n",
        "/data/20180704/bead1/grav_data/shield\n"
       ]
      },
      {
       "output_type": "stream",
       "stream": "stdout",
       "text": [
        "Found 5740 files...\n",
        "[-------------------------------------------]   0.0% ... Processing 100 files\r"
       ]
      },
      {
       "output_type": "stream",
       "stream": "stdout",
       "text": [
        "[-------------------------------------------]   1.0% ... Processing 100 files\r"
       ]
      },
      {
       "output_type": "stream",
       "stream": "stdout",
       "text": [
        "[#------------------------------------------]   2.0% ... Processing 100 files\r"
       ]
      },
      {
       "output_type": "stream",
       "stream": "stdout",
       "text": [
        "[#------------------------------------------]   3.0% ... Processing 100 files\r"
       ]
      },
      {
       "output_type": "stream",
       "stream": "stdout",
       "text": [
        "[##-----------------------------------------]   4.0% ... Processing 100 files\r"
       ]
      },
      {
       "output_type": "stream",
       "stream": "stdout",
       "text": [
        "[##-----------------------------------------]   5.0% ... Processing 100 files\r"
       ]
      },
      {
       "output_type": "stream",
       "stream": "stdout",
       "text": [
        "[###----------------------------------------]   6.0% ... Processing 100 files\r"
       ]
      },
      {
       "output_type": "stream",
       "stream": "stdout",
       "text": [
        "[###----------------------------------------]   7.0% ... Processing 100 files\r"
       ]
      },
      {
       "output_type": "stream",
       "stream": "stdout",
       "text": [
        "[###----------------------------------------]   8.0% ... Processing 100 files\r"
       ]
      },
      {
       "output_type": "stream",
       "stream": "stdout",
       "text": [
        "[####---------------------------------------]   9.0% ... Processing 100 files\r"
       ]
      },
      {
       "output_type": "stream",
       "stream": "stdout",
       "text": [
        "[####---------------------------------------]  10.0% ... Processing 100 files\r"
       ]
      },
      {
       "output_type": "stream",
       "stream": "stdout",
       "text": [
        "[#####--------------------------------------]  11.0% ... Processing 100 files\r"
       ]
      },
      {
       "output_type": "stream",
       "stream": "stdout",
       "text": [
        "[#####--------------------------------------]  12.0% ... Processing 100 files\r"
       ]
      },
      {
       "output_type": "stream",
       "stream": "stdout",
       "text": [
        "[######-------------------------------------]  13.0% ... Processing 100 files\r"
       ]
      },
      {
       "output_type": "stream",
       "stream": "stdout",
       "text": [
        "[######-------------------------------------]  14.0% ... Processing 100 files\r"
       ]
      },
      {
       "output_type": "stream",
       "stream": "stdout",
       "text": [
        "[######-------------------------------------]  15.0% ... Processing 100 files\r"
       ]
      },
      {
       "output_type": "stream",
       "stream": "stdout",
       "text": [
        "[#######------------------------------------]  16.0% ... Processing 100 files\r"
       ]
      },
      {
       "output_type": "stream",
       "stream": "stdout",
       "text": [
        "[#######------------------------------------]  17.0% ... Processing 100 files\r"
       ]
      },
      {
       "output_type": "stream",
       "stream": "stdout",
       "text": [
        "[########-----------------------------------]  18.0% ... Processing 100 files\r"
       ]
      },
      {
       "output_type": "stream",
       "stream": "stdout",
       "text": [
        "[########-----------------------------------]  19.0% ... Processing 100 files\r"
       ]
      },
      {
       "output_type": "stream",
       "stream": "stdout",
       "text": [
        "[#########----------------------------------]  20.0% ... Processing 100 files\r"
       ]
      },
      {
       "output_type": "stream",
       "stream": "stdout",
       "text": [
        "[#########----------------------------------]  21.0% ... Processing 100 files\r"
       ]
      },
      {
       "output_type": "stream",
       "stream": "stdout",
       "text": [
        "[#########----------------------------------]  22.0% ... Processing 100 files\r"
       ]
      },
      {
       "output_type": "stream",
       "stream": "stdout",
       "text": [
        "[##########---------------------------------]  23.0% ... Processing 100 files\r"
       ]
      },
      {
       "output_type": "stream",
       "stream": "stdout",
       "text": [
        "[##########---------------------------------]  24.0% ... Processing 100 files\r"
       ]
      },
      {
       "output_type": "stream",
       "stream": "stdout",
       "text": [
        "[###########--------------------------------]  25.0% ... Processing 100 files\r"
       ]
      },
      {
       "output_type": "stream",
       "stream": "stdout",
       "text": [
        "[###########--------------------------------]  26.0% ... Processing 100 files\r"
       ]
      },
      {
       "output_type": "stream",
       "stream": "stdout",
       "text": [
        "[############-------------------------------]  27.0% ... Processing 100 files\r"
       ]
      },
      {
       "output_type": "stream",
       "stream": "stdout",
       "text": [
        "[############-------------------------------]  28.0% ... Processing 100 files\r"
       ]
      },
      {
       "output_type": "stream",
       "stream": "stdout",
       "text": [
        "[############-------------------------------]  29.0% ... Processing 100 files\r"
       ]
      },
      {
       "output_type": "stream",
       "stream": "stdout",
       "text": [
        "[#############------------------------------]  30.0% ... Processing 100 files\r"
       ]
      },
      {
       "output_type": "stream",
       "stream": "stdout",
       "text": [
        "[#############------------------------------]  31.0% ... Processing 100 files\r"
       ]
      },
      {
       "output_type": "stream",
       "stream": "stdout",
       "text": [
        "[##############-----------------------------]  32.0% ... Processing 100 files\r"
       ]
      },
      {
       "output_type": "stream",
       "stream": "stdout",
       "text": [
        "[##############-----------------------------]  33.0% ... Processing 100 files\r"
       ]
      },
      {
       "output_type": "stream",
       "stream": "stdout",
       "text": [
        "[###############----------------------------]  34.0% ... Processing 100 files\r"
       ]
      },
      {
       "output_type": "stream",
       "stream": "stdout",
       "text": [
        "[###############----------------------------]  35.0% ... Processing 100 files\r"
       ]
      },
      {
       "output_type": "stream",
       "stream": "stdout",
       "text": [
        "[###############----------------------------]  36.0% ... Processing 100 files\r"
       ]
      },
      {
       "output_type": "stream",
       "stream": "stdout",
       "text": [
        "[################---------------------------]  37.0% ... Processing 100 files\r"
       ]
      },
      {
       "output_type": "stream",
       "stream": "stdout",
       "text": [
        "[################---------------------------]  38.0% ... Processing 100 files\r"
       ]
      },
      {
       "output_type": "stream",
       "stream": "stdout",
       "text": [
        "[#################--------------------------]  39.0% ... Processing 100 files\r"
       ]
      },
      {
       "output_type": "stream",
       "stream": "stdout",
       "text": [
        "[#################--------------------------]  40.0% ... Processing 100 files\r"
       ]
      },
      {
       "output_type": "stream",
       "stream": "stdout",
       "text": [
        "[##################-------------------------]  41.0% ... Processing 100 files\r"
       ]
      },
      {
       "output_type": "stream",
       "stream": "stdout",
       "text": [
        "[##################-------------------------]  42.0% ... Processing 100 files\r"
       ]
      },
      {
       "output_type": "stream",
       "stream": "stdout",
       "text": [
        "[##################-------------------------]  43.0% ... Processing 100 files\r"
       ]
      },
      {
       "output_type": "stream",
       "stream": "stdout",
       "text": [
        "[###################------------------------]  44.0% ... Processing 100 files\r"
       ]
      },
      {
       "output_type": "stream",
       "stream": "stdout",
       "text": [
        "[###################------------------------]  45.0% ... Processing 100 files\r"
       ]
      },
      {
       "output_type": "stream",
       "stream": "stdout",
       "text": [
        "[####################-----------------------]  46.0% ... Processing 100 files\r"
       ]
      },
      {
       "output_type": "stream",
       "stream": "stdout",
       "text": [
        "[####################-----------------------]  47.0% ... Processing 100 files\r"
       ]
      },
      {
       "output_type": "stream",
       "stream": "stdout",
       "text": [
        "[#####################----------------------]  48.0% ... Processing 100 files\r"
       ]
      },
      {
       "output_type": "stream",
       "stream": "stdout",
       "text": [
        "[#####################----------------------]  49.0% ... Processing 100 files\r"
       ]
      },
      {
       "output_type": "stream",
       "stream": "stdout",
       "text": [
        "[######################---------------------]  50.0% ... Processing 100 files\r"
       ]
      },
      {
       "output_type": "stream",
       "stream": "stdout",
       "text": [
        "[######################---------------------]  51.0% ... Processing 100 files\r"
       ]
      },
      {
       "output_type": "stream",
       "stream": "stdout",
       "text": [
        "[######################---------------------]  52.0% ... Processing 100 files\r"
       ]
      },
      {
       "output_type": "stream",
       "stream": "stdout",
       "text": [
        "[#######################--------------------]  53.0% ... Processing 100 files\r"
       ]
      },
      {
       "output_type": "stream",
       "stream": "stdout",
       "text": [
        "[#######################--------------------]  54.0% ... Processing 100 files\r"
       ]
      },
      {
       "output_type": "stream",
       "stream": "stdout",
       "text": [
        "[########################-------------------]  55.0% ... Processing 100 files\r"
       ]
      },
      {
       "output_type": "stream",
       "stream": "stdout",
       "text": [
        "[########################-------------------]  56.0% ... Processing 100 files\r"
       ]
      },
      {
       "output_type": "stream",
       "stream": "stdout",
       "text": [
        "[#########################------------------]  57.0% ... Processing 100 files\r"
       ]
      },
      {
       "output_type": "stream",
       "stream": "stdout",
       "text": [
        "[#########################------------------]  58.0% ... Processing 100 files\r"
       ]
      },
      {
       "output_type": "stream",
       "stream": "stdout",
       "text": [
        "[#########################------------------]  59.0% ... Processing 100 files\r"
       ]
      },
      {
       "output_type": "stream",
       "stream": "stdout",
       "text": [
        "[##########################-----------------]  60.0% ... Processing 100 files\r"
       ]
      },
      {
       "output_type": "stream",
       "stream": "stdout",
       "text": [
        "[##########################-----------------]  61.0% ... Processing 100 files\r"
       ]
      },
      {
       "output_type": "stream",
       "stream": "stdout",
       "text": [
        "[###########################----------------]  62.0% ... Processing 100 files\r"
       ]
      },
      {
       "output_type": "stream",
       "stream": "stdout",
       "text": [
        "[###########################----------------]  63.0% ... Processing 100 files\r"
       ]
      },
      {
       "output_type": "stream",
       "stream": "stdout",
       "text": [
        "[############################---------------]  64.0% ... Processing 100 files\r"
       ]
      },
      {
       "output_type": "stream",
       "stream": "stdout",
       "text": [
        "[############################---------------]  65.0% ... Processing 100 files\r"
       ]
      },
      {
       "output_type": "stream",
       "stream": "stdout",
       "text": [
        "[############################---------------]  66.0% ... Processing 100 files\r"
       ]
      },
      {
       "output_type": "stream",
       "stream": "stdout",
       "text": [
        "[#############################--------------]  67.0% ... Processing 100 files\r"
       ]
      },
      {
       "output_type": "stream",
       "stream": "stdout",
       "text": [
        "[#############################--------------]  68.0% ... Processing 100 files\r"
       ]
      },
      {
       "output_type": "stream",
       "stream": "stdout",
       "text": [
        "[##############################-------------]  69.0% ... Processing 100 files\r"
       ]
      },
      {
       "output_type": "stream",
       "stream": "stdout",
       "text": [
        "[##############################-------------]  70.0% ... Processing 100 files\r"
       ]
      },
      {
       "output_type": "stream",
       "stream": "stdout",
       "text": [
        "[###############################------------]  71.0% ... Processing 100 files\r"
       ]
      },
      {
       "output_type": "stream",
       "stream": "stdout",
       "text": [
        "[###############################------------]  72.0% ... Processing 100 files\r"
       ]
      },
      {
       "output_type": "stream",
       "stream": "stdout",
       "text": [
        "[###############################------------]  73.0% ... Processing 100 files\r"
       ]
      },
      {
       "output_type": "stream",
       "stream": "stdout",
       "text": [
        "[################################-----------]  74.0% ... Processing 100 files\r"
       ]
      },
      {
       "output_type": "stream",
       "stream": "stdout",
       "text": [
        "[################################-----------]  75.0% ... Processing 100 files\r"
       ]
      },
      {
       "output_type": "stream",
       "stream": "stdout",
       "text": [
        "[#################################----------]  76.0% ... Processing 100 files\r"
       ]
      },
      {
       "output_type": "stream",
       "stream": "stdout",
       "text": [
        "[#################################----------]  77.0% ... Processing 100 files\r"
       ]
      },
      {
       "output_type": "stream",
       "stream": "stdout",
       "text": [
        "[##################################---------]  78.0% ... Processing 100 files\r"
       ]
      },
      {
       "output_type": "stream",
       "stream": "stdout",
       "text": [
        "[##################################---------]  79.0% ... Processing 100 files\r"
       ]
      },
      {
       "output_type": "stream",
       "stream": "stdout",
       "text": [
        "[##################################---------]  80.0% ... Processing 100 files\r"
       ]
      },
      {
       "output_type": "stream",
       "stream": "stdout",
       "text": [
        "[###################################--------]  81.0% ... Processing 100 files\r"
       ]
      },
      {
       "output_type": "stream",
       "stream": "stdout",
       "text": [
        "[###################################--------]  82.0% ... Processing 100 files\r"
       ]
      },
      {
       "output_type": "stream",
       "stream": "stdout",
       "text": [
        "[####################################-------]  83.0% ... Processing 100 files\r"
       ]
      },
      {
       "output_type": "stream",
       "stream": "stdout",
       "text": [
        "[####################################-------]  84.0% ... Processing 100 files\r"
       ]
      },
      {
       "output_type": "stream",
       "stream": "stdout",
       "text": [
        "[#####################################------]  85.0% ... Processing 100 files\r"
       ]
      },
      {
       "output_type": "stream",
       "stream": "stdout",
       "text": [
        "[#####################################------]  86.0% ... Processing 100 files\r"
       ]
      },
      {
       "output_type": "stream",
       "stream": "stdout",
       "text": [
        "[#####################################------]  87.0% ... Processing 100 files\r"
       ]
      },
      {
       "output_type": "stream",
       "stream": "stdout",
       "text": [
        "[######################################-----]  88.0% ... Processing 100 files\r"
       ]
      },
      {
       "output_type": "stream",
       "stream": "stdout",
       "text": [
        "[######################################-----]  89.0% ... Processing 100 files\r"
       ]
      },
      {
       "output_type": "stream",
       "stream": "stdout",
       "text": [
        "[#######################################----]  90.0% ... Processing 100 files\r"
       ]
      },
      {
       "output_type": "stream",
       "stream": "stdout",
       "text": [
        "[#######################################----]  91.0% ... Processing 100 files\r"
       ]
      },
      {
       "output_type": "stream",
       "stream": "stdout",
       "text": [
        "[########################################---]  92.0% ... Processing 100 files\r"
       ]
      },
      {
       "output_type": "stream",
       "stream": "stdout",
       "text": [
        "[########################################---]  93.0% ... Processing 100 files\r"
       ]
      },
      {
       "output_type": "stream",
       "stream": "stdout",
       "text": [
        "[########################################---]  94.0% ... Processing 100 files\r"
       ]
      },
      {
       "output_type": "stream",
       "stream": "stdout",
       "text": [
        "[#########################################--]  95.0% ... Processing 100 files\r"
       ]
      },
      {
       "output_type": "stream",
       "stream": "stdout",
       "text": [
        "[#########################################--]  96.0% ... Processing 100 files\r"
       ]
      },
      {
       "output_type": "stream",
       "stream": "stdout",
       "text": [
        "[##########################################-]  97.0% ... Processing 100 files\r"
       ]
      },
      {
       "output_type": "stream",
       "stream": "stdout",
       "text": [
        "[##########################################-]  98.0% ... Processing 100 files\r"
       ]
      },
      {
       "output_type": "stream",
       "stream": "stdout",
       "text": [
        "[###########################################] 100.0% ... Processing 100 files\r"
       ]
      },
      {
       "output_type": "stream",
       "stream": "stdout",
       "text": [
        "\n",
        "Loading Gravity Data..."
       ]
      },
      {
       "output_type": "stream",
       "stream": "stdout",
       "text": [
        " Done!\n",
        "Sorting data by rough stage position... Done!\n",
        "Finding alpha vs. height/separation...\n",
        "[-----------------------------------]   0.0% ... 1 / 81 position combinations\r"
       ]
      },
      {
       "output_type": "stream",
       "stream": "stdout",
       "text": [
        "[-----------------------------------]   1.0% ... 1 / 81 position combinations\r"
       ]
      },
      {
       "output_type": "stream",
       "stream": "stdout",
       "text": [
        "[#----------------------------------]   2.0% ... 1 / 81 position combinations\r"
       ]
      },
      {
       "output_type": "stream",
       "stream": "stdout",
       "text": [
        "[#----------------------------------]   3.0% ... 1 / 81 position combinations\r"
       ]
      },
      {
       "output_type": "stream",
       "stream": "stdout",
       "text": [
        "[#----------------------------------]   4.0% ... 1 / 81 position combinations\r"
       ]
      },
      {
       "output_type": "stream",
       "stream": "stdout",
       "text": [
        "[##---------------------------------]   5.0% ... 1 / 81 position combinations\r"
       ]
      },
      {
       "output_type": "stream",
       "stream": "stdout",
       "text": [
        "[##---------------------------------]   6.0% ... 1 / 81 position combinations\r"
       ]
      },
      {
       "output_type": "stream",
       "stream": "stdout",
       "text": [
        "[##---------------------------------]   7.0% ... 1 / 81 position combinations\r"
       ]
      },
      {
       "output_type": "stream",
       "stream": "stdout",
       "text": [
        "[###--------------------------------]   8.0% ... 1 / 81 position combinations\r"
       ]
      },
      {
       "output_type": "stream",
       "stream": "stdout",
       "text": [
        "[###--------------------------------]   9.0% ... 1 / 81 position combinations\r"
       ]
      },
      {
       "output_type": "stream",
       "stream": "stdout",
       "text": [
        "[####-------------------------------]  10.0% ... 1 / 81 position combinations\r"
       ]
      },
      {
       "output_type": "stream",
       "stream": "stdout",
       "text": [
        "[####-------------------------------]  11.0% ... 1 / 81 position combinations\r"
       ]
      },
      {
       "output_type": "stream",
       "stream": "stdout",
       "text": [
        "[####-------------------------------]  12.0% ... 1 / 81 position combinations\r"
       ]
      },
      {
       "output_type": "stream",
       "stream": "stdout",
       "text": [
        "[#####------------------------------]  13.0% ... 1 / 81 position combinations\r"
       ]
      },
      {
       "output_type": "stream",
       "stream": "stdout",
       "text": [
        "[#####------------------------------]  14.0% ... 1 / 81 position combinations\r"
       ]
      },
      {
       "output_type": "stream",
       "stream": "stdout",
       "text": [
        "[#####------------------------------]  15.0% ... 1 / 81 position combinations\r"
       ]
      },
      {
       "output_type": "stream",
       "stream": "stdout",
       "text": [
        "[######-----------------------------]  16.0% ... 1 / 81 position combinations\r"
       ]
      },
      {
       "output_type": "stream",
       "stream": "stdout",
       "text": [
        "[######-----------------------------]  17.0% ... 1 / 81 position combinations\r"
       ]
      },
      {
       "output_type": "stream",
       "stream": "stdout",
       "text": [
        "[######-----------------------------]  18.0% ... 1 / 81 position combinations\r"
       ]
      },
      {
       "output_type": "stream",
       "stream": "stdout",
       "text": [
        "[#######----------------------------]  19.0% ... 1 / 81 position combinations\r"
       ]
      },
      {
       "output_type": "stream",
       "stream": "stdout",
       "text": [
        "[#######----------------------------]  20.0% ... 1 / 81 position combinations\r"
       ]
      },
      {
       "output_type": "stream",
       "stream": "stdout",
       "text": [
        "[#######----------------------------]  21.0% ... 1 / 81 position combinations\r"
       ]
      },
      {
       "output_type": "stream",
       "stream": "stdout",
       "text": [
        "[########---------------------------]  22.0% ... 1 / 81 position combinations\r"
       ]
      },
      {
       "output_type": "stream",
       "stream": "stdout",
       "text": [
        "[########---------------------------]  23.0% ... 1 / 81 position combinations\r"
       ]
      },
      {
       "output_type": "stream",
       "stream": "stdout",
       "text": [
        "[########---------------------------]  24.0% ... 1 / 81 position combinations\r"
       ]
      },
      {
       "output_type": "stream",
       "stream": "stdout",
       "text": [
        "[#########--------------------------]  25.0% ... 1 / 81 position combinations\r"
       ]
      },
      {
       "output_type": "stream",
       "stream": "stdout",
       "text": [
        "[#########--------------------------]  26.0% ... 1 / 81 position combinations\r"
       ]
      },
      {
       "output_type": "stream",
       "stream": "stdout",
       "text": [
        "[#########--------------------------]  27.0% ... 1 / 81 position combinations\r"
       ]
      },
      {
       "output_type": "stream",
       "stream": "stdout",
       "text": [
        "[##########-------------------------]  28.0% ... 1 / 81 position combinations\r"
       ]
      },
      {
       "output_type": "stream",
       "stream": "stdout",
       "text": [
        "[##########-------------------------]  29.0% ... 1 / 81 position combinations\r"
       ]
      },
      {
       "output_type": "stream",
       "stream": "stdout",
       "text": [
        "[###########------------------------]  30.0% ... 1 / 81 position combinations\r"
       ]
      },
      {
       "output_type": "stream",
       "stream": "stdout",
       "text": [
        "[###########------------------------]  31.0% ... 1 / 81 position combinations\r"
       ]
      },
      {
       "output_type": "stream",
       "stream": "stdout",
       "text": [
        "[###########------------------------]  32.0% ... 1 / 81 position combinations\r"
       ]
      },
      {
       "output_type": "stream",
       "stream": "stdout",
       "text": [
        "[############-----------------------]  33.0% ... 1 / 81 position combinations\r"
       ]
      },
      {
       "output_type": "stream",
       "stream": "stdout",
       "text": [
        "[############-----------------------]  34.0% ... 1 / 81 position combinations\r"
       ]
      },
      {
       "output_type": "stream",
       "stream": "stdout",
       "text": [
        "[############-----------------------]  35.0% ... 1 / 81 position combinations\r"
       ]
      },
      {
       "output_type": "stream",
       "stream": "stdout",
       "text": [
        "[#############----------------------]  36.0% ... 1 / 81 position combinations\r"
       ]
      },
      {
       "output_type": "stream",
       "stream": "stdout",
       "text": [
        "[#############----------------------]  37.0% ... 1 / 81 position combinations\r"
       ]
      },
      {
       "output_type": "stream",
       "stream": "stdout",
       "text": [
        "[#############----------------------]  38.0% ... 1 / 81 position combinations\r"
       ]
      },
      {
       "output_type": "stream",
       "stream": "stdout",
       "text": [
        "[##############---------------------]  39.0% ... 1 / 81 position combinations\r"
       ]
      },
      {
       "output_type": "stream",
       "stream": "stdout",
       "text": [
        "[##############---------------------]  40.0% ... 1 / 81 position combinations\r"
       ]
      },
      {
       "output_type": "stream",
       "stream": "stdout",
       "text": [
        "[##############---------------------]  41.0% ... 1 / 81 position combinations\r"
       ]
      },
      {
       "output_type": "stream",
       "stream": "stdout",
       "text": [
        "[###############--------------------]  42.0% ... 1 / 81 position combinations\r"
       ]
      },
      {
       "output_type": "stream",
       "stream": "stdout",
       "text": [
        "[###############--------------------]  43.0% ... 1 / 81 position combinations\r"
       ]
      },
      {
       "output_type": "stream",
       "stream": "stdout",
       "text": [
        "[###############--------------------]  44.0% ... 1 / 81 position combinations\r"
       ]
      },
      {
       "output_type": "stream",
       "stream": "stdout",
       "text": [
        "[################-------------------]  45.0% ... 1 / 81 position combinations\r"
       ]
      },
      {
       "output_type": "stream",
       "stream": "stdout",
       "text": [
        "[################-------------------]  46.0% ... 1 / 81 position combinations\r"
       ]
      },
      {
       "output_type": "stream",
       "stream": "stdout",
       "text": [
        "[################-------------------]  47.0% ... 1 / 81 position combinations\r"
       ]
      },
      {
       "output_type": "stream",
       "stream": "stdout",
       "text": [
        "[#################------------------]  48.0% ... 1 / 81 position combinations\r"
       ]
      },
      {
       "output_type": "stream",
       "stream": "stdout",
       "text": [
        "[#################------------------]  49.0% ... 1 / 81 position combinations\r"
       ]
      },
      {
       "output_type": "stream",
       "stream": "stdout",
       "text": [
        "[##################-----------------]  50.0% ... 1 / 81 position combinations\r"
       ]
      },
      {
       "output_type": "stream",
       "stream": "stdout",
       "text": [
        "[##################-----------------]  51.0% ... 1 / 81 position combinations\r"
       ]
      },
      {
       "output_type": "stream",
       "stream": "stdout",
       "text": [
        "[##################-----------------]  52.0% ... 1 / 81 position combinations\r"
       ]
      },
      {
       "output_type": "stream",
       "stream": "stdout",
       "text": [
        "[###################----------------]  53.0% ... 1 / 81 position combinations\r"
       ]
      },
      {
       "output_type": "stream",
       "stream": "stdout",
       "text": [
        "[###################----------------]  54.0% ... 1 / 81 position combinations\r"
       ]
      },
      {
       "output_type": "stream",
       "stream": "stdout",
       "text": [
        "[###################----------------]  55.0% ... 1 / 81 position combinations\r"
       ]
      },
      {
       "output_type": "stream",
       "stream": "stdout",
       "text": [
        "[####################---------------]  56.0% ... 1 / 81 position combinations\r"
       ]
      },
      {
       "output_type": "stream",
       "stream": "stdout",
       "text": [
        "[####################---------------]  57.0% ... 1 / 81 position combinations\r"
       ]
      },
      {
       "output_type": "stream",
       "stream": "stdout",
       "text": [
        "[####################---------------]  58.0% ... 1 / 81 position combinations\r"
       ]
      },
      {
       "output_type": "stream",
       "stream": "stdout",
       "text": [
        "[#####################--------------]  59.0% ... 1 / 81 position combinations\r"
       ]
      },
      {
       "output_type": "stream",
       "stream": "stdout",
       "text": [
        "[#####################--------------]  60.0% ... 1 / 81 position combinations\r"
       ]
      },
      {
       "output_type": "stream",
       "stream": "stdout",
       "text": [
        "[#####################--------------]  61.0% ... 1 / 81 position combinations\r"
       ]
      },
      {
       "output_type": "stream",
       "stream": "stdout",
       "text": [
        "[######################-------------]  62.0% ... 1 / 81 position combinations\r"
       ]
      },
      {
       "output_type": "stream",
       "stream": "stdout",
       "text": [
        "[######################-------------]  63.0% ... 1 / 81 position combinations\r"
       ]
      },
      {
       "output_type": "stream",
       "stream": "stdout",
       "text": [
        "[######################-------------]  64.0% ... 1 / 81 position combinations\r"
       ]
      },
      {
       "output_type": "stream",
       "stream": "stdout",
       "text": [
        "[#######################------------]  65.0% ... 1 / 81 position combinations\r"
       ]
      },
      {
       "output_type": "stream",
       "stream": "stdout",
       "text": [
        "[#######################------------]  66.0% ... 1 / 81 position combinations\r"
       ]
      },
      {
       "output_type": "stream",
       "stream": "stdout",
       "text": [
        "[#######################------------]  67.0% ... 1 / 81 position combinations\r"
       ]
      },
      {
       "output_type": "stream",
       "stream": "stdout",
       "text": [
        "[########################-----------]  68.0% ... 1 / 81 position combinations\r"
       ]
      },
      {
       "output_type": "stream",
       "stream": "stdout",
       "text": [
        "[########################-----------]  69.0% ... 1 / 81 position combinations\r"
       ]
      },
      {
       "output_type": "stream",
       "stream": "stdout",
       "text": [
        "[#########################----------]  70.0% ... 1 / 81 position combinations\r"
       ]
      },
      {
       "output_type": "stream",
       "stream": "stdout",
       "text": [
        "[#########################----------]  71.0% ... 1 / 81 position combinations\r"
       ]
      },
      {
       "output_type": "stream",
       "stream": "stdout",
       "text": [
        "[#########################----------]  72.0% ... 1 / 81 position combinations\r"
       ]
      },
      {
       "output_type": "stream",
       "stream": "stdout",
       "text": [
        "[##########################---------]  73.0% ... 1 / 81 position combinations\r"
       ]
      },
      {
       "output_type": "stream",
       "stream": "stdout",
       "text": [
        "[##########################---------]  74.0% ... 1 / 81 position combinations\r"
       ]
      },
      {
       "output_type": "stream",
       "stream": "stdout",
       "text": [
        "[##########################---------]  75.0% ... 1 / 81 position combinations\r"
       ]
      },
      {
       "output_type": "stream",
       "stream": "stdout",
       "text": [
        "[###########################--------]  76.0% ... 1 / 81 position combinations\r"
       ]
      },
      {
       "output_type": "stream",
       "stream": "stdout",
       "text": [
        "[###########################--------]  77.0% ... 1 / 81 position combinations\r"
       ]
      },
      {
       "output_type": "stream",
       "stream": "stdout",
       "text": [
        "[###########################--------]  78.0% ... 1 / 81 position combinations\r"
       ]
      },
      {
       "output_type": "stream",
       "stream": "stdout",
       "text": [
        "[############################-------]  79.0% ... 1 / 81 position combinations\r"
       ]
      },
      {
       "output_type": "stream",
       "stream": "stdout",
       "text": [
        "[############################-------]  80.0% ... 1 / 81 position combinations\r"
       ]
      },
      {
       "output_type": "stream",
       "stream": "stdout",
       "text": [
        "[############################-------]  81.0% ... 1 / 81 position combinations\r"
       ]
      },
      {
       "output_type": "stream",
       "stream": "stdout",
       "text": [
        "[#############################------]  82.0% ... 1 / 81 position combinations\r"
       ]
      },
      {
       "output_type": "stream",
       "stream": "stdout",
       "text": [
        "[#############################------]  83.0% ... 1 / 81 position combinations\r"
       ]
      },
      {
       "output_type": "stream",
       "stream": "stdout",
       "text": [
        "[#############################------]  84.0% ... 1 / 81 position combinations\r"
       ]
      },
      {
       "output_type": "stream",
       "stream": "stdout",
       "text": [
        "[##############################-----]  85.0% ... 1 / 81 position combinations\r"
       ]
      },
      {
       "output_type": "stream",
       "stream": "stdout",
       "text": [
        "[##############################-----]  86.0% ... 1 / 81 position combinations\r"
       ]
      },
      {
       "output_type": "stream",
       "stream": "stdout",
       "text": [
        "[##############################-----]  87.0% ... 1 / 81 position combinations\r"
       ]
      },
      {
       "output_type": "stream",
       "stream": "stdout",
       "text": [
        "[###############################----]  88.0% ... 1 / 81 position combinations\r"
       ]
      },
      {
       "output_type": "stream",
       "stream": "stdout",
       "text": [
        "[###############################----]  89.0% ... 1 / 81 position combinations\r"
       ]
      },
      {
       "output_type": "stream",
       "stream": "stdout",
       "text": [
        "[################################---]  90.0% ... 1 / 81 position combinations\r"
       ]
      },
      {
       "output_type": "stream",
       "stream": "stdout",
       "text": [
        "[################################---]  91.0% ... 1 / 81 position combinations\r"
       ]
      },
      {
       "output_type": "stream",
       "stream": "stdout",
       "text": [
        "[################################---]  92.0% ... 1 / 81 position combinations\r"
       ]
      },
      {
       "output_type": "stream",
       "stream": "stdout",
       "text": [
        "[#################################--]  93.0% ... 1 / 81 position combinations\r"
       ]
      },
      {
       "output_type": "stream",
       "stream": "stdout",
       "text": [
        "[#################################--]  94.0% ... 1 / 81 position combinations\r"
       ]
      },
      {
       "output_type": "stream",
       "stream": "stdout",
       "text": [
        "[#################################--]  95.0% ... 1 / 81 position combinations\r"
       ]
      },
      {
       "output_type": "stream",
       "stream": "stdout",
       "text": [
        "[##################################-]  96.0% ... 1 / 81 position combinations\r"
       ]
      },
      {
       "output_type": "stream",
       "stream": "stdout",
       "text": [
        "[##################################-]  97.0% ... 1 / 81 position combinations\r"
       ]
      },
      {
       "output_type": "stream",
       "stream": "stdout",
       "text": [
        "[##################################-]  98.0% ... 1 / 81 position combinations\r"
       ]
      },
      {
       "output_type": "stream",
       "stream": "stdout",
       "text": [
        "[###################################] 100.0% ... 1 / 81 position combinations\r"
       ]
      },
      {
       "output_type": "stream",
       "stream": "stdout",
       "text": [
        "[-----------------------------------]   0.0% ... 2 / 81 position combinations\r"
       ]
      },
      {
       "output_type": "stream",
       "stream": "stdout",
       "text": [
        "[-----------------------------------]   1.0% ... 2 / 81 position combinations\r"
       ]
      },
      {
       "output_type": "stream",
       "stream": "stdout",
       "text": [
        "[#----------------------------------]   2.0% ... 2 / 81 position combinations\r"
       ]
      },
      {
       "output_type": "stream",
       "stream": "stdout",
       "text": [
        "[#----------------------------------]   3.0% ... 2 / 81 position combinations\r"
       ]
      },
      {
       "output_type": "stream",
       "stream": "stdout",
       "text": [
        "[#----------------------------------]   4.0% ... 2 / 81 position combinations\r"
       ]
      },
      {
       "output_type": "stream",
       "stream": "stdout",
       "text": [
        "[##---------------------------------]   5.0% ... 2 / 81 position combinations\r"
       ]
      },
      {
       "output_type": "stream",
       "stream": "stdout",
       "text": [
        "[##---------------------------------]   6.0% ... 2 / 81 position combinations\r"
       ]
      },
      {
       "output_type": "stream",
       "stream": "stdout",
       "text": [
        "[##---------------------------------]   7.0% ... 2 / 81 position combinations\r"
       ]
      },
      {
       "output_type": "stream",
       "stream": "stdout",
       "text": [
        "[###--------------------------------]   8.0% ... 2 / 81 position combinations\r"
       ]
      },
      {
       "output_type": "stream",
       "stream": "stdout",
       "text": [
        "[###--------------------------------]   9.0% ... 2 / 81 position combinations\r"
       ]
      },
      {
       "output_type": "stream",
       "stream": "stdout",
       "text": [
        "[####-------------------------------]  10.0% ... 2 / 81 position combinations\r"
       ]
      },
      {
       "output_type": "stream",
       "stream": "stdout",
       "text": [
        "[####-------------------------------]  11.0% ... 2 / 81 position combinations\r"
       ]
      },
      {
       "output_type": "stream",
       "stream": "stdout",
       "text": [
        "[####-------------------------------]  12.0% ... 2 / 81 position combinations\r"
       ]
      },
      {
       "output_type": "stream",
       "stream": "stdout",
       "text": [
        "[#####------------------------------]  13.0% ... 2 / 81 position combinations\r"
       ]
      },
      {
       "output_type": "stream",
       "stream": "stdout",
       "text": [
        "[#####------------------------------]  14.0% ... 2 / 81 position combinations\r"
       ]
      },
      {
       "output_type": "stream",
       "stream": "stdout",
       "text": [
        "[#####------------------------------]  15.0% ... 2 / 81 position combinations\r"
       ]
      },
      {
       "output_type": "stream",
       "stream": "stdout",
       "text": [
        "[######-----------------------------]  16.0% ... 2 / 81 position combinations\r"
       ]
      },
      {
       "output_type": "stream",
       "stream": "stdout",
       "text": [
        "[######-----------------------------]  17.0% ... 2 / 81 position combinations\r"
       ]
      },
      {
       "output_type": "stream",
       "stream": "stdout",
       "text": [
        "[######-----------------------------]  18.0% ... 2 / 81 position combinations\r"
       ]
      },
      {
       "output_type": "stream",
       "stream": "stdout",
       "text": [
        "[#######----------------------------]  19.0% ... 2 / 81 position combinations\r"
       ]
      },
      {
       "output_type": "stream",
       "stream": "stdout",
       "text": [
        "[#######----------------------------]  20.0% ... 2 / 81 position combinations\r"
       ]
      },
      {
       "output_type": "stream",
       "stream": "stdout",
       "text": [
        "[#######----------------------------]  21.0% ... 2 / 81 position combinations\r"
       ]
      },
      {
       "output_type": "stream",
       "stream": "stdout",
       "text": [
        "[########---------------------------]  22.0% ... 2 / 81 position combinations\r"
       ]
      },
      {
       "output_type": "stream",
       "stream": "stdout",
       "text": [
        "[########---------------------------]  23.0% ... 2 / 81 position combinations\r"
       ]
      },
      {
       "output_type": "stream",
       "stream": "stdout",
       "text": [
        "[########---------------------------]  24.0% ... 2 / 81 position combinations\r"
       ]
      },
      {
       "output_type": "stream",
       "stream": "stdout",
       "text": [
        "[#########--------------------------]  25.0% ... 2 / 81 position combinations\r"
       ]
      },
      {
       "output_type": "stream",
       "stream": "stdout",
       "text": [
        "[#########--------------------------]  26.0% ... 2 / 81 position combinations\r"
       ]
      },
      {
       "output_type": "stream",
       "stream": "stdout",
       "text": [
        "[#########--------------------------]  27.0% ... 2 / 81 position combinations\r"
       ]
      },
      {
       "output_type": "stream",
       "stream": "stdout",
       "text": [
        "[##########-------------------------]  28.0% ... 2 / 81 position combinations\r"
       ]
      },
      {
       "output_type": "stream",
       "stream": "stdout",
       "text": [
        "[##########-------------------------]  29.0% ... 2 / 81 position combinations\r"
       ]
      },
      {
       "output_type": "stream",
       "stream": "stdout",
       "text": [
        "[###########------------------------]  30.0% ... 2 / 81 position combinations\r"
       ]
      },
      {
       "output_type": "stream",
       "stream": "stdout",
       "text": [
        "[###########------------------------]  31.0% ... 2 / 81 position combinations\r"
       ]
      },
      {
       "output_type": "stream",
       "stream": "stdout",
       "text": [
        "[###########------------------------]  32.0% ... 2 / 81 position combinations\r"
       ]
      },
      {
       "output_type": "stream",
       "stream": "stdout",
       "text": [
        "[############-----------------------]  33.0% ... 2 / 81 position combinations\r"
       ]
      },
      {
       "output_type": "stream",
       "stream": "stdout",
       "text": [
        "[############-----------------------]  34.0% ... 2 / 81 position combinations\r"
       ]
      },
      {
       "output_type": "stream",
       "stream": "stdout",
       "text": [
        "[############-----------------------]  35.0% ... 2 / 81 position combinations\r"
       ]
      },
      {
       "output_type": "stream",
       "stream": "stdout",
       "text": [
        "[#############----------------------]  36.0% ... 2 / 81 position combinations\r"
       ]
      },
      {
       "output_type": "stream",
       "stream": "stdout",
       "text": [
        "[#############----------------------]  37.0% ... 2 / 81 position combinations\r"
       ]
      },
      {
       "output_type": "stream",
       "stream": "stdout",
       "text": [
        "[#############----------------------]  38.0% ... 2 / 81 position combinations\r"
       ]
      },
      {
       "output_type": "stream",
       "stream": "stdout",
       "text": [
        "[##############---------------------]  39.0% ... 2 / 81 position combinations\r"
       ]
      },
      {
       "output_type": "stream",
       "stream": "stdout",
       "text": [
        "[##############---------------------]  40.0% ... 2 / 81 position combinations\r"
       ]
      },
      {
       "output_type": "stream",
       "stream": "stdout",
       "text": [
        "[##############---------------------]  41.0% ... 2 / 81 position combinations\r"
       ]
      },
      {
       "output_type": "stream",
       "stream": "stdout",
       "text": [
        "[###############--------------------]  42.0% ... 2 / 81 position combinations\r"
       ]
      },
      {
       "output_type": "stream",
       "stream": "stdout",
       "text": [
        "[###############--------------------]  43.0% ... 2 / 81 position combinations\r"
       ]
      },
      {
       "output_type": "stream",
       "stream": "stdout",
       "text": [
        "[###############--------------------]  44.0% ... 2 / 81 position combinations\r"
       ]
      },
      {
       "output_type": "stream",
       "stream": "stdout",
       "text": [
        "[################-------------------]  45.0% ... 2 / 81 position combinations\r"
       ]
      },
      {
       "output_type": "stream",
       "stream": "stdout",
       "text": [
        "[################-------------------]  46.0% ... 2 / 81 position combinations\r"
       ]
      },
      {
       "output_type": "stream",
       "stream": "stdout",
       "text": [
        "[################-------------------]  47.0% ... 2 / 81 position combinations\r"
       ]
      },
      {
       "output_type": "stream",
       "stream": "stdout",
       "text": [
        "[#################------------------]  48.0% ... 2 / 81 position combinations\r"
       ]
      },
      {
       "output_type": "stream",
       "stream": "stdout",
       "text": [
        "[#################------------------]  49.0% ... 2 / 81 position combinations\r"
       ]
      },
      {
       "output_type": "stream",
       "stream": "stdout",
       "text": [
        "[##################-----------------]  50.0% ... 2 / 81 position combinations\r"
       ]
      },
      {
       "output_type": "stream",
       "stream": "stdout",
       "text": [
        "[##################-----------------]  51.0% ... 2 / 81 position combinations\r"
       ]
      },
      {
       "output_type": "stream",
       "stream": "stdout",
       "text": [
        "[##################-----------------]  52.0% ... 2 / 81 position combinations\r"
       ]
      },
      {
       "output_type": "stream",
       "stream": "stdout",
       "text": [
        "[###################----------------]  53.0% ... 2 / 81 position combinations\r"
       ]
      },
      {
       "output_type": "stream",
       "stream": "stdout",
       "text": [
        "[###################----------------]  54.0% ... 2 / 81 position combinations\r"
       ]
      },
      {
       "output_type": "stream",
       "stream": "stdout",
       "text": [
        "[###################----------------]  55.0% ... 2 / 81 position combinations\r"
       ]
      },
      {
       "output_type": "stream",
       "stream": "stdout",
       "text": [
        "[####################---------------]  56.0% ... 2 / 81 position combinations\r"
       ]
      },
      {
       "output_type": "stream",
       "stream": "stdout",
       "text": [
        "[####################---------------]  57.0% ... 2 / 81 position combinations\r"
       ]
      },
      {
       "output_type": "stream",
       "stream": "stdout",
       "text": [
        "[####################---------------]  58.0% ... 2 / 81 position combinations\r"
       ]
      },
      {
       "output_type": "stream",
       "stream": "stdout",
       "text": [
        "[#####################--------------]  59.0% ... 2 / 81 position combinations\r"
       ]
      },
      {
       "output_type": "stream",
       "stream": "stdout",
       "text": [
        "[#####################--------------]  60.0% ... 2 / 81 position combinations\r"
       ]
      },
      {
       "output_type": "stream",
       "stream": "stdout",
       "text": [
        "[#####################--------------]  61.0% ... 2 / 81 position combinations\r"
       ]
      },
      {
       "output_type": "stream",
       "stream": "stdout",
       "text": [
        "[######################-------------]  62.0% ... 2 / 81 position combinations\r"
       ]
      },
      {
       "output_type": "stream",
       "stream": "stdout",
       "text": [
        "[######################-------------]  63.0% ... 2 / 81 position combinations\r"
       ]
      },
      {
       "output_type": "stream",
       "stream": "stdout",
       "text": [
        "[######################-------------]  64.0% ... 2 / 81 position combinations\r"
       ]
      },
      {
       "output_type": "stream",
       "stream": "stdout",
       "text": [
        "[#######################------------]  65.0% ... 2 / 81 position combinations\r"
       ]
      },
      {
       "output_type": "stream",
       "stream": "stdout",
       "text": [
        "[#######################------------]  66.0% ... 2 / 81 position combinations\r"
       ]
      },
      {
       "output_type": "stream",
       "stream": "stdout",
       "text": [
        "[#######################------------]  67.0% ... 2 / 81 position combinations\r"
       ]
      },
      {
       "output_type": "stream",
       "stream": "stdout",
       "text": [
        "[########################-----------]  68.0% ... 2 / 81 position combinations\r"
       ]
      },
      {
       "output_type": "stream",
       "stream": "stdout",
       "text": [
        "[########################-----------]  69.0% ... 2 / 81 position combinations\r"
       ]
      },
      {
       "output_type": "stream",
       "stream": "stdout",
       "text": [
        "[#########################----------]  70.0% ... 2 / 81 position combinations\r"
       ]
      },
      {
       "output_type": "stream",
       "stream": "stdout",
       "text": [
        "[#########################----------]  71.0% ... 2 / 81 position combinations\r"
       ]
      },
      {
       "output_type": "stream",
       "stream": "stdout",
       "text": [
        "[#########################----------]  72.0% ... 2 / 81 position combinations\r"
       ]
      },
      {
       "output_type": "stream",
       "stream": "stdout",
       "text": [
        "[##########################---------]  73.0% ... 2 / 81 position combinations\r"
       ]
      },
      {
       "output_type": "stream",
       "stream": "stdout",
       "text": [
        "[##########################---------]  74.0% ... 2 / 81 position combinations\r"
       ]
      },
      {
       "output_type": "stream",
       "stream": "stdout",
       "text": [
        "[##########################---------]  75.0% ... 2 / 81 position combinations\r"
       ]
      },
      {
       "output_type": "stream",
       "stream": "stdout",
       "text": [
        "[###########################--------]  76.0% ... 2 / 81 position combinations\r"
       ]
      },
      {
       "output_type": "stream",
       "stream": "stdout",
       "text": [
        "[###########################--------]  77.0% ... 2 / 81 position combinations\r"
       ]
      },
      {
       "output_type": "stream",
       "stream": "stdout",
       "text": [
        "[###########################--------]  78.0% ... 2 / 81 position combinations\r"
       ]
      },
      {
       "output_type": "stream",
       "stream": "stdout",
       "text": [
        "[############################-------]  79.0% ... 2 / 81 position combinations\r"
       ]
      },
      {
       "output_type": "stream",
       "stream": "stdout",
       "text": [
        "[############################-------]  80.0% ... 2 / 81 position combinations\r"
       ]
      },
      {
       "output_type": "stream",
       "stream": "stdout",
       "text": [
        "[############################-------]  81.0% ... 2 / 81 position combinations\r"
       ]
      },
      {
       "output_type": "stream",
       "stream": "stdout",
       "text": [
        "[#############################------]  82.0% ... 2 / 81 position combinations\r"
       ]
      },
      {
       "output_type": "stream",
       "stream": "stdout",
       "text": [
        "[#############################------]  83.0% ... 2 / 81 position combinations\r"
       ]
      },
      {
       "output_type": "stream",
       "stream": "stdout",
       "text": [
        "[#############################------]  84.0% ... 2 / 81 position combinations\r"
       ]
      },
      {
       "output_type": "stream",
       "stream": "stdout",
       "text": [
        "[##############################-----]  85.0% ... 2 / 81 position combinations\r"
       ]
      },
      {
       "output_type": "stream",
       "stream": "stdout",
       "text": [
        "[##############################-----]  86.0% ... 2 / 81 position combinations\r"
       ]
      },
      {
       "output_type": "stream",
       "stream": "stdout",
       "text": [
        "[##############################-----]  87.0% ... 2 / 81 position combinations\r"
       ]
      },
      {
       "output_type": "stream",
       "stream": "stdout",
       "text": [
        "[###############################----]  88.0% ... 2 / 81 position combinations\r"
       ]
      },
      {
       "output_type": "stream",
       "stream": "stdout",
       "text": [
        "[###############################----]  89.0% ... 2 / 81 position combinations\r"
       ]
      },
      {
       "output_type": "stream",
       "stream": "stdout",
       "text": [
        "[################################---]  90.0% ... 2 / 81 position combinations\r"
       ]
      },
      {
       "output_type": "stream",
       "stream": "stdout",
       "text": [
        "[################################---]  91.0% ... 2 / 81 position combinations\r"
       ]
      },
      {
       "output_type": "stream",
       "stream": "stdout",
       "text": [
        "[################################---]  92.0% ... 2 / 81 position combinations\r"
       ]
      },
      {
       "output_type": "stream",
       "stream": "stdout",
       "text": [
        "[#################################--]  93.0% ... 2 / 81 position combinations\r"
       ]
      },
      {
       "output_type": "stream",
       "stream": "stdout",
       "text": [
        "[#################################--]  94.0% ... 2 / 81 position combinations\r"
       ]
      },
      {
       "output_type": "stream",
       "stream": "stdout",
       "text": [
        "[#################################--]  95.0% ... 2 / 81 position combinations\r"
       ]
      },
      {
       "output_type": "stream",
       "stream": "stdout",
       "text": [
        "[##################################-]  96.0% ... 2 / 81 position combinations\r"
       ]
      },
      {
       "output_type": "stream",
       "stream": "stdout",
       "text": [
        "[##################################-]  97.0% ... 2 / 81 position combinations\r"
       ]
      },
      {
       "output_type": "stream",
       "stream": "stdout",
       "text": [
        "[##################################-]  98.0% ... 2 / 81 position combinations\r"
       ]
      },
      {
       "output_type": "stream",
       "stream": "stdout",
       "text": [
        "[###################################] 100.0% ... 2 / 81 position combinations\r"
       ]
      },
      {
       "output_type": "stream",
       "stream": "stdout",
       "text": [
        "2    50.1\n",
        "Name: ax1, dtype: float64\n",
        "1    50.1\n",
        "2    50.1\n",
        "Name: ax1, dtype: float64\n",
        "[-----------------------------------]   0.0% ... 3 / 81 position combinations\r"
       ]
      },
      {
       "output_type": "stream",
       "stream": "stdout",
       "text": [
        "[-----------------------------------]   1.0% ... 3 / 81 position combinations\r"
       ]
      },
      {
       "output_type": "stream",
       "stream": "stdout",
       "text": [
        "[#----------------------------------]   2.0% ... 3 / 81 position combinations\r"
       ]
      },
      {
       "output_type": "stream",
       "stream": "stdout",
       "text": [
        "[#----------------------------------]   3.0% ... 3 / 81 position combinations\r"
       ]
      },
      {
       "output_type": "stream",
       "stream": "stdout",
       "text": [
        "[#----------------------------------]   4.0% ... 3 / 81 position combinations\r"
       ]
      },
      {
       "output_type": "stream",
       "stream": "stdout",
       "text": [
        "[##---------------------------------]   5.0% ... 3 / 81 position combinations\r"
       ]
      },
      {
       "output_type": "stream",
       "stream": "stdout",
       "text": [
        "[##---------------------------------]   6.0% ... 3 / 81 position combinations\r"
       ]
      },
      {
       "output_type": "stream",
       "stream": "stdout",
       "text": [
        "[##---------------------------------]   7.0% ... 3 / 81 position combinations\r"
       ]
      },
      {
       "output_type": "stream",
       "stream": "stdout",
       "text": [
        "[###--------------------------------]   8.0% ... 3 / 81 position combinations\r"
       ]
      },
      {
       "output_type": "stream",
       "stream": "stdout",
       "text": [
        "[###--------------------------------]   9.0% ... 3 / 81 position combinations\r"
       ]
      },
      {
       "output_type": "stream",
       "stream": "stdout",
       "text": [
        "[####-------------------------------]  10.0% ... 3 / 81 position combinations\r"
       ]
      },
      {
       "output_type": "stream",
       "stream": "stdout",
       "text": [
        "[####-------------------------------]  11.0% ... 3 / 81 position combinations\r"
       ]
      },
      {
       "output_type": "stream",
       "stream": "stdout",
       "text": [
        "[####-------------------------------]  12.0% ... 3 / 81 position combinations\r"
       ]
      },
      {
       "output_type": "stream",
       "stream": "stdout",
       "text": [
        "[#####------------------------------]  13.0% ... 3 / 81 position combinations\r"
       ]
      },
      {
       "output_type": "stream",
       "stream": "stdout",
       "text": [
        "[#####------------------------------]  14.0% ... 3 / 81 position combinations\r"
       ]
      },
      {
       "output_type": "stream",
       "stream": "stdout",
       "text": [
        "[#####------------------------------]  15.0% ... 3 / 81 position combinations\r"
       ]
      },
      {
       "output_type": "stream",
       "stream": "stdout",
       "text": [
        "[######-----------------------------]  16.0% ... 3 / 81 position combinations\r"
       ]
      },
      {
       "output_type": "stream",
       "stream": "stdout",
       "text": [
        "[######-----------------------------]  17.0% ... 3 / 81 position combinations\r"
       ]
      },
      {
       "output_type": "stream",
       "stream": "stdout",
       "text": [
        "[######-----------------------------]  18.0% ... 3 / 81 position combinations\r"
       ]
      },
      {
       "output_type": "stream",
       "stream": "stdout",
       "text": [
        "[#######----------------------------]  19.0% ... 3 / 81 position combinations\r"
       ]
      },
      {
       "output_type": "stream",
       "stream": "stdout",
       "text": [
        "[#######----------------------------]  20.0% ... 3 / 81 position combinations\r"
       ]
      },
      {
       "output_type": "stream",
       "stream": "stdout",
       "text": [
        "[#######----------------------------]  21.0% ... 3 / 81 position combinations\r"
       ]
      },
      {
       "output_type": "stream",
       "stream": "stdout",
       "text": [
        "[########---------------------------]  22.0% ... 3 / 81 position combinations\r"
       ]
      },
      {
       "output_type": "stream",
       "stream": "stdout",
       "text": [
        "[########---------------------------]  23.0% ... 3 / 81 position combinations\r"
       ]
      },
      {
       "output_type": "stream",
       "stream": "stdout",
       "text": [
        "[########---------------------------]  24.0% ... 3 / 81 position combinations\r"
       ]
      },
      {
       "output_type": "stream",
       "stream": "stdout",
       "text": [
        "[#########--------------------------]  25.0% ... 3 / 81 position combinations\r"
       ]
      },
      {
       "output_type": "stream",
       "stream": "stdout",
       "text": [
        "[#########--------------------------]  26.0% ... 3 / 81 position combinations\r"
       ]
      },
      {
       "output_type": "stream",
       "stream": "stdout",
       "text": [
        "[#########--------------------------]  27.0% ... 3 / 81 position combinations\r"
       ]
      },
      {
       "output_type": "stream",
       "stream": "stdout",
       "text": [
        "[##########-------------------------]  28.0% ... 3 / 81 position combinations\r"
       ]
      },
      {
       "output_type": "stream",
       "stream": "stdout",
       "text": [
        "[##########-------------------------]  29.0% ... 3 / 81 position combinations\r"
       ]
      },
      {
       "output_type": "stream",
       "stream": "stdout",
       "text": [
        "[###########------------------------]  30.0% ... 3 / 81 position combinations\r"
       ]
      },
      {
       "output_type": "stream",
       "stream": "stdout",
       "text": [
        "[###########------------------------]  31.0% ... 3 / 81 position combinations\r"
       ]
      },
      {
       "output_type": "stream",
       "stream": "stdout",
       "text": [
        "[###########------------------------]  32.0% ... 3 / 81 position combinations\r"
       ]
      },
      {
       "output_type": "stream",
       "stream": "stdout",
       "text": [
        "[############-----------------------]  33.0% ... 3 / 81 position combinations\r"
       ]
      },
      {
       "output_type": "stream",
       "stream": "stdout",
       "text": [
        "[############-----------------------]  34.0% ... 3 / 81 position combinations\r"
       ]
      },
      {
       "output_type": "stream",
       "stream": "stdout",
       "text": [
        "[############-----------------------]  35.0% ... 3 / 81 position combinations\r"
       ]
      },
      {
       "output_type": "stream",
       "stream": "stdout",
       "text": [
        "[#############----------------------]  36.0% ... 3 / 81 position combinations\r"
       ]
      },
      {
       "output_type": "stream",
       "stream": "stdout",
       "text": [
        "[#############----------------------]  37.0% ... 3 / 81 position combinations\r"
       ]
      },
      {
       "output_type": "stream",
       "stream": "stdout",
       "text": [
        "[#############----------------------]  38.0% ... 3 / 81 position combinations\r"
       ]
      },
      {
       "output_type": "stream",
       "stream": "stdout",
       "text": [
        "[##############---------------------]  39.0% ... 3 / 81 position combinations\r"
       ]
      },
      {
       "output_type": "stream",
       "stream": "stdout",
       "text": [
        "[##############---------------------]  40.0% ... 3 / 81 position combinations\r"
       ]
      },
      {
       "output_type": "stream",
       "stream": "stdout",
       "text": [
        "[##############---------------------]  41.0% ... 3 / 81 position combinations\r"
       ]
      },
      {
       "output_type": "stream",
       "stream": "stdout",
       "text": [
        "[###############--------------------]  42.0% ... 3 / 81 position combinations\r"
       ]
      },
      {
       "output_type": "stream",
       "stream": "stdout",
       "text": [
        "[###############--------------------]  43.0% ... 3 / 81 position combinations\r"
       ]
      },
      {
       "output_type": "stream",
       "stream": "stdout",
       "text": [
        "[###############--------------------]  44.0% ... 3 / 81 position combinations\r"
       ]
      },
      {
       "output_type": "stream",
       "stream": "stdout",
       "text": [
        "[################-------------------]  45.0% ... 3 / 81 position combinations\r"
       ]
      },
      {
       "output_type": "stream",
       "stream": "stdout",
       "text": [
        "[################-------------------]  46.0% ... 3 / 81 position combinations\r"
       ]
      },
      {
       "output_type": "stream",
       "stream": "stdout",
       "text": [
        "[################-------------------]  47.0% ... 3 / 81 position combinations\r"
       ]
      },
      {
       "output_type": "stream",
       "stream": "stdout",
       "text": [
        "[#################------------------]  48.0% ... 3 / 81 position combinations\r"
       ]
      },
      {
       "output_type": "stream",
       "stream": "stdout",
       "text": [
        "[#################------------------]  49.0% ... 3 / 81 position combinations\r"
       ]
      },
      {
       "output_type": "stream",
       "stream": "stdout",
       "text": [
        "[##################-----------------]  50.0% ... 3 / 81 position combinations\r"
       ]
      },
      {
       "output_type": "stream",
       "stream": "stdout",
       "text": [
        "[##################-----------------]  51.0% ... 3 / 81 position combinations\r"
       ]
      },
      {
       "output_type": "stream",
       "stream": "stdout",
       "text": [
        "[##################-----------------]  52.0% ... 3 / 81 position combinations\r"
       ]
      },
      {
       "output_type": "stream",
       "stream": "stdout",
       "text": [
        "[###################----------------]  53.0% ... 3 / 81 position combinations\r"
       ]
      },
      {
       "output_type": "stream",
       "stream": "stdout",
       "text": [
        "[###################----------------]  54.0% ... 3 / 81 position combinations\r"
       ]
      },
      {
       "output_type": "stream",
       "stream": "stdout",
       "text": [
        "[###################----------------]  55.0% ... 3 / 81 position combinations\r"
       ]
      },
      {
       "output_type": "stream",
       "stream": "stdout",
       "text": [
        "[####################---------------]  56.0% ... 3 / 81 position combinations\r"
       ]
      },
      {
       "output_type": "stream",
       "stream": "stdout",
       "text": [
        "[####################---------------]  57.0% ... 3 / 81 position combinations\r"
       ]
      },
      {
       "output_type": "stream",
       "stream": "stdout",
       "text": [
        "[####################---------------]  58.0% ... 3 / 81 position combinations\r"
       ]
      },
      {
       "output_type": "stream",
       "stream": "stdout",
       "text": [
        "[#####################--------------]  59.0% ... 3 / 81 position combinations\r"
       ]
      },
      {
       "output_type": "stream",
       "stream": "stdout",
       "text": [
        "[#####################--------------]  60.0% ... 3 / 81 position combinations\r"
       ]
      },
      {
       "output_type": "stream",
       "stream": "stdout",
       "text": [
        "[#####################--------------]  61.0% ... 3 / 81 position combinations\r"
       ]
      },
      {
       "output_type": "stream",
       "stream": "stdout",
       "text": [
        "[######################-------------]  62.0% ... 3 / 81 position combinations\r"
       ]
      },
      {
       "output_type": "stream",
       "stream": "stdout",
       "text": [
        "[######################-------------]  63.0% ... 3 / 81 position combinations\r"
       ]
      },
      {
       "output_type": "stream",
       "stream": "stdout",
       "text": [
        "[######################-------------]  64.0% ... 3 / 81 position combinations\r"
       ]
      },
      {
       "output_type": "stream",
       "stream": "stdout",
       "text": [
        "[#######################------------]  65.0% ... 3 / 81 position combinations\r"
       ]
      },
      {
       "output_type": "stream",
       "stream": "stdout",
       "text": [
        "[#######################------------]  66.0% ... 3 / 81 position combinations\r"
       ]
      },
      {
       "output_type": "stream",
       "stream": "stdout",
       "text": [
        "[#######################------------]  67.0% ... 3 / 81 position combinations\r"
       ]
      },
      {
       "output_type": "stream",
       "stream": "stdout",
       "text": [
        "[########################-----------]  68.0% ... 3 / 81 position combinations\r"
       ]
      },
      {
       "output_type": "stream",
       "stream": "stdout",
       "text": [
        "[########################-----------]  69.0% ... 3 / 81 position combinations\r"
       ]
      },
      {
       "output_type": "stream",
       "stream": "stdout",
       "text": [
        "[#########################----------]  70.0% ... 3 / 81 position combinations\r"
       ]
      },
      {
       "output_type": "stream",
       "stream": "stdout",
       "text": [
        "[#########################----------]  71.0% ... 3 / 81 position combinations\r"
       ]
      },
      {
       "output_type": "stream",
       "stream": "stdout",
       "text": [
        "[#########################----------]  72.0% ... 3 / 81 position combinations\r"
       ]
      },
      {
       "output_type": "stream",
       "stream": "stdout",
       "text": [
        "[##########################---------]  73.0% ... 3 / 81 position combinations\r"
       ]
      },
      {
       "output_type": "stream",
       "stream": "stdout",
       "text": [
        "[##########################---------]  74.0% ... 3 / 81 position combinations\r"
       ]
      },
      {
       "output_type": "stream",
       "stream": "stdout",
       "text": [
        "[##########################---------]  75.0% ... 3 / 81 position combinations\r"
       ]
      },
      {
       "output_type": "stream",
       "stream": "stdout",
       "text": [
        "[###########################--------]  76.0% ... 3 / 81 position combinations\r"
       ]
      },
      {
       "output_type": "stream",
       "stream": "stdout",
       "text": [
        "[###########################--------]  77.0% ... 3 / 81 position combinations\r"
       ]
      },
      {
       "output_type": "stream",
       "stream": "stdout",
       "text": [
        "[###########################--------]  78.0% ... 3 / 81 position combinations\r"
       ]
      },
      {
       "output_type": "stream",
       "stream": "stdout",
       "text": [
        "[############################-------]  79.0% ... 3 / 81 position combinations\r"
       ]
      },
      {
       "output_type": "stream",
       "stream": "stdout",
       "text": [
        "[############################-------]  80.0% ... 3 / 81 position combinations\r"
       ]
      },
      {
       "output_type": "stream",
       "stream": "stdout",
       "text": [
        "[############################-------]  81.0% ... 3 / 81 position combinations\r"
       ]
      },
      {
       "output_type": "stream",
       "stream": "stdout",
       "text": [
        "[#############################------]  82.0% ... 3 / 81 position combinations\r"
       ]
      },
      {
       "output_type": "stream",
       "stream": "stdout",
       "text": [
        "[#############################------]  83.0% ... 3 / 81 position combinations\r"
       ]
      },
      {
       "output_type": "stream",
       "stream": "stdout",
       "text": [
        "[#############################------]  84.0% ... 3 / 81 position combinations\r"
       ]
      },
      {
       "output_type": "stream",
       "stream": "stdout",
       "text": [
        "[##############################-----]  85.0% ... 3 / 81 position combinations\r"
       ]
      },
      {
       "output_type": "stream",
       "stream": "stdout",
       "text": [
        "[##############################-----]  86.0% ... 3 / 81 position combinations\r"
       ]
      },
      {
       "output_type": "stream",
       "stream": "stdout",
       "text": [
        "[##############################-----]  87.0% ... 3 / 81 position combinations\r"
       ]
      },
      {
       "output_type": "stream",
       "stream": "stdout",
       "text": [
        "[###############################----]  88.0% ... 3 / 81 position combinations\r"
       ]
      },
      {
       "output_type": "stream",
       "stream": "stdout",
       "text": [
        "[###############################----]  89.0% ... 3 / 81 position combinations\r"
       ]
      },
      {
       "output_type": "stream",
       "stream": "stdout",
       "text": [
        "[################################---]  90.0% ... 3 / 81 position combinations\r"
       ]
      },
      {
       "output_type": "stream",
       "stream": "stdout",
       "text": [
        "[################################---]  91.0% ... 3 / 81 position combinations\r"
       ]
      },
      {
       "output_type": "stream",
       "stream": "stdout",
       "text": [
        "[################################---]  92.0% ... 3 / 81 position combinations\r"
       ]
      },
      {
       "output_type": "stream",
       "stream": "stdout",
       "text": [
        "[#################################--]  93.0% ... 3 / 81 position combinations\r"
       ]
      },
      {
       "output_type": "stream",
       "stream": "stdout",
       "text": [
        "[#################################--]  94.0% ... 3 / 81 position combinations\r"
       ]
      },
      {
       "output_type": "stream",
       "stream": "stdout",
       "text": [
        "[#################################--]  95.0% ... 3 / 81 position combinations\r"
       ]
      },
      {
       "output_type": "stream",
       "stream": "stdout",
       "text": [
        "[##################################-]  96.0% ... 3 / 81 position combinations\r"
       ]
      },
      {
       "output_type": "stream",
       "stream": "stdout",
       "text": [
        "[##################################-]  97.0% ... 3 / 81 position combinations\r"
       ]
      },
      {
       "output_type": "stream",
       "stream": "stdout",
       "text": [
        "[##################################-]  98.0% ... 3 / 81 position combinations\r"
       ]
      },
      {
       "output_type": "stream",
       "stream": "stdout",
       "text": [
        "[###################################] 100.0% ... 3 / 81 position combinations\r"
       ]
      },
      {
       "output_type": "stream",
       "stream": "stdout",
       "text": [
        "3    50.1\n",
        "Name: ax1, dtype: float64\n",
        "1    50.1\n",
        "2    50.1\n",
        "3    50.1\n",
        "Name: ax1, dtype: float64\n",
        "[-----------------------------------]   0.0% ... 4 / 81 position combinations\r"
       ]
      },
      {
       "output_type": "stream",
       "stream": "stdout",
       "text": [
        "[-----------------------------------]   1.0% ... 4 / 81 position combinations\r"
       ]
      },
      {
       "output_type": "stream",
       "stream": "stdout",
       "text": [
        "[#----------------------------------]   2.0% ... 4 / 81 position combinations\r"
       ]
      },
      {
       "output_type": "stream",
       "stream": "stdout",
       "text": [
        "[#----------------------------------]   3.0% ... 4 / 81 position combinations\r"
       ]
      },
      {
       "output_type": "stream",
       "stream": "stdout",
       "text": [
        "[#----------------------------------]   4.0% ... 4 / 81 position combinations\r"
       ]
      },
      {
       "output_type": "stream",
       "stream": "stdout",
       "text": [
        "[##---------------------------------]   5.0% ... 4 / 81 position combinations\r"
       ]
      },
      {
       "output_type": "stream",
       "stream": "stdout",
       "text": [
        "[##---------------------------------]   6.0% ... 4 / 81 position combinations\r"
       ]
      },
      {
       "output_type": "stream",
       "stream": "stdout",
       "text": [
        "[##---------------------------------]   7.0% ... 4 / 81 position combinations\r"
       ]
      },
      {
       "output_type": "stream",
       "stream": "stdout",
       "text": [
        "[###--------------------------------]   8.0% ... 4 / 81 position combinations\r"
       ]
      },
      {
       "output_type": "stream",
       "stream": "stdout",
       "text": [
        "[###--------------------------------]   9.0% ... 4 / 81 position combinations\r"
       ]
      },
      {
       "output_type": "stream",
       "stream": "stdout",
       "text": [
        "[####-------------------------------]  10.0% ... 4 / 81 position combinations\r"
       ]
      },
      {
       "output_type": "stream",
       "stream": "stdout",
       "text": [
        "[####-------------------------------]  11.0% ... 4 / 81 position combinations\r"
       ]
      },
      {
       "output_type": "stream",
       "stream": "stdout",
       "text": [
        "[####-------------------------------]  12.0% ... 4 / 81 position combinations\r"
       ]
      },
      {
       "output_type": "stream",
       "stream": "stdout",
       "text": [
        "[#####------------------------------]  13.0% ... 4 / 81 position combinations\r"
       ]
      },
      {
       "output_type": "stream",
       "stream": "stdout",
       "text": [
        "[#####------------------------------]  14.0% ... 4 / 81 position combinations\r"
       ]
      },
      {
       "output_type": "stream",
       "stream": "stdout",
       "text": [
        "[#####------------------------------]  15.0% ... 4 / 81 position combinations\r"
       ]
      },
      {
       "output_type": "stream",
       "stream": "stdout",
       "text": [
        "[######-----------------------------]  16.0% ... 4 / 81 position combinations\r"
       ]
      },
      {
       "output_type": "stream",
       "stream": "stdout",
       "text": [
        "[######-----------------------------]  17.0% ... 4 / 81 position combinations\r"
       ]
      },
      {
       "output_type": "stream",
       "stream": "stdout",
       "text": [
        "[######-----------------------------]  18.0% ... 4 / 81 position combinations\r"
       ]
      },
      {
       "output_type": "stream",
       "stream": "stdout",
       "text": [
        "[#######----------------------------]  19.0% ... 4 / 81 position combinations\r"
       ]
      },
      {
       "output_type": "stream",
       "stream": "stdout",
       "text": [
        "[#######----------------------------]  20.0% ... 4 / 81 position combinations\r"
       ]
      },
      {
       "output_type": "stream",
       "stream": "stdout",
       "text": [
        "[#######----------------------------]  21.0% ... 4 / 81 position combinations\r"
       ]
      },
      {
       "output_type": "stream",
       "stream": "stdout",
       "text": [
        "[########---------------------------]  22.0% ... 4 / 81 position combinations\r"
       ]
      },
      {
       "output_type": "stream",
       "stream": "stdout",
       "text": [
        "[########---------------------------]  23.0% ... 4 / 81 position combinations\r"
       ]
      },
      {
       "output_type": "stream",
       "stream": "stdout",
       "text": [
        "[########---------------------------]  24.0% ... 4 / 81 position combinations\r"
       ]
      },
      {
       "output_type": "stream",
       "stream": "stdout",
       "text": [
        "[#########--------------------------]  25.0% ... 4 / 81 position combinations\r"
       ]
      },
      {
       "output_type": "stream",
       "stream": "stdout",
       "text": [
        "[#########--------------------------]  26.0% ... 4 / 81 position combinations\r"
       ]
      },
      {
       "output_type": "stream",
       "stream": "stdout",
       "text": [
        "[#########--------------------------]  27.0% ... 4 / 81 position combinations\r"
       ]
      },
      {
       "output_type": "stream",
       "stream": "stdout",
       "text": [
        "[##########-------------------------]  28.0% ... 4 / 81 position combinations\r"
       ]
      },
      {
       "output_type": "stream",
       "stream": "stdout",
       "text": [
        "[##########-------------------------]  29.0% ... 4 / 81 position combinations\r"
       ]
      },
      {
       "output_type": "stream",
       "stream": "stdout",
       "text": [
        "[###########------------------------]  30.0% ... 4 / 81 position combinations\r"
       ]
      },
      {
       "output_type": "stream",
       "stream": "stdout",
       "text": [
        "[###########------------------------]  31.0% ... 4 / 81 position combinations\r"
       ]
      },
      {
       "output_type": "stream",
       "stream": "stdout",
       "text": [
        "[###########------------------------]  32.0% ... 4 / 81 position combinations\r"
       ]
      },
      {
       "output_type": "stream",
       "stream": "stdout",
       "text": [
        "[############-----------------------]  33.0% ... 4 / 81 position combinations\r"
       ]
      },
      {
       "output_type": "stream",
       "stream": "stdout",
       "text": [
        "[############-----------------------]  34.0% ... 4 / 81 position combinations\r"
       ]
      },
      {
       "output_type": "stream",
       "stream": "stdout",
       "text": [
        "[############-----------------------]  35.0% ... 4 / 81 position combinations\r"
       ]
      },
      {
       "output_type": "stream",
       "stream": "stdout",
       "text": [
        "[#############----------------------]  36.0% ... 4 / 81 position combinations\r"
       ]
      },
      {
       "output_type": "stream",
       "stream": "stdout",
       "text": [
        "[#############----------------------]  37.0% ... 4 / 81 position combinations\r"
       ]
      },
      {
       "output_type": "stream",
       "stream": "stdout",
       "text": [
        "[#############----------------------]  38.0% ... 4 / 81 position combinations\r"
       ]
      },
      {
       "output_type": "stream",
       "stream": "stdout",
       "text": [
        "[##############---------------------]  39.0% ... 4 / 81 position combinations\r"
       ]
      },
      {
       "output_type": "stream",
       "stream": "stdout",
       "text": [
        "[##############---------------------]  40.0% ... 4 / 81 position combinations\r"
       ]
      },
      {
       "output_type": "stream",
       "stream": "stdout",
       "text": [
        "[##############---------------------]  41.0% ... 4 / 81 position combinations\r"
       ]
      },
      {
       "output_type": "stream",
       "stream": "stdout",
       "text": [
        "[###############--------------------]  42.0% ... 4 / 81 position combinations\r"
       ]
      },
      {
       "output_type": "stream",
       "stream": "stdout",
       "text": [
        "[###############--------------------]  43.0% ... 4 / 81 position combinations\r"
       ]
      },
      {
       "output_type": "stream",
       "stream": "stdout",
       "text": [
        "[###############--------------------]  44.0% ... 4 / 81 position combinations\r"
       ]
      },
      {
       "output_type": "stream",
       "stream": "stdout",
       "text": [
        "[################-------------------]  45.0% ... 4 / 81 position combinations\r"
       ]
      },
      {
       "output_type": "stream",
       "stream": "stdout",
       "text": [
        "[################-------------------]  46.0% ... 4 / 81 position combinations\r"
       ]
      },
      {
       "output_type": "stream",
       "stream": "stdout",
       "text": [
        "[################-------------------]  47.0% ... 4 / 81 position combinations\r"
       ]
      },
      {
       "output_type": "stream",
       "stream": "stdout",
       "text": [
        "[#################------------------]  48.0% ... 4 / 81 position combinations\r"
       ]
      },
      {
       "output_type": "stream",
       "stream": "stdout",
       "text": [
        "[#################------------------]  49.0% ... 4 / 81 position combinations\r"
       ]
      },
      {
       "output_type": "stream",
       "stream": "stdout",
       "text": [
        "[##################-----------------]  50.0% ... 4 / 81 position combinations\r"
       ]
      },
      {
       "output_type": "stream",
       "stream": "stdout",
       "text": [
        "[##################-----------------]  51.0% ... 4 / 81 position combinations\r"
       ]
      },
      {
       "output_type": "stream",
       "stream": "stdout",
       "text": [
        "[##################-----------------]  52.0% ... 4 / 81 position combinations\r"
       ]
      },
      {
       "output_type": "stream",
       "stream": "stdout",
       "text": [
        "[###################----------------]  53.0% ... 4 / 81 position combinations\r"
       ]
      },
      {
       "output_type": "stream",
       "stream": "stdout",
       "text": [
        "[###################----------------]  54.0% ... 4 / 81 position combinations\r"
       ]
      },
      {
       "output_type": "stream",
       "stream": "stdout",
       "text": [
        "[###################----------------]  55.0% ... 4 / 81 position combinations\r"
       ]
      },
      {
       "output_type": "stream",
       "stream": "stdout",
       "text": [
        "[####################---------------]  56.0% ... 4 / 81 position combinations\r"
       ]
      },
      {
       "output_type": "stream",
       "stream": "stdout",
       "text": [
        "[####################---------------]  57.0% ... 4 / 81 position combinations\r"
       ]
      },
      {
       "output_type": "stream",
       "stream": "stdout",
       "text": [
        "[####################---------------]  58.0% ... 4 / 81 position combinations\r"
       ]
      },
      {
       "output_type": "stream",
       "stream": "stdout",
       "text": [
        "[#####################--------------]  59.0% ... 4 / 81 position combinations\r"
       ]
      },
      {
       "output_type": "stream",
       "stream": "stdout",
       "text": [
        "[#####################--------------]  60.0% ... 4 / 81 position combinations\r"
       ]
      },
      {
       "output_type": "stream",
       "stream": "stdout",
       "text": [
        "[#####################--------------]  61.0% ... 4 / 81 position combinations\r"
       ]
      },
      {
       "output_type": "stream",
       "stream": "stdout",
       "text": [
        "[######################-------------]  62.0% ... 4 / 81 position combinations\r"
       ]
      },
      {
       "output_type": "stream",
       "stream": "stdout",
       "text": [
        "[######################-------------]  63.0% ... 4 / 81 position combinations\r"
       ]
      },
      {
       "output_type": "stream",
       "stream": "stdout",
       "text": [
        "[######################-------------]  64.0% ... 4 / 81 position combinations\r"
       ]
      },
      {
       "output_type": "stream",
       "stream": "stdout",
       "text": [
        "[#######################------------]  65.0% ... 4 / 81 position combinations\r"
       ]
      },
      {
       "output_type": "stream",
       "stream": "stdout",
       "text": [
        "[#######################------------]  66.0% ... 4 / 81 position combinations\r"
       ]
      },
      {
       "output_type": "stream",
       "stream": "stdout",
       "text": [
        "[#######################------------]  67.0% ... 4 / 81 position combinations\r"
       ]
      },
      {
       "output_type": "stream",
       "stream": "stdout",
       "text": [
        "[########################-----------]  68.0% ... 4 / 81 position combinations\r"
       ]
      },
      {
       "output_type": "stream",
       "stream": "stdout",
       "text": [
        "[########################-----------]  69.0% ... 4 / 81 position combinations\r"
       ]
      },
      {
       "output_type": "stream",
       "stream": "stdout",
       "text": [
        "[#########################----------]  70.0% ... 4 / 81 position combinations\r"
       ]
      },
      {
       "output_type": "stream",
       "stream": "stdout",
       "text": [
        "[#########################----------]  71.0% ... 4 / 81 position combinations\r"
       ]
      },
      {
       "output_type": "stream",
       "stream": "stdout",
       "text": [
        "[#########################----------]  72.0% ... 4 / 81 position combinations\r"
       ]
      },
      {
       "output_type": "stream",
       "stream": "stdout",
       "text": [
        "[##########################---------]  73.0% ... 4 / 81 position combinations\r"
       ]
      },
      {
       "output_type": "stream",
       "stream": "stdout",
       "text": [
        "[##########################---------]  74.0% ... 4 / 81 position combinations\r"
       ]
      },
      {
       "output_type": "stream",
       "stream": "stdout",
       "text": [
        "[##########################---------]  75.0% ... 4 / 81 position combinations\r"
       ]
      },
      {
       "output_type": "stream",
       "stream": "stdout",
       "text": [
        "[###########################--------]  76.0% ... 4 / 81 position combinations\r"
       ]
      },
      {
       "output_type": "stream",
       "stream": "stdout",
       "text": [
        "[###########################--------]  77.0% ... 4 / 81 position combinations\r"
       ]
      },
      {
       "output_type": "stream",
       "stream": "stdout",
       "text": [
        "[###########################--------]  78.0% ... 4 / 81 position combinations\r"
       ]
      },
      {
       "output_type": "stream",
       "stream": "stdout",
       "text": [
        "[############################-------]  79.0% ... 4 / 81 position combinations\r"
       ]
      },
      {
       "output_type": "stream",
       "stream": "stdout",
       "text": [
        "[############################-------]  80.0% ... 4 / 81 position combinations\r"
       ]
      },
      {
       "output_type": "stream",
       "stream": "stdout",
       "text": [
        "[############################-------]  81.0% ... 4 / 81 position combinations\r"
       ]
      },
      {
       "output_type": "stream",
       "stream": "stdout",
       "text": [
        "[#############################------]  82.0% ... 4 / 81 position combinations\r"
       ]
      },
      {
       "output_type": "stream",
       "stream": "stdout",
       "text": [
        "[#############################------]  83.0% ... 4 / 81 position combinations\r"
       ]
      },
      {
       "output_type": "stream",
       "stream": "stdout",
       "text": [
        "[#############################------]  84.0% ... 4 / 81 position combinations\r"
       ]
      },
      {
       "output_type": "stream",
       "stream": "stdout",
       "text": [
        "[##############################-----]  85.0% ... 4 / 81 position combinations\r"
       ]
      },
      {
       "output_type": "stream",
       "stream": "stdout",
       "text": [
        "[##############################-----]  86.0% ... 4 / 81 position combinations\r"
       ]
      },
      {
       "output_type": "stream",
       "stream": "stdout",
       "text": [
        "[##############################-----]  87.0% ... 4 / 81 position combinations\r"
       ]
      },
      {
       "output_type": "stream",
       "stream": "stdout",
       "text": [
        "[###############################----]  88.0% ... 4 / 81 position combinations\r"
       ]
      },
      {
       "output_type": "stream",
       "stream": "stdout",
       "text": [
        "[###############################----]  89.0% ... 4 / 81 position combinations\r"
       ]
      },
      {
       "output_type": "stream",
       "stream": "stdout",
       "text": [
        "[################################---]  90.0% ... 4 / 81 position combinations\r"
       ]
      },
      {
       "output_type": "stream",
       "stream": "stdout",
       "text": [
        "[################################---]  91.0% ... 4 / 81 position combinations\r"
       ]
      },
      {
       "output_type": "stream",
       "stream": "stdout",
       "text": [
        "[################################---]  92.0% ... 4 / 81 position combinations\r"
       ]
      },
      {
       "output_type": "stream",
       "stream": "stdout",
       "text": [
        "[#################################--]  93.0% ... 4 / 81 position combinations\r"
       ]
      },
      {
       "output_type": "stream",
       "stream": "stdout",
       "text": [
        "[#################################--]  94.0% ... 4 / 81 position combinations\r"
       ]
      },
      {
       "output_type": "stream",
       "stream": "stdout",
       "text": [
        "[#################################--]  95.0% ... 4 / 81 position combinations\r"
       ]
      },
      {
       "output_type": "stream",
       "stream": "stdout",
       "text": [
        "[##################################-]  96.0% ... 4 / 81 position combinations\r"
       ]
      },
      {
       "output_type": "stream",
       "stream": "stdout",
       "text": [
        "[##################################-]  97.0% ... 4 / 81 position combinations\r"
       ]
      },
      {
       "output_type": "stream",
       "stream": "stdout",
       "text": [
        "[##################################-]  98.0% ... 4 / 81 position combinations\r"
       ]
      },
      {
       "output_type": "stream",
       "stream": "stdout",
       "text": [
        "[###################################] 100.0% ... 4 / 81 position combinations\r"
       ]
      },
      {
       "output_type": "stream",
       "stream": "stdout",
       "text": [
        "4    50.1\n",
        "Name: ax1, dtype: float64\n",
        "1    50.1\n",
        "2    50.1\n",
        "3    50.1\n",
        "4    50.1\n",
        "Name: ax1, dtype: float64\n",
        "[-----------------------------------]   0.0% ... 5 / 81 position combinations\r"
       ]
      },
      {
       "output_type": "stream",
       "stream": "stdout",
       "text": [
        "[-----------------------------------]   1.0% ... 5 / 81 position combinations\r"
       ]
      },
      {
       "output_type": "stream",
       "stream": "stdout",
       "text": [
        "[#----------------------------------]   2.0% ... 5 / 81 position combinations\r"
       ]
      },
      {
       "output_type": "stream",
       "stream": "stdout",
       "text": [
        "[#----------------------------------]   3.0% ... 5 / 81 position combinations\r"
       ]
      },
      {
       "output_type": "stream",
       "stream": "stdout",
       "text": [
        "[#----------------------------------]   4.0% ... 5 / 81 position combinations\r"
       ]
      },
      {
       "output_type": "stream",
       "stream": "stdout",
       "text": [
        "[##---------------------------------]   5.0% ... 5 / 81 position combinations\r"
       ]
      },
      {
       "output_type": "stream",
       "stream": "stdout",
       "text": [
        "[##---------------------------------]   6.0% ... 5 / 81 position combinations\r"
       ]
      },
      {
       "output_type": "stream",
       "stream": "stdout",
       "text": [
        "[##---------------------------------]   7.0% ... 5 / 81 position combinations\r"
       ]
      },
      {
       "output_type": "stream",
       "stream": "stdout",
       "text": [
        "[###--------------------------------]   8.0% ... 5 / 81 position combinations\r"
       ]
      },
      {
       "output_type": "stream",
       "stream": "stdout",
       "text": [
        "[###--------------------------------]   9.0% ... 5 / 81 position combinations\r"
       ]
      },
      {
       "output_type": "stream",
       "stream": "stdout",
       "text": [
        "[####-------------------------------]  10.0% ... 5 / 81 position combinations\r"
       ]
      },
      {
       "output_type": "stream",
       "stream": "stdout",
       "text": [
        "[####-------------------------------]  11.0% ... 5 / 81 position combinations\r"
       ]
      },
      {
       "output_type": "stream",
       "stream": "stdout",
       "text": [
        "[####-------------------------------]  12.0% ... 5 / 81 position combinations\r"
       ]
      },
      {
       "output_type": "stream",
       "stream": "stdout",
       "text": [
        "[#####------------------------------]  13.0% ... 5 / 81 position combinations\r"
       ]
      },
      {
       "output_type": "stream",
       "stream": "stdout",
       "text": [
        "[#####------------------------------]  14.0% ... 5 / 81 position combinations\r"
       ]
      },
      {
       "output_type": "stream",
       "stream": "stdout",
       "text": [
        "[#####------------------------------]  15.0% ... 5 / 81 position combinations\r"
       ]
      },
      {
       "output_type": "stream",
       "stream": "stdout",
       "text": [
        "[######-----------------------------]  16.0% ... 5 / 81 position combinations\r"
       ]
      },
      {
       "output_type": "stream",
       "stream": "stdout",
       "text": [
        "[######-----------------------------]  17.0% ... 5 / 81 position combinations\r"
       ]
      },
      {
       "output_type": "stream",
       "stream": "stdout",
       "text": [
        "[######-----------------------------]  18.0% ... 5 / 81 position combinations\r"
       ]
      },
      {
       "output_type": "stream",
       "stream": "stdout",
       "text": [
        "[#######----------------------------]  19.0% ... 5 / 81 position combinations\r"
       ]
      },
      {
       "output_type": "stream",
       "stream": "stdout",
       "text": [
        "[#######----------------------------]  20.0% ... 5 / 81 position combinations\r"
       ]
      },
      {
       "output_type": "stream",
       "stream": "stdout",
       "text": [
        "[#######----------------------------]  21.0% ... 5 / 81 position combinations\r"
       ]
      },
      {
       "output_type": "stream",
       "stream": "stdout",
       "text": [
        "[########---------------------------]  22.0% ... 5 / 81 position combinations\r"
       ]
      },
      {
       "output_type": "stream",
       "stream": "stdout",
       "text": [
        "[########---------------------------]  23.0% ... 5 / 81 position combinations\r"
       ]
      },
      {
       "output_type": "stream",
       "stream": "stdout",
       "text": [
        "[########---------------------------]  24.0% ... 5 / 81 position combinations\r"
       ]
      },
      {
       "output_type": "stream",
       "stream": "stdout",
       "text": [
        "[#########--------------------------]  25.0% ... 5 / 81 position combinations\r"
       ]
      },
      {
       "output_type": "stream",
       "stream": "stdout",
       "text": [
        "[#########--------------------------]  26.0% ... 5 / 81 position combinations\r"
       ]
      },
      {
       "output_type": "stream",
       "stream": "stdout",
       "text": [
        "[#########--------------------------]  27.0% ... 5 / 81 position combinations\r"
       ]
      },
      {
       "output_type": "stream",
       "stream": "stdout",
       "text": [
        "[##########-------------------------]  28.0% ... 5 / 81 position combinations\r"
       ]
      },
      {
       "output_type": "stream",
       "stream": "stdout",
       "text": [
        "[##########-------------------------]  29.0% ... 5 / 81 position combinations\r"
       ]
      },
      {
       "output_type": "stream",
       "stream": "stdout",
       "text": [
        "[###########------------------------]  30.0% ... 5 / 81 position combinations\r"
       ]
      },
      {
       "output_type": "stream",
       "stream": "stdout",
       "text": [
        "[###########------------------------]  31.0% ... 5 / 81 position combinations\r"
       ]
      },
      {
       "output_type": "stream",
       "stream": "stdout",
       "text": [
        "[###########------------------------]  32.0% ... 5 / 81 position combinations\r"
       ]
      },
      {
       "output_type": "stream",
       "stream": "stdout",
       "text": [
        "[############-----------------------]  33.0% ... 5 / 81 position combinations\r"
       ]
      },
      {
       "output_type": "stream",
       "stream": "stdout",
       "text": [
        "[############-----------------------]  34.0% ... 5 / 81 position combinations\r"
       ]
      },
      {
       "output_type": "stream",
       "stream": "stdout",
       "text": [
        "[############-----------------------]  35.0% ... 5 / 81 position combinations\r"
       ]
      },
      {
       "output_type": "stream",
       "stream": "stdout",
       "text": [
        "[#############----------------------]  36.0% ... 5 / 81 position combinations\r"
       ]
      },
      {
       "output_type": "stream",
       "stream": "stdout",
       "text": [
        "[#############----------------------]  37.0% ... 5 / 81 position combinations\r"
       ]
      },
      {
       "output_type": "stream",
       "stream": "stdout",
       "text": [
        "[#############----------------------]  38.0% ... 5 / 81 position combinations\r"
       ]
      },
      {
       "output_type": "stream",
       "stream": "stdout",
       "text": [
        "[##############---------------------]  39.0% ... 5 / 81 position combinations\r"
       ]
      },
      {
       "output_type": "stream",
       "stream": "stdout",
       "text": [
        "[##############---------------------]  40.0% ... 5 / 81 position combinations\r"
       ]
      },
      {
       "output_type": "stream",
       "stream": "stdout",
       "text": [
        "[##############---------------------]  41.0% ... 5 / 81 position combinations\r"
       ]
      },
      {
       "output_type": "stream",
       "stream": "stdout",
       "text": [
        "[###############--------------------]  42.0% ... 5 / 81 position combinations\r"
       ]
      },
      {
       "output_type": "stream",
       "stream": "stdout",
       "text": [
        "[###############--------------------]  43.0% ... 5 / 81 position combinations\r"
       ]
      },
      {
       "output_type": "stream",
       "stream": "stdout",
       "text": [
        "[###############--------------------]  44.0% ... 5 / 81 position combinations\r"
       ]
      },
      {
       "output_type": "stream",
       "stream": "stdout",
       "text": [
        "[################-------------------]  45.0% ... 5 / 81 position combinations\r"
       ]
      },
      {
       "output_type": "stream",
       "stream": "stdout",
       "text": [
        "[################-------------------]  46.0% ... 5 / 81 position combinations\r"
       ]
      },
      {
       "output_type": "stream",
       "stream": "stdout",
       "text": [
        "[################-------------------]  47.0% ... 5 / 81 position combinations\r"
       ]
      },
      {
       "output_type": "stream",
       "stream": "stdout",
       "text": [
        "[#################------------------]  48.0% ... 5 / 81 position combinations\r"
       ]
      },
      {
       "output_type": "stream",
       "stream": "stdout",
       "text": [
        "[#################------------------]  49.0% ... 5 / 81 position combinations\r"
       ]
      },
      {
       "output_type": "stream",
       "stream": "stdout",
       "text": [
        "[##################-----------------]  50.0% ... 5 / 81 position combinations\r"
       ]
      },
      {
       "output_type": "stream",
       "stream": "stdout",
       "text": [
        "[##################-----------------]  51.0% ... 5 / 81 position combinations\r"
       ]
      },
      {
       "output_type": "stream",
       "stream": "stdout",
       "text": [
        "[##################-----------------]  52.0% ... 5 / 81 position combinations\r"
       ]
      },
      {
       "output_type": "stream",
       "stream": "stdout",
       "text": [
        "[###################----------------]  53.0% ... 5 / 81 position combinations\r"
       ]
      },
      {
       "output_type": "stream",
       "stream": "stdout",
       "text": [
        "[###################----------------]  54.0% ... 5 / 81 position combinations\r"
       ]
      },
      {
       "output_type": "stream",
       "stream": "stdout",
       "text": [
        "[###################----------------]  55.0% ... 5 / 81 position combinations\r"
       ]
      },
      {
       "output_type": "stream",
       "stream": "stdout",
       "text": [
        "[####################---------------]  56.0% ... 5 / 81 position combinations\r"
       ]
      },
      {
       "output_type": "stream",
       "stream": "stdout",
       "text": [
        "[####################---------------]  57.0% ... 5 / 81 position combinations\r"
       ]
      },
      {
       "output_type": "stream",
       "stream": "stdout",
       "text": [
        "[####################---------------]  58.0% ... 5 / 81 position combinations\r"
       ]
      },
      {
       "output_type": "stream",
       "stream": "stdout",
       "text": [
        "[#####################--------------]  59.0% ... 5 / 81 position combinations\r"
       ]
      },
      {
       "output_type": "stream",
       "stream": "stdout",
       "text": [
        "[#####################--------------]  60.0% ... 5 / 81 position combinations\r"
       ]
      },
      {
       "output_type": "stream",
       "stream": "stdout",
       "text": [
        "[#####################--------------]  61.0% ... 5 / 81 position combinations\r"
       ]
      },
      {
       "output_type": "stream",
       "stream": "stdout",
       "text": [
        "[######################-------------]  62.0% ... 5 / 81 position combinations\r"
       ]
      },
      {
       "output_type": "stream",
       "stream": "stdout",
       "text": [
        "[######################-------------]  63.0% ... 5 / 81 position combinations\r"
       ]
      },
      {
       "output_type": "stream",
       "stream": "stdout",
       "text": [
        "[######################-------------]  64.0% ... 5 / 81 position combinations\r"
       ]
      },
      {
       "output_type": "stream",
       "stream": "stdout",
       "text": [
        "[#######################------------]  65.0% ... 5 / 81 position combinations\r"
       ]
      },
      {
       "output_type": "stream",
       "stream": "stdout",
       "text": [
        "[#######################------------]  66.0% ... 5 / 81 position combinations\r"
       ]
      },
      {
       "output_type": "stream",
       "stream": "stdout",
       "text": [
        "[#######################------------]  67.0% ... 5 / 81 position combinations\r"
       ]
      },
      {
       "output_type": "stream",
       "stream": "stdout",
       "text": [
        "[########################-----------]  68.0% ... 5 / 81 position combinations\r"
       ]
      },
      {
       "output_type": "stream",
       "stream": "stdout",
       "text": [
        "[########################-----------]  69.0% ... 5 / 81 position combinations\r"
       ]
      },
      {
       "output_type": "stream",
       "stream": "stdout",
       "text": [
        "[#########################----------]  70.0% ... 5 / 81 position combinations\r"
       ]
      },
      {
       "output_type": "stream",
       "stream": "stdout",
       "text": [
        "[#########################----------]  71.0% ... 5 / 81 position combinations\r"
       ]
      },
      {
       "output_type": "stream",
       "stream": "stdout",
       "text": [
        "[#########################----------]  72.0% ... 5 / 81 position combinations\r"
       ]
      },
      {
       "output_type": "stream",
       "stream": "stdout",
       "text": [
        "[##########################---------]  73.0% ... 5 / 81 position combinations\r"
       ]
      },
      {
       "output_type": "stream",
       "stream": "stdout",
       "text": [
        "[##########################---------]  74.0% ... 5 / 81 position combinations\r"
       ]
      },
      {
       "output_type": "stream",
       "stream": "stdout",
       "text": [
        "[##########################---------]  75.0% ... 5 / 81 position combinations\r"
       ]
      },
      {
       "output_type": "stream",
       "stream": "stdout",
       "text": [
        "[###########################--------]  76.0% ... 5 / 81 position combinations\r"
       ]
      },
      {
       "output_type": "stream",
       "stream": "stdout",
       "text": [
        "[###########################--------]  77.0% ... 5 / 81 position combinations\r"
       ]
      },
      {
       "output_type": "stream",
       "stream": "stdout",
       "text": [
        "[###########################--------]  78.0% ... 5 / 81 position combinations\r"
       ]
      },
      {
       "output_type": "stream",
       "stream": "stdout",
       "text": [
        "[############################-------]  79.0% ... 5 / 81 position combinations\r"
       ]
      },
      {
       "output_type": "stream",
       "stream": "stdout",
       "text": [
        "[############################-------]  80.0% ... 5 / 81 position combinations\r"
       ]
      },
      {
       "output_type": "stream",
       "stream": "stdout",
       "text": [
        "[############################-------]  81.0% ... 5 / 81 position combinations\r"
       ]
      },
      {
       "output_type": "stream",
       "stream": "stdout",
       "text": [
        "[#############################------]  82.0% ... 5 / 81 position combinations\r"
       ]
      },
      {
       "output_type": "stream",
       "stream": "stdout",
       "text": [
        "[#############################------]  83.0% ... 5 / 81 position combinations\r"
       ]
      },
      {
       "output_type": "stream",
       "stream": "stdout",
       "text": [
        "[#############################------]  84.0% ... 5 / 81 position combinations\r"
       ]
      },
      {
       "output_type": "stream",
       "stream": "stdout",
       "text": [
        "[##############################-----]  85.0% ... 5 / 81 position combinations\r"
       ]
      },
      {
       "output_type": "stream",
       "stream": "stdout",
       "text": [
        "[##############################-----]  86.0% ... 5 / 81 position combinations\r"
       ]
      },
      {
       "output_type": "stream",
       "stream": "stdout",
       "text": [
        "[##############################-----]  87.0% ... 5 / 81 position combinations\r"
       ]
      },
      {
       "output_type": "stream",
       "stream": "stdout",
       "text": [
        "[###############################----]  88.0% ... 5 / 81 position combinations\r"
       ]
      },
      {
       "output_type": "stream",
       "stream": "stdout",
       "text": [
        "[###############################----]  89.0% ... 5 / 81 position combinations\r"
       ]
      },
      {
       "output_type": "stream",
       "stream": "stdout",
       "text": [
        "[################################---]  90.0% ... 5 / 81 position combinations\r"
       ]
      },
      {
       "output_type": "stream",
       "stream": "stdout",
       "text": [
        "[################################---]  91.0% ... 5 / 81 position combinations\r"
       ]
      },
      {
       "output_type": "stream",
       "stream": "stdout",
       "text": [
        "[################################---]  92.0% ... 5 / 81 position combinations\r"
       ]
      },
      {
       "output_type": "stream",
       "stream": "stdout",
       "text": [
        "[#################################--]  93.0% ... 5 / 81 position combinations\r"
       ]
      },
      {
       "output_type": "stream",
       "stream": "stdout",
       "text": [
        "[#################################--]  94.0% ... 5 / 81 position combinations\r"
       ]
      },
      {
       "output_type": "stream",
       "stream": "stdout",
       "text": [
        "[#################################--]  95.0% ... 5 / 81 position combinations\r"
       ]
      },
      {
       "output_type": "stream",
       "stream": "stdout",
       "text": [
        "[##################################-]  96.0% ... 5 / 81 position combinations\r"
       ]
      },
      {
       "output_type": "stream",
       "stream": "stdout",
       "text": [
        "[##################################-]  97.0% ... 5 / 81 position combinations\r"
       ]
      },
      {
       "output_type": "stream",
       "stream": "stdout",
       "text": [
        "[##################################-]  98.0% ... 5 / 81 position combinations\r"
       ]
      },
      {
       "output_type": "stream",
       "stream": "stdout",
       "text": [
        "[###################################] 100.0% ... 5 / 81 position combinations\r"
       ]
      },
      {
       "output_type": "stream",
       "stream": "stdout",
       "text": [
        "5    50.1\n",
        "Name: ax1, dtype: float64\n",
        "1    50.1\n",
        "2    50.1\n",
        "3    50.1\n",
        "4    50.1\n",
        "5    50.1\n",
        "Name: ax1, dtype: float64\n",
        "[-----------------------------------]   0.0% ... 6 / 81 position combinations\r"
       ]
      },
      {
       "output_type": "stream",
       "stream": "stdout",
       "text": [
        "[-----------------------------------]   1.0% ... 6 / 81 position combinations\r"
       ]
      },
      {
       "output_type": "stream",
       "stream": "stdout",
       "text": [
        "[#----------------------------------]   2.0% ... 6 / 81 position combinations\r"
       ]
      },
      {
       "output_type": "stream",
       "stream": "stdout",
       "text": [
        "[#----------------------------------]   3.0% ... 6 / 81 position combinations\r"
       ]
      },
      {
       "output_type": "stream",
       "stream": "stdout",
       "text": [
        "[#----------------------------------]   4.0% ... 6 / 81 position combinations\r"
       ]
      },
      {
       "output_type": "stream",
       "stream": "stdout",
       "text": [
        "[##---------------------------------]   5.0% ... 6 / 81 position combinations\r"
       ]
      },
      {
       "output_type": "stream",
       "stream": "stdout",
       "text": [
        "[##---------------------------------]   6.0% ... 6 / 81 position combinations\r"
       ]
      },
      {
       "output_type": "stream",
       "stream": "stdout",
       "text": [
        "[##---------------------------------]   7.0% ... 6 / 81 position combinations\r"
       ]
      },
      {
       "output_type": "stream",
       "stream": "stdout",
       "text": [
        "[###--------------------------------]   8.0% ... 6 / 81 position combinations\r"
       ]
      },
      {
       "output_type": "stream",
       "stream": "stdout",
       "text": [
        "[###--------------------------------]   9.0% ... 6 / 81 position combinations\r"
       ]
      },
      {
       "output_type": "stream",
       "stream": "stdout",
       "text": [
        "[####-------------------------------]  10.0% ... 6 / 81 position combinations\r"
       ]
      },
      {
       "output_type": "stream",
       "stream": "stdout",
       "text": [
        "[####-------------------------------]  11.0% ... 6 / 81 position combinations\r"
       ]
      },
      {
       "output_type": "stream",
       "stream": "stdout",
       "text": [
        "[####-------------------------------]  12.0% ... 6 / 81 position combinations\r"
       ]
      },
      {
       "output_type": "stream",
       "stream": "stdout",
       "text": [
        "[#####------------------------------]  13.0% ... 6 / 81 position combinations\r"
       ]
      },
      {
       "output_type": "stream",
       "stream": "stdout",
       "text": [
        "[#####------------------------------]  14.0% ... 6 / 81 position combinations\r"
       ]
      },
      {
       "output_type": "stream",
       "stream": "stdout",
       "text": [
        "[#####------------------------------]  15.0% ... 6 / 81 position combinations\r"
       ]
      },
      {
       "output_type": "stream",
       "stream": "stdout",
       "text": [
        "[######-----------------------------]  16.0% ... 6 / 81 position combinations\r"
       ]
      },
      {
       "output_type": "stream",
       "stream": "stdout",
       "text": [
        "[######-----------------------------]  17.0% ... 6 / 81 position combinations\r"
       ]
      },
      {
       "output_type": "stream",
       "stream": "stdout",
       "text": [
        "[######-----------------------------]  18.0% ... 6 / 81 position combinations\r"
       ]
      },
      {
       "output_type": "stream",
       "stream": "stdout",
       "text": [
        "[#######----------------------------]  19.0% ... 6 / 81 position combinations\r"
       ]
      },
      {
       "output_type": "stream",
       "stream": "stdout",
       "text": [
        "[#######----------------------------]  20.0% ... 6 / 81 position combinations\r"
       ]
      },
      {
       "output_type": "stream",
       "stream": "stdout",
       "text": [
        "[#######----------------------------]  21.0% ... 6 / 81 position combinations\r"
       ]
      },
      {
       "output_type": "stream",
       "stream": "stdout",
       "text": [
        "[########---------------------------]  22.0% ... 6 / 81 position combinations\r"
       ]
      },
      {
       "output_type": "stream",
       "stream": "stdout",
       "text": [
        "[########---------------------------]  23.0% ... 6 / 81 position combinations\r"
       ]
      },
      {
       "output_type": "stream",
       "stream": "stdout",
       "text": [
        "[########---------------------------]  24.0% ... 6 / 81 position combinations\r"
       ]
      },
      {
       "output_type": "stream",
       "stream": "stdout",
       "text": [
        "[#########--------------------------]  25.0% ... 6 / 81 position combinations\r"
       ]
      },
      {
       "output_type": "stream",
       "stream": "stdout",
       "text": [
        "[#########--------------------------]  26.0% ... 6 / 81 position combinations\r"
       ]
      },
      {
       "output_type": "stream",
       "stream": "stdout",
       "text": [
        "[#########--------------------------]  27.0% ... 6 / 81 position combinations\r"
       ]
      },
      {
       "output_type": "stream",
       "stream": "stdout",
       "text": [
        "[##########-------------------------]  28.0% ... 6 / 81 position combinations\r"
       ]
      },
      {
       "output_type": "stream",
       "stream": "stdout",
       "text": [
        "[##########-------------------------]  29.0% ... 6 / 81 position combinations\r"
       ]
      },
      {
       "output_type": "stream",
       "stream": "stdout",
       "text": [
        "[###########------------------------]  30.0% ... 6 / 81 position combinations\r"
       ]
      },
      {
       "output_type": "stream",
       "stream": "stdout",
       "text": [
        "[###########------------------------]  31.0% ... 6 / 81 position combinations\r"
       ]
      },
      {
       "output_type": "stream",
       "stream": "stdout",
       "text": [
        "[###########------------------------]  32.0% ... 6 / 81 position combinations\r"
       ]
      },
      {
       "output_type": "stream",
       "stream": "stdout",
       "text": [
        "[############-----------------------]  33.0% ... 6 / 81 position combinations\r"
       ]
      },
      {
       "output_type": "stream",
       "stream": "stdout",
       "text": [
        "[############-----------------------]  34.0% ... 6 / 81 position combinations\r"
       ]
      },
      {
       "output_type": "stream",
       "stream": "stdout",
       "text": [
        "[############-----------------------]  35.0% ... 6 / 81 position combinations\r"
       ]
      },
      {
       "output_type": "stream",
       "stream": "stdout",
       "text": [
        "[#############----------------------]  36.0% ... 6 / 81 position combinations\r"
       ]
      },
      {
       "output_type": "stream",
       "stream": "stdout",
       "text": [
        "[#############----------------------]  37.0% ... 6 / 81 position combinations\r"
       ]
      },
      {
       "output_type": "stream",
       "stream": "stdout",
       "text": [
        "[#############----------------------]  38.0% ... 6 / 81 position combinations\r"
       ]
      },
      {
       "output_type": "stream",
       "stream": "stdout",
       "text": [
        "[##############---------------------]  39.0% ... 6 / 81 position combinations\r"
       ]
      },
      {
       "output_type": "stream",
       "stream": "stdout",
       "text": [
        "[##############---------------------]  40.0% ... 6 / 81 position combinations\r"
       ]
      },
      {
       "output_type": "stream",
       "stream": "stdout",
       "text": [
        "[##############---------------------]  41.0% ... 6 / 81 position combinations\r"
       ]
      },
      {
       "output_type": "stream",
       "stream": "stdout",
       "text": [
        "[###############--------------------]  42.0% ... 6 / 81 position combinations\r"
       ]
      },
      {
       "output_type": "stream",
       "stream": "stdout",
       "text": [
        "[###############--------------------]  43.0% ... 6 / 81 position combinations\r"
       ]
      },
      {
       "output_type": "stream",
       "stream": "stdout",
       "text": [
        "[###############--------------------]  44.0% ... 6 / 81 position combinations\r"
       ]
      },
      {
       "output_type": "stream",
       "stream": "stdout",
       "text": [
        "[################-------------------]  45.0% ... 6 / 81 position combinations\r"
       ]
      },
      {
       "output_type": "stream",
       "stream": "stdout",
       "text": [
        "[################-------------------]  46.0% ... 6 / 81 position combinations\r"
       ]
      },
      {
       "output_type": "stream",
       "stream": "stdout",
       "text": [
        "[################-------------------]  47.0% ... 6 / 81 position combinations\r"
       ]
      },
      {
       "output_type": "stream",
       "stream": "stdout",
       "text": [
        "[#################------------------]  48.0% ... 6 / 81 position combinations\r"
       ]
      },
      {
       "output_type": "stream",
       "stream": "stdout",
       "text": [
        "[#################------------------]  49.0% ... 6 / 81 position combinations\r"
       ]
      },
      {
       "output_type": "stream",
       "stream": "stdout",
       "text": [
        "[##################-----------------]  50.0% ... 6 / 81 position combinations\r"
       ]
      },
      {
       "output_type": "stream",
       "stream": "stdout",
       "text": [
        "[##################-----------------]  51.0% ... 6 / 81 position combinations\r"
       ]
      },
      {
       "output_type": "stream",
       "stream": "stdout",
       "text": [
        "[##################-----------------]  52.0% ... 6 / 81 position combinations\r"
       ]
      },
      {
       "output_type": "stream",
       "stream": "stdout",
       "text": [
        "[###################----------------]  53.0% ... 6 / 81 position combinations\r"
       ]
      },
      {
       "output_type": "stream",
       "stream": "stdout",
       "text": [
        "[###################----------------]  54.0% ... 6 / 81 position combinations\r"
       ]
      },
      {
       "output_type": "stream",
       "stream": "stdout",
       "text": [
        "[###################----------------]  55.0% ... 6 / 81 position combinations\r"
       ]
      },
      {
       "output_type": "stream",
       "stream": "stdout",
       "text": [
        "[####################---------------]  56.0% ... 6 / 81 position combinations\r"
       ]
      },
      {
       "output_type": "stream",
       "stream": "stdout",
       "text": [
        "[####################---------------]  57.0% ... 6 / 81 position combinations\r"
       ]
      },
      {
       "output_type": "stream",
       "stream": "stdout",
       "text": [
        "[####################---------------]  58.0% ... 6 / 81 position combinations\r"
       ]
      },
      {
       "output_type": "stream",
       "stream": "stdout",
       "text": [
        "[#####################--------------]  59.0% ... 6 / 81 position combinations\r"
       ]
      },
      {
       "output_type": "stream",
       "stream": "stdout",
       "text": [
        "[#####################--------------]  60.0% ... 6 / 81 position combinations\r"
       ]
      },
      {
       "output_type": "stream",
       "stream": "stdout",
       "text": [
        "[#####################--------------]  61.0% ... 6 / 81 position combinations\r"
       ]
      },
      {
       "output_type": "stream",
       "stream": "stdout",
       "text": [
        "[######################-------------]  62.0% ... 6 / 81 position combinations\r"
       ]
      },
      {
       "output_type": "stream",
       "stream": "stdout",
       "text": [
        "[######################-------------]  63.0% ... 6 / 81 position combinations\r"
       ]
      },
      {
       "output_type": "stream",
       "stream": "stdout",
       "text": [
        "[######################-------------]  64.0% ... 6 / 81 position combinations\r"
       ]
      },
      {
       "output_type": "stream",
       "stream": "stdout",
       "text": [
        "[#######################------------]  65.0% ... 6 / 81 position combinations\r"
       ]
      },
      {
       "output_type": "stream",
       "stream": "stdout",
       "text": [
        "[#######################------------]  66.0% ... 6 / 81 position combinations\r"
       ]
      },
      {
       "output_type": "stream",
       "stream": "stdout",
       "text": [
        "[#######################------------]  67.0% ... 6 / 81 position combinations\r"
       ]
      },
      {
       "output_type": "stream",
       "stream": "stdout",
       "text": [
        "[########################-----------]  68.0% ... 6 / 81 position combinations\r"
       ]
      },
      {
       "output_type": "stream",
       "stream": "stdout",
       "text": [
        "[########################-----------]  69.0% ... 6 / 81 position combinations\r"
       ]
      },
      {
       "output_type": "stream",
       "stream": "stdout",
       "text": [
        "[#########################----------]  70.0% ... 6 / 81 position combinations\r"
       ]
      },
      {
       "output_type": "stream",
       "stream": "stdout",
       "text": [
        "[#########################----------]  71.0% ... 6 / 81 position combinations\r"
       ]
      },
      {
       "output_type": "stream",
       "stream": "stdout",
       "text": [
        "[#########################----------]  72.0% ... 6 / 81 position combinations\r"
       ]
      },
      {
       "output_type": "stream",
       "stream": "stdout",
       "text": [
        "[##########################---------]  73.0% ... 6 / 81 position combinations\r"
       ]
      },
      {
       "output_type": "stream",
       "stream": "stdout",
       "text": [
        "[##########################---------]  74.0% ... 6 / 81 position combinations\r"
       ]
      },
      {
       "output_type": "stream",
       "stream": "stdout",
       "text": [
        "[##########################---------]  75.0% ... 6 / 81 position combinations\r"
       ]
      },
      {
       "output_type": "stream",
       "stream": "stdout",
       "text": [
        "[###########################--------]  76.0% ... 6 / 81 position combinations\r"
       ]
      },
      {
       "output_type": "stream",
       "stream": "stdout",
       "text": [
        "[###########################--------]  77.0% ... 6 / 81 position combinations\r"
       ]
      },
      {
       "output_type": "stream",
       "stream": "stdout",
       "text": [
        "[###########################--------]  78.0% ... 6 / 81 position combinations\r"
       ]
      },
      {
       "output_type": "stream",
       "stream": "stdout",
       "text": [
        "[############################-------]  79.0% ... 6 / 81 position combinations\r"
       ]
      },
      {
       "output_type": "stream",
       "stream": "stdout",
       "text": [
        "[############################-------]  80.0% ... 6 / 81 position combinations\r"
       ]
      },
      {
       "output_type": "stream",
       "stream": "stdout",
       "text": [
        "[############################-------]  81.0% ... 6 / 81 position combinations\r"
       ]
      },
      {
       "output_type": "stream",
       "stream": "stdout",
       "text": [
        "[#############################------]  82.0% ... 6 / 81 position combinations\r"
       ]
      },
      {
       "output_type": "stream",
       "stream": "stdout",
       "text": [
        "[#############################------]  83.0% ... 6 / 81 position combinations\r"
       ]
      },
      {
       "output_type": "stream",
       "stream": "stdout",
       "text": [
        "[#############################------]  84.0% ... 6 / 81 position combinations\r"
       ]
      },
      {
       "output_type": "stream",
       "stream": "stdout",
       "text": [
        "[##############################-----]  85.0% ... 6 / 81 position combinations\r"
       ]
      },
      {
       "output_type": "stream",
       "stream": "stdout",
       "text": [
        "[##############################-----]  86.0% ... 6 / 81 position combinations\r"
       ]
      },
      {
       "output_type": "stream",
       "stream": "stdout",
       "text": [
        "[##############################-----]  87.0% ... 6 / 81 position combinations\r"
       ]
      },
      {
       "output_type": "stream",
       "stream": "stdout",
       "text": [
        "[###############################----]  88.0% ... 6 / 81 position combinations\r"
       ]
      },
      {
       "output_type": "stream",
       "stream": "stdout",
       "text": [
        "[###############################----]  89.0% ... 6 / 81 position combinations\r"
       ]
      },
      {
       "output_type": "stream",
       "stream": "stdout",
       "text": [
        "[################################---]  90.0% ... 6 / 81 position combinations\r"
       ]
      },
      {
       "output_type": "stream",
       "stream": "stdout",
       "text": [
        "[################################---]  91.0% ... 6 / 81 position combinations\r"
       ]
      },
      {
       "output_type": "stream",
       "stream": "stdout",
       "text": [
        "[################################---]  92.0% ... 6 / 81 position combinations\r"
       ]
      },
      {
       "output_type": "stream",
       "stream": "stdout",
       "text": [
        "[#################################--]  93.0% ... 6 / 81 position combinations\r"
       ]
      },
      {
       "output_type": "stream",
       "stream": "stdout",
       "text": [
        "[#################################--]  94.0% ... 6 / 81 position combinations\r"
       ]
      },
      {
       "output_type": "stream",
       "stream": "stdout",
       "text": [
        "[#################################--]  95.0% ... 6 / 81 position combinations\r"
       ]
      },
      {
       "output_type": "stream",
       "stream": "stdout",
       "text": [
        "[##################################-]  96.0% ... 6 / 81 position combinations\r"
       ]
      }
     ],
     "prompt_number": "*"
    },
    {
     "cell_type": "code",
     "collapsed": false,
     "input": [],
     "language": "python",
     "metadata": {},
     "outputs": []
    }
   ],
   "metadata": {}
  }
 ]
}