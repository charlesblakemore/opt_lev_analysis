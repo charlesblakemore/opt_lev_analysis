{
 "metadata": {
  "name": ""
 },
 "nbformat": 3,
 "nbformat_minor": 0,
 "worksheets": [
  {
   "cells": [
    {
     "cell_type": "code",
     "collapsed": false,
     "input": [
      "import numpy as np\n",
      "import matplotlib.pyplot as plt\n",
      "import matplotlib.mlab\n",
      "from scipy.optimize import curve_fit\n",
      "from scipy import interpolate\n"
     ],
     "language": "python",
     "metadata": {},
     "outputs": [],
     "prompt_number": 6
    },
    {
     "cell_type": "code",
     "collapsed": false,
     "input": [
      "import bead_util as bu"
     ],
     "language": "python",
     "metadata": {},
     "outputs": [],
     "prompt_number": 7
    },
    {
     "cell_type": "code",
     "collapsed": false,
     "input": [
      "def HOPSD(w, w0, g, A):\n",
      "    return A/(w0**4*((2*w*g/w0)**2 + (1 - (w/w0)**2)**2))"
     ],
     "language": "python",
     "metadata": {},
     "outputs": [],
     "prompt_number": 8
    },
    {
     "cell_type": "code",
     "collapsed": false,
     "input": [
      "path = \"/data/20180904/bead1/bead_mass_good\"\n",
      "files  = bu.find_all_fnames(path)"
     ],
     "language": "python",
     "metadata": {},
     "outputs": [
      {
       "output_type": "stream",
       "stream": "stdout",
       "text": [
        "Finding files in: \n",
        "/data/20180904/bead1/bead_mass_good\n"
       ]
      },
      {
       "output_type": "stream",
       "stream": "stdout",
       "text": [
        "Found 21 files...\n"
       ]
      }
     ],
     "prompt_number": 9
    },
    {
     "cell_type": "code",
     "collapsed": false,
     "input": [
      "phipbit = 0.0000833"
     ],
     "language": "python",
     "metadata": {},
     "outputs": [],
     "prompt_number": 10
    },
    {
     "cell_type": "code",
     "collapsed": false,
     "input": [
      "len(files)"
     ],
     "language": "python",
     "metadata": {},
     "outputs": [
      {
       "metadata": {},
       "output_type": "pyout",
       "prompt_number": 11,
       "text": [
        "21"
       ]
      }
     ],
     "prompt_number": 11
    },
    {
     "cell_type": "code",
     "collapsed": false,
     "input": [
      "poptsx = []\n",
      "pcovsx= []\n",
      "poptsy = []\n",
      "pcovsy = []\n",
      "elec1s = []\n",
      "zsb = []\n",
      "zfb = []\n",
      "Asx = []\n",
      "Asy = []\n",
      "for f in files:\n",
      "    df = bu.DataFile()\n",
      "    df.load(f)\n",
      "    psdx, freqs = matplotlib.mlab.psd(df.pos_data[0, :], Fs = df.fsamp, NFFT = 2**14)\n",
      "    psdy, freqs = matplotlib.mlab.psd(df.pos_data[1, :], Fs = df.fsamp, NFFT = 2**14)\n",
      "    Ncut = 10\n",
      "    Nx = np.sum(psdx[Ncut:])\n",
      "    Ny = np.sum(psdy[Ncut:])\n",
      "    p0 = [2.*np.pi*300., .1, 1.E6]\n",
      "    try:\n",
      "        poptx, pcovx = curve_fit(HOPSD, freqs[Ncut:]*2.*np.pi, psdx[Ncut:]/Nx, p0)\n",
      "        popty, pcovy = curve_fit(HOPSD, freqs[Ncut:]*2.*np.pi, psdy[Ncut:]/Ny, p0)\n",
      "        elec1 = np.mean(df.electrode_data[1])\n",
      "        #plt.loglog(freqs, psd, '.')\n",
      "        #plt.plot(freqs, HOPSD(freqs*2.*np.pi, *popt)*N, 'r')\n",
      "    except RuntimeError:\n",
      "        poptx = np.empty_like(poptx)\n",
      "        poptx[:] = np.nan\n",
      "        pcovx = np.empty_like(pcovx)\n",
      "        pcovx[:] = np.nan\n",
      "        popty = np.empty_like(popty)\n",
      "        popty[:] = np.nan\n",
      "        pcovy = np.empty_like(pcovy)\n",
      "        pcovy[:] = np.nan\n",
      "    elec1s.append(elec1)    \n",
      "    poptsx.append(poptx)\n",
      "    pcovsx.append(np.diag(pcovx))\n",
      "    poptsy.append(popty)\n",
      "    pcovsy.append(np.diag(pcovy))\n",
      "    zsb.append(np.mean(df.pos_data[2]))\n",
      "    zfb.append(np.mean(df.pos_fb[2]))\n",
      "    Asx.append(poptx[-1])\n",
      "    Asy.append(popty[-1])\n",
      "poptsx = np.array(poptsx)\n",
      "pcovsx = np.array(pcovsx)\n",
      "poptsy = np.array(poptsy)\n",
      "pcovsy = np.array(pcovsy)\n",
      "zfb = np.array(zfb)\n",
      "elec1s = np.array(elec1s)\n",
      "zsb = np.array(zsb)*phipbit/4"
     ],
     "language": "python",
     "metadata": {},
     "outputs": [],
     "prompt_number": 15
    },
    {
     "cell_type": "code",
     "collapsed": false,
     "input": [
      "plt.plot(zsb, 'o')\n",
      "plt.show()"
     ],
     "language": "python",
     "metadata": {},
     "outputs": [],
     "prompt_number": 755
    },
    {
     "cell_type": "code",
     "collapsed": false,
     "input": [
      "plt.errorbar(elec1s/4e-3, np.abs(poptsx[:, 0])/(2.*np.pi), np.sqrt(pcovsx[:, 0])/(2.*np.pi), fmt = 'o', label = \"X\")\n",
      "plt.errorbar(elec1s/4e-3, np.abs(poptsy[:, 0])/(2.*np.pi), np.sqrt(pcovsy[:, 0])/(2.*np.pi), fmt = 'o', label = \"Y\")\n",
      "plt.legend()\n",
      "plt.xlabel(r\"Axial electric field [V/m]\")\n",
      "plt.ylabel(\"resonant frequency [Hz]\")\n",
      "#plt.ylim([0, 500])\n",
      "plt.show()"
     ],
     "language": "python",
     "metadata": {},
     "outputs": [],
     "prompt_number": 17
    },
    {
     "cell_type": "code",
     "collapsed": false,
     "input": [
      "data = np.loadtxt(\"power_v_bits.csv\", skiprows = 2, delimiter = ',')"
     ],
     "language": "python",
     "metadata": {},
     "outputs": [],
     "prompt_number": 18
    },
    {
     "cell_type": "code",
     "collapsed": false,
     "input": [
      "power = interpolate.interp1d(data[:, 0], 2.*data[:, 1])"
     ],
     "language": "python",
     "metadata": {},
     "outputs": [],
     "prompt_number": 19
    },
    {
     "cell_type": "code",
     "collapsed": false,
     "input": [
      "plt.plot(data[:, 0], 2.*data[:, 1], 'o')\n",
      "plt.plot(data[:, 0], power(data[:, 0]), 'r')\n",
      "plt.xlabel(\"bits\")\n",
      "plt.ylabel(\"power [mW]\")\n",
      "plt.show()"
     ],
     "language": "python",
     "metadata": {},
     "outputs": [],
     "prompt_number": 20
    },
    {
     "cell_type": "code",
     "collapsed": false,
     "input": [
      "def lin(x, m, b):\n",
      "    return m*x + b"
     ],
     "language": "python",
     "metadata": {},
     "outputs": [],
     "prompt_number": 24
    },
    {
     "cell_type": "code",
     "collapsed": false,
     "input": [
      "E = elec1s/4e-3\n",
      "popt, pcov = curve_fit(lin, E, power(zfb))\n",
      "sigxi = np.sqrt(pcov[1, 1]/popt[0]**2 + np.abs(popt[1])*pcov[0, 0]/popt[0]**2)\n",
      "plt.plot(E, power(zfb), 'o')\n",
      "plt.plot(E, lin(E, *popt), label = \"x intercept = \"+str(-1.*popt[1]/popt[0])[:4] + r\"$\\pm$\" + str(sigxi)[:2]+\"V/m\")\n",
      "plt.legend()\n",
      "plt.xlabel(\"electric field [V/m]\")\n",
      "plt.ylabel(\"levitation power [mW]\")\n",
      "plt.show()"
     ],
     "language": "python",
     "metadata": {},
     "outputs": [],
     "prompt_number": 33
    },
    {
     "cell_type": "code",
     "collapsed": false,
     "input": [
      "def cost_test(params, ptrue = [0.12, -21., 0.8]):\n",
      "    na, z0, a = params\n",
      "    return np.sum((fitz(zsb[bz*bf], *params) - fitz(zsb[bz*bf], *ptrue))**2)"
     ],
     "language": "python",
     "metadata": {},
     "outputs": [],
     "prompt_number": 742
    },
    {
     "cell_type": "code",
     "collapsed": false,
     "input": [
      "import scipy.optimize\n",
      "res  = scipy.optimize.minimize(cost, [0.1, -0, 1], bounds = [[0.09, 0.15], [-30, -10], [0.7, 0.9]])\n",
      "res2  = scipy.optimize.minimize(cost_test, [0.1, -0, 1], bounds = [[0.09, 0.15], [-30, -10], [0.7, 0.9]])"
     ],
     "language": "python",
     "metadata": {},
     "outputs": [],
     "prompt_number": 743
    },
    {
     "cell_type": "code",
     "collapsed": false,
     "input": [
      "res2"
     ],
     "language": "python",
     "metadata": {},
     "outputs": [
      {
       "metadata": {},
       "output_type": "pyout",
       "prompt_number": 745,
       "text": [
        "      fun: 1.2710667589853745e-12\n",
        " hess_inv: <3x3 LbfgsInvHessProduct with dtype=float64>\n",
        "      jac: array([ 2.31264654e-06, -3.13509966e-09,  1.19767960e-05])\n",
        "  message: 'CONVERGENCE: REL_REDUCTION_OF_F_<=_FACTR*EPSMCH'\n",
        "     nfev: 144\n",
        "      nit: 24\n",
        "   status: 0\n",
        "  success: True\n",
        "        x: array([  0.12000008, -20.99999664,   0.80000021])"
       ]
      }
     ],
     "prompt_number": 745
    },
    {
     "cell_type": "code",
     "collapsed": false,
     "input": [
      "cz = lambda z: cost([0.111, z, 0.800])\n",
      "plt.plot(np.linspace(-40, 0, 100), map(cz, np.linspace(-40, 0, 100)))\n",
      "plt.xlabel(r\"displacement [$\\lambda$]\")\n",
      "plt.ylabel(\"cost\")\n",
      "plt.show()"
     ],
     "language": "python",
     "metadata": {},
     "outputs": [],
     "prompt_number": 749
    },
    {
     "cell_type": "code",
     "collapsed": false,
     "input": [
      "bz = (zfb<-10000)*(np.abs(zfb)<2**15)\n",
      "po = 0.294\n",
      "plt.plot(zsb[bz*bf], (po)/power(zfb[bz*bf]), 'o')\n",
      "plt.plot(zsb[bz], fitz(zsb[bz], *res.x), label = \"NA: \" +  str(res.x[0])[:6] + \", z0: \"+ str(res.x[1])[:5])\n",
      "plt.xlabel(r\"displacement [$\\mu m$]\")\n",
      "plt.ylabel(\"trapping efficiency\")\n",
      "plt.legend()\n",
      "plt.show()"
     ],
     "language": "python",
     "metadata": {},
     "outputs": [],
     "prompt_number": 747
    },
    {
     "cell_type": "code",
     "collapsed": false,
     "input": [
      "popt\n",
      "pcov"
     ],
     "language": "python",
     "metadata": {},
     "outputs": [
      {
       "metadata": {},
       "output_type": "pyout",
       "prompt_number": 678,
       "text": [
        "array([[2.59713167e-07, 3.25895252e-06],\n",
        "       [3.25895252e-06, 1.18133679e-02]])"
       ]
      }
     ],
     "prompt_number": 678
    }
   ],
   "metadata": {}
  }
 ]
}