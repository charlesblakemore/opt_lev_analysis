{
 "metadata": {
  "name": ""
 },
 "nbformat": 3,
 "nbformat_minor": 0,
 "worksheets": [
  {
   "cells": [
    {
     "cell_type": "code",
     "collapsed": false,
     "input": [
      "import numpy as np\n",
      "import matplotlib.pyplot as plt\n",
      "import matplotlib.mlab\n"
     ],
     "language": "python",
     "metadata": {},
     "outputs": [],
     "prompt_number": 2
    },
    {
     "cell_type": "code",
     "collapsed": false,
     "input": [
      "import bead_util as bu"
     ],
     "language": "python",
     "metadata": {},
     "outputs": [],
     "prompt_number": 3
    },
    {
     "cell_type": "code",
     "collapsed": false,
     "input": [
      "path = \"/data/20180827/bead2/500e_data/shield/dipole_v_height_ydrive_no_bias\"\n",
      "files  = bu.find_all_fnames(path)"
     ],
     "language": "python",
     "metadata": {},
     "outputs": [
      {
       "output_type": "stream",
       "stream": "stdout",
       "text": [
        "Finding files in: \n",
        "/data/20180827/bead2/500e_data/shield/dipole_v_height_ydrive_no_bias\n"
       ]
      },
      {
       "output_type": "stream",
       "stream": "stdout",
       "text": [
        "Found 162 files...\n"
       ]
      }
     ],
     "prompt_number": 99
    },
    {
     "cell_type": "code",
     "collapsed": false,
     "input": [
      "d_res = 5\n",
      "x = []\n",
      "y = []\n",
      "z = []\n",
      "fx = []\n",
      "fy = []\n",
      "fz = []\n",
      "dcps = []\n",
      "for f in files:\n",
      "    df = bu.DataFile()\n",
      "    df.load(f)\n",
      "    df.calibrate_stage_position()\n",
      "    df.diagonalize()\n",
      "    df.get_force_v_pos()\n",
      "    dax = df.get_cant_drive_ax()\n",
      "    dcp = np.mean(df.cant_data, axis = -1)\n",
      "    dcps.append(dcp)\n",
      "    y.append(np.array(df.binned_data)[0, 0, ::d_res])\n",
      "    x.append(np.ones_like(df.binned_data)[0, 0, ::d_res]*dcp[0])\n",
      "    z.append(np.ones_like(df.binned_data)[0, 0, ::d_res]*dcp[2])\n",
      "    fx.append(np.array(df.binned_data)[0, 1, ::d_res]*df.conv_facs[0])\n",
      "    fy.append(np.array(df.binned_data)[1, 1, ::d_res]*df.conv_facs[1])\n",
      "    fz.append(np.array(df.binned_data)[2, 1, ::d_res]*df.conv_facs[2])\n",
      "    \n",
      "x = np.array(x)\n",
      "y = np.array(y)\n",
      "z = np.array(z)\n",
      "fx = np.array(fx)\n",
      "fy = np.array(fy)\n",
      "fz = np.array(fz)"
     ],
     "language": "python",
     "metadata": {},
     "outputs": [],
     "prompt_number": 100
    },
    {
     "cell_type": "code",
     "collapsed": false,
     "input": [
      "#xns = np.array(x)\n",
      "#yns = np.array(y)\n",
      "#zns = np.array(z)\n",
      "#fxns = np.array(fx)\n",
      "#fyns = np.array(fy)\n",
      "#fzns = np.array(fz)"
     ],
     "language": "python",
     "metadata": {},
     "outputs": [],
     "prompt_number": 96
    },
    {
     "cell_type": "code",
     "collapsed": false,
     "input": [
      "plt.hist(np.vstack(x), bins = 100)\n",
      "plt.show()"
     ],
     "language": "python",
     "metadata": {},
     "outputs": [],
     "prompt_number": 90
    },
    {
     "cell_type": "code",
     "collapsed": false,
     "input": [
      "zsel = np.abs((z.flatten()-6))<1000\n",
      "xsel = np.abs((x.flatten()-80))<1\n",
      "zselns = np.abs((zns.flatten()-6))<1000\n",
      "xselns = np.abs((xns.flatten()-80))<1\n",
      "fig, ax = plt.subplots()\n",
      "q = ax.quiver(40 - y.flatten()[xsel], 15 - z.flatten()[xsel], fx.flatten()[xsel], fz.flatten()[xsel], label = 'shield')\n",
      "q = ax.quiver(40 - yns.flatten()[xselns], 15 - zns.flatten()[xselns], fxns.flatten()[xselns], fzns.flatten()[xselns], color = 'r', label = 'no shield')\n",
      "plt.legend()\n",
      "plt.xlabel(r\"y [$\\mu m$], $f_{x}$\")\n",
      "plt.ylabel(r\"height [$\\mu m$], $f_{z}$\")\n",
      "ax.quiverkey(q, X = 0.5, Y = 1.05, U = 10**-15, label = r'length = $10^{-15}$N')\n",
      "plt.show()"
     ],
     "language": "python",
     "metadata": {},
     "outputs": [],
     "prompt_number": 107
    },
    {
     "cell_type": "code",
     "collapsed": false,
     "input": [
      "plt.plot(x.flatten(), y.flatten(), 'o')\n",
      "plt.show()"
     ],
     "language": "python",
     "metadata": {},
     "outputs": [],
     "prompt_number": 28
    },
    {
     "cell_type": "code",
     "collapsed": false,
     "input": [
      "plt.plot(x.flatten(), 'o')\n",
      "plt.show()"
     ],
     "language": "python",
     "metadata": {},
     "outputs": [],
     "prompt_number": 67
    }
   ],
   "metadata": {}
  }
 ]
}