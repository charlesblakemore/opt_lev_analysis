{
 "metadata": {
  "name": ""
 },
 "nbformat": 3,
 "nbformat_minor": 0,
 "worksheets": [
  {
   "cells": [
    {
     "cell_type": "code",
     "collapsed": false,
     "input": [
      "import numpy as np\n",
      "import matplotlib.pyplot as plt\n",
      "import matplotlib.mlab\n",
      "from scipy.optimize import curve_fit\n",
      "from scipy import interpolate\n",
      "import scipy.signal as ss\n",
      "\n"
     ],
     "language": "python",
     "metadata": {},
     "outputs": [],
     "prompt_number": 6
    },
    {
     "cell_type": "code",
     "collapsed": false,
     "input": [
      "1+1"
     ],
     "language": "python",
     "metadata": {},
     "outputs": [],
     "prompt_number": "*"
    },
    {
     "cell_type": "code",
     "collapsed": false,
     "input": [
      "import bead_util as bu"
     ],
     "language": "python",
     "metadata": {},
     "outputs": [],
     "prompt_number": 7
    },
    {
     "cell_type": "code",
     "collapsed": false,
     "input": [
      "def HOPSD(w, w0, g, A):\n",
      "    return A/(w0**4*((2*w*g/w0)**2 + (1 - (w/w0)**2)**2))\n",
      "def HOASD(w, w0, g, A):\n",
      "    return np.sqrt(HOPSD(w, w0, g, A))"
     ],
     "language": "python",
     "metadata": {},
     "outputs": [],
     "prompt_number": 8
    },
    {
     "cell_type": "code",
     "collapsed": false,
     "input": [
      "path = \"/data/20180904/bead1/freq_stab/high_pressure_1V_50s\"\n",
      "files  = bu.find_all_fnames(path)"
     ],
     "language": "python",
     "metadata": {},
     "outputs": [
      {
       "output_type": "stream",
       "stream": "stdout",
       "text": [
        "Finding files in: \n",
        "/data/20180904/bead1/freq_stab/high_pressure_1V_50s\n"
       ]
      },
      {
       "output_type": "stream",
       "stream": "stdout",
       "text": [
        "Found 779 files...\n"
       ]
      }
     ],
     "prompt_number": 65
    },
    {
     "cell_type": "code",
     "collapsed": false,
     "input": [
      "phipbit = 0.0000833"
     ],
     "language": "python",
     "metadata": {},
     "outputs": [],
     "prompt_number": 277
    },
    {
     "cell_type": "code",
     "collapsed": false,
     "input": [
      "df = bu.DataFile()\n",
      "df.load(files[0])\n",
      "df.diagonalize()\n",
      "cf = df.conv_facs"
     ],
     "language": "python",
     "metadata": {},
     "outputs": [],
     "prompt_number": 66
    },
    {
     "cell_type": "code",
     "collapsed": false,
     "input": [
      "freqs = np.fft.rfftfreq(250000, d = 1./5000.)\n",
      "bf_min = freqs>5\n",
      "b, a = ss.butter(3, 0.01)\n",
      "elec_data = np.abs(np.fft.rfft(ss.detrend(df.electrode_data[3])))\n",
      "pos_data = np.abs(np.fft.rfft(ss.detrend(df.pos_data[0])))*cf[0]*2./250000\n",
      "\n",
      "med_filt = ss.medfilt(elec_data, kernel_size = 49)\n",
      "noise = ss.filtfilt(b, a, ss.medfilt(pos_data))\n",
      "snr = elec_data/med_filt\n",
      "b_drive = snr>50.\n",
      "bt = b_drive*bf_min\n",
      "p0 = [400., .010, 10**-10]\n",
      "popt, pcov = curve_fit(HOASD, freqs[bt], pos_data[bt], sigma = noise[bt], p0 = p0)\n",
      "plt.loglog(freqs, pos_data)\n",
      "plt.loglog(freqs[bt], pos_data[bt], 'o')\n",
      "plt.loglog(freqs, noise)\n",
      "plt.loglog(freqs[bt], HOASD(freqs[bt], *popt), 'r')\n",
      "plt.xlabel(\"frequency [Hz]\")\n",
      "plt.ylabel(\"Response [N]\")\n",
      "plt.show()"
     ],
     "language": "python",
     "metadata": {},
     "outputs": [],
     "prompt_number": 67
    },
    {
     "cell_type": "code",
     "collapsed": false,
     "input": [
      "np.mean(df.pos_fb, axis = -1)"
     ],
     "language": "python",
     "metadata": {},
     "outputs": [
      {
       "metadata": {},
       "output_type": "pyout",
       "prompt_number": 39,
       "text": [
        "array([-3.16000000e-04,  7.16000000e-04, -1.78576631e+04])"
       ]
      }
     ],
     "prompt_number": 39
    },
    {
     "cell_type": "code",
     "collapsed": false,
     "input": [
      "popts06 = []\n",
      "pcovs06 = []\n",
      "times06 = []\n",
      "zfbs06 = []\n",
      "for f in files:\n",
      "    try:\n",
      "        df = bu.DataFile()\n",
      "        df.load(f)\n",
      "        pos_data = np.abs(np.fft.rfft(ss.detrend(df.pos_data[0])))*cf[0]\n",
      "        noise = ss.filtfilt(b, a, ss.medfilt(pos_data))\n",
      "        popt, pcov = curve_fit(HOASD, freqs[bt], pos_data[bt], sigma = noise[bt], p0 = p0)\n",
      "        popts06.append(popt)\n",
      "        pcovs06.append(pcov)\n",
      "        times06.append(df.time)\n",
      "        zfbs06.append(np.mean(df.pos_fb, axis = -1))\n",
      "    except:\n",
      "        continue\n",
      "    \n",
      "popts06 = np.array(popts06)\n",
      "pcovs06 = np.array(pcovs06)"
     ],
     "language": "python",
     "metadata": {},
     "outputs": [],
     "prompt_number": 68
    },
    {
     "cell_type": "code",
     "collapsed": false,
     "input": [
      "bf = np.array(zfbs)[:, -1]<-17000\n",
      "bf06 = np.array(zfbs06)[:, -1]<-17000\n",
      "plt.plot((np.array(times)[bf]-min(times))/10**9, power(np.array(zfbs)[bf, -1]), 'o', label = 'low pressure')\n",
      "plt.plot((np.array(times06)[bf06]-min(times))/10**9, power(np.array(zfbs06)[bf06, -1]), 'o', label = \"1.4 mbar\")\n",
      "plt.legend()\n",
      "plt.xlabel(\"time[s]\")\n",
      "plt.ylabel(\"levitation power [mW]\")\n",
      "plt.show()"
     ],
     "language": "python",
     "metadata": {},
     "outputs": [],
     "prompt_number": 73
    },
    {
     "cell_type": "code",
     "collapsed": false,
     "input": [
      "plt.errorbar((times06-min(times))/10**9, popts06[:, 0], np.sqrt(pcovs06[:, 0, 0]), fmt = 'o', label = \"1.4 mbar\")\n",
      "plt.xlabel(\"times [s]\")\n",
      "plt.ylabel(\"resonant frequency [Hz]\")\n",
      "plt.legend()\n",
      "plt.show()"
     ],
     "language": "python",
     "metadata": {},
     "outputs": [],
     "prompt_number": 72
    },
    {
     "cell_type": "code",
     "collapsed": false,
     "input": [
      "m = 10**-13\n",
      "plt.errorbar((times-min(times))/10**9, (popts[:, 0]*2.*np.pi)**2*m, 8*np.pi**2*popts[:, 0]*m*np.sqrt(pcovs[:, 0, 0]), fmt = 'o')\n",
      "plt.xlabel(\"times [s]\")\n",
      "plt.ylim([0, 6e-7])\n",
      "plt.ylabel(\"spring constant [N/m]\")\n",
      "plt.show()"
     ],
     "language": "python",
     "metadata": {},
     "outputs": [],
     "prompt_number": 62
    },
    {
     "cell_type": "code",
     "collapsed": false,
     "input": [
      "plt.errorbar(zsb, np.abs(poptsx[:, 0])/(2.*np.pi), np.sqrt(pcovsx[:, 0])/(2.*np.pi), fmt = 'o', label = \"X\")\n",
      "plt.errorbar(zsb, np.abs(poptsy[:, 0])/(2.*np.pi), np.sqrt(pcovsy[:, 0])/(2.*np.pi), fmt = 'o', label = \"Y\")\n",
      "plt.legend()\n",
      "plt.xlabel(r\"displacement[$\\mu m$]\")\n",
      "plt.ylabel(\"resonant frequency [Hz]\")\n",
      "plt.ylim([0, 500])\n",
      "plt.show()"
     ],
     "language": "python",
     "metadata": {},
     "outputs": [],
     "prompt_number": 771
    },
    {
     "cell_type": "code",
     "collapsed": false,
     "input": [
      "plt.errorbar(zs*4/phipbit, np.abs(poptsx[:, 0])/(2.*np.pi), np.sqrt(pcovsx[:, 0])/(2.*np.pi), fmt = 'o', label = \"X\")\n",
      "plt.errorbar(zs*4/phipbit, np.abs(poptsy[:, 0])/(2.*np.pi), np.sqrt(pcovsy[:, 0])/(2.*np.pi), fmt = 'o', label = \"Y\")\n",
      "plt.legend()\n",
      "plt.xlabel(r\"displacement[$\\mu m$]\")\n",
      "plt.ylabel(\"resonant frequency [Hz]\")\n",
      "plt.ylim([0, 500])\n",
      "plt.show()"
     ],
     "language": "python",
     "metadata": {},
     "outputs": [],
     "prompt_number": 341
    },
    {
     "cell_type": "code",
     "collapsed": false,
     "input": [
      "data = np.loadtxt(\"power_v_bits.csv\", skiprows = 2, delimiter = ',')"
     ],
     "language": "python",
     "metadata": {},
     "outputs": [],
     "prompt_number": 45
    },
    {
     "cell_type": "code",
     "collapsed": false,
     "input": [
      "power = interpolate.interp1d(data[:, 0], 2.*data[:, 1])"
     ],
     "language": "python",
     "metadata": {},
     "outputs": [],
     "prompt_number": 46
    },
    {
     "cell_type": "code",
     "collapsed": false,
     "input": [
      "plt.plot(data[:, 0], 2.*data[:, 1], 'o')\n",
      "plt.plot(data[:, 0], power(data[:, 0]), 'r')\n",
      "plt.xlabel(\"bits\")\n",
      "plt.ylabel(\"power [mW]\")\n",
      "plt.show()"
     ],
     "language": "python",
     "metadata": {},
     "outputs": [],
     "prompt_number": 757
    },
    {
     "cell_type": "code",
     "collapsed": false,
     "input": [
      "b = (zfb<-10000)*(np.abs(zfb)<2**15)\n",
      "plt.plot(zsb, power(zfb), 'o')\n",
      "plt.xlabel(r\"displacement [$\\mu m$]\")\n",
      "plt.ylabel(\"plev[mW]\")\n",
      "plt.show()"
     ],
     "language": "python",
     "metadata": {},
     "outputs": [],
     "prompt_number": 761
    },
    {
     "cell_type": "code",
     "collapsed": false,
     "input": [
      "po = 0.294\n",
      "plt.plot(zsb, (po)/power(zfb), 'o')\n",
      "plt.xlabel(r\"displacement [$\\mu m$]\")\n",
      "plt.ylabel(\"trapping efficiency\")\n",
      "plt.show()"
     ],
     "language": "python",
     "metadata": {},
     "outputs": [],
     "prompt_number": 760
    },
    {
     "cell_type": "code",
     "collapsed": false,
     "input": [
      "import re\n",
      "import glob\n",
      "cal_files = glob.glob(\"fzdata_NA/*\")\n",
      "fzs = []\n",
      "nas = []\n",
      "zs = []\n",
      "for f in cal_files:\n",
      "    data = np.loadtxt(f)\n",
      "    nums = re.findall(r'\\d+', f)\n",
      "    na = float(nums[0] + '.' + nums[1])\n",
      "    fzs.append(data[:, 1])\n",
      "    nas.append(na)\n",
      "    zs.append(data[:, 0])\n",
      "inds = np.argsort(np.array(nas))\n",
      "fzs = np.array(fzs)[inds]\n",
      "nas = np.array(nas)[inds]\n",
      "zs = np.array(zs)"
     ],
     "language": "python",
     "metadata": {},
     "outputs": [],
     "prompt_number": 656
    },
    {
     "cell_type": "code",
     "collapsed": false,
     "input": [
      "nas = np.array(nas)\n",
      "fzs = np.array(fzs)\n",
      "zs = np.array(zs)\n",
      "b = nas>= 0.085\n",
      "nas = nas[b]\n",
      "fzs = fzs[b]\n",
      "zs = zs[b]\n",
      "inds  = np.argsort(nas)\n",
      "\n",
      "for i, fz in enumerate(np.array(fzs)[inds]):\n",
      "    plt.plot(data[:, 0], fz, label = str(nas[inds[i]]))\n",
      "plt.legend()\n",
      "plt.xlabel(r'Axial displacement [$\\lambda$]')\n",
      "plt.ylabel('Axial trapping displacement')\n",
      "plt.show()\n"
     ],
     "language": "python",
     "metadata": {},
     "outputs": [],
     "prompt_number": 657
    },
    {
     "cell_type": "code",
     "collapsed": false,
     "input": [
      "nas_full = np.einsum('ij,i->ij', np.array(map(np.ones_like, fzs)), nas)"
     ],
     "language": "python",
     "metadata": {},
     "outputs": [],
     "prompt_number": 658
    },
    {
     "cell_type": "code",
     "collapsed": false,
     "input": [
      "zs.flatten()"
     ],
     "language": "python",
     "metadata": {},
     "outputs": [
      {
       "metadata": {},
       "output_type": "pyout",
       "prompt_number": 583,
       "text": [
        "array([-50.  , -48.99, -47.98, ...,  47.98,  48.99,  50.  ])"
       ]
      }
     ],
     "prompt_number": 583
    },
    {
     "cell_type": "code",
     "collapsed": false,
     "input": [
      "zs[0].shape"
     ],
     "language": "python",
     "metadata": {},
     "outputs": [
      {
       "metadata": {},
       "output_type": "pyout",
       "prompt_number": 608,
       "text": [
        "(100,)"
       ]
      }
     ],
     "prompt_number": 608
    },
    {
     "cell_type": "code",
     "collapsed": false,
     "input": [
      "from scipy import interpolate\n",
      "fz = interpolate.interp2d(zs[0], nas, fzs, kind = 'linear')"
     ],
     "language": "python",
     "metadata": {},
     "outputs": [],
     "prompt_number": 670
    },
    {
     "cell_type": "code",
     "collapsed": false,
     "input": [
      "pinds = (np.abs(zs.flatten()-1.52)<.1)\n",
      "plt.plot(np.linspace(0.09, 0.15, 100), fz(1.52, np.linspace(0.09, 0.15, 100)), 'o')\n",
      "plt.plot(nas_full.flatten()[pinds], fzs.flatten()[pinds], 'or')\n",
      "plt.show()"
     ],
     "language": "python",
     "metadata": {},
     "outputs": [],
     "prompt_number": 671
    },
    {
     "cell_type": "code",
     "collapsed": false,
     "input": [
      "np.arange(-40, 40, 100)"
     ],
     "language": "python",
     "metadata": {},
     "outputs": [
      {
       "metadata": {},
       "output_type": "pyout",
       "prompt_number": 615,
       "text": [
        "array([-40])"
       ]
      }
     ],
     "prompt_number": 615
    },
    {
     "cell_type": "code",
     "collapsed": false,
     "input": [
      "plt.plot(np.linspace(-50, 50, 100), fz(np.linspace(-50, 50, 100), .10), 'o')\n",
      "plt.plot(np.linspace(-50, 50, 100), fz(np.linspace(-50, 50, 100), .1025), 'o')\n",
      "plt.plot(np.linspace(-50, 50, 100), fz(np.linspace(-50, 50, 100), .105), 'o')\n",
      "plt.plot(np.linspace(-50, 50, 100), fz(np.linspace(-50, 50, 100), .1075), 'o')\n",
      "plt.plot(np.linspace(-50, 50, 100), fz(np.linspace(-50, 50, 100), .11), 'o')\n",
      "plt.show()"
     ],
     "language": "python",
     "metadata": {},
     "outputs": [],
     "prompt_number": 710
    },
    {
     "cell_type": "code",
     "collapsed": false,
     "input": [
      "plt.plot(zs.flatten()[pinds], 'o')\n",
      "plt.show()"
     ],
     "language": "python",
     "metadata": {},
     "outputs": [],
     "prompt_number": 598
    },
    {
     "cell_type": "code",
     "collapsed": false,
     "input": [
      "def fitz(z, na, z0, a):\n",
      "    return a*fz(z-z0, na)"
     ],
     "language": "python",
     "metadata": {},
     "outputs": [],
     "prompt_number": 721
    },
    {
     "cell_type": "code",
     "collapsed": false,
     "input": [
      "z = np.linspace(-30, 30, 60)\n",
      "plt.plot(z, fitz(z, 0.0975, 0), 'r')\n",
      "plt.plot(z, fitz(z, 0.1, 0))\n",
      "plt.plot(z, fitz(z, 0.1025, 0))\n",
      "plt.show()"
     ],
     "language": "python",
     "metadata": {},
     "outputs": [],
     "prompt_number": 675
    },
    {
     "cell_type": "code",
     "collapsed": false,
     "input": [
      "bf = zsb>-55\n",
      "p0 = [0.11, -25]\n",
      "popt, pcov = curve_fit(fitz, zsb[bz*bf], (po)/power(zfb[bz*bf]), p0 = p0)"
     ],
     "language": "python",
     "metadata": {},
     "outputs": [],
     "prompt_number": 676
    },
    {
     "cell_type": "code",
     "collapsed": false,
     "input": [
      "def cost(params):\n",
      "    na, z0, a = params\n",
      "    return np.sum((fitz(zsb[bz*bf], na, z0, a) - (po)/power(zfb[bz*bf]))**2)"
     ],
     "language": "python",
     "metadata": {},
     "outputs": [],
     "prompt_number": 722
    },
    {
     "cell_type": "code",
     "collapsed": false,
     "input": [
      "def cost_test(params, ptrue = [0.12, -21., 0.8]):\n",
      "    na, z0, a = params\n",
      "    return np.sum((fitz(zsb[bz*bf], *params) - fitz(zsb[bz*bf], *ptrue))**2)"
     ],
     "language": "python",
     "metadata": {},
     "outputs": [],
     "prompt_number": 742
    },
    {
     "cell_type": "code",
     "collapsed": false,
     "input": [
      "import scipy.optimize\n",
      "res  = scipy.optimize.minimize(cost, [0.1, -0, 1], bounds = [[0.09, 0.15], [-30, -10], [0.7, 0.9]])\n",
      "res2  = scipy.optimize.minimize(cost_test, [0.1, -0, 1], bounds = [[0.09, 0.15], [-30, -10], [0.7, 0.9]])"
     ],
     "language": "python",
     "metadata": {},
     "outputs": [],
     "prompt_number": 743
    },
    {
     "cell_type": "code",
     "collapsed": false,
     "input": [
      "res2"
     ],
     "language": "python",
     "metadata": {},
     "outputs": [
      {
       "metadata": {},
       "output_type": "pyout",
       "prompt_number": 745,
       "text": [
        "      fun: 1.2710667589853745e-12\n",
        " hess_inv: <3x3 LbfgsInvHessProduct with dtype=float64>\n",
        "      jac: array([ 2.31264654e-06, -3.13509966e-09,  1.19767960e-05])\n",
        "  message: 'CONVERGENCE: REL_REDUCTION_OF_F_<=_FACTR*EPSMCH'\n",
        "     nfev: 144\n",
        "      nit: 24\n",
        "   status: 0\n",
        "  success: True\n",
        "        x: array([  0.12000008, -20.99999664,   0.80000021])"
       ]
      }
     ],
     "prompt_number": 745
    },
    {
     "cell_type": "code",
     "collapsed": false,
     "input": [
      "cz = lambda z: cost([0.111, z, 0.800])\n",
      "plt.plot(np.linspace(-40, 0, 100), map(cz, np.linspace(-40, 0, 100)))\n",
      "plt.xlabel(r\"displacement [$\\lambda$]\")\n",
      "plt.ylabel(\"cost\")\n",
      "plt.show()"
     ],
     "language": "python",
     "metadata": {},
     "outputs": [],
     "prompt_number": 749
    },
    {
     "cell_type": "code",
     "collapsed": false,
     "input": [
      "bz = (zfb<-10000)*(np.abs(zfb)<2**15)\n",
      "po = 0.294\n",
      "plt.plot(zsb[bz*bf], (po)/power(zfb[bz*bf]), 'o')\n",
      "plt.plot(zsb[bz], fitz(zsb[bz], *res.x), label = \"NA: \" +  str(res.x[0])[:6] + \", z0: \"+ str(res.x[1])[:5])\n",
      "plt.xlabel(r\"displacement [$\\mu m$]\")\n",
      "plt.ylabel(\"trapping efficiency\")\n",
      "plt.legend()\n",
      "plt.show()"
     ],
     "language": "python",
     "metadata": {},
     "outputs": [],
     "prompt_number": 747
    },
    {
     "cell_type": "code",
     "collapsed": false,
     "input": [
      "popt\n",
      "pcov"
     ],
     "language": "python",
     "metadata": {},
     "outputs": [
      {
       "metadata": {},
       "output_type": "pyout",
       "prompt_number": 678,
       "text": [
        "array([[2.59713167e-07, 3.25895252e-06],\n",
        "       [3.25895252e-06, 1.18133679e-02]])"
       ]
      }
     ],
     "prompt_number": 678
    }
   ],
   "metadata": {}
  }
 ]
}