{
 "metadata": {
  "name": ""
 },
 "nbformat": 3,
 "nbformat_minor": 0,
 "worksheets": [
  {
   "cells": [
    {
     "cell_type": "code",
     "collapsed": false,
     "input": [
      "import numpy as np\n",
      "import matplotlib.pyplot as plt\n",
      "import matplotlib.mlab\n",
      "import scipy.interpolate as si\n",
      "import scipy.constants as sc\n"
     ],
     "language": "python",
     "metadata": {},
     "outputs": [],
     "prompt_number": 1
    },
    {
     "cell_type": "code",
     "collapsed": false,
     "input": [
      "from scipy.optimize import curve_fit\n",
      "from scipy.stats import sem"
     ],
     "language": "python",
     "metadata": {},
     "outputs": [],
     "prompt_number": 2
    },
    {
     "cell_type": "code",
     "collapsed": false,
     "input": [
      "import bead_util as bu"
     ],
     "language": "python",
     "metadata": {},
     "outputs": [],
     "prompt_number": 3
    },
    {
     "cell_type": "code",
     "collapsed": false,
     "input": [
      "path = \"/data/20180827/bead2/500e_data/dipole_v_height_no_v_ysweep\"\n",
      "files  = bu.find_all_fnames(path)"
     ],
     "language": "python",
     "metadata": {},
     "outputs": [
      {
       "output_type": "stream",
       "stream": "stdout",
       "text": [
        "Finding files in: \n",
        "/data/20180827/bead2/500e_data/dipole_v_height_no_v_ysweep\n"
       ]
      },
      {
       "output_type": "stream",
       "stream": "stdout",
       "text": [
        "Found 162 files...\n"
       ]
      }
     ],
     "prompt_number": 4
    },
    {
     "cell_type": "code",
     "collapsed": false,
     "input": [
      "d_res = 5\n",
      "x = []\n",
      "y = []\n",
      "z = []\n",
      "fx = []\n",
      "fy = []\n",
      "fz = []\n",
      "dcps = []\n",
      "yinterp_points = np.linspace(5, 75, 20)\n",
      "for f in files:\n",
      "    df = bu.DataFile()\n",
      "    df.load(f)\n",
      "    df.calibrate_stage_position()\n",
      "    df.diagonalize()\n",
      "    df.get_force_v_pos()\n",
      "    dax = df.get_cant_drive_ax()\n",
      "    dcp = np.array([df.stage_settings['x DC'], df.stage_settings['y DC'], df.stage_settings['z DC']])\n",
      "    dcps.append(dcp)\n",
      "    ydrive = np.array(df.binned_data)\n",
      "    #df.binned_data = np.random.randn(np.shape(df.binned_data))*10**-16\n",
      "    ifx = si.interp1d(np.array(df.binned_data)[0, 0, ::d_res], np.array(df.binned_data)[0, 1, ::d_res]*df.conv_facs[0])\n",
      "    ify = si.interp1d(np.array(df.binned_data)[0, 0, ::d_res], np.array(df.binned_data)[1, 1, ::d_res]*df.conv_facs[1])\n",
      "    ifz = si.interp1d(np.array(df.binned_data)[0, 0, ::d_res], np.array(df.binned_data)[2, 1, ::d_res]*df.conv_facs[2])\n",
      "    y.append(yinterp_points)\n",
      "    x.append(np.ones_like(yinterp_points)*dcp[0])\n",
      "    z.append(np.ones_like(yinterp_points)*dcp[2])\n",
      "    fx.append(ifx(yinterp_points))\n",
      "    fy.append(ify(yinterp_points))\n",
      "    fz.append(ifz(yinterp_points))\n",
      "    \n",
      "x = np.array(x)\n",
      "y = np.array(y)\n",
      "z = np.array(z)\n",
      "fx = np.array(fx)\n",
      "fy = np.array(fy)\n",
      "fz = np.array(fz)"
     ],
     "language": "python",
     "metadata": {},
     "outputs": [],
     "prompt_number": 5
    },
    {
     "cell_type": "code",
     "collapsed": false,
     "input": [
      "#xns = np.array(x)\n",
      "#yns = np.array(y)\n",
      "#zns = np.array(z)\n",
      "#fxns = np.array(fx)\n",
      "#fyns = np.array(fy)\n",
      "#fzns = np.array(fz)"
     ],
     "language": "python",
     "metadata": {},
     "outputs": [],
     "prompt_number": 96
    },
    {
     "cell_type": "code",
     "collapsed": false,
     "input": [
      "plt.hist(np.vstack(x), bins = 100)\n",
      "plt.show()"
     ],
     "language": "python",
     "metadata": {},
     "outputs": [],
     "prompt_number": 143
    },
    {
     "cell_type": "code",
     "collapsed": false,
     "input": [
      "zsel = np.abs((z.flatten()-6))<1000\n",
      "xsel = np.abs((x.flatten()-80))<1\n",
      "fig, ax = plt.subplots()\n",
      "q = ax.quiver(40 - y.flatten()[xsel], 15 - z.flatten()[xsel], fx.flatten()[xsel], fz.flatten()[xsel])\n",
      "#plt.legend()\n",
      "plt.xlabel(r\"y [$\\mu m$], $f_{y}$\")\n",
      "plt.ylabel(r\"height [$\\mu m$], $f_{z}$\")\n",
      "ax.quiverkey(q, X = 0.5, Y = 1.05, U = 10**-15, label = r'length = $10^{-15}$N')\n",
      "plt.show()"
     ],
     "language": "python",
     "metadata": {},
     "outputs": [],
     "prompt_number": 6
    },
    {
     "cell_type": "code",
     "collapsed": false,
     "input": [
      "xint = np.unique(x.flatten())\n",
      "yint = np.unique(y.flatten())\n",
      "zint = np.unique(z.flatten())\n"
     ],
     "language": "python",
     "metadata": {},
     "outputs": [],
     "prompt_number": 6
    },
    {
     "cell_type": "code",
     "collapsed": false,
     "input": [
      "fgridx = np.zeros((len(xint), len(yint), len(zint)))\n",
      "fgridy = np.zeros((len(xint), len(yint), len(zint)))\n",
      "fgridz = np.zeros((len(xint), len(yint), len(zint)))\n",
      "for i in range(len(xint)):\n",
      "    for j in range(len(yint)):\n",
      "        for k in range(len(zint)):\n",
      "            xsel = x.flatten() == xint[i]\n",
      "            ysel = y.flatten() == yint[j]\n",
      "            zsel = z.flatten() == zint[k]\n",
      "            selb = xsel*ysel*zsel\n",
      "            fgridx[i, j, k] = fx.flatten()[selb]\n",
      "            fgridy[i, j, k] = fy.flatten()[selb]\n",
      "            fgridz[i, j, k] = fz.flatten()[selb]"
     ],
     "language": "python",
     "metadata": {},
     "outputs": [],
     "prompt_number": 7
    },
    {
     "cell_type": "code",
     "collapsed": false,
     "input": [
      "fxinterp = si.RegularGridInterpolator((xint, yint, zint), fgridx)\n",
      "fyinterp = si.RegularGridInterpolator((xint, yint, zint), fgridy)\n",
      "fzinterp = si.RegularGridInterpolator((xint, yint, zint), fgridz)"
     ],
     "language": "python",
     "metadata": {},
     "outputs": [],
     "prompt_number": 8
    },
    {
     "cell_type": "code",
     "collapsed": false,
     "input": [],
     "language": "python",
     "metadata": {},
     "outputs": [],
     "prompt_number": 241
    },
    {
     "cell_type": "code",
     "collapsed": false,
     "input": [
      "xx = np.arange(.1, 79.9, 1.)\n",
      "yy = np.arange(5.1, 74.9, 1.)\n",
      "zz = np.arange(.001, 24.99, 1.)\n",
      "\n",
      "pts_tens = np.zeros((3, len(xx), len(yy), len(zz)))\n",
      "finterps_tens = np.zeros((3, len(xx), len(yy), len(zz)))\n",
      "for i, x in enumerate(xx):\n",
      "    for j, y in enumerate(yy):\n",
      "        for k, z in enumerate(zz):\n",
      "            p = [x, y, z]\n",
      "            pts_tens[:, i, j, k] = p\n",
      "            finterps_tens[:, i, j, k] = [fxinterp(p)[0], fyinterp(p)[0], fzinterp(p)[0]]"
     ],
     "language": "python",
     "metadata": {},
     "outputs": [],
     "prompt_number": 9
    },
    {
     "cell_type": "code",
     "collapsed": false,
     "input": [
      "s = np.shape(finterps_tens)\n",
      "finterps_tens = np.random.randn(*s)*10**-16"
     ],
     "language": "python",
     "metadata": {},
     "outputs": [],
     "prompt_number": 11
    },
    {
     "cell_type": "code",
     "collapsed": false,
     "input": [
      "#compute field and gradients\n",
      "N = 1000\n",
      "qs = np.zeros(N)\n",
      "for i in range(N):\n",
      "    finterps_tens = np.random.randn(*s)*10**-16\n",
      "    q = 7E-17\n",
      "    dExdx = np.gradient(finterps_tens[0], axis = 0)/(q*10**-6)\n",
      "    dEydy = np.gradient(finterps_tens[1], axis = 1)/(q*10**-6)\n",
      "    dEzdz = np.gradient(finterps_tens[0], axis = 2)/(q*10**-6)\n",
      "    divE= dExdx + dEydy + dEzdz\n",
      "    rho = divE*sc.epsilon_0\n",
      "    qi = np.sum(rho)*(1E-6)**3/(sc.e)\n",
      "    qs[i] = qi"
     ],
     "language": "python",
     "metadata": {},
     "outputs": [],
     "prompt_number": 13
    },
    {
     "cell_type": "code",
     "collapsed": false,
     "input": [
      "plt.hist(qs, bins = 30, label = \"sigma = \"+str(np.std(qs))[:5] + 'e')\n",
      "plt.xlabel(\"charge in volume [e]\")\n",
      "plt.ylabel(\"count\")\n",
      "plt.legend()\n",
      "plt.show()"
     ],
     "language": "python",
     "metadata": {},
     "outputs": [],
     "prompt_number": 20
    },
    {
     "cell_type": "code",
     "collapsed": false,
     "input": [
      "plt.contourf(pts_tens[0, :, :, 15]+20, pts_tens[1, :, :, 15]-40, rho[:, :, 15]*0.16)\n",
      "plt.colorbar(label = r\"e/$\\mu m ^{3}$\")\n",
      "plt.xlabel(r'x@z=0 [$\\mu m$]')\n",
      "plt.ylabel(r'y@z=0 [$\\mu m$]')\n",
      "plt.show()"
     ],
     "language": "python",
     "metadata": {},
     "outputs": [],
     "prompt_number": 66
    },
    {
     "cell_type": "code",
     "collapsed": false,
     "input": [
      "dExdy = np.gradient(finterps_tens[0], axis = 1)/(q*10**-6)\n",
      "dExdz = np.gradient(finterps_tens[0], axis = 2)/(q*10**-6)\n",
      "dEydx = np.gradient(finterps_tens[1], axis = 0)/(q*10**-6)\n",
      "dEydz = np.gradient(finterps_tens[1], axis = 2)/(q*10**-6)\n",
      "dEzdx = np.gradient(finterps_tens[0], axis = 0)/(q*10**-6)\n",
      "dEzdy = np.gradient(finterps_tens[0], axis = 1)/(q*10**-6)\n",
      "cx = dEzdy - dEydz\n",
      "cy = dExdz - dEzdx\n",
      "cz = dEydx - dExdy"
     ],
     "language": "python",
     "metadata": {},
     "outputs": [],
     "prompt_number": 46
    },
    {
     "cell_type": "code",
     "collapsed": false,
     "input": [
      "qm  = 2.*np.pi*sc.epsilon_0*sc.hbar*sc.c**2/sc.e\n",
      "plt.contourf(pts_tens[0, :, :, 15]+20, pts_tens[1, :, :, 15]-40, cz[:, :, 15]/(sc.mu_0*qm*10**12))\n",
      "plt.colorbar(label = r\"$\\frac{monopoles}{\\mu m ^{2}s}$\")\n",
      "plt.xlabel(r'x@z=0 [$\\mu m$]')\n",
      "plt.ylabel(r'y@z=0 [$\\mu m$]')\n",
      "plt.show()\n",
      "np.sum(cz[:, :, 15]/(sc.mu_0*qm*10**12))"
     ],
     "language": "python",
     "metadata": {},
     "outputs": [
      {
       "metadata": {},
       "output_type": "pyout",
       "prompt_number": 61,
       "text": [
        "497480186321.13367"
       ]
      }
     ],
     "prompt_number": 61
    },
    {
     "cell_type": "code",
     "collapsed": false,
     "input": [
      "v = np.sin(np.arange(0, 10, 1./5000.)*2.*np.pi*17.)\n",
      "fft = np.fft.rfft(v)\n",
      "fft[np.argmax(np.abs(fft))]*2./50000."
     ],
     "language": "python",
     "metadata": {},
     "outputs": [
      {
       "metadata": {},
       "output_type": "pyout",
       "prompt_number": 65,
       "text": [
        "(4.185303396685556e-15-0.9999999999999998j)"
       ]
      }
     ],
     "prompt_number": 65
    },
    {
     "cell_type": "code",
     "collapsed": false,
     "input": [
      "E = finterps_tens/q\n",
      "Erms_y = np.sqrt(np.sum(np.sum(E**2, axis = 0), axis = 1))/np.shape(E)[2]"
     ],
     "language": "python",
     "metadata": {},
     "outputs": [],
     "prompt_number": 71
    },
    {
     "cell_type": "code",
     "collapsed": false,
     "input": [
      "def o_r(x, A, x0):\n",
      "    return A/(x-x0)"
     ],
     "language": "python",
     "metadata": {},
     "outputs": [],
     "prompt_number": 99
    },
    {
     "cell_type": "code",
     "collapsed": false,
     "input": [
      "xf = 100 - pts_tens[0, :, 0, 0]\n",
      "Erms_y_ave = np.mean(Erms_y, axis = -1)\n",
      "Erms_std = sem(Erms_y, axis = -1)\n",
      "popt , pcov = curve_fit(o_r, xf, Erms_y_ave)\n",
      "plt.errorbar(xf, Erms_y_ave, Erms_std, fmt = 'o')\n",
      "flba = r\"$f(x) = \\frac{A}{x-x_{0}}$ with A = 123 V/m and $x_{0} = 7.6 \\mu m$\"\n",
      "plt.plot(xf, o_r(xf, *popt), 'r', label = flba)\n",
      "plt.legend()\n",
      "plt.ylabel(r\"RMS electric field along y [V/m]\")\n",
      "plt.xlabel(r\"separation (x) [$\\mu m$]\")\n",
      "plt.show()"
     ],
     "language": "python",
     "metadata": {},
     "outputs": [],
     "prompt_number": 106
    },
    {
     "cell_type": "code",
     "collapsed": false,
     "input": [
      "popt"
     ],
     "language": "python",
     "metadata": {},
     "outputs": [
      {
       "metadata": {},
       "output_type": "pyout",
       "prompt_number": 101,
       "text": [
        "array([123.48370995,   7.66710466])"
       ]
      }
     ],
     "prompt_number": 101
    },
    {
     "cell_type": "code",
     "collapsed": false,
     "input": [
      "\n",
      "\n",
      "plt.plot(100 - pts_tens[0, :, 0, 0], Erms_y[:, 0], 'o', label = r\"z = -12.5 $\\mu m$\")\n",
      "plt.plot(100 - pts_tens[0, :, 0, 0], Erms_y[:, 12], 'o', label = r\"z = 0 $\\mu m$\")\n",
      "plt.plot(100 - pts_tens[0, :, 0, 0], Erms_y[:, -1], 'o', label = r\"z = 12.5 $\\mu m$\")\n",
      "plt.xlabel(r\"separation (x) [$\\mu m$]\")\n",
      "plt.ylabel(r\"RMS electric field along y [V/m]\")\n",
      "plt.legend()\n",
      "plt.show()"
     ],
     "language": "python",
     "metadata": {},
     "outputs": [],
     "prompt_number": 80
    }
   ],
   "metadata": {}
  }
 ]
}