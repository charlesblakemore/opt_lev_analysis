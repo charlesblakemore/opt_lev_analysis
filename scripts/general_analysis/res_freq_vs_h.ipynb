{
 "metadata": {
  "name": ""
 },
 "nbformat": 3,
 "nbformat_minor": 0,
 "worksheets": [
  {
   "cells": [
    {
     "cell_type": "code",
     "collapsed": false,
     "input": [
      "import numpy as np\n",
      "import matplotlib.pyplot as plt\n",
      "\n"
     ],
     "language": "python",
     "metadata": {},
     "outputs": [],
     "prompt_number": 5
    },
    {
     "cell_type": "code",
     "collapsed": false,
     "input": [
      "import matplotlib.mlab\n",
      "from scipy.optimize import curve_fit\n",
      "from scipy import interpolate"
     ],
     "language": "python",
     "metadata": {},
     "outputs": [],
     "prompt_number": 6
    },
    {
     "cell_type": "code",
     "collapsed": false,
     "input": [
      "import bead_util as bu"
     ],
     "language": "python",
     "metadata": {},
     "outputs": [],
     "prompt_number": 7
    },
    {
     "cell_type": "code",
     "collapsed": false,
     "input": [
      "def HOPSD(w, w0, g, A):\n",
      "    return A/(w0**4*((2*w*g/w0)**2 + (1 - (w/w0)**2)**2))"
     ],
     "language": "python",
     "metadata": {},
     "outputs": [],
     "prompt_number": 8
    },
    {
     "cell_type": "code",
     "collapsed": false,
     "input": [
      "path = \"/data/20181204/bead1/zstep\"\n",
      "files  = bu.find_all_fnames(path)"
     ],
     "language": "python",
     "metadata": {},
     "outputs": [
      {
       "output_type": "stream",
       "stream": "stdout",
       "text": [
        "Finding files in: \n",
        "/data/20181204/bead1/zstep\n"
       ]
      },
      {
       "output_type": "stream",
       "stream": "stdout",
       "text": [
        "Found 60 files...\n"
       ]
      }
     ],
     "prompt_number": 9
    },
    {
     "cell_type": "code",
     "collapsed": false,
     "input": [
      "phipbit = 0.0000833"
     ],
     "language": "python",
     "metadata": {},
     "outputs": [],
     "prompt_number": 10
    },
    {
     "cell_type": "code",
     "collapsed": false,
     "input": [
      "len(files)"
     ],
     "language": "python",
     "metadata": {},
     "outputs": [
      {
       "metadata": {},
       "output_type": "pyout",
       "prompt_number": 9,
       "text": [
        "32"
       ]
      }
     ],
     "prompt_number": 9
    },
    {
     "cell_type": "code",
     "collapsed": false,
     "input": [
      "poptsx = []\n",
      "pcovsx= []\n",
      "poptsy = []\n",
      "pcovsy = []\n",
      "zsb = []\n",
      "zfb = []\n",
      "Asx = []\n",
      "Asy = []\n",
      "for f in files:\n",
      "    df = bu.DataFile()\n",
      "    df.load(f)\n",
      "    psdx, freqs = matplotlib.mlab.psd(df.pos_data[0, :], Fs = df.fsamp, NFFT = 2**14)\n",
      "    psdy, freqs = matplotlib.mlab.psd(df.pos_data[1, :], Fs = df.fsamp, NFFT = 2**14)\n",
      "    Ncut = 10\n",
      "    Nx = np.sum(psdx[Ncut:])\n",
      "    Ny = np.sum(psdy[Ncut:])\n",
      "    p0 = [2.*np.pi*300., .1, 1.E6]\n",
      "    try:\n",
      "        poptx, pcovx = curve_fit(HOPSD, freqs[Ncut:]*2.*np.pi, psdx[Ncut:]/Nx, p0)\n",
      "        popty, pcovy = curve_fit(HOPSD, freqs[Ncut:]*2.*np.pi, psdy[Ncut:]/Ny, p0)\n",
      "        #plt.loglog(freqs, psd, '.')\n",
      "        #plt.plot(freqs, HOPSD(freqs*2.*np.pi, *popt)*N, 'r')\n",
      "    except:\n",
      "        poptx = np.empty_like(poptx)\n",
      "        poptx[:] = np.nan\n",
      "        pcovx = np.empty_like(pcovx)\n",
      "        pcovx[:] = np.nan\n",
      "        popty = np.empty_like(popty)\n",
      "        popty[:] = np.nan\n",
      "        pcovy = np.empty_like(pcovy)\n",
      "        pcovy[:] = np.nan\n",
      "        \n",
      "    poptsx.append(poptx)\n",
      "    pcovsx.append(np.diag(pcovx))\n",
      "    poptsy.append(popty)\n",
      "    pcovsy.append(np.diag(pcovy))\n",
      "    zsb.append(np.mean(df.pos_data[2]))\n",
      "    zfb.append(np.mean(df.pos_fb[2]))\n",
      "    Asx.append(poptx[-1])\n",
      "    Asy.append(popty[-1])\n",
      "poptsx = np.array(poptsx)\n",
      "pcovsx = np.array(pcovsx)\n",
      "poptsy = np.array(poptsy)\n",
      "pcovsy = np.array(pcovsy)\n",
      "zfb = np.array(zfb)\n",
      "zsb = np.array(zsb)#*phipbit/4"
     ],
     "language": "python",
     "metadata": {},
     "outputs": [
      {
       "output_type": "stream",
       "stream": "stderr",
       "text": [
        "-c:19: RuntimeWarning: invalid value encountered in divide\n"
       ]
      }
     ],
     "prompt_number": 11
    },
    {
     "cell_type": "code",
     "collapsed": false,
     "input": [
      "psdx"
     ],
     "language": "python",
     "metadata": {},
     "outputs": [
      {
       "metadata": {},
       "output_type": "pyout",
       "prompt_number": 19,
       "text": [
        "array([1.12933364e+06, 6.40656933e+05, 4.75974825e+04, ...,\n",
        "       2.45166665e+00, 2.35532776e+00, 2.37027361e-01])"
       ]
      }
     ],
     "prompt_number": 19
    },
    {
     "cell_type": "code",
     "collapsed": false,
     "input": [
      "plt.errorbar(zsb, np.abs(poptsx[:, 0])/(2.*np.pi), np.sqrt(pcovsx[:, 0])/(2.*np.pi), fmt = 'o', label = \"X 20180927\")\n",
      "plt.errorbar(zsb, np.abs(poptsy[:, 0])/(2.*np.pi), np.sqrt(pcovsy[:, 0])/(2.*np.pi), fmt = 'o', label = \"Y 20180927\")\n",
      "#plt.errorbar(zsb2, np.abs(poptsx2[:, 0])/(2.*np.pi), np.sqrt(pcovsx2[:, 0])/(2.*np.pi), fmt = 'o', label = \"X 20180906\")\n",
      "#plt.errorbar(zsb07, np.abs(poptsx07[:, 0])/(2.*np.pi), np.sqrt(pcovsx07[:, 0])/(2.*np.pi), fmt = 'o', label = \"X 20180907\")\n",
      "plt.legend()\n",
      "plt.xlabel(r\"displacement[$\\mu m$]\")\n",
      "plt.ylabel(\"resonant frequency [Hz]\")\n",
      "plt.ylim([0, 500])\n",
      "plt.show()"
     ],
     "language": "python",
     "metadata": {},
     "outputs": [],
     "prompt_number": 12
    },
    {
     "cell_type": "code",
     "collapsed": false,
     "input": [
      "plt.errorbar(zsb07*4./phipbit, np.abs(poptsx07[:, 0])/(2.*np.pi), np.sqrt(pcovsx07[:, 0])/(2.*np.pi), fmt = 'o', label = \"X 20180907\")\n",
      "plt.errorbar(zsb07*4./phipbit, np.abs(poptsy07[:, 0])/(2.*np.pi), np.sqrt(pcovsy07[:, 0])/(2.*np.pi), fmt = 'o', label = \"Y 20180907\")\n",
      "plt.show()"
     ],
     "language": "python",
     "metadata": {},
     "outputs": [
      {
       "ename": "NameError",
       "evalue": "name 'zsb07' is not defined",
       "output_type": "pyerr",
       "traceback": [
        "\u001b[0;31m---------------------------------------------------------------------------\u001b[0m\n\u001b[0;31mNameError\u001b[0m                                 Traceback (most recent call last)",
        "\u001b[0;32m<ipython-input-10-5efd925f3f35>\u001b[0m in \u001b[0;36m<module>\u001b[0;34m()\u001b[0m\n\u001b[0;32m----> 1\u001b[0;31m \u001b[0mplt\u001b[0m\u001b[0;34m.\u001b[0m\u001b[0merrorbar\u001b[0m\u001b[0;34m(\u001b[0m\u001b[0mzsb07\u001b[0m\u001b[0;34m*\u001b[0m\u001b[0;36m4.\u001b[0m\u001b[0;34m/\u001b[0m\u001b[0mphipbit\u001b[0m\u001b[0;34m,\u001b[0m \u001b[0mnp\u001b[0m\u001b[0;34m.\u001b[0m\u001b[0mabs\u001b[0m\u001b[0;34m(\u001b[0m\u001b[0mpoptsx07\u001b[0m\u001b[0;34m[\u001b[0m\u001b[0;34m:\u001b[0m\u001b[0;34m,\u001b[0m \u001b[0;36m0\u001b[0m\u001b[0;34m]\u001b[0m\u001b[0;34m)\u001b[0m\u001b[0;34m/\u001b[0m\u001b[0;34m(\u001b[0m\u001b[0;36m2.\u001b[0m\u001b[0;34m*\u001b[0m\u001b[0mnp\u001b[0m\u001b[0;34m.\u001b[0m\u001b[0mpi\u001b[0m\u001b[0;34m)\u001b[0m\u001b[0;34m,\u001b[0m \u001b[0mnp\u001b[0m\u001b[0;34m.\u001b[0m\u001b[0msqrt\u001b[0m\u001b[0;34m(\u001b[0m\u001b[0mpcovsx07\u001b[0m\u001b[0;34m[\u001b[0m\u001b[0;34m:\u001b[0m\u001b[0;34m,\u001b[0m \u001b[0;36m0\u001b[0m\u001b[0;34m]\u001b[0m\u001b[0;34m)\u001b[0m\u001b[0;34m/\u001b[0m\u001b[0;34m(\u001b[0m\u001b[0;36m2.\u001b[0m\u001b[0;34m*\u001b[0m\u001b[0mnp\u001b[0m\u001b[0;34m.\u001b[0m\u001b[0mpi\u001b[0m\u001b[0;34m)\u001b[0m\u001b[0;34m,\u001b[0m \u001b[0mfmt\u001b[0m \u001b[0;34m=\u001b[0m \u001b[0;34m'o'\u001b[0m\u001b[0;34m,\u001b[0m \u001b[0mlabel\u001b[0m \u001b[0;34m=\u001b[0m \u001b[0;34m\"X 20180907\"\u001b[0m\u001b[0;34m)\u001b[0m\u001b[0;34m\u001b[0m\u001b[0m\n\u001b[0m\u001b[1;32m      2\u001b[0m \u001b[0mplt\u001b[0m\u001b[0;34m.\u001b[0m\u001b[0merrorbar\u001b[0m\u001b[0;34m(\u001b[0m\u001b[0mzsb07\u001b[0m\u001b[0;34m*\u001b[0m\u001b[0;36m4.\u001b[0m\u001b[0;34m/\u001b[0m\u001b[0mphipbit\u001b[0m\u001b[0;34m,\u001b[0m \u001b[0mnp\u001b[0m\u001b[0;34m.\u001b[0m\u001b[0mabs\u001b[0m\u001b[0;34m(\u001b[0m\u001b[0mpoptsy07\u001b[0m\u001b[0;34m[\u001b[0m\u001b[0;34m:\u001b[0m\u001b[0;34m,\u001b[0m \u001b[0;36m0\u001b[0m\u001b[0;34m]\u001b[0m\u001b[0;34m)\u001b[0m\u001b[0;34m/\u001b[0m\u001b[0;34m(\u001b[0m\u001b[0;36m2.\u001b[0m\u001b[0;34m*\u001b[0m\u001b[0mnp\u001b[0m\u001b[0;34m.\u001b[0m\u001b[0mpi\u001b[0m\u001b[0;34m)\u001b[0m\u001b[0;34m,\u001b[0m \u001b[0mnp\u001b[0m\u001b[0;34m.\u001b[0m\u001b[0msqrt\u001b[0m\u001b[0;34m(\u001b[0m\u001b[0mpcovsy07\u001b[0m\u001b[0;34m[\u001b[0m\u001b[0;34m:\u001b[0m\u001b[0;34m,\u001b[0m \u001b[0;36m0\u001b[0m\u001b[0;34m]\u001b[0m\u001b[0;34m)\u001b[0m\u001b[0;34m/\u001b[0m\u001b[0;34m(\u001b[0m\u001b[0;36m2.\u001b[0m\u001b[0;34m*\u001b[0m\u001b[0mnp\u001b[0m\u001b[0;34m.\u001b[0m\u001b[0mpi\u001b[0m\u001b[0;34m)\u001b[0m\u001b[0;34m,\u001b[0m \u001b[0mfmt\u001b[0m \u001b[0;34m=\u001b[0m \u001b[0;34m'o'\u001b[0m\u001b[0;34m,\u001b[0m \u001b[0mlabel\u001b[0m \u001b[0;34m=\u001b[0m \u001b[0;34m\"Y 20180907\"\u001b[0m\u001b[0;34m)\u001b[0m\u001b[0;34m\u001b[0m\u001b[0m\n\u001b[1;32m      3\u001b[0m \u001b[0mplt\u001b[0m\u001b[0;34m.\u001b[0m\u001b[0mshow\u001b[0m\u001b[0;34m(\u001b[0m\u001b[0;34m)\u001b[0m\u001b[0;34m\u001b[0m\u001b[0m\n",
        "\u001b[0;31mNameError\u001b[0m: name 'zsb07' is not defined"
       ]
      }
     ],
     "prompt_number": 10
    },
    {
     "cell_type": "code",
     "collapsed": false,
     "input": [
      "data = np.loadtxt(\"power_v_bits.csv\", skiprows = 2, delimiter = ',')"
     ],
     "language": "python",
     "metadata": {},
     "outputs": [],
     "prompt_number": 775
    },
    {
     "cell_type": "code",
     "collapsed": false,
     "input": [
      "power = interpolate.interp1d(data[:, 0], 2.*data[:, 1])"
     ],
     "language": "python",
     "metadata": {},
     "outputs": [],
     "prompt_number": 776
    },
    {
     "cell_type": "code",
     "collapsed": false,
     "input": [
      "plt.plot(data[:, 0], 2.*data[:, 1], 'o')\n",
      "plt.plot(data[:, 0], power(data[:, 0]), 'r')\n",
      "plt.xlabel(\"bits\")\n",
      "plt.ylabel(\"power [mW]\")\n",
      "plt.show()"
     ],
     "language": "python",
     "metadata": {},
     "outputs": [],
     "prompt_number": 777
    },
    {
     "cell_type": "code",
     "collapsed": false,
     "input": [
      "b = (zfb<-10000)*(np.abs(zfb)<2**15)\n",
      "plt.plot(zsb, power(zfb), 'o', label = \"20180904\")\n",
      "b2 = (zfb2<-10000)*(np.abs(zfb2)<2**15)\n",
      "plt.plot(zsb2, power(zfb2), 'o', label = \"20180906\")\n",
      "b07 = (zfb07<-10000)*(np.abs(zfb07)<2**15)*(zfb07>-20000)\n",
      "plt.plot(zsb07[b07], power(zfb07[b07]), 'o', label = \"20180907\")\n",
      "plt.legend()\n",
      "plt.xlabel(r\"displacement [$\\mu m$]\")\n",
      "plt.ylabel(\"plev[mW]\")\n",
      "plt.show()"
     ],
     "language": "python",
     "metadata": {},
     "outputs": [],
     "prompt_number": 811
    },
    {
     "cell_type": "code",
     "collapsed": false,
     "input": [
      "po = 0.294\n",
      "plt.plot(zsb2, (po)/power(zfb2), 'o')\n",
      "plt.xlabel(r\"displacement [$\\mu m$]\")\n",
      "plt.ylabel(\"trapping efficiency\")\n",
      "plt.show()"
     ],
     "language": "python",
     "metadata": {},
     "outputs": [],
     "prompt_number": 783
    },
    {
     "cell_type": "code",
     "collapsed": false,
     "input": [
      "import re\n",
      "import glob\n",
      "cal_files = glob.glob(\"fzdata_NA/*\")\n",
      "fzs = []\n",
      "nas = []\n",
      "zs = []\n",
      "for f in cal_files:\n",
      "    data = np.loadtxt(f)\n",
      "    nums = re.findall(r'\\d+', f)\n",
      "    na = float(nums[0] + '.' + nums[1])\n",
      "    fzs.append(data[:, 1])\n",
      "    nas.append(na)\n",
      "    zs.append(data[:, 0])\n",
      "inds = np.argsort(np.array(nas))\n",
      "fzs = np.array(fzs)[inds]\n",
      "nas = np.array(nas)[inds]\n",
      "zs = np.array(zs)"
     ],
     "language": "python",
     "metadata": {},
     "outputs": [],
     "prompt_number": 656
    },
    {
     "cell_type": "code",
     "collapsed": false,
     "input": [
      "nas = np.array(nas)\n",
      "fzs = np.array(fzs)\n",
      "zs = np.array(zs)\n",
      "b = nas>= 0.085\n",
      "nas = nas[b]\n",
      "fzs = fzs[b]\n",
      "zs = zs[b]\n",
      "inds  = np.argsort(nas)\n",
      "\n",
      "for i, fz in enumerate(np.array(fzs)[inds]):\n",
      "    plt.plot(data[:, 0], fz, label = str(nas[inds[i]]))\n",
      "plt.legend()\n",
      "plt.xlabel(r'Axial displacement [$\\lambda$]')\n",
      "plt.ylabel('Axial trapping displacement')\n",
      "plt.show()\n"
     ],
     "language": "python",
     "metadata": {},
     "outputs": [],
     "prompt_number": 657
    },
    {
     "cell_type": "code",
     "collapsed": false,
     "input": [
      "nas_full = np.einsum('ij,i->ij', np.array(map(np.ones_like, fzs)), nas)"
     ],
     "language": "python",
     "metadata": {},
     "outputs": [],
     "prompt_number": 658
    },
    {
     "cell_type": "code",
     "collapsed": false,
     "input": [
      "zs.flatten()"
     ],
     "language": "python",
     "metadata": {},
     "outputs": [
      {
       "metadata": {},
       "output_type": "pyout",
       "prompt_number": 583,
       "text": [
        "array([-50.  , -48.99, -47.98, ...,  47.98,  48.99,  50.  ])"
       ]
      }
     ],
     "prompt_number": 583
    },
    {
     "cell_type": "code",
     "collapsed": false,
     "input": [
      "zs[0].shape"
     ],
     "language": "python",
     "metadata": {},
     "outputs": [
      {
       "metadata": {},
       "output_type": "pyout",
       "prompt_number": 608,
       "text": [
        "(100,)"
       ]
      }
     ],
     "prompt_number": 608
    },
    {
     "cell_type": "code",
     "collapsed": false,
     "input": [
      "from scipy import interpolate\n",
      "fz = interpolate.interp2d(zs[0], nas, fzs, kind = 'linear')"
     ],
     "language": "python",
     "metadata": {},
     "outputs": [],
     "prompt_number": 670
    },
    {
     "cell_type": "code",
     "collapsed": false,
     "input": [
      "pinds = (np.abs(zs.flatten()-1.52)<.1)\n",
      "plt.plot(np.linspace(0.09, 0.15, 100), fz(1.52, np.linspace(0.09, 0.15, 100)), 'o')\n",
      "plt.plot(nas_full.flatten()[pinds], fzs.flatten()[pinds], 'or')\n",
      "plt.show()"
     ],
     "language": "python",
     "metadata": {},
     "outputs": [],
     "prompt_number": 671
    },
    {
     "cell_type": "code",
     "collapsed": false,
     "input": [
      "np.arange(-40, 40, 100)"
     ],
     "language": "python",
     "metadata": {},
     "outputs": [
      {
       "metadata": {},
       "output_type": "pyout",
       "prompt_number": 615,
       "text": [
        "array([-40])"
       ]
      }
     ],
     "prompt_number": 615
    },
    {
     "cell_type": "code",
     "collapsed": false,
     "input": [
      "plt.plot(np.linspace(-50, 50, 100), fz(np.linspace(-50, 50, 100), .10), 'o')\n",
      "plt.plot(np.linspace(-50, 50, 100), fz(np.linspace(-50, 50, 100), .1025), 'o')\n",
      "plt.plot(np.linspace(-50, 50, 100), fz(np.linspace(-50, 50, 100), .105), 'o')\n",
      "plt.plot(np.linspace(-50, 50, 100), fz(np.linspace(-50, 50, 100), .1075), 'o')\n",
      "plt.plot(np.linspace(-50, 50, 100), fz(np.linspace(-50, 50, 100), .11), 'o')\n",
      "plt.show()"
     ],
     "language": "python",
     "metadata": {},
     "outputs": [],
     "prompt_number": 710
    },
    {
     "cell_type": "code",
     "collapsed": false,
     "input": [
      "plt.plot(zs.flatten()[pinds], 'o')\n",
      "plt.show()"
     ],
     "language": "python",
     "metadata": {},
     "outputs": [],
     "prompt_number": 598
    },
    {
     "cell_type": "code",
     "collapsed": false,
     "input": [
      "def fitz(z, na, z0, a):\n",
      "    return a*fz(z-z0, na)"
     ],
     "language": "python",
     "metadata": {},
     "outputs": [],
     "prompt_number": 721
    },
    {
     "cell_type": "code",
     "collapsed": false,
     "input": [
      "z = np.linspace(-30, 30, 60)\n",
      "plt.plot(z, fitz(z, 0.0975, 0), 'r')\n",
      "plt.plot(z, fitz(z, 0.1, 0))\n",
      "plt.plot(z, fitz(z, 0.1025, 0))\n",
      "plt.show()"
     ],
     "language": "python",
     "metadata": {},
     "outputs": [],
     "prompt_number": 675
    },
    {
     "cell_type": "code",
     "collapsed": false,
     "input": [
      "bf = zsb>-55\n",
      "p0 = [0.11, -25]\n",
      "popt, pcov = curve_fit(fitz, zsb[bz*bf], (po)/power(zfb[bz*bf]), p0 = p0)"
     ],
     "language": "python",
     "metadata": {},
     "outputs": [],
     "prompt_number": 676
    },
    {
     "cell_type": "code",
     "collapsed": false,
     "input": [
      "def cost(params):\n",
      "    na, z0, a = params\n",
      "    return np.sum((fitz(zsb[bz*bf], na, z0, a) - (po)/power(zfb[bz*bf]))**2)"
     ],
     "language": "python",
     "metadata": {},
     "outputs": [],
     "prompt_number": 722
    },
    {
     "cell_type": "code",
     "collapsed": false,
     "input": [
      "def cost_test(params, ptrue = [0.12, -21., 0.8]):\n",
      "    na, z0, a = params\n",
      "    return np.sum((fitz(zsb[bz*bf], *params) - fitz(zsb[bz*bf], *ptrue))**2)"
     ],
     "language": "python",
     "metadata": {},
     "outputs": [],
     "prompt_number": 742
    },
    {
     "cell_type": "code",
     "collapsed": false,
     "input": [
      "import scipy.optimize\n",
      "res  = scipy.optimize.minimize(cost, [0.1, -0, 1], bounds = [[0.09, 0.15], [-30, -10], [0.7, 0.9]])\n",
      "res2  = scipy.optimize.minimize(cost_test, [0.1, -0, 1], bounds = [[0.09, 0.15], [-30, -10], [0.7, 0.9]])"
     ],
     "language": "python",
     "metadata": {},
     "outputs": [],
     "prompt_number": 743
    },
    {
     "cell_type": "code",
     "collapsed": false,
     "input": [
      "res2"
     ],
     "language": "python",
     "metadata": {},
     "outputs": [
      {
       "metadata": {},
       "output_type": "pyout",
       "prompt_number": 745,
       "text": [
        "      fun: 1.2710667589853745e-12\n",
        " hess_inv: <3x3 LbfgsInvHessProduct with dtype=float64>\n",
        "      jac: array([ 2.31264654e-06, -3.13509966e-09,  1.19767960e-05])\n",
        "  message: 'CONVERGENCE: REL_REDUCTION_OF_F_<=_FACTR*EPSMCH'\n",
        "     nfev: 144\n",
        "      nit: 24\n",
        "   status: 0\n",
        "  success: True\n",
        "        x: array([  0.12000008, -20.99999664,   0.80000021])"
       ]
      }
     ],
     "prompt_number": 745
    },
    {
     "cell_type": "code",
     "collapsed": false,
     "input": [
      "cz = lambda z: cost([0.111, z, 0.800])\n",
      "plt.plot(np.linspace(-40, 0, 100), map(cz, np.linspace(-40, 0, 100)))\n",
      "plt.xlabel(r\"displacement [$\\lambda$]\")\n",
      "plt.ylabel(\"cost\")\n",
      "plt.show()"
     ],
     "language": "python",
     "metadata": {},
     "outputs": [],
     "prompt_number": 749
    },
    {
     "cell_type": "code",
     "collapsed": false,
     "input": [
      "bz = (zfb<-10000)*(np.abs(zfb)<2**15)\n",
      "po = 0.294\n",
      "plt.plot(zsb[bz*bf], (po)/power(zfb[bz*bf]), 'o')\n",
      "plt.plot(zsb[bz], fitz(zsb[bz], *res.x), label = \"NA: \" +  str(res.x[0])[:6] + \", z0: \"+ str(res.x[1])[:5])\n",
      "plt.xlabel(r\"displacement [$\\mu m$]\")\n",
      "plt.ylabel(\"trapping efficiency\")\n",
      "plt.legend()\n",
      "plt.show()"
     ],
     "language": "python",
     "metadata": {},
     "outputs": [],
     "prompt_number": 747
    },
    {
     "cell_type": "code",
     "collapsed": false,
     "input": [
      "popt\n",
      "pcov"
     ],
     "language": "python",
     "metadata": {},
     "outputs": [
      {
       "metadata": {},
       "output_type": "pyout",
       "prompt_number": 678,
       "text": [
        "array([[2.59713167e-07, 3.25895252e-06],\n",
        "       [3.25895252e-06, 1.18133679e-02]])"
       ]
      }
     ],
     "prompt_number": 678
    }
   ],
   "metadata": {}
  }
 ]
}