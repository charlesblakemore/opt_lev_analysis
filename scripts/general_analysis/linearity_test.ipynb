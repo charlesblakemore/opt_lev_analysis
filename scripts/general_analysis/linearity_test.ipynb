{
 "metadata": {
  "name": ""
 },
 "nbformat": 3,
 "nbformat_minor": 0,
 "worksheets": [
  {
   "cells": [
    {
     "cell_type": "code",
     "collapsed": false,
     "input": [
      "import numpy as np\n",
      "import matplotlib.pyplot as plt\n",
      "import matplotlib.mlab\n",
      "from scipy.optimize import curve_fit\n"
     ],
     "language": "python",
     "metadata": {},
     "outputs": [],
     "prompt_number": 1
    },
    {
     "cell_type": "code",
     "collapsed": false,
     "input": [
      "import bead_util as bu"
     ],
     "language": "python",
     "metadata": {},
     "outputs": [],
     "prompt_number": 2
    },
    {
     "cell_type": "code",
     "collapsed": false,
     "input": [
      "path = \"/data/20180827/bead2/lintest\"\n",
      "files  = bu.find_all_fnames(path)"
     ],
     "language": "python",
     "metadata": {},
     "outputs": [
      {
       "output_type": "stream",
       "stream": "stdout",
       "text": [
        "Finding files in: \n",
        "/data/20180827/bead2/lintest\n"
       ]
      },
      {
       "output_type": "stream",
       "stream": "stdout",
       "text": [
        "Found 86 files...\n"
       ]
      }
     ],
     "prompt_number": 3
    },
    {
     "cell_type": "code",
     "collapsed": false,
     "input": [
      "RX = []\n",
      "eRx = []\n",
      "dX = []\n",
      "n = 50000\n",
      "fs = 5000.\n",
      "fdrive = 41.\n",
      "Rax = 0\n",
      "Dax = 3\n",
      "dind = np.argmin((np.fft.rfftfreq(n, d = 1./fs) - fdrive)**2)\n",
      "ehW = 30\n",
      "for f in np.array(files):\n",
      "    df = bu.DataFile()\n",
      "    df.load(f)\n",
      "    df.diagonalize()\n",
      "    #plt.plot(df.pos_data[Rax])\n",
      "    #plt.show()\n",
      "    fft = np.fft.rfft(df.pos_data[Rax])*(2./n)*df.conv_facs[Rax]\n",
      "    #plt.plot(np.abs(fft))\n",
      "    #plt.show()\n",
      "    dX.append(df.electrode_settings['amplitudes'][Dax])\n",
      "    RX.append(np.max(np.abs(fft[dind-ehW:dind+ehW])))\n",
      "    eRx.append(np.median(np.abs(np.hstack([fft[dind-ehW:dind], fft[dind+1:dind+1+ehW]]))))\n",
      "    \n",
      "inds = np.argsort(dX)\n",
      "b = np.diff(np.array(RX)[inds])>-154\n",
      "b = np.append(b, [True])"
     ],
     "language": "python",
     "metadata": {},
     "outputs": [],
     "prompt_number": 4
    },
    {
     "cell_type": "code",
     "collapsed": false,
     "input": [
      "plt.plot(np.array(RX)[inds], 'o')\n",
      "plt.show()"
     ],
     "language": "python",
     "metadata": {},
     "outputs": [],
     "prompt_number": 5
    },
    {
     "cell_type": "code",
     "collapsed": false,
     "input": [],
     "language": "python",
     "metadata": {},
     "outputs": [],
     "prompt_number": 117
    },
    {
     "cell_type": "code",
     "collapsed": false,
     "input": [
      "def lin(x, m, b):\n",
      "    return m*x + b"
     ],
     "language": "python",
     "metadata": {},
     "outputs": [],
     "prompt_number": 6
    },
    {
     "cell_type": "code",
     "collapsed": false,
     "input": [
      "def iterate_fit(fun, xdata, ydata, yerr, thresh = 1, max_iter = 2, p0 = [1, 0], bounds = ([-2, -.5], [3, .5]), make_plot = True):\n",
      "    b = np.ones(len(xdata), dtype = bool)\n",
      "    n = 1\n",
      "    while n<max_iter:\n",
      "        #print np.sum(b)\n",
      "        popt, pcov = curve_fit(fun, xdata[b], ydata[b], sigma = yerr[b], p0 = p0, bounds = bounds)\n",
      "        resid = (ydata - fun(xdata, *popt))/yerr\n",
      "        ol = np.argsort(resid**2)[-1*n]\n",
      "        n+=1\n",
      "        #print np.abs(resid[ol])\n",
      "        if np.abs(resid[ol])<thresh or n == max_iter:\n",
      "            return b, popt, pcov\n",
      "            continue\n",
      "        else:\n",
      "            #print ol\n",
      "            #print b[ol]\n",
      "            b[ol] = False\n",
      "            if make_plot:\n",
      "                plt.plot(xdata[b], ydata[b], 'o')\n",
      "                plt.plot(xdata[b], fun(xdata[b], *popt))\n",
      "                plt.show()"
     ],
     "language": "python",
     "metadata": {},
     "outputs": [],
     "prompt_number": 7
    },
    {
     "cell_type": "code",
     "collapsed": false,
     "input": [
      "dX = np.array(dX)\n",
      "RX = np.array(RX)\n",
      "eRx = np.array(eRx)"
     ],
     "language": "python",
     "metadata": {},
     "outputs": [],
     "prompt_number": 9
    },
    {
     "cell_type": "code",
     "collapsed": false,
     "input": [
      "q = 6.81e-17*2.675\n",
      "cal = (q/0.004)\n",
      "b, popt, pcov = iterate_fit(lin, np.array(dX[dX<2.])*cal, np.abs(RX[dX<2.]), np.array(eRx[dX<2.]))"
     ],
     "language": "python",
     "metadata": {},
     "outputs": [],
     "prompt_number": 10
    },
    {
     "cell_type": "code",
     "collapsed": false,
     "input": [
      "plt.plot(np.array(dX)*cal, np.abs(RX), 'o')\n",
      "plt.show()"
     ],
     "language": "python",
     "metadata": {},
     "outputs": [],
     "prompt_number": 11
    },
    {
     "cell_type": "code",
     "collapsed": false,
     "input": [
      "b = dX>np.min(dX)\n",
      "dX = dX[b]\n",
      "RX = RX[b]\n",
      "eRx = eRx[b]\n",
      "f, axarr = plt.subplots(2, 1, sharex = True, dpi = 200)\n",
      "axarr[0].errorbar(np.array(dX)*cal, np.abs(RX), np.array(eRx), fmt = 'o', label = \"X\", alpha = 0.5)\n",
      "axarr[0].plot(np.array(dX)*cal, lin(np.array(dX)*cal, *popt), 'r', linewidth = 2, label = \"slope =\" + str(popt[0])[:5])\n",
      "axarr[0].set_xscale('log')\n",
      "axarr[0].set_yscale('log')\n",
      "axarr[1].errorbar(np.array(dX)*cal, 100.*(np.abs(RX)-lin(np.array(dX)*cal, *popt))/lin(np.array(dX)*cal, *popt), np.array(eRx)/lin(np.array(dX)*cal, *popt), fmt = 'o')\n",
      "plt.xlabel(r\"Drive [N]\", fontsize = 16)\n",
      "#axarr[0].legend()\n",
      "axarr[0].set_ylabel(\"Response [N]\", fontsize = 16)\n",
      "axarr[1].set_ylabel(\"Deviation [%]\", fontsize = 16)\n",
      "axarr[1].set_xscale('log')\n",
      "#axarr[0].set_xticks([5e-14, 1e-13, 4e-13])\n",
      "\n",
      "#axarr[0].set_xlim([1e-14, 1e-12])\n",
      "#axarr[0].set_ylim([1e-14, 1e-12])\n",
      "#axarr[1].set_yscale('log')\n",
      "plt.setp(axarr[0].get_xticklabels(), fontsize = 16)\n",
      "plt.setp(axarr[0].get_yticklabels(), fontsize = 16)\n",
      "plt.setp(axarr[1].get_xticklabels(), fontsize = 16)\n",
      "plt.setp(axarr[1].get_yticklabels(), fontsize = 16)\n",
      "\n",
      "plt.tight_layout()\n",
      "\n",
      "f.savefig(\"/home/arider/plots/20181001/linearity.png\", dpi = \"figure\")\n",
      "#f.clf()"
     ],
     "language": "python",
     "metadata": {},
     "outputs": [],
     "prompt_number": 12
    },
    {
     "cell_type": "code",
     "collapsed": false,
     "input": [
      "plt.plot(zs, zfb, 'o')\n",
      "plt.xlabel(r\"displacement [$\\mu m$]\")\n",
      "plt.ylabel(\"plev[bits]\")\n",
      "plt.show()"
     ],
     "language": "python",
     "metadata": {},
     "outputs": [],
     "prompt_number": 151
    },
    {
     "cell_type": "code",
     "collapsed": false,
     "input": [
      "plt.plot(zs, np.sqrt(Asx), 'o', label = 'X')\n",
      "plt.plot(zs, np.sqrt(Asy), 'o', label = 'Y')\n",
      "plt.xlabel(r\"displacement [$\\mu m$]\")\n",
      "plt.ylabel(\"imaging response [Arb]\")\n",
      "plt.show()"
     ],
     "language": "python",
     "metadata": {},
     "outputs": [],
     "prompt_number": 156
    }
   ],
   "metadata": {}
  }
 ]
}