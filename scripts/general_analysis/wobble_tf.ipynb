{
 "metadata": {
  "name": ""
 },
 "nbformat": 3,
 "nbformat_minor": 0,
 "worksheets": [
  {
   "cells": [
    {
     "cell_type": "code",
     "collapsed": false,
     "input": [
      "import numpy as np\n",
      "import matplotlib.pyplot as plt\n",
      "import matplotlib.mlab\n"
     ],
     "language": "python",
     "metadata": {},
     "outputs": [],
     "prompt_number": 2
    },
    {
     "cell_type": "code",
     "collapsed": false,
     "input": [
      "import bead_util as bu"
     ],
     "language": "python",
     "metadata": {},
     "outputs": [],
     "prompt_number": 3
    },
    {
     "cell_type": "code",
     "collapsed": false,
     "input": [
      "path = \"/data/20180827/bead2/dipole_wobble/100VDC/tf_10Vdrive_500Hz_2000Hz\"\n",
      "files  = bu.find_all_fnames(path)"
     ],
     "language": "python",
     "metadata": {},
     "outputs": [
      {
       "output_type": "stream",
       "stream": "stdout",
       "text": [
        "Finding files in: \n",
        "/data/20180827/bead2/dipole_wobble/100VDC/tf_10Vdrive_500Hz_2000Hz\n"
       ]
      },
      {
       "output_type": "stream",
       "stream": "stdout",
       "text": [
        "Found 1000 files...\n"
       ]
      }
     ],
     "prompt_number": 4
    },
    {
     "cell_type": "code",
     "collapsed": false,
     "input": [
      "df = bu.DataFile()\n",
      "df.load(files[6])\n",
      "df.calibrate_stage_position()\n",
      "df.diagonalize()\n",
      "df.load_other_data()"
     ],
     "language": "python",
     "metadata": {},
     "outputs": [],
     "prompt_number": 5
    },
    {
     "cell_type": "code",
     "collapsed": false,
     "input": [
      "files[6]"
     ],
     "language": "python",
     "metadata": {},
     "outputs": [
      {
       "metadata": {},
       "output_type": "pyout",
       "prompt_number": 19,
       "text": [
        "'/data/20180827/bead2/dipole_wobble/100VDC/tf_10Vdrive_500Hz_2000Hz/monitor_ai6_synth10000mV982Hz0mVdc.h5'"
       ]
      }
     ],
     "prompt_number": 19
    },
    {
     "cell_type": "code",
     "collapsed": false,
     "input": [
      "psd, freqs = matplotlib.mlab.psd(df.other_data[6], Fs = 5000, NFFT = len(df.other_data[7]))\n",
      "psd2 = np.abs(np.fft.rfft(df.other_data[6]))**2\n",
      "plt.loglog(freqs, psd2)\n",
      "plt.show()"
     ],
     "language": "python",
     "metadata": {},
     "outputs": [],
     "prompt_number": 23
    },
    {
     "cell_type": "code",
     "collapsed": false,
     "input": [
      "df.get_force_v_pos()\n",
      "df.get_cant_drive_ax()"
     ],
     "language": "python",
     "metadata": {},
     "outputs": [
      {
       "metadata": {},
       "output_type": "pyout",
       "prompt_number": 36,
       "text": [
        "0"
       ]
      }
     ],
     "prompt_number": 36
    },
    {
     "cell_type": "code",
     "collapsed": false,
     "input": [
      "plt.plot(np.array(df.binned_data)[2, 0, :])\n",
      "plt.show()"
     ],
     "language": "python",
     "metadata": {},
     "outputs": [],
     "prompt_number": 32
    },
    {
     "cell_type": "code",
     "collapsed": false,
     "input": [
      "np.zeros((1, 2))"
     ],
     "language": "python",
     "metadata": {},
     "outputs": [
      {
       "metadata": {},
       "output_type": "pyout",
       "prompt_number": 25,
       "text": [
        "array([[0., 0.]])"
       ]
      }
     ],
     "prompt_number": 25
    },
    {
     "cell_type": "code",
     "collapsed": false,
     "input": [
      "Ns = 50000\n",
      "Fs = 5000.\n",
      "fdrive_min = 499.\n",
      "freqs = np.fft.rfftfreq(Ns, d = 1./Fs)\n",
      "mind = np.argmin(np.abs(freqs - fdrive_min))\n",
      "drives = np.zeros(len(files), dtype = complex)\n",
      "resp = np.zeros((3, len(files)), dtype = complex)\n",
      "dfreqs = np.zeros(len(files))\n",
      "dax = 6\n",
      "plot = False\n",
      "\n",
      "for i, f in enumerate(files):\n",
      "    df = bu.DataFile()\n",
      "    try:\n",
      "        df.load(f)\n",
      "        df.load_other_data()\n",
      "        drive_fft = np.fft.rfft(df.other_data[dax])\n",
      "        drive_ind = np.argmax(np.abs(drive_fft)[mind:]) + mind\n",
      "        drives[i] = drive_fft[drive_ind]\n",
      "        df.diagonalize()\n",
      "        df.conv_facs *= np.ones_like(df.conv_facs)*2./Ns\n",
      "        #df.get_force_v_pos()\n",
      "        fft = np.einsum('ij, i-> ij', np.fft.rfft(df.pos_data, axis = -1), df.conv_facs)\n",
      "        resp[:, i] = fft[:, drive_ind]\n",
      "        dfreqs[i] = freqs[drive_ind]\n",
      "        if plot:\n",
      "            plt.loglog(freqs, np.abs(drive_fft))\n",
      "            plt.loglog(freqs[drive_ind], np.abs(drive_fft[drive_ind]), 'o')\n",
      "            plt.show()\n",
      "            \n",
      "    except IndexError:\n",
      "        drives[i] = np.nan\n",
      "        resp[:, i] = np.nan\n",
      "    "
     ],
     "language": "python",
     "metadata": {},
     "outputs": [],
     "prompt_number": 34
    },
    {
     "cell_type": "code",
     "collapsed": false,
     "input": [
      "tf = np.einsum('ij, j->ij', resp, 1./drives)\n",
      "f, axarr = plt.subplots(3, 1, sharex = True)\n",
      "axarr[0].semilogx(dfreqs, np.angle(tf[0]), 'o', color = 'C0', label = 'x')\n",
      "axarr[0].legend(loc = 1)\n",
      "axarr[1].semilogx(dfreqs, np.angle(tf[1]), 'o', color = 'C1', label = 'y')\n",
      "axarr[1].legend(loc = 1)\n",
      "axarr[2].semilogx(dfreqs, np.angle(tf[2]), 'o', color = 'C2',label = 'z')\n",
      "axarr[2].legend(loc = 1)\n",
      "plt.xlabel(\"frequency[Hz]\")\n",
      "axarr[1].set_ylabel(\"phase angle [rad]\")\n",
      "plt.show()"
     ],
     "language": "python",
     "metadata": {},
     "outputs": [],
     "prompt_number": 54
    },
    {
     "cell_type": "code",
     "collapsed": false,
     "input": [
      "plt.plot(z, 'o')\n",
      "plt.show()"
     ],
     "language": "python",
     "metadata": {},
     "outputs": [],
     "prompt_number": 61
    },
    {
     "cell_type": "code",
     "collapsed": false,
     "input": [
      "fig, ax = plt.subplots()\n",
      "q = ax.quiver(100-x, z-13, np.imag(fx), -np.imag(fz),color = 'r',  label = \"shield\")\n",
      "q = ax.quiver(100-xns, zns-13, np.imag(fxns), -np.imag(fzns), label = \"no shield\")\n",
      "plt.xlabel(r\"separation [$\\mu m$], $f_{x}$\")\n",
      "plt.ylabel(r\"height [$\\mu m$], $f_{z}$\")\n",
      "ax.legend()\n",
      "ax.quiverkey(q, X = 0.5, Y = 1.05, U = 10**-13, label = r'length = $10^{-13}$N')\n",
      "plt.show()"
     ],
     "language": "python",
     "metadata": {},
     "outputs": [],
     "prompt_number": 50
    }
   ],
   "metadata": {}
  }
 ]
}