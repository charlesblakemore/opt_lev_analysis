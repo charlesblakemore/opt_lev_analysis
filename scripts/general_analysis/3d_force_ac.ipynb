{
 "metadata": {
  "name": ""
 },
 "nbformat": 3,
 "nbformat_minor": 0,
 "worksheets": [
  {
   "cells": [
    {
     "cell_type": "code",
     "collapsed": false,
     "input": [
      "import numpy as np\n",
      "import matplotlib.pyplot as plt\n",
      "import matplotlib.mlab\n",
      "from sklearn.cluster import KMeans"
     ],
     "language": "python",
     "metadata": {},
     "outputs": [],
     "prompt_number": 213
    },
    {
     "cell_type": "code",
     "collapsed": false,
     "input": [
      "from scipy.optimize import curve_fit"
     ],
     "language": "python",
     "metadata": {},
     "outputs": [],
     "prompt_number": 78
    },
    {
     "cell_type": "code",
     "collapsed": false,
     "input": [
      "import bead_util as bu"
     ],
     "language": "python",
     "metadata": {},
     "outputs": [],
     "prompt_number": 3
    },
    {
     "cell_type": "code",
     "collapsed": false,
     "input": [
      "path = \"/data/20180904/bead1/recharged_20180909/cant_force/acgrid_3freqs_10s\"\n",
      "files  = bu.find_all_fnames(path)"
     ],
     "language": "python",
     "metadata": {},
     "outputs": [
      {
       "output_type": "stream",
       "stream": "stdout",
       "text": [
        "Finding files in: \n",
        "/data/20180904/bead1/recharged_20180909/cant_force/acgrid_3freqs_10s\n"
       ]
      },
      {
       "output_type": "stream",
       "stream": "stdout",
       "text": [
        "Found 1000 files...\n"
       ]
      }
     ],
     "prompt_number": 199
    },
    {
     "cell_type": "code",
     "collapsed": false,
     "input": [
      "df = bu.DataFile()\n",
      "df.load(files[0])\n",
      "df.calibrate_stage_position()\n",
      "df.diagonalize()"
     ],
     "language": "python",
     "metadata": {},
     "outputs": [],
     "prompt_number": 200
    },
    {
     "cell_type": "code",
     "collapsed": false,
     "input": [
      "len(df.electrode_data[0])"
     ],
     "language": "python",
     "metadata": {},
     "outputs": [
      {
       "metadata": {},
       "output_type": "pyout",
       "prompt_number": 195,
       "text": [
        "50000"
       ]
      }
     ],
     "prompt_number": 195
    },
    {
     "cell_type": "code",
     "collapsed": false,
     "input": [
      "freqs = np.fft.rfftfreq(50000, d = 1./5000)\n",
      "plt.loglog(freqs, np.abs(np.fft.rfft(df.pos_data[0])))\n",
      "plt.show()"
     ],
     "language": "python",
     "metadata": {},
     "outputs": [],
     "prompt_number": 198
    },
    {
     "cell_type": "code",
     "collapsed": false,
     "input": [
      "img = np.load(files[8].split('.')[0] + '.h5.npy')\n",
      "plt.imshow(img)\n",
      "plt.show()"
     ],
     "language": "python",
     "metadata": {},
     "outputs": [],
     "prompt_number": 69
    },
    {
     "cell_type": "code",
     "collapsed": false,
     "input": [
      "np.mean(df.cant_data, axis = -1)"
     ],
     "language": "python",
     "metadata": {},
     "outputs": [
      {
       "metadata": {},
       "output_type": "pyout",
       "prompt_number": 29,
       "text": [
        "array([37.37907866, 39.75082725,  8.6098076 ])"
       ]
      }
     ],
     "prompt_number": 29
    },
    {
     "cell_type": "code",
     "collapsed": false,
     "input": [
      "df.get_force_v_pos()\n",
      "df.get_cant_drive_ax()"
     ],
     "language": "python",
     "metadata": {},
     "outputs": [
      {
       "metadata": {},
       "output_type": "pyout",
       "prompt_number": 36,
       "text": [
        "0"
       ]
      }
     ],
     "prompt_number": 36
    },
    {
     "cell_type": "code",
     "collapsed": false,
     "input": [
      "plt.plot(np.array(df.binned_data)[2, 0, :])\n",
      "plt.show()"
     ],
     "language": "python",
     "metadata": {},
     "outputs": [],
     "prompt_number": 32
    },
    {
     "cell_type": "code",
     "collapsed": false,
     "input": [
      "Ns = 50000\n",
      "Fs = 5000.\n",
      "freqs = np.fft.rfftfreq(Ns, d = 1./Fs)\n",
      "dfreq = 47.\n",
      "dind = np.argmin(np.abs(freqs - dfreq))\n",
      "x = []\n",
      "y = []\n",
      "z = []\n",
      "fx = []\n",
      "fy = []\n",
      "fz = []\n",
      "for f in files:\n",
      "    df = bu.DataFile()\n",
      "    try:\n",
      "        df.load(f)\n",
      "    except:\n",
      "        continue\n",
      "    df.calibrate_stage_position()\n",
      "    df.diagonalize()\n",
      "    #df.get_force_v_pos()\n",
      "    dax = df.get_cant_drive_ax()\n",
      "    dcp = np.mean(df.cant_data, axis = -1)\n",
      "    fft = np.fft.rfft(df.diag_pos_data, axis = -1)\n",
      "    x.append(dcp[0])\n",
      "    y.append(dcp[1])\n",
      "    z.append(dcp[2])\n",
      "    df.conv_facs = np.ones_like(df.conv_facs)\n",
      "    fx.append(fft[0, dind]*2.*df.conv_facs[0]/Ns)\n",
      "    fy.append(fft[1, dind]*2.*df.conv_facs[1]/Ns)\n",
      "    fz.append(fft[2, dind]*2.*df.conv_facs[2]/Ns)\n",
      "    \n",
      "x = np.array(x)\n",
      "y = np.array(y)\n",
      "z = np.array(z)\n",
      "fx = np.array(fx)\n",
      "fy = np.array(fy)\n",
      "fz = np.array(fz)"
     ],
     "language": "python",
     "metadata": {},
     "outputs": [],
     "prompt_number": 202
    },
    {
     "cell_type": "code",
     "collapsed": false,
     "input": [
      "ig = np.linspace(0, 80, 10)\n",
      "xs = KMeans(n_clusters = 10, init = ig.reshape(10, 1)).fit(x.reshape(len(x), 1)).cluster_centers_\n",
      "ys = KMeans(n_clusters = 10, init = ig.reshape(10, 1)).fit(y.reshape(len(y), 1)).cluster_centers_\n",
      "zs = KMeans(n_clusters = 10, init = ig.reshape(10, 1)).fit(z.reshape(len(z), 1)).cluster_centers_\n",
      "plt.plot(xs, zs, 'o')\n",
      "plt.show()\n"
     ],
     "language": "python",
     "metadata": {},
     "outputs": [],
     "prompt_number": 239
    },
    {
     "cell_type": "code",
     "collapsed": false,
     "input": [
      "plt.plot(100-x[bt], np.sqrt(np.abs(fx[bt])**2 + np.abs(fy[bt])**2 + np.abs(fz[bt])**2), 'o')\n",
      "#plt.plot(100-x[bt], np.abs(fy[bt]), 'o', label = \"Y\", alpha = 0.5)\n",
      "#plt.plot(100-x[bt], np.abs(fz[bt]), 'o', label = \"Z\", alpha = 0.25)\n",
      "plt.xlabel(r\"separation [$\\mu m$]\")\n",
      "plt.legend()\n",
      "plt.ylabel(\"|F| [N]\")\n",
      "plt.show()"
     ],
     "language": "python",
     "metadata": {},
     "outputs": [],
     "prompt_number": 279
    },
    {
     "cell_type": "code",
     "collapsed": false,
     "input": [
      "plt.plot(z, 'o')\n",
      "plt.show()"
     ],
     "language": "python",
     "metadata": {},
     "outputs": [],
     "prompt_number": 61
    },
    {
     "cell_type": "code",
     "collapsed": false,
     "input": [
      "fig, ax = plt.subplots()\n",
      "q = ax.quiver(100-x[bt], z[bt]-13, np.imag(fx[bt]), np.imag(fy[bt]))#,color = 'r',  label = \"shield\")\n",
      "#q = ax.quiver(100-xns, zns-13, np.imag(fxns), -np.imag(fzns), label = \"no shield\")\n",
      "plt.xlabel(r\"separation [$\\mu m$], $f_{y}$\")\n",
      "plt.ylabel(r\"height [$\\mu m$], $f_{z}$\")\n",
      "ax.legend()\n",
      "ax.quiverkey(q, X = 0.5, Y = 1.05, U = 10**-17, label = r'length = $10^{-17}$N')\n",
      "plt.show()"
     ],
     "language": "python",
     "metadata": {},
     "outputs": [],
     "prompt_number": 270
    },
    {
     "cell_type": "code",
     "collapsed": false,
     "input": [
      "def gauss(x, mu, sig, A):\n",
      "    return A*(1./np.sqrt(2.*np.pi*sig**2))*np.exp(-1.*(x-mu)**2/(2.*sig**2))"
     ],
     "language": "python",
     "metadata": {},
     "outputs": [],
     "prompt_number": 151
    },
    {
     "cell_type": "code",
     "collapsed": false,
     "input": [
      "ptest = [0., 1.]\n",
      "x = np.linspace(-5, 5, 1000)\n",
      "plt.plot(x, gauss(x, *ptest))\n",
      "plt.show()"
     ],
     "language": "python",
     "metadata": {},
     "outputs": [],
     "prompt_number": 77
    },
    {
     "cell_type": "code",
     "collapsed": false,
     "input": [
      "def fit_gauss(arr, bins = 20, scale = 10**-18, p0 = [0., 10, 30]):\n",
      "    bins, xout = np.histogram(arr, bins = bins)\n",
      "    xcent = (xout[:-1] + xout[1:])/(2.*scale)\n",
      "    popt, pcov = curve_fit(gauss, xcent, bins, p0 = p0)\n",
      "    return popt, xcent*scale, bins"
     ],
     "language": "python",
     "metadata": {},
     "outputs": [],
     "prompt_number": 265
    },
    {
     "cell_type": "code",
     "collapsed": false,
     "input": [
      "scale = 10**-18\n",
      "bx = np.abs(fx)<10**-15\n",
      "by = np.abs(fy)<10**-15\n",
      "bz = np.abs(fz)<10**-15\n",
      "bt = bx*by*bz\n",
      "f, axarr = plt.subplots(3, 1, sharex = True)\n",
      "poptx, xx, binsx = fit_gauss(np.imag(fx[bt]))\n",
      "popty, yy, binsy = fit_gauss(np.imag(fy[bt]))\n",
      "poptz, zz, binsz = fit_gauss(np.imag(fz[bt]))\n",
      "xx/=scale\n",
      "xplt = np.linspace(xx[0], xx[-1], 1000)\n",
      "yy/=scale\n",
      "yplt = np.linspace(yy[0], yy[-1], 1000)\n",
      "zz/=scale\n",
      "zplt = np.linspace(zz[0], zz[-1], 1000)\n",
      "\n",
      "axarr[0].bar(xx, binsx, np.diff(xx)[0], color = 'C0')\n",
      "axarr[0].plot(xplt, gauss(xplt, *poptx), 'r', label = r'$\\sigma_{x} = $' + str(poptx[1])[:4] + 'aN')\n",
      "axarr[0].legend()\n",
      "axarr[0].set_ylabel(\"x counts\")\n",
      "axarr[1].bar(yy, binsy, np.diff(yy)[0], color = 'C1')\n",
      "axarr[1].plot(yplt, gauss(yplt, *popty), 'r', label = r'$\\sigma_{y} = $' + str(popty[1])[:4] + 'aN')\n",
      "axarr[1].legend()\n",
      "axarr[1].set_ylabel(\"y counts\")\n",
      "axarr[2].bar(zz, binsz, np.diff(zz)[0], color = 'C2')\n",
      "axarr[2].plot(zplt, gauss(zplt, *poptz), 'r', label = r'$\\sigma_{z} = $' + str(np.abs(poptz[1]))[:4] + 'aN')\n",
      "axarr[2].legend()\n",
      "axarr[2].set_ylabel(\"z counts\")\n",
      "\n",
      "plt.show()\n"
     ],
     "language": "python",
     "metadata": {},
     "outputs": [],
     "prompt_number": 281
    },
    {
     "cell_type": "code",
     "collapsed": false,
     "input": [
      "poptx"
     ],
     "language": "python",
     "metadata": {},
     "outputs": [
      {
       "metadata": {},
       "output_type": "pyout",
       "prompt_number": 155,
       "text": [
        "array([-6.28890700e-18,  1.38770643e-16,  8.77963890e+00])"
       ]
      }
     ],
     "prompt_number": 155
    },
    {
     "cell_type": "code",
     "collapsed": false,
     "input": [
      "plt.plot(xx, gauss(xx, *poptx))\n",
      "plt.show()"
     ],
     "language": "python",
     "metadata": {},
     "outputs": [],
     "prompt_number": 154
    },
    {
     "cell_type": "code",
     "collapsed": false,
     "input": [
      "x = np.random.rand(10)\n",
      "y = np.random.rand(10)\n",
      "plt.plot(x)\n",
      "plt.plot(y)\n",
      "plt.show()"
     ],
     "language": "python",
     "metadata": {},
     "outputs": [],
     "prompt_number": 114
    },
    {
     "cell_type": "code",
     "collapsed": false,
     "input": [
      "plt.bar(range(10), y, 1)\n",
      "plt.plot(x)\n",
      "plt.show()"
     ],
     "language": "python",
     "metadata": {},
     "outputs": [],
     "prompt_number": 117
    }
   ],
   "metadata": {}
  }
 ]
}