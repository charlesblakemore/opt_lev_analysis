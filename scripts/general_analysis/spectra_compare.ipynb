{
 "metadata": {
  "name": ""
 },
 "nbformat": 3,
 "nbformat_minor": 0,
 "worksheets": [
  {
   "cells": [
    {
     "cell_type": "code",
     "collapsed": false,
     "input": [
      "import numpy as np\n",
      "import matplotlib.pyplot as plt\n",
      "import matplotlib.mlab\n",
      "import scipy.signal as ss\n"
     ],
     "language": "python",
     "metadata": {},
     "outputs": [],
     "prompt_number": 20
    },
    {
     "cell_type": "code",
     "collapsed": false,
     "input": [
      "import bead_util as bu"
     ],
     "language": "python",
     "metadata": {},
     "outputs": [],
     "prompt_number": 2
    },
    {
     "cell_type": "code",
     "collapsed": false,
     "input": [
      "f1 = \"/data/20180904/bead1/tf_20180907/elec3/pump_mbar_zcool_open_gate_0.h5\"\n",
      "f2 = \"/data/20180904/bead1/pump_down_tf/pump_mbar_zcool_open_gate_117.h5\"\n",
      "df1 = bu.DataFile()\n",
      "df1.load(f1)\n",
      "df1.diagonalize()\n",
      "df2 = bu.DataFile()\n",
      "df2.load(f2)\n",
      "df2.diagonalize()"
     ],
     "language": "python",
     "metadata": {},
     "outputs": [],
     "prompt_number": 5
    },
    {
     "cell_type": "code",
     "collapsed": false,
     "input": [
      "def freq_to_ind(freqs_vect, freqs_list):\n",
      "    inds = np.zeros_like(range(len(freqs_list)))\n",
      "    for i, f in enumerate(freqs_list):\n",
      "        inds[i] = np.argmin(np.abs(freqs_vect - f))\n",
      "    return inds"
     ],
     "language": "python",
     "metadata": {},
     "outputs": [],
     "prompt_number": 37
    },
    {
     "cell_type": "code",
     "collapsed": false,
     "input": [
      "drive_inds = freq_to_ind(freqs, np.linspace(1, 600, 100))"
     ],
     "language": "python",
     "metadata": {},
     "outputs": [],
     "prompt_number": 40
    },
    {
     "cell_type": "code",
     "collapsed": false,
     "input": [
      "psdx1, freqs = matplotlib.mlab.psd(df1.pos_data[0]*df1.conv_facs[0], NFFT = len(df1.pos_data[0]), Fs = 5000)\n",
      "psdx2, freqs = matplotlib.mlab.psd(df2.pos_data[0]*df1.conv_facs[0], NFFT = len(df1.pos_data[0]), Fs = 5000)\n",
      "n1 = ss.medfilt(psdx1, kernel_size = 49)\n",
      "n2 = ss.medfilt(psdx2, kernel_size = 49)\n",
      "plt.loglog(freqs, np.sqrt(psdx1), '.', alpha  = 0.15, label = \"data low noise\")\n",
      "\n",
      "#plt.loglog(freqs[drive_inds], np.sqrt(psdx2[drive_inds]), 'o')\n",
      "plt.loglog(freqs, np.sqrt(psdx2), '.', alpha = 0.15, label = \"data high noise\")\n",
      "plt.loglog(freqs, np.sqrt(n1), label = \"median low noise\")\n",
      "plt.loglog(freqs, np.sqrt(n2), label = \"median high noise\")\n",
      "plt.loglog(freqs[drive_inds], np.sqrt(psdx1[drive_inds]), 'o', label = \"driven tones\")\n",
      "plt.xlabel(\"Frequency [Hz]\")\n",
      "plt.ylabel(r\"displacement ASD*k [N/$\\sqrt{Hz}$]\")\n",
      "plt.legend()\n",
      "plt.show()"
     ],
     "language": "python",
     "metadata": {},
     "outputs": [],
     "prompt_number": 46
    }
   ],
   "metadata": {}
  }
 ]
}