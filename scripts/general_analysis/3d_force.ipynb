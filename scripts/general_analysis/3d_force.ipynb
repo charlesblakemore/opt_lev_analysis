{
 "metadata": {
  "name": ""
 },
 "nbformat": 3,
 "nbformat_minor": 0,
 "worksheets": [
  {
   "cells": [
    {
     "cell_type": "code",
     "collapsed": false,
     "input": [
      "import numpy as np\n",
      "import matplotlib.pyplot as plt\n",
      "import matplotlib.mlab\n"
     ],
     "language": "python",
     "metadata": {},
     "outputs": [],
     "prompt_number": 1
    },
    {
     "cell_type": "code",
     "collapsed": false,
     "input": [
      "import bead_util as bu"
     ],
     "language": "python",
     "metadata": {},
     "outputs": [],
     "prompt_number": 3
    },
    {
     "cell_type": "code",
     "collapsed": false,
     "input": [
      "path = \"/data/20180827/bead2/dipole_v_height_dc\"\n",
      "files  = bu.find_all_fnames(path)"
     ],
     "language": "python",
     "metadata": {},
     "outputs": [
      {
       "output_type": "stream",
       "stream": "stdout",
       "text": [
        "Finding files in: \n",
        "/data/20180827/bead2/dipole_v_height_dc\n"
       ]
      },
      {
       "output_type": "stream",
       "stream": "stdout",
       "text": [
        "Found 25 files...\n"
       ]
      }
     ],
     "prompt_number": 62
    },
    {
     "cell_type": "code",
     "collapsed": false,
     "input": [
      "df = bu.DataFile()\n",
      "df.load(files[6])\n",
      "df.calibrate_stage_position()\n",
      "df.diagonalize()"
     ],
     "language": "python",
     "metadata": {},
     "outputs": [],
     "prompt_number": 17
    },
    {
     "cell_type": "code",
     "collapsed": false,
     "input": [
      "np.mean(df.cant_data, axis = -1)"
     ],
     "language": "python",
     "metadata": {},
     "outputs": [
      {
       "metadata": {},
       "output_type": "pyout",
       "prompt_number": 29,
       "text": [
        "array([37.37907866, 39.75082725,  8.6098076 ])"
       ]
      }
     ],
     "prompt_number": 29
    },
    {
     "cell_type": "code",
     "collapsed": false,
     "input": [
      "df.get_force_v_pos()\n",
      "df.get_cant_drive_ax()"
     ],
     "language": "python",
     "metadata": {},
     "outputs": [
      {
       "metadata": {},
       "output_type": "pyout",
       "prompt_number": 36,
       "text": [
        "0"
       ]
      }
     ],
     "prompt_number": 36
    },
    {
     "cell_type": "code",
     "collapsed": false,
     "input": [
      "plt.plot(np.array(df.binned_data)[2, 0, :])\n",
      "plt.show()"
     ],
     "language": "python",
     "metadata": {},
     "outputs": [],
     "prompt_number": 32
    },
    {
     "cell_type": "code",
     "collapsed": false,
     "input": [
      "d_res = 5\n",
      "x = []\n",
      "y = []\n",
      "z = []\n",
      "fx = []\n",
      "fy = []\n",
      "fz = []\n",
      "for f in files:\n",
      "    df = bu.DataFile()\n",
      "    df.load(f)\n",
      "    df.calibrate_stage_position()\n",
      "    df.diagonalize()\n",
      "    df.get_force_v_pos()\n",
      "    dax = df.get_cant_drive_ax()\n",
      "    dcp = np.mean(df.cant_data, axis = -1)\n",
      "    x.append(np.array(df.binned_data)[0, 0, ::d_res])\n",
      "    y.append(np.ones_like(df.binned_data)[0, 0, ::d_res]*dcp[1])\n",
      "    z.append(np.ones_like(df.binned_data)[0, 0, ::d_res]*dcp[2])\n",
      "    fx.append(np.array(df.binned_data)[0, 1, ::d_res]*df.conv_facs[0])\n",
      "    fy.append(np.array(df.binned_data)[1, 1, ::d_res]*df.conv_facs[1])\n",
      "    fz.append(np.array(df.binned_data)[2, 1, ::d_res]*df.conv_facs[2])\n",
      "    \n",
      "x = np.array(x)\n",
      "y = np.array(y)\n",
      "z = np.array(z)\n",
      "fx = np.array(fx)\n",
      "fy = np.array(fy)\n",
      "fz = np.array(fz)"
     ],
     "language": "python",
     "metadata": {},
     "outputs": [],
     "prompt_number": 64
    },
    {
     "cell_type": "code",
     "collapsed": false,
     "input": [
      "len(z)"
     ],
     "language": "python",
     "metadata": {},
     "outputs": [
      {
       "metadata": {},
       "output_type": "pyout",
       "prompt_number": 63,
       "text": [
        "10"
       ]
      }
     ],
     "prompt_number": 63
    },
    {
     "cell_type": "code",
     "collapsed": false,
     "input": [
      "plt.plot(z, 'o')\n",
      "plt.show()"
     ],
     "language": "python",
     "metadata": {},
     "outputs": [],
     "prompt_number": 61
    },
    {
     "cell_type": "code",
     "collapsed": false,
     "input": [
      "fig, ax = plt.subplots()\n",
      "q = ax.quiver(100-x, z-7, fx, -fz)\n",
      "plt.xlabel(r\"separation [$\\mu m$]\")\n",
      "plt.ylabel(r\"height [$\\mu m$]\")\n",
      "plt.show()"
     ],
     "language": "python",
     "metadata": {},
     "outputs": [],
     "prompt_number": 65
    }
   ],
   "metadata": {}
  }
 ]
}