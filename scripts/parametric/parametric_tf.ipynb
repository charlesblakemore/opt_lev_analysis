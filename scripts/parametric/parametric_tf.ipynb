{
 "metadata": {
  "name": ""
 },
 "nbformat": 3,
 "nbformat_minor": 0,
 "worksheets": [
  {
   "cells": [
    {
     "cell_type": "code",
     "collapsed": false,
     "input": [
      "import numpy as np\n",
      "import matplotlib.pyplot as plt\n",
      "\n",
      "import scipy.signal as ss"
     ],
     "language": "python",
     "metadata": {},
     "outputs": [],
     "prompt_number": 3
    },
    {
     "cell_type": "code",
     "collapsed": false,
     "input": [
      "import re"
     ],
     "language": "python",
     "metadata": {},
     "outputs": [],
     "prompt_number": 7
    },
    {
     "cell_type": "code",
     "collapsed": false,
     "input": [
      "import bead_util as bu"
     ],
     "language": "python",
     "metadata": {},
     "outputs": [],
     "prompt_number": 4
    },
    {
     "cell_type": "code",
     "collapsed": false,
     "input": [
      "Ns = 50000\n",
      "Fs = 5000.\n",
      "h_bin_bw = 10\n",
      "h_bin_bw_int = 1"
     ],
     "language": "python",
     "metadata": {},
     "outputs": [],
     "prompt_number": 64
    },
    {
     "cell_type": "code",
     "collapsed": false,
     "input": [
      "path = \"/data/20180927/bead1/parametric_tf/sweep_`10Hz_1kHz\"\n",
      "files = bu.find_all_fnames(path)"
     ],
     "language": "python",
     "metadata": {},
     "outputs": [
      {
       "output_type": "stream",
       "stream": "stdout",
       "text": [
        "Finding files in: \n",
        "/data/20180927/bead1/parametric_tf/sweep_`10Hz_1kHz\n"
       ]
      },
      {
       "output_type": "stream",
       "stream": "stdout",
       "text": [
        "Found 900 files...\n"
       ]
      }
     ],
     "prompt_number": 71
    },
    {
     "cell_type": "code",
     "collapsed": false,
     "input": [
      "df = bu.DataFile()\n",
      "df.load(files[0])"
     ],
     "language": "python",
     "metadata": {},
     "outputs": [],
     "prompt_number": 6
    },
    {
     "cell_type": "code",
     "collapsed": false,
     "input": [
      "freqs = np.fft.rfftfreq(Ns, 1./Fs)"
     ],
     "language": "python",
     "metadata": {},
     "outputs": [],
     "prompt_number": 23
    },
    {
     "cell_type": "code",
     "collapsed": false,
     "input": [
      "def get_freq(fname):\n",
      "    return float(re.findall('\\d+Hz', fname)[-1][:-2])\n",
      "def get_find(freq):\n",
      "    return np.argmin(np.abs(freq-freqs))\n",
      "\n"
     ],
     "language": "python",
     "metadata": {},
     "outputs": [],
     "prompt_number": 56
    },
    {
     "cell_type": "code",
     "collapsed": false,
     "input": [
      "dfreqs = []\n",
      "drives = []\n",
      "resps = []\n",
      "resps_hf = []\n",
      "for f in files:\n",
      "    df.load(f)\n",
      "    ig = get_find(get_freq(f))\n",
      "    rfft = np.fft.rfft(ss.detrend(df.pos_data, axis = -1), axis = -1)\n",
      "    dfft = np.fft.rfft(ss.detrend(df.pos_fb[2], axis = -1))\n",
      "    adfft = np.abs(dfft)\n",
      "    adfft[np.abs(ig-np.arange(len(freqs)))>h_bin_bw] = 0.\n",
      "    dind = np.argmax(adfft)\n",
      "    h_dind = np.argmin(np.abs(freqs-freqs[dind]/2.))\n",
      "    mask = np.abs(dind - np.arange(len(freqs)))<h_bin_bw_int\n",
      "    mask_h = np.abs(h_dind - np.arange(len(freqs)))<h_bin_bw_int\n",
      "    dfreqs.append(freqs[dind])\n",
      "    drives.append(np.sum(dfft[mask]))\n",
      "    resps.append(np.sum(rfft[:, mask], axis = -1))\n",
      "    resps_hf.append(np.sum(rfft[:, mask_h], axis = -1))\n",
      "    #plt.loglog(freqs, np.abs(np.fft.rfft(df.pos_fb[2])))\n",
      "    #plt.loglog(freqs[dind], np.abs(np.fft.rfft(df.pos_fb[2]))[dind], 'o')\n",
      "    #plt.show()\n",
      "    "
     ],
     "language": "python",
     "metadata": {},
     "outputs": [],
     "prompt_number": 72
    },
    {
     "cell_type": "code",
     "collapsed": false,
     "input": [
      "plt.loglog(np.array(dfreqs), np.abs(np.array(resps_hf)[:, 0])*df.conv_facs[0]*2/Ns, 'o', label = \"X\")\n",
      "plt.loglog(np.array(dfreqs), np.abs(np.array(resps_hf)[:, 1])*df.conv_facs[1]*2/Ns, 'o', label = \"Y\")\n",
      "plt.xlabel(\"Drive Frequency [Hz]\")\n",
      "plt.ylabel(\"Response amplitude at half drive Drequency [N]\")\n",
      "#plt.loglog(np.array(dfreqs), np.abs(np.array(resps)[:, 0]), 'o')\n",
      "plt.legend()\n",
      "plt.show()"
     ],
     "language": "python",
     "metadata": {},
     "outputs": [],
     "prompt_number": 92
    },
    {
     "cell_type": "code",
     "collapsed": false,
     "input": [
      "ri650 = np.argmin(np.abs(np.array(dfreqs)-650))\n",
      "ri700 = np.argmin(np.abs(np.array(dfreqs)-700))\n",
      "ri750 = np.argmin(np.abs(np.array(dfreqs)-750))"
     ],
     "language": "python",
     "metadata": {},
     "outputs": [],
     "prompt_number": 93
    },
    {
     "cell_type": "code",
     "collapsed": false,
     "input": [
      "def get_asd(datd, axis = 0):\n",
      "    return np.abs(np.fft.rfft(ss.detrend(datd.pos_data[axis])))*datd.conv_facs[axis]*2./Ns\n",
      "def get_asd_freq(freq):\n",
      "    ri = np.argmin(np.abs(np.array(dfreqs)-freq))\n",
      "    df.load(files[ri])\n",
      "    return get_asd(df)"
     ],
     "language": "python",
     "metadata": {},
     "outputs": [],
     "prompt_number": 105
    },
    {
     "cell_type": "code",
     "collapsed": false,
     "input": [
      "df.diagonalize()\n",
      "a650 = get_asd_freq(698)\n",
      "a700 = get_asd_freq(700)\n",
      "a750 = get_asd_freq(702)\n",
      "plt.loglog(freqs, a650, label = \"698 Hz Drive\")\n",
      "plt.loglog(freqs, a700, label = \"700 Hz Drive\")\n",
      "plt.loglog(freqs, a750, label = \"702 Hz Drive\")\n",
      "plt.xlabel(\"Frequency\")\n",
      "plt.ylabel(\"Response [N]\")\n",
      "plt.legend()\n",
      "plt.show()"
     ],
     "language": "python",
     "metadata": {},
     "outputs": [],
     "prompt_number": 110
    },
    {
     "cell_type": "code",
     "collapsed": false,
     "input": [
      "r_angle_hf = np.angle(np.array(resps))\n"
     ],
     "language": "python",
     "metadata": {},
     "outputs": [],
     "prompt_number": 118
    },
    {
     "cell_type": "code",
     "collapsed": false,
     "input": [
      "plt.plot(dfreqs, np.abs(drives), 'o')\n",
      "plt.show()\n"
     ],
     "language": "python",
     "metadata": {},
     "outputs": [],
     "prompt_number": 121
    },
    {
     "cell_type": "code",
     "collapsed": false,
     "input": [
      "b = np.abs(np.array(dfreqs)-700)<20\n",
      "plt.plot(np.array(dfreqs)[b], r_angle_hf[b], 'o')\n",
      "plt.show()"
     ],
     "language": "python",
     "metadata": {},
     "outputs": [],
     "prompt_number": 119
    }
   ],
   "metadata": {}
  }
 ]
}